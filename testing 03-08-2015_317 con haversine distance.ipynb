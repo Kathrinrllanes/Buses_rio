{
 "cells": [
  {
   "cell_type": "code",
   "execution_count": 1,
   "metadata": {
    "collapsed": false,
    "scrolled": true
   },
   "outputs": [],
   "source": [
    "import pandas as pd\n",
    "from pymongo import MongoClient, GEO2D\n",
    "import pymongo\n",
    "import json\n",
    "import datetime\n",
    "from bson.son import SON\n",
    "import folium \n",
    "from math import *\n",
    "import numpy as np\n",
    "from IPython.display import display\n",
    "import matplotlib.pyplot as plt\n",
    "import plotly.plotly as py\n",
    "from plotly.graph_objs import *\n",
    "\n",
    "\n"
   ]
  },
  {
   "cell_type": "code",
   "execution_count": 10,
   "metadata": {
    "collapsed": false
   },
   "outputs": [],
   "source": [
    "df_20150803 = pd.read_csv('/home/kathrin/Doctorado/bus_rio/Datos_Omnibus/morte_motoqueiro_20150817/20150803.txt', delimiter = ('\\t'))\n"
   ]
  },
  {
   "cell_type": "code",
   "execution_count": 11,
   "metadata": {
    "collapsed": false
   },
   "outputs": [],
   "source": [
    "df_20150803_line_317 = df_20150803[(df_20150803['line']=='317')]\n"
   ]
  },
  {
   "cell_type": "code",
   "execution_count": 12,
   "metadata": {
    "collapsed": true
   },
   "outputs": [],
   "source": [
    "#Estableciendo la conexion con la base de datos morte_motoquiro en MongoDB\n",
    "db = MongoClient().morte_motoquiro_event"
   ]
  },
  {
   "cell_type": "code",
   "execution_count": 13,
   "metadata": {
    "collapsed": true
   },
   "outputs": [],
   "source": [
    "onibus317_shapes = pd.read_csv('/home/kathrin/Doctorado/bus_rio/Datos_Omnibus/Onibus/Shapes/gtfs_linha317-shapes.csv')"
   ]
  },
  {
   "cell_type": "code",
   "execution_count": 14,
   "metadata": {
    "collapsed": false
   },
   "outputs": [
    {
     "data": {
      "text/html": [
       "<div>\n",
       "<table border=\"1\" class=\"dataframe\">\n",
       "  <thead>\n",
       "    <tr style=\"text-align: right;\">\n",
       "      <th></th>\n",
       "      <th>linha</th>\n",
       "      <th>descricao</th>\n",
       "      <th>agencia</th>\n",
       "      <th>sequencia</th>\n",
       "      <th>shape_id</th>\n",
       "      <th>latitude</th>\n",
       "      <th>longitude</th>\n",
       "    </tr>\n",
       "  </thead>\n",
       "  <tbody>\n",
       "    <tr>\n",
       "      <th>0</th>\n",
       "      <td>317</td>\n",
       "      <td>317-CENTRAL X ALVORADA (VIA TUNEL SANTA BARBAR...</td>\n",
       "      <td>Fetranspor</td>\n",
       "      <td>0</td>\n",
       "      <td>17424059</td>\n",
       "      <td>-22.9049</td>\n",
       "      <td>-43.1917</td>\n",
       "    </tr>\n",
       "    <tr>\n",
       "      <th>1041</th>\n",
       "      <td>317</td>\n",
       "      <td>317-CENTRAL X ALVORADA (VIA TUNEL SANTA BARBAR...</td>\n",
       "      <td>Fetranspor</td>\n",
       "      <td>0</td>\n",
       "      <td>17589381</td>\n",
       "      <td>-23.0012</td>\n",
       "      <td>-43.3649</td>\n",
       "    </tr>\n",
       "  </tbody>\n",
       "</table>\n",
       "</div>"
      ],
      "text/plain": [
       "      linha                                          descricao     agencia  \\\n",
       "0       317  317-CENTRAL X ALVORADA (VIA TUNEL SANTA BARBAR...  Fetranspor   \n",
       "1041    317  317-CENTRAL X ALVORADA (VIA TUNEL SANTA BARBAR...  Fetranspor   \n",
       "\n",
       "      sequencia  shape_id  latitude  longitude  \n",
       "0             0  17424059  -22.9049   -43.1917  \n",
       "1041          0  17589381  -23.0012   -43.3649  "
      ]
     },
     "execution_count": 14,
     "metadata": {},
     "output_type": "execute_result"
    }
   ],
   "source": [
    "df_initial_point = onibus317_shapes[(onibus317_shapes['sequencia']==0)]\n",
    "df_initial_point"
   ]
  },
  {
   "cell_type": "code",
   "execution_count": 15,
   "metadata": {
    "collapsed": true
   },
   "outputs": [],
   "source": [
    "#Punto inicial del omnibus 317 Central do Brasil\n",
    "initial_point = (-22.9049,-43.1917)\n",
    "#Punto inicial del omnibus invertido\n",
    "inverted_initial_point = (-43.1917, -22.9049)\n",
    "#Punto final del omnibus 317 Centro\n",
    "final_point = (-23.0012, -43.3649)\n",
    "#Punto final del omnibus invertido\n",
    "inverted_final_point = (-43.3649, -23.0012)"
   ]
  },
  {
   "cell_type": "code",
   "execution_count": 24,
   "metadata": {
    "collapsed": true
   },
   "outputs": [],
   "source": [
    "\"\"\"Funciones para renderizar el mapa en el html\"\"\"\n",
    "from IPython.display import HTML\n",
    " \n",
    "def inline_map(map):\n",
    "    \"\"\"\n",
    "    Embeds the HTML source of the map directly into the IPython notebook.\n",
    "    \n",
    "    This method will not work if the map depends on any files (json data). Also this uses\n",
    "    the HTML5 srcdoc attribute, which may not be supported in all browsers.\n",
    "    \"\"\"\n",
    "    map._build_map()\n",
    "    return HTML('<iframe srcdoc=\"{srcdoc}\" style=\"width: 100%; height: 510px; border: none\"></iframe>'.format(srcdoc=map.HTML.replace('\"', '&quot;')))\n",
    " \n",
    "def embed_map(map, path=\"map.html\"):\n",
    "    \"\"\"\n",
    "    Embeds a linked iframe to the map into the IPython notebook.\n",
    "    \n",
    "    Note: this method will not capture the source of the map into the notebook.\n",
    "    This method should work for all maps (as long as they use relative urls).\n",
    "    \"\"\"\n",
    "    map.create_map(path=path)\n",
    "    return HTML('<iframe src=\"files/{path}\" style=\"width: 100%; height: 510px; border: none\"></iframe>'.format(path=path))"
   ]
  },
  {
   "cell_type": "code",
   "execution_count": 42,
   "metadata": {
    "collapsed": false,
    "scrolled": false
   },
   "outputs": [
    {
     "data": {
      "text/html": [
       "<iframe src=\"files/map.html\" style=\"width: 100%; height: 510px; border: none\"></iframe>"
      ],
      "text/plain": [
       "<IPython.core.display.HTML object>"
      ]
     },
     "execution_count": 42,
     "metadata": {},
     "output_type": "execute_result"
    }
   ],
   "source": [
    "fmap317=folium.Map(location=[-22.923714, -43.258999], zoom_start=11)\n",
    "locations317 = []\n",
    "for row in onibus317_shapes.iterrows():\n",
    "    #The 'latitude' and 'longitude' names correspond to column names in the original cceats dataframe\n",
    "    locations317.insert(len(locations317), [ row[1]['latitude'], row[1]['longitude'] ])\n",
    "    \n",
    "#Pintando Circulos de radio de 50m alrededor de los puntos incial y final \n",
    "fmap317.simple_marker(initial_point, popup='Central')\n",
    "fmap317.simple_marker(final_point, popup='Alborada')\n",
    "fmap317.simple_marker((-22.992551 , -43.249098), popup='Morte Motoqueiro')\n",
    "\n",
    "#Punto inicial\n",
    "fmap317.circle_marker(location=final_point, radius=50,line_color='green',\n",
    "                 fill_color='#3186cc', fill_opacity=0.2)\n",
    "\n",
    "#Punto inicial\n",
    "fmap317.circle_marker(location=initial_point, radius=50,line_color='red',\n",
    "                 fill_color='#3186cc', fill_opacity=0.2)\n",
    "\n",
    "fmap317.line(locations317)\n",
    "embed_map(fmap317)"
   ]
  },
  {
   "cell_type": "code",
   "execution_count": 26,
   "metadata": {
    "collapsed": false,
    "scrolled": true
   },
   "outputs": [
    {
     "data": {
      "text/html": [
       "<iframe src=\"files/map.html\" style=\"width: 100%; height: 510px; border: none\"></iframe>"
      ],
      "text/plain": [
       "<IPython.core.display.HTML object>"
      ]
     },
     "execution_count": 26,
     "metadata": {},
     "output_type": "execute_result"
    }
   ],
   "source": [
    "#esto es para graficar todos los puntos de todos los omnibus 317 que cirsularon ese dia\n",
    "for row in df_20150803_line_317.iterrows():\n",
    "    #The 'latitude' and 'longitude' names correspond to column names in the original cceats dataframe\n",
    "    latlon = [ row[1]['latitude'], row[1]['longitude'] ]\n",
    "    fmap317.polygon_marker( latlon, fill_color='green', num_sides=4, radius=6)\n",
    "    \n",
    "\n",
    "embed_map(fmap317)"
   ]
  },
  {
   "cell_type": "code",
   "execution_count": 27,
   "metadata": {
    "collapsed": false
   },
   "outputs": [
    {
     "data": {
      "text/plain": [
       "[u'C41130',\n",
       " u'C41102',\n",
       " u'C41093',\n",
       " u'C41237',\n",
       " u'C41119',\n",
       " u'C41406',\n",
       " u'C41410',\n",
       " u'C41325',\n",
       " u'C41404',\n",
       " u'C41427']"
      ]
     },
     "execution_count": 27,
     "metadata": {},
     "output_type": "execute_result"
    }
   ],
   "source": [
    "#Function to compute the bus_ids circulating during a day  \n",
    "bus_id_20150803_317 = db.dados20150803_line_317.distinct(\"bus_id\")\n",
    "bus_id_20150803_317\n"
   ]
  },
  {
   "cell_type": "code",
   "execution_count": 17,
   "metadata": {
    "collapsed": false
   },
   "outputs": [
    {
     "data": {
      "text/plain": [
       "10"
      ]
     },
     "execution_count": 17,
     "metadata": {},
     "output_type": "execute_result"
    }
   ],
   "source": [
    "len(bus_id_20150803_317)"
   ]
  },
  {
   "cell_type": "code",
   "execution_count": 19,
   "metadata": {
    "collapsed": false
   },
   "outputs": [],
   "source": [
    "#meter en una lista todos los bus_id\n",
    "def get_busId_list(busId_list):\n",
    "    array_busId = []\n",
    "    for bus in busId_list:\n",
    "        strbus = str(bus)\n",
    "        array_busId.insert(len(array_busId), strbus)\n",
    "    return array_busId"
   ]
  },
  {
   "cell_type": "code",
   "execution_count": 20,
   "metadata": {
    "collapsed": false
   },
   "outputs": [
    {
     "data": {
      "text/plain": [
       "['C41130',\n",
       " 'C41102',\n",
       " 'C41093',\n",
       " 'C41237',\n",
       " 'C41119',\n",
       " 'C41406',\n",
       " 'C41410',\n",
       " 'C41325',\n",
       " 'C41404',\n",
       " 'C41427']"
      ]
     },
     "execution_count": 20,
     "metadata": {},
     "output_type": "execute_result"
    }
   ],
   "source": [
    "array_busId = get_busId_list(bus_id_20150803_317)\n",
    "array_busId"
   ]
  },
  {
   "cell_type": "code",
   "execution_count": 15,
   "metadata": {
    "collapsed": true
   },
   "outputs": [],
   "source": [
    "#funcion que dado un el bus_id de un omnibus y un punto inicial/final devuelve los puntos mas cercanos a ese punto. \n",
    "# A esa función se le debería pasar también la BD, pero ahora no se va a hacer asi\n",
    "def near_points_to_origin (bus_id, inverted_origin_point):\n",
    "    near_initial_points_array = []\n",
    "    #la funcion $within recibe las coordenadas en orden inverso (primero longitud y después latitud)\n",
    "    for row in db.dados20150803_line_317.find({\"latlon\": {\"$within\": {\"$center\": [inverted_origin_point, 0.0035499543]}}, \"bus_id\": bus_id}).sort(\"timestamp\",pymongo.DESCENDING):\n",
    "    #for row in db.dados20150817_line_317.find({\"latlon\": {\"$within\": {\"$center\": [inverted_origin_point, 0.0115499543]}}, \"bus_id\": bus_id}).sort(\"timestamp\",pymongo.DESCENDING):   \n",
    "        near_initial_points_array.insert(0, [row[u'timestamp'], row[u'latitude'], row[u'longitude'], row[u'speed']])\n",
    "    #convert the array in panda dataframe \n",
    "    sorted_near_initial_points = pd.DataFrame(near_initial_points_array, columns=['timestamp', 'latitude', 'longitude', 'speed'])\n",
    "    return sorted_near_initial_points"
   ]
  },
  {
   "cell_type": "code",
   "execution_count": 16,
   "metadata": {
    "collapsed": true
   },
   "outputs": [],
   "source": [
    "def bus_departure_hour (initial_points_timestamp_list):\n",
    "    list_departure_hours = []\n",
    "    i = 0\n",
    "    if len(initial_points_timestamp_list) >1:\n",
    "        for i in range(0, len(initial_points_timestamp_list)-1):\n",
    "            resto = datetime.datetime.strptime(initial_points_timestamp_list[i+1], \"%d-%m-%Y %H:%M:%S\")-datetime.datetime.strptime(initial_points_timestamp_list[i], \"%d-%m-%Y %H:%M:%S\")\n",
    "            resto_total = resto.total_seconds()/60\n",
    "            #si la diferencia entre los timestamp del omnibus en el putno supera los 40 minutos es q dio un viaje y regreso, sino lo supera es que se mantuvo ese tiempo esperando en el punto\n",
    "            if (resto_total > 40):\n",
    "                 list_departure_hours.insert(len( list_departure_hours),datetime.datetime.strptime(initial_points_timestamp_list[i], \"%d-%m-%Y %H:%M:%S\"))\n",
    "        #siempre es necesario insertar el ultimo valor de la lista de \"initial_points_timestamp\" en la lista de  list_departure_hours \n",
    "        list_departure_hours.insert(len( list_departure_hours),datetime.datetime.strptime(initial_points_timestamp_list[i+1], \"%d-%m-%Y %H:%M:%S\"))\n",
    "    elif len(initial_points_timestamp_list) == 1:\n",
    "        list_departure_hours.insert(len( list_departure_hours),datetime.datetime.strptime(initial_points_timestamp_list[0], \"%d-%m-%Y %H:%M:%S\"))\n",
    "    else:\n",
    "        list_departure_hours = []\n",
    "    return list_departure_hours"
   ]
  },
  {
   "cell_type": "code",
   "execution_count": 17,
   "metadata": {
    "collapsed": true
   },
   "outputs": [],
   "source": [
    "#Funcion que retorna el arreglo con las horas de llegada del omnibus al punto inicial/final del trayecto\n",
    "def bus_arrive_hour (initial_points_timestamp_list):\n",
    "    list_arrive_hours = []\n",
    "    #siempre es necesario insertar el ultimo valor de la lista de \"initial_points_timestamp\" en la lista de leblon_departure_hours \n",
    "    if len(initial_points_timestamp_list) >1:\n",
    "        list_arrive_hours.insert(len(list_arrive_hours),datetime.datetime.strptime(initial_points_timestamp_list[0], \"%d-%m-%Y %H:%M:%S\"))\n",
    "        for i in range(0,  len(initial_points_timestamp_list)-1):\n",
    "            resto = datetime.datetime.strptime(initial_points_timestamp_list[i+1], \"%d-%m-%Y %H:%M:%S\")-datetime.datetime.strptime(initial_points_timestamp_list[i], \"%d-%m-%Y %H:%M:%S\")\n",
    "            resto_total = resto.total_seconds()/60\n",
    "            if (resto_total > 40):\n",
    "                list_arrive_hours.insert(len(list_arrive_hours),datetime.datetime.strptime(initial_points_timestamp_list[i+1], \"%d-%m-%Y %H:%M:%S\"))\n",
    "    elif (len(initial_points_timestamp_list) == 1):\n",
    "        list_arrive_hours.insert(len(list_arrive_hours),datetime.datetime.strptime(initial_points_timestamp_list[0], \"%d-%m-%Y %H:%M:%S\"))\n",
    "    else:\n",
    "        list_arrive_hours = []        \n",
    "    return list_arrive_hours"
   ]
  },
  {
   "cell_type": "code",
   "execution_count": 18,
   "metadata": {
    "collapsed": true
   },
   "outputs": [],
   "source": [
    "#Para convertir de formato timedelta para horas y minutos\n",
    "def days_hours_minutes(travel_time):\n",
    "    hours = travel_time.seconds//3600 \n",
    "    minutes = (travel_time.seconds//60)%60\n",
    "    #print '%d hours, %d minutes' % (hours,minutes)\n",
    "    if minutes < 10:\n",
    "        minutes = str(0)+str(minutes)\n",
    "    return str(hours) + \":\"+ str(minutes)"
   ]
  },
  {
   "cell_type": "code",
   "execution_count": 19,
   "metadata": {
    "collapsed": true
   },
   "outputs": [],
   "source": [
    "#Funcion que crea la tabla de viajes con los tiempos de viaje\n",
    "def create_travel_table (name_A, arrive_array_A, departure_array_A, name_B, arrive_array_B, departure_array_B, bus_Id, bus_line):\n",
    "    \n",
    "    my_time_table = []   \n",
    "    num_travel = 0    \n",
    "    i = 0 #Cursor para moverme por el departure_array_A(arreglo q contiene las horas de salida del punto incial)   \n",
    "    j = 0 #Cursor para moverme por el departure_array_B (arreglo q contiene las horas de salida del punto final)\n",
    "   \n",
    "    while (i<len(departure_array_A) and j< len(departure_array_B)):\n",
    "        if (departure_array_A[i] < departure_array_B[j]):\n",
    "            if(i+1 == len(departure_array_A)):\n",
    "                direction = name_A + \"_to_\" + name_B\n",
    "                departure_hour = departure_array_A[i]\n",
    "                i = i +1\n",
    "                arrive_hour = arrive_array_B[j]\n",
    "                num_travel = num_travel +1\n",
    "                travel_time = days_hours_minutes(arrive_hour - departure_hour)          \n",
    "                my_time_table.insert(len(my_time_table), [bus_line, bus_Id, direction, departure_hour,arrive_hour, travel_time])\n",
    "         \n",
    "            elif ((i+1 < len(departure_array_A)) and (departure_array_B[j] < departure_array_A[i+1])):\n",
    "                direction = name_A + \"_to_\" + name_B\n",
    "                departure_hour = departure_array_A[i]\n",
    "                i = i +1\n",
    "                arrive_hour = arrive_array_B[j]\n",
    "                num_travel = num_travel +1\n",
    "                travel_time = days_hours_minutes(arrive_hour - departure_hour)          \n",
    "                my_time_table.insert(len(my_time_table), [bus_line, bus_Id, direction, departure_hour,arrive_hour, travel_time])\n",
    "            else: \n",
    "                i = i +1\n",
    "            \n",
    "        elif(departure_array_B[j] < departure_array_A[i]):\n",
    "            if (j+1 == len(departure_array_B)):\n",
    "                direction = name_B + \"_to_\" + name_A\n",
    "                departure_hour = departure_array_B[j]\n",
    "                j = j +1\n",
    "                arrive_hour = arrive_array_A[i]\n",
    "                num_travel = num_travel +1\n",
    "                travel_time = days_hours_minutes(arrive_hour - departure_hour)          \n",
    "                my_time_table.insert(len(my_time_table), [bus_line, bus_Id, direction, departure_hour,arrive_hour, travel_time])\n",
    "            \n",
    "            elif ((j+1 < len(departure_array_B)) and (departure_array_A[i] < departure_array_B[j+1])):\n",
    "                direction = name_B + \"_to_\" + name_A\n",
    "                departure_hour = departure_array_B[j]\n",
    "                j = j +1\n",
    "                arrive_hour = arrive_array_A[i]\n",
    "                num_travel = num_travel +1\n",
    "                travel_time = days_hours_minutes(arrive_hour - departure_hour)          \n",
    "                my_time_table.insert(len(my_time_table), [bus_line, bus_Id, direction, departure_hour,arrive_hour, travel_time])\n",
    "            else:\n",
    "                j = j +1                \n",
    "            \n",
    "    #Construir el dataframe pasandole el array con todos los datos de los viajes   \n",
    "    mydf = pd.DataFrame(my_time_table, columns=['Line', 'Bus_Id','Direction','Departure_Hour', 'Arrive_Hour', 'Travel_Time'])       \n",
    "    return mydf  "
   ]
  },
  {
   "cell_type": "code",
   "execution_count": 20,
   "metadata": {
    "collapsed": true
   },
   "outputs": [],
   "source": [
    "#Funcion que crea la tabla de tiempo de viaje para cada bus_id de los que transitaron el el dia\n",
    "def all_travel_table (line, punto_ini_coord_invertidas, name_punto_inicio, punto_fin_coord_invertidas, name_punto_final, array_busId):\n",
    "    new_df = pd.DataFrame(columns=['Line', 'Bus_Id','Direction','Departure_Hour', 'Arrive_Hour', 'Travel_Time'])  \n",
    "    for busId in array_busId:\n",
    "        sorted_near_initial_points1 = near_points_to_origin(busId, punto_ini_coord_invertidas)\n",
    "        sorted_near_final_points1 = near_points_to_origin(busId, punto_fin_coord_invertidas)\n",
    "        initial_points_timestamp1 = sorted_near_initial_points1 ['timestamp']\n",
    "        final_points_timestamp1 = sorted_near_final_points1 ['timestamp']\n",
    "        #chequear si la lista initial_points_timestamp es diferente de vacio\n",
    "        if len(initial_points_timestamp1) and len(final_points_timestamp1):\n",
    "            vilaIsabel_departure_hours1 = bus_departure_hour(initial_points_timestamp1)\n",
    "            first_point_departure_hour = bus_departure_hour (initial_points_timestamp1)\n",
    "            last_point_departure_hour = bus_departure_hour (final_points_timestamp1)\n",
    "            first_point_arrive_hour = bus_arrive_hour(initial_points_timestamp1)\n",
    "            last_point_arrive_hour = bus_arrive_hour(final_points_timestamp1)\n",
    "            my_time_table = create_travel_table(name_punto_inicio, first_point_arrive_hour, first_point_departure_hour, name_punto_final, last_point_arrive_hour, last_point_departure_hour, busId, line)\n",
    "            new_df = new_df.append(my_time_table, ignore_index=True)\n",
    "    return new_df"
   ]
  },
  {
   "cell_type": "code",
   "execution_count": 29,
   "metadata": {
    "collapsed": false,
    "scrolled": true
   },
   "outputs": [
    {
     "data": {
      "text/html": [
       "<div>\n",
       "<table border=\"1\" class=\"dataframe\">\n",
       "  <thead>\n",
       "    <tr style=\"text-align: right;\">\n",
       "      <th></th>\n",
       "      <th>Line</th>\n",
       "      <th>Bus_Id</th>\n",
       "      <th>Direction</th>\n",
       "      <th>Departure_Hour</th>\n",
       "      <th>Arrive_Hour</th>\n",
       "      <th>Travel_Time</th>\n",
       "    </tr>\n",
       "  </thead>\n",
       "  <tbody>\n",
       "    <tr>\n",
       "      <th>0</th>\n",
       "      <td>317</td>\n",
       "      <td>C41102</td>\n",
       "      <td>Central_to_Alborada</td>\n",
       "      <td>2015-08-03 04:42:08</td>\n",
       "      <td>2015-08-03 05:28:08</td>\n",
       "      <td>0:46</td>\n",
       "    </tr>\n",
       "    <tr>\n",
       "      <th>1</th>\n",
       "      <td>317</td>\n",
       "      <td>C41102</td>\n",
       "      <td>Alborada_to_Central</td>\n",
       "      <td>2015-08-03 05:45:38</td>\n",
       "      <td>2015-08-03 06:54:08</td>\n",
       "      <td>1:08</td>\n",
       "    </tr>\n",
       "    <tr>\n",
       "      <th>2</th>\n",
       "      <td>317</td>\n",
       "      <td>C41102</td>\n",
       "      <td>Central_to_Alborada</td>\n",
       "      <td>2015-08-03 07:46:08</td>\n",
       "      <td>2015-08-03 09:22:38</td>\n",
       "      <td>1:36</td>\n",
       "    </tr>\n",
       "    <tr>\n",
       "      <th>3</th>\n",
       "      <td>317</td>\n",
       "      <td>C41093</td>\n",
       "      <td>Central_to_Alborada</td>\n",
       "      <td>2015-08-03 06:17:07</td>\n",
       "      <td>2015-08-03 07:37:07</td>\n",
       "      <td>1:20</td>\n",
       "    </tr>\n",
       "  </tbody>\n",
       "</table>\n",
       "</div>"
      ],
      "text/plain": [
       "  Line  Bus_Id            Direction      Departure_Hour         Arrive_Hour  \\\n",
       "0  317  C41102  Central_to_Alborada 2015-08-03 04:42:08 2015-08-03 05:28:08   \n",
       "1  317  C41102  Alborada_to_Central 2015-08-03 05:45:38 2015-08-03 06:54:08   \n",
       "2  317  C41102  Central_to_Alborada 2015-08-03 07:46:08 2015-08-03 09:22:38   \n",
       "3  317  C41093  Central_to_Alborada 2015-08-03 06:17:07 2015-08-03 07:37:07   \n",
       "\n",
       "  Travel_Time  \n",
       "0        0:46  \n",
       "1        1:08  \n",
       "2        1:36  \n",
       "3        1:20  "
      ]
     },
     "execution_count": 29,
     "metadata": {},
     "output_type": "execute_result"
    }
   ],
   "source": [
    "travel_table_20150803 = all_travel_table ('317', inverted_initial_point, 'Central', inverted_final_point, 'Alborada', array_busId)\n",
    "travel_table_20150803"
   ]
  },
  {
   "cell_type": "code",
   "execution_count": 30,
   "metadata": {
    "collapsed": false
   },
   "outputs": [
    {
     "data": {
      "text/html": [
       "<div>\n",
       "<table border=\"1\" class=\"dataframe\">\n",
       "  <thead>\n",
       "    <tr style=\"text-align: right;\">\n",
       "      <th></th>\n",
       "      <th>Line</th>\n",
       "      <th>Bus_Id</th>\n",
       "      <th>Direction</th>\n",
       "      <th>Departure_Hour</th>\n",
       "      <th>Arrive_Hour</th>\n",
       "      <th>Travel_Time</th>\n",
       "    </tr>\n",
       "  </thead>\n",
       "  <tbody>\n",
       "    <tr>\n",
       "      <th>0</th>\n",
       "      <td>317</td>\n",
       "      <td>C41102</td>\n",
       "      <td>Central_to_Alborada</td>\n",
       "      <td>2015-08-03 04:42:08</td>\n",
       "      <td>2015-08-03 05:28:08</td>\n",
       "      <td>0:46</td>\n",
       "    </tr>\n",
       "    <tr>\n",
       "      <th>3</th>\n",
       "      <td>317</td>\n",
       "      <td>C41093</td>\n",
       "      <td>Central_to_Alborada</td>\n",
       "      <td>2015-08-03 06:17:07</td>\n",
       "      <td>2015-08-03 07:37:07</td>\n",
       "      <td>1:20</td>\n",
       "    </tr>\n",
       "    <tr>\n",
       "      <th>2</th>\n",
       "      <td>317</td>\n",
       "      <td>C41102</td>\n",
       "      <td>Central_to_Alborada</td>\n",
       "      <td>2015-08-03 07:46:08</td>\n",
       "      <td>2015-08-03 09:22:38</td>\n",
       "      <td>1:36</td>\n",
       "    </tr>\n",
       "  </tbody>\n",
       "</table>\n",
       "</div>"
      ],
      "text/plain": [
       "  Line  Bus_Id            Direction      Departure_Hour         Arrive_Hour  \\\n",
       "0  317  C41102  Central_to_Alborada 2015-08-03 04:42:08 2015-08-03 05:28:08   \n",
       "3  317  C41093  Central_to_Alborada 2015-08-03 06:17:07 2015-08-03 07:37:07   \n",
       "2  317  C41102  Central_to_Alborada 2015-08-03 07:46:08 2015-08-03 09:22:38   \n",
       "\n",
       "  Travel_Time  \n",
       "0        0:46  \n",
       "3        1:20  \n",
       "2        1:36  "
      ]
     },
     "execution_count": 30,
     "metadata": {},
     "output_type": "execute_result"
    }
   ],
   "source": [
    "sorted_travel_table_20150803 = travel_table_20150803.sort([\"Departure_Hour\"])\n",
    "sorted_travel_table_20150803\n",
    "interest_table_20150803 = sorted_travel_table_20150803[(sorted_travel_table_20150803[\"Direction\"] == 'Central_to_Alborada')]\n",
    "interest_table_20150803"
   ]
  },
  {
   "cell_type": "code",
   "execution_count": 23,
   "metadata": {
    "collapsed": false,
    "scrolled": true
   },
   "outputs": [
    {
     "data": {
      "text/html": [
       "<iframe src=\"files/map.html\" style=\"width: 100%; height: 510px; border: none\"></iframe>"
      ],
      "text/plain": [
       "<IPython.core.display.HTML object>"
      ]
     },
     "execution_count": 23,
     "metadata": {},
     "output_type": "execute_result"
    }
   ],
   "source": [
    "#esto es para graficar todos los puntos de todos los omnibus 317 que cirsularon ese dia\n",
    "fmap317_C41130=folium.Map(location=[-22.923714, -43.258999], zoom_start=11)\n",
    "locations317 = []\n",
    "for row in onibus317_shapes.iterrows():\n",
    "    #The 'latitude' and 'longitude' names correspond to column names in the original cceats dataframe\n",
    "    locations317.insert(len(locations317), [ row[1]['latitude'], row[1]['longitude'] ])\n",
    "    \n",
    "#Pintando Circulos de radio de 50m alrededor de los puntos incial y final \n",
    "#fmap317_C41130.simple_marker(initial_point, popup='Central')\n",
    "fmap317_C41130.simple_marker(final_point, popup='Alborada')\n",
    "fmap317_C41130.simple_marker((-22.992551 , -43.249098), popup='Morte Motoqueiro')\n",
    "\n",
    "#Punto inicial\n",
    "fmap317_C41130.circle_marker(location=final_point, radius=50,line_color='green',\n",
    "                 fill_color='#3186cc', fill_opacity=0.2)\n",
    "\n",
    "#Punto inicial\n",
    "fmap317_C41130.circle_marker(location=initial_point, radius=50,line_color='red',\n",
    "                 fill_color='#3186cc', fill_opacity=0.2)\n",
    "\n",
    "fmap317_C41130.line(locations317)\n",
    "\n",
    "df_20150803_line_317_C41130 = df_20150803_line_317[(df_20150803_line_317['bus_id']=='C41130')]\n",
    "for row in df_20150803_line_317_C41130.iterrows():\n",
    "    #The 'latitude' and 'longitude' names correspond to column names in the original cceats dataframe\n",
    "    latlon = [ row[1]['latitude'], row[1]['longitude'] ]\n",
    "    fmap317_C41130.polygon_marker( latlon, fill_color='green', num_sides=4, radius=6)\n",
    "    \n",
    "\n",
    "embed_map(fmap317_C41130)"
   ]
  },
  {
   "cell_type": "code",
   "execution_count": 28,
   "metadata": {
    "collapsed": false
   },
   "outputs": [
    {
     "data": {
      "text/html": [
       "<iframe src=\"files/map.html\" style=\"width: 100%; height: 510px; border: none\"></iframe>"
      ],
      "text/plain": [
       "<IPython.core.display.HTML object>"
      ]
     },
     "execution_count": 28,
     "metadata": {},
     "output_type": "execute_result"
    }
   ],
   "source": [
    "#esto es para graficar todos los puntos de todos los omnibus 317 que cirsularon ese dia\n",
    "fmap317_C41102=folium.Map(location=[-22.923714, -43.258999], zoom_start=11)\n",
    "locations317 = []\n",
    "for row in onibus317_shapes.iterrows():\n",
    "    #The 'latitude' and 'longitude' names correspond to column names in the original cceats dataframe\n",
    "    locations317.insert(len(locations317), [ row[1]['latitude'], row[1]['longitude'] ])\n",
    "    \n",
    "#Pintando Circulos de radio de 50m alrededor de los puntos incial y final \n",
    "fmap317_C41102.simple_marker(initial_point, popup='Central')\n",
    "fmap317_C41102.simple_marker(final_point, popup='Alborada')\n",
    "fmap317_C41102.simple_marker((-22.992551 , -43.249098), popup='Morte Motoqueiro')\n",
    "\n",
    "#Punto inicial\n",
    "fmap317_C41102.circle_marker(location=final_point, radius=50,line_color='green',\n",
    "                 fill_color='#3186cc', fill_opacity=0.2)\n",
    "\n",
    "#Punto inicial\n",
    "fmap317_C41102.circle_marker(location=initial_point, radius=50,line_color='red',\n",
    "                 fill_color='#3186cc', fill_opacity=0.2)\n",
    "\n",
    "fmap317_C41102.line(locations317)\n",
    "\n",
    "df_20150803_line_317_C41102 = df_20150803_line_317[(df_20150803_line_317['bus_id']=='C41102')]\n",
    "for row in df_20150803_line_317_C41102.iterrows():\n",
    "    #The 'latitude' and 'longitude' names correspond to column names in the original cceats dataframe\n",
    "    latlon = [ row[1]['latitude'], row[1]['longitude'] ]\n",
    "    fmap317_C41102.polygon_marker( latlon, fill_color='green', num_sides=4, radius=6)\n",
    "    \n",
    "\n",
    "embed_map(fmap317_C41102)"
   ]
  },
  {
   "cell_type": "code",
   "execution_count": 29,
   "metadata": {
    "collapsed": false
   },
   "outputs": [],
   "source": [
    "\n",
    "#para seleccionar solo algunas columnas del dataframe, en este caso la columna 1(timestamp), la 4(latitude) y la 5(longitude)\n",
    "important_columns_C41102 = df_20150803_line_317_C41102.iloc[:,[0,3,4]]\n",
    "vector_C41102 = important_columns_C41102.values.tolist()"
   ]
  },
  {
   "cell_type": "code",
   "execution_count": 35,
   "metadata": {
    "collapsed": true
   },
   "outputs": [],
   "source": [
    "#Funcion para calcular la distancia entre 2 puntos, teniendo en cuenta el radio de la tierra\n",
    "from math import radians, cos, sin, asin, sqrt\n",
    "\n",
    "def haversine(lon1, lat1, lon2, lat2):\n",
    "    \"\"\"\n",
    "    Calculate the great circle distance between two points \n",
    "    on the earth (specified in decimal degrees)\n",
    "    \"\"\"\n",
    "    # convert decimal degrees to radians \n",
    "    lon1, lat1, lon2, lat2 = map(radians, [lon1, lat1, lon2, lat2])\n",
    "\n",
    "    # haversine formula \n",
    "    dlon = lon2 - lon1 \n",
    "    dlat = lat2 - lat1 \n",
    "    a = sin(dlat/2)**2 + cos(lat1) * cos(lat2) * sin(dlon/2)**2\n",
    "    c = 2 * asin(sqrt(a)) \n",
    "    r = 6371 # Radius of earth in kilometers. Use 3956 for miles\n",
    "    return (c * r)*1000 # return the distance in m"
   ]
  },
  {
   "cell_type": "code",
   "execution_count": 36,
   "metadata": {
    "collapsed": true
   },
   "outputs": [],
   "source": [
    "\"\"\"\n",
    "Distancia Haversine\n",
    "funcion que dado un vector de lat, long y un punto A(lat,long), me devuelve un vector con\n",
    "la distancia de cada par al punto A\n",
    " \"\"\"\n",
    "def vector_distancia(vector, point):\n",
    "    vector_distance = []\n",
    "    lat2 = point[0]\n",
    "    long2 = point[1]\n",
    "    for item in vector:\n",
    "        lat1 = item[1]\n",
    "        long1 = item[2]\n",
    "        distance = haversine(long2, lat2, long1, lat1)\n",
    "        latlon = (item[1], item[2])\n",
    "        vector_distance.insert(len(vector_distance), [item[0],latlon, distance])\n",
    "    df_vector_distance = pd.DataFrame(vector_distance, columns=['timestamp', 'latlon', 'distance'])\n",
    "    return df_vector_distance   "
   ]
  },
  {
   "cell_type": "code",
   "execution_count": 21,
   "metadata": {
    "collapsed": false
   },
   "outputs": [],
   "source": [
    "#Distancia Euclideana\n",
    "from scipy.spatial import distance\n",
    "def euclidean_distance(vector, point):\n",
    "    vector_distance = []\n",
    "    for item in vector:\n",
    "        lat1 = item[1]\n",
    "        long1 = item[2]\n",
    "        time = item[0]\n",
    "        latlon = (item[1], item[2])\n",
    "        dst = distance.euclidean(latlon,point)\n",
    "        vector_distance.insert(len(vector_distance), [time, latlon, dst])\n",
    "    df_vector_distance = pd.DataFrame(vector_distance, columns=['timestamp', 'latlon', 'distance'])\n",
    "    return df_vector_distance      "
   ]
  },
  {
   "cell_type": "code",
   "execution_count": 47,
   "metadata": {
    "collapsed": false
   },
   "outputs": [],
   "source": [
    "vector_dist_to_ini_point_C41102 = vector_distancia(vector_C41102, initial_point)\n",
    "sorted_vector_dist_to_ini_point_C41102 = vector_dist_to_ini_point_C41102.sort([\"timestamp\"])\n",
    "\n",
    "vector_dist_to_final_point_C41102  = vector_distancia(vector_C41102, final_point)\n",
    "sorted_vector_dist_to_final_point_C41102 = vector_dist_to_final_point_C41102.sort([\"timestamp\"])"
   ]
  },
  {
   "cell_type": "code",
   "execution_count": 48,
   "metadata": {
    "collapsed": false,
    "scrolled": false
   },
   "outputs": [
    {
     "data": {
      "text/html": [
       "<iframe id=\"igraph\" scrolling=\"no\" style=\"border:none;\"seamless=\"seamless\" src=\"https://plot.ly/~kllanes/7.embed\" height=\"525px\" width=\"100%\"></iframe>"
      ],
      "text/plain": [
       "<plotly.tools.PlotlyDisplay object>"
      ]
     },
     "execution_count": 48,
     "metadata": {},
     "output_type": "execute_result"
    }
   ],
   "source": [
    "#hacer una grafica interactiva con la libreria de python (plotly.plotly). Se instala por consola asi: sudo pip install plotly\n",
    "#distancia del punto final (central)\n",
    "\n",
    "trace_C41102 = Scatter(x = sorted_vector_dist_to_ini_point_C41102['timestamp'], y = sorted_vector_dist_to_ini_point_C41102['distance'])\n",
    "data_C41102 = Data([trace_C41102])\n",
    "py.iplot(data_C41102, filename='pandas-time-series')"
   ]
  },
  {
   "cell_type": "code",
   "execution_count": 36,
   "metadata": {
    "collapsed": false,
    "scrolled": true
   },
   "outputs": [
    {
     "data": {
      "text/html": [
       "<iframe id=\"igraph\" scrolling=\"no\" style=\"border:none;\"seamless=\"seamless\" src=\"https://plot.ly/~kllanes/7.embed\" height=\"525px\" width=\"100%\"></iframe>"
      ],
      "text/plain": [
       "<plotly.tools.PlotlyDisplay object>"
      ]
     },
     "execution_count": 36,
     "metadata": {},
     "output_type": "execute_result"
    }
   ],
   "source": [
    "#hacer una grafica interactiva con la libreria de python (plotly.plotly). Se instala por consola asi: sudo pip install plotly\n",
    "#distancia del punto final (central)\n",
    "\n",
    "trace_C41102 = Scatter(x = sorted_vector_dist_to_final_point_C41102['timestamp'], y = sorted_vector_dist_to_final_point_C41102['distance'])\n",
    "data_C41102 = Data([trace_C41102])\n",
    "py.iplot(data_C41102, filename='pandas-time-series')"
   ]
  },
  {
   "cell_type": "code",
   "execution_count": 37,
   "metadata": {
    "collapsed": false,
    "scrolled": true
   },
   "outputs": [
    {
     "data": {
      "text/html": [
       "<iframe src=\"files/map.html\" style=\"width: 100%; height: 510px; border: none\"></iframe>"
      ],
      "text/plain": [
       "<IPython.core.display.HTML object>"
      ]
     },
     "execution_count": 37,
     "metadata": {},
     "output_type": "execute_result"
    }
   ],
   "source": [
    "#esto es para graficar todos los puntos de todos los omnibus 317 que cirsularon ese dia\n",
    "fmap317_C41093=folium.Map(location=[-22.923714, -43.258999], zoom_start=11)\n",
    "locations317 = []\n",
    "for row in onibus317_shapes.iterrows():\n",
    "    #The 'latitude' and 'longitude' names correspond to column names in the original cceats dataframe\n",
    "    locations317.insert(len(locations317), [ row[1]['latitude'], row[1]['longitude'] ])\n",
    "    \n",
    "#Pintando Circulos de radio de 50m alrededor de los puntos incial y final \n",
    "fmap317_C41093.simple_marker(initial_point, popup='Central')\n",
    "fmap317_C41093.simple_marker(final_point, popup='Alborada')\n",
    "fmap317_C41093.simple_marker((-22.992551 , -43.249098), popup='Morte Motoqueiro')\n",
    "\n",
    "#Punto inicial\n",
    "fmap317_C41093.circle_marker(location=final_point, radius=50,line_color='green',\n",
    "                 fill_color='#3186cc', fill_opacity=0.2)\n",
    "\n",
    "#Punto inicial\n",
    "fmap317_C41093.circle_marker(location=initial_point, radius=50,line_color='red',\n",
    "                 fill_color='#3186cc', fill_opacity=0.2)\n",
    "\n",
    "fmap317_C41093.line(locations317)\n",
    "\n",
    "df_20150803_line_317_C41093 = df_20150803_line_317[(df_20150803_line_317['bus_id']=='C41093')]\n",
    "for row in df_20150803_line_317_C41093.iterrows():\n",
    "    #The 'latitude' and 'longitude' names correspond to column names in the original cceats dataframe\n",
    "    latlon = [ row[1]['latitude'], row[1]['longitude'] ]\n",
    "    fmap317_C41093.polygon_marker( latlon, fill_color='green', num_sides=4, radius=6)\n",
    "    \n",
    "\n",
    "embed_map(fmap317_C41093)"
   ]
  },
  {
   "cell_type": "code",
   "execution_count": 38,
   "metadata": {
    "collapsed": false,
    "scrolled": false
   },
   "outputs": [
    {
     "data": {
      "text/html": [
       "<iframe id=\"igraph\" scrolling=\"no\" style=\"border:none;\"seamless=\"seamless\" src=\"https://plot.ly/~kllanes/7.embed\" height=\"525px\" width=\"100%\"></iframe>"
      ],
      "text/plain": [
       "<plotly.tools.PlotlyDisplay object>"
      ]
     },
     "execution_count": 38,
     "metadata": {},
     "output_type": "execute_result"
    }
   ],
   "source": [
    "#para seleccionar solo algunas columnas del dataframe, en este caso la columna 1(timestamp), la 4(latitude) y la 5(longitude)\n",
    "important_columns_C41093 = df_20150803_line_317_C41093.iloc[:,[0,3,4]]\n",
    "vector_C41093 = important_columns_C41093.values.tolist()\n",
    "\n",
    "vector_dist_to_ini_point_C41093 = vector_distancia(vector_C41093, initial_point)\n",
    "sorted_vector_dist_to_ini_point_C41093 = vector_dist_to_ini_point_C41093.sort([\"timestamp\"])\n",
    "\n",
    "vector_dist_to_final_point_C41093  = vector_distancia(vector_C41093, final_point)\n",
    "sorted_vector_dist_to_final_point_C41093 = vector_dist_to_final_point_C41093.sort([\"timestamp\"])\n",
    "\n",
    "trace_C41093 = Scatter(x = sorted_vector_dist_to_ini_point_C41093['timestamp'], y = sorted_vector_dist_to_ini_point_C41093['distance'])\n",
    "data_C41093 = Data([trace_C41093])\n",
    "py.iplot(data_C41093, filename='pandas-time-series')"
   ]
  },
  {
   "cell_type": "code",
   "execution_count": 42,
   "metadata": {
    "collapsed": false
   },
   "outputs": [
    {
     "data": {
      "text/html": [
       "<iframe id=\"igraph\" scrolling=\"no\" style=\"border:none;\"seamless=\"seamless\" src=\"https://plot.ly/~kllanes/7.embed\" height=\"525px\" width=\"100%\"></iframe>"
      ],
      "text/plain": [
       "<plotly.tools.PlotlyDisplay object>"
      ]
     },
     "execution_count": 42,
     "metadata": {},
     "output_type": "execute_result"
    }
   ],
   "source": [
    "trace_C41093 = Scatter(x = sorted_vector_dist_to_final_point_C41093['timestamp'], y = sorted_vector_dist_to_final_point_C41093['distance'])\n",
    "data_C41093 = Data([trace_C41093])\n",
    "py.iplot(data_C41093, filename='pandas-time-series')"
   ]
  },
  {
   "cell_type": "code",
   "execution_count": 41,
   "metadata": {
    "collapsed": false
   },
   "outputs": [
    {
     "data": {
      "text/html": [
       "<div>\n",
       "<table border=\"1\" class=\"dataframe\">\n",
       "  <thead>\n",
       "    <tr style=\"text-align: right;\">\n",
       "      <th></th>\n",
       "      <th>Line</th>\n",
       "      <th>Bus_Id</th>\n",
       "      <th>Direction</th>\n",
       "      <th>Departure_Hour</th>\n",
       "      <th>Arrive_Hour</th>\n",
       "      <th>Travel_Time</th>\n",
       "    </tr>\n",
       "  </thead>\n",
       "  <tbody>\n",
       "    <tr>\n",
       "      <th>0</th>\n",
       "      <td>317</td>\n",
       "      <td>C41093</td>\n",
       "      <td>Central_to_Alborada</td>\n",
       "      <td>2015-08-03 06:17:07</td>\n",
       "      <td>2015-08-03 07:37:07</td>\n",
       "      <td>1:20</td>\n",
       "    </tr>\n",
       "  </tbody>\n",
       "</table>\n",
       "</div>"
      ],
      "text/plain": [
       "  Line  Bus_Id            Direction      Departure_Hour         Arrive_Hour  \\\n",
       "0  317  C41093  Central_to_Alborada 2015-08-03 06:17:07 2015-08-03 07:37:07   \n",
       "\n",
       "  Travel_Time  \n",
       "0        1:20  "
      ]
     },
     "execution_count": 41,
     "metadata": {},
     "output_type": "execute_result"
    }
   ],
   "source": [
    "sorted_near_initial_points_C41093  = near_points_to_origin ('C41093', inverted_initial_point)\n",
    "sorted_near_final_points_C41093  = near_points_to_origin ('C41093', inverted_final_point)\n",
    "\n",
    "initial_points_timestamp_C41093  = sorted_near_initial_points_C41093 ['timestamp']\n",
    "final_points_timestamp_C41093  = sorted_near_final_points_C41093 ['timestamp']\n",
    "\n",
    "initial_departure_hours_C41093  = bus_departure_hour(initial_points_timestamp_C41093)\n",
    "final_departure_hours_C41093  = bus_departure_hour(final_points_timestamp_C41093)\n",
    "\n",
    "arrive_hour_to_initialpoint_C41093  = bus_arrive_hour(initial_points_timestamp_C41093)\n",
    "arrive_hour_to_finalpoint_C41093  = bus_arrive_hour(final_points_timestamp_C41093)\n",
    "\n",
    "\n",
    "travel_table_C41093 = create_travel_table(\"Central\", arrive_hour_to_initialpoint_C41093, initial_departure_hours_C41093, \"Alborada\", arrive_hour_to_finalpoint_C41093, final_departure_hours_C41093, 'C41093', '317' )\n",
    "travel_table_C41093\n"
   ]
  },
  {
   "cell_type": "code",
   "execution_count": 43,
   "metadata": {
    "collapsed": false
   },
   "outputs": [
    {
     "data": {
      "text/html": [
       "<iframe src=\"files/map.html\" style=\"width: 100%; height: 510px; border: none\"></iframe>"
      ],
      "text/plain": [
       "<IPython.core.display.HTML object>"
      ]
     },
     "execution_count": 43,
     "metadata": {},
     "output_type": "execute_result"
    }
   ],
   "source": [
    "#esto es para graficar todos los puntos de todos los omnibus 317 que cirsularon ese dia\n",
    "fmap317_C41237=folium.Map(location=[-22.923714, -43.258999], zoom_start=11)\n",
    "locations317 = []\n",
    "for row in onibus317_shapes.iterrows():\n",
    "    #The 'latitude' and 'longitude' names correspond to column names in the original cceats dataframe\n",
    "    locations317.insert(len(locations317), [ row[1]['latitude'], row[1]['longitude'] ])\n",
    "    \n",
    "#Pintando Circulos de radio de 50m alrededor de los puntos incial y final \n",
    "fmap317_C41237.simple_marker(initial_point, popup='Central')\n",
    "fmap317_C41237.simple_marker(final_point, popup='Alborada')\n",
    "fmap317_C41237.simple_marker((-22.992551 , -43.249098), popup='Morte Motoqueiro')\n",
    "\n",
    "#Punto inicial\n",
    "fmap317_C41237.circle_marker(location=final_point, radius=50,line_color='green',\n",
    "                 fill_color='#3186cc', fill_opacity=0.2)\n",
    "\n",
    "#Punto inicial\n",
    "fmap317_C41237.circle_marker(location=initial_point, radius=50,line_color='red',\n",
    "                 fill_color='#3186cc', fill_opacity=0.2)\n",
    "\n",
    "fmap317_C41237.line(locations317)\n",
    "\n",
    "df_20150803_line_317_C41237 = df_20150803_line_317[(df_20150803_line_317['bus_id']=='C41237')]\n",
    "for row in df_20150803_line_317_C41237.iterrows():\n",
    "    #The 'latitude' and 'longitude' names correspond to column names in the original cceats dataframe\n",
    "    latlon = [ row[1]['latitude'], row[1]['longitude'] ]\n",
    "    fmap317_C41237.polygon_marker( latlon, fill_color='green', num_sides=4, radius=6)\n",
    "    \n",
    "\n",
    "embed_map(fmap317_C41237)"
   ]
  },
  {
   "cell_type": "code",
   "execution_count": 44,
   "metadata": {
    "collapsed": false
   },
   "outputs": [
    {
     "data": {
      "text/html": [
       "<iframe src=\"files/map.html\" style=\"width: 100%; height: 510px; border: none\"></iframe>"
      ],
      "text/plain": [
       "<IPython.core.display.HTML object>"
      ]
     },
     "execution_count": 44,
     "metadata": {},
     "output_type": "execute_result"
    }
   ],
   "source": [
    "#esto es para graficar todos los puntos de todos los omnibus 317 que cirsularon ese dia\n",
    "fmap317_C41119=folium.Map(location=[-22.923714, -43.258999], zoom_start=11)\n",
    "locations317 = []\n",
    "for row in onibus317_shapes.iterrows():\n",
    "    #The 'latitude' and 'longitude' names correspond to column names in the original cceats dataframe\n",
    "    locations317.insert(len(locations317), [ row[1]['latitude'], row[1]['longitude'] ])\n",
    "    \n",
    "#Pintando Circulos de radio de 50m alrededor de los puntos incial y final \n",
    "fmap317_C41119.simple_marker(initial_point, popup='Central')\n",
    "fmap317_C41119.simple_marker(final_point, popup='Alborada')\n",
    "fmap317_C41119.simple_marker((-22.992551 , -43.249098), popup='Morte Motoqueiro')\n",
    "\n",
    "#Punto inicial\n",
    "fmap317_C41119.circle_marker(location=final_point, radius=50,line_color='green',\n",
    "                 fill_color='#3186cc', fill_opacity=0.2)\n",
    "\n",
    "#Punto inicial\n",
    "fmap317_C41119.circle_marker(location=initial_point, radius=50,line_color='red',\n",
    "                 fill_color='#3186cc', fill_opacity=0.2)\n",
    "\n",
    "fmap317_C41119.line(locations317)\n",
    "\n",
    "df_20150803_line_317_C41119 = df_20150803_line_317[(df_20150803_line_317['bus_id']=='C41119')]\n",
    "for row in df_20150803_line_317_C41119.iterrows():\n",
    "    #The 'latitude' and 'longitude' names correspond to column names in the original cceats dataframe\n",
    "    latlon = [ row[1]['latitude'], row[1]['longitude'] ]\n",
    "    fmap317_C41119.polygon_marker( latlon, fill_color='green', num_sides=4, radius=6)\n",
    "    \n",
    "\n",
    "embed_map(fmap317_C41119)"
   ]
  },
  {
   "cell_type": "code",
   "execution_count": 45,
   "metadata": {
    "collapsed": false
   },
   "outputs": [
    {
     "data": {
      "text/html": [
       "<iframe src=\"files/map.html\" style=\"width: 100%; height: 510px; border: none\"></iframe>"
      ],
      "text/plain": [
       "<IPython.core.display.HTML object>"
      ]
     },
     "execution_count": 45,
     "metadata": {},
     "output_type": "execute_result"
    }
   ],
   "source": [
    "#esto es para graficar todos los puntos de todos los omnibus 317 que cirsularon ese dia\n",
    "fmap317_C41406=folium.Map(location=[-22.923714, -43.258999], zoom_start=11)\n",
    "locations317 = []\n",
    "for row in onibus317_shapes.iterrows():\n",
    "    #The 'latitude' and 'longitude' names correspond to column names in the original cceats dataframe\n",
    "    locations317.insert(len(locations317), [ row[1]['latitude'], row[1]['longitude'] ])\n",
    "    \n",
    "#Pintando Circulos de radio de 50m alrededor de los puntos incial y final \n",
    "fmap317_C41406.simple_marker(initial_point, popup='Central')\n",
    "fmap317_C41406.simple_marker(final_point, popup='Alborada')\n",
    "fmap317_C41406.simple_marker((-22.992551 , -43.249098), popup='Morte Motoqueiro')\n",
    "\n",
    "#Punto inicial\n",
    "fmap317_C41406.circle_marker(location=final_point, radius=50,line_color='green',\n",
    "                 fill_color='#3186cc', fill_opacity=0.2)\n",
    "\n",
    "#Punto inicial\n",
    "fmap317_C41406.circle_marker(location=initial_point, radius=50,line_color='red',\n",
    "                 fill_color='#3186cc', fill_opacity=0.2)\n",
    "\n",
    "fmap317_C41406.line(locations317)\n",
    "\n",
    "df_20150803_line_317_C41406 = df_20150803_line_317[(df_20150803_line_317['bus_id']=='C41406')]\n",
    "for row in df_20150803_line_317_C41406.iterrows():\n",
    "    #The 'latitude' and 'longitude' names correspond to column names in the original cceats dataframe\n",
    "    latlon = [ row[1]['latitude'], row[1]['longitude'] ]\n",
    "    fmap317_C41406.polygon_marker( latlon, fill_color='green', num_sides=4, radius=6)\n",
    "    \n",
    "\n",
    "embed_map(fmap317_C41406)"
   ]
  },
  {
   "cell_type": "code",
   "execution_count": 46,
   "metadata": {
    "collapsed": false
   },
   "outputs": [
    {
     "data": {
      "text/html": [
       "<iframe id=\"igraph\" scrolling=\"no\" style=\"border:none;\"seamless=\"seamless\" src=\"https://plot.ly/~kllanes/7.embed\" height=\"525px\" width=\"100%\"></iframe>"
      ],
      "text/plain": [
       "<plotly.tools.PlotlyDisplay object>"
      ]
     },
     "execution_count": 46,
     "metadata": {},
     "output_type": "execute_result"
    }
   ],
   "source": [
    "#para seleccionar solo algunas columnas del dataframe, en este caso la columna 1(timestamp), la 4(latitude) y la 5(longitude)\n",
    "important_columns_C41406 = df_20150803_line_317_C41406.iloc[:,[0,3,4]]\n",
    "vector_C41406 = important_columns_C41406.values.tolist()\n",
    "\n",
    "vector_dist_to_ini_point_C41406 = vector_distancia(vector_C41406, initial_point)\n",
    "sorted_vector_dist_to_ini_point_C41406 = vector_dist_to_ini_point_C41406.sort([\"timestamp\"])\n",
    "\n",
    "vector_dist_to_final_point_C41406  = vector_distancia(vector_C41406, final_point)\n",
    "sorted_vector_dist_to_final_point_C41406 = vector_dist_to_final_point_C41406.sort([\"timestamp\"])\n",
    "\n",
    "trace_C41406 = Scatter(x = sorted_vector_dist_to_ini_point_C41406['timestamp'], y = sorted_vector_dist_to_ini_point_C41406['distance'])\n",
    "data_C41406 = Data([trace_C41406])\n",
    "py.iplot(data_C41406, filename='pandas-time-series')"
   ]
  },
  {
   "cell_type": "code",
   "execution_count": 47,
   "metadata": {
    "collapsed": false
   },
   "outputs": [
    {
     "data": {
      "text/html": [
       "<iframe id=\"igraph\" scrolling=\"no\" style=\"border:none;\"seamless=\"seamless\" src=\"https://plot.ly/~kllanes/7.embed\" height=\"525px\" width=\"100%\"></iframe>"
      ],
      "text/plain": [
       "<plotly.tools.PlotlyDisplay object>"
      ]
     },
     "execution_count": 47,
     "metadata": {},
     "output_type": "execute_result"
    }
   ],
   "source": [
    "trace_C41406 = Scatter(x = sorted_vector_dist_to_final_point_C41406['timestamp'], y = sorted_vector_dist_to_final_point_C41406['distance'])\n",
    "data_C41406 = Data([trace_C41406])\n",
    "py.iplot(data_C41406, filename='pandas-time-series')"
   ]
  },
  {
   "cell_type": "code",
   "execution_count": 48,
   "metadata": {
    "collapsed": false
   },
   "outputs": [
    {
     "data": {
      "text/html": [
       "<iframe src=\"files/map.html\" style=\"width: 100%; height: 510px; border: none\"></iframe>"
      ],
      "text/plain": [
       "<IPython.core.display.HTML object>"
      ]
     },
     "execution_count": 48,
     "metadata": {},
     "output_type": "execute_result"
    }
   ],
   "source": [
    "#esto es para graficar todos los puntos de todos los omnibus 317 que cirsularon ese dia\n",
    "fmap317_C41410=folium.Map(location=[-22.923714, -43.258999], zoom_start=11)\n",
    "locations317 = []\n",
    "for row in onibus317_shapes.iterrows():\n",
    "    #The 'latitude' and 'longitude' names correspond to column names in the original cceats dataframe\n",
    "    locations317.insert(len(locations317), [ row[1]['latitude'], row[1]['longitude'] ])\n",
    "    \n",
    "#Pintando Circulos de radio de 50m alrededor de los puntos incial y final \n",
    "fmap317_C41410.simple_marker(initial_point, popup='Central')\n",
    "fmap317_C41410.simple_marker(final_point, popup='Alborada')\n",
    "fmap317_C41410.simple_marker((-22.992551 , -43.249098), popup='Morte Motoqueiro')\n",
    "\n",
    "#Punto inicial\n",
    "fmap317_C41410.circle_marker(location=final_point, radius=50,line_color='green',\n",
    "                 fill_color='#3186cc', fill_opacity=0.2)\n",
    "\n",
    "#Punto inicial\n",
    "fmap317_C41410.circle_marker(location=initial_point, radius=50,line_color='red',\n",
    "                 fill_color='#3186cc', fill_opacity=0.2)\n",
    "\n",
    "fmap317_C41410.line(locations317)\n",
    "\n",
    "df_20150803_line_317_C41410 = df_20150803_line_317[(df_20150803_line_317['bus_id']=='C41410')]\n",
    "for row in df_20150803_line_317_C41410.iterrows():\n",
    "    #The 'latitude' and 'longitude' names correspond to column names in the original cceats dataframe\n",
    "    latlon = [ row[1]['latitude'], row[1]['longitude'] ]\n",
    "    fmap317_C41410.polygon_marker( latlon, fill_color='green', num_sides=4, radius=6)\n",
    "    \n",
    "\n",
    "embed_map(fmap317_C41410)"
   ]
  },
  {
   "cell_type": "code",
   "execution_count": 49,
   "metadata": {
    "collapsed": false
   },
   "outputs": [
    {
     "data": {
      "text/html": [
       "<iframe src=\"files/map.html\" style=\"width: 100%; height: 510px; border: none\"></iframe>"
      ],
      "text/plain": [
       "<IPython.core.display.HTML object>"
      ]
     },
     "execution_count": 49,
     "metadata": {},
     "output_type": "execute_result"
    }
   ],
   "source": [
    "#esto es para graficar todos los puntos de todos los omnibus 317 que cirsularon ese dia\n",
    "fmap317_C41325=folium.Map(location=[-22.923714, -43.258999], zoom_start=11)\n",
    "locations317 = []\n",
    "for row in onibus317_shapes.iterrows():\n",
    "    #The 'latitude' and 'longitude' names correspond to column names in the original cceats dataframe\n",
    "    locations317.insert(len(locations317), [ row[1]['latitude'], row[1]['longitude'] ])\n",
    "    \n",
    "#Pintando Circulos de radio de 50m alrededor de los puntos incial y final \n",
    "fmap317_C41325.simple_marker(initial_point, popup='Central')\n",
    "fmap317_C41325.simple_marker(final_point, popup='Alborada')\n",
    "fmap317_C41325.simple_marker((-22.992551 , -43.249098), popup='Morte Motoqueiro')\n",
    "\n",
    "#Punto inicial\n",
    "fmap317_C41325.circle_marker(location=final_point, radius=50,line_color='green',\n",
    "                 fill_color='#3186cc', fill_opacity=0.2)\n",
    "\n",
    "#Punto inicial\n",
    "fmap317_C41325.circle_marker(location=initial_point, radius=50,line_color='red',\n",
    "                 fill_color='#3186cc', fill_opacity=0.2)\n",
    "\n",
    "fmap317_C41325.line(locations317)\n",
    "\n",
    "df_20150803_line_317_C41325 = df_20150803_line_317[(df_20150803_line_317['bus_id']=='C41325')]\n",
    "for row in df_20150803_line_317_C41325.iterrows():\n",
    "    #The 'latitude' and 'longitude' names correspond to column names in the original cceats dataframe\n",
    "    latlon = [ row[1]['latitude'], row[1]['longitude'] ]\n",
    "    fmap317_C41325.polygon_marker( latlon, fill_color='green', num_sides=4, radius=6)\n",
    "    \n",
    "\n",
    "embed_map(fmap317_C41325)"
   ]
  },
  {
   "cell_type": "code",
   "execution_count": 50,
   "metadata": {
    "collapsed": false
   },
   "outputs": [
    {
     "data": {
      "text/html": [
       "<iframe src=\"files/map.html\" style=\"width: 100%; height: 510px; border: none\"></iframe>"
      ],
      "text/plain": [
       "<IPython.core.display.HTML object>"
      ]
     },
     "execution_count": 50,
     "metadata": {},
     "output_type": "execute_result"
    }
   ],
   "source": [
    "#esto es para graficar todos los puntos de todos los omnibus 317 que cirsularon ese dia\n",
    "fmap317_C41404=folium.Map(location=[-22.923714, -43.258999], zoom_start=11)\n",
    "locations317 = []\n",
    "for row in onibus317_shapes.iterrows():\n",
    "    #The 'latitude' and 'longitude' names correspond to column names in the original cceats dataframe\n",
    "    locations317.insert(len(locations317), [ row[1]['latitude'], row[1]['longitude'] ])\n",
    "    \n",
    "#Pintando Circulos de radio de 50m alrededor de los puntos incial y final \n",
    "fmap317_C41404.simple_marker(initial_point, popup='Central')\n",
    "fmap317_C41404.simple_marker(final_point, popup='Alborada')\n",
    "fmap317_C41404.simple_marker((-22.992551 , -43.249098), popup='Morte Motoqueiro')\n",
    "\n",
    "#Punto inicial\n",
    "fmap317_C41404.circle_marker(location=final_point, radius=50,line_color='green',\n",
    "                 fill_color='#3186cc', fill_opacity=0.2)\n",
    "\n",
    "#Punto inicial\n",
    "fmap317_C41404.circle_marker(location=initial_point, radius=50,line_color='red',\n",
    "                 fill_color='#3186cc', fill_opacity=0.2)\n",
    "\n",
    "fmap317_C41404.line(locations317)\n",
    "\n",
    "df_20150803_line_317_C41404 = df_20150803_line_317[(df_20150803_line_317['bus_id']=='C41404')]\n",
    "for row in df_20150803_line_317_C41404.iterrows():\n",
    "    #The 'latitude' and 'longitude' names correspond to column names in the original cceats dataframe\n",
    "    latlon = [ row[1]['latitude'], row[1]['longitude'] ]\n",
    "    fmap317_C41404.polygon_marker( latlon, fill_color='green', num_sides=4, radius=6)\n",
    "    \n",
    "\n",
    "embed_map(fmap317_C41404)"
   ]
  },
  {
   "cell_type": "code",
   "execution_count": 51,
   "metadata": {
    "collapsed": false,
    "scrolled": true
   },
   "outputs": [
    {
     "data": {
      "text/html": [
       "<iframe src=\"files/map.html\" style=\"width: 100%; height: 510px; border: none\"></iframe>"
      ],
      "text/plain": [
       "<IPython.core.display.HTML object>"
      ]
     },
     "execution_count": 51,
     "metadata": {},
     "output_type": "execute_result"
    }
   ],
   "source": [
    "#esto es para graficar todos los puntos de todos los omnibus 317 que cirsularon ese dia\n",
    "fmap317_C41427=folium.Map(location=[-22.923714, -43.258999], zoom_start=11)\n",
    "locations317 = []\n",
    "for row in onibus317_shapes.iterrows():\n",
    "    #The 'latitude' and 'longitude' names correspond to column names in the original cceats dataframe\n",
    "    locations317.insert(len(locations317), [ row[1]['latitude'], row[1]['longitude'] ])\n",
    "    \n",
    "#Pintando Circulos de radio de 50m alrededor de los puntos incial y final \n",
    "fmap317_C41427.simple_marker(initial_point, popup='Central')\n",
    "fmap317_C41427.simple_marker(final_point, popup='Alborada')\n",
    "fmap317_C41427.simple_marker((-22.992551 , -43.249098), popup='Morte Motoqueiro')\n",
    "\n",
    "#Punto inicial\n",
    "fmap317_C41427.circle_marker(location=final_point, radius=50,line_color='green',\n",
    "                 fill_color='#3186cc', fill_opacity=0.2)\n",
    "\n",
    "#Punto inicial\n",
    "fmap317_C41427.circle_marker(location=initial_point, radius=50,line_color='red',\n",
    "                 fill_color='#3186cc', fill_opacity=0.2)\n",
    "\n",
    "fmap317_C41427.line(locations317)\n",
    "\n",
    "df_20150803_line_317_C41427 = df_20150803_line_317[(df_20150803_line_317['bus_id']=='C41427')]\n",
    "for row in df_20150803_line_317_C41427.iterrows():\n",
    "    #The 'latitude' and 'longitude' names correspond to column names in the original cceats dataframe\n",
    "    latlon = [ row[1]['latitude'], row[1]['longitude'] ]\n",
    "    fmap317_C41427.polygon_marker( latlon, fill_color='green', num_sides=4, radius=6)\n",
    "    \n",
    "\n",
    "embed_map(fmap317_C41427)"
   ]
  }
 ],
 "metadata": {
  "kernelspec": {
   "display_name": "Python 2",
   "language": "python",
   "name": "python2"
  },
  "language_info": {
   "codemirror_mode": {
    "name": "ipython",
    "version": 2
   },
   "file_extension": ".py",
   "mimetype": "text/x-python",
   "name": "python",
   "nbconvert_exporter": "python",
   "pygments_lexer": "ipython2",
   "version": "2.7.6"
  }
 },
 "nbformat": 4,
 "nbformat_minor": 0
}
