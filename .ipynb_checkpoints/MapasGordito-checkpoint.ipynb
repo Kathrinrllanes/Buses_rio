{
 "cells": [
  {
   "cell_type": "code",
   "execution_count": 1,
   "metadata": {
    "collapsed": true
   },
   "outputs": [],
   "source": [
    "import pandas as pd\n",
    "from pymongo import MongoClient, GEO2D\n",
    "import pymongo\n",
    "import json\n",
    "import datetime\n",
    "from bson.son import SON\n",
    "import folium \n",
    "import math\n",
    "import numpy as np\n",
    "from IPython.display import display\n",
    "import bus "
   ]
  },
  {
   "cell_type": "code",
   "execution_count": 2,
   "metadata": {
    "collapsed": true
   },
   "outputs": [],
   "source": [
    "#Estableciendo la conexion con la base de datos morte_motoquiro en MongoDB\n",
    "db = MongoClient(\"10.0.0.107\", 27017).morte_motoquiro_event"
   ]
  },
  {
   "cell_type": "code",
   "execution_count": 3,
   "metadata": {
    "collapsed": true
   },
   "outputs": [],
   "source": [
    "#Important: In geoWithin function, if you use longitude and latitude, specify longitude first.\n",
    "#funcion que recibe un poligono y una coleccion de Mongo y te devuelve todos los puntos de la linea que aquel dia pasaron por aquel poligono\n",
    "def points_inside_polygon(mongo_collection, inverted_polygon):\n",
    "    points_inside_polygon = []\n",
    "    for row in mongo_collection.find ({\"latlon\": {\"$geoWithin\": { \"$polygon\": inverted_polygon }}}).sort(\"timestamp\",pymongo.ASCENDING):\n",
    "        points_inside_polygon.insert(len(points_inside_polygon), [row[u'timestamp'], row[u'latitude'], row[u'longitude'], row[u'line'], row[u'bus_id']]) \n",
    "    df_points_inside_polygon = pd.DataFrame(points_inside_polygon, columns=['timestamp', 'latitude', 'longitude', 'line', 'bus_id'])\n",
    "    return df_points_inside_polygon"
   ]
  },
  {
   "cell_type": "code",
   "execution_count": 4,
   "metadata": {
    "collapsed": true
   },
   "outputs": [],
   "source": [
    "#Poligono tramo 2-5\n",
    "Punto2 = (-22.960298,-43.204346)\n",
    "Punto5 = (-22.974325,-43.22625)\n",
    "#inverted_polygon_2_5\n",
    "T = (-22.974577,-43.226631)\n",
    "inverted_T = (-43.226631,-22.974577)\n",
    "V = (-22.974654,-43.225901)\n",
    "inverted_V = (-43.225901,-22.974654)\n",
    "W = (-22.961393,-43.215076)\n",
    "inverted_W = (-43.215076,-22.961393)\n",
    "X = (-22.961897,-43.214658)\n",
    "inverted_X = (-43.214658,-22.961897)\n",
    "Y = (-22.960128,-43.2041)\n",
    "inverted_Y = (-43.2041,-22.960128)\n",
    "Z = (-22.960484,-43.204015)\n",
    "inverted_Z = (-43.204015,-22.960484)\n",
    "inverted_polygon_2_5 = [inverted_V,inverted_T,inverted_W,inverted_Y,inverted_Z,inverted_X]"
   ]
  },
  {
   "cell_type": "code",
   "execution_count": 5,
   "metadata": {
    "collapsed": true
   },
   "outputs": [],
   "source": [
    "\"\"\"Funciones para renderizar el mapa en el html\"\"\"\n",
    "from IPython.display import HTML\n",
    " \n",
    "def inline_map(map):\n",
    "    \"\"\"\n",
    "    Embeds the HTML source of the map directly into the IPython notebook.\n",
    "    \n",
    "    This method will not work if the map depends on any files (json data). Also this uses\n",
    "    the HTML5 srcdoc attribute, which may not be supported in all browsers.\n",
    "    \"\"\"\n",
    "    map._build_map()\n",
    "    return HTML('<iframe srcdoc=\"{srcdoc}\" style=\"width: 100%; height: 510px; border: none\"></iframe>'.format(srcdoc=map.HTML.replace('\"', '&quot;')))\n",
    " \n",
    "def embed_map(map, path=\"map.html\"):\n",
    "    \"\"\"\n",
    "    Embeds a linked iframe to the map into the IPython notebook.\n",
    "    \n",
    "    Note: this method will not capture the source of the map into the notebook.\n",
    "    This method should work for all maps (as long as they use relative urls).\n",
    "    \"\"\"\n",
    "    map.create_map(path=path)\n",
    "    return HTML('<iframe src=\"files/{path}\" style=\"width: 100%; height: 510px; border: none\"></iframe>'.format(path=path))"
   ]
  },
  {
   "cell_type": "code",
   "execution_count": 35,
   "metadata": {
    "collapsed": false
   },
   "outputs": [
    {
     "data": {
      "text/plain": [
       "{'coordinates': [[[-22.97652992225726, -43.225064277648926],\n",
       "   [-22.979572207918846, -43.22399139404297],\n",
       "   [-22.97976975656747, -43.22648048400879],\n",
       "   [-22.980322891247027, -43.22948455810547],\n",
       "   [-22.983088530676266, -43.23351860046387],\n",
       "   [-22.98466887064438, -43.237338066101074],\n",
       "   [-22.988066538967807, -43.23974132537842],\n",
       "   [-22.99213572691421, -43.243088722229004],\n",
       "   [-22.993478927085018, -43.25141429901123],\n",
       "   [-22.99110856482697, -43.251543045043945],\n",
       "   [-22.989488793353278, -43.244333267211914],\n",
       "   [-22.986446731008904, -43.24167251586914],\n",
       "   [-22.982930495662618, -43.23918342590332],\n",
       "   [-22.980362400780347, -43.234333992004395],\n",
       "   [-22.978031318546922, -43.229827880859375],\n",
       "   [-22.977043559707305, -43.226823806762695],\n",
       "   [-22.991977702486263, -43.253324031829834],\n",
       "   [-22.99419002764833, -43.2527232170105],\n",
       "   [-22.97652992225726, -43.225064277648926]]],\n",
       " 'type': 'Polygon'}"
      ]
     },
     "execution_count": 35,
     "metadata": {},
     "output_type": "execute_result"
    }
   ],
   "source": [
    "mymap=folium.Map(location=[-22.974577,-43.226631], zoom_start=14)\n",
    "points = { \"type\": \"Polygon\",\n",
    "        \"coordinates\": [\n",
    "          [ [-22.97652992225726, -43.225064277648926],\n",
    "            [-22.979572207918846, -43.22399139404297],\n",
    "            [-22.97976975656747, -43.22648048400879],\n",
    "            [-22.980322891247027, -43.22948455810547],\n",
    "            [-22.983088530676266, -43.23351860046387],\n",
    "            [-22.98466887064438, -43.237338066101074],\n",
    "            [-22.988066538967807, -43.23974132537842],\n",
    "            [-22.99213572691421, -43.243088722229004],\n",
    "            [-22.993478927085018, -43.25141429901123],\n",
    "            [-22.99110856482697, -43.251543045043945],\n",
    "            [-22.989488793353278, -43.244333267211914],\n",
    "            [-22.986446731008904, -43.24167251586914],\n",
    "            [-22.982930495662618, -43.23918342590332],\n",
    "            [-22.980362400780347, -43.234333992004395],\n",
    "            [-22.978031318546922, -43.229827880859375],\n",
    "            [-22.977043559707305, -43.226823806762695],\n",
    "            [-22.991977702486263, -43.253324031829834],\n",
    "            [-22.99419002764833, -43.2527232170105],\n",
    "            [-22.97652992225726, -43.225064277648926] ]\n",
    "          ]\n",
    "       }"
   ]
  },
  {
   "cell_type": "code",
   "execution_count": 47,
   "metadata": {
    "collapsed": false
   },
   "outputs": [
    {
     "data": {
      "text/html": [
       "<iframe src=\"files/map.html\" style=\"width: 100%; height: 510px; border: none\"></iframe>"
      ],
      "text/plain": [
       "<IPython.core.display.HTML object>"
      ]
     },
     "execution_count": 47,
     "metadata": {},
     "output_type": "execute_result"
    }
   ],
   "source": [
    "\n",
    "\n",
    "polygon1 = [\n",
    "    [-22.967817543529037, -43.39148998260498],\n",
    "    [-22.970089533152084, -43.390910625457764],\n",
    "    [-22.973210987056486, -43.38676929473877],\n",
    "    [-22.973131963796394, -43.38468790054321],\n",
    "    [-22.969180741885026, -43.38968753814697],\n",
    "    [-22.967284114343567, -43.390052318573],\n",
    "    [-22.967817543529037, -43.39148998260498]\n",
    "    ]\n",
    "\n",
    "\n",
    "polygon2 = [(-22.972144169146848, -43.37882995605469),\n",
    "            (-22.974356819135682, -43.37818622589111),\n",
    "            (-22.97423828523316, -43.38724136352539),\n",
    "            (-22.97419877390921, -43.398399353027344),\n",
    "            (-22.973645614161107, -43.4020471572876),\n",
    "            (-22.9730529404901, -43.403892517089844),\n",
    "            (-22.970800756838422, -43.40178966522217),\n",
    "            (-22.972104657210703, -43.39792728424072),\n",
    "            (-22.972381240521123, -43.38719844818115),\n",
    "           (-22.972144169146848, -43.37882995605469)]\n",
    "\n",
    "Polygon3=[\n",
    "    (-22.972381240521123, -43.38050365447998),\n",
    "    (-22.97419877390921, -43.3800745010376),\n",
    "    (-22.97423828523316, -43.36329460144043),\n",
    "    (-22.97234172865428, -43.36355209350586),\n",
    "    (-22.972381240521123, -43.38050365447998)]\n",
    "\n",
    "Polygon4=[(-22.9772806224873, -43.418312072753906),\n",
    "          (-22.966612385708647, -43.413848876953125),\n",
    "          (-22.962740002623352, -43.405609130859375),\n",
    "          (-22.959499760132136, -43.392391204833984),\n",
    "          (-22.961870676892556, -43.39067459106445),\n",
    "          (-22.964952806537738, -43.4044075012207),\n",
    "          (-22.96842999666493, -43.41118812561035),\n",
    "          (-22.97894005030228, -43.415822982788086),\n",
    "         (-22.9772806224873, -43.418312072753906)]\n",
    "\n",
    "Polygon5=[(-22.978189359291218, -43.41747522354126),\n",
    "          (-22.977497929670303, -43.41678857803345),\n",
    "          (-22.982377371658988, -43.4105658531189),\n",
    "          (-22.98314779375871, -43.411102294921875),\n",
    "         (-22.978189359291218, -43.41747522354126)]\n",
    "\n",
    "Polygon6=[(-23.00651517560899, -43.43925476074219),\n",
    "          (-23.00817424418687, -43.43625068664551),\n",
    "          (-22.999246634752332, -43.42629432678223),\n",
    "          (-22.998140518132615, -43.423805236816406),\n",
    "          (-22.98984435460933, -43.41470718383789),\n",
    "          (-22.983839194466338, -43.4099006652832),\n",
    "          (-22.981784736284872, -43.411617279052734),\n",
    "          (-22.986446731008904, -43.41547966003418),\n",
    "          (-22.994664092609916, -43.42526435852051),\n",
    "          (-22.996086277507416, -43.4274959564209),\n",
    "         (-23.00651517560899, -43.43925476074219)]\n",
    "\n",
    "\n",
    "# Create the map and add the line\n",
    "m=folium.Map(location=[-22.972144169146848, -43.37882995605469], zoom_start=14)\n",
    "m.line(polygon1, line_color='#FF0000', line_weight=5)\n",
    "m.line(polygon2, line_color='blue', line_weight=5)\n",
    "\n",
    "embed_map(m)\n"
   ]
  }
 ],
 "metadata": {
  "kernelspec": {
   "display_name": "Python 2",
   "language": "python",
   "name": "python2"
  },
  "language_info": {
   "codemirror_mode": {
    "name": "ipython",
    "version": 2
   },
   "file_extension": ".py",
   "mimetype": "text/x-python",
   "name": "python",
   "nbconvert_exporter": "python",
   "pygments_lexer": "ipython2",
   "version": "2.7.6"
  }
 },
 "nbformat": 4,
 "nbformat_minor": 0
}
