{
 "cells": [
  {
   "cell_type": "code",
   "execution_count": 2,
   "metadata": {
    "collapsed": true
   },
   "outputs": [],
   "source": [
    "import pandas as pd\n",
    "from pymongo import MongoClient, GEO2D\n",
    "import pymongo\n",
    "import json\n",
    "import datetime\n",
    "from bson.son import SON\n",
    "import folium \n",
    "import math\n",
    "import numpy as np\n",
    "from IPython.display import display"
   ]
  },
  {
   "cell_type": "code",
   "execution_count": 3,
   "metadata": {
    "collapsed": true
   },
   "outputs": [],
   "source": [
    "df_20150817 = pd.read_csv('/home/kathrin/Doctorado/bus_rio/Datos_Omnibus/morte_motoqueiro_20150817/20150817.txt', delimiter = ('\\t'))"
   ]
  },
  {
   "cell_type": "code",
   "execution_count": 4,
   "metadata": {
    "collapsed": false
   },
   "outputs": [],
   "source": [
    "df_20150817_line_316 = df_20150817[(df_20150817['line']=='316')]\n"
   ]
  },
  {
   "cell_type": "code",
   "execution_count": 7,
   "metadata": {
    "collapsed": false
   },
   "outputs": [],
   "source": [
    "df_20150817_line_316_parados = df_20150817_line_316[(df_20150817_line_316['speed'] == 0)]\n"
   ]
  },
  {
   "cell_type": "code",
   "execution_count": 5,
   "metadata": {
    "collapsed": true
   },
   "outputs": [],
   "source": [
    "\"\"\"Funciones para renderizar el mapa en el html\"\"\"\n",
    "from IPython.display import HTML\n",
    " \n",
    "def inline_map(map):\n",
    "    \"\"\"\n",
    "    Embeds the HTML source of the map directly into the IPython notebook.\n",
    "    \n",
    "    This method will not work if the map depends on any files (json data). Also this uses\n",
    "    the HTML5 srcdoc attribute, which may not be supported in all browsers.\n",
    "    \"\"\"\n",
    "    map._build_map()\n",
    "    return HTML('<iframe srcdoc=\"{srcdoc}\" style=\"width: 100%; height: 510px; border: none\"></iframe>'.format(srcdoc=map.HTML.replace('\"', '&quot;')))\n",
    " \n",
    "def embed_map(map, path=\"map.html\"):\n",
    "    \"\"\"\n",
    "    Embeds a linked iframe to the map into the IPython notebook.\n",
    "    \n",
    "    Note: this method will not capture the source of the map into the notebook.\n",
    "    This method should work for all maps (as long as they use relative urls).\n",
    "    \"\"\"\n",
    "    map.create_map(path=path)\n",
    "    return HTML('<iframe src=\"files/{path}\" style=\"width: 100%; height: 510px; border: none\"></iframe>'.format(path=path))"
   ]
  },
  {
   "cell_type": "code",
   "execution_count": 6,
   "metadata": {
    "collapsed": false
   },
   "outputs": [
    {
     "data": {
      "text/html": [
       "<iframe src=\"files/map.html\" style=\"width: 100%; height: 510px; border: none\"></iframe>"
      ],
      "text/plain": [
       "<IPython.core.display.HTML object>"
      ]
     },
     "execution_count": 6,
     "metadata": {},
     "output_type": "execute_result"
    }
   ],
   "source": [
    "onibus316_shapes = pd.read_csv('/home/kathrin/Doctorado/bus_rio/Datos_Omnibus/Onibus/Shapes/gtfs_linha316-shapes.csv')\n",
    "fmap316=folium.Map(location=[-22.923714, -43.258999], zoom_start=11)\n",
    "locations316 = []\n",
    "for row in onibus316_shapes.iterrows():\n",
    "    #The 'latitude' and 'longitude' names correspond to column names in the original cceats dataframe\n",
    "    locations316.insert(1, [ row[1]['latitude'], row[1]['longitude'] ])\n",
    "\n",
    "fmap316.line(locations316)\n",
    "embed_map(fmap316)"
   ]
  },
  {
   "cell_type": "code",
   "execution_count": 7,
   "metadata": {
    "collapsed": false
   },
   "outputs": [
    {
     "data": {
      "text/html": [
       "<iframe src=\"files/map.html\" style=\"width: 100%; height: 510px; border: none\"></iframe>"
      ],
      "text/plain": [
       "<IPython.core.display.HTML object>"
      ]
     },
     "execution_count": 7,
     "metadata": {},
     "output_type": "execute_result"
    }
   ],
   "source": [
    "#esto es para graficar la porcion de la ruta que será analizada con las paradas representativas\n",
    "for row in df_20150817_line_316_parados.iterrows():\n",
    "    #The 'latitude' and 'longitude' names correspond to column names in the original cceats dataframe\n",
    "    latlon = [ row[1]['latitude'], row[1]['longitude'] ]\n",
    "    fmap316.polygon_marker( latlon, fill_color='red', num_sides=4, radius=6)\n",
    "    \n",
    "    \n",
    "\n",
    "embed_map(fmap316)"
   ]
  },
  {
   "cell_type": "code",
   "execution_count": 8,
   "metadata": {
    "collapsed": false
   },
   "outputs": [
    {
     "data": {
      "text/html": [
       "<iframe src=\"files/map.html\" style=\"width: 100%; height: 510px; border: none\"></iframe>"
      ],
      "text/plain": [
       "<IPython.core.display.HTML object>"
      ]
     },
     "execution_count": 8,
     "metadata": {},
     "output_type": "execute_result"
    }
   ],
   "source": [
    "#esto es para graficar la porcion de la ruta que será analizada con las paradas representativas\n",
    "for row in df_20150817_line_316.iterrows():\n",
    "    #The 'latitude' and 'longitude' names correspond to column names in the original cceats dataframe\n",
    "    latlon = [ row[1]['latitude'], row[1]['longitude'] ]\n",
    "    fmap316.polygon_marker( latlon, fill_color='green', num_sides=4, radius=6)\n",
    "    \n",
    "\n",
    "embed_map(fmap316)"
   ]
  },
  {
   "cell_type": "code",
   "execution_count": 9,
   "metadata": {
    "collapsed": false
   },
   "outputs": [
    {
     "data": {
      "text/html": [
       "<div>\n",
       "<table border=\"1\" class=\"dataframe\">\n",
       "  <thead>\n",
       "    <tr style=\"text-align: right;\">\n",
       "      <th></th>\n",
       "      <th>linha</th>\n",
       "      <th>descricao</th>\n",
       "      <th>agencia</th>\n",
       "      <th>sequencia</th>\n",
       "      <th>shape_id</th>\n",
       "      <th>latitude</th>\n",
       "      <th>longitude</th>\n",
       "    </tr>\n",
       "  </thead>\n",
       "  <tbody>\n",
       "    <tr>\n",
       "      <th>0</th>\n",
       "      <td>316</td>\n",
       "      <td>316-RECREIO DOS BANDEIRANTES X CENTRAL (VIA BO...</td>\n",
       "      <td>Fetranspor</td>\n",
       "      <td>0</td>\n",
       "      <td>17342012</td>\n",
       "      <td>-23.0224</td>\n",
       "      <td>-43.4823</td>\n",
       "    </tr>\n",
       "    <tr>\n",
       "      <th>1274</th>\n",
       "      <td>316</td>\n",
       "      <td>316-RECREIO DOS BANDEIRANTES X CENTRAL (VIA BO...</td>\n",
       "      <td>Fetranspor</td>\n",
       "      <td>0</td>\n",
       "      <td>17418997</td>\n",
       "      <td>-22.9049</td>\n",
       "      <td>-43.1917</td>\n",
       "    </tr>\n",
       "  </tbody>\n",
       "</table>\n",
       "</div>"
      ],
      "text/plain": [
       "      linha                                          descricao     agencia  \\\n",
       "0       316  316-RECREIO DOS BANDEIRANTES X CENTRAL (VIA BO...  Fetranspor   \n",
       "1274    316  316-RECREIO DOS BANDEIRANTES X CENTRAL (VIA BO...  Fetranspor   \n",
       "\n",
       "      sequencia  shape_id  latitude  longitude  \n",
       "0             0  17342012  -23.0224   -43.4823  \n",
       "1274          0  17418997  -22.9049   -43.1917  "
      ]
     },
     "execution_count": 9,
     "metadata": {},
     "output_type": "execute_result"
    }
   ],
   "source": [
    "df_initial_point = onibus316_shapes[(onibus316_shapes['sequencia']==0)]\n",
    "df_initial_point"
   ]
  },
  {
   "cell_type": "code",
   "execution_count": 10,
   "metadata": {
    "collapsed": true
   },
   "outputs": [],
   "source": [
    "#Punto inicial del omnibus 316 Central do Brasil\n",
    "initial_point = (-23.0224,-43.4823)\n",
    "#Punto inicial del omnibus invertido\n",
    "inverted_initial_point = (-43.4823, -23.0224)\n",
    "#Punto final del omnibus 316 Centro\n",
    "final_point = (-22.9049, -43.1917)\n",
    "#Punto final del omnibus invertido\n",
    "inverted_final_point = (-43.1917, -22.9049)\n"
   ]
  },
  {
   "cell_type": "code",
   "execution_count": 11,
   "metadata": {
    "collapsed": false
   },
   "outputs": [
    {
     "data": {
      "text/html": [
       "<iframe src=\"files/map.html\" style=\"width: 100%; height: 510px; border: none\"></iframe>"
      ],
      "text/plain": [
       "<IPython.core.display.HTML object>"
      ]
     },
     "execution_count": 11,
     "metadata": {},
     "output_type": "execute_result"
    }
   ],
   "source": [
    "#Pintando Circulos de radio de 50m alrededor de los puntos incial y final \n",
    "fmap316.simple_marker(final_point, popup='Centro')\n",
    "fmap316.simple_marker(initial_point, popup='Barra')\n",
    "\n",
    "#Punto inicial\n",
    "fmap316.circle_marker(location=final_point, radius=50,line_color='green',\n",
    "                 fill_color='#3186cc', fill_opacity=0.2)\n",
    "\n",
    "#Punto inicial\n",
    "fmap316.circle_marker(location=initial_point, radius=50,line_color='blue',\n",
    "                 fill_color='#3186cc', fill_opacity=0.2)\n",
    "\n",
    "embed_map(fmap316)"
   ]
  },
  {
   "cell_type": "code",
   "execution_count": 12,
   "metadata": {
    "collapsed": true
   },
   "outputs": [],
   "source": [
    "#Estableciendo la conexion con la base de datos morte_motoquiro en MongoDB\n",
    "db = MongoClient().morte_motoquiro_event"
   ]
  },
  {
   "cell_type": "code",
   "execution_count": 13,
   "metadata": {
    "collapsed": true
   },
   "outputs": [],
   "source": [
    "#Function to compute the bus_ids circulating during a day 20150208 of bus line 438\n",
    "def bus_id_list ():\n",
    "    bus_id_20150817_316 = db.dados20150817_line_316.distinct(\"bus_id\")\n",
    "    return bus_id_20150817_316"
   ]
  },
  {
   "cell_type": "code",
   "execution_count": 14,
   "metadata": {
    "collapsed": false
   },
   "outputs": [
    {
     "data": {
      "text/plain": [
       "[u'C41422', u'C41424', u'C41427', u'C41423', u'C41429', u'C41426', u'C41421']"
      ]
     },
     "execution_count": 14,
     "metadata": {},
     "output_type": "execute_result"
    }
   ],
   "source": [
    "#llamada a la funcion bus_id_list\n",
    "busId_list = bus_id_list()\n",
    "busId_list"
   ]
  },
  {
   "cell_type": "code",
   "execution_count": 15,
   "metadata": {
    "collapsed": true
   },
   "outputs": [],
   "source": [
    "#Funcion para meter los bus_Id del dataframe para un array\n",
    "def get_busId_list():\n",
    "    array_busId = []\n",
    "    for bus in busId_list:\n",
    "        strbus = str(bus)\n",
    "        array_busId.insert(len(array_busId), strbus)\n",
    "    return array_busId"
   ]
  },
  {
   "cell_type": "code",
   "execution_count": 16,
   "metadata": {
    "collapsed": false
   },
   "outputs": [
    {
     "data": {
      "text/plain": [
       "['C41422', 'C41424', 'C41427', 'C41423', 'C41429', 'C41426', 'C41421']"
      ]
     },
     "execution_count": 16,
     "metadata": {},
     "output_type": "execute_result"
    }
   ],
   "source": [
    "array_busId = get_busId_list()\n",
    "array_busId"
   ]
  },
  {
   "cell_type": "code",
   "execution_count": 17,
   "metadata": {
    "collapsed": true
   },
   "outputs": [],
   "source": [
    "#funcion que dado un el bus_id de un omnibus y un punto inicial/final devuelve los puntos mas cercanos a ese punto. \n",
    "# A esa función se le debería pasar también la BD, pero ahora no se va a hacer asi\n",
    "def near_points_to_origin (bus_id, inverted_origin_point):\n",
    "    near_initial_points_array = []\n",
    "    #la funcion $within recibe las coordenadas en orden inverso (primero longitud y después latitud)\n",
    "    for row in db.dados20150817_line_316.find({\"latlon\": {\"$within\": {\"$center\": [inverted_origin_point, 0.0015499543]}}, \"bus_id\": bus_id}).sort(\"timestamp\",pymongo.DESCENDING):\n",
    "        near_initial_points_array.insert(0, [row[u'timestamp'], row[u'latitude'], row[u'longitude'], row[u'speed']])\n",
    "    #convert the array in panda dataframe \n",
    "    sorted_near_initial_points = pd.DataFrame(near_initial_points_array, columns=['timestamp', 'latitude', 'longitude', 'speed'])\n",
    "    return sorted_near_initial_points"
   ]
  },
  {
   "cell_type": "code",
   "execution_count": 18,
   "metadata": {
    "collapsed": false
   },
   "outputs": [],
   "source": [
    "#LLamada a la funcion near_points_to_origin para encontrar los puntos más cercanos a la barra \n",
    "\n",
    "sorted_near_initial_points = near_points_to_origin ('C41422', inverted_initial_point)\n"
   ]
  },
  {
   "cell_type": "code",
   "execution_count": 19,
   "metadata": {
    "collapsed": false
   },
   "outputs": [],
   "source": [
    "sorted_near_final_points = near_points_to_origin ('C41422', inverted_final_point)\n"
   ]
  },
  {
   "cell_type": "code",
   "execution_count": 20,
   "metadata": {
    "collapsed": false,
    "scrolled": true
   },
   "outputs": [
    {
     "data": {
      "text/html": [
       "<iframe src=\"files/map.html\" style=\"width: 100%; height: 510px; border: none\"></iframe>"
      ],
      "text/plain": [
       "<IPython.core.display.HTML object>"
      ]
     },
     "execution_count": 20,
     "metadata": {},
     "output_type": "execute_result"
    }
   ],
   "source": [
    "test_map = folium.Map(location=[-22.923714, -43.258999], zoom_start=11)\n",
    "locations316_test = []\n",
    "for row in onibus316_shapes.iterrows():\n",
    "    #The 'latitude' and 'longitude' names correspond to column names in the original cceats dataframe\n",
    "    locations316_test.insert(1, [ row[1]['latitude'], row[1]['longitude'] ])\n",
    "\n",
    "test_map.line(locations316_test)\n",
    "\n",
    "#insertar los popups\n",
    "#Pintando Circulos de radio de 155m alrededor de los puntos incial y final \n",
    "test_map.simple_marker(final_point, popup='Centro')\n",
    "test_map.simple_marker(initial_point, popup='Barra')\n",
    "\n",
    "#Punto inicial\n",
    "test_map.circle_marker(location=final_point, radius=155,line_color='brown',\n",
    "                 fill_color='#3186cc', fill_opacity=0.2)\n",
    "\n",
    "#Punto inicial\n",
    "test_map.circle_marker(location=initial_point, radius=155,line_color='black',\n",
    "                 fill_color='#3186cc', fill_opacity=0.2)\n",
    "\n",
    "df_20150817_line_316[(df_20150817_line_316['bus_id'] == 'C41422')]\n",
    "\n",
    "embed_map(test_map)"
   ]
  },
  {
   "cell_type": "code",
   "execution_count": 21,
   "metadata": {
    "collapsed": false
   },
   "outputs": [],
   "source": [
    "df_20150817_line_316_C41422 = df_20150817_line_316[(df_20150817_line_316['bus_id'] == 'C41422')]\n"
   ]
  },
  {
   "cell_type": "code",
   "execution_count": 22,
   "metadata": {
    "collapsed": false
   },
   "outputs": [
    {
     "data": {
      "text/plain": [
       "667"
      ]
     },
     "execution_count": 22,
     "metadata": {},
     "output_type": "execute_result"
    }
   ],
   "source": [
    "len(df_20150817_line_316_C41422)"
   ]
  },
  {
   "cell_type": "code",
   "execution_count": 23,
   "metadata": {
    "collapsed": false,
    "scrolled": true
   },
   "outputs": [
    {
     "data": {
      "text/html": [
       "<iframe src=\"files/map.html\" style=\"width: 100%; height: 510px; border: none\"></iframe>"
      ],
      "text/plain": [
       "<IPython.core.display.HTML object>"
      ]
     },
     "execution_count": 23,
     "metadata": {},
     "output_type": "execute_result"
    }
   ],
   "source": [
    "#esto es para graficar la porcion de la ruta que será analizada con las paradas representativas\n",
    "for row in sorted_near_initial_points.iterrows():\n",
    "    #The 'latitude' and 'longitude' names correspond to column names in the original cceats dataframe\n",
    "    latlon = [ row[1]['latitude'], row[1]['longitude'] ]\n",
    "    test_map.polygon_marker( latlon, fill_color='orange', num_sides=4, radius=6)\n",
    "    \n",
    "    \n",
    "\n",
    "embed_map(test_map)"
   ]
  },
  {
   "cell_type": "code",
   "execution_count": 23,
   "metadata": {
    "collapsed": false,
    "scrolled": true
   },
   "outputs": [
    {
     "data": {
      "text/html": [
       "<iframe src=\"files/map.html\" style=\"width: 100%; height: 510px; border: none\"></iframe>"
      ],
      "text/plain": [
       "<IPython.core.display.HTML object>"
      ]
     },
     "execution_count": 23,
     "metadata": {},
     "output_type": "execute_result"
    }
   ],
   "source": [
    "#esto es para graficar la porcion de la ruta que será analizada con las paradas representativas\n",
    "for row in sorted_near_final_points.iterrows():\n",
    "    #The 'latitude' and 'longitude' names correspond to column names in the original cceats dataframe\n",
    "    latlon = [ row[1]['latitude'], row[1]['longitude'] ]\n",
    "    test_map.polygon_marker( latlon, fill_color='orange', num_sides=4, radius=6)\n",
    "    \n",
    "\n",
    "embed_map(test_map)"
   ]
  },
  {
   "cell_type": "code",
   "execution_count": 24,
   "metadata": {
    "collapsed": false
   },
   "outputs": [],
   "source": [
    "#Array de timestamp puntos near punto incial (Leblon)\n",
    "initial_points_timestamp = sorted_near_initial_points['timestamp']\n"
   ]
  },
  {
   "cell_type": "code",
   "execution_count": 25,
   "metadata": {
    "collapsed": false
   },
   "outputs": [],
   "source": [
    "final_points_timestamp = sorted_near_final_points['timestamp']\n"
   ]
  },
  {
   "cell_type": "code",
   "execution_count": 24,
   "metadata": {
    "collapsed": true
   },
   "outputs": [],
   "source": [
    "def bus_departure_hour (initial_points_timestamp_list):\n",
    "    list_departure_hours = []\n",
    "    i = 0\n",
    "    if len(initial_points_timestamp_list) >1:\n",
    "        for i in range(0, len(initial_points_timestamp_list)-1):\n",
    "            resto = datetime.datetime.strptime(initial_points_timestamp_list[i+1], \"%d-%m-%Y %H:%M:%S\")-datetime.datetime.strptime(initial_points_timestamp_list[i], \"%d-%m-%Y %H:%M:%S\")\n",
    "            resto_total = resto.total_seconds()/60\n",
    "            #si la diferencia entre los timestamp del omnibus en el putno supera los 40 minutos es q dio un viaje y regreso, sino lo supera es que se mantuvo ese tiempo esperando en el punto\n",
    "            if (resto_total > 40):\n",
    "                 list_departure_hours.insert(len( list_departure_hours),datetime.datetime.strptime(initial_points_timestamp_list[i], \"%d-%m-%Y %H:%M:%S\"))\n",
    "        #siempre es necesario insertar el ultimo valor de la lista de \"initial_points_timestamp\" en la lista de  list_departure_hours \n",
    "        list_departure_hours.insert(len( list_departure_hours),datetime.datetime.strptime(initial_points_timestamp_list[i+1], \"%d-%m-%Y %H:%M:%S\"))\n",
    "    elif len(initial_points_timestamp_list) == 1:\n",
    "        list_departure_hours.insert(len( list_departure_hours),datetime.datetime.strptime(initial_points_timestamp_list[0], \"%d-%m-%Y %H:%M:%S\"))\n",
    "    else:\n",
    "        list_departure_hours = []\n",
    "    return list_departure_hours"
   ]
  },
  {
   "cell_type": "code",
   "execution_count": 27,
   "metadata": {
    "collapsed": false
   },
   "outputs": [
    {
     "data": {
      "text/plain": [
       "[datetime.datetime(2015, 8, 17, 8, 9, 9),\n",
       " datetime.datetime(2015, 8, 17, 13, 52, 1)]"
      ]
     },
     "execution_count": 27,
     "metadata": {},
     "output_type": "execute_result"
    }
   ],
   "source": [
    "#Llamada a la funcion bus_departure_hour para el punto Leblon (devuelve todas las horas en que salio el omnibus de Leblon)\n",
    "initial_departure_hours = bus_departure_hour(initial_points_timestamp)\n",
    "initial_departure_hours"
   ]
  },
  {
   "cell_type": "code",
   "execution_count": 28,
   "metadata": {
    "collapsed": false
   },
   "outputs": [
    {
     "data": {
      "text/plain": [
       "[datetime.datetime(2015, 8, 17, 5, 58, 58),\n",
       " datetime.datetime(2015, 8, 17, 11, 18, 58),\n",
       " datetime.datetime(2015, 8, 17, 17, 19, 48)]"
      ]
     },
     "execution_count": 28,
     "metadata": {},
     "output_type": "execute_result"
    }
   ],
   "source": [
    "#Llamada a la funcion bus_departure_hour para el punto Vila Isabel  (devuelve todas las horas en que salio el omnibus de Vila Isabel)\n",
    "final_departure_hours = bus_departure_hour(final_points_timestamp)\n",
    "final_departure_hours"
   ]
  },
  {
   "cell_type": "code",
   "execution_count": 46,
   "metadata": {
    "collapsed": true
   },
   "outputs": [],
   "source": [
    "#Funcion que retorna el arreglo con las horas de llegada del omnibus al punto inicial/final del trayecto\n",
    "def bus_arrive_hour (initial_points_timestamp_list):\n",
    "    list_arrive_hours = []\n",
    "    #siempre es necesario insertar el ultimo valor de la lista de \"initial_points_timestamp\" en la lista de leblon_departure_hours \n",
    "    if len(initial_points_timestamp_list) >1:\n",
    "        list_arrive_hours.insert(len(list_arrive_hours),datetime.datetime.strptime(initial_points_timestamp_list[0], \"%d-%m-%Y %H:%M:%S\"))\n",
    "        for i in range(0,  len(initial_points_timestamp_list)-1):\n",
    "            resto = datetime.datetime.strptime(initial_points_timestamp_list[i+1], \"%d-%m-%Y %H:%M:%S\")-datetime.datetime.strptime(initial_points_timestamp_list[i], \"%d-%m-%Y %H:%M:%S\")\n",
    "            resto_total = resto.total_seconds()/60\n",
    "            if (resto_total > 40):\n",
    "                list_arrive_hours.insert(len(list_arrive_hours),datetime.datetime.strptime(initial_points_timestamp_list[i+1], \"%d-%m-%Y %H:%M:%S\"))\n",
    "    elif (len(initial_points_timestamp_list) == 1):\n",
    "        list_arrive_hours.insert(len(list_arrive_hours),datetime.datetime.strptime(initial_points_timestamp_list[0], \"%d-%m-%Y %H:%M:%S\"))\n",
    "    else:\n",
    "        list_arrive_hours = []        \n",
    "    return list_arrive_hours"
   ]
  },
  {
   "cell_type": "code",
   "execution_count": 30,
   "metadata": {
    "collapsed": false
   },
   "outputs": [
    {
     "data": {
      "text/plain": [
       "[datetime.datetime(2015, 8, 17, 7, 59, 48),\n",
       " datetime.datetime(2015, 8, 17, 13, 47, 21)]"
      ]
     },
     "execution_count": 30,
     "metadata": {},
     "output_type": "execute_result"
    }
   ],
   "source": [
    "#Llamada a la funcion bus_arrive_hour para el punto Leblon  (devuelve todas las horas en que llegó el omnibus a Leblon)\n",
    "arrive_hour_to_initialpoint = bus_arrive_hour(initial_points_timestamp)\n",
    "arrive_hour_to_initialpoint"
   ]
  },
  {
   "cell_type": "code",
   "execution_count": 31,
   "metadata": {
    "collapsed": false
   },
   "outputs": [
    {
     "data": {
      "text/plain": [
       "[datetime.datetime(2015, 8, 17, 5, 54, 18),\n",
       " datetime.datetime(2015, 8, 17, 11, 7, 18),\n",
       " datetime.datetime(2015, 8, 17, 15, 50, 19)]"
      ]
     },
     "execution_count": 31,
     "metadata": {},
     "output_type": "execute_result"
    }
   ],
   "source": [
    "#Llamada a la funcion bus_arrive_hour para el punto Vila Isabel  (devuelve todas las horas en que llegó el omnibus a Vila Isabel)\n",
    "arrive_hour_to_finalpoint = bus_arrive_hour(final_points_timestamp)\n",
    "arrive_hour_to_finalpoint"
   ]
  },
  {
   "cell_type": "code",
   "execution_count": 26,
   "metadata": {
    "collapsed": true
   },
   "outputs": [],
   "source": [
    "#Para convertir de formato timedelta para horas y minutos\n",
    "def days_hours_minutes(travel_time):\n",
    "    hours = travel_time.seconds//3600 \n",
    "    minutes = (travel_time.seconds//60)%60\n",
    "    #print '%d hours, %d minutes' % (hours,minutes)\n",
    "    if minutes < 10:\n",
    "        minutes = str(0)+str(minutes)\n",
    "    return str(hours) + \":\"+ str(minutes)"
   ]
  },
  {
   "cell_type": "code",
   "execution_count": 27,
   "metadata": {
    "collapsed": false
   },
   "outputs": [],
   "source": [
    "#Funcion que crea la tabla de viajes con los tiempos de viaje\n",
    "def create_travel_table (name_A, arrive_array_A, departure_array_A, name_B, arrive_array_B, departure_array_B, bus_Id, bus_line):\n",
    "    \n",
    "    my_time_table = []   \n",
    "    num_travel = 0    \n",
    "    i = 0 #Cursor para moverme por el departure_array_A(arreglo q contiene las horas de salida del punto incial)   \n",
    "    j = 0 #Cursor para moverme por el departure_array_B (arreglo q contiene las horas de salida del punto final)\n",
    "   \n",
    "    while (i<len(departure_array_A) and j< len(departure_array_B)):\n",
    "        if (departure_array_A[i] < departure_array_B[j]):\n",
    "            if(i+1 == len(departure_array_A)):\n",
    "                direction = name_A + \"_to_\" + name_B\n",
    "                departure_hour = departure_array_A[i]\n",
    "                i = i +1\n",
    "                arrive_hour = arrive_array_B[j]\n",
    "                num_travel = num_travel +1\n",
    "                travel_time = days_hours_minutes(arrive_hour - departure_hour)          \n",
    "                my_time_table.insert(len(my_time_table), [bus_line, bus_Id, direction, departure_hour,arrive_hour, travel_time])\n",
    "         \n",
    "            elif ((i+1 < len(departure_array_A)) and (departure_array_B[j] < departure_array_A[i+1])):\n",
    "                direction = name_A + \"_to_\" + name_B\n",
    "                departure_hour = departure_array_A[i]\n",
    "                i = i +1\n",
    "                arrive_hour = arrive_array_B[j]\n",
    "                num_travel = num_travel +1\n",
    "                travel_time = days_hours_minutes(arrive_hour - departure_hour)          \n",
    "                my_time_table.insert(len(my_time_table), [bus_line, bus_Id, direction, departure_hour,arrive_hour, travel_time])\n",
    "            else: \n",
    "                i = i +1\n",
    "            \n",
    "        elif(departure_array_B[j] < departure_array_A[i]):\n",
    "            if (j+1 == len(departure_array_B)):\n",
    "                direction = name_B + \"_to_\" + name_A\n",
    "                departure_hour = departure_array_B[j]\n",
    "                j = j +1\n",
    "                arrive_hour = arrive_array_A[i]\n",
    "                num_travel = num_travel +1\n",
    "                travel_time = days_hours_minutes(arrive_hour - departure_hour)          \n",
    "                my_time_table.insert(len(my_time_table), [bus_line, bus_Id, direction, departure_hour,arrive_hour, travel_time])\n",
    "            \n",
    "            elif ((j+1 < len(departure_array_B)) and (departure_array_A[i] < departure_array_B[j+1])):\n",
    "                direction = name_B + \"_to_\" + name_A\n",
    "                departure_hour = departure_array_B[j]\n",
    "                j = j +1\n",
    "                arrive_hour = arrive_array_A[i]\n",
    "                num_travel = num_travel +1\n",
    "                travel_time = days_hours_minutes(arrive_hour - departure_hour)          \n",
    "                my_time_table.insert(len(my_time_table), [bus_line, bus_Id, direction, departure_hour,arrive_hour, travel_time])\n",
    "            else:\n",
    "                j = j +1                \n",
    "            \n",
    "    #Construir el dataframe pasandole el array con todos los datos de los viajes   \n",
    "    mydf = pd.DataFrame(my_time_table, columns=['Line', 'Bus_Id','Direction','Departure_Hour', 'Arrive_Hour', 'Travel_Time'])       \n",
    "    return mydf  \n"
   ]
  },
  {
   "cell_type": "code",
   "execution_count": 34,
   "metadata": {
    "collapsed": false
   },
   "outputs": [
    {
     "data": {
      "text/html": [
       "<div>\n",
       "<table border=\"1\" class=\"dataframe\">\n",
       "  <thead>\n",
       "    <tr style=\"text-align: right;\">\n",
       "      <th></th>\n",
       "      <th>Line</th>\n",
       "      <th>Bus_Id</th>\n",
       "      <th>Direction</th>\n",
       "      <th>Departure_Hour</th>\n",
       "      <th>Arrive_Hour</th>\n",
       "      <th>Travel_Time</th>\n",
       "    </tr>\n",
       "  </thead>\n",
       "  <tbody>\n",
       "    <tr>\n",
       "      <th>0</th>\n",
       "      <td>316</td>\n",
       "      <td>C41422</td>\n",
       "      <td>Central_to_Barra</td>\n",
       "      <td>2015-08-17 05:58:58</td>\n",
       "      <td>2015-08-17 07:59:48</td>\n",
       "      <td>2:00</td>\n",
       "    </tr>\n",
       "    <tr>\n",
       "      <th>1</th>\n",
       "      <td>316</td>\n",
       "      <td>C41422</td>\n",
       "      <td>Barra_to_Central</td>\n",
       "      <td>2015-08-17 08:09:09</td>\n",
       "      <td>2015-08-17 11:07:18</td>\n",
       "      <td>2:58</td>\n",
       "    </tr>\n",
       "    <tr>\n",
       "      <th>2</th>\n",
       "      <td>316</td>\n",
       "      <td>C41422</td>\n",
       "      <td>Central_to_Barra</td>\n",
       "      <td>2015-08-17 11:18:58</td>\n",
       "      <td>2015-08-17 13:47:21</td>\n",
       "      <td>2:28</td>\n",
       "    </tr>\n",
       "    <tr>\n",
       "      <th>3</th>\n",
       "      <td>316</td>\n",
       "      <td>C41422</td>\n",
       "      <td>Barra_to_Central</td>\n",
       "      <td>2015-08-17 13:52:01</td>\n",
       "      <td>2015-08-17 15:50:19</td>\n",
       "      <td>1:58</td>\n",
       "    </tr>\n",
       "  </tbody>\n",
       "</table>\n",
       "</div>"
      ],
      "text/plain": [
       "  Line  Bus_Id         Direction      Departure_Hour         Arrive_Hour  \\\n",
       "0  316  C41422  Central_to_Barra 2015-08-17 05:58:58 2015-08-17 07:59:48   \n",
       "1  316  C41422  Barra_to_Central 2015-08-17 08:09:09 2015-08-17 11:07:18   \n",
       "2  316  C41422  Central_to_Barra 2015-08-17 11:18:58 2015-08-17 13:47:21   \n",
       "3  316  C41422  Barra_to_Central 2015-08-17 13:52:01 2015-08-17 15:50:19   \n",
       "\n",
       "  Travel_Time  \n",
       "0        2:00  \n",
       "1        2:58  \n",
       "2        2:28  \n",
       "3        1:58  "
      ]
     },
     "execution_count": 34,
     "metadata": {},
     "output_type": "execute_result"
    }
   ],
   "source": [
    "#dados para llamar a la funcion\n",
    "\n",
    "mytabla_C41422 = create_travel_table(\"Barra\", arrive_hour_to_initialpoint, initial_departure_hours, \"Central\", arrive_hour_to_finalpoint, final_departure_hours, 'C41422', '316' )\n",
    "mytabla_C41422"
   ]
  },
  {
   "cell_type": "code",
   "execution_count": 35,
   "metadata": {
    "collapsed": true
   },
   "outputs": [],
   "source": [
    "#hacer lo mismo para el omnibus 'C41424'\n",
    "df_20150817_line_316_C41424 = df_20150817_line_316[(df_20150817_line_316['bus_id'] == 'C41424')]"
   ]
  },
  {
   "cell_type": "code",
   "execution_count": 36,
   "metadata": {
    "collapsed": false
   },
   "outputs": [],
   "source": [
    "sorted_near_initial_points_C41424 = near_points_to_origin ('C41424', inverted_initial_point)"
   ]
  },
  {
   "cell_type": "code",
   "execution_count": 37,
   "metadata": {
    "collapsed": false
   },
   "outputs": [],
   "source": [
    "sorted_near_final_points_C41424 = near_points_to_origin ('C41424', inverted_final_point)\n"
   ]
  },
  {
   "cell_type": "code",
   "execution_count": 38,
   "metadata": {
    "collapsed": false,
    "scrolled": true
   },
   "outputs": [
    {
     "data": {
      "text/html": [
       "<iframe src=\"files/map.html\" style=\"width: 100%; height: 510px; border: none\"></iframe>"
      ],
      "text/plain": [
       "<IPython.core.display.HTML object>"
      ]
     },
     "execution_count": 38,
     "metadata": {},
     "output_type": "execute_result"
    }
   ],
   "source": [
    "#graficando los initial y final points\n",
    "map_316_C41424 = folium.Map(location=[-22.923714, -43.258999], zoom_start=11)\n",
    "locations316_C41424 = []\n",
    "for row in onibus316_shapes.iterrows():\n",
    "    #The 'latitude' and 'longitude' names correspond to column names in the original cceats dataframe\n",
    "    locations316_C41424.insert(1, [ row[1]['latitude'], row[1]['longitude'] ])\n",
    "\n",
    "map_316_C41424.line(locations316_C41424)\n",
    "\n",
    "#insertar los popups\n",
    "#Pintando Circulos de radio de 155m alrededor de los puntos incial y final \n",
    "map_316_C41424.simple_marker(final_point, popup='Centro')\n",
    "map_316_C41424.simple_marker(initial_point, popup='Barra')\n",
    "\n",
    "#Punto inicial\n",
    "map_316_C41424.circle_marker(location=final_point, radius=155,line_color='brown',\n",
    "                 fill_color='#3186cc', fill_opacity=0.2)\n",
    "\n",
    "#Punto inicial\n",
    "map_316_C41424.circle_marker(location=initial_point, radius=155,line_color='black',\n",
    "                 fill_color='#3186cc', fill_opacity=0.2)\n",
    "\n",
    "#esto es para graficar los near points de la parada inicial y final\n",
    "for row in df_20150817_line_316_C41424.iterrows():\n",
    "    #The 'latitude' and 'longitude' names correspond to column names in the original cceats dataframe\n",
    "    latlon = [ row[1]['latitude'], row[1]['longitude'] ]\n",
    "    map_316_C41424.polygon_marker( latlon, fill_color='white', num_sides=4, radius=6)    \n",
    "\n",
    "for row in sorted_near_initial_points_C41424 .iterrows():\n",
    "    #The 'latitude' and 'longitude' names correspond to column names in the original cceats dataframe\n",
    "    latlon = [ row[1]['latitude'], row[1]['longitude'] ]\n",
    "    map_316_C41424.polygon_marker( latlon, fill_color='orange', num_sides=4, radius=6)\n",
    "    \n",
    "for row in sorted_near_final_points_C41424.iterrows():\n",
    "    #The 'latitude' and 'longitude' names correspond to column names in the original cceats dataframe\n",
    "    latlon = [ row[1]['latitude'], row[1]['longitude'] ]\n",
    "    map_316_C41424.polygon_marker( latlon, fill_color='orange', num_sides=4, radius=6)    \n",
    "\n",
    " \n",
    "\n",
    "embed_map(map_316_C41424)\n"
   ]
  },
  {
   "cell_type": "code",
   "execution_count": 39,
   "metadata": {
    "collapsed": false
   },
   "outputs": [],
   "source": [
    "initial_points_timestamp_C41424 = sorted_near_initial_points_C41424['timestamp']\n"
   ]
  },
  {
   "cell_type": "code",
   "execution_count": 40,
   "metadata": {
    "collapsed": false
   },
   "outputs": [],
   "source": [
    "final_points_timestamp_C41424 = sorted_near_final_points_C41424['timestamp']"
   ]
  },
  {
   "cell_type": "code",
   "execution_count": 41,
   "metadata": {
    "collapsed": false
   },
   "outputs": [
    {
     "data": {
      "text/plain": [
       "[datetime.datetime(2015, 8, 17, 7, 34, 47),\n",
       " datetime.datetime(2015, 8, 17, 13, 9, 55),\n",
       " datetime.datetime(2015, 8, 17, 19, 9, 49)]"
      ]
     },
     "execution_count": 41,
     "metadata": {},
     "output_type": "execute_result"
    }
   ],
   "source": [
    "#Llamada a la funcion bus_departure_hour para el punto Leblon (devuelve todas las horas en que salio el omnibus de Leblon)\n",
    "initial_departure_hours_C41424 = bus_departure_hour(initial_points_timestamp_C41424)\n",
    "initial_departure_hours_C41424"
   ]
  },
  {
   "cell_type": "code",
   "execution_count": 42,
   "metadata": {
    "collapsed": false
   },
   "outputs": [
    {
     "data": {
      "text/plain": [
       "[datetime.datetime(2015, 8, 17, 10, 46, 10),\n",
       " datetime.datetime(2015, 8, 17, 15, 32, 6),\n",
       " datetime.datetime(2015, 8, 17, 21, 14, 21)]"
      ]
     },
     "execution_count": 42,
     "metadata": {},
     "output_type": "execute_result"
    }
   ],
   "source": [
    "#Llamada a la funcion bus_departure_hour para el punto Leblon (devuelve todas las horas en que salio el omnibus de Leblon)\n",
    "final_departure_hours_C41424 = bus_departure_hour(final_points_timestamp_C41424)\n",
    "final_departure_hours_C41424"
   ]
  },
  {
   "cell_type": "code",
   "execution_count": 43,
   "metadata": {
    "collapsed": false
   },
   "outputs": [
    {
     "data": {
      "text/plain": [
       "[datetime.datetime(2015, 8, 17, 7, 13, 13),\n",
       " datetime.datetime(2015, 8, 17, 12, 59, 59),\n",
       " datetime.datetime(2015, 8, 17, 18, 53, 1)]"
      ]
     },
     "execution_count": 43,
     "metadata": {},
     "output_type": "execute_result"
    }
   ],
   "source": [
    "arrive_hour_to_initialpoint_C41424 = bus_arrive_hour(initial_points_timestamp_C41424)\n",
    "arrive_hour_to_initialpoint_C41424"
   ]
  },
  {
   "cell_type": "code",
   "execution_count": 44,
   "metadata": {
    "collapsed": false
   },
   "outputs": [
    {
     "data": {
      "text/plain": [
       "[datetime.datetime(2015, 8, 17, 10, 16, 24),\n",
       " datetime.datetime(2015, 8, 17, 15, 14, 46),\n",
       " datetime.datetime(2015, 8, 17, 20, 59, 46)]"
      ]
     },
     "execution_count": 44,
     "metadata": {},
     "output_type": "execute_result"
    }
   ],
   "source": [
    "arrive_hour_to_finalpoint_C41424 = bus_arrive_hour(final_points_timestamp_C41424)\n",
    "arrive_hour_to_finalpoint_C41424"
   ]
  },
  {
   "cell_type": "code",
   "execution_count": 45,
   "metadata": {
    "collapsed": false
   },
   "outputs": [
    {
     "data": {
      "text/html": [
       "<div>\n",
       "<table border=\"1\" class=\"dataframe\">\n",
       "  <thead>\n",
       "    <tr style=\"text-align: right;\">\n",
       "      <th></th>\n",
       "      <th>Line</th>\n",
       "      <th>Bus_Id</th>\n",
       "      <th>Direction</th>\n",
       "      <th>Departure_Hour</th>\n",
       "      <th>Arrive_Hour</th>\n",
       "      <th>Travel_Time</th>\n",
       "    </tr>\n",
       "  </thead>\n",
       "  <tbody>\n",
       "    <tr>\n",
       "      <th>0</th>\n",
       "      <td>316</td>\n",
       "      <td>C41424</td>\n",
       "      <td>Barra_to_Central</td>\n",
       "      <td>2015-08-17 07:34:47</td>\n",
       "      <td>2015-08-17 10:16:24</td>\n",
       "      <td>2:41</td>\n",
       "    </tr>\n",
       "    <tr>\n",
       "      <th>1</th>\n",
       "      <td>316</td>\n",
       "      <td>C41424</td>\n",
       "      <td>Central_to_Barra</td>\n",
       "      <td>2015-08-17 10:46:10</td>\n",
       "      <td>2015-08-17 12:59:59</td>\n",
       "      <td>2:13</td>\n",
       "    </tr>\n",
       "    <tr>\n",
       "      <th>2</th>\n",
       "      <td>316</td>\n",
       "      <td>C41424</td>\n",
       "      <td>Barra_to_Central</td>\n",
       "      <td>2015-08-17 13:09:55</td>\n",
       "      <td>2015-08-17 15:14:46</td>\n",
       "      <td>2:04</td>\n",
       "    </tr>\n",
       "    <tr>\n",
       "      <th>3</th>\n",
       "      <td>316</td>\n",
       "      <td>C41424</td>\n",
       "      <td>Central_to_Barra</td>\n",
       "      <td>2015-08-17 15:32:06</td>\n",
       "      <td>2015-08-17 18:53:01</td>\n",
       "      <td>3:20</td>\n",
       "    </tr>\n",
       "    <tr>\n",
       "      <th>4</th>\n",
       "      <td>316</td>\n",
       "      <td>C41424</td>\n",
       "      <td>Barra_to_Central</td>\n",
       "      <td>2015-08-17 19:09:49</td>\n",
       "      <td>2015-08-17 20:59:46</td>\n",
       "      <td>1:49</td>\n",
       "    </tr>\n",
       "  </tbody>\n",
       "</table>\n",
       "</div>"
      ],
      "text/plain": [
       "  Line  Bus_Id         Direction      Departure_Hour         Arrive_Hour  \\\n",
       "0  316  C41424  Barra_to_Central 2015-08-17 07:34:47 2015-08-17 10:16:24   \n",
       "1  316  C41424  Central_to_Barra 2015-08-17 10:46:10 2015-08-17 12:59:59   \n",
       "2  316  C41424  Barra_to_Central 2015-08-17 13:09:55 2015-08-17 15:14:46   \n",
       "3  316  C41424  Central_to_Barra 2015-08-17 15:32:06 2015-08-17 18:53:01   \n",
       "4  316  C41424  Barra_to_Central 2015-08-17 19:09:49 2015-08-17 20:59:46   \n",
       "\n",
       "  Travel_Time  \n",
       "0        2:41  \n",
       "1        2:13  \n",
       "2        2:04  \n",
       "3        3:20  \n",
       "4        1:49  "
      ]
     },
     "execution_count": 45,
     "metadata": {},
     "output_type": "execute_result"
    }
   ],
   "source": [
    "mytabla_C41424 = create_travel_table(\"Barra\", arrive_hour_to_initialpoint_C41424, initial_departure_hours_C41424, \"Central\", arrive_hour_to_finalpoint_C41424, final_departure_hours_C41424, 'C41424', '316' )\n",
    "mytabla_C41424"
   ]
  },
  {
   "cell_type": "code",
   "execution_count": 51,
   "metadata": {
    "collapsed": false
   },
   "outputs": [],
   "source": [
    "#hacer lo mismo para el omnibus 'C41427'\n",
    "df_20150817_line_316_C41427 = df_20150817_line_316[(df_20150817_line_316['bus_id'] == 'C41427')]"
   ]
  },
  {
   "cell_type": "code",
   "execution_count": 52,
   "metadata": {
    "collapsed": false
   },
   "outputs": [],
   "source": [
    "sorted_near_initial_points_C41427 = near_points_to_origin ('C41427', inverted_initial_point)\n"
   ]
  },
  {
   "cell_type": "code",
   "execution_count": 53,
   "metadata": {
    "collapsed": false
   },
   "outputs": [],
   "source": [
    "sorted_near_final_points_C41427 = near_points_to_origin ('C41427', inverted_final_point)\n"
   ]
  },
  {
   "cell_type": "code",
   "execution_count": 54,
   "metadata": {
    "collapsed": false,
    "scrolled": true
   },
   "outputs": [
    {
     "data": {
      "text/html": [
       "<iframe src=\"files/map.html\" style=\"width: 100%; height: 510px; border: none\"></iframe>"
      ],
      "text/plain": [
       "<IPython.core.display.HTML object>"
      ]
     },
     "execution_count": 54,
     "metadata": {},
     "output_type": "execute_result"
    }
   ],
   "source": [
    "#graficando los initial y final points\n",
    "map_316_C41427 = folium.Map(location=[-22.923714, -43.258999], zoom_start=11)\n",
    "locations316 = []\n",
    "for row in onibus316_shapes.iterrows():\n",
    "    #The 'latitude' and 'longitude' names correspond to column names in the original cceats dataframe\n",
    "    locations316.insert(1, [ row[1]['latitude'], row[1]['longitude'] ])\n",
    "\n",
    "map_316_C41427.line(locations316)\n",
    "\n",
    "#insertar los popups\n",
    "#Pintando Circulos de radio de 155m alrededor de los puntos incial y final \n",
    "map_316_C41427.simple_marker(final_point, popup='Centro')\n",
    "map_316_C41427.simple_marker(initial_point, popup='Barra')\n",
    "\n",
    "#Punto inicial\n",
    "map_316_C41427.circle_marker(location=final_point, radius=155,line_color='brown',\n",
    "                 fill_color='#3186cc', fill_opacity=0.2)\n",
    "\n",
    "#Punto inicial\n",
    "map_316_C41427.circle_marker(location=initial_point, radius=155,line_color='black',\n",
    "                 fill_color='#3186cc', fill_opacity=0.2)\n",
    "\n",
    "#esto es para graficar los near points de la parada inicial y final\n",
    "for row in df_20150817_line_316_C41427.iterrows():\n",
    "    #The 'latitude' and 'longitude' names correspond to column names in the original cceats dataframe\n",
    "    latlon = [ row[1]['latitude'], row[1]['longitude'] ]\n",
    "    map_316_C41427.polygon_marker( latlon, fill_color='white', num_sides=4, radius=6)    \n",
    "\n",
    "for row in sorted_near_initial_points_C41427.iterrows():\n",
    "    #The 'latitude' and 'longitude' names correspond to column names in the original cceats dataframe\n",
    "    latlon = [ row[1]['latitude'], row[1]['longitude'] ]\n",
    "    map_316_C41427.polygon_marker( latlon, fill_color='orange', num_sides=4, radius=6)\n",
    "    \n",
    "for row in sorted_near_final_points_C41427.iterrows():\n",
    "    #The 'latitude' and 'longitude' names correspond to column names in the original cceats dataframe\n",
    "    latlon = [ row[1]['latitude'], row[1]['longitude'] ]\n",
    "    map_316_C41427.polygon_marker( latlon, fill_color='orange', num_sides=4, radius=6)    \n",
    "\n",
    "embed_map(map_316_C41427)\n"
   ]
  },
  {
   "cell_type": "code",
   "execution_count": 55,
   "metadata": {
    "collapsed": false
   },
   "outputs": [],
   "source": [
    "initial_points_timestamp_C41427 = sorted_near_initial_points_C41427['timestamp']\n"
   ]
  },
  {
   "cell_type": "code",
   "execution_count": 56,
   "metadata": {
    "collapsed": false
   },
   "outputs": [],
   "source": [
    "final_points_timestamp_C41427 = sorted_near_final_points_C41427['timestamp']"
   ]
  },
  {
   "cell_type": "code",
   "execution_count": 57,
   "metadata": {
    "collapsed": false
   },
   "outputs": [
    {
     "data": {
      "text/plain": [
       "[datetime.datetime(2015, 8, 17, 9, 48, 50),\n",
       " datetime.datetime(2015, 8, 17, 17, 19, 21)]"
      ]
     },
     "execution_count": 57,
     "metadata": {},
     "output_type": "execute_result"
    }
   ],
   "source": [
    "#Llamada a la funcion bus_departure_hour para el punto Leblon (devuelve todas las horas en que salio el omnibus de Leblon)\n",
    "initial_departure_hours_C41427 = bus_departure_hour(initial_points_timestamp_C41427)\n",
    "initial_departure_hours_C41427"
   ]
  },
  {
   "cell_type": "code",
   "execution_count": 58,
   "metadata": {
    "collapsed": false
   },
   "outputs": [
    {
     "data": {
      "text/plain": [
       "[datetime.datetime(2015, 8, 17, 6, 36, 54),\n",
       " datetime.datetime(2015, 8, 17, 12, 15, 10),\n",
       " datetime.datetime(2015, 8, 17, 14, 41, 6),\n",
       " datetime.datetime(2015, 8, 17, 20, 39, 59)]"
      ]
     },
     "execution_count": 58,
     "metadata": {},
     "output_type": "execute_result"
    }
   ],
   "source": [
    "final_departure_hours_C41427 = bus_departure_hour(final_points_timestamp_C41427)\n",
    "final_departure_hours_C41427"
   ]
  },
  {
   "cell_type": "code",
   "execution_count": 59,
   "metadata": {
    "collapsed": false
   },
   "outputs": [
    {
     "data": {
      "text/plain": [
       "[datetime.datetime(2015, 8, 17, 9, 30, 57),\n",
       " datetime.datetime(2015, 8, 17, 17, 8, 51)]"
      ]
     },
     "execution_count": 59,
     "metadata": {},
     "output_type": "execute_result"
    }
   ],
   "source": [
    "arrive_hour_to_initialpoint_C41427 = bus_arrive_hour(initial_points_timestamp_C41427)\n",
    "arrive_hour_to_initialpoint_C41427"
   ]
  },
  {
   "cell_type": "code",
   "execution_count": 60,
   "metadata": {
    "collapsed": false
   },
   "outputs": [
    {
     "data": {
      "text/plain": [
       "[datetime.datetime(2015, 8, 17, 6, 15, 55),\n",
       " datetime.datetime(2015, 8, 17, 12, 14),\n",
       " datetime.datetime(2015, 8, 17, 14, 20, 5),\n",
       " datetime.datetime(2015, 8, 17, 20, 29, 6)]"
      ]
     },
     "execution_count": 60,
     "metadata": {},
     "output_type": "execute_result"
    }
   ],
   "source": [
    "arrive_hour_to_finalpoint_C41427 = bus_arrive_hour(final_points_timestamp_C41427)\n",
    "arrive_hour_to_finalpoint_C41427"
   ]
  },
  {
   "cell_type": "code",
   "execution_count": 61,
   "metadata": {
    "collapsed": false,
    "scrolled": true
   },
   "outputs": [
    {
     "data": {
      "text/html": [
       "<div>\n",
       "<table border=\"1\" class=\"dataframe\">\n",
       "  <thead>\n",
       "    <tr style=\"text-align: right;\">\n",
       "      <th></th>\n",
       "      <th>Line</th>\n",
       "      <th>Bus_Id</th>\n",
       "      <th>Direction</th>\n",
       "      <th>Departure_Hour</th>\n",
       "      <th>Arrive_Hour</th>\n",
       "      <th>Travel_Time</th>\n",
       "    </tr>\n",
       "  </thead>\n",
       "  <tbody>\n",
       "    <tr>\n",
       "      <th>0</th>\n",
       "      <td>316</td>\n",
       "      <td>C41427</td>\n",
       "      <td>Central_to_Barra</td>\n",
       "      <td>2015-08-17 06:36:54</td>\n",
       "      <td>2015-08-17 09:30:57</td>\n",
       "      <td>2:54</td>\n",
       "    </tr>\n",
       "    <tr>\n",
       "      <th>1</th>\n",
       "      <td>316</td>\n",
       "      <td>C41427</td>\n",
       "      <td>Barra_to_Central</td>\n",
       "      <td>2015-08-17 09:48:50</td>\n",
       "      <td>2015-08-17 12:14:00</td>\n",
       "      <td>2:25</td>\n",
       "    </tr>\n",
       "    <tr>\n",
       "      <th>2</th>\n",
       "      <td>316</td>\n",
       "      <td>C41427</td>\n",
       "      <td>Central_to_Barra</td>\n",
       "      <td>2015-08-17 14:41:06</td>\n",
       "      <td>2015-08-17 17:08:51</td>\n",
       "      <td>2:27</td>\n",
       "    </tr>\n",
       "    <tr>\n",
       "      <th>3</th>\n",
       "      <td>316</td>\n",
       "      <td>C41427</td>\n",
       "      <td>Barra_to_Central</td>\n",
       "      <td>2015-08-17 17:19:21</td>\n",
       "      <td>2015-08-17 20:29:06</td>\n",
       "      <td>3:09</td>\n",
       "    </tr>\n",
       "  </tbody>\n",
       "</table>\n",
       "</div>"
      ],
      "text/plain": [
       "  Line  Bus_Id         Direction      Departure_Hour         Arrive_Hour  \\\n",
       "0  316  C41427  Central_to_Barra 2015-08-17 06:36:54 2015-08-17 09:30:57   \n",
       "1  316  C41427  Barra_to_Central 2015-08-17 09:48:50 2015-08-17 12:14:00   \n",
       "2  316  C41427  Central_to_Barra 2015-08-17 14:41:06 2015-08-17 17:08:51   \n",
       "3  316  C41427  Barra_to_Central 2015-08-17 17:19:21 2015-08-17 20:29:06   \n",
       "\n",
       "  Travel_Time  \n",
       "0        2:54  \n",
       "1        2:25  \n",
       "2        2:27  \n",
       "3        3:09  "
      ]
     },
     "execution_count": 61,
     "metadata": {},
     "output_type": "execute_result"
    }
   ],
   "source": [
    "mytabla_C41427 = create_travel_table(\"Barra\", arrive_hour_to_initialpoint_C41427, initial_departure_hours_C41427, \"Central\", arrive_hour_to_finalpoint_C41427, final_departure_hours_C41427, 'C41427', '316' )\n",
    "mytabla_C41427"
   ]
  },
  {
   "cell_type": "code",
   "execution_count": 76,
   "metadata": {
    "collapsed": false
   },
   "outputs": [],
   "source": [
    "#hacer lo mismo para el omnibus 'C41423'\n",
    "df_20150817_line_316_C41423 = df_20150817_line_316[(df_20150817_line_316['bus_id'] == 'C41423')]\n",
    "sorted_near_initial_points_C41423 = near_points_to_origin ('C41423', inverted_initial_point)\n",
    "sorted_near_final_points_C41423 = near_points_to_origin ('C41423', inverted_final_point)\n"
   ]
  },
  {
   "cell_type": "code",
   "execution_count": 86,
   "metadata": {
    "collapsed": false
   },
   "outputs": [
    {
     "data": {
      "text/html": [
       "<iframe src=\"files/map.html\" style=\"width: 100%; height: 510px; border: none\"></iframe>"
      ],
      "text/plain": [
       "<IPython.core.display.HTML object>"
      ]
     },
     "execution_count": 86,
     "metadata": {},
     "output_type": "execute_result"
    }
   ],
   "source": [
    "#graficando los initial y final points\n",
    "map_316_C41423 = folium.Map(location=[-22.923714, -43.258999], zoom_start=11)\n",
    "locations316 = []\n",
    "for row in onibus316_shapes.iterrows():\n",
    "    #The 'latitude' and 'longitude' names correspond to column names in the original cceats dataframe\n",
    "    locations316.insert(1, [ row[1]['latitude'], row[1]['longitude'] ])\n",
    "\n",
    "map_316_C41423.line(locations316)\n",
    "\n",
    "#insertar los popups\n",
    "#Pintando Circulos de radio de 155m alrededor de los puntos incial y final \n",
    "map_316_C41423.simple_marker(final_point, popup='Centro')\n",
    "map_316_C41423.simple_marker(initial_point, popup='Barra')\n",
    "\n",
    "#Punto inicial\n",
    "map_316_C41423.circle_marker(location=final_point, radius=155,line_color='brown',\n",
    "                 fill_color='#3186cc', fill_opacity=0.2)\n",
    "\n",
    "#Punto inicial\n",
    "map_316_C41423.circle_marker(location=initial_point, radius=155,line_color='black',\n",
    "                 fill_color='#3186cc', fill_opacity=0.2)\n",
    "\n",
    "#esto es para graficar los near points de la parada inicial y final\n",
    "for row in df_20150817_line_316_C41423.iterrows():\n",
    "    #The 'latitude' and 'longitude' names correspond to column names in the original cceats dataframe\n",
    "    latlon = [ row[1]['latitude'], row[1]['longitude'] ]\n",
    "    map_316_C41423.polygon_marker( latlon, fill_color='white', num_sides=4, radius=6)    \n",
    "\n",
    "for row in sorted_near_initial_points_C41423.iterrows():\n",
    "    #The 'latitude' and 'longitude' names correspond to column names in the original cceats dataframe\n",
    "    latlon = [ row[1]['latitude'], row[1]['longitude'] ]\n",
    "    map_316_C41423.polygon_marker( latlon, fill_color='orange', num_sides=4, radius=6)\n",
    "    \n",
    "for row in sorted_near_final_points_C41423.iterrows():\n",
    "    #The 'latitude' and 'longitude' names correspond to column names in the original cceats dataframe\n",
    "    latlon = [ row[1]['latitude'], row[1]['longitude'] ]\n",
    "    map_316_C41423.polygon_marker( latlon, fill_color='orange', num_sides=4, radius=6)    \n",
    "\n",
    "embed_map(map_316_C41423)\n"
   ]
  },
  {
   "cell_type": "code",
   "execution_count": 77,
   "metadata": {
    "collapsed": true
   },
   "outputs": [],
   "source": [
    "initial_points_timestamp_C41423 = sorted_near_initial_points_C41423['timestamp']\n",
    "final_points_timestamp_C41423 = sorted_near_final_points_C41423['timestamp']\n"
   ]
  },
  {
   "cell_type": "code",
   "execution_count": 84,
   "metadata": {
    "collapsed": false
   },
   "outputs": [
    {
     "data": {
      "text/html": [
       "<div>\n",
       "<table border=\"1\" class=\"dataframe\">\n",
       "  <thead>\n",
       "    <tr style=\"text-align: right;\">\n",
       "      <th></th>\n",
       "      <th>Line</th>\n",
       "      <th>Bus_Id</th>\n",
       "      <th>Direction</th>\n",
       "      <th>Departure_Hour</th>\n",
       "      <th>Arrive_Hour</th>\n",
       "      <th>Travel_Time</th>\n",
       "    </tr>\n",
       "  </thead>\n",
       "  <tbody>\n",
       "    <tr>\n",
       "      <th>0</th>\n",
       "      <td>316</td>\n",
       "      <td>C41423</td>\n",
       "      <td>Barra_to_Central</td>\n",
       "      <td>2015-08-17 06:56:03</td>\n",
       "      <td>2015-08-17 09:45:04</td>\n",
       "      <td>2:49</td>\n",
       "    </tr>\n",
       "    <tr>\n",
       "      <th>1</th>\n",
       "      <td>316</td>\n",
       "      <td>C41423</td>\n",
       "      <td>Central_to_Barra</td>\n",
       "      <td>2015-08-17 10:04:20</td>\n",
       "      <td>2015-08-17 12:28:12</td>\n",
       "      <td>2:23</td>\n",
       "    </tr>\n",
       "    <tr>\n",
       "      <th>2</th>\n",
       "      <td>316</td>\n",
       "      <td>C41423</td>\n",
       "      <td>Barra_to_Central</td>\n",
       "      <td>2015-08-17 12:35:12</td>\n",
       "      <td>2015-08-17 14:53:20</td>\n",
       "      <td>2:18</td>\n",
       "    </tr>\n",
       "    <tr>\n",
       "      <th>3</th>\n",
       "      <td>316</td>\n",
       "      <td>C41423</td>\n",
       "      <td>Central_to_Barra</td>\n",
       "      <td>2015-08-17 15:09:04</td>\n",
       "      <td>2015-08-17 18:09:15</td>\n",
       "      <td>3:00</td>\n",
       "    </tr>\n",
       "    <tr>\n",
       "      <th>4</th>\n",
       "      <td>316</td>\n",
       "      <td>C41423</td>\n",
       "      <td>Barra_to_Central</td>\n",
       "      <td>2015-08-17 18:26:55</td>\n",
       "      <td>2015-08-17 20:40:04</td>\n",
       "      <td>2:13</td>\n",
       "    </tr>\n",
       "  </tbody>\n",
       "</table>\n",
       "</div>"
      ],
      "text/plain": [
       "  Line  Bus_Id         Direction      Departure_Hour         Arrive_Hour  \\\n",
       "0  316  C41423  Barra_to_Central 2015-08-17 06:56:03 2015-08-17 09:45:04   \n",
       "1  316  C41423  Central_to_Barra 2015-08-17 10:04:20 2015-08-17 12:28:12   \n",
       "2  316  C41423  Barra_to_Central 2015-08-17 12:35:12 2015-08-17 14:53:20   \n",
       "3  316  C41423  Central_to_Barra 2015-08-17 15:09:04 2015-08-17 18:09:15   \n",
       "4  316  C41423  Barra_to_Central 2015-08-17 18:26:55 2015-08-17 20:40:04   \n",
       "\n",
       "  Travel_Time  \n",
       "0        2:49  \n",
       "1        2:23  \n",
       "2        2:18  \n",
       "3        3:00  \n",
       "4        2:13  "
      ]
     },
     "execution_count": 84,
     "metadata": {},
     "output_type": "execute_result"
    }
   ],
   "source": [
    "#Llamada a la funcion bus_departure_hour para el punto Leblon (devuelve todas las horas en que salio el omnibus de Leblon)\n",
    "initial_departure_hours_C41423 = bus_departure_hour(initial_points_timestamp_C41423)\n",
    "final_departure_hours_C41423 = bus_departure_hour(final_points_timestamp_C41423)\n",
    "arrive_hour_to_initialpoint_C41423 = bus_arrive_hour(initial_points_timestamp_C41423)\n",
    "arrive_hour_to_finalpoint_C41423 = bus_arrive_hour(final_points_timestamp_C41423)\n",
    "mytabla_C41423 = create_travel_table(\"Barra\", arrive_hour_to_initialpoint_C41423, initial_departure_hours_C41423, \"Central\", arrive_hour_to_finalpoint_C41423, final_departure_hours_C41423, 'C41423', '316' )\n",
    "mytabla_C41423"
   ]
  },
  {
   "cell_type": "code",
   "execution_count": 85,
   "metadata": {
    "collapsed": true
   },
   "outputs": [],
   "source": [
    "#hacer lo mismo para el omnibus 'C41429'\n",
    "df_20150817_line_316_C41429 = df_20150817_line_316[(df_20150817_line_316['bus_id'] == 'C41429')]\n",
    "sorted_near_initial_points_C41429 = near_points_to_origin ('C41429', inverted_initial_point)\n",
    "sorted_near_final_points_C41429 = near_points_to_origin ('C41429', inverted_final_point)"
   ]
  },
  {
   "cell_type": "code",
   "execution_count": 87,
   "metadata": {
    "collapsed": false
   },
   "outputs": [
    {
     "data": {
      "text/html": [
       "<iframe src=\"files/map.html\" style=\"width: 100%; height: 510px; border: none\"></iframe>"
      ],
      "text/plain": [
       "<IPython.core.display.HTML object>"
      ]
     },
     "execution_count": 87,
     "metadata": {},
     "output_type": "execute_result"
    }
   ],
   "source": [
    "#graficando los initial y final points del bus_id C41429\n",
    "map_316_C41429 = folium.Map(location=[-22.923714, -43.258999], zoom_start=11)\n",
    "locations316 = []\n",
    "for row in onibus316_shapes.iterrows():\n",
    "    #The 'latitude' and 'longitude' names correspond to column names in the original cceats dataframe\n",
    "    locations316.insert(1, [ row[1]['latitude'], row[1]['longitude'] ])\n",
    "\n",
    "map_316_C41429.line(locations316)\n",
    "\n",
    "#insertar los popups\n",
    "#Pintando Circulos de radio de 155m alrededor de los puntos incial y final \n",
    "map_316_C41429.simple_marker(final_point, popup='Centro')\n",
    "map_316_C41429.simple_marker(initial_point, popup='Barra')\n",
    "\n",
    "#Punto inicial\n",
    "map_316_C41429.circle_marker(location=final_point, radius=155,line_color='brown',\n",
    "                 fill_color='#3186cc', fill_opacity=0.2)\n",
    "\n",
    "#Punto inicial\n",
    "map_316_C41429.circle_marker(location=initial_point, radius=155,line_color='black',\n",
    "                 fill_color='#3186cc', fill_opacity=0.2)\n",
    "\n",
    "#esto es para graficar los near points de la parada inicial y final\n",
    "for row in df_20150817_line_316_C41429.iterrows():\n",
    "    #The 'latitude' and 'longitude' names correspond to column names in the original cceats dataframe\n",
    "    latlon = [ row[1]['latitude'], row[1]['longitude'] ]\n",
    "    map_316_C41429.polygon_marker( latlon, fill_color='white', num_sides=4, radius=6)    \n",
    "\n",
    "for row in sorted_near_initial_points_C41429.iterrows():\n",
    "    #The 'latitude' and 'longitude' names correspond to column names in the original cceats dataframe\n",
    "    latlon = [ row[1]['latitude'], row[1]['longitude'] ]\n",
    "    map_316_C41429.polygon_marker( latlon, fill_color='orange', num_sides=4, radius=6)\n",
    "    \n",
    "for row in sorted_near_final_points_C41429.iterrows():\n",
    "    #The 'latitude' and 'longitude' names correspond to column names in the original cceats dataframe\n",
    "    latlon = [ row[1]['latitude'], row[1]['longitude'] ]\n",
    "    map_316_C41429.polygon_marker( latlon, fill_color='orange', num_sides=4, radius=6)    \n",
    "\n",
    "embed_map(map_316_C41429)"
   ]
  },
  {
   "cell_type": "code",
   "execution_count": 92,
   "metadata": {
    "collapsed": true
   },
   "outputs": [],
   "source": [
    "initial_points_timestamp_C41429 = sorted_near_initial_points_C41429['timestamp']\n",
    "final_points_timestamp_C41429 = sorted_near_final_points_C41429['timestamp']"
   ]
  },
  {
   "cell_type": "code",
   "execution_count": 93,
   "metadata": {
    "collapsed": false
   },
   "outputs": [
    {
     "data": {
      "text/html": [
       "<div>\n",
       "<table border=\"1\" class=\"dataframe\">\n",
       "  <thead>\n",
       "    <tr style=\"text-align: right;\">\n",
       "      <th></th>\n",
       "      <th>Line</th>\n",
       "      <th>Bus_Id</th>\n",
       "      <th>Direction</th>\n",
       "      <th>Departure_Hour</th>\n",
       "      <th>Arrive_Hour</th>\n",
       "      <th>Travel_Time</th>\n",
       "    </tr>\n",
       "  </thead>\n",
       "  <tbody>\n",
       "    <tr>\n",
       "      <th>0</th>\n",
       "      <td>316</td>\n",
       "      <td>C41429</td>\n",
       "      <td>Barra_to_Central</td>\n",
       "      <td>2015-08-17 07:14:13</td>\n",
       "      <td>2015-08-17 09:56:53</td>\n",
       "      <td>2:42</td>\n",
       "    </tr>\n",
       "    <tr>\n",
       "      <th>1</th>\n",
       "      <td>316</td>\n",
       "      <td>C41429</td>\n",
       "      <td>Central_to_Barra</td>\n",
       "      <td>2015-08-17 10:17:53</td>\n",
       "      <td>2015-08-17 12:29:57</td>\n",
       "      <td>2:12</td>\n",
       "    </tr>\n",
       "    <tr>\n",
       "      <th>2</th>\n",
       "      <td>316</td>\n",
       "      <td>C41429</td>\n",
       "      <td>Barra_to_Central</td>\n",
       "      <td>2015-08-17 12:52:15</td>\n",
       "      <td>2015-08-17 15:14:13</td>\n",
       "      <td>2:21</td>\n",
       "    </tr>\n",
       "    <tr>\n",
       "      <th>3</th>\n",
       "      <td>316</td>\n",
       "      <td>C41429</td>\n",
       "      <td>Central_to_Barra</td>\n",
       "      <td>2015-08-17 15:39:10</td>\n",
       "      <td>2015-08-17 19:02:09</td>\n",
       "      <td>3:22</td>\n",
       "    </tr>\n",
       "    <tr>\n",
       "      <th>4</th>\n",
       "      <td>316</td>\n",
       "      <td>C41429</td>\n",
       "      <td>Barra_to_Central</td>\n",
       "      <td>2015-08-17 19:15:51</td>\n",
       "      <td>2015-08-17 21:24:59</td>\n",
       "      <td>2:09</td>\n",
       "    </tr>\n",
       "  </tbody>\n",
       "</table>\n",
       "</div>"
      ],
      "text/plain": [
       "  Line  Bus_Id         Direction      Departure_Hour         Arrive_Hour  \\\n",
       "0  316  C41429  Barra_to_Central 2015-08-17 07:14:13 2015-08-17 09:56:53   \n",
       "1  316  C41429  Central_to_Barra 2015-08-17 10:17:53 2015-08-17 12:29:57   \n",
       "2  316  C41429  Barra_to_Central 2015-08-17 12:52:15 2015-08-17 15:14:13   \n",
       "3  316  C41429  Central_to_Barra 2015-08-17 15:39:10 2015-08-17 19:02:09   \n",
       "4  316  C41429  Barra_to_Central 2015-08-17 19:15:51 2015-08-17 21:24:59   \n",
       "\n",
       "  Travel_Time  \n",
       "0        2:42  \n",
       "1        2:12  \n",
       "2        2:21  \n",
       "3        3:22  \n",
       "4        2:09  "
      ]
     },
     "execution_count": 93,
     "metadata": {},
     "output_type": "execute_result"
    }
   ],
   "source": [
    "#Llamada a la funcion bus_departure_hour para el punto Leblon (devuelve todas las horas en que salio el omnibus de Leblon)\n",
    "\n",
    "initial_departure_hours_C41429 = bus_departure_hour(initial_points_timestamp_C41429)\n",
    "\n",
    "final_departure_hours_C41429 = bus_departure_hour(final_points_timestamp_C41429)\n",
    "\n",
    "arrive_hour_to_initialpoint_C41429 = bus_arrive_hour(initial_points_timestamp_C41429)\n",
    "\n",
    "arrive_hour_to_finalpoint_C41429 = bus_arrive_hour(final_points_timestamp_C41429)\n",
    "\n",
    "mytabla_C41429 = create_travel_table(\"Barra\", arrive_hour_to_initialpoint_C41429, initial_departure_hours_C41429, \"Central\", arrive_hour_to_finalpoint_C41429, final_departure_hours_C41429, 'C41429', '316' )\n",
    "\n",
    "mytabla_C41429"
   ]
  },
  {
   "cell_type": "code",
   "execution_count": 28,
   "metadata": {
    "collapsed": false
   },
   "outputs": [],
   "source": [
    "#hacer lo mismo para el omnibus 'C41426'\n",
    "df_20150817_line_316_C41426 = df_20150817_line_316[(df_20150817_line_316['bus_id'] == 'C41426')]\n",
    "sorted_near_initial_points_C41426 = near_points_to_origin ('C41426', inverted_initial_point)\n",
    "sorted_near_final_points_C41426 = near_points_to_origin ('C41426', inverted_final_point)"
   ]
  },
  {
   "cell_type": "code",
   "execution_count": 29,
   "metadata": {
    "collapsed": false,
    "scrolled": true
   },
   "outputs": [
    {
     "data": {
      "text/html": [
       "<iframe src=\"files/map.html\" style=\"width: 100%; height: 510px; border: none\"></iframe>"
      ],
      "text/plain": [
       "<IPython.core.display.HTML object>"
      ]
     },
     "execution_count": 29,
     "metadata": {},
     "output_type": "execute_result"
    }
   ],
   "source": [
    "#graficando los initial y final points del bus_id C41426\n",
    "map_316_C41426 = folium.Map(location=[-22.923714, -43.258999], zoom_start=11)\n",
    "locations316 = []\n",
    "for row in onibus316_shapes.iterrows():\n",
    "    #The 'latitude' and 'longitude' names correspond to column names in the original cceats dataframe\n",
    "    locations316.insert(1, [ row[1]['latitude'], row[1]['longitude'] ])\n",
    "\n",
    "map_316_C41426.line(locations316)\n",
    "\n",
    "#insertar los popups\n",
    "#Pintando Circulos de radio de 155m alrededor de los puntos incial y final \n",
    "map_316_C41426.simple_marker(final_point, popup='Centro')\n",
    "map_316_C41426.simple_marker(initial_point, popup='Barra')\n",
    "\n",
    "#Punto inicial\n",
    "map_316_C41426.circle_marker(location=final_point, radius=155,line_color='brown',\n",
    "                 fill_color='#3186cc', fill_opacity=0.2)\n",
    "\n",
    "#Punto inicial\n",
    "map_316_C41426.circle_marker(location=initial_point, radius=155,line_color='black',\n",
    "                 fill_color='#3186cc', fill_opacity=0.2)\n",
    "\n",
    "#esto es para graficar los near points de la parada inicial y final\n",
    "for row in df_20150817_line_316_C41426.iterrows():\n",
    "    #The 'latitude' and 'longitude' names correspond to column names in the original cceats dataframe\n",
    "    latlon = [ row[1]['latitude'], row[1]['longitude'] ]\n",
    "    map_316_C41426.polygon_marker( latlon, fill_color='white', num_sides=4, radius=6)    \n",
    "\n",
    "for row in sorted_near_initial_points_C41426.iterrows():\n",
    "    #The 'latitude' and 'longitude' names correspond to column names in the original cceats dataframe\n",
    "    latlon = [ row[1]['latitude'], row[1]['longitude'] ]\n",
    "    map_316_C41426.polygon_marker( latlon, fill_color='orange', num_sides=4, radius=6)\n",
    "    \n",
    "for row in sorted_near_final_points_C41426.iterrows():\n",
    "    #The 'latitude' and 'longitude' names correspond to column names in the original cceats dataframe\n",
    "    latlon = [ row[1]['latitude'], row[1]['longitude'] ]\n",
    "    map_316_C41426.polygon_marker( latlon, fill_color='orange', num_sides=4, radius=6)    \n",
    "\n",
    "embed_map(map_316_C41426)"
   ]
  },
  {
   "cell_type": "code",
   "execution_count": 30,
   "metadata": {
    "collapsed": false
   },
   "outputs": [],
   "source": [
    "initial_points_timestamp_C41426 = sorted_near_initial_points_C41426['timestamp']\n",
    "final_points_timestamp_C41426 = sorted_near_final_points_C41426['timestamp']\n"
   ]
  },
  {
   "cell_type": "code",
   "execution_count": 48,
   "metadata": {
    "collapsed": false
   },
   "outputs": [
    {
     "data": {
      "text/html": [
       "<div>\n",
       "<table border=\"1\" class=\"dataframe\">\n",
       "  <thead>\n",
       "    <tr style=\"text-align: right;\">\n",
       "      <th></th>\n",
       "      <th>Line</th>\n",
       "      <th>Bus_Id</th>\n",
       "      <th>Direction</th>\n",
       "      <th>Departure_Hour</th>\n",
       "      <th>Arrive_Hour</th>\n",
       "      <th>Travel_Time</th>\n",
       "    </tr>\n",
       "  </thead>\n",
       "  <tbody>\n",
       "  </tbody>\n",
       "</table>\n",
       "</div>"
      ],
      "text/plain": [
       "Empty DataFrame\n",
       "Columns: [Line, Bus_Id, Direction, Departure_Hour, Arrive_Hour, Travel_Time]\n",
       "Index: []"
      ]
     },
     "execution_count": 48,
     "metadata": {},
     "output_type": "execute_result"
    }
   ],
   "source": [
    "#Llamada a la funcion bus_departure_hour para el punto Leblon (devuelve todas las horas en que salio el omnibus de Leblon)\n",
    "\n",
    "initial_departure_hours_C41426 = bus_departure_hour(initial_points_timestamp_C41426)\n",
    "\n",
    "final_departure_hours_C41426 = bus_departure_hour(final_points_timestamp_C41426)\n",
    "\n",
    "arrive_hour_to_initialpoint_C41426 = bus_arrive_hour(initial_points_timestamp_C41426)\n",
    "\n",
    "arrive_hour_to_finalpoint_C41426 = bus_arrive_hour(final_points_timestamp_C41426)\n",
    "\n",
    "mytabla_C41426 = create_travel_table(\"Barra\", arrive_hour_to_initialpoint_C41426, initial_departure_hours_C41426, \"Central\", arrive_hour_to_finalpoint_C41426, final_departure_hours_C41426, 'C41426', '316' )\n",
    "\n",
    "mytabla_C41426"
   ]
  },
  {
   "cell_type": "code",
   "execution_count": 53,
   "metadata": {
    "collapsed": false
   },
   "outputs": [],
   "source": [
    "#hacer lo mismo para el omnibus 'C41421'\n",
    "df_20150817_line_316_C41421 = df_20150817_line_316[(df_20150817_line_316['bus_id'] == 'C41421')]\n",
    "sorted_near_initial_points_C41421 = near_points_to_origin ('C41421', inverted_initial_point)\n",
    "sorted_near_final_points_C41421 = near_points_to_origin ('C41421', inverted_final_point)"
   ]
  },
  {
   "cell_type": "code",
   "execution_count": 54,
   "metadata": {
    "collapsed": false,
    "scrolled": true
   },
   "outputs": [
    {
     "data": {
      "text/html": [
       "<iframe src=\"files/map.html\" style=\"width: 100%; height: 510px; border: none\"></iframe>"
      ],
      "text/plain": [
       "<IPython.core.display.HTML object>"
      ]
     },
     "execution_count": 54,
     "metadata": {},
     "output_type": "execute_result"
    }
   ],
   "source": [
    "#graficando los initial y final points del bus_id C41426\n",
    "map_316_C41421 = folium.Map(location=[-22.923714, -43.258999], zoom_start=11)\n",
    "locations316 = []\n",
    "for row in onibus316_shapes.iterrows():\n",
    "    #The 'latitude' and 'longitude' names correspond to column names in the original cceats dataframe\n",
    "    locations316.insert(1, [ row[1]['latitude'], row[1]['longitude'] ])\n",
    "\n",
    "map_316_C41421.line(locations316)\n",
    "\n",
    "#insertar los popups\n",
    "#Pintando Circulos de radio de 155m alrededor de los puntos incial y final \n",
    "map_316_C41421.simple_marker(final_point, popup='Centro')\n",
    "map_316_C41421.simple_marker(initial_point, popup='Barra')\n",
    "\n",
    "#Punto inicial\n",
    "map_316_C41421.circle_marker(location=final_point, radius=155,line_color='brown',\n",
    "                 fill_color='#3186cc', fill_opacity=0.2)\n",
    "\n",
    "#Punto inicial\n",
    "map_316_C41421.circle_marker(location=initial_point, radius=155,line_color='black',\n",
    "                 fill_color='#3186cc', fill_opacity=0.2)\n",
    "\n",
    "#esto es para graficar los near points de la parada inicial y final\n",
    "for row in df_20150817_line_316_C41421.iterrows():\n",
    "    #The 'latitude' and 'longitude' names correspond to column names in the original cceats dataframe\n",
    "    latlon = [ row[1]['latitude'], row[1]['longitude'] ]\n",
    "    map_316_C41421.polygon_marker( latlon, fill_color='white', num_sides=4, radius=6)    \n",
    "\n",
    "for row in sorted_near_initial_points_C41421.iterrows():\n",
    "    #The 'latitude' and 'longitude' names correspond to column names in the original cceats dataframe\n",
    "    latlon = [ row[1]['latitude'], row[1]['longitude'] ]\n",
    "    map_316_C41421.polygon_marker( latlon, fill_color='orange', num_sides=4, radius=6)\n",
    "    \n",
    "for row in sorted_near_final_points_C41421.iterrows():\n",
    "    #The 'latitude' and 'longitude' names correspond to column names in the original cceats dataframe\n",
    "    latlon = [ row[1]['latitude'], row[1]['longitude'] ]\n",
    "    map_316_C41421.polygon_marker( latlon, fill_color='orange', num_sides=4, radius=6)    \n",
    "\n",
    "embed_map(map_316_C41421)"
   ]
  },
  {
   "cell_type": "code",
   "execution_count": 88,
   "metadata": {
    "collapsed": false,
    "scrolled": true
   },
   "outputs": [
    {
     "data": {
      "text/html": [
       "<iframe src=\"files/map.html\" style=\"width: 100%; height: 510px; border: none\"></iframe>"
      ],
      "text/plain": [
       "<IPython.core.display.HTML object>"
      ]
     },
     "execution_count": 88,
     "metadata": {},
     "output_type": "execute_result"
    }
   ],
   "source": [
    "#graficando los puntos de las primeras observaciones del GPS, que muestran que el omnibus en su primer viaje p\n",
    "#para la barra sale desde el garaje sin pasar por el punto de la Central\n",
    "map_316_C41421_0 = folium.Map(location=[-22.923714, -43.258999], zoom_start=11)\n",
    "locations316 = []\n",
    "for row in onibus316_shapes.iterrows():\n",
    "    #The 'latitude' and 'longitude' names correspond to column names in the original cceats dataframe\n",
    "    locations316.insert(1, [ row[1]['latitude'], row[1]['longitude'] ])\n",
    "\n",
    "map_316_C41421_0.line(locations316)\n",
    "\n",
    "lost_points = df_20150817_line_316_C41421[(df_20150817_line_316_C41421['timestamp'] < '17-08-2015 09:18:09' )]\n",
    "\n",
    "\n",
    "#insertar los popups\n",
    "#Pintando Circulos de radio de 155m alrededor de los puntos incial y final \n",
    "map_316_C41421_0.simple_marker(final_point, popup='Centro')\n",
    "map_316_C41421_0.simple_marker(initial_point, popup='Barra')\n",
    "\n",
    "#Punto inicial\n",
    "map_316_C41421_0.circle_marker(location=final_point, radius=155,line_color='brown',\n",
    "                 fill_color='#3186cc', fill_opacity=0.2)\n",
    "\n",
    "#Punto inicial\n",
    "map_316_C41421_0.circle_marker(location=initial_point, radius=155,line_color='black',\n",
    "                 fill_color='#3186cc', fill_opacity=0.2)\n",
    "\n",
    "\n",
    "for row in lost_points.iterrows():\n",
    "    #The 'latitude' and 'longitude' names correspond to column names in the original cceats dataframe\n",
    "    latlon = [ row[1]['latitude'], row[1]['longitude'] ]\n",
    "    map_316_C41421_0.polygon_marker( latlon, fill_color='orange', num_sides=4, radius=6)  \n",
    "    \n",
    "latlong = [-22.857813, -43.245251 ]\n",
    "map_316_C41421_0.polygon_marker( latlong, fill_color='black', num_sides=4, radius=6)  \n",
    "\n",
    "embed_map(map_316_C41421_0)\n"
   ]
  },
  {
   "cell_type": "code",
   "execution_count": 79,
   "metadata": {
    "collapsed": false
   },
   "outputs": [
    {
     "data": {
      "text/html": [
       "<div>\n",
       "<table border=\"1\" class=\"dataframe\">\n",
       "  <thead>\n",
       "    <tr style=\"text-align: right;\">\n",
       "      <th></th>\n",
       "      <th>timestamp</th>\n",
       "      <th>bus_id</th>\n",
       "      <th>line</th>\n",
       "      <th>latitude</th>\n",
       "      <th>longitude</th>\n",
       "      <th>speed</th>\n",
       "    </tr>\n",
       "  </thead>\n",
       "  <tbody>\n",
       "    <tr>\n",
       "      <th>676487</th>\n",
       "      <td>17-08-2015 06:19:47</td>\n",
       "      <td>C41421</td>\n",
       "      <td>316</td>\n",
       "      <td>-22.857813</td>\n",
       "      <td>-43.245251</td>\n",
       "      <td>0.74</td>\n",
       "    </tr>\n",
       "    <tr>\n",
       "      <th>677510</th>\n",
       "      <td>17-08-2015 06:20:57</td>\n",
       "      <td>C41421</td>\n",
       "      <td>316</td>\n",
       "      <td>-22.857965</td>\n",
       "      <td>-43.245514</td>\n",
       "      <td>1.11</td>\n",
       "    </tr>\n",
       "    <tr>\n",
       "      <th>680843</th>\n",
       "      <td>17-08-2015 06:22:08</td>\n",
       "      <td>C41421</td>\n",
       "      <td>316</td>\n",
       "      <td>-22.857796</td>\n",
       "      <td>-43.245262</td>\n",
       "      <td>0.74</td>\n",
       "    </tr>\n",
       "    <tr>\n",
       "      <th>681990</th>\n",
       "      <td>17-08-2015 06:22:43</td>\n",
       "      <td>C41421</td>\n",
       "      <td>316</td>\n",
       "      <td>-22.857950</td>\n",
       "      <td>-43.245007</td>\n",
       "      <td>0.93</td>\n",
       "    </tr>\n",
       "    <tr>\n",
       "      <th>762853</th>\n",
       "      <td>17-08-2015 06:49:49</td>\n",
       "      <td>C41421</td>\n",
       "      <td>316</td>\n",
       "      <td>-22.857866</td>\n",
       "      <td>-43.244705</td>\n",
       "      <td>0.19</td>\n",
       "    </tr>\n",
       "    <tr>\n",
       "      <th>766197</th>\n",
       "      <td>17-08-2015 06:50:59</td>\n",
       "      <td>C41421</td>\n",
       "      <td>316</td>\n",
       "      <td>-22.857891</td>\n",
       "      <td>-43.244705</td>\n",
       "      <td>0.00</td>\n",
       "    </tr>\n",
       "    <tr>\n",
       "      <th>769510</th>\n",
       "      <td>17-08-2015 06:52:08</td>\n",
       "      <td>C41421</td>\n",
       "      <td>316</td>\n",
       "      <td>-22.857576</td>\n",
       "      <td>-43.245094</td>\n",
       "      <td>2.96</td>\n",
       "    </tr>\n",
       "    <tr>\n",
       "      <th>770544</th>\n",
       "      <td>17-08-2015 06:52:44</td>\n",
       "      <td>C41421</td>\n",
       "      <td>316</td>\n",
       "      <td>-22.857437</td>\n",
       "      <td>-43.245029</td>\n",
       "      <td>0.00</td>\n",
       "    </tr>\n",
       "    <tr>\n",
       "      <th>859300</th>\n",
       "      <td>17-08-2015 07:20:24</td>\n",
       "      <td>C41421</td>\n",
       "      <td>316</td>\n",
       "      <td>-22.858067</td>\n",
       "      <td>-43.245213</td>\n",
       "      <td>0.00</td>\n",
       "    </tr>\n",
       "    <tr>\n",
       "      <th>863104</th>\n",
       "      <td>17-08-2015 07:22:45</td>\n",
       "      <td>C41421</td>\n",
       "      <td>316</td>\n",
       "      <td>-22.858072</td>\n",
       "      <td>-43.245190</td>\n",
       "      <td>0.00</td>\n",
       "    </tr>\n",
       "    <tr>\n",
       "      <th>947100</th>\n",
       "      <td>17-08-2015 07:49:50</td>\n",
       "      <td>C41421</td>\n",
       "      <td>316</td>\n",
       "      <td>-22.871052</td>\n",
       "      <td>-43.258629</td>\n",
       "      <td>20.37</td>\n",
       "    </tr>\n",
       "    <tr>\n",
       "      <th>950147</th>\n",
       "      <td>17-08-2015 07:51:01</td>\n",
       "      <td>C41421</td>\n",
       "      <td>316</td>\n",
       "      <td>-22.871058</td>\n",
       "      <td>-43.259449</td>\n",
       "      <td>0.00</td>\n",
       "    </tr>\n",
       "    <tr>\n",
       "      <th>953218</th>\n",
       "      <td>17-08-2015 07:52:11</td>\n",
       "      <td>C41421</td>\n",
       "      <td>316</td>\n",
       "      <td>-22.871017</td>\n",
       "      <td>-43.259418</td>\n",
       "      <td>0.19</td>\n",
       "    </tr>\n",
       "    <tr>\n",
       "      <th>954151</th>\n",
       "      <td>17-08-2015 07:52:46</td>\n",
       "      <td>C41421</td>\n",
       "      <td>316</td>\n",
       "      <td>-22.870977</td>\n",
       "      <td>-43.259380</td>\n",
       "      <td>0.00</td>\n",
       "    </tr>\n",
       "    <tr>\n",
       "      <th>1036788</th>\n",
       "      <td>17-08-2015 08:19:51</td>\n",
       "      <td>C41421</td>\n",
       "      <td>316</td>\n",
       "      <td>-22.961796</td>\n",
       "      <td>-43.357395</td>\n",
       "      <td>37.23</td>\n",
       "    </tr>\n",
       "    <tr>\n",
       "      <th>1041283</th>\n",
       "      <td>17-08-2015 08:21:01</td>\n",
       "      <td>C41421</td>\n",
       "      <td>316</td>\n",
       "      <td>-22.963455</td>\n",
       "      <td>-43.357368</td>\n",
       "      <td>0.19</td>\n",
       "    </tr>\n",
       "    <tr>\n",
       "      <th>1045155</th>\n",
       "      <td>17-08-2015 08:22:11</td>\n",
       "      <td>C41421</td>\n",
       "      <td>316</td>\n",
       "      <td>-22.967218</td>\n",
       "      <td>-43.357616</td>\n",
       "      <td>48.15</td>\n",
       "    </tr>\n",
       "    <tr>\n",
       "      <th>1046192</th>\n",
       "      <td>17-08-2015 08:22:46</td>\n",
       "      <td>C41421</td>\n",
       "      <td>316</td>\n",
       "      <td>-22.970795</td>\n",
       "      <td>-43.361263</td>\n",
       "      <td>58.34</td>\n",
       "    </tr>\n",
       "    <tr>\n",
       "      <th>1131461</th>\n",
       "      <td>17-08-2015 08:49:52</td>\n",
       "      <td>C41421</td>\n",
       "      <td>316</td>\n",
       "      <td>-23.010393</td>\n",
       "      <td>-43.452591</td>\n",
       "      <td>11.48</td>\n",
       "    </tr>\n",
       "    <tr>\n",
       "      <th>1135239</th>\n",
       "      <td>17-08-2015 08:51:02</td>\n",
       "      <td>C41421</td>\n",
       "      <td>316</td>\n",
       "      <td>-23.011509</td>\n",
       "      <td>-43.456852</td>\n",
       "      <td>0.00</td>\n",
       "    </tr>\n",
       "    <tr>\n",
       "      <th>1139626</th>\n",
       "      <td>17-08-2015 08:52:12</td>\n",
       "      <td>C41421</td>\n",
       "      <td>316</td>\n",
       "      <td>-23.012371</td>\n",
       "      <td>-43.460117</td>\n",
       "      <td>46.86</td>\n",
       "    </tr>\n",
       "  </tbody>\n",
       "</table>\n",
       "</div>"
      ],
      "text/plain": [
       "                   timestamp  bus_id line   latitude  longitude  speed\n",
       "676487   17-08-2015 06:19:47  C41421  316 -22.857813 -43.245251   0.74\n",
       "677510   17-08-2015 06:20:57  C41421  316 -22.857965 -43.245514   1.11\n",
       "680843   17-08-2015 06:22:08  C41421  316 -22.857796 -43.245262   0.74\n",
       "681990   17-08-2015 06:22:43  C41421  316 -22.857950 -43.245007   0.93\n",
       "762853   17-08-2015 06:49:49  C41421  316 -22.857866 -43.244705   0.19\n",
       "766197   17-08-2015 06:50:59  C41421  316 -22.857891 -43.244705   0.00\n",
       "769510   17-08-2015 06:52:08  C41421  316 -22.857576 -43.245094   2.96\n",
       "770544   17-08-2015 06:52:44  C41421  316 -22.857437 -43.245029   0.00\n",
       "859300   17-08-2015 07:20:24  C41421  316 -22.858067 -43.245213   0.00\n",
       "863104   17-08-2015 07:22:45  C41421  316 -22.858072 -43.245190   0.00\n",
       "947100   17-08-2015 07:49:50  C41421  316 -22.871052 -43.258629  20.37\n",
       "950147   17-08-2015 07:51:01  C41421  316 -22.871058 -43.259449   0.00\n",
       "953218   17-08-2015 07:52:11  C41421  316 -22.871017 -43.259418   0.19\n",
       "954151   17-08-2015 07:52:46  C41421  316 -22.870977 -43.259380   0.00\n",
       "1036788  17-08-2015 08:19:51  C41421  316 -22.961796 -43.357395  37.23\n",
       "1041283  17-08-2015 08:21:01  C41421  316 -22.963455 -43.357368   0.19\n",
       "1045155  17-08-2015 08:22:11  C41421  316 -22.967218 -43.357616  48.15\n",
       "1046192  17-08-2015 08:22:46  C41421  316 -22.970795 -43.361263  58.34\n",
       "1131461  17-08-2015 08:49:52  C41421  316 -23.010393 -43.452591  11.48\n",
       "1135239  17-08-2015 08:51:02  C41421  316 -23.011509 -43.456852   0.00\n",
       "1139626  17-08-2015 08:52:12  C41421  316 -23.012371 -43.460117  46.86"
      ]
     },
     "execution_count": 79,
     "metadata": {},
     "output_type": "execute_result"
    }
   ],
   "source": [
    "lost_points"
   ]
  },
  {
   "cell_type": "code",
   "execution_count": 78,
   "metadata": {
    "collapsed": false
   },
   "outputs": [
    {
     "data": {
      "text/plain": [
       "21"
      ]
     },
     "execution_count": 78,
     "metadata": {},
     "output_type": "execute_result"
    }
   ],
   "source": [
    "len(lost_points)"
   ]
  },
  {
   "cell_type": "code",
   "execution_count": 62,
   "metadata": {
    "collapsed": false
   },
   "outputs": [
    {
     "data": {
      "text/plain": [
       "0    17-08-2015 12:21:09\n",
       "1    17-08-2015 12:22:19\n",
       "2    17-08-2015 12:22:54\n",
       "3    17-08-2015 17:52:50\n",
       "4    17-08-2015 17:53:25\n",
       "5    17-08-2015 22:23:20\n",
       "6    17-08-2015 22:23:21\n",
       "7    17-08-2015 22:23:30\n",
       "Name: timestamp, dtype: object"
      ]
     },
     "execution_count": 62,
     "metadata": {},
     "output_type": "execute_result"
    }
   ],
   "source": [
    "initial_points_timestamp_C41421 = sorted_near_initial_points_C41421['timestamp']\n",
    "final_points_timestamp_C41421 = sorted_near_final_points_C41421['timestamp']\n",
    "final_points_timestamp_C41421"
   ]
  },
  {
   "cell_type": "code",
   "execution_count": 67,
   "metadata": {
    "collapsed": false
   },
   "outputs": [
    {
     "data": {
      "text/html": [
       "<div>\n",
       "<table border=\"1\" class=\"dataframe\">\n",
       "  <thead>\n",
       "    <tr style=\"text-align: right;\">\n",
       "      <th></th>\n",
       "      <th>Line</th>\n",
       "      <th>Bus_Id</th>\n",
       "      <th>Direction</th>\n",
       "      <th>Departure_Hour</th>\n",
       "      <th>Arrive_Hour</th>\n",
       "      <th>Travel_Time</th>\n",
       "    </tr>\n",
       "  </thead>\n",
       "  <tbody>\n",
       "    <tr>\n",
       "      <th>0</th>\n",
       "      <td>316</td>\n",
       "      <td>C41421</td>\n",
       "      <td>Barra_to_Central</td>\n",
       "      <td>2015-08-17 09:22:48</td>\n",
       "      <td>2015-08-17 12:21:09</td>\n",
       "      <td>2:58</td>\n",
       "    </tr>\n",
       "    <tr>\n",
       "      <th>1</th>\n",
       "      <td>316</td>\n",
       "      <td>C41421</td>\n",
       "      <td>Central_to_Barra</td>\n",
       "      <td>2015-08-17 12:22:54</td>\n",
       "      <td>2015-08-17 14:53:04</td>\n",
       "      <td>2:30</td>\n",
       "    </tr>\n",
       "    <tr>\n",
       "      <th>2</th>\n",
       "      <td>316</td>\n",
       "      <td>C41421</td>\n",
       "      <td>Barra_to_Central</td>\n",
       "      <td>2015-08-17 14:53:04</td>\n",
       "      <td>2015-08-17 17:52:50</td>\n",
       "      <td>2:59</td>\n",
       "    </tr>\n",
       "    <tr>\n",
       "      <th>3</th>\n",
       "      <td>316</td>\n",
       "      <td>C41421</td>\n",
       "      <td>Central_to_Barra</td>\n",
       "      <td>2015-08-17 17:53:25</td>\n",
       "      <td>2015-08-17 20:52:21</td>\n",
       "      <td>2:58</td>\n",
       "    </tr>\n",
       "    <tr>\n",
       "      <th>4</th>\n",
       "      <td>316</td>\n",
       "      <td>C41421</td>\n",
       "      <td>Barra_to_Central</td>\n",
       "      <td>2015-08-17 20:53:31</td>\n",
       "      <td>2015-08-17 22:23:20</td>\n",
       "      <td>1:29</td>\n",
       "    </tr>\n",
       "  </tbody>\n",
       "</table>\n",
       "</div>"
      ],
      "text/plain": [
       "  Line  Bus_Id         Direction      Departure_Hour         Arrive_Hour  \\\n",
       "0  316  C41421  Barra_to_Central 2015-08-17 09:22:48 2015-08-17 12:21:09   \n",
       "1  316  C41421  Central_to_Barra 2015-08-17 12:22:54 2015-08-17 14:53:04   \n",
       "2  316  C41421  Barra_to_Central 2015-08-17 14:53:04 2015-08-17 17:52:50   \n",
       "3  316  C41421  Central_to_Barra 2015-08-17 17:53:25 2015-08-17 20:52:21   \n",
       "4  316  C41421  Barra_to_Central 2015-08-17 20:53:31 2015-08-17 22:23:20   \n",
       "\n",
       "  Travel_Time  \n",
       "0        2:58  \n",
       "1        2:30  \n",
       "2        2:59  \n",
       "3        2:58  \n",
       "4        1:29  "
      ]
     },
     "execution_count": 67,
     "metadata": {},
     "output_type": "execute_result"
    }
   ],
   "source": [
    "#Llamada a la funcion bus_departure_hour  (devuelve todas las horas en que salio el omnibus del punto unicial y final)\n",
    "\n",
    "initial_departure_hours_C41421 = bus_departure_hour(initial_points_timestamp_C41421)\n",
    "\n",
    "final_departure_hours_C41421 = bus_departure_hour(final_points_timestamp_C41421)\n",
    "\n",
    "arrive_hour_to_initialpoint_C41421 = bus_arrive_hour(initial_points_timestamp_C41421)\n",
    "\n",
    "arrive_hour_to_finalpoint_C41421 = bus_arrive_hour(final_points_timestamp_C41421)\n",
    "\n",
    "mytabla_C41421 = create_travel_table(\"Barra\", arrive_hour_to_initialpoint_C41421, initial_departure_hours_C41421, \"Central\", arrive_hour_to_finalpoint_C41421, final_departure_hours_C41421, 'C41421', '316' )\n",
    "\n",
    "mytabla_C41421\n"
   ]
  },
  {
   "cell_type": "code",
   "execution_count": 69,
   "metadata": {
    "collapsed": true
   },
   "outputs": [],
   "source": [
    "#Funcion que crea la tabla de tiempo de viaje para cada bus_id de los que transitaron el el dia\n",
    "def all_travel_table (line, punto_ini_coord_invertidas, name_punto_inicio, punto_fin_coord_invertidas, name_punto_final, array_busId):\n",
    "    new_df = pd.DataFrame(columns=['Line', 'Bus_Id','Direction','Departure_Hour', 'Arrive_Hour', 'Travel_Time'])  \n",
    "    for busId in array_busId:\n",
    "        sorted_near_initial_points1 = near_points_to_origin(busId, punto_ini_coord_invertidas)\n",
    "        sorted_near_final_points1 = near_points_to_origin(busId, punto_fin_coord_invertidas)\n",
    "        initial_points_timestamp1 = sorted_near_initial_points1 ['timestamp']\n",
    "        final_points_timestamp1 = sorted_near_final_points1 ['timestamp']\n",
    "        #chequear si la lista initial_points_timestamp es diferente de vacio\n",
    "        if len(initial_points_timestamp1) and len(final_points_timestamp1):\n",
    "            vilaIsabel_departure_hours1 = bus_departure_hour(initial_points_timestamp1)\n",
    "            first_point_departure_hour = bus_departure_hour (initial_points_timestamp1)\n",
    "            last_point_departure_hour = bus_departure_hour (final_points_timestamp1)\n",
    "            first_point_arrive_hour = bus_arrive_hour(initial_points_timestamp1)\n",
    "            last_point_arrive_hour = bus_arrive_hour(final_points_timestamp1)\n",
    "            my_time_table = create_travel_table(name_punto_inicio, first_point_arrive_hour, first_point_departure_hour, name_punto_final, last_point_arrive_hour, last_point_departure_hour, busId, line)\n",
    "            new_df = new_df.append(my_time_table, ignore_index=True)\n",
    "    return new_df"
   ]
  },
  {
   "cell_type": "code",
   "execution_count": 70,
   "metadata": {
    "collapsed": false
   },
   "outputs": [
    {
     "data": {
      "text/html": [
       "<div>\n",
       "<table border=\"1\" class=\"dataframe\">\n",
       "  <thead>\n",
       "    <tr style=\"text-align: right;\">\n",
       "      <th></th>\n",
       "      <th>Line</th>\n",
       "      <th>Bus_Id</th>\n",
       "      <th>Direction</th>\n",
       "      <th>Departure_Hour</th>\n",
       "      <th>Arrive_Hour</th>\n",
       "      <th>Travel_Time</th>\n",
       "    </tr>\n",
       "  </thead>\n",
       "  <tbody>\n",
       "    <tr>\n",
       "      <th>0</th>\n",
       "      <td>316</td>\n",
       "      <td>C41422</td>\n",
       "      <td>Central_to_Barra</td>\n",
       "      <td>2015-08-17 05:58:58</td>\n",
       "      <td>2015-08-17 07:59:48</td>\n",
       "      <td>2:00</td>\n",
       "    </tr>\n",
       "    <tr>\n",
       "      <th>1</th>\n",
       "      <td>316</td>\n",
       "      <td>C41422</td>\n",
       "      <td>Barra_to_Central</td>\n",
       "      <td>2015-08-17 08:09:09</td>\n",
       "      <td>2015-08-17 11:07:18</td>\n",
       "      <td>2:58</td>\n",
       "    </tr>\n",
       "    <tr>\n",
       "      <th>2</th>\n",
       "      <td>316</td>\n",
       "      <td>C41422</td>\n",
       "      <td>Central_to_Barra</td>\n",
       "      <td>2015-08-17 11:18:58</td>\n",
       "      <td>2015-08-17 13:47:21</td>\n",
       "      <td>2:28</td>\n",
       "    </tr>\n",
       "    <tr>\n",
       "      <th>3</th>\n",
       "      <td>316</td>\n",
       "      <td>C41422</td>\n",
       "      <td>Barra_to_Central</td>\n",
       "      <td>2015-08-17 13:52:01</td>\n",
       "      <td>2015-08-17 15:50:19</td>\n",
       "      <td>1:58</td>\n",
       "    </tr>\n",
       "    <tr>\n",
       "      <th>4</th>\n",
       "      <td>316</td>\n",
       "      <td>C41424</td>\n",
       "      <td>Barra_to_Central</td>\n",
       "      <td>2015-08-17 07:34:47</td>\n",
       "      <td>2015-08-17 10:16:24</td>\n",
       "      <td>2:41</td>\n",
       "    </tr>\n",
       "    <tr>\n",
       "      <th>5</th>\n",
       "      <td>316</td>\n",
       "      <td>C41424</td>\n",
       "      <td>Central_to_Barra</td>\n",
       "      <td>2015-08-17 10:46:10</td>\n",
       "      <td>2015-08-17 12:59:59</td>\n",
       "      <td>2:13</td>\n",
       "    </tr>\n",
       "    <tr>\n",
       "      <th>6</th>\n",
       "      <td>316</td>\n",
       "      <td>C41424</td>\n",
       "      <td>Barra_to_Central</td>\n",
       "      <td>2015-08-17 13:09:55</td>\n",
       "      <td>2015-08-17 15:14:46</td>\n",
       "      <td>2:04</td>\n",
       "    </tr>\n",
       "    <tr>\n",
       "      <th>7</th>\n",
       "      <td>316</td>\n",
       "      <td>C41424</td>\n",
       "      <td>Central_to_Barra</td>\n",
       "      <td>2015-08-17 15:32:06</td>\n",
       "      <td>2015-08-17 18:53:01</td>\n",
       "      <td>3:20</td>\n",
       "    </tr>\n",
       "    <tr>\n",
       "      <th>8</th>\n",
       "      <td>316</td>\n",
       "      <td>C41424</td>\n",
       "      <td>Barra_to_Central</td>\n",
       "      <td>2015-08-17 19:09:49</td>\n",
       "      <td>2015-08-17 20:59:46</td>\n",
       "      <td>1:49</td>\n",
       "    </tr>\n",
       "    <tr>\n",
       "      <th>9</th>\n",
       "      <td>316</td>\n",
       "      <td>C41427</td>\n",
       "      <td>Central_to_Barra</td>\n",
       "      <td>2015-08-17 06:36:54</td>\n",
       "      <td>2015-08-17 09:30:57</td>\n",
       "      <td>2:54</td>\n",
       "    </tr>\n",
       "    <tr>\n",
       "      <th>10</th>\n",
       "      <td>316</td>\n",
       "      <td>C41427</td>\n",
       "      <td>Barra_to_Central</td>\n",
       "      <td>2015-08-17 09:48:50</td>\n",
       "      <td>2015-08-17 12:14:00</td>\n",
       "      <td>2:25</td>\n",
       "    </tr>\n",
       "    <tr>\n",
       "      <th>11</th>\n",
       "      <td>316</td>\n",
       "      <td>C41427</td>\n",
       "      <td>Central_to_Barra</td>\n",
       "      <td>2015-08-17 14:41:06</td>\n",
       "      <td>2015-08-17 17:08:51</td>\n",
       "      <td>2:27</td>\n",
       "    </tr>\n",
       "    <tr>\n",
       "      <th>12</th>\n",
       "      <td>316</td>\n",
       "      <td>C41427</td>\n",
       "      <td>Barra_to_Central</td>\n",
       "      <td>2015-08-17 17:19:21</td>\n",
       "      <td>2015-08-17 20:29:06</td>\n",
       "      <td>3:09</td>\n",
       "    </tr>\n",
       "    <tr>\n",
       "      <th>13</th>\n",
       "      <td>316</td>\n",
       "      <td>C41423</td>\n",
       "      <td>Barra_to_Central</td>\n",
       "      <td>2015-08-17 06:56:03</td>\n",
       "      <td>2015-08-17 09:45:04</td>\n",
       "      <td>2:49</td>\n",
       "    </tr>\n",
       "    <tr>\n",
       "      <th>14</th>\n",
       "      <td>316</td>\n",
       "      <td>C41423</td>\n",
       "      <td>Central_to_Barra</td>\n",
       "      <td>2015-08-17 10:04:20</td>\n",
       "      <td>2015-08-17 12:28:12</td>\n",
       "      <td>2:23</td>\n",
       "    </tr>\n",
       "    <tr>\n",
       "      <th>15</th>\n",
       "      <td>316</td>\n",
       "      <td>C41423</td>\n",
       "      <td>Barra_to_Central</td>\n",
       "      <td>2015-08-17 12:35:12</td>\n",
       "      <td>2015-08-17 14:53:20</td>\n",
       "      <td>2:18</td>\n",
       "    </tr>\n",
       "    <tr>\n",
       "      <th>16</th>\n",
       "      <td>316</td>\n",
       "      <td>C41423</td>\n",
       "      <td>Central_to_Barra</td>\n",
       "      <td>2015-08-17 15:09:04</td>\n",
       "      <td>2015-08-17 18:09:15</td>\n",
       "      <td>3:00</td>\n",
       "    </tr>\n",
       "    <tr>\n",
       "      <th>17</th>\n",
       "      <td>316</td>\n",
       "      <td>C41423</td>\n",
       "      <td>Barra_to_Central</td>\n",
       "      <td>2015-08-17 18:26:55</td>\n",
       "      <td>2015-08-17 20:40:04</td>\n",
       "      <td>2:13</td>\n",
       "    </tr>\n",
       "    <tr>\n",
       "      <th>18</th>\n",
       "      <td>316</td>\n",
       "      <td>C41429</td>\n",
       "      <td>Barra_to_Central</td>\n",
       "      <td>2015-08-17 07:14:13</td>\n",
       "      <td>2015-08-17 09:56:53</td>\n",
       "      <td>2:42</td>\n",
       "    </tr>\n",
       "    <tr>\n",
       "      <th>19</th>\n",
       "      <td>316</td>\n",
       "      <td>C41429</td>\n",
       "      <td>Central_to_Barra</td>\n",
       "      <td>2015-08-17 10:17:53</td>\n",
       "      <td>2015-08-17 12:29:57</td>\n",
       "      <td>2:12</td>\n",
       "    </tr>\n",
       "    <tr>\n",
       "      <th>20</th>\n",
       "      <td>316</td>\n",
       "      <td>C41429</td>\n",
       "      <td>Barra_to_Central</td>\n",
       "      <td>2015-08-17 12:52:15</td>\n",
       "      <td>2015-08-17 15:14:13</td>\n",
       "      <td>2:21</td>\n",
       "    </tr>\n",
       "    <tr>\n",
       "      <th>21</th>\n",
       "      <td>316</td>\n",
       "      <td>C41429</td>\n",
       "      <td>Central_to_Barra</td>\n",
       "      <td>2015-08-17 15:39:10</td>\n",
       "      <td>2015-08-17 19:02:09</td>\n",
       "      <td>3:22</td>\n",
       "    </tr>\n",
       "    <tr>\n",
       "      <th>22</th>\n",
       "      <td>316</td>\n",
       "      <td>C41429</td>\n",
       "      <td>Barra_to_Central</td>\n",
       "      <td>2015-08-17 19:15:51</td>\n",
       "      <td>2015-08-17 21:24:59</td>\n",
       "      <td>2:09</td>\n",
       "    </tr>\n",
       "    <tr>\n",
       "      <th>23</th>\n",
       "      <td>316</td>\n",
       "      <td>C41421</td>\n",
       "      <td>Barra_to_Central</td>\n",
       "      <td>2015-08-17 09:22:48</td>\n",
       "      <td>2015-08-17 12:21:09</td>\n",
       "      <td>2:58</td>\n",
       "    </tr>\n",
       "    <tr>\n",
       "      <th>24</th>\n",
       "      <td>316</td>\n",
       "      <td>C41421</td>\n",
       "      <td>Central_to_Barra</td>\n",
       "      <td>2015-08-17 12:22:54</td>\n",
       "      <td>2015-08-17 14:53:04</td>\n",
       "      <td>2:30</td>\n",
       "    </tr>\n",
       "    <tr>\n",
       "      <th>25</th>\n",
       "      <td>316</td>\n",
       "      <td>C41421</td>\n",
       "      <td>Barra_to_Central</td>\n",
       "      <td>2015-08-17 14:53:04</td>\n",
       "      <td>2015-08-17 17:52:50</td>\n",
       "      <td>2:59</td>\n",
       "    </tr>\n",
       "    <tr>\n",
       "      <th>26</th>\n",
       "      <td>316</td>\n",
       "      <td>C41421</td>\n",
       "      <td>Central_to_Barra</td>\n",
       "      <td>2015-08-17 17:53:25</td>\n",
       "      <td>2015-08-17 20:52:21</td>\n",
       "      <td>2:58</td>\n",
       "    </tr>\n",
       "    <tr>\n",
       "      <th>27</th>\n",
       "      <td>316</td>\n",
       "      <td>C41421</td>\n",
       "      <td>Barra_to_Central</td>\n",
       "      <td>2015-08-17 20:53:31</td>\n",
       "      <td>2015-08-17 22:23:20</td>\n",
       "      <td>1:29</td>\n",
       "    </tr>\n",
       "  </tbody>\n",
       "</table>\n",
       "</div>"
      ],
      "text/plain": [
       "   Line  Bus_Id         Direction      Departure_Hour         Arrive_Hour  \\\n",
       "0   316  C41422  Central_to_Barra 2015-08-17 05:58:58 2015-08-17 07:59:48   \n",
       "1   316  C41422  Barra_to_Central 2015-08-17 08:09:09 2015-08-17 11:07:18   \n",
       "2   316  C41422  Central_to_Barra 2015-08-17 11:18:58 2015-08-17 13:47:21   \n",
       "3   316  C41422  Barra_to_Central 2015-08-17 13:52:01 2015-08-17 15:50:19   \n",
       "4   316  C41424  Barra_to_Central 2015-08-17 07:34:47 2015-08-17 10:16:24   \n",
       "5   316  C41424  Central_to_Barra 2015-08-17 10:46:10 2015-08-17 12:59:59   \n",
       "6   316  C41424  Barra_to_Central 2015-08-17 13:09:55 2015-08-17 15:14:46   \n",
       "7   316  C41424  Central_to_Barra 2015-08-17 15:32:06 2015-08-17 18:53:01   \n",
       "8   316  C41424  Barra_to_Central 2015-08-17 19:09:49 2015-08-17 20:59:46   \n",
       "9   316  C41427  Central_to_Barra 2015-08-17 06:36:54 2015-08-17 09:30:57   \n",
       "10  316  C41427  Barra_to_Central 2015-08-17 09:48:50 2015-08-17 12:14:00   \n",
       "11  316  C41427  Central_to_Barra 2015-08-17 14:41:06 2015-08-17 17:08:51   \n",
       "12  316  C41427  Barra_to_Central 2015-08-17 17:19:21 2015-08-17 20:29:06   \n",
       "13  316  C41423  Barra_to_Central 2015-08-17 06:56:03 2015-08-17 09:45:04   \n",
       "14  316  C41423  Central_to_Barra 2015-08-17 10:04:20 2015-08-17 12:28:12   \n",
       "15  316  C41423  Barra_to_Central 2015-08-17 12:35:12 2015-08-17 14:53:20   \n",
       "16  316  C41423  Central_to_Barra 2015-08-17 15:09:04 2015-08-17 18:09:15   \n",
       "17  316  C41423  Barra_to_Central 2015-08-17 18:26:55 2015-08-17 20:40:04   \n",
       "18  316  C41429  Barra_to_Central 2015-08-17 07:14:13 2015-08-17 09:56:53   \n",
       "19  316  C41429  Central_to_Barra 2015-08-17 10:17:53 2015-08-17 12:29:57   \n",
       "20  316  C41429  Barra_to_Central 2015-08-17 12:52:15 2015-08-17 15:14:13   \n",
       "21  316  C41429  Central_to_Barra 2015-08-17 15:39:10 2015-08-17 19:02:09   \n",
       "22  316  C41429  Barra_to_Central 2015-08-17 19:15:51 2015-08-17 21:24:59   \n",
       "23  316  C41421  Barra_to_Central 2015-08-17 09:22:48 2015-08-17 12:21:09   \n",
       "24  316  C41421  Central_to_Barra 2015-08-17 12:22:54 2015-08-17 14:53:04   \n",
       "25  316  C41421  Barra_to_Central 2015-08-17 14:53:04 2015-08-17 17:52:50   \n",
       "26  316  C41421  Central_to_Barra 2015-08-17 17:53:25 2015-08-17 20:52:21   \n",
       "27  316  C41421  Barra_to_Central 2015-08-17 20:53:31 2015-08-17 22:23:20   \n",
       "\n",
       "   Travel_Time  \n",
       "0         2:00  \n",
       "1         2:58  \n",
       "2         2:28  \n",
       "3         1:58  \n",
       "4         2:41  \n",
       "5         2:13  \n",
       "6         2:04  \n",
       "7         3:20  \n",
       "8         1:49  \n",
       "9         2:54  \n",
       "10        2:25  \n",
       "11        2:27  \n",
       "12        3:09  \n",
       "13        2:49  \n",
       "14        2:23  \n",
       "15        2:18  \n",
       "16        3:00  \n",
       "17        2:13  \n",
       "18        2:42  \n",
       "19        2:12  \n",
       "20        2:21  \n",
       "21        3:22  \n",
       "22        2:09  \n",
       "23        2:58  \n",
       "24        2:30  \n",
       "25        2:59  \n",
       "26        2:58  \n",
       "27        1:29  "
      ]
     },
     "execution_count": 70,
     "metadata": {},
     "output_type": "execute_result"
    }
   ],
   "source": [
    "query = all_travel_table ('316', inverted_initial_point, 'Barra', inverted_final_point, 'Central', array_busId)\n",
    "query"
   ]
  },
  {
   "cell_type": "code",
   "execution_count": 72,
   "metadata": {
    "collapsed": false
   },
   "outputs": [
    {
     "data": {
      "text/html": [
       "<div>\n",
       "<table border=\"1\" class=\"dataframe\">\n",
       "  <thead>\n",
       "    <tr style=\"text-align: right;\">\n",
       "      <th></th>\n",
       "      <th>Line</th>\n",
       "      <th>Bus_Id</th>\n",
       "      <th>Direction</th>\n",
       "      <th>Departure_Hour</th>\n",
       "      <th>Arrive_Hour</th>\n",
       "      <th>Travel_Time</th>\n",
       "    </tr>\n",
       "  </thead>\n",
       "  <tbody>\n",
       "    <tr>\n",
       "      <th>0</th>\n",
       "      <td>316</td>\n",
       "      <td>C41422</td>\n",
       "      <td>Central_to_Barra</td>\n",
       "      <td>2015-08-17 05:58:58</td>\n",
       "      <td>2015-08-17 07:59:48</td>\n",
       "      <td>2:00</td>\n",
       "    </tr>\n",
       "    <tr>\n",
       "      <th>9</th>\n",
       "      <td>316</td>\n",
       "      <td>C41427</td>\n",
       "      <td>Central_to_Barra</td>\n",
       "      <td>2015-08-17 06:36:54</td>\n",
       "      <td>2015-08-17 09:30:57</td>\n",
       "      <td>2:54</td>\n",
       "    </tr>\n",
       "    <tr>\n",
       "      <th>14</th>\n",
       "      <td>316</td>\n",
       "      <td>C41423</td>\n",
       "      <td>Central_to_Barra</td>\n",
       "      <td>2015-08-17 10:04:20</td>\n",
       "      <td>2015-08-17 12:28:12</td>\n",
       "      <td>2:23</td>\n",
       "    </tr>\n",
       "    <tr>\n",
       "      <th>19</th>\n",
       "      <td>316</td>\n",
       "      <td>C41429</td>\n",
       "      <td>Central_to_Barra</td>\n",
       "      <td>2015-08-17 10:17:53</td>\n",
       "      <td>2015-08-17 12:29:57</td>\n",
       "      <td>2:12</td>\n",
       "    </tr>\n",
       "    <tr>\n",
       "      <th>5</th>\n",
       "      <td>316</td>\n",
       "      <td>C41424</td>\n",
       "      <td>Central_to_Barra</td>\n",
       "      <td>2015-08-17 10:46:10</td>\n",
       "      <td>2015-08-17 12:59:59</td>\n",
       "      <td>2:13</td>\n",
       "    </tr>\n",
       "    <tr>\n",
       "      <th>2</th>\n",
       "      <td>316</td>\n",
       "      <td>C41422</td>\n",
       "      <td>Central_to_Barra</td>\n",
       "      <td>2015-08-17 11:18:58</td>\n",
       "      <td>2015-08-17 13:47:21</td>\n",
       "      <td>2:28</td>\n",
       "    </tr>\n",
       "    <tr>\n",
       "      <th>24</th>\n",
       "      <td>316</td>\n",
       "      <td>C41421</td>\n",
       "      <td>Central_to_Barra</td>\n",
       "      <td>2015-08-17 12:22:54</td>\n",
       "      <td>2015-08-17 14:53:04</td>\n",
       "      <td>2:30</td>\n",
       "    </tr>\n",
       "    <tr>\n",
       "      <th>11</th>\n",
       "      <td>316</td>\n",
       "      <td>C41427</td>\n",
       "      <td>Central_to_Barra</td>\n",
       "      <td>2015-08-17 14:41:06</td>\n",
       "      <td>2015-08-17 17:08:51</td>\n",
       "      <td>2:27</td>\n",
       "    </tr>\n",
       "    <tr>\n",
       "      <th>16</th>\n",
       "      <td>316</td>\n",
       "      <td>C41423</td>\n",
       "      <td>Central_to_Barra</td>\n",
       "      <td>2015-08-17 15:09:04</td>\n",
       "      <td>2015-08-17 18:09:15</td>\n",
       "      <td>3:00</td>\n",
       "    </tr>\n",
       "    <tr>\n",
       "      <th>7</th>\n",
       "      <td>316</td>\n",
       "      <td>C41424</td>\n",
       "      <td>Central_to_Barra</td>\n",
       "      <td>2015-08-17 15:32:06</td>\n",
       "      <td>2015-08-17 18:53:01</td>\n",
       "      <td>3:20</td>\n",
       "    </tr>\n",
       "    <tr>\n",
       "      <th>21</th>\n",
       "      <td>316</td>\n",
       "      <td>C41429</td>\n",
       "      <td>Central_to_Barra</td>\n",
       "      <td>2015-08-17 15:39:10</td>\n",
       "      <td>2015-08-17 19:02:09</td>\n",
       "      <td>3:22</td>\n",
       "    </tr>\n",
       "    <tr>\n",
       "      <th>26</th>\n",
       "      <td>316</td>\n",
       "      <td>C41421</td>\n",
       "      <td>Central_to_Barra</td>\n",
       "      <td>2015-08-17 17:53:25</td>\n",
       "      <td>2015-08-17 20:52:21</td>\n",
       "      <td>2:58</td>\n",
       "    </tr>\n",
       "  </tbody>\n",
       "</table>\n",
       "</div>"
      ],
      "text/plain": [
       "   Line  Bus_Id         Direction      Departure_Hour         Arrive_Hour  \\\n",
       "0   316  C41422  Central_to_Barra 2015-08-17 05:58:58 2015-08-17 07:59:48   \n",
       "9   316  C41427  Central_to_Barra 2015-08-17 06:36:54 2015-08-17 09:30:57   \n",
       "14  316  C41423  Central_to_Barra 2015-08-17 10:04:20 2015-08-17 12:28:12   \n",
       "19  316  C41429  Central_to_Barra 2015-08-17 10:17:53 2015-08-17 12:29:57   \n",
       "5   316  C41424  Central_to_Barra 2015-08-17 10:46:10 2015-08-17 12:59:59   \n",
       "2   316  C41422  Central_to_Barra 2015-08-17 11:18:58 2015-08-17 13:47:21   \n",
       "24  316  C41421  Central_to_Barra 2015-08-17 12:22:54 2015-08-17 14:53:04   \n",
       "11  316  C41427  Central_to_Barra 2015-08-17 14:41:06 2015-08-17 17:08:51   \n",
       "16  316  C41423  Central_to_Barra 2015-08-17 15:09:04 2015-08-17 18:09:15   \n",
       "7   316  C41424  Central_to_Barra 2015-08-17 15:32:06 2015-08-17 18:53:01   \n",
       "21  316  C41429  Central_to_Barra 2015-08-17 15:39:10 2015-08-17 19:02:09   \n",
       "26  316  C41421  Central_to_Barra 2015-08-17 17:53:25 2015-08-17 20:52:21   \n",
       "\n",
       "   Travel_Time  \n",
       "0         2:00  \n",
       "9         2:54  \n",
       "14        2:23  \n",
       "19        2:12  \n",
       "5         2:13  \n",
       "2         2:28  \n",
       "24        2:30  \n",
       "11        2:27  \n",
       "16        3:00  \n",
       "7         3:20  \n",
       "21        3:22  \n",
       "26        2:58  "
      ]
     },
     "execution_count": 72,
     "metadata": {},
     "output_type": "execute_result"
    }
   ],
   "source": [
    "direction_central_barra = query[(query['Direction'] == 'Central_to_Barra')]\n",
    "direction_central_barra_sorted = direction_central_barra.sort([\"Departure_Hour\"])\n",
    "direction_central_barra_sorted\n"
   ]
  },
  {
   "cell_type": "code",
   "execution_count": 73,
   "metadata": {
    "collapsed": false
   },
   "outputs": [
    {
     "data": {
      "text/html": [
       "<div>\n",
       "<table border=\"1\" class=\"dataframe\">\n",
       "  <thead>\n",
       "    <tr style=\"text-align: right;\">\n",
       "      <th></th>\n",
       "      <th>Line</th>\n",
       "      <th>Bus_Id</th>\n",
       "      <th>Direction</th>\n",
       "      <th>Departure_Hour</th>\n",
       "      <th>Arrive_Hour</th>\n",
       "      <th>Travel_Time</th>\n",
       "    </tr>\n",
       "  </thead>\n",
       "  <tbody>\n",
       "    <tr>\n",
       "      <th>13</th>\n",
       "      <td>316</td>\n",
       "      <td>C41423</td>\n",
       "      <td>Barra_to_Central</td>\n",
       "      <td>2015-08-17 06:56:03</td>\n",
       "      <td>2015-08-17 09:45:04</td>\n",
       "      <td>2:49</td>\n",
       "    </tr>\n",
       "    <tr>\n",
       "      <th>18</th>\n",
       "      <td>316</td>\n",
       "      <td>C41429</td>\n",
       "      <td>Barra_to_Central</td>\n",
       "      <td>2015-08-17 07:14:13</td>\n",
       "      <td>2015-08-17 09:56:53</td>\n",
       "      <td>2:42</td>\n",
       "    </tr>\n",
       "    <tr>\n",
       "      <th>4</th>\n",
       "      <td>316</td>\n",
       "      <td>C41424</td>\n",
       "      <td>Barra_to_Central</td>\n",
       "      <td>2015-08-17 07:34:47</td>\n",
       "      <td>2015-08-17 10:16:24</td>\n",
       "      <td>2:41</td>\n",
       "    </tr>\n",
       "    <tr>\n",
       "      <th>1</th>\n",
       "      <td>316</td>\n",
       "      <td>C41422</td>\n",
       "      <td>Barra_to_Central</td>\n",
       "      <td>2015-08-17 08:09:09</td>\n",
       "      <td>2015-08-17 11:07:18</td>\n",
       "      <td>2:58</td>\n",
       "    </tr>\n",
       "    <tr>\n",
       "      <th>23</th>\n",
       "      <td>316</td>\n",
       "      <td>C41421</td>\n",
       "      <td>Barra_to_Central</td>\n",
       "      <td>2015-08-17 09:22:48</td>\n",
       "      <td>2015-08-17 12:21:09</td>\n",
       "      <td>2:58</td>\n",
       "    </tr>\n",
       "    <tr>\n",
       "      <th>10</th>\n",
       "      <td>316</td>\n",
       "      <td>C41427</td>\n",
       "      <td>Barra_to_Central</td>\n",
       "      <td>2015-08-17 09:48:50</td>\n",
       "      <td>2015-08-17 12:14:00</td>\n",
       "      <td>2:25</td>\n",
       "    </tr>\n",
       "    <tr>\n",
       "      <th>15</th>\n",
       "      <td>316</td>\n",
       "      <td>C41423</td>\n",
       "      <td>Barra_to_Central</td>\n",
       "      <td>2015-08-17 12:35:12</td>\n",
       "      <td>2015-08-17 14:53:20</td>\n",
       "      <td>2:18</td>\n",
       "    </tr>\n",
       "    <tr>\n",
       "      <th>20</th>\n",
       "      <td>316</td>\n",
       "      <td>C41429</td>\n",
       "      <td>Barra_to_Central</td>\n",
       "      <td>2015-08-17 12:52:15</td>\n",
       "      <td>2015-08-17 15:14:13</td>\n",
       "      <td>2:21</td>\n",
       "    </tr>\n",
       "    <tr>\n",
       "      <th>6</th>\n",
       "      <td>316</td>\n",
       "      <td>C41424</td>\n",
       "      <td>Barra_to_Central</td>\n",
       "      <td>2015-08-17 13:09:55</td>\n",
       "      <td>2015-08-17 15:14:46</td>\n",
       "      <td>2:04</td>\n",
       "    </tr>\n",
       "    <tr>\n",
       "      <th>3</th>\n",
       "      <td>316</td>\n",
       "      <td>C41422</td>\n",
       "      <td>Barra_to_Central</td>\n",
       "      <td>2015-08-17 13:52:01</td>\n",
       "      <td>2015-08-17 15:50:19</td>\n",
       "      <td>1:58</td>\n",
       "    </tr>\n",
       "    <tr>\n",
       "      <th>25</th>\n",
       "      <td>316</td>\n",
       "      <td>C41421</td>\n",
       "      <td>Barra_to_Central</td>\n",
       "      <td>2015-08-17 14:53:04</td>\n",
       "      <td>2015-08-17 17:52:50</td>\n",
       "      <td>2:59</td>\n",
       "    </tr>\n",
       "    <tr>\n",
       "      <th>12</th>\n",
       "      <td>316</td>\n",
       "      <td>C41427</td>\n",
       "      <td>Barra_to_Central</td>\n",
       "      <td>2015-08-17 17:19:21</td>\n",
       "      <td>2015-08-17 20:29:06</td>\n",
       "      <td>3:09</td>\n",
       "    </tr>\n",
       "    <tr>\n",
       "      <th>17</th>\n",
       "      <td>316</td>\n",
       "      <td>C41423</td>\n",
       "      <td>Barra_to_Central</td>\n",
       "      <td>2015-08-17 18:26:55</td>\n",
       "      <td>2015-08-17 20:40:04</td>\n",
       "      <td>2:13</td>\n",
       "    </tr>\n",
       "    <tr>\n",
       "      <th>8</th>\n",
       "      <td>316</td>\n",
       "      <td>C41424</td>\n",
       "      <td>Barra_to_Central</td>\n",
       "      <td>2015-08-17 19:09:49</td>\n",
       "      <td>2015-08-17 20:59:46</td>\n",
       "      <td>1:49</td>\n",
       "    </tr>\n",
       "    <tr>\n",
       "      <th>22</th>\n",
       "      <td>316</td>\n",
       "      <td>C41429</td>\n",
       "      <td>Barra_to_Central</td>\n",
       "      <td>2015-08-17 19:15:51</td>\n",
       "      <td>2015-08-17 21:24:59</td>\n",
       "      <td>2:09</td>\n",
       "    </tr>\n",
       "    <tr>\n",
       "      <th>27</th>\n",
       "      <td>316</td>\n",
       "      <td>C41421</td>\n",
       "      <td>Barra_to_Central</td>\n",
       "      <td>2015-08-17 20:53:31</td>\n",
       "      <td>2015-08-17 22:23:20</td>\n",
       "      <td>1:29</td>\n",
       "    </tr>\n",
       "  </tbody>\n",
       "</table>\n",
       "</div>"
      ],
      "text/plain": [
       "   Line  Bus_Id         Direction      Departure_Hour         Arrive_Hour  \\\n",
       "13  316  C41423  Barra_to_Central 2015-08-17 06:56:03 2015-08-17 09:45:04   \n",
       "18  316  C41429  Barra_to_Central 2015-08-17 07:14:13 2015-08-17 09:56:53   \n",
       "4   316  C41424  Barra_to_Central 2015-08-17 07:34:47 2015-08-17 10:16:24   \n",
       "1   316  C41422  Barra_to_Central 2015-08-17 08:09:09 2015-08-17 11:07:18   \n",
       "23  316  C41421  Barra_to_Central 2015-08-17 09:22:48 2015-08-17 12:21:09   \n",
       "10  316  C41427  Barra_to_Central 2015-08-17 09:48:50 2015-08-17 12:14:00   \n",
       "15  316  C41423  Barra_to_Central 2015-08-17 12:35:12 2015-08-17 14:53:20   \n",
       "20  316  C41429  Barra_to_Central 2015-08-17 12:52:15 2015-08-17 15:14:13   \n",
       "6   316  C41424  Barra_to_Central 2015-08-17 13:09:55 2015-08-17 15:14:46   \n",
       "3   316  C41422  Barra_to_Central 2015-08-17 13:52:01 2015-08-17 15:50:19   \n",
       "25  316  C41421  Barra_to_Central 2015-08-17 14:53:04 2015-08-17 17:52:50   \n",
       "12  316  C41427  Barra_to_Central 2015-08-17 17:19:21 2015-08-17 20:29:06   \n",
       "17  316  C41423  Barra_to_Central 2015-08-17 18:26:55 2015-08-17 20:40:04   \n",
       "8   316  C41424  Barra_to_Central 2015-08-17 19:09:49 2015-08-17 20:59:46   \n",
       "22  316  C41429  Barra_to_Central 2015-08-17 19:15:51 2015-08-17 21:24:59   \n",
       "27  316  C41421  Barra_to_Central 2015-08-17 20:53:31 2015-08-17 22:23:20   \n",
       "\n",
       "   Travel_Time  \n",
       "13        2:49  \n",
       "18        2:42  \n",
       "4         2:41  \n",
       "1         2:58  \n",
       "23        2:58  \n",
       "10        2:25  \n",
       "15        2:18  \n",
       "20        2:21  \n",
       "6         2:04  \n",
       "3         1:58  \n",
       "25        2:59  \n",
       "12        3:09  \n",
       "17        2:13  \n",
       "8         1:49  \n",
       "22        2:09  \n",
       "27        1:29  "
      ]
     },
     "execution_count": 73,
     "metadata": {},
     "output_type": "execute_result"
    }
   ],
   "source": [
    "direction_barra_central = query[(query['Direction'] == 'Barra_to_Central')]\n",
    "direction_barra_central_sorted = direction_barra_central.sort([\"Departure_Hour\"])\n",
    "direction_barra_central_sorted"
   ]
  }
 ],
 "metadata": {
  "kernelspec": {
   "display_name": "Python 2",
   "language": "python",
   "name": "python2"
  },
  "language_info": {
   "codemirror_mode": {
    "name": "ipython",
    "version": 2
   },
   "file_extension": ".py",
   "mimetype": "text/x-python",
   "name": "python",
   "nbconvert_exporter": "python",
   "pygments_lexer": "ipython2",
   "version": "2.7.6"
  }
 },
 "nbformat": 4,
 "nbformat_minor": 0
}
