{
 "cells": [
  {
   "cell_type": "code",
   "execution_count": 1,
   "metadata": {
    "collapsed": true
   },
   "outputs": [],
   "source": [
    "import pandas as pd\n",
    "from pymongo import MongoClient, GEO2D\n",
    "import pymongo\n",
    "import json\n",
    "import datetime\n",
    "import folium \n",
    "import math"
   ]
  },
  {
   "cell_type": "code",
   "execution_count": 2,
   "metadata": {
    "collapsed": false
   },
   "outputs": [
    {
     "data": {
      "text/html": [
       "<div>\n",
       "<table border=\"1\" class=\"dataframe\">\n",
       "  <thead>\n",
       "    <tr style=\"text-align: right;\">\n",
       "      <th></th>\n",
       "      <th>linha</th>\n",
       "      <th>descricao</th>\n",
       "      <th>agencia</th>\n",
       "      <th>sequencia</th>\n",
       "      <th>latitude</th>\n",
       "      <th>longitude</th>\n",
       "    </tr>\n",
       "  </thead>\n",
       "  <tbody>\n",
       "    <tr>\n",
       "      <th>94</th>\n",
       "      <td>438</td>\n",
       "      <td>438-VILA ISABEL X LEBLON (VIA JOQUEI) - CIRCULAR</td>\n",
       "      <td>Fetranspor</td>\n",
       "      <td>1</td>\n",
       "      <td>-22.9882</td>\n",
       "      <td>-43.2283</td>\n",
       "    </tr>\n",
       "    <tr>\n",
       "      <th>127</th>\n",
       "      <td>438</td>\n",
       "      <td>438-VILA ISABEL X LEBLON (VIA JOQUEI) - CIRCULAR</td>\n",
       "      <td>Fetranspor</td>\n",
       "      <td>1</td>\n",
       "      <td>-22.9163</td>\n",
       "      <td>-43.2512</td>\n",
       "    </tr>\n",
       "  </tbody>\n",
       "</table>\n",
       "</div>"
      ],
      "text/plain": [
       "     linha                                         descricao     agencia  \\\n",
       "94     438  438-VILA ISABEL X LEBLON (VIA JOQUEI) - CIRCULAR  Fetranspor   \n",
       "127    438  438-VILA ISABEL X LEBLON (VIA JOQUEI) - CIRCULAR  Fetranspor   \n",
       "\n",
       "     sequencia  latitude  longitude  \n",
       "94           1  -22.9882   -43.2283  \n",
       "127          1  -22.9163   -43.2512  "
      ]
     },
     "execution_count": 2,
     "metadata": {},
     "output_type": "execute_result"
    }
   ],
   "source": [
    "#para saber el punto inicial y final de la linea\n",
    "line_438_busstops = pd.read_csv('/home/kathrin/Doctorado/bus_rio/Datos_Omnibus/Onibus/Paradas/gtfs_linha438-paradas.csv')\n",
    "departure_points = line_438_busstops[(line_438_busstops[\"sequencia\"]==1)]\n",
    "departure_points"
   ]
  },
  {
   "cell_type": "code",
   "execution_count": 3,
   "metadata": {
    "collapsed": true
   },
   "outputs": [],
   "source": [
    "#Estableciendo la conexion con la base de datos aniv_cidade_event en MongoDB\n",
    "db = MongoClient().aniv_cidade_event"
   ]
  },
  {
   "cell_type": "code",
   "execution_count": 4,
   "metadata": {
    "collapsed": true
   },
   "outputs": [],
   "source": [
    "#Funcion para determinar el punto inicial y final de un recorrido de una linea de omnibus\n",
    "def bus_line_initial_final_points(bus_line):\n",
    "    busstops_firstpoints=[]\n",
    "    for row in db.busstops.find({ \"linha\": bus_line,\"sequencia\": 1 }):\n",
    "        busstops_firstpoints.insert(0, [row[u'linha'], row[u'descricao'], row[u'latitude'], row[u'longitude']])\n",
    "\n",
    "    #convertir la lista en un dataframe de pandas\n",
    "    df_departure_points = pd.DataFrame(busstops_firstpoints, columns=['linha','descricao', 'latitude', 'longitude'])\n",
    "    #df_departure_points\n",
    "    initial_point = df_departure_points['latitude'][0], df_departure_points['longitude'][0]\n",
    "    inverted_initial_point = df_departure_points['longitude'][0], df_departure_points['latitude'][0]\n",
    "    final_point = df_departure_points['latitude'][1], df_departure_points['longitude'][1]\n",
    "    inverted_final_point = df_departure_points['longitude'][1], df_departure_points['latitude'][1]\n",
    "    return initial_point, final_point, inverted_initial_point, inverted_final_point"
   ]
  },
  {
   "cell_type": "code",
   "execution_count": 5,
   "metadata": {
    "collapsed": false
   },
   "outputs": [
    {
     "data": {
      "text/plain": [
       "((-22.9163, -43.251199999999997),\n",
       " (-22.988199999999999, -43.228299999999997),\n",
       " (-43.251199999999997, -22.9163),\n",
       " (-43.228299999999997, -22.988199999999999))"
      ]
     },
     "execution_count": 5,
     "metadata": {},
     "output_type": "execute_result"
    }
   ],
   "source": [
    "#Llamada a la funcion bus_line_initial_final_points de la 438\n",
    "initial_final_points = bus_line_initial_final_points(438)\n",
    "initial_final_points"
   ]
  },
  {
   "cell_type": "code",
   "execution_count": 6,
   "metadata": {
    "collapsed": false
   },
   "outputs": [
    {
     "data": {
      "text/plain": [
       "(-22.988199999999999, -43.228299999999997)"
      ]
     },
     "execution_count": 6,
     "metadata": {},
     "output_type": "execute_result"
    }
   ],
   "source": [
    "#De la misma llamada a la funcion de arriba retornar el valor en la posicion 1\n",
    "initial_point = initial_final_points[1]\n",
    "initial_point"
   ]
  },
  {
   "cell_type": "code",
   "execution_count": 7,
   "metadata": {
    "collapsed": false
   },
   "outputs": [
    {
     "data": {
      "text/plain": [
       "(-22.9163, -43.251199999999997)"
      ]
     },
     "execution_count": 7,
     "metadata": {},
     "output_type": "execute_result"
    }
   ],
   "source": [
    "#De la misma llamada a la funcion de arriba retornar el valor en la posicion 0\n",
    "final_point = initial_final_points[0]\n",
    "final_point"
   ]
  },
  {
   "cell_type": "code",
   "execution_count": 9,
   "metadata": {
    "collapsed": false
   },
   "outputs": [
    {
     "data": {
      "text/plain": [
       "(-43.228299999999997, -22.988199999999999)"
      ]
     },
     "execution_count": 9,
     "metadata": {},
     "output_type": "execute_result"
    }
   ],
   "source": [
    "inverted_initial_point = initial_final_points[3]\n",
    "inverted_initial_point"
   ]
  },
  {
   "cell_type": "code",
   "execution_count": 10,
   "metadata": {
    "collapsed": false
   },
   "outputs": [
    {
     "data": {
      "text/plain": [
       "(-43.251199999999997, -22.9163)"
      ]
     },
     "execution_count": 10,
     "metadata": {},
     "output_type": "execute_result"
    }
   ],
   "source": [
    "inverted_final_point = initial_final_points[2]\n",
    "inverted_final_point"
   ]
  },
  {
   "cell_type": "code",
   "execution_count": 13,
   "metadata": {
    "collapsed": true
   },
   "outputs": [],
   "source": [
    "#Function to compute the bus_ids circulating during a day 20150222 of bus line 438\n",
    "def bus_id_list ():\n",
    "    bus_id_20150222_438 = db.dados20150222_line_438.distinct(\"bus_id\")\n",
    "    return bus_id_20150222_438"
   ]
  },
  {
   "cell_type": "code",
   "execution_count": 14,
   "metadata": {
    "collapsed": false
   },
   "outputs": [
    {
     "data": {
      "text/plain": [
       "[u'A27558',\n",
       " u'A27632',\n",
       " u'A27510',\n",
       " u'A27554',\n",
       " u'A27531',\n",
       " u'A27599',\n",
       " u'A27646',\n",
       " u'A27504',\n",
       " u'A27565',\n",
       " u'A27606',\n",
       " u'A27603',\n",
       " u'A27604',\n",
       " u'A27512',\n",
       " u'A27525',\n",
       " u'A27651',\n",
       " u'A27514',\n",
       " u'A27630',\n",
       " u'A27527',\n",
       " u'A27544',\n",
       " u'A27618']"
      ]
     },
     "execution_count": 14,
     "metadata": {},
     "output_type": "execute_result"
    }
   ],
   "source": [
    "#llamada a la funcion bus_id_list\n",
    "busId_list = bus_id_list()\n",
    "busId_list"
   ]
  },
  {
   "cell_type": "code",
   "execution_count": 15,
   "metadata": {
    "collapsed": true
   },
   "outputs": [],
   "source": [
    "#Funcion para meter los bus_Id del dataframe para un array\n",
    "def get_busId_list():\n",
    "    array_busId = []\n",
    "    for bus in busId_list:\n",
    "        strbus = str(bus)\n",
    "        array_busId.insert(len(array_busId), strbus)\n",
    "    return array_busId "
   ]
  },
  {
   "cell_type": "code",
   "execution_count": 16,
   "metadata": {
    "collapsed": false
   },
   "outputs": [
    {
     "data": {
      "text/plain": [
       "['A27558',\n",
       " 'A27632',\n",
       " 'A27510',\n",
       " 'A27554',\n",
       " 'A27531',\n",
       " 'A27599',\n",
       " 'A27646',\n",
       " 'A27504',\n",
       " 'A27565',\n",
       " 'A27606',\n",
       " 'A27603',\n",
       " 'A27604',\n",
       " 'A27512',\n",
       " 'A27525',\n",
       " 'A27651',\n",
       " 'A27514',\n",
       " 'A27630',\n",
       " 'A27527',\n",
       " 'A27544',\n",
       " 'A27618']"
      ]
     },
     "execution_count": 16,
     "metadata": {},
     "output_type": "execute_result"
    }
   ],
   "source": [
    "array_busId = get_busId_list()\n",
    "array_busId"
   ]
  },
  {
   "cell_type": "code",
   "execution_count": 17,
   "metadata": {
    "collapsed": false
   },
   "outputs": [
    {
     "data": {
      "text/plain": [
       "20"
      ]
     },
     "execution_count": 17,
     "metadata": {},
     "output_type": "execute_result"
    }
   ],
   "source": [
    "len(array_busId)"
   ]
  },
  {
   "cell_type": "code",
   "execution_count": 26,
   "metadata": {
    "collapsed": true
   },
   "outputs": [],
   "source": [
    "#funcion que dado un el bus_id de un omnibus y un punto inicial/final devuelve los puntos mas cercanos a ese punto. \n",
    "# A esa función se le debería pasar también la BD, pero ahora no se va a hacer asi\n",
    "def near_points_to_origin (bus_id, inverted_origin_point):\n",
    "    near_initial_points_array = []\n",
    "    #la funcion $within recibe las coordenadas en orden inverso (primero longitud y después latitud)\n",
    "    for row in db.dados20150222_line_438.find({\"latlon\": {\"$within\": {\"$center\": [inverted_origin_point, 0.00052543]}}, \"bus_id\": bus_id}).sort(\"timestamp\",pymongo.DESCENDING):\n",
    "        near_initial_points_array.insert(0, [row[u'timestamp'], row[u'latitude'], row[u'longitude'], row[u'speed']])\n",
    "    #convert the array in panda dataframe \n",
    "    sorted_near_initial_points = pd.DataFrame(near_initial_points_array, columns=['timestamp', 'latitude', 'longitude', 'speed'])\n",
    "    return sorted_near_initial_points"
   ]
  },
  {
   "cell_type": "code",
   "execution_count": 27,
   "metadata": {
    "collapsed": true
   },
   "outputs": [],
   "source": [
    "#Funcion que retorna el arreglo con las horas de salida del omnibus al punto inicial/final del trayecto\n",
    "def bus_departure_hour (initial_points_timestamp_list):\n",
    "    list_departure_hours = []\n",
    "    i = 0\n",
    "    if len(initial_points_timestamp_list) >1:\n",
    "        for i in range(0, len(initial_points_timestamp_list)-1):\n",
    "            resto = datetime.datetime.strptime(initial_points_timestamp_list[i+1], \"%d-%m-%Y %H:%M:%S\")-datetime.datetime.strptime(initial_points_timestamp_list[i], \"%d-%m-%Y %H:%M:%S\")\n",
    "            resto_total = resto.total_seconds()/60\n",
    "            #si la diferencia entre los timestamp del omnibus en el putno supera los 40 minutos es q dio un viaje y regreso, sino lo supera es que se mantuvo ese tiempo esperando en el punto\n",
    "            if (resto_total > 40):\n",
    "                 list_departure_hours.insert(len( list_departure_hours),datetime.datetime.strptime(initial_points_timestamp_list[i], \"%d-%m-%Y %H:%M:%S\"))\n",
    "        #siempre es necesario insertar el ultimo valor de la lista de \"initial_points_timestamp\" en la lista de  list_departure_hours \n",
    "        list_departure_hours.insert(len( list_departure_hours),datetime.datetime.strptime(initial_points_timestamp_list[i+1], \"%d-%m-%Y %H:%M:%S\"))\n",
    "    else:\n",
    "        list_departure_hours.insert(len( list_departure_hours),datetime.datetime.strptime(initial_points_timestamp_list[0], \"%d-%m-%Y %H:%M:%S\"))\n",
    "    return list_departure_hours"
   ]
  },
  {
   "cell_type": "code",
   "execution_count": 28,
   "metadata": {
    "collapsed": true
   },
   "outputs": [],
   "source": [
    "#Funcion que retorna el arreglo con las horas de llegada del omnibus al punto inicial/final del trayecto\n",
    "def bus_arrive_hour (initial_points_timestamp_list):\n",
    "    list_arrive_hours = []\n",
    "    #siempre es necesario insertar el ultimo valor de la lista de \"initial_points_timestamp\" en la lista de leblon_departure_hours \n",
    "    list_arrive_hours.insert(len(list_arrive_hours),datetime.datetime.strptime(initial_points_timestamp_list[0], \"%d-%m-%Y %H:%M:%S\"))\n",
    "    if len(initial_points_timestamp_list) >1:\n",
    "        for i in range(0,  len(initial_points_timestamp_list)-1):\n",
    "            resto = datetime.datetime.strptime(initial_points_timestamp_list[i+1], \"%d-%m-%Y %H:%M:%S\")-datetime.datetime.strptime(initial_points_timestamp_list[i], \"%d-%m-%Y %H:%M:%S\")\n",
    "            resto_total = resto.total_seconds()/60\n",
    "            if (resto_total > 40):\n",
    "                list_arrive_hours.insert(len(list_arrive_hours),datetime.datetime.strptime(initial_points_timestamp_list[i+1], \"%d-%m-%Y %H:%M:%S\"))\n",
    "    return list_arrive_hours"
   ]
  },
  {
   "cell_type": "code",
   "execution_count": 29,
   "metadata": {
    "collapsed": true
   },
   "outputs": [],
   "source": [
    "#Para convertir de formato timedelta para horas y minutos\n",
    "def days_hours_minutes(travel_time):\n",
    "    hours = travel_time.seconds//3600 \n",
    "    minutes = (travel_time.seconds//60)%60\n",
    "    #print '%d hours, %d minutes' % (hours,minutes)\n",
    "    if minutes < 10:\n",
    "        minutes = str(0)+str(minutes)\n",
    "    return str(hours) + \":\"+ str(minutes)"
   ]
  },
  {
   "cell_type": "code",
   "execution_count": 30,
   "metadata": {
    "collapsed": true
   },
   "outputs": [],
   "source": [
    "#Funcion que crea la tabla de viajes con los tiempos de viaje\n",
    "def create_travel_table (name_A, arrive_array_A, departure_array_A, name_B, arrive_array_B, departure_array_B, bus_Id, bus_line):\n",
    "    \n",
    "    my_time_table = []   \n",
    "    num_travel = 0    \n",
    "    i = 0 #Cursor para moverme por el departure_array_A(arreglo q contiene las horas de salida del punto incial)   \n",
    "    j = 0 #Cursor para moverme por el departure_array_B (arreglo q contiene las horas de salida del punto final)\n",
    "   \n",
    "    while (i<len(departure_array_A) and j< len(departure_array_B)):\n",
    "        if (departure_array_A[i] < departure_array_B[j]):\n",
    "            direction = name_A + \"_to_\" + name_B\n",
    "            departure_hour = departure_array_A[i]\n",
    "            i = i +1\n",
    "            arrive_hour = arrive_array_B[j]\n",
    "            num_travel = num_travel +1\n",
    "            travel_time = days_hours_minutes(arrive_hour - departure_hour)          \n",
    "            my_time_table.insert(len(my_time_table), [bus_line, bus_Id, direction, departure_hour,arrive_hour, travel_time])\n",
    "                        \n",
    "        elif(departure_array_B[j] < departure_array_A[i]):\n",
    "            direction = name_B + \"_to_\" + name_A\n",
    "            departure_hour = departure_array_B[j]\n",
    "            j = j +1\n",
    "            arrive_hour = arrive_array_A[i]\n",
    "            num_travel = num_travel +1\n",
    "            travel_time = days_hours_minutes(arrive_hour - departure_hour)          \n",
    "            my_time_table.insert(len(my_time_table), [bus_line, bus_Id, direction, departure_hour,arrive_hour, travel_time])\n",
    "            \n",
    "    #Construir el dataframe pasandole el array con todos los datos de los viajes   \n",
    "    mydf = pd.DataFrame(my_time_table, columns=['Line', 'Bus_Id','Direction','Departure_Hour', 'Arrive_Hour', 'Travel_Time'])       \n",
    "    return mydf  \n"
   ]
  },
  {
   "cell_type": "code",
   "execution_count": 31,
   "metadata": {
    "collapsed": true
   },
   "outputs": [],
   "source": [
    "#Funcion que crea la tabla de tiempo de viaje para cada bus_id de los que transitaron el el dia\n",
    "def all_travel_table (line, punto_ini_coord_invertidas, name_punto_inicio, punto_fin_coord_invertidas, name_punto_final, array_busId):\n",
    "    new_df = pd.DataFrame(columns=['Line', 'Bus_Id','Direction','Departure_Hour', 'Arrive_Hour', 'Travel_Time'])  \n",
    "    for busId in array_busId:\n",
    "        sorted_near_initial_points1 = near_points_to_origin(busId, punto_ini_coord_invertidas)\n",
    "        sorted_near_final_points1 = near_points_to_origin(busId, punto_fin_coord_invertidas)\n",
    "        initial_points_timestamp1 = sorted_near_initial_points1 ['timestamp']\n",
    "        final_points_timestamp1 = sorted_near_final_points1 ['timestamp']\n",
    "        #chequear si la lista initial_points_timestamp es diferente de vacio\n",
    "        if len(initial_points_timestamp1) and len(final_points_timestamp1):\n",
    "            vilaIsabel_departure_hours1 = bus_departure_hour(initial_points_timestamp1)\n",
    "            first_point_departure_hour = bus_departure_hour (initial_points_timestamp1)\n",
    "            last_point_departure_hour = bus_departure_hour (final_points_timestamp1)\n",
    "            first_point_arrive_hour = bus_arrive_hour(initial_points_timestamp1)\n",
    "            last_point_arrive_hour = bus_arrive_hour(final_points_timestamp1)\n",
    "            my_time_table = create_travel_table(name_punto_inicio, first_point_arrive_hour, first_point_departure_hour, 'Vila Isabel', last_point_arrive_hour, last_point_departure_hour, busId, '438')\n",
    "            new_df = new_df.append(my_time_table, ignore_index=True)\n",
    "    return new_df"
   ]
  },
  {
   "cell_type": "code",
   "execution_count": 32,
   "metadata": {
    "collapsed": false
   },
   "outputs": [
    {
     "data": {
      "text/html": [
       "<div>\n",
       "<table border=\"1\" class=\"dataframe\">\n",
       "  <thead>\n",
       "    <tr style=\"text-align: right;\">\n",
       "      <th></th>\n",
       "      <th>Line</th>\n",
       "      <th>Bus_Id</th>\n",
       "      <th>Direction</th>\n",
       "      <th>Departure_Hour</th>\n",
       "      <th>Arrive_Hour</th>\n",
       "      <th>Travel_Time</th>\n",
       "    </tr>\n",
       "  </thead>\n",
       "  <tbody>\n",
       "    <tr>\n",
       "      <th>0</th>\n",
       "      <td>438</td>\n",
       "      <td>A27510</td>\n",
       "      <td>Vila Isabel_to_Leblon</td>\n",
       "      <td>2015-02-22 14:47:43</td>\n",
       "      <td>2015-02-22 18:39:16</td>\n",
       "      <td>3:51</td>\n",
       "    </tr>\n",
       "    <tr>\n",
       "      <th>1</th>\n",
       "      <td>438</td>\n",
       "      <td>A27510</td>\n",
       "      <td>Vila Isabel_to_Leblon</td>\n",
       "      <td>2015-02-22 17:38:45</td>\n",
       "      <td>2015-02-22 18:39:16</td>\n",
       "      <td>1:00</td>\n",
       "    </tr>\n",
       "    <tr>\n",
       "      <th>2</th>\n",
       "      <td>438</td>\n",
       "      <td>A27510</td>\n",
       "      <td>Leblon_to_Vila Isabel</td>\n",
       "      <td>2015-02-22 18:39:16</td>\n",
       "      <td>2015-02-22 19:56:46</td>\n",
       "      <td>1:17</td>\n",
       "    </tr>\n",
       "    <tr>\n",
       "      <th>3</th>\n",
       "      <td>438</td>\n",
       "      <td>A27606</td>\n",
       "      <td>Vila Isabel_to_Leblon</td>\n",
       "      <td>2015-02-22 05:44:07</td>\n",
       "      <td>2015-02-22 11:53:07</td>\n",
       "      <td>6:09</td>\n",
       "    </tr>\n",
       "    <tr>\n",
       "      <th>4</th>\n",
       "      <td>438</td>\n",
       "      <td>A27606</td>\n",
       "      <td>Vila Isabel_to_Leblon</td>\n",
       "      <td>2015-02-22 08:09:08</td>\n",
       "      <td>2015-02-22 11:53:07</td>\n",
       "      <td>3:43</td>\n",
       "    </tr>\n",
       "    <tr>\n",
       "      <th>5</th>\n",
       "      <td>438</td>\n",
       "      <td>A27606</td>\n",
       "      <td>Leblon_to_Vila Isabel</td>\n",
       "      <td>2015-02-22 11:53:07</td>\n",
       "      <td>2015-02-22 13:34:35</td>\n",
       "      <td>1:41</td>\n",
       "    </tr>\n",
       "    <tr>\n",
       "      <th>6</th>\n",
       "      <td>438</td>\n",
       "      <td>A27606</td>\n",
       "      <td>Vila Isabel_to_Leblon</td>\n",
       "      <td>2015-02-22 13:40:05</td>\n",
       "      <td>2015-02-22 17:22:35</td>\n",
       "      <td>3:42</td>\n",
       "    </tr>\n",
       "    <tr>\n",
       "      <th>7</th>\n",
       "      <td>438</td>\n",
       "      <td>A27606</td>\n",
       "      <td>Vila Isabel_to_Leblon</td>\n",
       "      <td>2015-02-22 16:21:04</td>\n",
       "      <td>2015-02-22 17:22:35</td>\n",
       "      <td>1:01</td>\n",
       "    </tr>\n",
       "    <tr>\n",
       "      <th>8</th>\n",
       "      <td>438</td>\n",
       "      <td>A27606</td>\n",
       "      <td>Leblon_to_Vila Isabel</td>\n",
       "      <td>2015-02-22 17:22:35</td>\n",
       "      <td>2015-02-22 18:30:35</td>\n",
       "      <td>1:08</td>\n",
       "    </tr>\n",
       "    <tr>\n",
       "      <th>9</th>\n",
       "      <td>438</td>\n",
       "      <td>A27606</td>\n",
       "      <td>Vila Isabel_to_Leblon</td>\n",
       "      <td>2015-02-22 19:32:05</td>\n",
       "      <td>2015-02-22 20:29:35</td>\n",
       "      <td>0:57</td>\n",
       "    </tr>\n",
       "    <tr>\n",
       "      <th>10</th>\n",
       "      <td>438</td>\n",
       "      <td>A27606</td>\n",
       "      <td>Leblon_to_Vila Isabel</td>\n",
       "      <td>2015-02-22 20:29:35</td>\n",
       "      <td>2015-02-22 21:37:35</td>\n",
       "      <td>1:08</td>\n",
       "    </tr>\n",
       "    <tr>\n",
       "      <th>11</th>\n",
       "      <td>438</td>\n",
       "      <td>A27525</td>\n",
       "      <td>Vila Isabel_to_Leblon</td>\n",
       "      <td>2015-02-22 14:19:06</td>\n",
       "      <td>2015-02-22 15:32:06</td>\n",
       "      <td>1:13</td>\n",
       "    </tr>\n",
       "    <tr>\n",
       "      <th>12</th>\n",
       "      <td>438</td>\n",
       "      <td>A27525</td>\n",
       "      <td>Leblon_to_Vila Isabel</td>\n",
       "      <td>2015-02-22 15:32:36</td>\n",
       "      <td>2015-02-22 16:45:36</td>\n",
       "      <td>1:13</td>\n",
       "    </tr>\n",
       "    <tr>\n",
       "      <th>13</th>\n",
       "      <td>438</td>\n",
       "      <td>A27525</td>\n",
       "      <td>Vila Isabel_to_Leblon</td>\n",
       "      <td>2015-02-22 17:21:23</td>\n",
       "      <td>2015-02-22 22:37:03</td>\n",
       "      <td>5:15</td>\n",
       "    </tr>\n",
       "    <tr>\n",
       "      <th>14</th>\n",
       "      <td>438</td>\n",
       "      <td>A27525</td>\n",
       "      <td>Vila Isabel_to_Leblon</td>\n",
       "      <td>2015-02-22 21:32:03</td>\n",
       "      <td>2015-02-22 22:37:03</td>\n",
       "      <td>1:05</td>\n",
       "    </tr>\n",
       "    <tr>\n",
       "      <th>15</th>\n",
       "      <td>438</td>\n",
       "      <td>A27525</td>\n",
       "      <td>Leblon_to_Vila Isabel</td>\n",
       "      <td>2015-02-22 22:37:03</td>\n",
       "      <td>2015-02-22 23:39:03</td>\n",
       "      <td>1:02</td>\n",
       "    </tr>\n",
       "    <tr>\n",
       "      <th>16</th>\n",
       "      <td>438</td>\n",
       "      <td>A27651</td>\n",
       "      <td>Leblon_to_Vila Isabel</td>\n",
       "      <td>2015-02-22 13:55:10</td>\n",
       "      <td>2015-02-22 16:34:10</td>\n",
       "      <td>2:39</td>\n",
       "    </tr>\n",
       "    <tr>\n",
       "      <th>17</th>\n",
       "      <td>438</td>\n",
       "      <td>A27651</td>\n",
       "      <td>Leblon_to_Vila Isabel</td>\n",
       "      <td>2015-02-22 15:22:40</td>\n",
       "      <td>2015-02-22 16:34:10</td>\n",
       "      <td>1:11</td>\n",
       "    </tr>\n",
       "    <tr>\n",
       "      <th>18</th>\n",
       "      <td>438</td>\n",
       "      <td>A27651</td>\n",
       "      <td>Vila Isabel_to_Leblon</td>\n",
       "      <td>2015-02-22 16:34:10</td>\n",
       "      <td>2015-02-22 17:18:10</td>\n",
       "      <td>0:44</td>\n",
       "    </tr>\n",
       "    <tr>\n",
       "      <th>19</th>\n",
       "      <td>438</td>\n",
       "      <td>A27651</td>\n",
       "      <td>Leblon_to_Vila Isabel</td>\n",
       "      <td>2015-02-22 17:19:10</td>\n",
       "      <td>2015-02-22 18:34:10</td>\n",
       "      <td>1:15</td>\n",
       "    </tr>\n",
       "    <tr>\n",
       "      <th>20</th>\n",
       "      <td>438</td>\n",
       "      <td>A27651</td>\n",
       "      <td>Vila Isabel_to_Leblon</td>\n",
       "      <td>2015-02-22 18:34:10</td>\n",
       "      <td>2015-02-22 19:10:10</td>\n",
       "      <td>0:36</td>\n",
       "    </tr>\n",
       "    <tr>\n",
       "      <th>21</th>\n",
       "      <td>438</td>\n",
       "      <td>A27651</td>\n",
       "      <td>Leblon_to_Vila Isabel</td>\n",
       "      <td>2015-02-22 19:10:10</td>\n",
       "      <td>2015-02-22 20:09:10</td>\n",
       "      <td>0:59</td>\n",
       "    </tr>\n",
       "    <tr>\n",
       "      <th>22</th>\n",
       "      <td>438</td>\n",
       "      <td>A27651</td>\n",
       "      <td>Vila Isabel_to_Leblon</td>\n",
       "      <td>2015-02-22 20:09:10</td>\n",
       "      <td>2015-02-22 22:54:10</td>\n",
       "      <td>2:45</td>\n",
       "    </tr>\n",
       "    <tr>\n",
       "      <th>23</th>\n",
       "      <td>438</td>\n",
       "      <td>A27651</td>\n",
       "      <td>Vila Isabel_to_Leblon</td>\n",
       "      <td>2015-02-22 22:23:10</td>\n",
       "      <td>2015-02-22 22:54:10</td>\n",
       "      <td>0:31</td>\n",
       "    </tr>\n",
       "    <tr>\n",
       "      <th>24</th>\n",
       "      <td>438</td>\n",
       "      <td>A27651</td>\n",
       "      <td>Leblon_to_Vila Isabel</td>\n",
       "      <td>2015-02-22 22:54:10</td>\n",
       "      <td>2015-02-22 23:32:10</td>\n",
       "      <td>0:38</td>\n",
       "    </tr>\n",
       "    <tr>\n",
       "      <th>25</th>\n",
       "      <td>438</td>\n",
       "      <td>A27630</td>\n",
       "      <td>Leblon_to_Vila Isabel</td>\n",
       "      <td>2015-02-22 14:23:13</td>\n",
       "      <td>2015-02-22 15:38:13</td>\n",
       "      <td>1:15</td>\n",
       "    </tr>\n",
       "    <tr>\n",
       "      <th>26</th>\n",
       "      <td>438</td>\n",
       "      <td>A27630</td>\n",
       "      <td>Vila Isabel_to_Leblon</td>\n",
       "      <td>2015-02-22 15:44:13</td>\n",
       "      <td>2015-02-22 20:34:45</td>\n",
       "      <td>4:50</td>\n",
       "    </tr>\n",
       "    <tr>\n",
       "      <th>27</th>\n",
       "      <td>438</td>\n",
       "      <td>A27630</td>\n",
       "      <td>Vila Isabel_to_Leblon</td>\n",
       "      <td>2015-02-22 19:00:15</td>\n",
       "      <td>2015-02-22 20:34:45</td>\n",
       "      <td>1:34</td>\n",
       "    </tr>\n",
       "    <tr>\n",
       "      <th>28</th>\n",
       "      <td>438</td>\n",
       "      <td>A27630</td>\n",
       "      <td>Leblon_to_Vila Isabel</td>\n",
       "      <td>2015-02-22 20:34:45</td>\n",
       "      <td>2015-02-22 21:52:15</td>\n",
       "      <td>1:17</td>\n",
       "    </tr>\n",
       "    <tr>\n",
       "      <th>29</th>\n",
       "      <td>438</td>\n",
       "      <td>A27527</td>\n",
       "      <td>Leblon_to_Vila Isabel</td>\n",
       "      <td>2015-02-22 14:32:19</td>\n",
       "      <td>2015-02-22 15:36:49</td>\n",
       "      <td>1:04</td>\n",
       "    </tr>\n",
       "    <tr>\n",
       "      <th>30</th>\n",
       "      <td>438</td>\n",
       "      <td>A27527</td>\n",
       "      <td>Vila Isabel_to_Leblon</td>\n",
       "      <td>2015-02-22 15:59:49</td>\n",
       "      <td>2015-02-22 16:56:19</td>\n",
       "      <td>0:56</td>\n",
       "    </tr>\n",
       "    <tr>\n",
       "      <th>31</th>\n",
       "      <td>438</td>\n",
       "      <td>A27527</td>\n",
       "      <td>Leblon_to_Vila Isabel</td>\n",
       "      <td>2015-02-22 16:56:19</td>\n",
       "      <td>2015-02-22 18:10:49</td>\n",
       "      <td>1:14</td>\n",
       "    </tr>\n",
       "    <tr>\n",
       "      <th>32</th>\n",
       "      <td>438</td>\n",
       "      <td>A27527</td>\n",
       "      <td>Vila Isabel_to_Leblon</td>\n",
       "      <td>2015-02-22 18:30:49</td>\n",
       "      <td>2015-02-22 19:32:49</td>\n",
       "      <td>1:02</td>\n",
       "    </tr>\n",
       "    <tr>\n",
       "      <th>33</th>\n",
       "      <td>438</td>\n",
       "      <td>A27527</td>\n",
       "      <td>Leblon_to_Vila Isabel</td>\n",
       "      <td>2015-02-22 19:33:49</td>\n",
       "      <td>2015-02-22 20:48:49</td>\n",
       "      <td>1:15</td>\n",
       "    </tr>\n",
       "  </tbody>\n",
       "</table>\n",
       "</div>"
      ],
      "text/plain": [
       "   Line  Bus_Id              Direction      Departure_Hour  \\\n",
       "0   438  A27510  Vila Isabel_to_Leblon 2015-02-22 14:47:43   \n",
       "1   438  A27510  Vila Isabel_to_Leblon 2015-02-22 17:38:45   \n",
       "2   438  A27510  Leblon_to_Vila Isabel 2015-02-22 18:39:16   \n",
       "3   438  A27606  Vila Isabel_to_Leblon 2015-02-22 05:44:07   \n",
       "4   438  A27606  Vila Isabel_to_Leblon 2015-02-22 08:09:08   \n",
       "5   438  A27606  Leblon_to_Vila Isabel 2015-02-22 11:53:07   \n",
       "6   438  A27606  Vila Isabel_to_Leblon 2015-02-22 13:40:05   \n",
       "7   438  A27606  Vila Isabel_to_Leblon 2015-02-22 16:21:04   \n",
       "8   438  A27606  Leblon_to_Vila Isabel 2015-02-22 17:22:35   \n",
       "9   438  A27606  Vila Isabel_to_Leblon 2015-02-22 19:32:05   \n",
       "10  438  A27606  Leblon_to_Vila Isabel 2015-02-22 20:29:35   \n",
       "11  438  A27525  Vila Isabel_to_Leblon 2015-02-22 14:19:06   \n",
       "12  438  A27525  Leblon_to_Vila Isabel 2015-02-22 15:32:36   \n",
       "13  438  A27525  Vila Isabel_to_Leblon 2015-02-22 17:21:23   \n",
       "14  438  A27525  Vila Isabel_to_Leblon 2015-02-22 21:32:03   \n",
       "15  438  A27525  Leblon_to_Vila Isabel 2015-02-22 22:37:03   \n",
       "16  438  A27651  Leblon_to_Vila Isabel 2015-02-22 13:55:10   \n",
       "17  438  A27651  Leblon_to_Vila Isabel 2015-02-22 15:22:40   \n",
       "18  438  A27651  Vila Isabel_to_Leblon 2015-02-22 16:34:10   \n",
       "19  438  A27651  Leblon_to_Vila Isabel 2015-02-22 17:19:10   \n",
       "20  438  A27651  Vila Isabel_to_Leblon 2015-02-22 18:34:10   \n",
       "21  438  A27651  Leblon_to_Vila Isabel 2015-02-22 19:10:10   \n",
       "22  438  A27651  Vila Isabel_to_Leblon 2015-02-22 20:09:10   \n",
       "23  438  A27651  Vila Isabel_to_Leblon 2015-02-22 22:23:10   \n",
       "24  438  A27651  Leblon_to_Vila Isabel 2015-02-22 22:54:10   \n",
       "25  438  A27630  Leblon_to_Vila Isabel 2015-02-22 14:23:13   \n",
       "26  438  A27630  Vila Isabel_to_Leblon 2015-02-22 15:44:13   \n",
       "27  438  A27630  Vila Isabel_to_Leblon 2015-02-22 19:00:15   \n",
       "28  438  A27630  Leblon_to_Vila Isabel 2015-02-22 20:34:45   \n",
       "29  438  A27527  Leblon_to_Vila Isabel 2015-02-22 14:32:19   \n",
       "30  438  A27527  Vila Isabel_to_Leblon 2015-02-22 15:59:49   \n",
       "31  438  A27527  Leblon_to_Vila Isabel 2015-02-22 16:56:19   \n",
       "32  438  A27527  Vila Isabel_to_Leblon 2015-02-22 18:30:49   \n",
       "33  438  A27527  Leblon_to_Vila Isabel 2015-02-22 19:33:49   \n",
       "\n",
       "           Arrive_Hour Travel_Time  \n",
       "0  2015-02-22 18:39:16        3:51  \n",
       "1  2015-02-22 18:39:16        1:00  \n",
       "2  2015-02-22 19:56:46        1:17  \n",
       "3  2015-02-22 11:53:07        6:09  \n",
       "4  2015-02-22 11:53:07        3:43  \n",
       "5  2015-02-22 13:34:35        1:41  \n",
       "6  2015-02-22 17:22:35        3:42  \n",
       "7  2015-02-22 17:22:35        1:01  \n",
       "8  2015-02-22 18:30:35        1:08  \n",
       "9  2015-02-22 20:29:35        0:57  \n",
       "10 2015-02-22 21:37:35        1:08  \n",
       "11 2015-02-22 15:32:06        1:13  \n",
       "12 2015-02-22 16:45:36        1:13  \n",
       "13 2015-02-22 22:37:03        5:15  \n",
       "14 2015-02-22 22:37:03        1:05  \n",
       "15 2015-02-22 23:39:03        1:02  \n",
       "16 2015-02-22 16:34:10        2:39  \n",
       "17 2015-02-22 16:34:10        1:11  \n",
       "18 2015-02-22 17:18:10        0:44  \n",
       "19 2015-02-22 18:34:10        1:15  \n",
       "20 2015-02-22 19:10:10        0:36  \n",
       "21 2015-02-22 20:09:10        0:59  \n",
       "22 2015-02-22 22:54:10        2:45  \n",
       "23 2015-02-22 22:54:10        0:31  \n",
       "24 2015-02-22 23:32:10        0:38  \n",
       "25 2015-02-22 15:38:13        1:15  \n",
       "26 2015-02-22 20:34:45        4:50  \n",
       "27 2015-02-22 20:34:45        1:34  \n",
       "28 2015-02-22 21:52:15        1:17  \n",
       "29 2015-02-22 15:36:49        1:04  \n",
       "30 2015-02-22 16:56:19        0:56  \n",
       "31 2015-02-22 18:10:49        1:14  \n",
       "32 2015-02-22 19:32:49        1:02  \n",
       "33 2015-02-22 20:48:49        1:15  "
      ]
     },
     "execution_count": 32,
     "metadata": {},
     "output_type": "execute_result"
    }
   ],
   "source": [
    "result = all_travel_table ('438', inverted_initial_point, 'Leblon', inverted_final_point, 'Vila Isabel', array_busId)\n",
    "result"
   ]
  }
 ],
 "metadata": {
  "kernelspec": {
   "display_name": "Python 2",
   "language": "python",
   "name": "python2"
  },
  "language_info": {
   "codemirror_mode": {
    "name": "ipython",
    "version": 2
   },
   "file_extension": ".py",
   "mimetype": "text/x-python",
   "name": "python",
   "nbconvert_exporter": "python",
   "pygments_lexer": "ipython2",
   "version": "2.7.6"
  }
 },
 "nbformat": 4,
 "nbformat_minor": 0
}
