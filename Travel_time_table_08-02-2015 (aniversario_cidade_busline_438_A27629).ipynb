{
 "cells": [
  {
   "cell_type": "code",
   "execution_count": 1,
   "metadata": {
    "collapsed": false
   },
   "outputs": [],
   "source": [
    "import pandas as pd\n",
    "from pymongo import MongoClient, GEO2D\n",
    "import pymongo\n",
    "import json\n",
    "import datetime\n",
    "from bson.son import SON\n",
    "import folium \n",
    "import math\n",
    "import numpy as np\n",
    "from IPython.display import display"
   ]
  },
  {
   "cell_type": "code",
   "execution_count": 2,
   "metadata": {
    "collapsed": false
   },
   "outputs": [
    {
     "data": {
      "text/html": [
       "<div>\n",
       "<table border=\"1\" class=\"dataframe\">\n",
       "  <thead>\n",
       "    <tr style=\"text-align: right;\">\n",
       "      <th></th>\n",
       "      <th>linha</th>\n",
       "      <th>descricao</th>\n",
       "      <th>agencia</th>\n",
       "      <th>sequencia</th>\n",
       "      <th>latitude</th>\n",
       "      <th>longitude</th>\n",
       "    </tr>\n",
       "  </thead>\n",
       "  <tbody>\n",
       "    <tr>\n",
       "      <th>94</th>\n",
       "      <td>438</td>\n",
       "      <td>438-VILA ISABEL X LEBLON (VIA JOQUEI) - CIRCULAR</td>\n",
       "      <td>Fetranspor</td>\n",
       "      <td>1</td>\n",
       "      <td>-22.9882</td>\n",
       "      <td>-43.2283</td>\n",
       "    </tr>\n",
       "    <tr>\n",
       "      <th>127</th>\n",
       "      <td>438</td>\n",
       "      <td>438-VILA ISABEL X LEBLON (VIA JOQUEI) - CIRCULAR</td>\n",
       "      <td>Fetranspor</td>\n",
       "      <td>1</td>\n",
       "      <td>-22.9163</td>\n",
       "      <td>-43.2512</td>\n",
       "    </tr>\n",
       "  </tbody>\n",
       "</table>\n",
       "</div>"
      ],
      "text/plain": [
       "     linha                                         descricao     agencia  \\\n",
       "94     438  438-VILA ISABEL X LEBLON (VIA JOQUEI) - CIRCULAR  Fetranspor   \n",
       "127    438  438-VILA ISABEL X LEBLON (VIA JOQUEI) - CIRCULAR  Fetranspor   \n",
       "\n",
       "     sequencia  latitude  longitude  \n",
       "94           1  -22.9882   -43.2283  \n",
       "127          1  -22.9163   -43.2512  "
      ]
     },
     "execution_count": 2,
     "metadata": {},
     "output_type": "execute_result"
    }
   ],
   "source": [
    "#para saber el punto inicial y final de la linea\n",
    "line_438_busstops = pd.read_csv('/home/kathrin/Doctorado/bus_rio/Datos_Omnibus/Onibus/Paradas/gtfs_linha438-paradas.csv')\n",
    "\n",
    "departure_points = line_438_busstops[(line_438_busstops[\"sequencia\"]==1)]\n",
    "departure_points\n"
   ]
  },
  {
   "cell_type": "code",
   "execution_count": 3,
   "metadata": {
    "collapsed": true
   },
   "outputs": [],
   "source": [
    "#Estableciendo la conexion con la base de datos aniv_cidade_event en MongoDB\n",
    "db = MongoClient().aniv_cidade_event"
   ]
  },
  {
   "cell_type": "code",
   "execution_count": 4,
   "metadata": {
    "collapsed": true
   },
   "outputs": [],
   "source": [
    "#Funcion para determinar el punto inicial y final de un recorrido de una linea de omnibus\n",
    "def bus_line_initial_final_points(bus_line):\n",
    "    busstops_firstpoints=[]\n",
    "    for row in db.busstops.find({ \"linha\": bus_line,\"sequencia\": 1 }):\n",
    "        busstops_firstpoints.insert(0, [row[u'linha'], row[u'descricao'], row[u'latitude'], row[u'longitude']])\n",
    "\n",
    "    #convertir la lista en un dataframe de pandas\n",
    "    df_departure_points = pd.DataFrame(busstops_firstpoints, columns=['linha','descricao', 'latitude', 'longitude'])\n",
    "    #df_departure_points\n",
    "    initial_point = df_departure_points['latitude'][0], df_departure_points['longitude'][0]\n",
    "    inverted_initial_point = df_departure_points['longitude'][0], df_departure_points['latitude'][0]\n",
    "    final_point = df_departure_points['latitude'][1], df_departure_points['longitude'][1]\n",
    "    inverted_final_point = df_departure_points['longitude'][1], df_departure_points['latitude'][1]\n",
    "    return initial_point, final_point, inverted_initial_point, inverted_final_point"
   ]
  },
  {
   "cell_type": "code",
   "execution_count": 5,
   "metadata": {
    "collapsed": false
   },
   "outputs": [
    {
     "data": {
      "text/plain": [
       "((-22.9163, -43.251199999999997),\n",
       " (-22.988199999999999, -43.228299999999997),\n",
       " (-43.251199999999997, -22.9163),\n",
       " (-43.228299999999997, -22.988199999999999))"
      ]
     },
     "execution_count": 5,
     "metadata": {},
     "output_type": "execute_result"
    }
   ],
   "source": [
    "#Llamada a la funcion bus_line_initial_final_points de la 438\n",
    "initial_final_points = bus_line_initial_final_points(438)\n",
    "initial_final_points"
   ]
  },
  {
   "cell_type": "code",
   "execution_count": 6,
   "metadata": {
    "collapsed": false
   },
   "outputs": [
    {
     "data": {
      "text/plain": [
       "(-22.988199999999999, -43.228299999999997)"
      ]
     },
     "execution_count": 6,
     "metadata": {},
     "output_type": "execute_result"
    }
   ],
   "source": [
    "#De la misma llamada a la funcion de arriba retornar el valor en la posicion 1\n",
    "initial_point = initial_final_points[1]\n",
    "initial_point"
   ]
  },
  {
   "cell_type": "code",
   "execution_count": 7,
   "metadata": {
    "collapsed": false
   },
   "outputs": [
    {
     "data": {
      "text/plain": [
       "(-22.9163, -43.251199999999997)"
      ]
     },
     "execution_count": 7,
     "metadata": {},
     "output_type": "execute_result"
    }
   ],
   "source": [
    "#De la misma llamada a la funcion de arriba retornar el valor en la posicion 0\n",
    "final_point = initial_final_points[0]\n",
    "final_point"
   ]
  },
  {
   "cell_type": "code",
   "execution_count": 8,
   "metadata": {
    "collapsed": false
   },
   "outputs": [
    {
     "data": {
      "text/plain": [
       "(-43.228299999999997, -22.988199999999999)"
      ]
     },
     "execution_count": 8,
     "metadata": {},
     "output_type": "execute_result"
    }
   ],
   "source": [
    "inverted_initial_point = initial_final_points[3]\n",
    "inverted_initial_point"
   ]
  },
  {
   "cell_type": "code",
   "execution_count": 9,
   "metadata": {
    "collapsed": false
   },
   "outputs": [
    {
     "data": {
      "text/plain": [
       "(-43.251199999999997, -22.9163)"
      ]
     },
     "execution_count": 9,
     "metadata": {},
     "output_type": "execute_result"
    }
   ],
   "source": [
    "inverted_final_point = initial_final_points[2]\n",
    "inverted_final_point"
   ]
  },
  {
   "cell_type": "code",
   "execution_count": 10,
   "metadata": {
    "collapsed": false
   },
   "outputs": [],
   "source": [
    "#funcion que dado un el bus_id de un omnibus y un punto inicial/final devuelve los puntos mas cercanos a ese punto. \n",
    "# A esa función se le debería pasar también la BD, pero ahora no se va a hacer asi\n",
    "def near_points_to_origin (bus_id, inverted_origin_point):\n",
    "    near_initial_points_array = []\n",
    "    #la funcion $within recibe las coordenadas en orden inverso (primero longitud y después latitud)\n",
    "    for row in db.dados20150208_line_438.find({\"latlon\": {\"$within\": {\"$center\": [inverted_origin_point, 0.00052543]}}, \"bus_id\": bus_id}).sort(\"timestamp\",pymongo.DESCENDING):\n",
    "        near_initial_points_array.insert(0, [row[u'timestamp'], row[u'latitude'], row[u'longitude'], row[u'speed']])\n",
    "    #convert the array in panda dataframe \n",
    "    sorted_near_initial_points = pd.DataFrame(near_initial_points_array, columns=['timestamp', 'latitude', 'longitude', 'speed'])\n",
    "    return sorted_near_initial_points\n"
   ]
  },
  {
   "cell_type": "code",
   "execution_count": 11,
   "metadata": {
    "collapsed": false
   },
   "outputs": [
    {
     "data": {
      "text/html": [
       "<div>\n",
       "<table border=\"1\" class=\"dataframe\">\n",
       "  <thead>\n",
       "    <tr style=\"text-align: right;\">\n",
       "      <th></th>\n",
       "      <th>timestamp</th>\n",
       "      <th>latitude</th>\n",
       "      <th>longitude</th>\n",
       "      <th>speed</th>\n",
       "    </tr>\n",
       "  </thead>\n",
       "  <tbody>\n",
       "    <tr>\n",
       "      <th>0</th>\n",
       "      <td>08-02-2015 19:23:27</td>\n",
       "      <td>-22.988079</td>\n",
       "      <td>-43.228588</td>\n",
       "      <td>0</td>\n",
       "    </tr>\n",
       "  </tbody>\n",
       "</table>\n",
       "</div>"
      ],
      "text/plain": [
       "             timestamp   latitude  longitude  speed\n",
       "0  08-02-2015 19:23:27 -22.988079 -43.228588      0"
      ]
     },
     "execution_count": 11,
     "metadata": {},
     "output_type": "execute_result"
    }
   ],
   "source": [
    "#LLamada a la funcion near_points_to_origin para encontrar los puntos más cercanos al \n",
    "#punto initial_point(-22.988199999999999, -43.228299999999997) aqui se pasan a la inversa\n",
    "sorted_near_initial_points = near_points_to_origin (\"A27629\", (-43.228299999999997, -22.988199999999999))\n",
    "sorted_near_initial_points\n"
   ]
  },
  {
   "cell_type": "code",
   "execution_count": 12,
   "metadata": {
    "collapsed": false
   },
   "outputs": [
    {
     "data": {
      "text/html": [
       "<div>\n",
       "<table border=\"1\" class=\"dataframe\">\n",
       "  <thead>\n",
       "    <tr style=\"text-align: right;\">\n",
       "      <th></th>\n",
       "      <th>timestamp</th>\n",
       "      <th>latitude</th>\n",
       "      <th>longitude</th>\n",
       "      <th>speed</th>\n",
       "    </tr>\n",
       "  </thead>\n",
       "  <tbody>\n",
       "    <tr>\n",
       "      <th>0</th>\n",
       "      <td>08-02-2015 07:09:43</td>\n",
       "      <td>-22.916161</td>\n",
       "      <td>-43.250912</td>\n",
       "      <td>0</td>\n",
       "    </tr>\n",
       "    <tr>\n",
       "      <th>1</th>\n",
       "      <td>08-02-2015 07:17:41</td>\n",
       "      <td>-22.916189</td>\n",
       "      <td>-43.251049</td>\n",
       "      <td>0</td>\n",
       "    </tr>\n",
       "    <tr>\n",
       "      <th>2</th>\n",
       "      <td>08-02-2015 07:18:41</td>\n",
       "      <td>-22.916189</td>\n",
       "      <td>-43.251049</td>\n",
       "      <td>0</td>\n",
       "    </tr>\n",
       "    <tr>\n",
       "      <th>3</th>\n",
       "      <td>08-02-2015 07:19:41</td>\n",
       "      <td>-22.916189</td>\n",
       "      <td>-43.251060</td>\n",
       "      <td>0</td>\n",
       "    </tr>\n",
       "    <tr>\n",
       "      <th>4</th>\n",
       "      <td>08-02-2015 07:20:11</td>\n",
       "      <td>-22.916189</td>\n",
       "      <td>-43.251049</td>\n",
       "      <td>0</td>\n",
       "    </tr>\n",
       "    <tr>\n",
       "      <th>5</th>\n",
       "      <td>08-02-2015 07:30:01</td>\n",
       "      <td>-22.916210</td>\n",
       "      <td>-43.251080</td>\n",
       "      <td>0</td>\n",
       "    </tr>\n",
       "    <tr>\n",
       "      <th>6</th>\n",
       "      <td>08-02-2015 07:30:31</td>\n",
       "      <td>-22.916210</td>\n",
       "      <td>-43.251080</td>\n",
       "      <td>0</td>\n",
       "    </tr>\n",
       "    <tr>\n",
       "      <th>7</th>\n",
       "      <td>08-02-2015 07:31:31</td>\n",
       "      <td>-22.916370</td>\n",
       "      <td>-43.251259</td>\n",
       "      <td>11</td>\n",
       "    </tr>\n",
       "    <tr>\n",
       "      <th>8</th>\n",
       "      <td>08-02-2015 15:09:30</td>\n",
       "      <td>-22.916189</td>\n",
       "      <td>-43.250992</td>\n",
       "      <td>0</td>\n",
       "    </tr>\n",
       "    <tr>\n",
       "      <th>9</th>\n",
       "      <td>08-02-2015 15:10:30</td>\n",
       "      <td>-22.916189</td>\n",
       "      <td>-43.250999</td>\n",
       "      <td>0</td>\n",
       "    </tr>\n",
       "    <tr>\n",
       "      <th>10</th>\n",
       "      <td>08-02-2015 15:11:30</td>\n",
       "      <td>-22.916189</td>\n",
       "      <td>-43.250999</td>\n",
       "      <td>0</td>\n",
       "    </tr>\n",
       "    <tr>\n",
       "      <th>11</th>\n",
       "      <td>08-02-2015 15:12:30</td>\n",
       "      <td>-22.916201</td>\n",
       "      <td>-43.251011</td>\n",
       "      <td>0</td>\n",
       "    </tr>\n",
       "    <tr>\n",
       "      <th>12</th>\n",
       "      <td>08-02-2015 15:13:30</td>\n",
       "      <td>-22.916189</td>\n",
       "      <td>-43.250999</td>\n",
       "      <td>0</td>\n",
       "    </tr>\n",
       "    <tr>\n",
       "      <th>13</th>\n",
       "      <td>08-02-2015 15:14:30</td>\n",
       "      <td>-22.916201</td>\n",
       "      <td>-43.251011</td>\n",
       "      <td>0</td>\n",
       "    </tr>\n",
       "    <tr>\n",
       "      <th>14</th>\n",
       "      <td>08-02-2015 15:15:30</td>\n",
       "      <td>-22.916201</td>\n",
       "      <td>-43.251011</td>\n",
       "      <td>0</td>\n",
       "    </tr>\n",
       "    <tr>\n",
       "      <th>15</th>\n",
       "      <td>08-02-2015 15:17:00</td>\n",
       "      <td>-22.916189</td>\n",
       "      <td>-43.250999</td>\n",
       "      <td>0</td>\n",
       "    </tr>\n",
       "    <tr>\n",
       "      <th>16</th>\n",
       "      <td>08-02-2015 15:20:49</td>\n",
       "      <td>-22.916180</td>\n",
       "      <td>-43.251011</td>\n",
       "      <td>0</td>\n",
       "    </tr>\n",
       "    <tr>\n",
       "      <th>17</th>\n",
       "      <td>08-02-2015 17:50:49</td>\n",
       "      <td>-22.916180</td>\n",
       "      <td>-43.250710</td>\n",
       "      <td>1</td>\n",
       "    </tr>\n",
       "    <tr>\n",
       "      <th>18</th>\n",
       "      <td>08-02-2015 17:51:49</td>\n",
       "      <td>-22.916149</td>\n",
       "      <td>-43.250820</td>\n",
       "      <td>0</td>\n",
       "    </tr>\n",
       "    <tr>\n",
       "      <th>19</th>\n",
       "      <td>08-02-2015 17:52:49</td>\n",
       "      <td>-22.916149</td>\n",
       "      <td>-43.250832</td>\n",
       "      <td>0</td>\n",
       "    </tr>\n",
       "    <tr>\n",
       "      <th>20</th>\n",
       "      <td>08-02-2015 17:53:49</td>\n",
       "      <td>-22.916161</td>\n",
       "      <td>-43.250839</td>\n",
       "      <td>0</td>\n",
       "    </tr>\n",
       "    <tr>\n",
       "      <th>21</th>\n",
       "      <td>08-02-2015 17:54:19</td>\n",
       "      <td>-22.916161</td>\n",
       "      <td>-43.250851</td>\n",
       "      <td>0</td>\n",
       "    </tr>\n",
       "    <tr>\n",
       "      <th>22</th>\n",
       "      <td>08-02-2015 18:01:32</td>\n",
       "      <td>-22.916161</td>\n",
       "      <td>-43.250870</td>\n",
       "      <td>0</td>\n",
       "    </tr>\n",
       "    <tr>\n",
       "      <th>23</th>\n",
       "      <td>08-02-2015 18:03:32</td>\n",
       "      <td>-22.916161</td>\n",
       "      <td>-43.250881</td>\n",
       "      <td>0</td>\n",
       "    </tr>\n",
       "    <tr>\n",
       "      <th>24</th>\n",
       "      <td>08-02-2015 18:04:32</td>\n",
       "      <td>-22.916161</td>\n",
       "      <td>-43.250881</td>\n",
       "      <td>0</td>\n",
       "    </tr>\n",
       "    <tr>\n",
       "      <th>25</th>\n",
       "      <td>08-02-2015 18:05:32</td>\n",
       "      <td>-22.916220</td>\n",
       "      <td>-43.251019</td>\n",
       "      <td>0</td>\n",
       "    </tr>\n",
       "    <tr>\n",
       "      <th>26</th>\n",
       "      <td>08-02-2015 18:07:02</td>\n",
       "      <td>-22.916220</td>\n",
       "      <td>-43.251030</td>\n",
       "      <td>0</td>\n",
       "    </tr>\n",
       "    <tr>\n",
       "      <th>27</th>\n",
       "      <td>08-02-2015 18:08:02</td>\n",
       "      <td>-22.916220</td>\n",
       "      <td>-43.251049</td>\n",
       "      <td>0</td>\n",
       "    </tr>\n",
       "    <tr>\n",
       "      <th>28</th>\n",
       "      <td>08-02-2015 18:20:57</td>\n",
       "      <td>-22.916220</td>\n",
       "      <td>-43.251060</td>\n",
       "      <td>0</td>\n",
       "    </tr>\n",
       "    <tr>\n",
       "      <th>29</th>\n",
       "      <td>08-02-2015 18:21:57</td>\n",
       "      <td>-22.916220</td>\n",
       "      <td>-43.251049</td>\n",
       "      <td>0</td>\n",
       "    </tr>\n",
       "    <tr>\n",
       "      <th>30</th>\n",
       "      <td>08-02-2015 18:22:27</td>\n",
       "      <td>-22.916220</td>\n",
       "      <td>-43.251049</td>\n",
       "      <td>0</td>\n",
       "    </tr>\n",
       "    <tr>\n",
       "      <th>31</th>\n",
       "      <td>08-02-2015 18:23:57</td>\n",
       "      <td>-22.916439</td>\n",
       "      <td>-43.251270</td>\n",
       "      <td>12</td>\n",
       "    </tr>\n",
       "    <tr>\n",
       "      <th>32</th>\n",
       "      <td>08-02-2015 20:28:57</td>\n",
       "      <td>-22.916010</td>\n",
       "      <td>-43.251572</td>\n",
       "      <td>0</td>\n",
       "    </tr>\n",
       "    <tr>\n",
       "      <th>33</th>\n",
       "      <td>08-02-2015 20:29:27</td>\n",
       "      <td>-22.916500</td>\n",
       "      <td>-43.251461</td>\n",
       "      <td>7</td>\n",
       "    </tr>\n",
       "    <tr>\n",
       "      <th>34</th>\n",
       "      <td>08-02-2015 20:30:27</td>\n",
       "      <td>-22.916750</td>\n",
       "      <td>-43.251438</td>\n",
       "      <td>0</td>\n",
       "    </tr>\n",
       "    <tr>\n",
       "      <th>35</th>\n",
       "      <td>08-02-2015 20:31:27</td>\n",
       "      <td>-22.916750</td>\n",
       "      <td>-43.251438</td>\n",
       "      <td>0</td>\n",
       "    </tr>\n",
       "  </tbody>\n",
       "</table>\n",
       "</div>"
      ],
      "text/plain": [
       "              timestamp   latitude  longitude  speed\n",
       "0   08-02-2015 07:09:43 -22.916161 -43.250912      0\n",
       "1   08-02-2015 07:17:41 -22.916189 -43.251049      0\n",
       "2   08-02-2015 07:18:41 -22.916189 -43.251049      0\n",
       "3   08-02-2015 07:19:41 -22.916189 -43.251060      0\n",
       "4   08-02-2015 07:20:11 -22.916189 -43.251049      0\n",
       "5   08-02-2015 07:30:01 -22.916210 -43.251080      0\n",
       "6   08-02-2015 07:30:31 -22.916210 -43.251080      0\n",
       "7   08-02-2015 07:31:31 -22.916370 -43.251259     11\n",
       "8   08-02-2015 15:09:30 -22.916189 -43.250992      0\n",
       "9   08-02-2015 15:10:30 -22.916189 -43.250999      0\n",
       "10  08-02-2015 15:11:30 -22.916189 -43.250999      0\n",
       "11  08-02-2015 15:12:30 -22.916201 -43.251011      0\n",
       "12  08-02-2015 15:13:30 -22.916189 -43.250999      0\n",
       "13  08-02-2015 15:14:30 -22.916201 -43.251011      0\n",
       "14  08-02-2015 15:15:30 -22.916201 -43.251011      0\n",
       "15  08-02-2015 15:17:00 -22.916189 -43.250999      0\n",
       "16  08-02-2015 15:20:49 -22.916180 -43.251011      0\n",
       "17  08-02-2015 17:50:49 -22.916180 -43.250710      1\n",
       "18  08-02-2015 17:51:49 -22.916149 -43.250820      0\n",
       "19  08-02-2015 17:52:49 -22.916149 -43.250832      0\n",
       "20  08-02-2015 17:53:49 -22.916161 -43.250839      0\n",
       "21  08-02-2015 17:54:19 -22.916161 -43.250851      0\n",
       "22  08-02-2015 18:01:32 -22.916161 -43.250870      0\n",
       "23  08-02-2015 18:03:32 -22.916161 -43.250881      0\n",
       "24  08-02-2015 18:04:32 -22.916161 -43.250881      0\n",
       "25  08-02-2015 18:05:32 -22.916220 -43.251019      0\n",
       "26  08-02-2015 18:07:02 -22.916220 -43.251030      0\n",
       "27  08-02-2015 18:08:02 -22.916220 -43.251049      0\n",
       "28  08-02-2015 18:20:57 -22.916220 -43.251060      0\n",
       "29  08-02-2015 18:21:57 -22.916220 -43.251049      0\n",
       "30  08-02-2015 18:22:27 -22.916220 -43.251049      0\n",
       "31  08-02-2015 18:23:57 -22.916439 -43.251270     12\n",
       "32  08-02-2015 20:28:57 -22.916010 -43.251572      0\n",
       "33  08-02-2015 20:29:27 -22.916500 -43.251461      7\n",
       "34  08-02-2015 20:30:27 -22.916750 -43.251438      0\n",
       "35  08-02-2015 20:31:27 -22.916750 -43.251438      0"
      ]
     },
     "execution_count": 12,
     "metadata": {},
     "output_type": "execute_result"
    }
   ],
   "source": [
    "#LLamada a la funcion near_points_to_origin para encontrar los puntos más cercanos al \n",
    "#punto final_point (-22.9163, -43.251199999999997). Recordar que aqui las coordenadas del punto se pasan a la inversa(long, lat)\n",
    "sorted_near_final_points = near_points_to_origin (\"A27629\", (-43.251199999999997, -22.9163))\n",
    "sorted_near_final_points"
   ]
  },
  {
   "cell_type": "code",
   "execution_count": 13,
   "metadata": {
    "collapsed": true
   },
   "outputs": [],
   "source": [
    "\"\"\"Funciones para renderizar el mapa en el html\"\"\"\n",
    "from IPython.display import HTML\n",
    " \n",
    "def inline_map(map):\n",
    "    \"\"\"\n",
    "    Embeds the HTML source of the map directly into the IPython notebook.\n",
    "    \n",
    "    This method will not work if the map depends on any files (json data). Also this uses\n",
    "    the HTML5 srcdoc attribute, which may not be supported in all browsers.\n",
    "    \"\"\"\n",
    "    map._build_map()\n",
    "    return HTML('<iframe srcdoc=\"{srcdoc}\" style=\"width: 100%; height: 510px; border: none\"></iframe>'.format(srcdoc=map.HTML.replace('\"', '&quot;')))\n",
    " \n",
    "def embed_map(map, path=\"map.html\"):\n",
    "    \"\"\"\n",
    "    Embeds a linked iframe to the map into the IPython notebook.\n",
    "    \n",
    "    Note: this method will not capture the source of the map into the notebook.\n",
    "    This method should work for all maps (as long as they use relative urls).\n",
    "    \"\"\"\n",
    "    map.create_map(path=path)\n",
    "    return HTML('<iframe src=\"files/{path}\" style=\"width: 100%; height: 510px; border: none\"></iframe>'.format(path=path))"
   ]
  },
  {
   "cell_type": "code",
   "execution_count": 55,
   "metadata": {
    "collapsed": false
   },
   "outputs": [
    {
     "data": {
      "text/html": [
       "<iframe src=\"files/map.html\" style=\"width: 100%; height: 510px; border: none\"></iframe>"
      ],
      "text/plain": [
       "<IPython.core.display.HTML object>"
      ]
     },
     "execution_count": 55,
     "metadata": {},
     "output_type": "execute_result"
    }
   ],
   "source": [
    "#pintando los puntos más cerca del punto inicial\n",
    "fmap_A27629 = folium.Map(location=[-22.950635, -43.210436], zoom_start=12)\n",
    "\n",
    "\n",
    "#Pintando el shape de la linea\n",
    "onibus438_shapes = pd.read_csv('/home/kathrin/Doctorado/bus_rio/Datos_Omnibus/Onibus/Shapes/gtfs_linha438-shapes.csv')\n",
    "fmap_A27629 = folium.Map(location=[-22.923714, -43.258999], zoom_start=11)\n",
    "locations438 = []\n",
    "for row in onibus438_shapes.iterrows():\n",
    "    #The 'latitude' and 'longitude' names correspond to column names in the original cceats dataframe\n",
    "    locations438.insert(1, [ row[1]['latitude'], row[1]['longitude'] ])\n",
    "fmap_A27629.line(locations438)\n",
    "\n",
    "\n",
    "#Pintando Circulos de radio de 1km alrededor de los puntos incial y final \n",
    "fmap_A27629.simple_marker(final_point, popup='Parada de Vila Isabel')\n",
    "fmap_A27629.simple_marker(initial_point, popup='Parada Leblon')\n",
    "\n",
    "#Punto inicial\n",
    "fmap_A27629.circle_marker(location=final_point, radius=50,line_color='green',\n",
    "                 fill_color='#3186cc', fill_opacity=0.2)\n",
    "\n",
    "#Punto inicial\n",
    "fmap_A27629.circle_marker(location=initial_point, radius=50,line_color='red',\n",
    "                 fill_color='#3186cc', fill_opacity=0.2)\n",
    "\n",
    "embed_map(fmap_A27629)"
   ]
  },
  {
   "cell_type": "code",
   "execution_count": 49,
   "metadata": {
    "collapsed": false
   },
   "outputs": [
    {
     "data": {
      "text/html": [
       "<iframe src=\"files/map.html\" style=\"width: 100%; height: 510px; border: none\"></iframe>"
      ],
      "text/plain": [
       "<IPython.core.display.HTML object>"
      ]
     },
     "execution_count": 49,
     "metadata": {},
     "output_type": "execute_result"
    }
   ],
   "source": [
    "#Pintando todas las obsercaviones del GPS para ese ese de ese bus_id\n",
    "#for doc in db.dados20150208_line_438.find({\"bus_id\": 'A27629'}):  \n",
    "    #fmap_A27629.polygon_marker( [ doc['latitude'], doc['longitude'] ], fill_color='green', num_sides=4, radius=6)\n",
    "    \n",
    "#embed_map(fmap_A27629)"
   ]
  },
  {
   "cell_type": "code",
   "execution_count": 56,
   "metadata": {
    "collapsed": false
   },
   "outputs": [
    {
     "data": {
      "text/html": [
       "<iframe src=\"files/map.html\" style=\"width: 100%; height: 510px; border: none\"></iframe>"
      ],
      "text/plain": [
       "<IPython.core.display.HTML object>"
      ]
     },
     "execution_count": 56,
     "metadata": {},
     "output_type": "execute_result"
    }
   ],
   "source": [
    "#Pintando los near y los final points\n",
    "for row in sorted_near_initial_points.iterrows():\n",
    "    #The 'latitude' and 'longitude' names correspond to column names in the original cceats dataframe\n",
    "    latlon = [ row[1]['latitude'], row[1]['longitude'] ]\n",
    "    fmap_A27629.polygon_marker( latlon, fill_color='black', num_sides=4, radius=6)\n",
    "    \n",
    "for row in sorted_near_final_points.iterrows():\n",
    "#The 'latitude' and 'longitude' names correspond to column names in the original cceats dataframe\n",
    "    latlon = [ row[1]['latitude'], row[1]['longitude'] ]\n",
    "    fmap_A27629.polygon_marker( latlon, fill_color='black', num_sides=4, radius=6)\n",
    "\n",
    "\n",
    "\n",
    "embed_map(fmap_A27629)"
   ]
  },
  {
   "cell_type": "code",
   "execution_count": 21,
   "metadata": {
    "collapsed": false
   },
   "outputs": [
    {
     "data": {
      "text/plain": [
       "0    08-02-2015 19:23:27\n",
       "Name: timestamp, dtype: object"
      ]
     },
     "execution_count": 21,
     "metadata": {},
     "output_type": "execute_result"
    }
   ],
   "source": [
    "#Array de timestamp puntos near punto incial (Leblon)\n",
    "initial_points_timestamp = sorted_near_initial_points['timestamp']\n",
    "initial_points_timestamp\n"
   ]
  },
  {
   "cell_type": "code",
   "execution_count": 22,
   "metadata": {
    "collapsed": false
   },
   "outputs": [
    {
     "data": {
      "text/plain": [
       "0     08-02-2015 07:09:43\n",
       "1     08-02-2015 07:17:41\n",
       "2     08-02-2015 07:18:41\n",
       "3     08-02-2015 07:19:41\n",
       "4     08-02-2015 07:20:11\n",
       "5     08-02-2015 07:30:01\n",
       "6     08-02-2015 07:30:31\n",
       "7     08-02-2015 07:31:31\n",
       "8     08-02-2015 15:09:30\n",
       "9     08-02-2015 15:10:30\n",
       "10    08-02-2015 15:11:30\n",
       "11    08-02-2015 15:12:30\n",
       "12    08-02-2015 15:13:30\n",
       "13    08-02-2015 15:14:30\n",
       "14    08-02-2015 15:15:30\n",
       "15    08-02-2015 15:17:00\n",
       "16    08-02-2015 15:20:49\n",
       "17    08-02-2015 17:50:49\n",
       "18    08-02-2015 17:51:49\n",
       "19    08-02-2015 17:52:49\n",
       "20    08-02-2015 17:53:49\n",
       "21    08-02-2015 17:54:19\n",
       "22    08-02-2015 18:01:32\n",
       "23    08-02-2015 18:03:32\n",
       "24    08-02-2015 18:04:32\n",
       "25    08-02-2015 18:05:32\n",
       "26    08-02-2015 18:07:02\n",
       "27    08-02-2015 18:08:02\n",
       "28    08-02-2015 18:20:57\n",
       "29    08-02-2015 18:21:57\n",
       "30    08-02-2015 18:22:27\n",
       "31    08-02-2015 18:23:57\n",
       "32    08-02-2015 20:28:57\n",
       "33    08-02-2015 20:29:27\n",
       "34    08-02-2015 20:30:27\n",
       "35    08-02-2015 20:31:27\n",
       "Name: timestamp, dtype: object"
      ]
     },
     "execution_count": 22,
     "metadata": {},
     "output_type": "execute_result"
    }
   ],
   "source": [
    "final_points_timestamp = sorted_near_final_points['timestamp']\n",
    "final_points_timestamp"
   ]
  },
  {
   "cell_type": "code",
   "execution_count": 24,
   "metadata": {
    "collapsed": false
   },
   "outputs": [],
   "source": [
    "#Funcion que retorna el arreglo con las horas de salida del omnibus al punto inicial/final del trayecto\n",
    "def bus_departure_hour (initial_points_timestamp_list):\n",
    "    list_departure_hours = []\n",
    "    i = 0\n",
    "    if len(initial_points_timestamp_list) >1:\n",
    "        for i in range(0, len(initial_points_timestamp_list)-1):\n",
    "            resto = datetime.datetime.strptime(initial_points_timestamp_list[i+1], \"%d-%m-%Y %H:%M:%S\")-datetime.datetime.strptime(initial_points_timestamp_list[i], \"%d-%m-%Y %H:%M:%S\")\n",
    "            resto_total = resto.total_seconds()/60\n",
    "            #si la diferencia entre los timestamp del omnibus en el putno supera los 40 minutos es q dio un viaje y regreso, sino lo supera es que se mantuvo ese tiempo esperando en el punto\n",
    "            if (resto_total > 40):\n",
    "                 list_departure_hours.insert(len( list_departure_hours),datetime.datetime.strptime(initial_points_timestamp_list[i], \"%d-%m-%Y %H:%M:%S\"))\n",
    "        #siempre es necesario insertar el ultimo valor de la lista de \"initial_points_timestamp\" en la lista de  list_departure_hours \n",
    "        list_departure_hours.insert(len( list_departure_hours),datetime.datetime.strptime(initial_points_timestamp_list[i+1], \"%d-%m-%Y %H:%M:%S\"))\n",
    "    elif len(initial_points_timestamp_list) == 1:\n",
    "        list_departure_hours.insert(len( list_departure_hours),datetime.datetime.strptime(initial_points_timestamp_list[0], \"%d-%m-%Y %H:%M:%S\"))\n",
    "    else:\n",
    "        list_departure_hours = []\n",
    "    return list_departure_hours\n"
   ]
  },
  {
   "cell_type": "code",
   "execution_count": 25,
   "metadata": {
    "collapsed": false
   },
   "outputs": [
    {
     "data": {
      "text/plain": [
       "[datetime.datetime(2015, 2, 8, 19, 23, 27)]"
      ]
     },
     "execution_count": 25,
     "metadata": {},
     "output_type": "execute_result"
    }
   ],
   "source": [
    "#Llamada a la funcion bus_departure_hour para el punto Leblon (devuelve todas las horas en que salio el omnibus de Leblon)\n",
    "leblon_departure_hours = bus_departure_hour(initial_points_timestamp)\n",
    "leblon_departure_hours"
   ]
  },
  {
   "cell_type": "code",
   "execution_count": 26,
   "metadata": {
    "collapsed": false
   },
   "outputs": [
    {
     "data": {
      "text/plain": [
       "[datetime.datetime(2015, 2, 8, 7, 31, 31),\n",
       " datetime.datetime(2015, 2, 8, 15, 20, 49),\n",
       " datetime.datetime(2015, 2, 8, 18, 23, 57),\n",
       " datetime.datetime(2015, 2, 8, 20, 31, 27)]"
      ]
     },
     "execution_count": 26,
     "metadata": {},
     "output_type": "execute_result"
    }
   ],
   "source": [
    "#Llamada a la funcion bus_departure_hour para el punto Vila Isabel  (devuelve todas las horas en que salio el omnibus de Vila Isabel)\n",
    "vilaIsabel_departure_hours = bus_departure_hour(final_points_timestamp)\n",
    "vilaIsabel_departure_hours"
   ]
  },
  {
   "cell_type": "code",
   "execution_count": 27,
   "metadata": {
    "collapsed": false
   },
   "outputs": [],
   "source": [
    "#Funcion que retorna el arreglo con las horas de llegada del omnibus al punto inicial/final del trayecto\n",
    "def bus_arrive_hour (initial_points_timestamp_list):\n",
    "    list_arrive_hours = []\n",
    "    #siempre es necesario insertar el ultimo valor de la lista de \"initial_points_timestamp\" en la lista de leblon_departure_hours \n",
    "    if len(initial_points_timestamp_list) >1:\n",
    "        list_arrive_hours.insert(len(list_arrive_hours),datetime.datetime.strptime(initial_points_timestamp_list[0], \"%d-%m-%Y %H:%M:%S\"))\n",
    "        for i in range(0,  len(initial_points_timestamp_list)-1):\n",
    "            resto = datetime.datetime.strptime(initial_points_timestamp_list[i+1], \"%d-%m-%Y %H:%M:%S\")-datetime.datetime.strptime(initial_points_timestamp_list[i], \"%d-%m-%Y %H:%M:%S\")\n",
    "            resto_total = resto.total_seconds()/60\n",
    "            if (resto_total > 40):\n",
    "                list_arrive_hours.insert(len(list_arrive_hours),datetime.datetime.strptime(initial_points_timestamp_list[i+1], \"%d-%m-%Y %H:%M:%S\"))\n",
    "    elif (len(initial_points_timestamp_list) == 1):\n",
    "        list_arrive_hours.insert(len(list_arrive_hours),datetime.datetime.strptime(initial_points_timestamp_list[0], \"%d-%m-%Y %H:%M:%S\"))\n",
    "    else:\n",
    "        list_arrive_hours = []        \n",
    "    return list_arrive_hours\n"
   ]
  },
  {
   "cell_type": "code",
   "execution_count": 28,
   "metadata": {
    "collapsed": false
   },
   "outputs": [
    {
     "data": {
      "text/plain": [
       "[datetime.datetime(2015, 2, 8, 19, 23, 27)]"
      ]
     },
     "execution_count": 28,
     "metadata": {},
     "output_type": "execute_result"
    }
   ],
   "source": [
    "#Llamada a la funcion bus_arrive_hour para el punto Leblon  (devuelve todas las horas en que llegó el omnibus a Leblon)\n",
    "arrive_hour_to_leblon = bus_arrive_hour(initial_points_timestamp)\n",
    "arrive_hour_to_leblon"
   ]
  },
  {
   "cell_type": "code",
   "execution_count": 29,
   "metadata": {
    "collapsed": false
   },
   "outputs": [
    {
     "data": {
      "text/plain": [
       "[datetime.datetime(2015, 2, 8, 7, 9, 43),\n",
       " datetime.datetime(2015, 2, 8, 15, 9, 30),\n",
       " datetime.datetime(2015, 2, 8, 17, 50, 49),\n",
       " datetime.datetime(2015, 2, 8, 20, 28, 57)]"
      ]
     },
     "execution_count": 29,
     "metadata": {},
     "output_type": "execute_result"
    }
   ],
   "source": [
    "#Llamada a la funcion bus_arrive_hour para el punto Vila Isabel  (devuelve todas las horas en que llegó el omnibus a Vila Isabel)\n",
    "arrive_hour_to_vilaisabel = bus_arrive_hour(final_points_timestamp)\n",
    "arrive_hour_to_vilaisabel"
   ]
  },
  {
   "cell_type": "code",
   "execution_count": 30,
   "metadata": {
    "collapsed": false
   },
   "outputs": [],
   "source": [
    "#Para convertir de formato timedelta para horas y minutos\n",
    "def days_hours_minutes(travel_time):\n",
    "    hours = travel_time.seconds//3600 \n",
    "    minutes = (travel_time.seconds//60)%60\n",
    "    #print '%d hours, %d minutes' % (hours,minutes)\n",
    "    if minutes < 10:\n",
    "        minutes = str(0)+str(minutes)\n",
    "    return str(hours) + \":\"+ str(minutes)"
   ]
  },
  {
   "cell_type": "code",
   "execution_count": 31,
   "metadata": {
    "collapsed": false
   },
   "outputs": [],
   "source": [
    "#Funcion que crea la tabla de viajes con los tiempos de viaje\n",
    "def create_travel_table (name_A, arrive_array_A, departure_array_A, name_B, arrive_array_B, departure_array_B, bus_Id, bus_line):\n",
    "    \n",
    "    my_time_table = []   \n",
    "    num_travel = 0    \n",
    "    i = 0 #Cursor para moverme por el departure_array_A(arreglo q contiene las horas de salida del punto incial)   \n",
    "    j = 0 #Cursor para moverme por el departure_array_B (arreglo q contiene las horas de salida del punto final)\n",
    "   \n",
    "    while (i<len(departure_array_A) and j< len(departure_array_B)):\n",
    "        if (departure_array_A[i] < departure_array_B[j]):\n",
    "            if(i+1 == len(departure_array_A)):\n",
    "                direction = name_A + \"_to_\" + name_B\n",
    "                departure_hour = departure_array_A[i]\n",
    "                i = i +1\n",
    "                arrive_hour = arrive_array_B[j]\n",
    "                num_travel = num_travel +1\n",
    "                travel_time = days_hours_minutes(arrive_hour - departure_hour)          \n",
    "                my_time_table.insert(len(my_time_table), [bus_line, bus_Id, direction, departure_hour,arrive_hour, travel_time])\n",
    "         \n",
    "            elif ((i+1 < len(departure_array_A)) and (departure_array_B[j] < departure_array_A[i+1])):\n",
    "                direction = name_A + \"_to_\" + name_B\n",
    "                departure_hour = departure_array_A[i]\n",
    "                i = i +1\n",
    "                arrive_hour = arrive_array_B[j]\n",
    "                num_travel = num_travel +1\n",
    "                travel_time = days_hours_minutes(arrive_hour - departure_hour)          \n",
    "                my_time_table.insert(len(my_time_table), [bus_line, bus_Id, direction, departure_hour,arrive_hour, travel_time])\n",
    "            else: \n",
    "                i = i +1\n",
    "            \n",
    "        elif(departure_array_B[j] < departure_array_A[i]):\n",
    "            if (j+1 == len(departure_array_B)):\n",
    "                direction = name_B + \"_to_\" + name_A\n",
    "                departure_hour = departure_array_B[j]\n",
    "                j = j +1\n",
    "                arrive_hour = arrive_array_A[i]\n",
    "                num_travel = num_travel +1\n",
    "                travel_time = days_hours_minutes(arrive_hour - departure_hour)          \n",
    "                my_time_table.insert(len(my_time_table), [bus_line, bus_Id, direction, departure_hour,arrive_hour, travel_time])\n",
    "            \n",
    "            elif ((j+1 < len(departure_array_B)) and (departure_array_A[i] < departure_array_B[j+1])):\n",
    "                direction = name_B + \"_to_\" + name_A\n",
    "                departure_hour = departure_array_B[j]\n",
    "                j = j +1\n",
    "                arrive_hour = arrive_array_A[i]\n",
    "                num_travel = num_travel +1\n",
    "                travel_time = days_hours_minutes(arrive_hour - departure_hour)          \n",
    "                my_time_table.insert(len(my_time_table), [bus_line, bus_Id, direction, departure_hour,arrive_hour, travel_time])\n",
    "            else:\n",
    "                j = j +1                \n",
    "            \n",
    "    #Construir el dataframe pasandole el array con todos los datos de los viajes   \n",
    "    mydf = pd.DataFrame(my_time_table, columns=['Line', 'Bus_Id','Direction','Departure_Hour', 'Arrive_Hour', 'Travel_Time'])       \n",
    "    return mydf  \n",
    "\n"
   ]
  },
  {
   "cell_type": "code",
   "execution_count": 32,
   "metadata": {
    "collapsed": true
   },
   "outputs": [],
   "source": [
    "#Funcion que mete todas las observaciones de GPS de un determinado bus_id en un vector\n",
    "def build_vector_timestamp_latidude_longitude(bus_id): \n",
    "    vector = []\n",
    "    for row in db.dados20150208_line_438.find({\"bus_id\": bus_id}).sort(\"timestamp\",pymongo.DESCENDING):\n",
    "        vector.insert(len(vector), [row[u'timestamp'], row[u'latitude'], row[u'longitude']])\n",
    "    return vector"
   ]
  },
  {
   "cell_type": "code",
   "execution_count": 54,
   "metadata": {
    "collapsed": false
   },
   "outputs": [],
   "source": [
    "vector = build_vector_timestamp_latidude_longitude('A27629')\n",
    "df_A27629 = pd.DataFrame(vector, columns=['timestamp', 'latitude','longitude'])       \n"
   ]
  },
  {
   "cell_type": "code",
   "execution_count": 37,
   "metadata": {
    "collapsed": true
   },
   "outputs": [],
   "source": [
    "#Funcion para calcular la distancia entre 2 puntos, teniendo en cuenta el radio de la tierra\n",
    "from math import radians, cos, sin, asin, sqrt\n",
    "\n",
    "def haversine(lon1, lat1, lon2, lat2):\n",
    "    \"\"\"\n",
    "    Calculate the great circle distance between two points \n",
    "    on the earth (specified in decimal degrees)\n",
    "    \"\"\"\n",
    "    # convert decimal degrees to radians \n",
    "    lon1, lat1, lon2, lat2 = map(radians, [lon1, lat1, lon2, lat2])\n",
    "\n",
    "    # haversine formula \n",
    "    dlon = lon2 - lon1 \n",
    "    dlat = lat2 - lat1 \n",
    "    a = sin(dlat/2)**2 + cos(lat1) * cos(lat2) * sin(dlon/2)**2\n",
    "    c = 2 * asin(sqrt(a)) \n",
    "    r = 6371 # Radius of earth in kilometers. Use 3956 for miles\n",
    "    return (c * r)*1000 # return the distance in m"
   ]
  },
  {
   "cell_type": "code",
   "execution_count": 35,
   "metadata": {
    "collapsed": true
   },
   "outputs": [],
   "source": [
    "#funcion que dado un vector de lat, long y un punto A(lat,long), me devuelve un vector con la distancia de cada par al punto A\n",
    "\n",
    "def vector_distancia(vector, point):\n",
    "    vector_distance = []\n",
    "    lat2 = point[0]\n",
    "    long2 = point[1]\n",
    "    for item in vector:\n",
    "        lat1 = item[1]\n",
    "        long1 = item[2]\n",
    "        distance = haversine(long2, lat2, long1, lat1)\n",
    "        latlon = (item[1], item[2])\n",
    "        vector_distance.insert(len(vector_distance), [item[0],latlon, distance])\n",
    "    df_vector_distance = pd.DataFrame(vector_distance, columns=['timestamp', 'latlon', 'distance'])\n",
    "    return df_vector_distance   "
   ]
  },
  {
   "cell_type": "code",
   "execution_count": 41,
   "metadata": {
    "collapsed": false
   },
   "outputs": [],
   "source": [
    "dist_to_ini = vector_distancia(vector, initial_point)\n",
    "sorted_dist_to_ini = dist_to_ini.sort([\"timestamp\"])\n",
    "\n",
    "\n",
    "dist_to_fin = vector_distancia(vector, final_point)\n",
    "sorted_dist_to_fin = dist_to_fin.sort([\"timestamp\"])\n"
   ]
  },
  {
   "cell_type": "code",
   "execution_count": 52,
   "metadata": {
    "collapsed": false
   },
   "outputs": [
    {
     "data": {
      "text/html": [
       "<iframe id=\"igraph\" scrolling=\"no\" style=\"border:none;\"seamless=\"seamless\" src=\"https://plot.ly/~kllanes/7.embed\" height=\"525px\" width=\"100%\"></iframe>"
      ],
      "text/plain": [
       "<plotly.tools.PlotlyDisplay object>"
      ]
     },
     "execution_count": 52,
     "metadata": {},
     "output_type": "execute_result"
    }
   ],
   "source": [
    "#hacer una grafica interactiva con la libreria de python (plotly.plotly). Se instala por consola asi: sudo pip install plotly\n",
    "#distancia en cada horario del dia del punto inicial (Leblon)\n",
    "#pegado a cero por el eje x va a estar mas proximo de leblon y el punto mas distante va a ser Vila Isabel\n",
    "import plotly.plotly as py\n",
    "from plotly.graph_objs import *\n",
    "import pandas as pd\n",
    "\n",
    "#df = pd.read_csv('https://raw.githubusercontent.com/plotly/datasets/master/2014_orange_stock.csv')\n",
    "#df.head()\n",
    "\n",
    "trace = Scatter( x=sorted_dist_to_ini['timestamp'], y = sorted_dist_to_ini['distance'] )\n",
    "data = Data([trace])\n",
    "\n",
    "py.iplot(data, filename='pandas-time-series')"
   ]
  },
  {
   "cell_type": "code",
   "execution_count": 51,
   "metadata": {
    "collapsed": false,
    "scrolled": true
   },
   "outputs": [
    {
     "data": {
      "text/html": [
       "<div>\n",
       "<table border=\"1\" class=\"dataframe\">\n",
       "  <thead>\n",
       "    <tr style=\"text-align: right;\">\n",
       "      <th></th>\n",
       "      <th>Line</th>\n",
       "      <th>Bus_Id</th>\n",
       "      <th>Direction</th>\n",
       "      <th>Departure_Hour</th>\n",
       "      <th>Arrive_Hour</th>\n",
       "      <th>Travel_Time</th>\n",
       "    </tr>\n",
       "  </thead>\n",
       "  <tbody>\n",
       "    <tr>\n",
       "      <th>0</th>\n",
       "      <td>438</td>\n",
       "      <td>A27629</td>\n",
       "      <td>Vila Isabel_to_Leblon</td>\n",
       "      <td>2015-02-08 18:23:57</td>\n",
       "      <td>2015-02-08 19:23:27</td>\n",
       "      <td>0:59</td>\n",
       "    </tr>\n",
       "    <tr>\n",
       "      <th>1</th>\n",
       "      <td>438</td>\n",
       "      <td>A27629</td>\n",
       "      <td>Leblon_to_Vila Isabel</td>\n",
       "      <td>2015-02-08 19:23:27</td>\n",
       "      <td>2015-02-08 20:28:57</td>\n",
       "      <td>1:05</td>\n",
       "    </tr>\n",
       "  </tbody>\n",
       "</table>\n",
       "</div>"
      ],
      "text/plain": [
       "  Line  Bus_Id              Direction      Departure_Hour         Arrive_Hour  \\\n",
       "0  438  A27629  Vila Isabel_to_Leblon 2015-02-08 18:23:57 2015-02-08 19:23:27   \n",
       "1  438  A27629  Leblon_to_Vila Isabel 2015-02-08 19:23:27 2015-02-08 20:28:57   \n",
       "\n",
       "  Travel_Time  \n",
       "0        0:59  \n",
       "1        1:05  "
      ]
     },
     "execution_count": 51,
     "metadata": {},
     "output_type": "execute_result"
    }
   ],
   "source": [
    "#dados para llamar a la funcion\n",
    "\n",
    "travel_time_table = create_travel_table(\"Leblon\", arrive_hour_to_leblon, leblon_departure_hours, \"Vila Isabel\", arrive_hour_to_vilaisabel, vilaIsabel_departure_hours, 'A27629', '438' )\n",
    "travel_time_table"
   ]
  },
  {
   "cell_type": "code",
   "execution_count": 70,
   "metadata": {
    "collapsed": false,
    "scrolled": true
   },
   "outputs": [],
   "source": [
    "df_A27629_query = df_A27629[(df_A27629[\"timestamp\"]== '08-02-2015 05:30:00') ]\n"
   ]
  },
  {
   "cell_type": "code",
   "execution_count": 73,
   "metadata": {
    "collapsed": false
   },
   "outputs": [
    {
     "data": {
      "text/html": [
       "<iframe src=\"files/map.html\" style=\"width: 100%; height: 510px; border: none\"></iframe>"
      ],
      "text/plain": [
       "<IPython.core.display.HTML object>"
      ]
     },
     "execution_count": 73,
     "metadata": {},
     "output_type": "execute_result"
    }
   ],
   "source": [
    "for row in df_A27629_query.iterrows():\n",
    "    latlon = [ row[1]['latitude'], row[1]['longitude'] ]\n",
    "    fmap_A27629.polygon_marker( latlon, fill_color='cean', num_sides=4, radius=6)\n",
    "\n",
    "embed_map(fmap_A27629)"
   ]
  },
  {
   "cell_type": "code",
   "execution_count": null,
   "metadata": {
    "collapsed": true
   },
   "outputs": [],
   "source": [
    "6:10 - 6:20\n",
    "7:40-7:50\n",
    "8:20-8:30\n",
    "14:00 - 14:10\n",
    "14:30 - 14:40\n",
    "16:20 - 16:30\n",
    "        17:10-17:20\n",
    "                19:20\n",
    "\n",
    "\n"
   ]
  },
  {
   "cell_type": "code",
   "execution_count": 51,
   "metadata": {
    "collapsed": false
   },
   "outputs": [
    {
     "data": {
      "text/html": [
       "<div>\n",
       "<table border=\"1\" class=\"dataframe\">\n",
       "  <thead>\n",
       "    <tr style=\"text-align: right;\">\n",
       "      <th></th>\n",
       "      <th>Line</th>\n",
       "      <th>Bus_Id</th>\n",
       "      <th>Direction</th>\n",
       "      <th>Departure_Hour</th>\n",
       "      <th>Arrive_Hour</th>\n",
       "      <th>Travel_Time</th>\n",
       "    </tr>\n",
       "  </thead>\n",
       "  <tbody>\n",
       "  </tbody>\n",
       "</table>\n",
       "</div>"
      ],
      "text/plain": [
       "Empty DataFrame\n",
       "Columns: [Line, Bus_Id, Direction, Departure_Hour, Arrive_Hour, Travel_Time]\n",
       "Index: []"
      ]
     },
     "execution_count": 51,
     "metadata": {},
     "output_type": "execute_result"
    }
   ],
   "source": [
    "sorted_travel_time_table_A27611 = mytabla1.sort([\"Departure_Hour\"])\n",
    "sorted_travel_time_table_A27611"
   ]
  }
 ],
 "metadata": {
  "kernelspec": {
   "display_name": "Python 2",
   "language": "python",
   "name": "python2"
  },
  "language_info": {
   "codemirror_mode": {
    "name": "ipython",
    "version": 2
   },
   "file_extension": ".py",
   "mimetype": "text/x-python",
   "name": "python",
   "nbconvert_exporter": "python",
   "pygments_lexer": "ipython2",
   "version": "2.7.6"
  }
 },
 "nbformat": 4,
 "nbformat_minor": 0
}
