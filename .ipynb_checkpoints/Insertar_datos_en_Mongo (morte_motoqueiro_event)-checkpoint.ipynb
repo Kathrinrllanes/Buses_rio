{
 "cells": [
  {
   "cell_type": "code",
   "execution_count": 1,
   "metadata": {
    "collapsed": true
   },
   "outputs": [],
   "source": [
    "import pandas as pd\n",
    "from pymongo import MongoClient, GEO2D\n",
    "import pymongo\n",
    "import json\n",
    "import datetime\n",
    "from bson.son import SON\n",
    "import folium \n",
    "import math\n",
    "import numpy as np\n",
    "from IPython.display import display\n"
   ]
  },
  {
   "cell_type": "code",
   "execution_count": 2,
   "metadata": {
    "collapsed": true
   },
   "outputs": [],
   "source": [
    "df_20150817 = pd.read_csv('/home/kathrin/Doctorado/bus_rio/Datos_Omnibus/morte_motoqueiro_20150817/20150817.txt', delimiter = ('\\t'))"
   ]
  },
  {
   "cell_type": "code",
   "execution_count": 30,
   "metadata": {
    "collapsed": false
   },
   "outputs": [],
   "source": [
    "a = df_20150817[df_20150817['timestamp'].str.contains('#')]"
   ]
  },
  {
   "cell_type": "code",
   "execution_count": 40,
   "metadata": {
    "collapsed": true
   },
   "outputs": [
    {
     "data": {
      "text/plain": [
       "<bound method DataFrame.idxmin of                                                  timestamp bus_id line  \\\n",
       "9591     # 4 dado(s) novo(s) inserido(s) em 17-08-2015 ...    NaN  NaN   \n",
       "9596     # 1734 dado(s) novo(s) inserido(s) em 17-08-20...    NaN  NaN   \n",
       "11331    # 1709 dado(s) novo(s) inserido(s) em 17-08-20...    NaN  NaN   \n",
       "13041    # 3 dado(s) novo(s) inserido(s) em 17-08-2015 ...    NaN  NaN   \n",
       "13045    # 1690 dado(s) novo(s) inserido(s) em 17-08-20...    NaN  NaN   \n",
       "14736    # 1582 dado(s) novo(s) inserido(s) em 17-08-20...    NaN  NaN   \n",
       "16319    # 5 dado(s) novo(s) inserido(s) em 17-08-2015 ...    NaN  NaN   \n",
       "16325    # 1606 dado(s) novo(s) inserido(s) em 17-08-20...    NaN  NaN   \n",
       "17932    # 1529 dado(s) novo(s) inserido(s) em 17-08-20...    NaN  NaN   \n",
       "19462    # 4 dado(s) novo(s) inserido(s) em 17-08-2015 ...    NaN  NaN   \n",
       "19467    # 1695 dado(s) novo(s) inserido(s) em 17-08-20...    NaN  NaN   \n",
       "21163    # 1712 dado(s) novo(s) inserido(s) em 17-08-20...    NaN  NaN   \n",
       "22876    # 6 dado(s) novo(s) inserido(s) em 17-08-2015 ...    NaN  NaN   \n",
       "22883    # 1620 dado(s) novo(s) inserido(s) em 17-08-20...    NaN  NaN   \n",
       "24504    # 1722 dado(s) novo(s) inserido(s) em 17-08-20...    NaN  NaN   \n",
       "26227    # 8 dado(s) novo(s) inserido(s) em 17-08-2015 ...    NaN  NaN   \n",
       "26236    # 1748 dado(s) novo(s) inserido(s) em 17-08-20...    NaN  NaN   \n",
       "27985    # 1707 dado(s) novo(s) inserido(s) em 17-08-20...    NaN  NaN   \n",
       "29693    # 3 dado(s) novo(s) inserido(s) em 17-08-2015 ...    NaN  NaN   \n",
       "29697    # 1673 dado(s) novo(s) inserido(s) em 17-08-20...    NaN  NaN   \n",
       "31371    # 1695 dado(s) novo(s) inserido(s) em 17-08-20...    NaN  NaN   \n",
       "33067    # 2 dado(s) novo(s) inserido(s) em 17-08-2015 ...    NaN  NaN   \n",
       "33070    # 1615 dado(s) novo(s) inserido(s) em 17-08-20...    NaN  NaN   \n",
       "34686    # 1708 dado(s) novo(s) inserido(s) em 17-08-20...    NaN  NaN   \n",
       "36395    # 4 dado(s) novo(s) inserido(s) em 17-08-2015 ...    NaN  NaN   \n",
       "36400    # 1721 dado(s) novo(s) inserido(s) em 17-08-20...    NaN  NaN   \n",
       "38122    # 1660 dado(s) novo(s) inserido(s) em 17-08-20...    NaN  NaN   \n",
       "39783    # 2 dado(s) novo(s) inserido(s) em 17-08-2015 ...    NaN  NaN   \n",
       "39786    # 1704 dado(s) novo(s) inserido(s) em 17-08-20...    NaN  NaN   \n",
       "41491    # 1667 dado(s) novo(s) inserido(s) em 17-08-20...    NaN  NaN   \n",
       "...                                                    ...    ...  ...   \n",
       "3573715  # 1602 dado(s) novo(s) inserido(s) em 17-08-20...    NaN  NaN   \n",
       "3575318  # 6 dado(s) novo(s) inserido(s) em 17-08-2015 ...    NaN  NaN   \n",
       "3575325  # 2016 dado(s) novo(s) inserido(s) em 17-08-20...    NaN  NaN   \n",
       "3577342  # 2328 dado(s) novo(s) inserido(s) em 17-08-20...    NaN  NaN   \n",
       "3579671  # 13 dado(s) novo(s) inserido(s) em 17-08-2015...    NaN  NaN   \n",
       "3579685  # 2184 dado(s) novo(s) inserido(s) em 17-08-20...    NaN  NaN   \n",
       "3581870  # 1542 dado(s) novo(s) inserido(s) em 17-08-20...    NaN  NaN   \n",
       "3583413  # 7 dado(s) novo(s) inserido(s) em 17-08-2015 ...    NaN  NaN   \n",
       "3583421  # 2301 dado(s) novo(s) inserido(s) em 17-08-20...    NaN  NaN   \n",
       "3585723  # 2264 dado(s) novo(s) inserido(s) em 17-08-20...    NaN  NaN   \n",
       "3587988  # 13 dado(s) novo(s) inserido(s) em 17-08-2015...    NaN  NaN   \n",
       "3588002  # 1804 dado(s) novo(s) inserido(s) em 17-08-20...    NaN  NaN   \n",
       "3589807  # 2160 dado(s) novo(s) inserido(s) em 17-08-20...    NaN  NaN   \n",
       "3591968  # 10 dado(s) novo(s) inserido(s) em 17-08-2015...    NaN  NaN   \n",
       "3591979  # 1582 dado(s) novo(s) inserido(s) em 17-08-20...    NaN  NaN   \n",
       "3593562  # 1576 dado(s) novo(s) inserido(s) em 17-08-20...    NaN  NaN   \n",
       "3595139  # 6 dado(s) novo(s) inserido(s) em 17-08-2015 ...    NaN  NaN   \n",
       "3595146  # 1585 dado(s) novo(s) inserido(s) em 17-08-20...    NaN  NaN   \n",
       "3596732  # 1564 dado(s) novo(s) inserido(s) em 17-08-20...    NaN  NaN   \n",
       "3598297  # 4 dado(s) novo(s) inserido(s) em 17-08-2015 ...    NaN  NaN   \n",
       "3598302  # 2155 dado(s) novo(s) inserido(s) em 17-08-20...    NaN  NaN   \n",
       "3600458  # 2098 dado(s) novo(s) inserido(s) em 17-08-20...    NaN  NaN   \n",
       "3602557  # 8 dado(s) novo(s) inserido(s) em 17-08-2015 ...    NaN  NaN   \n",
       "3602566  # 2232 dado(s) novo(s) inserido(s) em 17-08-20...    NaN  NaN   \n",
       "3604799  # 1505 dado(s) novo(s) inserido(s) em 17-08-20...    NaN  NaN   \n",
       "3606305  # 7 dado(s) novo(s) inserido(s) em 17-08-2015 ...    NaN  NaN   \n",
       "3606313  # 1498 dado(s) novo(s) inserido(s) em 17-08-20...    NaN  NaN   \n",
       "3607812  # 1493 dado(s) novo(s) inserido(s) em 17-08-20...    NaN  NaN   \n",
       "3609306  # 7 dado(s) novo(s) inserido(s) em 17-08-2015 ...    NaN  NaN   \n",
       "3609314  # 2143 dado(s) novo(s) inserido(s) em 17-08-20...    NaN  NaN   \n",
       "\n",
       "         latitude  longitude  speed  \n",
       "9591          NaN        NaN    NaN  \n",
       "9596          NaN        NaN    NaN  \n",
       "11331         NaN        NaN    NaN  \n",
       "13041         NaN        NaN    NaN  \n",
       "13045         NaN        NaN    NaN  \n",
       "14736         NaN        NaN    NaN  \n",
       "16319         NaN        NaN    NaN  \n",
       "16325         NaN        NaN    NaN  \n",
       "17932         NaN        NaN    NaN  \n",
       "19462         NaN        NaN    NaN  \n",
       "19467         NaN        NaN    NaN  \n",
       "21163         NaN        NaN    NaN  \n",
       "22876         NaN        NaN    NaN  \n",
       "22883         NaN        NaN    NaN  \n",
       "24504         NaN        NaN    NaN  \n",
       "26227         NaN        NaN    NaN  \n",
       "26236         NaN        NaN    NaN  \n",
       "27985         NaN        NaN    NaN  \n",
       "29693         NaN        NaN    NaN  \n",
       "29697         NaN        NaN    NaN  \n",
       "31371         NaN        NaN    NaN  \n",
       "33067         NaN        NaN    NaN  \n",
       "33070         NaN        NaN    NaN  \n",
       "34686         NaN        NaN    NaN  \n",
       "36395         NaN        NaN    NaN  \n",
       "36400         NaN        NaN    NaN  \n",
       "38122         NaN        NaN    NaN  \n",
       "39783         NaN        NaN    NaN  \n",
       "39786         NaN        NaN    NaN  \n",
       "41491         NaN        NaN    NaN  \n",
       "...           ...        ...    ...  \n",
       "3573715       NaN        NaN    NaN  \n",
       "3575318       NaN        NaN    NaN  \n",
       "3575325       NaN        NaN    NaN  \n",
       "3577342       NaN        NaN    NaN  \n",
       "3579671       NaN        NaN    NaN  \n",
       "3579685       NaN        NaN    NaN  \n",
       "3581870       NaN        NaN    NaN  \n",
       "3583413       NaN        NaN    NaN  \n",
       "3583421       NaN        NaN    NaN  \n",
       "3585723       NaN        NaN    NaN  \n",
       "3587988       NaN        NaN    NaN  \n",
       "3588002       NaN        NaN    NaN  \n",
       "3589807       NaN        NaN    NaN  \n",
       "3591968       NaN        NaN    NaN  \n",
       "3591979       NaN        NaN    NaN  \n",
       "3593562       NaN        NaN    NaN  \n",
       "3595139       NaN        NaN    NaN  \n",
       "3595146       NaN        NaN    NaN  \n",
       "3596732       NaN        NaN    NaN  \n",
       "3598297       NaN        NaN    NaN  \n",
       "3598302       NaN        NaN    NaN  \n",
       "3600458       NaN        NaN    NaN  \n",
       "3602557       NaN        NaN    NaN  \n",
       "3602566       NaN        NaN    NaN  \n",
       "3604799       NaN        NaN    NaN  \n",
       "3606305       NaN        NaN    NaN  \n",
       "3606313       NaN        NaN    NaN  \n",
       "3607812       NaN        NaN    NaN  \n",
       "3609306       NaN        NaN    NaN  \n",
       "3609314       NaN        NaN    NaN  \n",
       "\n",
       "[2064 rows x 6 columns]>"
      ]
     },
     "execution_count": 40,
     "metadata": {},
     "output_type": "execute_result"
    }
   ],
   "source": [
    "a.idxmin"
   ]
  },
  {
   "cell_type": "code",
   "execution_count": 6,
   "metadata": {
    "collapsed": false
   },
   "outputs": [],
   "source": [
    "#Create a link to MongoDB using MongoClient(The name of new database will be morte_motoquiro_event)\n",
    "db = MongoClient().morte_motoquiro_event"
   ]
  },
  {
   "cell_type": "code",
   "execution_count": 3,
   "metadata": {
    "collapsed": false
   },
   "outputs": [
    {
     "data": {
      "text/plain": [
       "u'latlon_2d'"
      ]
     },
     "execution_count": 3,
     "metadata": {},
     "output_type": "execute_result"
    }
   ],
   "source": [
    "# Create the collection \"dados20150817_line_172\" with an geolocation index \"latlon\"\n",
    "db.dados20150817_line_172.create_index([(\"latlon\", GEO2D)])"
   ]
  },
  {
   "cell_type": "code",
   "execution_count": 4,
   "metadata": {
    "collapsed": false
   },
   "outputs": [
    {
     "data": {
      "text/plain": [
       "u'latlon_2d'"
      ]
     },
     "execution_count": 4,
     "metadata": {},
     "output_type": "execute_result"
    }
   ],
   "source": [
    "# Create the collection \"dados20150817_line_316\" with an geolocation index \"latlon\"\n",
    "db.dados20150817_line_316.create_index([(\"latlon\", GEO2D)])"
   ]
  },
  {
   "cell_type": "code",
   "execution_count": 5,
   "metadata": {
    "collapsed": false
   },
   "outputs": [
    {
     "data": {
      "text/plain": [
       "u'latlon_2d'"
      ]
     },
     "execution_count": 5,
     "metadata": {},
     "output_type": "execute_result"
    }
   ],
   "source": [
    "# Create the collection \"dados20150817_line_317\" with an geolocation index \"latlon\"\n",
    "db.dados20150817_line_317.create_index([(\"latlon\", GEO2D)])"
   ]
  },
  {
   "cell_type": "code",
   "execution_count": 6,
   "metadata": {
    "collapsed": false
   },
   "outputs": [
    {
     "data": {
      "text/plain": [
       "u'latlon_2d'"
      ]
     },
     "execution_count": 6,
     "metadata": {},
     "output_type": "execute_result"
    }
   ],
   "source": [
    "# Create the collection \"dados20150817_line_317\" with an geolocation index \"latlon\"\n",
    "db.dados20150727_line_317.create_index([(\"latlon\", GEO2D)])"
   ]
  },
  {
   "cell_type": "code",
   "execution_count": 7,
   "metadata": {
    "collapsed": false
   },
   "outputs": [
    {
     "data": {
      "text/plain": [
       "u'latlon_2d'"
      ]
     },
     "execution_count": 7,
     "metadata": {},
     "output_type": "execute_result"
    }
   ],
   "source": [
    "# Create the collection \"dados20150817_line_317\" with an geolocation index \"latlon\"\n",
    "db.dados20150803_line_317.create_index([(\"latlon\", GEO2D)])"
   ]
  },
  {
   "cell_type": "code",
   "execution_count": 8,
   "metadata": {
    "collapsed": false
   },
   "outputs": [
    {
     "data": {
      "text/plain": [
       "u'latlon_2d'"
      ]
     },
     "execution_count": 8,
     "metadata": {},
     "output_type": "execute_result"
    }
   ],
   "source": [
    "# Create the collection \"dados20150817_line_317\" with an geolocation index \"latlon\"\n",
    "db.dados20150810_line_317.create_index([(\"latlon\", GEO2D)])"
   ]
  },
  {
   "cell_type": "code",
   "execution_count": 9,
   "metadata": {
    "collapsed": false
   },
   "outputs": [
    {
     "data": {
      "text/plain": [
       "u'latlon_2d'"
      ]
     },
     "execution_count": 9,
     "metadata": {},
     "output_type": "execute_result"
    }
   ],
   "source": [
    "# Create the collection \"dados20150817_line_957\" with an geolocation index \"latlon\"\n",
    "db.dados20150817_line_957.create_index([(\"latlon\", GEO2D)])"
   ]
  },
  {
   "cell_type": "code",
   "execution_count": 10,
   "metadata": {
    "collapsed": false
   },
   "outputs": [
    {
     "data": {
      "text/plain": [
       "u'latlon_2d'"
      ]
     },
     "execution_count": 10,
     "metadata": {},
     "output_type": "execute_result"
    }
   ],
   "source": [
    "# Create the collection \"dados20150817_line_957\" with an geolocation index \"latlon\"\n",
    "db.dados20150817_line_110.create_index([(\"latlon\", GEO2D)])"
   ]
  },
  {
   "cell_type": "code",
   "execution_count": 5,
   "metadata": {
    "collapsed": false
   },
   "outputs": [
    {
     "data": {
      "text/plain": [
       "u'latlon_2d'"
      ]
     },
     "execution_count": 5,
     "metadata": {},
     "output_type": "execute_result"
    }
   ],
   "source": [
    "# Create the collection \"dados20150817_line_957\" with an geolocation index \"latlon\"\n",
    "db.dados20150810_line_110.create_index([(\"latlon\", GEO2D)])"
   ]
  },
  {
   "cell_type": "code",
   "execution_count": 6,
   "metadata": {
    "collapsed": false
   },
   "outputs": [
    {
     "data": {
      "text/plain": [
       "u'latlon_2d'"
      ]
     },
     "execution_count": 6,
     "metadata": {},
     "output_type": "execute_result"
    }
   ],
   "source": [
    "# Create the collection \"dados20150817_line_957\" with an geolocation index \"latlon\"\n",
    "db.dados20150803_line_110.create_index([(\"latlon\", GEO2D)])"
   ]
  },
  {
   "cell_type": "code",
   "execution_count": 8,
   "metadata": {
    "collapsed": false
   },
   "outputs": [
    {
     "data": {
      "text/plain": [
       "u'latlon_2d'"
      ]
     },
     "execution_count": 8,
     "metadata": {},
     "output_type": "execute_result"
    }
   ],
   "source": [
    "# Create the collection \"dados20150817_line_957\" with an geolocation index \"latlon\"\n",
    "db.dados20150727_line_110.create_index([(\"latlon\", GEO2D)])"
   ]
  },
  {
   "cell_type": "code",
   "execution_count": 7,
   "metadata": {
    "collapsed": false
   },
   "outputs": [
    {
     "data": {
      "text/plain": [
       "u'latlon_2d'"
      ]
     },
     "execution_count": 7,
     "metadata": {},
     "output_type": "execute_result"
    }
   ],
   "source": [
    "db.dados20150817.create_index([(\"latlon\", GEO2D)])"
   ]
  },
  {
   "cell_type": "code",
   "execution_count": 16,
   "metadata": {
    "collapsed": false
   },
   "outputs": [],
   "source": [
    "df_20150803 = pd.read_csv('/home/kathrin/Doctorado/bus_rio/Datos_Omnibus/morte_motoqueiro_20150817/20150803.txt', delimiter = ('\\t'))"
   ]
  },
  {
   "cell_type": "code",
   "execution_count": 17,
   "metadata": {
    "collapsed": false
   },
   "outputs": [
    {
     "data": {
      "text/plain": [
       "5457226"
      ]
     },
     "execution_count": 17,
     "metadata": {},
     "output_type": "execute_result"
    }
   ],
   "source": [
    "len(df_20150803)"
   ]
  },
  {
   "cell_type": "code",
   "execution_count": 33,
   "metadata": {
    "collapsed": false
   },
   "outputs": [],
   "source": [
    "df_20150817 = pd.read_csv('/home/kathrin/Doctorado/bus_rio/Datos_Omnibus/morte_motoqueiro_20150817/20150817.txt', delimiter = ('\\t'))\n",
    "df_20150727 = pd.read_csv('/home/kathrin/Doctorado/bus_rio/Datos_Omnibus/morte_motoqueiro_20150817/20150727.txt', delimiter = ('\\t'))\n",
    "df_20150803 = pd.read_csv('/home/kathrin/Doctorado/bus_rio/Datos_Omnibus/morte_motoqueiro_20150817/20150803.txt', delimiter = ('\\t'))\n",
    "df_20150810 = pd.read_csv('/home/kathrin/Doctorado/bus_rio/Datos_Omnibus/morte_motoqueiro_20150817/20150810.txt', delimiter = ('\\t'))"
   ]
  },
  {
   "cell_type": "code",
   "execution_count": 9,
   "metadata": {
    "collapsed": true
   },
   "outputs": [],
   "source": [
    "df_20150817_line_172 = df_20150817[(df_20150817['line']=='172')]"
   ]
  },
  {
   "cell_type": "code",
   "execution_count": 12,
   "metadata": {
    "collapsed": false
   },
   "outputs": [],
   "source": [
    "df_20150817_line_316 = df_20150817[(df_20150817['line']=='316')]\n"
   ]
  },
  {
   "cell_type": "code",
   "execution_count": 13,
   "metadata": {
    "collapsed": false
   },
   "outputs": [],
   "source": [
    "df_20150817_line_317 = df_20150817[(df_20150817['line']=='317')]\n",
    "df_20150727_line_317 = df_20150727[(df_20150727['line']=='317')]\n",
    "df_20150803_line_317 = df_20150803[(df_20150803['line']=='317')]\n",
    "df_20150810_line_317 = df_20150810[(df_20150810['line']=='317')]"
   ]
  },
  {
   "cell_type": "code",
   "execution_count": 34,
   "metadata": {
    "collapsed": false
   },
   "outputs": [],
   "source": [
    "df_20150727_line_110 = df_20150727[(df_20150727['line']=='110')]\n",
    "df_20150803_line_110 = df_20150803[(df_20150803['line']=='110')]\n",
    "df_20150810_line_110 = df_20150810[(df_20150810['line']=='110')]\n",
    "df_20150817_line_110 = df_20150817[(df_20150817['line']=='110')]"
   ]
  },
  {
   "cell_type": "code",
   "execution_count": 10,
   "metadata": {
    "collapsed": true
   },
   "outputs": [],
   "source": [
    "df_20150817_line_957 = df_20150817[(df_20150817['line']=='957')]"
   ]
  },
  {
   "cell_type": "code",
   "execution_count": null,
   "metadata": {
    "collapsed": true
   },
   "outputs": [],
   "source": []
  },
  {
   "cell_type": "code",
   "execution_count": 5,
   "metadata": {
    "collapsed": false
   },
   "outputs": [],
   "source": [
    "#Insert in MongoDb gps data of bus line 172 on 2015-08-17\n",
    "\n",
    "\n",
    "for row in df_20150817_line_172.iterrows():\n",
    "    #The 'latitude' and 'longitude' names correspond to column names in the original cceats dataframe\n",
    "    df_20150817_line_172_file = [{\"timestamp\": row[1]['timestamp'],\n",
    "                                  \"bus_id\":row[1]['bus_id'],\n",
    "                                  \"line\":row[1]['line'],\n",
    "                                  \"latitude\": row[1]['latitude'],\n",
    "                                  \"longitude\": row [1]['longitude'], \n",
    "                                  \"speed\" : row[1]['speed'],\n",
    "                                  \"latlon\": [ row[1]['longitude'], row[1]['latitude'] ]\n",
    "                                  }]\n",
    "    db.dados20150817_line_172.insert_many(df_20150817_line_172_file)  \n",
    "    \n"
   ]
  },
  {
   "cell_type": "code",
   "execution_count": 4,
   "metadata": {
    "collapsed": false
   },
   "outputs": [
    {
     "data": {
      "text/plain": [
       "15855"
      ]
     },
     "execution_count": 4,
     "metadata": {},
     "output_type": "execute_result"
    }
   ],
   "source": [
    "len(df_20150817_line_172)"
   ]
  },
  {
   "cell_type": "code",
   "execution_count": 15,
   "metadata": {
    "collapsed": false
   },
   "outputs": [],
   "source": [
    "#Insert in MongoDb gps data of bus line 316 on 2015-08-17\n",
    "df_20150817_line_316_file = []\n",
    "\n",
    "for row in df_20150817_line_316.iterrows():\n",
    "    #The 'latitude' and 'longitude' names correspond to column names in the original cceats dataframe\n",
    "    df_20150817_line_316_file = [{\"timestamp\": row[1]['timestamp'],\n",
    "                                  \"bus_id\":row[1]['bus_id'],\n",
    "                                  \"line\":row[1]['line'],\n",
    "                                  \"latitude\": row[1]['latitude'],\n",
    "                                  \"longitude\": row [1]['longitude'], \n",
    "                                  \"speed\" : row[1]['speed'],\n",
    "                                  \"latlon\": [ row[1]['longitude'], row[1]['latitude'] ]\n",
    "                                  }]\n",
    "    db.dados20150817_line_316.insert_many(df_20150817_line_316_file)\n",
    "\n"
   ]
  },
  {
   "cell_type": "code",
   "execution_count": 9,
   "metadata": {
    "collapsed": true
   },
   "outputs": [],
   "source": [
    "#Insert in MongoDb gps data of bus line 317 on 2015-08-17\n",
    "df_20150817_line_317_file = []\n",
    "\n",
    "for row in df_20150817_line_317.iterrows():\n",
    "    #The 'latitude' and 'longitude' names correspond to column names in the original cceats dataframe\n",
    "    df_20150817_line_317_file = [{\"timestamp\": row[1]['timestamp'],\n",
    "                                  \"bus_id\":row[1]['bus_id'],\n",
    "                                  \"line\":row[1]['line'],\n",
    "                                  \"latitude\": row[1]['latitude'],\n",
    "                                  \"longitude\": row [1]['longitude'], \n",
    "                                  \"speed\" : row[1]['speed'],\n",
    "                                  \"latlon\": [ row[1]['longitude'], row[1]['latitude'] ]\n",
    "                                  }]\n",
    "    db.dados20150817_line_317.insert_many(df_20150817_line_317_file)"
   ]
  },
  {
   "cell_type": "code",
   "execution_count": null,
   "metadata": {
    "collapsed": true
   },
   "outputs": [],
   "source": [
    "#Insert in MongoDb gps data of bus line 957 on 2015-08-17\n",
    "df_20150817_line_957_file = []\n",
    "\n",
    "for row in df_20150817_line_957.iterrows():\n",
    "    #The 'latitude' and 'longitude' names correspond to column names in the original cceats dataframe\n",
    "    df_20150817_line_957_file = [{\"timestamp\": row[1]['timestamp'],\n",
    "                                  \"bus_id\":row[1]['bus_id'],\n",
    "                                  \"line\":row[1]['line'],\n",
    "                                  \"latitude\": row[1]['latitude'],\n",
    "                                  \"longitude\": row [1]['longitude'], \n",
    "                                  \"speed\" : row[1]['speed'],\n",
    "                                  \"latlon\": [ row[1]['longitude'], row[1]['latitude'] ]\n",
    "                                  }]\n",
    "    db.dados20150817_line_957.insert_many(df_20150817_line_957_file)"
   ]
  },
  {
   "cell_type": "code",
   "execution_count": 19,
   "metadata": {
    "collapsed": true
   },
   "outputs": [],
   "source": [
    "#Insert in MongoDb gps data of bus line 317 on 2015-07-27\n",
    "df_20150727_line_317_file = []\n",
    "\n",
    "\n",
    "for row in df_20150727_line_317.iterrows():\n",
    "    #The 'latitude' and 'longitude' names correspond to column names in the original cceats dataframe\n",
    "    df_20150727_line_317_file = [{\"timestamp\": row[1]['timestamp'],\n",
    "                                  \"bus_id\":row[1]['bus_id'],\n",
    "                                  \"line\":row[1]['line'],\n",
    "                                  \"latitude\": row[1]['latitude'],\n",
    "                                  \"longitude\": row [1]['longitude'], \n",
    "                                  \"speed\" : row[1]['speed'],\n",
    "                                  \"other\": row[1]['other'],\n",
    "                                  \"latlon\": [ row[1]['longitude'], row[1]['latitude'] ]\n",
    "                                  }]\n",
    "    db.dados20150727_line_317.insert_many(df_20150727_line_317_file)"
   ]
  },
  {
   "cell_type": "code",
   "execution_count": null,
   "metadata": {
    "collapsed": true
   },
   "outputs": [],
   "source": [
    "#Insert in MongoDb gps data of bus line 317 on 2015-08-03\n",
    "df_20150803_line_317_file = []\n",
    "\n",
    "\n",
    "for row in df_20150803_line_317.iterrows():\n",
    "    #The 'latitude' and 'longitude' names correspond to column names in the original cceats dataframe\n",
    "    df_20150803_line_317_file = [{\"timestamp\": row[1]['timestamp'],\n",
    "                                  \"bus_id\":row[1]['bus_id'],\n",
    "                                  \"line\":row[1]['line'],\n",
    "                                  \"latitude\": row[1]['latitude'],\n",
    "                                  \"longitude\": row [1]['longitude'], \n",
    "                                  \"speed\" : row[1]['speed'],\n",
    "                                  \"other\": row[1]['other'],\n",
    "                                  \"latlon\": [ row[1]['longitude'], row[1]['latitude'] ]\n",
    "                                  }]\n",
    "    db.dados20150803_line_317.insert_many(df_20150803_line_317_file)"
   ]
  },
  {
   "cell_type": "code",
   "execution_count": null,
   "metadata": {
    "collapsed": true
   },
   "outputs": [],
   "source": [
    "#Insert in MongoDb gps data of bus line 317 on 2015-08-03\n",
    "df_20150803_line_317_file = []\n",
    "\n",
    "\n",
    "for row in df_20150803_line_317.iterrows():\n",
    "    #The 'latitude' and 'longitude' names correspond to column names in the original cceats dataframe\n",
    "    df_20150803_line_317_file = [{\"timestamp\": row[1]['timestamp'],\n",
    "                                  \"bus_id\":row[1]['bus_id'],\n",
    "                                  \"line\":row[1]['line'],\n",
    "                                  \"latitude\": row[1]['latitude'],\n",
    "                                  \"longitude\": row [1]['longitude'], \n",
    "                                  \"speed\" : row[1]['speed'],\n",
    "                                  \"other\": row[1]['other'],\n",
    "                                  \"latlon\": [ row[1]['longitude'], row[1]['latitude'] ]\n",
    "                                  }]\n",
    "    db.dados20150803_line_317.insert_many(df_20150803_line_317_file)"
   ]
  },
  {
   "cell_type": "code",
   "execution_count": 6,
   "metadata": {
    "collapsed": false
   },
   "outputs": [],
   "source": [
    "df_20150727_line_110_file = []\n",
    "\n",
    "\n",
    "for row in df_20150727_line_110.iterrows():\n",
    "    #The 'latitude' and 'longitude' names correspond to column names in the original cceats dataframe\n",
    "    df_20150727_line_110_file = [{\"timestamp\": row[1]['timestamp'],\n",
    "                                  \"bus_id\":row[1]['bus_id'],\n",
    "                                  \"line\":row[1]['line'],\n",
    "                                  \"latitude\": row[1]['latitude'],\n",
    "                                  \"longitude\": row [1]['longitude'], \n",
    "                                  \"speed\" : row[1]['speed'],\n",
    "                                  \"other\": row[1]['other'],\n",
    "                                  \"latlon\": [ row[1]['longitude'], row[1]['latitude'] ]\n",
    "                                  }]\n",
    "    db.dados20150727_line_110.insert_many(df_20150727_line_110_file)\n"
   ]
  }
 ],
 "metadata": {
  "kernelspec": {
   "display_name": "Python 2",
   "language": "python",
   "name": "python2"
  },
  "language_info": {
   "codemirror_mode": {
    "name": "ipython",
    "version": 2
   },
   "file_extension": ".py",
   "mimetype": "text/x-python",
   "name": "python",
   "nbconvert_exporter": "python",
   "pygments_lexer": "ipython2",
   "version": "2.7.6"
  }
 },
 "nbformat": 4,
 "nbformat_minor": 0
}
