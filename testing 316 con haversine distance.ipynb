{
 "cells": [
  {
   "cell_type": "code",
   "execution_count": 1,
   "metadata": {
    "collapsed": false,
    "scrolled": true
   },
   "outputs": [],
   "source": [
    "import pandas as pd\n",
    "from pymongo import MongoClient, GEO2D\n",
    "import pymongo\n",
    "import json\n",
    "import datetime\n",
    "from bson.son import SON\n",
    "import folium \n",
    "from math import *\n",
    "import numpy as np\n",
    "from IPython.display import display\n"
   ]
  },
  {
   "cell_type": "code",
   "execution_count": 2,
   "metadata": {
    "collapsed": false
   },
   "outputs": [],
   "source": [
    "import matplotlib.pyplot as plt"
   ]
  },
  {
   "cell_type": "code",
   "execution_count": 3,
   "metadata": {
    "collapsed": true
   },
   "outputs": [],
   "source": [
    "df_20150817 = pd.read_csv('/home/kathrin/Doctorado/bus_rio/Datos_Omnibus/morte_motoqueiro_20150817/20150817.txt', delimiter = ('\\t'))"
   ]
  },
  {
   "cell_type": "code",
   "execution_count": null,
   "metadata": {
    "collapsed": true
   },
   "outputs": [],
   "source": [
    "df_20150817_line_316 = df_20150817[(df_20150817['line']=='316')]"
   ]
  },
  {
   "cell_type": "code",
   "execution_count": 5,
   "metadata": {
    "collapsed": true
   },
   "outputs": [],
   "source": [
    "df_20150817_line_317 = df_20150817[(df_20150817['line']=='317')]"
   ]
  },
  {
   "cell_type": "code",
   "execution_count": 11,
   "metadata": {
    "collapsed": true
   },
   "outputs": [],
   "source": [
    "#Estableciendo la conexion con la base de datos morte_motoquiro en MongoDB\n",
    "db = MongoClient().morte_motoquiro_event"
   ]
  },
  {
   "cell_type": "code",
   "execution_count": 13,
   "metadata": {
    "collapsed": false
   },
   "outputs": [],
   "source": [
    "#la funcion $within recibe las coordenadas en orden inverso (primero longitud y después latitud)\n",
    "list_initial_points_array = []\n",
    "for row in db.dados20150817_line_317.find({}).sort(\"timestamp\",pymongo.DESCENDING):\n",
    "    list_initial_points_array.insert(len(list_initial_points_array), [row[u'timestamp'], row[u'latitude'], row[u'longitude'], row[u'speed']])\n",
    "#convert the array in panda dataframe \n",
    "sort_initial_points = pd.DataFrame(list_initial_points_array, columns=['timestamp', 'latitude', 'longitude', 'speed'])\n"
   ]
  },
  {
   "cell_type": "code",
   "execution_count": 9,
   "metadata": {
    "collapsed": true
   },
   "outputs": [],
   "source": [
    "\"\"\"Funciones para renderizar el mapa en el html\"\"\"\n",
    "from IPython.display import HTML\n",
    " \n",
    "def inline_map(map):\n",
    "    \"\"\"\n",
    "    Embeds the HTML source of the map directly into the IPython notebook.\n",
    "    \n",
    "    This method will not work if the map depends on any files (json data). Also this uses\n",
    "    the HTML5 srcdoc attribute, which may not be supported in all browsers.\n",
    "    \"\"\"\n",
    "    map._build_map()\n",
    "    return HTML('<iframe srcdoc=\"{srcdoc}\" style=\"width: 100%; height: 510px; border: none\"></iframe>'.format(srcdoc=map.HTML.replace('\"', '&quot;')))\n",
    " \n",
    "def embed_map(map, path=\"map.html\"):\n",
    "    \"\"\"\n",
    "    Embeds a linked iframe to the map into the IPython notebook.\n",
    "    \n",
    "    Note: this method will not capture the source of the map into the notebook.\n",
    "    This method should work for all maps (as long as they use relative urls).\n",
    "    \"\"\"\n",
    "    map.create_map(path=path)\n",
    "    return HTML('<iframe src=\"files/{path}\" style=\"width: 100%; height: 510px; border: none\"></iframe>'.format(path=path))"
   ]
  },
  {
   "cell_type": "code",
   "execution_count": 14,
   "metadata": {
    "collapsed": true
   },
   "outputs": [],
   "source": [
    "#Punto inicial del omnibus 316 Central do Brasil\n",
    "initial_point = (-23.0224,-43.4823)\n",
    "#Punto inicial del omnibus invertido\n",
    "inverted_initial_point = (-43.4823, -23.0224)\n",
    "#Punto final del omnibus 316 Centro\n",
    "final_point = (-22.9049, -43.1917)\n",
    "#Punto final del omnibus invertido\n",
    "inverted_final_point = (-43.1917, -22.9049)\n"
   ]
  },
  {
   "cell_type": "code",
   "execution_count": 15,
   "metadata": {
    "collapsed": false
   },
   "outputs": [
    {
     "data": {
      "text/html": [
       "<iframe src=\"files/map.html\" style=\"width: 100%; height: 510px; border: none\"></iframe>"
      ],
      "text/plain": [
       "<IPython.core.display.HTML object>"
      ]
     },
     "execution_count": 15,
     "metadata": {},
     "output_type": "execute_result"
    }
   ],
   "source": [
    "onibus316_shapes = pd.read_csv('/home/kathrin/Doctorado/bus_rio/Datos_Omnibus/Onibus/Shapes/gtfs_linha316-shapes.csv')\n",
    "fmap316_0=folium.Map(location=[-22.923714, -43.258999], zoom_start=11)\n",
    "locations316 = []\n",
    "for row in onibus316_shapes.iterrows():\n",
    "    #The 'latitude' and 'longitude' names correspond to column names in the original cceats dataframe\n",
    "    locations316.insert(1, [ row[1]['latitude'], row[1]['longitude'] ])\n",
    "    \n",
    "#Pintando Circulos de radio de 50m alrededor de los puntos incial y final \n",
    "fmap316_0.simple_marker(final_point, popup='Centro')\n",
    "fmap316_0.simple_marker(initial_point, popup='Barra')\n",
    "\n",
    "#Punto inicial\n",
    "fmap316_0.circle_marker(location=final_point, radius=50,line_color='green',\n",
    "                 fill_color='#3186cc', fill_opacity=0.2)\n",
    "\n",
    "#Punto inicial\n",
    "fmap316_0.circle_marker(location=initial_point, radius=50,line_color='blue',\n",
    "                 fill_color='#3186cc', fill_opacity=0.2)\n",
    "\n",
    "fmap316_0.line(locations316)\n",
    "embed_map(fmap316_0)"
   ]
  },
  {
   "cell_type": "code",
   "execution_count": 16,
   "metadata": {
    "collapsed": false
   },
   "outputs": [],
   "source": [
    "df_20150817_line_316_C41422 = df_20150817_line_316[(df_20150817_line_316['bus_id']=='C41422')]\n",
    "#para seleccionar solo algunas columnas del dataframe, en este caso la columna 1(timestamp), la 4(latitude) y la 5(longitude)\n",
    "important_columns = df_20150817_line_316_C41422.iloc[:,[0,3,4]]\n",
    "myvector = important_columns.values.tolist()\n"
   ]
  },
  {
   "cell_type": "code",
   "execution_count": 17,
   "metadata": {
    "collapsed": true
   },
   "outputs": [],
   "source": [
    "#Funcion para calcular la distancia entre 2 puntos, teniendo en cuenta el radio de la tierra\n",
    "from math import radians, cos, sin, asin, sqrt\n",
    "\n",
    "def haversine(lon1, lat1, lon2, lat2):\n",
    "    \"\"\"\n",
    "    Calculate the great circle distance between two points \n",
    "    on the earth (specified in decimal degrees)\n",
    "    \"\"\"\n",
    "    # convert decimal degrees to radians \n",
    "    lon1, lat1, lon2, lat2 = map(radians, [lon1, lat1, lon2, lat2])\n",
    "\n",
    "    # haversine formula \n",
    "    dlon = lon2 - lon1 \n",
    "    dlat = lat2 - lat1 \n",
    "    a = sin(dlat/2)**2 + cos(lat1) * cos(lat2) * sin(dlon/2)**2\n",
    "    c = 2 * asin(sqrt(a)) \n",
    "    r = 6371 # Radius of earth in kilometers. Use 3956 for miles\n",
    "    return (c * r)*1000 # return the distance in m"
   ]
  },
  {
   "cell_type": "code",
   "execution_count": 18,
   "metadata": {
    "collapsed": true
   },
   "outputs": [],
   "source": [
    "\"\"\"\n",
    "funcion que dado un vector de lat, long y un punto A(lat,long), me devuelve un vector con\n",
    "la distancia de cada par al punto A\n",
    " \"\"\"\n",
    "def vector_distancia(vector, point):\n",
    "    vector_distance = []\n",
    "    lat2 = point[0]\n",
    "    long2 = point[1]\n",
    "    for item in vector:\n",
    "        lat1 = item[1]\n",
    "        long1 = item[2]\n",
    "        distance = haversine(long2, lat2, long1, lat1)\n",
    "        latlon = (item[1], item[2])\n",
    "        vector_distance.insert(len(vector_distance), [item[0],latlon, distance])\n",
    "    df_vector_distance = pd.DataFrame(vector_distance, columns=['timestamp', 'latlon', 'distance'])\n",
    "    return df_vector_distance   "
   ]
  },
  {
   "cell_type": "code",
   "execution_count": 19,
   "metadata": {
    "collapsed": false
   },
   "outputs": [
    {
     "data": {
      "text/html": [
       "<div>\n",
       "<table border=\"1\" class=\"dataframe\">\n",
       "  <thead>\n",
       "    <tr style=\"text-align: right;\">\n",
       "      <th></th>\n",
       "      <th>timestamp</th>\n",
       "      <th>latlon</th>\n",
       "      <th>distance</th>\n",
       "    </tr>\n",
       "  </thead>\n",
       "  <tbody>\n",
       "    <tr>\n",
       "      <th>0</th>\n",
       "      <td>17-08-2015 05:54:18</td>\n",
       "      <td>(-22.904316, -43.19215)</td>\n",
       "      <td>79.633137</td>\n",
       "    </tr>\n",
       "    <tr>\n",
       "      <th>1</th>\n",
       "      <td>17-08-2015 05:54:53</td>\n",
       "      <td>(-22.904316, -43.192158)</td>\n",
       "      <td>80.110213</td>\n",
       "    </tr>\n",
       "    <tr>\n",
       "      <th>2</th>\n",
       "      <td>17-08-2015 05:56:03</td>\n",
       "      <td>(-22.904242, -43.191978)</td>\n",
       "      <td>78.511921</td>\n",
       "    </tr>\n",
       "    <tr>\n",
       "      <th>3</th>\n",
       "      <td>17-08-2015 05:57:13</td>\n",
       "      <td>(-22.904234, -43.191998)</td>\n",
       "      <td>80.099599</td>\n",
       "    </tr>\n",
       "    <tr>\n",
       "      <th>4</th>\n",
       "      <td>17-08-2015 05:58:23</td>\n",
       "      <td>(-22.904236, -43.191406)</td>\n",
       "      <td>79.738404</td>\n",
       "    </tr>\n",
       "    <tr>\n",
       "      <th>5</th>\n",
       "      <td>17-08-2015 05:58:58</td>\n",
       "      <td>(-22.904127, -43.190872)</td>\n",
       "      <td>120.750978</td>\n",
       "    </tr>\n",
       "    <tr>\n",
       "      <th>6</th>\n",
       "      <td>17-08-2015 06:00:08</td>\n",
       "      <td>(-22.903404, -43.188705)</td>\n",
       "      <td>348.970652</td>\n",
       "    </tr>\n",
       "    <tr>\n",
       "      <th>7</th>\n",
       "      <td>17-08-2015 06:01:18</td>\n",
       "      <td>(-22.901686, -43.184101)</td>\n",
       "      <td>856.479939</td>\n",
       "    </tr>\n",
       "    <tr>\n",
       "      <th>8</th>\n",
       "      <td>17-08-2015 06:01:53</td>\n",
       "      <td>(-22.900238, -43.181408)</td>\n",
       "      <td>1174.763584</td>\n",
       "    </tr>\n",
       "    <tr>\n",
       "      <th>9</th>\n",
       "      <td>17-08-2015 06:03:03</td>\n",
       "      <td>(-22.900347, -43.179222)</td>\n",
       "      <td>1374.728253</td>\n",
       "    </tr>\n",
       "    <tr>\n",
       "      <th>10</th>\n",
       "      <td>17-08-2015 06:04:13</td>\n",
       "      <td>(-22.90036, -43.179195)</td>\n",
       "      <td>1376.769096</td>\n",
       "    </tr>\n",
       "    <tr>\n",
       "      <th>11</th>\n",
       "      <td>17-08-2015 06:05:23</td>\n",
       "      <td>(-22.902325, -43.178417)</td>\n",
       "      <td>1390.358761</td>\n",
       "    </tr>\n",
       "    <tr>\n",
       "      <th>12</th>\n",
       "      <td>17-08-2015 06:05:58</td>\n",
       "      <td>(-22.903921, -43.177639)</td>\n",
       "      <td>1444.345679</td>\n",
       "    </tr>\n",
       "    <tr>\n",
       "      <th>13</th>\n",
       "      <td>17-08-2015 06:07:08</td>\n",
       "      <td>(-22.907051, -43.176929)</td>\n",
       "      <td>1531.733013</td>\n",
       "    </tr>\n",
       "    <tr>\n",
       "      <th>14</th>\n",
       "      <td>17-08-2015 06:08:18</td>\n",
       "      <td>(-22.907341, -43.176788)</td>\n",
       "      <td>1551.314041</td>\n",
       "    </tr>\n",
       "    <tr>\n",
       "      <th>15</th>\n",
       "      <td>17-08-2015 06:08:53</td>\n",
       "      <td>(-22.909622, -43.17569)</td>\n",
       "      <td>1721.844581</td>\n",
       "    </tr>\n",
       "    <tr>\n",
       "      <th>16</th>\n",
       "      <td>17-08-2015 06:10:03</td>\n",
       "      <td>(-22.911316, -43.175236)</td>\n",
       "      <td>1831.030132</td>\n",
       "    </tr>\n",
       "    <tr>\n",
       "      <th>17</th>\n",
       "      <td>17-08-2015 06:11:13</td>\n",
       "      <td>(-22.914371, -43.175732)</td>\n",
       "      <td>1945.238045</td>\n",
       "    </tr>\n",
       "    <tr>\n",
       "      <th>18</th>\n",
       "      <td>17-08-2015 06:12:23</td>\n",
       "      <td>(-22.916267, -43.176235)</td>\n",
       "      <td>2026.462470</td>\n",
       "    </tr>\n",
       "    <tr>\n",
       "      <th>19</th>\n",
       "      <td>17-08-2015 06:13:20</td>\n",
       "      <td>(-22.924015, -43.172386)</td>\n",
       "      <td>2903.578206</td>\n",
       "    </tr>\n",
       "    <tr>\n",
       "      <th>20</th>\n",
       "      <td>17-08-2015 06:13:55</td>\n",
       "      <td>(-22.924885, -43.172707)</td>\n",
       "      <td>2953.362377</td>\n",
       "    </tr>\n",
       "    <tr>\n",
       "      <th>21</th>\n",
       "      <td>17-08-2015 06:15:05</td>\n",
       "      <td>(-22.930862, -43.174278)</td>\n",
       "      <td>3393.767613</td>\n",
       "    </tr>\n",
       "    <tr>\n",
       "      <th>22</th>\n",
       "      <td>17-08-2015 06:16:15</td>\n",
       "      <td>(-22.935455, -43.174213)</td>\n",
       "      <td>3840.691486</td>\n",
       "    </tr>\n",
       "    <tr>\n",
       "      <th>23</th>\n",
       "      <td>17-08-2015 06:17:25</td>\n",
       "      <td>(-22.939671, -43.174751)</td>\n",
       "      <td>4238.136562</td>\n",
       "    </tr>\n",
       "    <tr>\n",
       "      <th>24</th>\n",
       "      <td>17-08-2015 06:17:59</td>\n",
       "      <td>(-22.940947, -43.176037)</td>\n",
       "      <td>4317.311384</td>\n",
       "    </tr>\n",
       "    <tr>\n",
       "      <th>25</th>\n",
       "      <td>17-08-2015 06:19:10</td>\n",
       "      <td>(-22.94199, -43.180271)</td>\n",
       "      <td>4287.099228</td>\n",
       "    </tr>\n",
       "    <tr>\n",
       "      <th>26</th>\n",
       "      <td>17-08-2015 06:20:20</td>\n",
       "      <td>(-22.946312, -43.182598)</td>\n",
       "      <td>4698.205005</td>\n",
       "    </tr>\n",
       "    <tr>\n",
       "      <th>27</th>\n",
       "      <td>17-08-2015 06:20:55</td>\n",
       "      <td>(-22.947227, -43.182518)</td>\n",
       "      <td>4799.565998</td>\n",
       "    </tr>\n",
       "    <tr>\n",
       "      <th>28</th>\n",
       "      <td>17-08-2015 06:22:05</td>\n",
       "      <td>(-22.94939, -43.184944)</td>\n",
       "      <td>4995.210886</td>\n",
       "    </tr>\n",
       "    <tr>\n",
       "      <th>29</th>\n",
       "      <td>17-08-2015 06:23:15</td>\n",
       "      <td>(-22.95005, -43.189297)</td>\n",
       "      <td>5026.478784</td>\n",
       "    </tr>\n",
       "    <tr>\n",
       "      <th>...</th>\n",
       "      <td>...</td>\n",
       "      <td>...</td>\n",
       "      <td>...</td>\n",
       "    </tr>\n",
       "    <tr>\n",
       "      <th>637</th>\n",
       "      <td>17-08-2015 17:14:33</td>\n",
       "      <td>(-22.904526, -43.192486)</td>\n",
       "      <td>90.614687</td>\n",
       "    </tr>\n",
       "    <tr>\n",
       "      <th>638</th>\n",
       "      <td>17-08-2015 17:15:43</td>\n",
       "      <td>(-22.904579, -43.192348)</td>\n",
       "      <td>75.361889</td>\n",
       "    </tr>\n",
       "    <tr>\n",
       "      <th>639</th>\n",
       "      <td>17-08-2015 17:16:53</td>\n",
       "      <td>(-22.904552, -43.192348)</td>\n",
       "      <td>76.829368</td>\n",
       "    </tr>\n",
       "    <tr>\n",
       "      <th>640</th>\n",
       "      <td>17-08-2015 17:18:03</td>\n",
       "      <td>(-22.904543, -43.192387)</td>\n",
       "      <td>80.792567</td>\n",
       "    </tr>\n",
       "    <tr>\n",
       "      <th>641</th>\n",
       "      <td>17-08-2015 17:19:13</td>\n",
       "      <td>(-22.904509, -43.192387)</td>\n",
       "      <td>82.715713</td>\n",
       "    </tr>\n",
       "    <tr>\n",
       "      <th>642</th>\n",
       "      <td>17-08-2015 17:19:48</td>\n",
       "      <td>(-22.904308, -43.191669)</td>\n",
       "      <td>65.903933</td>\n",
       "    </tr>\n",
       "    <tr>\n",
       "      <th>643</th>\n",
       "      <td>17-08-2015 17:20:58</td>\n",
       "      <td>(-22.902525, -43.191376)</td>\n",
       "      <td>266.165002</td>\n",
       "    </tr>\n",
       "    <tr>\n",
       "      <th>644</th>\n",
       "      <td>17-08-2015 17:23:53</td>\n",
       "      <td>(-22.897791, -43.195656)</td>\n",
       "      <td>888.292836</td>\n",
       "    </tr>\n",
       "    <tr>\n",
       "      <th>645</th>\n",
       "      <td>17-08-2015 17:25:03</td>\n",
       "      <td>(-22.897703, -43.195751)</td>\n",
       "      <td>901.449331</td>\n",
       "    </tr>\n",
       "    <tr>\n",
       "      <th>646</th>\n",
       "      <td>17-08-2015 17:26:12</td>\n",
       "      <td>(-22.89727, -43.19611)</td>\n",
       "      <td>961.176782</td>\n",
       "    </tr>\n",
       "    <tr>\n",
       "      <th>647</th>\n",
       "      <td>17-08-2015 17:27:23</td>\n",
       "      <td>(-22.89706, -43.196278)</td>\n",
       "      <td>989.884738</td>\n",
       "    </tr>\n",
       "    <tr>\n",
       "      <th>648</th>\n",
       "      <td>17-08-2015 17:27:58</td>\n",
       "      <td>(-22.896589, -43.196663)</td>\n",
       "      <td>1054.736729</td>\n",
       "    </tr>\n",
       "    <tr>\n",
       "      <th>649</th>\n",
       "      <td>17-08-2015 17:29:08</td>\n",
       "      <td>(-22.896469, -43.196747)</td>\n",
       "      <td>1070.575693</td>\n",
       "    </tr>\n",
       "    <tr>\n",
       "      <th>650</th>\n",
       "      <td>17-08-2015 17:30:18</td>\n",
       "      <td>(-22.895798, -43.196609)</td>\n",
       "      <td>1130.123878</td>\n",
       "    </tr>\n",
       "    <tr>\n",
       "      <th>651</th>\n",
       "      <td>17-08-2015 17:30:53</td>\n",
       "      <td>(-22.895796, -43.196629)</td>\n",
       "      <td>1131.235880</td>\n",
       "    </tr>\n",
       "    <tr>\n",
       "      <th>652</th>\n",
       "      <td>17-08-2015 17:32:03</td>\n",
       "      <td>(-22.89514, -43.196533)</td>\n",
       "      <td>1192.840647</td>\n",
       "    </tr>\n",
       "    <tr>\n",
       "      <th>653</th>\n",
       "      <td>17-08-2015 17:33:12</td>\n",
       "      <td>(-22.895082, -43.196556)</td>\n",
       "      <td>1199.686221</td>\n",
       "    </tr>\n",
       "    <tr>\n",
       "      <th>654</th>\n",
       "      <td>17-08-2015 17:34:23</td>\n",
       "      <td>(-22.894043, -43.196823)</td>\n",
       "      <td>1316.360939</td>\n",
       "    </tr>\n",
       "    <tr>\n",
       "      <th>655</th>\n",
       "      <td>17-08-2015 17:34:58</td>\n",
       "      <td>(-22.894224, -43.197166)</td>\n",
       "      <td>1312.525871</td>\n",
       "    </tr>\n",
       "    <tr>\n",
       "      <th>656</th>\n",
       "      <td>17-08-2015 17:36:08</td>\n",
       "      <td>(-22.894691, -43.198223)</td>\n",
       "      <td>1317.228531</td>\n",
       "    </tr>\n",
       "    <tr>\n",
       "      <th>657</th>\n",
       "      <td>17-08-2015 17:37:18</td>\n",
       "      <td>(-22.895046, -43.199192)</td>\n",
       "      <td>1337.727780</td>\n",
       "    </tr>\n",
       "    <tr>\n",
       "      <th>658</th>\n",
       "      <td>17-08-2015 17:37:53</td>\n",
       "      <td>(-22.895069, -43.199665)</td>\n",
       "      <td>1364.048110</td>\n",
       "    </tr>\n",
       "    <tr>\n",
       "      <th>659</th>\n",
       "      <td>17-08-2015 17:39:03</td>\n",
       "      <td>(-22.895361, -43.200428)</td>\n",
       "      <td>1387.201630</td>\n",
       "    </tr>\n",
       "    <tr>\n",
       "      <th>660</th>\n",
       "      <td>17-08-2015 17:40:48</td>\n",
       "      <td>(-22.896517, -43.203045)</td>\n",
       "      <td>1489.737243</td>\n",
       "    </tr>\n",
       "    <tr>\n",
       "      <th>661</th>\n",
       "      <td>17-08-2015 17:41:58</td>\n",
       "      <td>(-22.896784, -43.203659)</td>\n",
       "      <td>1521.503620</td>\n",
       "    </tr>\n",
       "    <tr>\n",
       "      <th>662</th>\n",
       "      <td>17-08-2015 17:43:08</td>\n",
       "      <td>(-22.897011, -43.204262)</td>\n",
       "      <td>1557.300817</td>\n",
       "    </tr>\n",
       "    <tr>\n",
       "      <th>663</th>\n",
       "      <td>17-08-2015 17:44:17</td>\n",
       "      <td>(-22.897182, -43.204628)</td>\n",
       "      <td>1577.995291</td>\n",
       "    </tr>\n",
       "    <tr>\n",
       "      <th>664</th>\n",
       "      <td>17-08-2015 17:44:53</td>\n",
       "      <td>(-22.89728, -43.204823)</td>\n",
       "      <td>1588.956076</td>\n",
       "    </tr>\n",
       "    <tr>\n",
       "      <th>665</th>\n",
       "      <td>17-08-2015 17:46:03</td>\n",
       "      <td>(-22.899874, -43.208382)</td>\n",
       "      <td>1797.797629</td>\n",
       "    </tr>\n",
       "    <tr>\n",
       "      <th>666</th>\n",
       "      <td>17-08-2015 17:47:12</td>\n",
       "      <td>(-22.900831, -43.208466)</td>\n",
       "      <td>1775.926687</td>\n",
       "    </tr>\n",
       "  </tbody>\n",
       "</table>\n",
       "<p>667 rows × 3 columns</p>\n",
       "</div>"
      ],
      "text/plain": [
       "               timestamp                    latlon     distance\n",
       "0    17-08-2015 05:54:18   (-22.904316, -43.19215)    79.633137\n",
       "1    17-08-2015 05:54:53  (-22.904316, -43.192158)    80.110213\n",
       "2    17-08-2015 05:56:03  (-22.904242, -43.191978)    78.511921\n",
       "3    17-08-2015 05:57:13  (-22.904234, -43.191998)    80.099599\n",
       "4    17-08-2015 05:58:23  (-22.904236, -43.191406)    79.738404\n",
       "5    17-08-2015 05:58:58  (-22.904127, -43.190872)   120.750978\n",
       "6    17-08-2015 06:00:08  (-22.903404, -43.188705)   348.970652\n",
       "7    17-08-2015 06:01:18  (-22.901686, -43.184101)   856.479939\n",
       "8    17-08-2015 06:01:53  (-22.900238, -43.181408)  1174.763584\n",
       "9    17-08-2015 06:03:03  (-22.900347, -43.179222)  1374.728253\n",
       "10   17-08-2015 06:04:13   (-22.90036, -43.179195)  1376.769096\n",
       "11   17-08-2015 06:05:23  (-22.902325, -43.178417)  1390.358761\n",
       "12   17-08-2015 06:05:58  (-22.903921, -43.177639)  1444.345679\n",
       "13   17-08-2015 06:07:08  (-22.907051, -43.176929)  1531.733013\n",
       "14   17-08-2015 06:08:18  (-22.907341, -43.176788)  1551.314041\n",
       "15   17-08-2015 06:08:53   (-22.909622, -43.17569)  1721.844581\n",
       "16   17-08-2015 06:10:03  (-22.911316, -43.175236)  1831.030132\n",
       "17   17-08-2015 06:11:13  (-22.914371, -43.175732)  1945.238045\n",
       "18   17-08-2015 06:12:23  (-22.916267, -43.176235)  2026.462470\n",
       "19   17-08-2015 06:13:20  (-22.924015, -43.172386)  2903.578206\n",
       "20   17-08-2015 06:13:55  (-22.924885, -43.172707)  2953.362377\n",
       "21   17-08-2015 06:15:05  (-22.930862, -43.174278)  3393.767613\n",
       "22   17-08-2015 06:16:15  (-22.935455, -43.174213)  3840.691486\n",
       "23   17-08-2015 06:17:25  (-22.939671, -43.174751)  4238.136562\n",
       "24   17-08-2015 06:17:59  (-22.940947, -43.176037)  4317.311384\n",
       "25   17-08-2015 06:19:10   (-22.94199, -43.180271)  4287.099228\n",
       "26   17-08-2015 06:20:20  (-22.946312, -43.182598)  4698.205005\n",
       "27   17-08-2015 06:20:55  (-22.947227, -43.182518)  4799.565998\n",
       "28   17-08-2015 06:22:05   (-22.94939, -43.184944)  4995.210886\n",
       "29   17-08-2015 06:23:15   (-22.95005, -43.189297)  5026.478784\n",
       "..                   ...                       ...          ...\n",
       "637  17-08-2015 17:14:33  (-22.904526, -43.192486)    90.614687\n",
       "638  17-08-2015 17:15:43  (-22.904579, -43.192348)    75.361889\n",
       "639  17-08-2015 17:16:53  (-22.904552, -43.192348)    76.829368\n",
       "640  17-08-2015 17:18:03  (-22.904543, -43.192387)    80.792567\n",
       "641  17-08-2015 17:19:13  (-22.904509, -43.192387)    82.715713\n",
       "642  17-08-2015 17:19:48  (-22.904308, -43.191669)    65.903933\n",
       "643  17-08-2015 17:20:58  (-22.902525, -43.191376)   266.165002\n",
       "644  17-08-2015 17:23:53  (-22.897791, -43.195656)   888.292836\n",
       "645  17-08-2015 17:25:03  (-22.897703, -43.195751)   901.449331\n",
       "646  17-08-2015 17:26:12    (-22.89727, -43.19611)   961.176782\n",
       "647  17-08-2015 17:27:23   (-22.89706, -43.196278)   989.884738\n",
       "648  17-08-2015 17:27:58  (-22.896589, -43.196663)  1054.736729\n",
       "649  17-08-2015 17:29:08  (-22.896469, -43.196747)  1070.575693\n",
       "650  17-08-2015 17:30:18  (-22.895798, -43.196609)  1130.123878\n",
       "651  17-08-2015 17:30:53  (-22.895796, -43.196629)  1131.235880\n",
       "652  17-08-2015 17:32:03   (-22.89514, -43.196533)  1192.840647\n",
       "653  17-08-2015 17:33:12  (-22.895082, -43.196556)  1199.686221\n",
       "654  17-08-2015 17:34:23  (-22.894043, -43.196823)  1316.360939\n",
       "655  17-08-2015 17:34:58  (-22.894224, -43.197166)  1312.525871\n",
       "656  17-08-2015 17:36:08  (-22.894691, -43.198223)  1317.228531\n",
       "657  17-08-2015 17:37:18  (-22.895046, -43.199192)  1337.727780\n",
       "658  17-08-2015 17:37:53  (-22.895069, -43.199665)  1364.048110\n",
       "659  17-08-2015 17:39:03  (-22.895361, -43.200428)  1387.201630\n",
       "660  17-08-2015 17:40:48  (-22.896517, -43.203045)  1489.737243\n",
       "661  17-08-2015 17:41:58  (-22.896784, -43.203659)  1521.503620\n",
       "662  17-08-2015 17:43:08  (-22.897011, -43.204262)  1557.300817\n",
       "663  17-08-2015 17:44:17  (-22.897182, -43.204628)  1577.995291\n",
       "664  17-08-2015 17:44:53   (-22.89728, -43.204823)  1588.956076\n",
       "665  17-08-2015 17:46:03  (-22.899874, -43.208382)  1797.797629\n",
       "666  17-08-2015 17:47:12  (-22.900831, -43.208466)  1775.926687\n",
       "\n",
       "[667 rows x 3 columns]"
      ]
     },
     "execution_count": 19,
     "metadata": {},
     "output_type": "execute_result"
    }
   ],
   "source": [
    "dist_to_ini = vector_distancia(myvector, initial_point)\n",
    "sorted_dist_to_ini = dist_to_ini.sort([\"timestamp\"])\n",
    "\n",
    "dist_to_final = vector_distancia(myvector, final_point)\n",
    "sorted_dist_to_final = dist_to_final.sort([\"timestamp\"])\n",
    "sorted_dist_to_final"
   ]
  },
  {
   "cell_type": "code",
   "execution_count": 20,
   "metadata": {
    "collapsed": false
   },
   "outputs": [
    {
     "data": {
      "image/png": "[encoded data removed]",
      "text/plain": [
       "<matplotlib.figure.Figure at 0x7f78e33da150>"
      ]
     },
     "metadata": {},
     "output_type": "display_data"
    }
   ],
   "source": [
    "#ploteando el vector distancia entre cada uno de los puntos del recorrido y el punto inicial Barra\n",
    "%matplotlib inline\n",
    "plt.plot(sorted_dist_to_ini['distance'], color = 'b')\n",
    "plt.show()"
   ]
  },
  {
   "cell_type": "code",
   "execution_count": 21,
   "metadata": {
    "collapsed": false,
    "scrolled": true
   },
   "outputs": [
    {
     "data": {
      "image/png": "[encoded data removed]",
      "text/plain": [
       "<matplotlib.figure.Figure at 0x7f78e14e0810>"
      ]
     },
     "metadata": {},
     "output_type": "display_data"
    }
   ],
   "source": [
    "#ploteando el vector distancia entre cada uno de los puntos del recorrido y el punto final Central\n",
    "%matplotlib inline\n",
    "plt.plot(sorted_dist_to_final['distance'], color = 'g')\n",
    "\n",
    "plt.show()"
   ]
  },
  {
   "cell_type": "code",
   "execution_count": 22,
   "metadata": {
    "collapsed": true
   },
   "outputs": [],
   "source": [
    "df_20150817_line_317_C41405 = df_20150817_line_317[(df_20150817_line_317['bus_id']=='C41405')]\n",
    " \n",
    "#para seleccionar solo algunas columnas del dataframe, en este caso la columna 1, la 4 y la 5\n",
    "important_columns_317_C41405 = df_20150817_line_317_C41405.iloc[:,[0,3,4]]\n",
    "myvectornew = important_columns_317_C41405.values.tolist()"
   ]
  },
  {
   "cell_type": "code",
   "execution_count": 23,
   "metadata": {
    "collapsed": false
   },
   "outputs": [
    {
     "data": {
      "text/html": [
       "<div>\n",
       "<table border=\"1\" class=\"dataframe\">\n",
       "  <thead>\n",
       "    <tr style=\"text-align: right;\">\n",
       "      <th></th>\n",
       "      <th>timestamp</th>\n",
       "      <th>bus_id</th>\n",
       "      <th>line</th>\n",
       "      <th>latitude</th>\n",
       "      <th>longitude</th>\n",
       "      <th>speed</th>\n",
       "    </tr>\n",
       "  </thead>\n",
       "  <tbody>\n",
       "    <tr>\n",
       "      <th>1492280</th>\n",
       "      <td>17-08-2015 10:48:17</td>\n",
       "      <td>C41405</td>\n",
       "      <td>317</td>\n",
       "      <td>-22.904301</td>\n",
       "      <td>-43.189445</td>\n",
       "      <td>41.86</td>\n",
       "    </tr>\n",
       "    <tr>\n",
       "      <th>1493521</th>\n",
       "      <td>17-08-2015 10:48:52</td>\n",
       "      <td>C41405</td>\n",
       "      <td>317</td>\n",
       "      <td>-22.904623</td>\n",
       "      <td>-43.190186</td>\n",
       "      <td>1.11</td>\n",
       "    </tr>\n",
       "    <tr>\n",
       "      <th>1496557</th>\n",
       "      <td>17-08-2015 10:50:02</td>\n",
       "      <td>C41405</td>\n",
       "      <td>317</td>\n",
       "      <td>-22.905161</td>\n",
       "      <td>-43.192055</td>\n",
       "      <td>0.74</td>\n",
       "    </tr>\n",
       "    <tr>\n",
       "      <th>1499833</th>\n",
       "      <td>17-08-2015 10:51:12</td>\n",
       "      <td>C41405</td>\n",
       "      <td>317</td>\n",
       "      <td>-22.905624</td>\n",
       "      <td>-43.193359</td>\n",
       "      <td>14.08</td>\n",
       "    </tr>\n",
       "    <tr>\n",
       "      <th>1503561</th>\n",
       "      <td>17-08-2015 10:52:22</td>\n",
       "      <td>C41405</td>\n",
       "      <td>317</td>\n",
       "      <td>-22.905584</td>\n",
       "      <td>-43.196877</td>\n",
       "      <td>2.96</td>\n",
       "    </tr>\n",
       "    <tr>\n",
       "      <th>1505097</th>\n",
       "      <td>17-08-2015 10:52:57</td>\n",
       "      <td>C41405</td>\n",
       "      <td>317</td>\n",
       "      <td>-22.905588</td>\n",
       "      <td>-43.196854</td>\n",
       "      <td>0.37</td>\n",
       "    </tr>\n",
       "    <tr>\n",
       "      <th>1507732</th>\n",
       "      <td>17-08-2015 10:53:29</td>\n",
       "      <td>C41405</td>\n",
       "      <td>317</td>\n",
       "      <td>-22.905584</td>\n",
       "      <td>-43.196735</td>\n",
       "      <td>0.37</td>\n",
       "    </tr>\n",
       "    <tr>\n",
       "      <th>1523918</th>\n",
       "      <td>17-08-2015 10:58:56</td>\n",
       "      <td>C41405</td>\n",
       "      <td>317</td>\n",
       "      <td>-22.905600</td>\n",
       "      <td>-43.196781</td>\n",
       "      <td>0.00</td>\n",
       "    </tr>\n",
       "    <tr>\n",
       "      <th>1527317</th>\n",
       "      <td>17-08-2015 11:00:06</td>\n",
       "      <td>C41405</td>\n",
       "      <td>317</td>\n",
       "      <td>-22.905586</td>\n",
       "      <td>-43.196770</td>\n",
       "      <td>0.37</td>\n",
       "    </tr>\n",
       "    <tr>\n",
       "      <th>1531657</th>\n",
       "      <td>17-08-2015 11:01:16</td>\n",
       "      <td>C41405</td>\n",
       "      <td>317</td>\n",
       "      <td>-22.905611</td>\n",
       "      <td>-43.196770</td>\n",
       "      <td>0.19</td>\n",
       "    </tr>\n",
       "    <tr>\n",
       "      <th>1615034</th>\n",
       "      <td>17-08-2015 11:28:57</td>\n",
       "      <td>C41405</td>\n",
       "      <td>317</td>\n",
       "      <td>-22.905603</td>\n",
       "      <td>-43.196712</td>\n",
       "      <td>0.37</td>\n",
       "    </tr>\n",
       "    <tr>\n",
       "      <th>1619480</th>\n",
       "      <td>17-08-2015 11:30:07</td>\n",
       "      <td>C41405</td>\n",
       "      <td>317</td>\n",
       "      <td>-22.905600</td>\n",
       "      <td>-43.196697</td>\n",
       "      <td>0.00</td>\n",
       "    </tr>\n",
       "    <tr>\n",
       "      <th>1622630</th>\n",
       "      <td>17-08-2015 11:31:17</td>\n",
       "      <td>C41405</td>\n",
       "      <td>317</td>\n",
       "      <td>-22.905582</td>\n",
       "      <td>-43.196693</td>\n",
       "      <td>0.00</td>\n",
       "    </tr>\n",
       "    <tr>\n",
       "      <th>1700004</th>\n",
       "      <td>17-08-2015 11:58:58</td>\n",
       "      <td>C41405</td>\n",
       "      <td>317</td>\n",
       "      <td>-22.905571</td>\n",
       "      <td>-43.196732</td>\n",
       "      <td>0.00</td>\n",
       "    </tr>\n",
       "    <tr>\n",
       "      <th>1703570</th>\n",
       "      <td>17-08-2015 12:00:08</td>\n",
       "      <td>C41405</td>\n",
       "      <td>317</td>\n",
       "      <td>-22.905603</td>\n",
       "      <td>-43.196732</td>\n",
       "      <td>0.00</td>\n",
       "    </tr>\n",
       "    <tr>\n",
       "      <th>1707379</th>\n",
       "      <td>17-08-2015 12:01:18</td>\n",
       "      <td>C41405</td>\n",
       "      <td>317</td>\n",
       "      <td>-22.905596</td>\n",
       "      <td>-43.196732</td>\n",
       "      <td>0.00</td>\n",
       "    </tr>\n",
       "    <tr>\n",
       "      <th>1784714</th>\n",
       "      <td>17-08-2015 12:28:59</td>\n",
       "      <td>C41405</td>\n",
       "      <td>317</td>\n",
       "      <td>-22.905647</td>\n",
       "      <td>-43.196674</td>\n",
       "      <td>0.19</td>\n",
       "    </tr>\n",
       "    <tr>\n",
       "      <th>1789112</th>\n",
       "      <td>17-08-2015 12:30:09</td>\n",
       "      <td>C41405</td>\n",
       "      <td>317</td>\n",
       "      <td>-22.905655</td>\n",
       "      <td>-43.196705</td>\n",
       "      <td>0.19</td>\n",
       "    </tr>\n",
       "    <tr>\n",
       "      <th>1792837</th>\n",
       "      <td>17-08-2015 12:31:19</td>\n",
       "      <td>C41405</td>\n",
       "      <td>317</td>\n",
       "      <td>-22.905563</td>\n",
       "      <td>-43.196751</td>\n",
       "      <td>0.00</td>\n",
       "    </tr>\n",
       "    <tr>\n",
       "      <th>1871815</th>\n",
       "      <td>17-08-2015 12:59:00</td>\n",
       "      <td>C41405</td>\n",
       "      <td>317</td>\n",
       "      <td>-22.905569</td>\n",
       "      <td>-43.196812</td>\n",
       "      <td>0.00</td>\n",
       "    </tr>\n",
       "    <tr>\n",
       "      <th>1875855</th>\n",
       "      <td>17-08-2015 13:00:10</td>\n",
       "      <td>C41405</td>\n",
       "      <td>317</td>\n",
       "      <td>-22.905596</td>\n",
       "      <td>-43.196819</td>\n",
       "      <td>0.00</td>\n",
       "    </tr>\n",
       "    <tr>\n",
       "      <th>1879793</th>\n",
       "      <td>17-08-2015 13:01:20</td>\n",
       "      <td>C41405</td>\n",
       "      <td>317</td>\n",
       "      <td>-22.905544</td>\n",
       "      <td>-43.196804</td>\n",
       "      <td>0.00</td>\n",
       "    </tr>\n",
       "    <tr>\n",
       "      <th>1884244</th>\n",
       "      <td>17-08-2015 13:02:41</td>\n",
       "      <td>C41405</td>\n",
       "      <td>317</td>\n",
       "      <td>-22.905577</td>\n",
       "      <td>-43.196815</td>\n",
       "      <td>0.00</td>\n",
       "    </tr>\n",
       "    <tr>\n",
       "      <th>1890914</th>\n",
       "      <td>17-08-2015 13:05:03</td>\n",
       "      <td>C41405</td>\n",
       "      <td>317</td>\n",
       "      <td>-22.905560</td>\n",
       "      <td>-43.196770</td>\n",
       "      <td>0.00</td>\n",
       "    </tr>\n",
       "    <tr>\n",
       "      <th>1894326</th>\n",
       "      <td>17-08-2015 13:07:58</td>\n",
       "      <td>C41405</td>\n",
       "      <td>317</td>\n",
       "      <td>-22.905546</td>\n",
       "      <td>-43.196758</td>\n",
       "      <td>0.19</td>\n",
       "    </tr>\n",
       "  </tbody>\n",
       "</table>\n",
       "</div>"
      ],
      "text/plain": [
       "                   timestamp  bus_id line   latitude  longitude  speed\n",
       "1492280  17-08-2015 10:48:17  C41405  317 -22.904301 -43.189445  41.86\n",
       "1493521  17-08-2015 10:48:52  C41405  317 -22.904623 -43.190186   1.11\n",
       "1496557  17-08-2015 10:50:02  C41405  317 -22.905161 -43.192055   0.74\n",
       "1499833  17-08-2015 10:51:12  C41405  317 -22.905624 -43.193359  14.08\n",
       "1503561  17-08-2015 10:52:22  C41405  317 -22.905584 -43.196877   2.96\n",
       "1505097  17-08-2015 10:52:57  C41405  317 -22.905588 -43.196854   0.37\n",
       "1507732  17-08-2015 10:53:29  C41405  317 -22.905584 -43.196735   0.37\n",
       "1523918  17-08-2015 10:58:56  C41405  317 -22.905600 -43.196781   0.00\n",
       "1527317  17-08-2015 11:00:06  C41405  317 -22.905586 -43.196770   0.37\n",
       "1531657  17-08-2015 11:01:16  C41405  317 -22.905611 -43.196770   0.19\n",
       "1615034  17-08-2015 11:28:57  C41405  317 -22.905603 -43.196712   0.37\n",
       "1619480  17-08-2015 11:30:07  C41405  317 -22.905600 -43.196697   0.00\n",
       "1622630  17-08-2015 11:31:17  C41405  317 -22.905582 -43.196693   0.00\n",
       "1700004  17-08-2015 11:58:58  C41405  317 -22.905571 -43.196732   0.00\n",
       "1703570  17-08-2015 12:00:08  C41405  317 -22.905603 -43.196732   0.00\n",
       "1707379  17-08-2015 12:01:18  C41405  317 -22.905596 -43.196732   0.00\n",
       "1784714  17-08-2015 12:28:59  C41405  317 -22.905647 -43.196674   0.19\n",
       "1789112  17-08-2015 12:30:09  C41405  317 -22.905655 -43.196705   0.19\n",
       "1792837  17-08-2015 12:31:19  C41405  317 -22.905563 -43.196751   0.00\n",
       "1871815  17-08-2015 12:59:00  C41405  317 -22.905569 -43.196812   0.00\n",
       "1875855  17-08-2015 13:00:10  C41405  317 -22.905596 -43.196819   0.00\n",
       "1879793  17-08-2015 13:01:20  C41405  317 -22.905544 -43.196804   0.00\n",
       "1884244  17-08-2015 13:02:41  C41405  317 -22.905577 -43.196815   0.00\n",
       "1890914  17-08-2015 13:05:03  C41405  317 -22.905560 -43.196770   0.00\n",
       "1894326  17-08-2015 13:07:58  C41405  317 -22.905546 -43.196758   0.19"
      ]
     },
     "execution_count": 23,
     "metadata": {},
     "output_type": "execute_result"
    }
   ],
   "source": [
    "list_317_C41405_ok = df_20150817_line_317_C41405[(df_20150817_line_317_C41405['timestamp'] > '17-08-2015 10:48:05')& (df_20150817_line_317_C41405['timestamp'] < '17-08-2015 13:08:05')]\n",
    "\n",
    "list_317_C41405_ok"
   ]
  },
  {
   "cell_type": "code",
   "execution_count": 24,
   "metadata": {
    "collapsed": false
   },
   "outputs": [],
   "source": [
    "dist_to_ini_317_C41405 = vector_distancia(myvectornew, initial_point)\n",
    "sorted_dist_to_ini_317_C41405 = dist_to_ini_317_C41405.sort([\"timestamp\"])\n",
    "\n",
    "dist_to_final_317_C41405 = vector_distancia(myvectornew, final_point)\n",
    "sorted_dist_to_final_317_C41405 = dist_to_final_317_C41405.sort([\"timestamp\"])\n",
    "\n"
   ]
  },
  {
   "cell_type": "code",
   "execution_count": 25,
   "metadata": {
    "collapsed": false
   },
   "outputs": [
    {
     "data": {
      "image/png": "[encoded data removed]",
      "text/plain": [
       "<matplotlib.figure.Figure at 0x7f78e26fe410>"
      ]
     },
     "metadata": {},
     "output_type": "display_data"
    }
   ],
   "source": [
    "#distancia a barra\n",
    "%matplotlib inline\n",
    "plt.plot(sorted_dist_to_ini_317_C41405['distance'], color = 'b')\n",
    "plt.show() "
   ]
  },
  {
   "cell_type": "code",
   "execution_count": 26,
   "metadata": {
    "collapsed": false,
    "scrolled": false
   },
   "outputs": [
    {
     "data": {
      "image/png": "[encoded data removed]",
      "text/plain": [
       "<matplotlib.figure.Figure at 0x7f78e14e0450>"
      ]
     },
     "metadata": {},
     "output_type": "display_data"
    }
   ],
   "source": [
    "#ploteando el vector distancia entre cada uno de los puntos del recorrido y el punto final Central\n",
    "%matplotlib inline\n",
    "plt.plot(sorted_dist_to_final_317_C41405['distance'], color = 'g')\n",
    "\n",
    "plt.show()"
   ]
  },
  {
   "cell_type": "code",
   "execution_count": 27,
   "metadata": {
    "collapsed": true
   },
   "outputs": [],
   "source": [
    "def days_hours_minutes(travel_time):\n",
    "    hours = travel_time.seconds//3600 \n",
    "    minutes = (travel_time.seconds//60)%60\n",
    "    #print '%d hours, %d minutes' % (hours,minutes)\n",
    "    if minutes < 10:\n",
    "        minutes = str(0)+str(minutes)\n",
    "    return str(hours) + \":\"+ str(minutes)"
   ]
  },
  {
   "cell_type": "code",
   "execution_count": 28,
   "metadata": {
    "collapsed": false
   },
   "outputs": [
    {
     "data": {
      "text/plain": [
       "{dtype('float64'): ['distance'], dtype('O'): ['timestamp', 'latlon']}"
      ]
     },
     "execution_count": 28,
     "metadata": {},
     "output_type": "execute_result"
    }
   ],
   "source": [
    "#para saber el tipo de dato que almacena una columna         \n",
    "\n",
    "g = sorted_dist_to_final_317_C41405.columns.to_series().groupby(sorted_dist_to_final_317_C41405.dtypes).groups\n",
    "g"
   ]
  },
  {
   "cell_type": "code",
   "execution_count": 29,
   "metadata": {
    "collapsed": false
   },
   "outputs": [],
   "source": [
    "#convirtiendo la columna timestamp en tipo datetime\n",
    "set_of_times = sorted_dist_to_final_317_C41405['timestamp']\n",
    "mytimestamp_list = []\n",
    "for i in range(0, len(sorted_dist_to_final_317_C41405)-1):\n",
    "    #ddist = set_of_points[i+1]-set_of_points[i]\n",
    "\n",
    "    #time1 = datetime.datetime.strptime(set_of_times[i+1], \"%d-%m-%Y %H:%M:%S\")\n",
    "    time0 = datetime.datetime.strptime(set_of_times[i], \"%d-%m-%Y %H:%M:%S\")\n",
    "    #dtime = (time1-time0).total_seconds()/60\n",
    "    #gradient = ddist/dtime\n",
    "    mytimestamp_list.insert (len(mytimestamp_list), time0)\n",
    "#convertir la lista \"mytimestamp_list\" a dataframe\n",
    "df_mytimestamp_list = pd.DataFrame(mytimestamp_list, columns=['timestamp'])\n"
   ]
  },
  {
   "cell_type": "code",
   "execution_count": 30,
   "metadata": {
    "collapsed": false,
    "scrolled": true
   },
   "outputs": [
    {
     "data": {
      "image/png": "[encoded data removed]",
      "text/plain": [
       "<matplotlib.figure.Figure at 0x7f79043219d0>"
      ]
     },
     "metadata": {},
     "output_type": "display_data"
    }
   ],
   "source": [
    "\n",
    "#calcular el gradiente(pendiente) = 0 para saber los conjuntos de maximos y minimos\n",
    "set_of_points = sorted_dist_to_final_317_C41405['distance']\n",
    "set_of_times = sorted_dist_to_final_317_C41405['timestamp']\n",
    "\n",
    "gradient_list = []\n",
    "gradient_matrix = [] #matriz que tiene 4 columnas tiempo1, tiempo2,distancia1, distancia2, pendiente \n",
    "#con los que se calcula la pendiente\n",
    "for i in range(0, len(sorted_dist_to_final_317_C41405)-2):\n",
    "    ddist = set_of_points[i+1]-set_of_points[i]\n",
    "\n",
    "    time1 = datetime.datetime.strptime(set_of_times[i+1], \"%d-%m-%Y %H:%M:%S\")\n",
    "    time0 = datetime.datetime.strptime(set_of_times[i], \"%d-%m-%Y %H:%M:%S\")\n",
    "    dtime = (time1-time0).total_seconds()/60\n",
    "    gradient = ddist/dtime\n",
    "    gradient_list.insert (len(gradient_list), gradient)\n",
    "    gradient_matrix.insert (len(gradient_matrix), [set_of_points[i], set_of_points[i+1],time0, time1, gradient ]) \n",
    "    df_gradient_matrix = pd.DataFrame(gradient_matrix, columns=['d1','d2','t1', 't2', 'pendiente'])\n",
    "\n",
    "%matplotlib inline\n",
    "\n",
    "plt.plot(gradient_list, color = 'r')\n",
    "\n",
    "plt.show()    \n"
   ]
  },
  {
   "cell_type": "code",
   "execution_count": 31,
   "metadata": {
    "collapsed": false
   },
   "outputs": [
    {
     "data": {
      "text/html": [
       "<div>\n",
       "<table border=\"1\" class=\"dataframe\">\n",
       "  <thead>\n",
       "    <tr style=\"text-align: right;\">\n",
       "      <th></th>\n",
       "      <th>d1</th>\n",
       "      <th>d2</th>\n",
       "      <th>t1</th>\n",
       "      <th>t2</th>\n",
       "      <th>pendiente</th>\n",
       "    </tr>\n",
       "  </thead>\n",
       "  <tbody>\n",
       "    <tr>\n",
       "      <th>37</th>\n",
       "      <td>9988.740912</td>\n",
       "      <td>9988.740912</td>\n",
       "      <td>2015-08-17 07:32:11</td>\n",
       "      <td>2015-08-17 07:32:46</td>\n",
       "      <td>0</td>\n",
       "    </tr>\n",
       "    <tr>\n",
       "      <th>38</th>\n",
       "      <td>9988.740912</td>\n",
       "      <td>9988.740912</td>\n",
       "      <td>2015-08-17 07:32:46</td>\n",
       "      <td>2015-08-17 07:33:56</td>\n",
       "      <td>0</td>\n",
       "    </tr>\n",
       "    <tr>\n",
       "      <th>39</th>\n",
       "      <td>9988.740912</td>\n",
       "      <td>9988.740912</td>\n",
       "      <td>2015-08-17 07:33:56</td>\n",
       "      <td>2015-08-17 07:35:06</td>\n",
       "      <td>0</td>\n",
       "    </tr>\n",
       "    <tr>\n",
       "      <th>40</th>\n",
       "      <td>9988.740912</td>\n",
       "      <td>9988.740912</td>\n",
       "      <td>2015-08-17 07:35:06</td>\n",
       "      <td>2015-08-17 07:36:16</td>\n",
       "      <td>0</td>\n",
       "    </tr>\n",
       "    <tr>\n",
       "      <th>41</th>\n",
       "      <td>9988.740912</td>\n",
       "      <td>9988.740912</td>\n",
       "      <td>2015-08-17 07:36:16</td>\n",
       "      <td>2015-08-17 07:39:11</td>\n",
       "      <td>0</td>\n",
       "    </tr>\n",
       "    <tr>\n",
       "      <th>42</th>\n",
       "      <td>9988.740912</td>\n",
       "      <td>9988.740912</td>\n",
       "      <td>2015-08-17 07:39:11</td>\n",
       "      <td>2015-08-17 07:42:06</td>\n",
       "      <td>0</td>\n",
       "    </tr>\n",
       "    <tr>\n",
       "      <th>139</th>\n",
       "      <td>11393.498409</td>\n",
       "      <td>11393.498409</td>\n",
       "      <td>2015-08-17 09:24:52</td>\n",
       "      <td>2015-08-17 09:26:02</td>\n",
       "      <td>0</td>\n",
       "    </tr>\n",
       "    <tr>\n",
       "      <th>140</th>\n",
       "      <td>11393.498409</td>\n",
       "      <td>11393.498409</td>\n",
       "      <td>2015-08-17 09:26:02</td>\n",
       "      <td>2015-08-17 09:27:12</td>\n",
       "      <td>0</td>\n",
       "    </tr>\n",
       "    <tr>\n",
       "      <th>252</th>\n",
       "      <td>1782.837968</td>\n",
       "      <td>1782.837968</td>\n",
       "      <td>2015-08-17 13:16:08</td>\n",
       "      <td>2015-08-17 13:17:18</td>\n",
       "      <td>0</td>\n",
       "    </tr>\n",
       "    <tr>\n",
       "      <th>253</th>\n",
       "      <td>1782.837968</td>\n",
       "      <td>1782.837968</td>\n",
       "      <td>2015-08-17 13:17:18</td>\n",
       "      <td>2015-08-17 13:17:53</td>\n",
       "      <td>0</td>\n",
       "    </tr>\n",
       "    <tr>\n",
       "      <th>337</th>\n",
       "      <td>14356.042384</td>\n",
       "      <td>14356.042384</td>\n",
       "      <td>2015-08-17 14:51:46</td>\n",
       "      <td>2015-08-17 14:52:56</td>\n",
       "      <td>0</td>\n",
       "    </tr>\n",
       "    <tr>\n",
       "      <th>361</th>\n",
       "      <td>7490.989676</td>\n",
       "      <td>7490.989676</td>\n",
       "      <td>2015-08-17 15:56:00</td>\n",
       "      <td>2015-08-17 15:57:10</td>\n",
       "      <td>0</td>\n",
       "    </tr>\n",
       "    <tr>\n",
       "      <th>362</th>\n",
       "      <td>7490.989676</td>\n",
       "      <td>7490.989676</td>\n",
       "      <td>2015-08-17 15:57:10</td>\n",
       "      <td>2015-08-17 15:57:45</td>\n",
       "      <td>0</td>\n",
       "    </tr>\n",
       "    <tr>\n",
       "      <th>363</th>\n",
       "      <td>7490.989676</td>\n",
       "      <td>7490.989676</td>\n",
       "      <td>2015-08-17 15:57:45</td>\n",
       "      <td>2015-08-17 15:58:55</td>\n",
       "      <td>0</td>\n",
       "    </tr>\n",
       "    <tr>\n",
       "      <th>364</th>\n",
       "      <td>7490.989676</td>\n",
       "      <td>7490.989676</td>\n",
       "      <td>2015-08-17 15:58:55</td>\n",
       "      <td>2015-08-17 15:59:37</td>\n",
       "      <td>0</td>\n",
       "    </tr>\n",
       "  </tbody>\n",
       "</table>\n",
       "</div>"
      ],
      "text/plain": [
       "               d1            d2                  t1                  t2  \\\n",
       "37    9988.740912   9988.740912 2015-08-17 07:32:11 2015-08-17 07:32:46   \n",
       "38    9988.740912   9988.740912 2015-08-17 07:32:46 2015-08-17 07:33:56   \n",
       "39    9988.740912   9988.740912 2015-08-17 07:33:56 2015-08-17 07:35:06   \n",
       "40    9988.740912   9988.740912 2015-08-17 07:35:06 2015-08-17 07:36:16   \n",
       "41    9988.740912   9988.740912 2015-08-17 07:36:16 2015-08-17 07:39:11   \n",
       "42    9988.740912   9988.740912 2015-08-17 07:39:11 2015-08-17 07:42:06   \n",
       "139  11393.498409  11393.498409 2015-08-17 09:24:52 2015-08-17 09:26:02   \n",
       "140  11393.498409  11393.498409 2015-08-17 09:26:02 2015-08-17 09:27:12   \n",
       "252   1782.837968   1782.837968 2015-08-17 13:16:08 2015-08-17 13:17:18   \n",
       "253   1782.837968   1782.837968 2015-08-17 13:17:18 2015-08-17 13:17:53   \n",
       "337  14356.042384  14356.042384 2015-08-17 14:51:46 2015-08-17 14:52:56   \n",
       "361   7490.989676   7490.989676 2015-08-17 15:56:00 2015-08-17 15:57:10   \n",
       "362   7490.989676   7490.989676 2015-08-17 15:57:10 2015-08-17 15:57:45   \n",
       "363   7490.989676   7490.989676 2015-08-17 15:57:45 2015-08-17 15:58:55   \n",
       "364   7490.989676   7490.989676 2015-08-17 15:58:55 2015-08-17 15:59:37   \n",
       "\n",
       "     pendiente  \n",
       "37           0  \n",
       "38           0  \n",
       "39           0  \n",
       "40           0  \n",
       "41           0  \n",
       "42           0  \n",
       "139          0  \n",
       "140          0  \n",
       "252          0  \n",
       "253          0  \n",
       "337          0  \n",
       "361          0  \n",
       "362          0  \n",
       "363          0  \n",
       "364          0  "
      ]
     },
     "execution_count": 31,
     "metadata": {},
     "output_type": "execute_result"
    }
   ],
   "source": [
    "df_gradient_matrix\n",
    "stop_df_gradient_matrix = df_gradient_matrix[(df_gradient_matrix[\"pendiente\"]==0)]\n",
    "stop_df_gradient_matrix"
   ]
  },
  {
   "cell_type": "code",
   "execution_count": 32,
   "metadata": {
    "collapsed": true
   },
   "outputs": [],
   "source": [
    "df_mytimestamp_list\n",
    "set_of_points = sorted_dist_to_final_317_C41405['distance']"
   ]
  },
  {
   "cell_type": "code",
   "execution_count": 33,
   "metadata": {
    "collapsed": false,
    "scrolled": false
   },
   "outputs": [
    {
     "data": {
      "text/html": [
       "<iframe id=\"igraph\" scrolling=\"no\" style=\"border:none;\"seamless=\"seamless\" src=\"https://plot.ly/~kllanes/7.embed\" height=\"525px\" width=\"100%\"></iframe>"
      ],
      "text/plain": [
       "<plotly.tools.PlotlyDisplay object>"
      ]
     },
     "execution_count": 33,
     "metadata": {},
     "output_type": "execute_result"
    }
   ],
   "source": [
    "#hacer una grafica interactiva con la libreria de python (plotly.plotly). Se instala por consola asi: sudo pip install plotly\n",
    "#distancia del punto final (central)\n",
    "import plotly.plotly as py\n",
    "from plotly.graph_objs import *\n",
    "import pandas as pd\n",
    "\n",
    "#df = pd.read_csv('https://raw.githubusercontent.com/plotly/datasets/master/2014_orange_stock.csv')\n",
    "#df.head()\n",
    "\n",
    "trace = Scatter( x=df_mytimestamp_list['timestamp'], y = sorted_dist_to_final_317_C41405['distance'] )\n",
    "data = Data([trace])\n",
    "\n",
    "# IPython notebook\n",
    "# py.iplot(data, filename='pandas-time-series')\n",
    "\n",
    "py.iplot(data, filename='pandas-time-series')"
   ]
  },
  {
   "cell_type": "code",
   "execution_count": 38,
   "metadata": {
    "collapsed": false
   },
   "outputs": [
    {
     "data": {
      "text/html": [
       "<iframe src=\"files/map.html\" style=\"width: 100%; height: 510px; border: none\"></iframe>"
      ],
      "text/plain": [
       "<IPython.core.display.HTML object>"
      ]
     },
     "execution_count": 38,
     "metadata": {},
     "output_type": "execute_result"
    }
   ],
   "source": [
    "df_20150817_line_316_C41422_range = df_20150817_line_316_C41422[(df_20150817_line_316_C41422['timestamp'] > '17-08-2015 13:00:18') & (df_20150817_line_316_C41422['timestamp'] < '17-08-2015 14:15:18')]\n",
    "for row in df_20150817_line_316_C41422_range.iterrows():\n",
    "    latlon = [ row[1]['latitude'], row[1]['longitude'] ]\n",
    "    fmap316_0.polygon_marker( latlon, fill_color='red', num_sides=4, radius=6)\n",
    "embed_map(fmap316_0)\n",
    "#sentido central barra"
   ]
  },
  {
   "cell_type": "code",
   "execution_count": null,
   "metadata": {
    "collapsed": true
   },
   "outputs": [],
   "source": []
  },
  {
   "cell_type": "code",
   "execution_count": 35,
   "metadata": {
    "collapsed": false
   },
   "outputs": [
    {
     "data": {
      "text/html": [
       "<iframe id=\"igraph\" scrolling=\"no\" style=\"border:none;\"seamless=\"seamless\" src=\"https://plot.ly/~kllanes/5.embed\" height=\"525px\" width=\"100%\"></iframe>"
      ],
      "text/plain": [
       "<plotly.tools.PlotlyDisplay object>"
      ]
     },
     "execution_count": 35,
     "metadata": {},
     "output_type": "execute_result"
    }
   ],
   "source": [
    "import plotly.plotly as py\n",
    "from plotly.graph_objs import *\n",
    "\n",
    "trace0 = Scatter(\n",
    "  x=[1, 2, 3, 4],\n",
    "  y=[10, 15, 13, 17]\n",
    ")\n",
    "trace1 = Scatter(\n",
    "  x=[1, 2, 3, 4],\n",
    "  y=[16, 5, 11, 9]\n",
    ")\n",
    "data = Data([trace0, trace1])\n",
    "\n",
    "py.iplot(data, filename = 'basic-line')"
   ]
  },
  {
   "cell_type": "code",
   "execution_count": 26,
   "metadata": {
    "collapsed": false
   },
   "outputs": [
    {
     "data": {
      "text/html": [
       "<iframe src=\"files/map.html\" style=\"width: 100%; height: 510px; border: none\"></iframe>"
      ],
      "text/plain": [
       "<IPython.core.display.HTML object>"
      ]
     },
     "execution_count": 26,
     "metadata": {},
     "output_type": "execute_result"
    }
   ],
   "source": [
    "#esto es para graficar la porcion de la ruta que será analizada con las paradas representativas\n",
    "for row in list_317_C41405_ok.iterrows():\n",
    "    #The 'latitude' and 'longitude' names correspond to column names in the original cceats dataframe\n",
    "    latlon = [ row[1]['latitude'], row[1]['longitude'] ]\n",
    "    fmap316_0.polygon_marker( latlon, fill_color='orange', num_sides=4, radius=6)\n",
    "    \n",
    "    \n",
    "\n",
    "embed_map(fmap316_0)"
   ]
  }
 ],
 "metadata": {
  "kernelspec": {
   "display_name": "Python 2",
   "language": "python",
   "name": "python2"
  },
  "language_info": {
   "codemirror_mode": {
    "name": "ipython",
    "version": 2
   },
   "file_extension": ".py",
   "mimetype": "text/x-python",
   "name": "python",
   "nbconvert_exporter": "python",
   "pygments_lexer": "ipython2",
   "version": "2.7.6"
  }
 },
 "nbformat": 4,
 "nbformat_minor": 0
}
