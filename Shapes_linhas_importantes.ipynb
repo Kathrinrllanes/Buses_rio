{
 "cells": [
  {
   "cell_type": "code",
   "execution_count": 1,
   "metadata": {
    "collapsed": true
   },
   "outputs": [],
   "source": [
    "import pandas as pd\n",
    "from pymongo import MongoClient, GEO2D\n",
    "import pymongo\n",
    "import folium \n",
    "from IPython.display import display\n"
   ]
  },
  {
   "cell_type": "code",
   "execution_count": 3,
   "metadata": {
    "collapsed": true
   },
   "outputs": [],
   "source": [
    "\"\"\"Funciones para renderizar el mapa en el html\"\"\"\n",
    "from IPython.display import HTML\n",
    " \n",
    "def inline_map(map):\n",
    "    \"\"\"\n",
    "    Embeds the HTML source of the map directly into the IPython notebook.\n",
    "    \n",
    "    This method will not work if the map depends on any files (json data). Also this uses\n",
    "    the HTML5 srcdoc attribute, which may not be supported in all browsers.\n",
    "    \"\"\"\n",
    "    map._build_map()\n",
    "    return HTML('<iframe srcdoc=\"{srcdoc}\" style=\"width: 100%; height: 510px; border: none\"></iframe>'.format(srcdoc=map.HTML.replace('\"', '&quot;')))\n",
    " \n",
    "def embed_map(map, path=\"map.html\"):\n",
    "    \"\"\"\n",
    "    Embeds a linked iframe to the map into the IPython notebook.\n",
    "    \n",
    "    Note: this method will not capture the source of the map into the notebook.\n",
    "    This method should work for all maps (as long as they use relative urls).\n",
    "    \"\"\"\n",
    "    map.create_map(path=path)\n",
    "    return HTML('<iframe src=\"files/{path}\" style=\"width: 100%; height: 510px; border: none\"></iframe>'.format(path=path))"
   ]
  },
  {
   "cell_type": "code",
   "execution_count": 2,
   "metadata": {
    "collapsed": true
   },
   "outputs": [],
   "source": [
    "onibus317_shapes = pd.read_csv('/home/kathrin/Doctorado/bus_rio/Datos_Omnibus/Onibus/Shapes/gtfs_linha317-shapes.csv')"
   ]
  },
  {
   "cell_type": "code",
   "execution_count": 14,
   "metadata": {
    "collapsed": true
   },
   "outputs": [],
   "source": [
    "onibus316_shapes = pd.read_csv('/home/kathrin/Doctorado/bus_rio/Datos_Omnibus/Onibus/Shapes/gtfs_linha316-shapes.csv')"
   ]
  },
  {
   "cell_type": "code",
   "execution_count": 30,
   "metadata": {
    "collapsed": true
   },
   "outputs": [],
   "source": [
    "#funcion que dada una linea de omnibus, me pinta su shape en el mapa\n",
    "def shape(busline):\n",
    "    onibus_shapes = pd.read_csv('/home/kathrin/Doctorado/bus_rio/Datos_Omnibus/Onibus/Shapes/gtfs_linha' +busline+ '-shapes.csv')\n",
    "    fmap=folium.Map(location=[-22.964895 , -43.268286], zoom_start=12)\n",
    "    locations = []\n",
    "    for row in onibus_shapes.iterrows():\n",
    "    #The 'latitude' and 'longitude' names correspond to column names in the original cceats dataframe\n",
    "        locations.insert(len(locations), [ row[1]['latitude'], row[1]['longitude'] ])\n",
    "    \n",
    "\n",
    "    #Punto 1\n",
    "    fmap.simple_marker((-22.978345 , -43.226564), popup='Punto1')\n",
    "    \n",
    "    #Punto 2 \n",
    "    fmap.simple_marker((-22.960298 , -43.204346), popup='Punto2')\n",
    "\n",
    "    #Punto3\n",
    "    fmap.simple_marker((-22.985378 , -43.222884), popup='Punto3')\n",
    "\n",
    "    #Punto4\n",
    "    fmap.simple_marker((-22.992342 , -43.249289), popup='Punto4')\n",
    "    \n",
    "    #Punto5\n",
    "    fmap.simple_marker((-22.974325 , -43.22625), popup='Punto5')\n",
    "        \n",
    "    #Punto6\n",
    "    fmap.simple_marker((-22.978312 , -43.224818), popup='Punto6')\n",
    "    \n",
    "    \n",
    "    \n",
    "    \n",
    "    \n",
    "    fmap.line(locations)\n",
    "    \n",
    "    return embed_map(fmap)\n"
   ]
  },
  {
   "cell_type": "code",
   "execution_count": 53,
   "metadata": {
    "collapsed": false
   },
   "outputs": [
    {
     "data": {
      "text/html": [
       "<iframe src=\"files/map.html\" style=\"width: 100%; height: 510px; border: none\"></iframe>"
      ],
      "text/plain": [
       "<IPython.core.display.HTML object>"
      ]
     },
     "execution_count": 53,
     "metadata": {},
     "output_type": "execute_result"
    }
   ],
   "source": [
    "bus170 = shape('170')\n",
    "bus170"
   ]
  }
 ],
 "metadata": {
  "kernelspec": {
   "display_name": "Python 2",
   "language": "python",
   "name": "python2"
  },
  "language_info": {
   "codemirror_mode": {
    "name": "ipython",
    "version": 2
   },
   "file_extension": ".py",
   "mimetype": "text/x-python",
   "name": "python",
   "nbconvert_exporter": "python",
   "pygments_lexer": "ipython2",
   "version": "2.7.6"
  }
 },
 "nbformat": 4,
 "nbformat_minor": 0
}
