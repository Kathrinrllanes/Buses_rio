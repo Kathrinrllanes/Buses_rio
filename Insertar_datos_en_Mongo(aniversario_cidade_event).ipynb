{
 "cells": [
  {
   "cell_type": "code",
   "execution_count": 1,
   "metadata": {
    "collapsed": true
   },
   "outputs": [],
   "source": [
    "import pandas as pd\n",
    "from pymongo import MongoClient, GEO2D\n",
    "import json\n"
   ]
  },
  {
   "cell_type": "code",
   "execution_count": 2,
   "metadata": {
    "collapsed": false
   },
   "outputs": [],
   "source": [
    "#Create a link to MongoDB using MongoClient(The name of new database will be aniv_cidade_event)\n",
    "db = MongoClient().aniv_cidade_event"
   ]
  },
  {
   "cell_type": "code",
   "execution_count": 4,
   "metadata": {
    "collapsed": false
   },
   "outputs": [
    {
     "data": {
      "text/plain": [
       "u'latlon_2d'"
      ]
     },
     "execution_count": 4,
     "metadata": {},
     "output_type": "execute_result"
    }
   ],
   "source": [
    "# Create the collection \"dados20150208_line_438\" with an geolocation index \"latlon\"\n",
    "db.dados20150208_line_438.create_index([(\"latlon\", GEO2D)])"
   ]
  },
  {
   "cell_type": "code",
   "execution_count": 5,
   "metadata": {
    "collapsed": false
   },
   "outputs": [
    {
     "data": {
      "text/plain": [
       "u'latlon_2d'"
      ]
     },
     "execution_count": 5,
     "metadata": {},
     "output_type": "execute_result"
    }
   ],
   "source": [
    "# Create the collection \"dados20150215_line_438\" with an geolocation index \"latlon\"\n",
    "db.dados20150215_line_438.create_index([(\"latlon\", GEO2D)])"
   ]
  },
  {
   "cell_type": "code",
   "execution_count": 6,
   "metadata": {
    "collapsed": false
   },
   "outputs": [
    {
     "data": {
      "text/plain": [
       "u'latlon_2d'"
      ]
     },
     "execution_count": 6,
     "metadata": {},
     "output_type": "execute_result"
    }
   ],
   "source": [
    "# Create the collection \"dados20150222_line_438\" with an geolocation index \"latlon\"\n",
    "db.dados20150222_line_438.create_index([(\"latlon\", GEO2D)])"
   ]
  },
  {
   "cell_type": "code",
   "execution_count": 7,
   "metadata": {
    "collapsed": false
   },
   "outputs": [
    {
     "data": {
      "text/plain": [
       "u'latlon_2d'"
      ]
     },
     "execution_count": 7,
     "metadata": {},
     "output_type": "execute_result"
    }
   ],
   "source": [
    "# Create the collection \"dados20150301_line_438\" with an geolocation index \"latlon\"\n",
    "db.dados20150301_line_438.create_index([(\"latlon\", GEO2D)])"
   ]
  },
  {
   "cell_type": "code",
   "execution_count": 3,
   "metadata": {
    "collapsed": false
   },
   "outputs": [
    {
     "data": {
      "text/plain": [
       "u'latlon_2d'"
      ]
     },
     "execution_count": 3,
     "metadata": {},
     "output_type": "execute_result"
    }
   ],
   "source": [
    "# Create the collection \"dados20150208_line_410\" with an geolocation index \"latlon\"\n",
    "db.dados20150208_line_410.create_index([(\"latlon\", GEO2D)])"
   ]
  },
  {
   "cell_type": "code",
   "execution_count": 17,
   "metadata": {
    "collapsed": false
   },
   "outputs": [
    {
     "data": {
      "text/plain": [
       "u'latlon_2d'"
      ]
     },
     "execution_count": 17,
     "metadata": {},
     "output_type": "execute_result"
    }
   ],
   "source": [
    "# Create the collection \"dados20150215_line_410\" with an geolocation index \"latlon\"\n",
    "db.dados20150215_line_410.create_index([(\"latlon\", GEO2D)])"
   ]
  },
  {
   "cell_type": "code",
   "execution_count": 18,
   "metadata": {
    "collapsed": false
   },
   "outputs": [
    {
     "data": {
      "text/plain": [
       "u'latlon_2d'"
      ]
     },
     "execution_count": 18,
     "metadata": {},
     "output_type": "execute_result"
    }
   ],
   "source": [
    "# Create the collection \"dados20150222_line_410\" with an geolocation index \"latlon\"\n",
    "db.dados20150222_line_410.create_index([(\"latlon\", GEO2D)])"
   ]
  },
  {
   "cell_type": "code",
   "execution_count": 25,
   "metadata": {
    "collapsed": false
   },
   "outputs": [
    {
     "data": {
      "text/plain": [
       "u'latlon_2d'"
      ]
     },
     "execution_count": 25,
     "metadata": {},
     "output_type": "execute_result"
    }
   ],
   "source": [
    "# Create the collection \"dados20150301_line_410\" with an geolocation index \"latlon\"\n",
    "db.dados20150301_line_410.create_index([(\"latlon\", GEO2D)])"
   ]
  },
  {
   "cell_type": "code",
   "execution_count": 11,
   "metadata": {
    "collapsed": false
   },
   "outputs": [
    {
     "data": {
      "text/plain": [
       "u'latlon_2d'"
      ]
     },
     "execution_count": 11,
     "metadata": {},
     "output_type": "execute_result"
    }
   ],
   "source": [
    "# Create the collection \"busstops_438\" with an geolocation index \"latlon\"\n",
    "db.busstops.create_index([(\"latlon\", GEO2D)])"
   ]
  },
  {
   "cell_type": "code",
   "execution_count": 7,
   "metadata": {
    "collapsed": false
   },
   "outputs": [],
   "source": [
    "#Insert in MongoDb gps data of bus line 438 on 2015-02-08\n",
    "df_20150208 = pd.read_csv('/home/kathrin/Doctorado/bus_rio/Datos_Omnibus/aniversario450Rio_event_analysis/20150208.txt', delimiter = ('\\t'))\n",
    "\n",
    "df_20150208_line_438 = df_20150208[(df_20150208['line']=='438')]\n",
    "\n",
    "for row in df_20150208_line_438.iterrows():\n",
    "    #The 'latitude' and 'longitude' names correspond to column names in the original cceats dataframe\n",
    "    df_20150208_line_438_file = [{\"timestamp\": row[1]['timestamp'],\n",
    "                                  \"bus_id\":row[1]['bus_id'],\n",
    "                                  \"line\":row[1]['line'],\n",
    "                                  \"latitude\": row[1]['latitude'],\n",
    "                                  \"longitude\": row [1]['longitude'], \n",
    "                                  \"speed\" : row[1]['speed'],\n",
    "                                  \"other\" : row[1]['other'],\n",
    "                                  \"latlon\": [ row[1]['longitude'], row[1]['latitude'] ]\n",
    "                                  }]\n",
    "    db.dados20150208_line_438.insert_many(df_20150208_line_438_file)  \n",
    "    \n"
   ]
  },
  {
   "cell_type": "code",
   "execution_count": 8,
   "metadata": {
    "collapsed": false
   },
   "outputs": [
    {
     "data": {
      "text/plain": [
       "6511"
      ]
     },
     "execution_count": 8,
     "metadata": {},
     "output_type": "execute_result"
    }
   ],
   "source": [
    "len(df_20150208_line_438)"
   ]
  },
  {
   "cell_type": "code",
   "execution_count": 9,
   "metadata": {
    "collapsed": false
   },
   "outputs": [
    {
     "data": {
      "text/plain": [
       "line\n",
       "438    27\n",
       "Name: bus_id, dtype: int64"
      ]
     },
     "execution_count": 9,
     "metadata": {},
     "output_type": "execute_result"
    }
   ],
   "source": [
    "#calcula cuantos id diferentes que circularon de la linea 438 el dia 2015-02-08\n",
    "df_20150208_line_438.groupby('line').bus_id.nunique()"
   ]
  },
  {
   "cell_type": "code",
   "execution_count": 10,
   "metadata": {
    "collapsed": false
   },
   "outputs": [
    {
     "data": {
      "text/plain": [
       "array(['A27611', 'A27629', 'A27565', 'A27604', 'A27655', 'A27675',\n",
       "       'A27504', 'A27610', 'A27592', 'A27574', 'A27599', 'A27597',\n",
       "       'A27626', 'A27554', 'A27587', 'A27633', 'A27512', 'A27562',\n",
       "       'A27603', 'A27544', 'A27525', 'A27557', 'A27514', 'A27640',\n",
       "       'A27510', 'A27577', 'A27511'], dtype=object)"
      ]
     },
     "execution_count": 10,
     "metadata": {},
     "output_type": "execute_result"
    }
   ],
   "source": [
    "#Lista todos los  bus_id diferentes de la linea 438 que circularon el dia 2015-02-08\n",
    "pd.unique(df_20150208_line_438.bus_id.ravel())"
   ]
  },
  {
   "cell_type": "code",
   "execution_count": 11,
   "metadata": {
    "collapsed": false
   },
   "outputs": [],
   "source": [
    "#Insert in MongoDb gps data of bus line 438 on 2015-02-15\n",
    "df_20150215 = pd.read_csv('/home/kathrin/Doctorado/bus_rio/Datos_Omnibus/aniversario450Rio_event_analysis/20150215.txt', delimiter=('\\t'))\n",
    "\n",
    "\n",
    "df_20150215_line_438 = df_20150215[(df_20150215['line']=='438')]\n",
    "\n",
    "for row in df_20150215_line_438.iterrows():\n",
    "    #The 'latitude' and 'longitude' names correspond to column names in the original cceats dataframe\n",
    "    df_20150215_line_438_file = [{\"timestamp\": row[1]['timestamp'],\n",
    "                                  \"bus_id\":row[1]['bus_id'],\n",
    "                                  \"line\":row[1]['line'],\n",
    "                                  \"latitude\": row[1]['latitude'],\n",
    "                                  \"longitude\": row [1]['longitude'], \n",
    "                                  \"speed\" : row[1]['speed'],\n",
    "                                  \"other\" : row[1]['other'],\n",
    "                                  \"latlon\": [ row[1]['longitude'], row[1]['latitude'] ]\n",
    "                                  }]\n",
    "    db.dados20150215_line_438.insert_many(df_20150215_line_438_file) \n"
   ]
  },
  {
   "cell_type": "code",
   "execution_count": 12,
   "metadata": {
    "collapsed": false
   },
   "outputs": [
    {
     "data": {
      "text/plain": [
       "4675"
      ]
     },
     "execution_count": 12,
     "metadata": {},
     "output_type": "execute_result"
    }
   ],
   "source": [
    "len(df_20150215_line_438)"
   ]
  },
  {
   "cell_type": "code",
   "execution_count": 13,
   "metadata": {
    "collapsed": false
   },
   "outputs": [
    {
     "data": {
      "text/plain": [
       "line\n",
       "438    21\n",
       "Name: bus_id, dtype: int64"
      ]
     },
     "execution_count": 13,
     "metadata": {},
     "output_type": "execute_result"
    }
   ],
   "source": [
    "#calcula cuantos id diferentes que circularon de la linea 438 el dia 2015-02-15\n",
    "df_20150215_line_438.groupby('line').bus_id.nunique()"
   ]
  },
  {
   "cell_type": "code",
   "execution_count": 14,
   "metadata": {
    "collapsed": false
   },
   "outputs": [
    {
     "data": {
      "text/plain": [
       "array(['A27556', 'A27610', 'A27617', 'A27604', 'A27510', 'A27603',\n",
       "       'A27599', 'A27514', 'A27534', 'A27632', 'A27629', 'A27550',\n",
       "       'A27558', 'A27521', 'A27606', 'A27565', 'A27504', 'A27633',\n",
       "       'A27566', 'A27554', 'A27600'], dtype=object)"
      ]
     },
     "execution_count": 14,
     "metadata": {},
     "output_type": "execute_result"
    }
   ],
   "source": [
    "#Lista todos los  bus_id diferentes de la linea 438 que circularon el dia 2015-02-15\n",
    "pd.unique(df_20150215_line_438.bus_id.ravel())"
   ]
  },
  {
   "cell_type": "code",
   "execution_count": 15,
   "metadata": {
    "collapsed": false
   },
   "outputs": [],
   "source": [
    "#Insert in MongoDb gps data of bus line 438 on 2015-02-22\n",
    "df_20150222 = pd.read_csv('/home/kathrin/Doctorado/bus_rio/Datos_Omnibus/aniversario450Rio_event_analysis/20150222.txt', delimiter=('\\t'))\n",
    "\n",
    "df_20150222_line_438 = df_20150222[(df_20150222['line']=='438')]\n",
    "\n",
    "for row in df_20150222_line_438.iterrows():\n",
    "    #The 'latitude' and 'longitude' names correspond to column names in the original cceats dataframe\n",
    "    df_20150222_line_438_file = [{\"timestamp\": row[1]['timestamp'],\n",
    "                                  \"bus_id\":row[1]['bus_id'],\n",
    "                                  \"line\":row[1]['line'],\n",
    "                                  \"latitude\": row[1]['latitude'],\n",
    "                                  \"longitude\": row [1]['longitude'], \n",
    "                                  \"speed\" : row[1]['speed'],\n",
    "                                  \"other\" : row[1]['other'],\n",
    "                                  \"latlon\": [ row[1]['longitude'], row[1]['latitude'] ]\n",
    "                                  }]\n",
    "    db.dados20150222_line_438.insert_many(df_20150222_line_438_file) \n"
   ]
  },
  {
   "cell_type": "code",
   "execution_count": 16,
   "metadata": {
    "collapsed": false
   },
   "outputs": [
    {
     "data": {
      "text/plain": [
       "3296"
      ]
     },
     "execution_count": 16,
     "metadata": {},
     "output_type": "execute_result"
    }
   ],
   "source": [
    "len(df_20150222_line_438)"
   ]
  },
  {
   "cell_type": "code",
   "execution_count": 17,
   "metadata": {
    "collapsed": false
   },
   "outputs": [
    {
     "data": {
      "text/plain": [
       "line\n",
       "438    20\n",
       "Name: bus_id, dtype: int64"
      ]
     },
     "execution_count": 17,
     "metadata": {},
     "output_type": "execute_result"
    }
   ],
   "source": [
    "#calcula cuantos id diferentes que circularon de la linea 438 el dia 2015-02-22\n",
    "df_20150222_line_438.groupby('line').bus_id.nunique()"
   ]
  },
  {
   "cell_type": "code",
   "execution_count": 18,
   "metadata": {
    "collapsed": false
   },
   "outputs": [
    {
     "data": {
      "text/plain": [
       "array(['A27558', 'A27632', 'A27510', 'A27554', 'A27531', 'A27599',\n",
       "       'A27646', 'A27504', 'A27565', 'A27606', 'A27603', 'A27604',\n",
       "       'A27512', 'A27525', 'A27651', 'A27514', 'A27630', 'A27527',\n",
       "       'A27544', 'A27618'], dtype=object)"
      ]
     },
     "execution_count": 18,
     "metadata": {},
     "output_type": "execute_result"
    }
   ],
   "source": [
    "#Lista todos los  bus_id diferentes de la linea 438 que circularon el dia 2015-02-15\n",
    "pd.unique(df_20150222_line_438.bus_id.ravel())"
   ]
  },
  {
   "cell_type": "code",
   "execution_count": 19,
   "metadata": {
    "collapsed": true
   },
   "outputs": [],
   "source": [
    "#Insert in MongoDb gps data of bus line 438 on 2015-03-01\n",
    "df_20150301 = pd.read_csv('/home/kathrin/Doctorado/bus_rio/Datos_Omnibus/aniversario450Rio_event_analysis/20150301.txt', delimiter=('\\t'))\n",
    "\n",
    "df_20150301_line_438 = df_20150301[(df_20150301['line']=='438')]\n",
    "\n",
    "for row in df_20150301_line_438.iterrows():\n",
    "    #The 'latitude' and 'longitude' names correspond to column names in the original cceats dataframe\n",
    "    df_20150301_line_438_file = [{\"timestamp\": row[1]['timestamp'],\n",
    "                                  \"bus_id\":row[1]['bus_id'],\n",
    "                                  \"line\":row[1]['line'],\n",
    "                                  \"latitude\": row[1]['latitude'],\n",
    "                                  \"longitude\": row [1]['longitude'], \n",
    "                                  \"speed\" : row[1]['speed'],\n",
    "                                  \"other\" : row[1]['other'],\n",
    "                                  \"latlon\": [ row[1]['longitude'], row[1]['latitude'] ]\n",
    "                                  }]\n",
    "    db.dados20150301_line_438.insert_many(df_20150301_line_438_file) \n"
   ]
  },
  {
   "cell_type": "code",
   "execution_count": 20,
   "metadata": {
    "collapsed": false
   },
   "outputs": [
    {
     "data": {
      "text/plain": [
       "8409"
      ]
     },
     "execution_count": 20,
     "metadata": {},
     "output_type": "execute_result"
    }
   ],
   "source": [
    "len(df_20150301_line_438)"
   ]
  },
  {
   "cell_type": "code",
   "execution_count": 21,
   "metadata": {
    "collapsed": false
   },
   "outputs": [
    {
     "data": {
      "text/plain": [
       "line\n",
       "438    24\n",
       "Name: bus_id, dtype: int64"
      ]
     },
     "execution_count": 21,
     "metadata": {},
     "output_type": "execute_result"
    }
   ],
   "source": [
    "#calcula cuantos id diferentes que circularon de la linea 438 el dia 2015-02-22\n",
    "df_20150301_line_438.groupby('line').bus_id.nunique()"
   ]
  },
  {
   "cell_type": "code",
   "execution_count": 22,
   "metadata": {
    "collapsed": false
   },
   "outputs": [
    {
     "data": {
      "text/plain": [
       "array(['A27565', 'A27550', 'A27626', 'A27554', 'A27629', 'A27526',\n",
       "       'A27603', 'A27632', 'A27576', 'A27558', 'A27593', 'A27556',\n",
       "       'A27616', 'A27604', 'A27504', 'A27599', 'A27617', 'A27534',\n",
       "       'A27514', 'A27544', 'A27614', 'A27510', 'A27606', 'A27566'], dtype=object)"
      ]
     },
     "execution_count": 22,
     "metadata": {},
     "output_type": "execute_result"
    }
   ],
   "source": [
    "#Lista todos los  bus_id diferentes de la linea 438 que circularon el dia 2015-02-15\n",
    "pd.unique(df_20150301_line_438.bus_id.ravel())"
   ]
  },
  {
   "cell_type": "code",
   "execution_count": 12,
   "metadata": {
    "collapsed": false
   },
   "outputs": [],
   "source": [
    "#Insertar en la MongoDB todas las paradas de todos los omnibus\n",
    "#Por ahora se insertaron solo las paradas de la 438, pero de igual forma se deben insertar todas\n",
    "\n",
    "df_busstops_438 = pd.read_csv('/home/kathrin/Doctorado/bus_rio/Datos_Omnibus/Onibus/Paradas/gtfs_linha438-paradas.csv')\n",
    "\n",
    "for row in df_busstops_438.iterrows():\n",
    "    #The 'latitude' and 'longitude' names correspond to column names in the original cceats dataframe\n",
    "    busstops_438 = [{\"linha\": row[1]['linha'],\n",
    "                     \"descricao\":row[1]['descricao'],\n",
    "                     \"agencia\":row[1]['agencia'],\n",
    "                     \"sequencia\" : row[1]['sequencia'],\n",
    "                     \"latitude\": row[1]['latitude'],\n",
    "                     \"longitude\": row [1]['longitude'],\n",
    "                     \"latlon\": [ row[1]['longitude'], row[1]['latitude']]\n",
    "                    }]\n",
    "    db.busstops.insert_many(busstops_438)\n"
   ]
  },
  {
   "cell_type": "code",
   "execution_count": 4,
   "metadata": {
    "collapsed": true
   },
   "outputs": [],
   "source": [
    "#Insert in MongoDb gps data of bus line 410 on 2015-02-08\n",
    "df_20150208 = pd.read_csv('/home/kathrin/Doctorado/bus_rio/Datos_Omnibus/aniversario450Rio_event_analysis/20150208.txt', delimiter = ('\\t'))\n",
    "\n",
    "df_20150208_line_410 = df_20150208[(df_20150208['line']=='410')]\n",
    "\n",
    "for row in df_20150208_line_410.iterrows():\n",
    "    #The 'latitude' and 'longitude' names correspond to column names in the original cceats dataframe\n",
    "    df_20150208_line_410_file = [{\"timestamp\": row[1]['timestamp'],\n",
    "                                  \"bus_id\":row[1]['bus_id'],\n",
    "                                  \"line\":row[1]['line'],\n",
    "                                  \"latitude\": row[1]['latitude'],\n",
    "                                  \"longitude\": row [1]['longitude'], \n",
    "                                  \"speed\" : row[1]['speed'],\n",
    "                                  \"other\" : row[1]['other'],\n",
    "                                  \"latlon\": [ row[1]['longitude'], row[1]['latitude'] ]\n",
    "                                  }]\n",
    "    db.dados20150208_line_410.insert_many(df_20150208_line_410_file)  \n",
    "    "
   ]
  },
  {
   "cell_type": "code",
   "execution_count": 5,
   "metadata": {
    "collapsed": false
   },
   "outputs": [
    {
     "data": {
      "text/plain": [
       "line\n",
       "410    9\n",
       "Name: bus_id, dtype: int64"
      ]
     },
     "execution_count": 5,
     "metadata": {},
     "output_type": "execute_result"
    }
   ],
   "source": [
    "#calcula cuantos id diferentes que circularon de la linea 410 el dia 2015-02-08\n",
    "df_20150208_line_410.groupby('line').bus_id.nunique()"
   ]
  },
  {
   "cell_type": "code",
   "execution_count": 8,
   "metadata": {
    "collapsed": false
   },
   "outputs": [
    {
     "data": {
      "text/plain": [
       "array(['A72065', 'A72152', 'A72071', 'A72121', 'A72053', 'A72009',\n",
       "       'A72050', 'A72110', 'A72089'], dtype=object)"
      ]
     },
     "execution_count": 8,
     "metadata": {},
     "output_type": "execute_result"
    }
   ],
   "source": [
    "#Lista todos los  bus_id diferentes de la linea 410 que circularon el dia 2015-02-08\n",
    "pd.unique(df_20150208_line_410.bus_id.ravel())"
   ]
  },
  {
   "cell_type": "code",
   "execution_count": 22,
   "metadata": {
    "collapsed": false
   },
   "outputs": [],
   "source": [
    "#Insert in MongoDb gps data of bus line 410 on 2015-02-15\n",
    "df_20150215 = pd.read_csv('/home/kathrin/Doctorado/bus_rio/Datos_Omnibus/aniversario450Rio_event_analysis/20150215.txt', delimiter = ('\\t'))\n",
    "\n",
    "df_20150215_line_410 = df_20150215[(df_20150215['line']=='410')]\n",
    "\n",
    "for row in df_20150215_line_410.iterrows():\n",
    "    #The 'latitude' and 'longitude' names correspond to column names in the original cceats dataframe\n",
    "    df_20150215_line_410_file = [{\"timestamp\": row[1]['timestamp'],\n",
    "                                  \"bus_id\":row[1]['bus_id'],\n",
    "                                  \"line\":row[1]['line'],\n",
    "                                  \"latitude\": row[1]['latitude'],\n",
    "                                  \"longitude\": row [1]['longitude'], \n",
    "                                  \"speed\" : row[1]['speed'],\n",
    "                                  \"other\" : row[1]['other'],\n",
    "                                  \"latlon\": [ row[1]['longitude'], row[1]['latitude'] ]\n",
    "                                  }]\n",
    "    db.dados20150215_line_410.insert_many(df_20150215_line_410_file)  \n",
    "    "
   ]
  },
  {
   "cell_type": "code",
   "execution_count": 23,
   "metadata": {
    "collapsed": false
   },
   "outputs": [
    {
     "data": {
      "text/plain": [
       "line\n",
       "410    15\n",
       "Name: bus_id, dtype: int64"
      ]
     },
     "execution_count": 23,
     "metadata": {},
     "output_type": "execute_result"
    }
   ],
   "source": [
    "#calcula cuantos id diferentes que circularon de la linea 410 el dia 2015-02-15\n",
    "df_20150215_line_410.groupby('line').bus_id.nunique()"
   ]
  },
  {
   "cell_type": "code",
   "execution_count": 24,
   "metadata": {
    "collapsed": false
   },
   "outputs": [
    {
     "data": {
      "text/plain": [
       "array(['A72050', 'A72023', 'A72129', 'A72110', 'A72095', 'A72065',\n",
       "       'A72071', 'A72126', 'A72152', 'A72006', 'A72018', 'A72055',\n",
       "       'A72125', 'A72053', 'A72174'], dtype=object)"
      ]
     },
     "execution_count": 24,
     "metadata": {},
     "output_type": "execute_result"
    }
   ],
   "source": [
    "#Lista todos los  bus_id diferentes de la linea 410 que circularon el dia 2015-02-15\n",
    "pd.unique(df_20150215_line_410.bus_id.ravel())"
   ]
  },
  {
   "cell_type": "code",
   "execution_count": 19,
   "metadata": {
    "collapsed": false
   },
   "outputs": [],
   "source": [
    "#Insert in MongoDb gps data of bus line 410 on 2015-02-22\n",
    "df_20150222 = pd.read_csv('/home/kathrin/Doctorado/bus_rio/Datos_Omnibus/aniversario450Rio_event_analysis/20150222.txt', delimiter = ('\\t'))\n",
    "\n",
    "df_20150222_line_410 = df_20150222[(df_20150222['line']=='410')]\n",
    "\n",
    "for row in df_20150222_line_410.iterrows():\n",
    "    #The 'latitude' and 'longitude' names correspond to column names in the original cceats dataframe\n",
    "    df_20150222_line_410_file = [{\"timestamp\": row[1]['timestamp'],\n",
    "                                  \"bus_id\":row[1]['bus_id'],\n",
    "                                  \"line\":row[1]['line'],\n",
    "                                  \"latitude\": row[1]['latitude'],\n",
    "                                  \"longitude\": row [1]['longitude'], \n",
    "                                  \"speed\" : row[1]['speed'],\n",
    "                                  \"other\" : row[1]['other'],\n",
    "                                  \"latlon\": [ row[1]['longitude'], row[1]['latitude'] ]\n",
    "                                  }]\n",
    "    db.dados20150222_line_410.insert_many(df_20150222_line_410_file)  \n",
    "    "
   ]
  },
  {
   "cell_type": "code",
   "execution_count": 20,
   "metadata": {
    "collapsed": false
   },
   "outputs": [
    {
     "data": {
      "text/plain": [
       "line\n",
       "410    13\n",
       "Name: bus_id, dtype: int64"
      ]
     },
     "execution_count": 20,
     "metadata": {},
     "output_type": "execute_result"
    }
   ],
   "source": [
    "#calcula cuantos id diferentes que circularon de la linea 410 el dia 2015-02-22\n",
    "df_20150222_line_410.groupby('line').bus_id.nunique()"
   ]
  },
  {
   "cell_type": "code",
   "execution_count": 21,
   "metadata": {
    "collapsed": false
   },
   "outputs": [
    {
     "data": {
      "text/plain": [
       "array(['A72071', 'A72006', 'A72152', 'A72095', 'A72065', 'A72053',\n",
       "       'A72018', 'A72012', 'A72122', 'A72089', 'A72118', 'A72138', 'A72125'], dtype=object)"
      ]
     },
     "execution_count": 21,
     "metadata": {},
     "output_type": "execute_result"
    }
   ],
   "source": [
    "#Lista todos los  bus_id diferentes de la linea 410 que circularon el dia 2015-02-15\n",
    "pd.unique(df_20150222_line_410.bus_id.ravel())"
   ]
  },
  {
   "cell_type": "code",
   "execution_count": 26,
   "metadata": {
    "collapsed": true
   },
   "outputs": [],
   "source": [
    "#Insert in MongoDb gps data of bus line 410 on 2015-03-01\n",
    "df_20150301 = pd.read_csv('/home/kathrin/Doctorado/bus_rio/Datos_Omnibus/aniversario450Rio_event_analysis/20150301.txt', delimiter = ('\\t'))\n",
    "\n",
    "df_20150301_line_410 = df_20150301[(df_20150301['line']=='410')]\n",
    "\n",
    "for row in df_20150301_line_410.iterrows():\n",
    "    #The 'latitude' and 'longitude' names correspond to column names in the original cceats dataframe\n",
    "    df_20150301_line_410_file = [{\"timestamp\": row[1]['timestamp'],\n",
    "                                  \"bus_id\":row[1]['bus_id'],\n",
    "                                  \"line\":row[1]['line'],\n",
    "                                  \"latitude\": row[1]['latitude'],\n",
    "                                  \"longitude\": row [1]['longitude'], \n",
    "                                  \"speed\" : row[1]['speed'],\n",
    "                                  \"other\" : row[1]['other'],\n",
    "                                  \"latlon\": [ row[1]['longitude'], row[1]['latitude'] ]\n",
    "                                  }]\n",
    "    db.dados20150301_line_410.insert_many(df_20150301_line_410_file)  \n",
    "    "
   ]
  },
  {
   "cell_type": "code",
   "execution_count": 27,
   "metadata": {
    "collapsed": false
   },
   "outputs": [
    {
     "data": {
      "text/plain": [
       "line\n",
       "410    15\n",
       "Name: bus_id, dtype: int64"
      ]
     },
     "execution_count": 27,
     "metadata": {},
     "output_type": "execute_result"
    }
   ],
   "source": [
    "#calcula cuantos id diferentes que circularon de la linea 410 el dia 2015-03-01\n",
    "df_20150301_line_410.groupby('line').bus_id.nunique()"
   ]
  },
  {
   "cell_type": "code",
   "execution_count": 28,
   "metadata": {
    "collapsed": false
   },
   "outputs": [
    {
     "data": {
      "text/plain": [
       "array(['A72152', 'A72127', 'A72126', 'A72023', 'A72038', 'A72053',\n",
       "       'A72026', 'A72122', 'A72018', 'A72065', 'A72040', 'A72071',\n",
       "       'A72095', 'A72009', 'A72020'], dtype=object)"
      ]
     },
     "execution_count": 28,
     "metadata": {},
     "output_type": "execute_result"
    }
   ],
   "source": [
    "#Lista todos los  bus_id diferentes de la linea 410 que circularon el dia 2015-03-01\n",
    "pd.unique(df_20150301_line_410.bus_id.ravel())"
   ]
  }
 ],
 "metadata": {
  "kernelspec": {
   "display_name": "Python 2",
   "language": "python",
   "name": "python2"
  },
  "language_info": {
   "codemirror_mode": {
    "name": "ipython",
    "version": 2
   },
   "file_extension": ".py",
   "mimetype": "text/x-python",
   "name": "python",
   "nbconvert_exporter": "python",
   "pygments_lexer": "ipython2",
   "version": "2.7.6"
  }
 },
 "nbformat": 4,
 "nbformat_minor": 0
}
