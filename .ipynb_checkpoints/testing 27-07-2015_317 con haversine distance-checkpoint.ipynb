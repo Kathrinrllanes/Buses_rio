{
 "cells": [
  {
   "cell_type": "code",
   "execution_count": 2,
   "metadata": {
    "collapsed": false,
    "scrolled": true
   },
   "outputs": [],
   "source": [
    "import pandas as pd\n",
    "from pymongo import MongoClient, GEO2D\n",
    "import pymongo\n",
    "import json\n",
    "import datetime\n",
    "from bson.son import SON\n",
    "import folium \n",
    "from math import *\n",
    "import numpy as np\n",
    "from IPython.display import display\n",
    "import matplotlib.pyplot as plt\n",
    "import plotly.plotly as py\n",
    "from plotly.graph_objs import *\n"
   ]
  },
  {
   "cell_type": "code",
   "execution_count": 3,
   "metadata": {
    "collapsed": false
   },
   "outputs": [],
   "source": [
    "df_20150727 = pd.read_csv('/home/kathrin/Doctorado/bus_rio/Datos_Omnibus/morte_motoqueiro_20150817/20150727.txt', delimiter = ('\\t'))"
   ]
  },
  {
   "cell_type": "code",
   "execution_count": 6,
   "metadata": {
    "collapsed": false
   },
   "outputs": [],
   "source": [
    "df_20150727_line_317 = df_20150727[(df_20150727['line']=='317')]"
   ]
  },
  {
   "cell_type": "code",
   "execution_count": 7,
   "metadata": {
    "collapsed": true
   },
   "outputs": [],
   "source": [
    "#Estableciendo la conexion con la base de datos morte_motoquiro en MongoDB\n",
    "db = MongoClient().morte_motoquiro_event"
   ]
  },
  {
   "cell_type": "code",
   "execution_count": 8,
   "metadata": {
    "collapsed": true
   },
   "outputs": [],
   "source": [
    "onibus317_shapes = pd.read_csv('/home/kathrin/Doctorado/bus_rio/Datos_Omnibus/Onibus/Shapes/gtfs_linha317-shapes.csv')"
   ]
  },
  {
   "cell_type": "code",
   "execution_count": 9,
   "metadata": {
    "collapsed": false
   },
   "outputs": [
    {
     "data": {
      "text/html": [
       "<div>\n",
       "<table border=\"1\" class=\"dataframe\">\n",
       "  <thead>\n",
       "    <tr style=\"text-align: right;\">\n",
       "      <th></th>\n",
       "      <th>linha</th>\n",
       "      <th>descricao</th>\n",
       "      <th>agencia</th>\n",
       "      <th>sequencia</th>\n",
       "      <th>shape_id</th>\n",
       "      <th>latitude</th>\n",
       "      <th>longitude</th>\n",
       "    </tr>\n",
       "  </thead>\n",
       "  <tbody>\n",
       "    <tr>\n",
       "      <th>0</th>\n",
       "      <td>317</td>\n",
       "      <td>317-CENTRAL X ALVORADA (VIA TUNEL SANTA BARBAR...</td>\n",
       "      <td>Fetranspor</td>\n",
       "      <td>0</td>\n",
       "      <td>17424059</td>\n",
       "      <td>-22.9049</td>\n",
       "      <td>-43.1917</td>\n",
       "    </tr>\n",
       "    <tr>\n",
       "      <th>1041</th>\n",
       "      <td>317</td>\n",
       "      <td>317-CENTRAL X ALVORADA (VIA TUNEL SANTA BARBAR...</td>\n",
       "      <td>Fetranspor</td>\n",
       "      <td>0</td>\n",
       "      <td>17589381</td>\n",
       "      <td>-23.0012</td>\n",
       "      <td>-43.3649</td>\n",
       "    </tr>\n",
       "  </tbody>\n",
       "</table>\n",
       "</div>"
      ],
      "text/plain": [
       "      linha                                          descricao     agencia  \\\n",
       "0       317  317-CENTRAL X ALVORADA (VIA TUNEL SANTA BARBAR...  Fetranspor   \n",
       "1041    317  317-CENTRAL X ALVORADA (VIA TUNEL SANTA BARBAR...  Fetranspor   \n",
       "\n",
       "      sequencia  shape_id  latitude  longitude  \n",
       "0             0  17424059  -22.9049   -43.1917  \n",
       "1041          0  17589381  -23.0012   -43.3649  "
      ]
     },
     "execution_count": 9,
     "metadata": {},
     "output_type": "execute_result"
    }
   ],
   "source": [
    "df_initial_point = onibus317_shapes[(onibus317_shapes['sequencia']==0)]\n",
    "df_initial_point"
   ]
  },
  {
   "cell_type": "code",
   "execution_count": 10,
   "metadata": {
    "collapsed": true
   },
   "outputs": [],
   "source": [
    "#Punto inicial del omnibus 317 Central do Brasil\n",
    "initial_point = (-22.9049,-43.1917)\n",
    "#Punto inicial del omnibus invertido\n",
    "inverted_initial_point = (-43.1917, -22.9049)\n",
    "#Punto final del omnibus 317 Centro\n",
    "final_point = (-23.0012, -43.3649)\n",
    "#Punto final del omnibus invertido\n",
    "inverted_final_point = (-43.3649, -23.0012)"
   ]
  },
  {
   "cell_type": "code",
   "execution_count": 11,
   "metadata": {
    "collapsed": true
   },
   "outputs": [],
   "source": [
    "\"\"\"Funciones para renderizar el mapa en el html\"\"\"\n",
    "from IPython.display import HTML\n",
    " \n",
    "def inline_map(map):\n",
    "    \"\"\"\n",
    "    Embeds the HTML source of the map directly into the IPython notebook.\n",
    "    \n",
    "    This method will not work if the map depends on any files (json data). Also this uses\n",
    "    the HTML5 srcdoc attribute, which may not be supported in all browsers.\n",
    "    \"\"\"\n",
    "    map._build_map()\n",
    "    return HTML('<iframe srcdoc=\"{srcdoc}\" style=\"width: 100%; height: 510px; border: none\"></iframe>'.format(srcdoc=map.HTML.replace('\"', '&quot;')))\n",
    " \n",
    "def embed_map(map, path=\"map.html\"):\n",
    "    \"\"\"\n",
    "    Embeds a linked iframe to the map into the IPython notebook.\n",
    "    \n",
    "    Note: this method will not capture the source of the map into the notebook.\n",
    "    This method should work for all maps (as long as they use relative urls).\n",
    "    \"\"\"\n",
    "    map.create_map(path=path)\n",
    "    return HTML('<iframe src=\"files/{path}\" style=\"width: 100%; height: 510px; border: none\"></iframe>'.format(path=path))"
   ]
  },
  {
   "cell_type": "code",
   "execution_count": 12,
   "metadata": {
    "collapsed": false,
    "scrolled": false
   },
   "outputs": [
    {
     "data": {
      "text/html": [
       "<iframe src=\"files/map.html\" style=\"width: 100%; height: 510px; border: none\"></iframe>"
      ],
      "text/plain": [
       "<IPython.core.display.HTML object>"
      ]
     },
     "execution_count": 12,
     "metadata": {},
     "output_type": "execute_result"
    }
   ],
   "source": [
    "fmap317=folium.Map(location=[-22.923714, -43.258999], zoom_start=11)\n",
    "locations317 = []\n",
    "for row in onibus317_shapes.iterrows():\n",
    "    #The 'latitude' and 'longitude' names correspond to column names in the original cceats dataframe\n",
    "    locations317.insert(len(locations317), [ row[1]['latitude'], row[1]['longitude'] ])\n",
    "    \n",
    "#Pintando Circulos de radio de 50m alrededor de los puntos incial y final \n",
    "fmap317.simple_marker(initial_point, popup='Central')\n",
    "fmap317.simple_marker(final_point, popup='Alborada')\n",
    "fmap317.simple_marker((-22.992551 , -43.249098), popup='Morte Motoqueiro')\n",
    "\n",
    "#Punto inicial\n",
    "fmap317.circle_marker(location=final_point, radius=50,line_color='green',\n",
    "                 fill_color='#3186cc', fill_opacity=0.2)\n",
    "\n",
    "#Punto inicial\n",
    "fmap317.circle_marker(location=initial_point, radius=50,line_color='red',\n",
    "                 fill_color='#3186cc', fill_opacity=0.2)\n",
    "\n",
    "fmap317.line(locations317)\n",
    "embed_map(fmap317)"
   ]
  },
  {
   "cell_type": "code",
   "execution_count": 39,
   "metadata": {
    "collapsed": false,
    "scrolled": true
   },
   "outputs": [
    {
     "data": {
      "text/html": [
       "<iframe src=\"files/map.html\" style=\"width: 100%; height: 510px; border: none\"></iframe>"
      ],
      "text/plain": [
       "<IPython.core.display.HTML object>"
      ]
     },
     "execution_count": 39,
     "metadata": {},
     "output_type": "execute_result"
    }
   ],
   "source": [
    "#esto es para graficar todos los puntos de todos los omnibus 317 que cirsularon ese dia\n",
    "for row in df_20150727_line_317.iterrows():\n",
    "    #The 'latitude' and 'longitude' names correspond to column names in the original cceats dataframe\n",
    "    latlon = [ row[1]['latitude'], row[1]['longitude'] ]\n",
    "    fmap317.polygon_marker( latlon, fill_color='white', num_sides=4, radius=6)\n",
    "    \n",
    "\n",
    "embed_map(fmap317)"
   ]
  },
  {
   "cell_type": "code",
   "execution_count": 14,
   "metadata": {
    "collapsed": false
   },
   "outputs": [
    {
     "data": {
      "text/plain": [
       "[u'C41102',\n",
       " u'C41237',\n",
       " u'C41093',\n",
       " u'C41420',\n",
       " u'C41130',\n",
       " u'C41413',\n",
       " u'C41415',\n",
       " u'C41412',\n",
       " u'C41406',\n",
       " u'C41417',\n",
       " u'C41410',\n",
       " u'C41390',\n",
       " u'C41411',\n",
       " u'C41427',\n",
       " u'C41402']"
      ]
     },
     "execution_count": 14,
     "metadata": {},
     "output_type": "execute_result"
    }
   ],
   "source": [
    "#Function to compute the bus_ids circulating during a day  \n",
    "bus_id_20150727_317 = db.dados20150727_line_317.distinct(\"bus_id\")\n",
    "bus_id_20150727_317"
   ]
  },
  {
   "cell_type": "code",
   "execution_count": 15,
   "metadata": {
    "collapsed": false
   },
   "outputs": [
    {
     "data": {
      "text/plain": [
       "15"
      ]
     },
     "execution_count": 15,
     "metadata": {},
     "output_type": "execute_result"
    }
   ],
   "source": [
    "len(bus_id_20150727_317)"
   ]
  },
  {
   "cell_type": "code",
   "execution_count": 16,
   "metadata": {
    "collapsed": false
   },
   "outputs": [],
   "source": [
    "#meter en una lista todos los bus_id\n",
    "def get_busId_list(busId_list):\n",
    "    array_busId = []\n",
    "    for bus in busId_list:\n",
    "        strbus = str(bus)\n",
    "        array_busId.insert(len(array_busId), strbus)\n",
    "    return array_busId"
   ]
  },
  {
   "cell_type": "code",
   "execution_count": 17,
   "metadata": {
    "collapsed": false
   },
   "outputs": [
    {
     "data": {
      "text/plain": [
       "['C41102',\n",
       " 'C41237',\n",
       " 'C41093',\n",
       " 'C41420',\n",
       " 'C41130',\n",
       " 'C41413',\n",
       " 'C41415',\n",
       " 'C41412',\n",
       " 'C41406',\n",
       " 'C41417',\n",
       " 'C41410',\n",
       " 'C41390',\n",
       " 'C41411',\n",
       " 'C41427',\n",
       " 'C41402']"
      ]
     },
     "execution_count": 17,
     "metadata": {},
     "output_type": "execute_result"
    }
   ],
   "source": [
    "array_busId = get_busId_list(bus_id_20150727_317)\n",
    "array_busId"
   ]
  },
  {
   "cell_type": "code",
   "execution_count": 134,
   "metadata": {
    "collapsed": true
   },
   "outputs": [],
   "source": [
    "#funcion que dado un el bus_id de un omnibus y un punto inicial/final devuelve los puntos mas cercanos a ese punto. \n",
    "# A esa función se le debería pasar también la BD, pero ahora no se va a hacer asi\n",
    "def near_points_to_origin (bus_id, inverted_origin_point):\n",
    "    near_initial_points_array = []\n",
    "    #la funcion $within recibe las coordenadas en orden inverso (primero longitud y después latitud) la distancia del radio del within está en radianes\n",
    "    for row in db.dados20150727_line_317.find({\"latlon\": {\"$within\": {\"$center\": [inverted_origin_point, 0.0035499543]}}, \"bus_id\": bus_id}).sort(\"timestamp\",pymongo.DESCENDING):\n",
    "        near_initial_points_array.insert(0, [row[u'timestamp'], row[u'latitude'], row[u'longitude'], row[u'speed']])\n",
    "    #convert the array in panda dataframe \n",
    "    sorted_near_initial_points = pd.DataFrame(near_initial_points_array, columns=['timestamp', 'latitude', 'longitude', 'speed'])\n",
    "    return sorted_near_initial_points"
   ]
  },
  {
   "cell_type": "code",
   "execution_count": 109,
   "metadata": {
    "collapsed": true
   },
   "outputs": [],
   "source": [
    "def bus_departure_hour (initial_points_timestamp_list):\n",
    "    list_departure_hours = []\n",
    "    i = 0\n",
    "    if len(initial_points_timestamp_list) >1:\n",
    "        for i in range(0, len(initial_points_timestamp_list)-1):\n",
    "            resto = datetime.datetime.strptime(initial_points_timestamp_list[i+1], \"%d-%m-%Y %H:%M:%S\")-datetime.datetime.strptime(initial_points_timestamp_list[i], \"%d-%m-%Y %H:%M:%S\")\n",
    "            resto_total = resto.total_seconds()/60\n",
    "            #si la diferencia entre los timestamp del omnibus en el putno supera los 40 minutos es q dio un viaje y regreso, sino lo supera es que se mantuvo ese tiempo esperando en el punto\n",
    "            if (resto_total > 40):\n",
    "                 list_departure_hours.insert(len( list_departure_hours),datetime.datetime.strptime(initial_points_timestamp_list[i], \"%d-%m-%Y %H:%M:%S\"))\n",
    "        #siempre es necesario insertar el ultimo valor de la lista de \"initial_points_timestamp\" en la lista de  list_departure_hours \n",
    "        list_departure_hours.insert(len( list_departure_hours),datetime.datetime.strptime(initial_points_timestamp_list[i+1], \"%d-%m-%Y %H:%M:%S\"))\n",
    "    elif len(initial_points_timestamp_list) == 1:\n",
    "        list_departure_hours.insert(len( list_departure_hours),datetime.datetime.strptime(initial_points_timestamp_list[0], \"%d-%m-%Y %H:%M:%S\"))\n",
    "    else:\n",
    "        list_departure_hours = []\n",
    "    return list_departure_hours"
   ]
  },
  {
   "cell_type": "code",
   "execution_count": 110,
   "metadata": {
    "collapsed": true
   },
   "outputs": [],
   "source": [
    "#Funcion que retorna el arreglo con las horas de llegada del omnibus al punto inicial/final del trayecto\n",
    "def bus_arrive_hour (initial_points_timestamp_list):\n",
    "    list_arrive_hours = []\n",
    "    #siempre es necesario insertar el ultimo valor de la lista de \"initial_points_timestamp\" en la lista de leblon_departure_hours \n",
    "    if len(initial_points_timestamp_list) >1:\n",
    "        list_arrive_hours.insert(len(list_arrive_hours),datetime.datetime.strptime(initial_points_timestamp_list[0], \"%d-%m-%Y %H:%M:%S\"))\n",
    "        for i in range(0,  len(initial_points_timestamp_list)-1):\n",
    "            resto = datetime.datetime.strptime(initial_points_timestamp_list[i+1], \"%d-%m-%Y %H:%M:%S\")-datetime.datetime.strptime(initial_points_timestamp_list[i], \"%d-%m-%Y %H:%M:%S\")\n",
    "            resto_total = resto.total_seconds()/60\n",
    "            if (resto_total > 40):\n",
    "                list_arrive_hours.insert(len(list_arrive_hours),datetime.datetime.strptime(initial_points_timestamp_list[i+1], \"%d-%m-%Y %H:%M:%S\"))\n",
    "    elif (len(initial_points_timestamp_list) == 1):\n",
    "        list_arrive_hours.insert(len(list_arrive_hours),datetime.datetime.strptime(initial_points_timestamp_list[0], \"%d-%m-%Y %H:%M:%S\"))\n",
    "    else:\n",
    "        list_arrive_hours = []        \n",
    "    return list_arrive_hours"
   ]
  },
  {
   "cell_type": "code",
   "execution_count": 111,
   "metadata": {
    "collapsed": true
   },
   "outputs": [],
   "source": [
    "#Para convertir de formato timedelta para horas y minutos\n",
    "def days_hours_minutes(travel_time):\n",
    "    hours = travel_time.seconds//3600 \n",
    "    minutes = (travel_time.seconds//60)%60\n",
    "    #print '%d hours, %d minutes' % (hours,minutes)\n",
    "    if minutes < 10:\n",
    "        minutes = str(0)+str(minutes)\n",
    "    return str(hours) + \":\"+ str(minutes)"
   ]
  },
  {
   "cell_type": "code",
   "execution_count": 112,
   "metadata": {
    "collapsed": true
   },
   "outputs": [],
   "source": [
    "#Funcion que crea la tabla de viajes con los tiempos de viaje\n",
    "def create_travel_table (name_A, arrive_array_A, departure_array_A, name_B, arrive_array_B, departure_array_B, bus_Id, bus_line):\n",
    "    \n",
    "    my_time_table = []   \n",
    "    num_travel = 0    \n",
    "    i = 0 #Cursor para moverme por el departure_array_A(arreglo q contiene las horas de salida del punto incial)   \n",
    "    j = 0 #Cursor para moverme por el departure_array_B (arreglo q contiene las horas de salida del punto final)\n",
    "   \n",
    "    while (i<len(departure_array_A) and j< len(departure_array_B)):\n",
    "        if (departure_array_A[i] < departure_array_B[j]):\n",
    "            if(i+1 == len(departure_array_A)):\n",
    "                direction = name_A + \"_to_\" + name_B\n",
    "                departure_hour = departure_array_A[i]\n",
    "                i = i +1\n",
    "                arrive_hour = arrive_array_B[j]\n",
    "                num_travel = num_travel +1\n",
    "                travel_time = days_hours_minutes(arrive_hour - departure_hour)          \n",
    "                my_time_table.insert(len(my_time_table), [bus_line, bus_Id, direction, departure_hour,arrive_hour, travel_time])\n",
    "         \n",
    "            elif ((i+1 < len(departure_array_A)) and (departure_array_B[j] < departure_array_A[i+1])):\n",
    "                direction = name_A + \"_to_\" + name_B\n",
    "                departure_hour = departure_array_A[i]\n",
    "                i = i +1\n",
    "                arrive_hour = arrive_array_B[j]\n",
    "                num_travel = num_travel +1\n",
    "                travel_time = days_hours_minutes(arrive_hour - departure_hour)          \n",
    "                my_time_table.insert(len(my_time_table), [bus_line, bus_Id, direction, departure_hour,arrive_hour, travel_time])\n",
    "            else: \n",
    "                i = i +1\n",
    "            \n",
    "        elif(departure_array_B[j] < departure_array_A[i]):\n",
    "            if (j+1 == len(departure_array_B)):\n",
    "                direction = name_B + \"_to_\" + name_A\n",
    "                departure_hour = departure_array_B[j]\n",
    "                j = j +1\n",
    "                arrive_hour = arrive_array_A[i]\n",
    "                num_travel = num_travel +1\n",
    "                travel_time = days_hours_minutes(arrive_hour - departure_hour)          \n",
    "                my_time_table.insert(len(my_time_table), [bus_line, bus_Id, direction, departure_hour,arrive_hour, travel_time])\n",
    "            \n",
    "            elif ((j+1 < len(departure_array_B)) and (departure_array_A[i] < departure_array_B[j+1])):\n",
    "                direction = name_B + \"_to_\" + name_A\n",
    "                departure_hour = departure_array_B[j]\n",
    "                j = j +1\n",
    "                arrive_hour = arrive_array_A[i]\n",
    "                num_travel = num_travel +1\n",
    "                travel_time = days_hours_minutes(arrive_hour - departure_hour)          \n",
    "                my_time_table.insert(len(my_time_table), [bus_line, bus_Id, direction, departure_hour,arrive_hour, travel_time])\n",
    "            else:\n",
    "                j = j +1                \n",
    "            \n",
    "    #Construir el dataframe pasandole el array con todos los datos de los viajes   \n",
    "    mydf = pd.DataFrame(my_time_table, columns=['Line', 'Bus_Id','Direction','Departure_Hour', 'Arrive_Hour', 'Travel_Time'])       \n",
    "    return mydf  "
   ]
  },
  {
   "cell_type": "code",
   "execution_count": 113,
   "metadata": {
    "collapsed": true
   },
   "outputs": [],
   "source": [
    "#Funcion que crea la tabla de tiempo de viaje para cada bus_id de los que transitaron el el dia\n",
    "def all_travel_table (line, punto_ini_coord_invertidas, name_punto_inicio, punto_fin_coord_invertidas, name_punto_final, array_busId):\n",
    "    new_df = pd.DataFrame(columns=['Line', 'Bus_Id','Direction','Departure_Hour', 'Arrive_Hour', 'Travel_Time'])  \n",
    "    for busId in array_busId:\n",
    "        sorted_near_initial_points1 = near_points_to_origin(busId, punto_ini_coord_invertidas)\n",
    "        sorted_near_final_points1 = near_points_to_origin(busId, punto_fin_coord_invertidas)\n",
    "        initial_points_timestamp1 = sorted_near_initial_points1 ['timestamp']\n",
    "        final_points_timestamp1 = sorted_near_final_points1 ['timestamp']\n",
    "        #chequear si la lista initial_points_timestamp es diferente de vacio\n",
    "        if len(initial_points_timestamp1) and len(final_points_timestamp1):\n",
    "            vilaIsabel_departure_hours1 = bus_departure_hour(initial_points_timestamp1)\n",
    "            first_point_departure_hour = bus_departure_hour (initial_points_timestamp1)\n",
    "            last_point_departure_hour = bus_departure_hour (final_points_timestamp1)\n",
    "            first_point_arrive_hour = bus_arrive_hour(initial_points_timestamp1)\n",
    "            last_point_arrive_hour = bus_arrive_hour(final_points_timestamp1)\n",
    "            my_time_table = create_travel_table(name_punto_inicio, first_point_arrive_hour, first_point_departure_hour, name_punto_final, last_point_arrive_hour, last_point_departure_hour, busId, line)\n",
    "            new_df = new_df.append(my_time_table, ignore_index=True)\n",
    "    return new_df"
   ]
  },
  {
   "cell_type": "code",
   "execution_count": 63,
   "metadata": {
    "collapsed": true
   },
   "outputs": [],
   "source": [
    "#Funcion para calcular la distancia entre 2 puntos, teniendo en cuenta el radio de la tierra\n",
    "from math import radians, cos, sin, asin, sqrt\n",
    "\n",
    "def haversine(lon1, lat1, lon2, lat2):\n",
    "    \"\"\"\n",
    "    Calculate the great circle distance between two points \n",
    "    on the earth (specified in decimal degrees)\n",
    "    \"\"\"\n",
    "    # convert decimal degrees to radians \n",
    "    lon1, lat1, lon2, lat2 = map(radians, [lon1, lat1, lon2, lat2])\n",
    "\n",
    "    # haversine formula \n",
    "    dlon = lon2 - lon1 \n",
    "    dlat = lat2 - lat1 \n",
    "    a = sin(dlat/2)**2 + cos(lat1) * cos(lat2) * sin(dlon/2)**2\n",
    "    c = 2 * asin(sqrt(a)) \n",
    "    r = 6371 # Radius of earth in kilometers. Use 3956 for miles\n",
    "    return (c * r)*1000 # return the distance in m"
   ]
  },
  {
   "cell_type": "code",
   "execution_count": 64,
   "metadata": {
    "collapsed": true
   },
   "outputs": [],
   "source": [
    "\"\"\"\n",
    "funcion que dado un vector de lat, long y un punto A(lat,long), me devuelve un vector con\n",
    "la distancia de cada par al punto A\n",
    " \"\"\"\n",
    "def vector_distancia(vector, point):\n",
    "    vector_distance = []\n",
    "    lat2 = point[0]\n",
    "    long2 = point[1]\n",
    "    for item in vector:\n",
    "        lat1 = item[1]\n",
    "        long1 = item[2]\n",
    "        distance = haversine(long2, lat2, long1, lat1)\n",
    "        latlon = (item[1], item[2])\n",
    "        vector_distance.insert(len(vector_distance), [item[0],latlon, distance])\n",
    "    df_vector_distance = pd.DataFrame(vector_distance, columns=['timestamp', 'latlon', 'distance'])\n",
    "    return df_vector_distance   "
   ]
  },
  {
   "cell_type": "code",
   "execution_count": null,
   "metadata": {
    "collapsed": true
   },
   "outputs": [],
   "source": [
    "df_20150727_line_317_C41102 = df_20150727_line_317[(df_20150727_line_317['bus_id']=='C41102')]\n",
    "#para seleccionar solo algunas columnas del dataframe, en este caso la columna 1(timestamp), la 4(latitude) y la 5(longitude)\n",
    "important_columns_C41102 = df_20150727_line_317_C41102.iloc[:,[0,3,4]]\n",
    "vector_C41102 = important_columns_C41102.values.tolist()"
   ]
  },
  {
   "cell_type": "code",
   "execution_count": 65,
   "metadata": {
    "collapsed": false
   },
   "outputs": [],
   "source": [
    "#para el bus_id C41102\n",
    "vector_dist_to_ini_point_C41102 = vector_distancia(vector_C41102, initial_point)\n",
    "sorted_vector_dist_to_ini_point_C41102 = vector_dist_to_ini_point_C41102.sort([\"timestamp\"])\n",
    "\n",
    "vector_dist_to_final_point_C41102  = vector_distancia(vector_C41102, final_point)\n",
    "sorted_vector_dist_to_final_point_C41102 = vector_dist_to_final_point_C41102.sort([\"timestamp\"])\n"
   ]
  },
  {
   "cell_type": "code",
   "execution_count": 124,
   "metadata": {
    "collapsed": false
   },
   "outputs": [
    {
     "data": {
      "text/html": [
       "<iframe id=\"igraph\" scrolling=\"no\" style=\"border:none;\"seamless=\"seamless\" src=\"https://plot.ly/~kllanes/7.embed\" height=\"525px\" width=\"100%\"></iframe>"
      ],
      "text/plain": [
       "<plotly.tools.PlotlyDisplay object>"
      ]
     },
     "execution_count": 124,
     "metadata": {},
     "output_type": "execute_result"
    }
   ],
   "source": [
    "#hacer una grafica interactiva con la libreria de python (plotly.plotly). Se instala por consola asi: sudo pip install plotly\n",
    "#distancia del punto final (central)\n",
    "\n",
    "trace_C41102 = Scatter(x = sorted_vector_dist_to_ini_point_C41102['timestamp'], y = sorted_vector_dist_to_ini_point_C41102['distance'])\n",
    "data = Data([trace_C41102])\n",
    "py.iplot(data, filename='pandas-time-series')"
   ]
  },
  {
   "cell_type": "code",
   "execution_count": 118,
   "metadata": {
    "collapsed": false
   },
   "outputs": [],
   "source": [
    "sorted_near_initial_points_C41102 = near_points_to_origin ('C41102', inverted_initial_point)\n",
    "sorted_near_final_points_C41102 = near_points_to_origin ('C41102', inverted_final_point)\n",
    "\n",
    "initial_points_timestamp_C41102 = sorted_near_initial_points_C41102['timestamp']\n",
    "final_points_timestamp_C41102 = sorted_near_final_points_C41102['timestamp']\n",
    "\n",
    "initial_departure_hours_C41102 = bus_departure_hour(initial_points_timestamp_C41102)\n",
    "final_departure_hours_C41102 = bus_departure_hour(final_points_timestamp_C41102)\n",
    "\n",
    "arrive_hour_to_initialpoint_C41102 = bus_arrive_hour(initial_points_timestamp_C41102)\n",
    "arrive_hour_to_finalpoint_C41102 = bus_arrive_hour(final_points_timestamp_C41102)\n"
   ]
  },
  {
   "cell_type": "code",
   "execution_count": 122,
   "metadata": {
    "collapsed": false,
    "scrolled": true
   },
   "outputs": [
    {
     "data": {
      "text/html": [
       "<div>\n",
       "<table border=\"1\" class=\"dataframe\">\n",
       "  <thead>\n",
       "    <tr style=\"text-align: right;\">\n",
       "      <th></th>\n",
       "      <th>Line</th>\n",
       "      <th>Bus_Id</th>\n",
       "      <th>Direction</th>\n",
       "      <th>Departure_Hour</th>\n",
       "      <th>Arrive_Hour</th>\n",
       "      <th>Travel_Time</th>\n",
       "    </tr>\n",
       "  </thead>\n",
       "  <tbody>\n",
       "    <tr>\n",
       "      <th>0</th>\n",
       "      <td>317</td>\n",
       "      <td>C41102</td>\n",
       "      <td>Central_to_Alborada</td>\n",
       "      <td>2015-07-27 04:25:57</td>\n",
       "      <td>2015-07-27 05:11:49</td>\n",
       "      <td>0:45</td>\n",
       "    </tr>\n",
       "    <tr>\n",
       "      <th>1</th>\n",
       "      <td>317</td>\n",
       "      <td>C41102</td>\n",
       "      <td>Alborada_to_Central</td>\n",
       "      <td>2015-07-27 05:22:38</td>\n",
       "      <td>2015-07-27 06:42:34</td>\n",
       "      <td>1:19</td>\n",
       "    </tr>\n",
       "    <tr>\n",
       "      <th>2</th>\n",
       "      <td>317</td>\n",
       "      <td>C41102</td>\n",
       "      <td>Central_to_Alborada</td>\n",
       "      <td>2015-07-27 06:50:44</td>\n",
       "      <td>2015-07-27 08:30:42</td>\n",
       "      <td>1:39</td>\n",
       "    </tr>\n",
       "    <tr>\n",
       "      <th>3</th>\n",
       "      <td>317</td>\n",
       "      <td>C41102</td>\n",
       "      <td>Alborada_to_Central</td>\n",
       "      <td>2015-07-27 08:36:32</td>\n",
       "      <td>2015-07-27 10:14:53</td>\n",
       "      <td>1:38</td>\n",
       "    </tr>\n",
       "  </tbody>\n",
       "</table>\n",
       "</div>"
      ],
      "text/plain": [
       "  Line  Bus_Id            Direction      Departure_Hour         Arrive_Hour  \\\n",
       "0  317  C41102  Central_to_Alborada 2015-07-27 04:25:57 2015-07-27 05:11:49   \n",
       "1  317  C41102  Alborada_to_Central 2015-07-27 05:22:38 2015-07-27 06:42:34   \n",
       "2  317  C41102  Central_to_Alborada 2015-07-27 06:50:44 2015-07-27 08:30:42   \n",
       "3  317  C41102  Alborada_to_Central 2015-07-27 08:36:32 2015-07-27 10:14:53   \n",
       "\n",
       "  Travel_Time  \n",
       "0        0:45  \n",
       "1        1:19  \n",
       "2        1:39  \n",
       "3        1:38  "
      ]
     },
     "execution_count": 122,
     "metadata": {},
     "output_type": "execute_result"
    }
   ],
   "source": [
    "travel_table_C41102 = create_travel_table(\"Central\", arrive_hour_to_initialpoint_C41102, initial_departure_hours_C41102, \"Alborada\", arrive_hour_to_finalpoint_C41102, final_departure_hours_C41102, 'C41102', '317' )\n",
    "travel_table_C41102"
   ]
  },
  {
   "cell_type": "code",
   "execution_count": 121,
   "metadata": {
    "collapsed": false
   },
   "outputs": [
    {
     "data": {
      "text/html": [
       "<iframe src=\"files/map.html\" style=\"width: 100%; height: 510px; border: none\"></iframe>"
      ],
      "text/plain": [
       "<IPython.core.display.HTML object>"
      ]
     },
     "execution_count": 121,
     "metadata": {},
     "output_type": "execute_result"
    }
   ],
   "source": [
    "fmap317_C41102_=folium.Map(location=[-22.923714, -43.258999], zoom_start=11)\n",
    "locations317 = []\n",
    "for row in onibus317_shapes.iterrows():\n",
    "    #The 'latitude' and 'longitude' names correspond to column names in the original cceats dataframe\n",
    "    locations317.insert(len(locations317), [ row[1]['latitude'], row[1]['longitude'] ])\n",
    "    \n",
    "#Pintando Circulos de radio de 50m alrededor de los puntos incial y final \n",
    "fmap317_C41102_.simple_marker(initial_point, popup='Central')\n",
    "fmap317_C41102_.simple_marker(final_point, popup='Alborada')\n",
    "fmap317_C41102_.simple_marker((-22.992551 , -43.249098), popup='Morte Motoqueiro')\n",
    "\n",
    "#Punto inicial\n",
    "fmap317_C41102_.circle_marker(location=final_point, radius=250,line_color='green',\n",
    "                 fill_color='#3186cc', fill_opacity=0.2)\n",
    "\n",
    "#Punto inicial\n",
    "fmap317_C41102_.circle_marker(location=initial_point, radius=250,line_color='red',\n",
    "                 fill_color='#3186cc', fill_opacity=0.2)\n",
    "\n",
    "for row in df_20150727_line_317_C41102.iterrows():\n",
    "    #The 'latitude' and 'longitude' names correspond to column names in the original cceats dataframe\n",
    "    latlon = [ row[1]['latitude'], row[1]['longitude'] ]\n",
    "    fmap317_C41102_.polygon_marker( latlon, fill_color='white', num_sides=4, radius=6)\n",
    "\n",
    "for row in sorted_near_initial_points_C41102.iterrows():\n",
    "    #The 'latitude' and 'longitude' names correspond to column names in the original cceats dataframe\n",
    "    latlon = [ row[1]['latitude'], row[1]['longitude'] ]\n",
    "    fmap317_C41102_.polygon_marker( latlon, fill_color='red', num_sides=4, radius=6)\n",
    "\n",
    "for row in sorted_near_final_points_C41102.iterrows():\n",
    "    #The 'latitude' and 'longitude' names correspond to column names in the original cceats dataframe\n",
    "    latlon = [ row[1]['latitude'], row[1]['longitude'] ]\n",
    "    fmap317_C41102_.polygon_marker( latlon, fill_color='red', num_sides=4, radius=6)\n",
    "    \n",
    "fmap317_C41102_.line(locations317)\n",
    "embed_map(fmap317_C41102_)"
   ]
  },
  {
   "cell_type": "code",
   "execution_count": 125,
   "metadata": {
    "collapsed": false
   },
   "outputs": [
    {
     "data": {
      "text/html": [
       "<iframe id=\"igraph\" scrolling=\"no\" style=\"border:none;\"seamless=\"seamless\" src=\"https://plot.ly/~kllanes/7.embed\" height=\"525px\" width=\"100%\"></iframe>"
      ],
      "text/plain": [
       "<plotly.tools.PlotlyDisplay object>"
      ]
     },
     "execution_count": 125,
     "metadata": {},
     "output_type": "execute_result"
    }
   ],
   "source": [
    "#para el bus_id C41237\n",
    "df_20150727_line_317_C41237 = df_20150727_line_317[(df_20150727_line_317['bus_id']=='C41237')]\n",
    "#para seleccionar solo algunas columnas del dataframe, en este caso la columna 1(timestamp), la 4(latitude) y la 5(longitude)\n",
    "important_columns_C41237 = df_20150727_line_317_C41237.iloc[:,[0,3,4]]\n",
    "vector_C41237 = important_columns_C41237.values.tolist()\n",
    "\n",
    "vector_dist_to_ini_point_C41237 = vector_distancia(vector_C41237, initial_point)\n",
    "sorted_vector_dist_to_ini_point_C41237 = vector_dist_to_ini_point_C41237.sort([\"timestamp\"])\n",
    "\n",
    "vector_dist_to_final_point_C41237  = vector_distancia(vector_C41237, final_point)\n",
    "sorted_vector_dist_to_final_point_C41237 = vector_dist_to_final_point_C41237.sort([\"timestamp\"])\n",
    "\n",
    "#hacer una grafica interactiva con la libreria de python (plotly.plotly). Se instala por consola asi: sudo pip install plotly\n",
    "#distancia del punto final (central)\n",
    "\n",
    "trace_C41237 = Scatter(x = sorted_vector_dist_to_ini_point_C41237['timestamp'], y = sorted_vector_dist_to_ini_point_C41237['distance'])\n",
    "data = Data([trace_C41237])\n",
    "py.iplot(data, filename='pandas-time-series')"
   ]
  },
  {
   "cell_type": "code",
   "execution_count": 137,
   "metadata": {
    "collapsed": false
   },
   "outputs": [
    {
     "data": {
      "text/html": [
       "<div>\n",
       "<table border=\"1\" class=\"dataframe\">\n",
       "  <thead>\n",
       "    <tr style=\"text-align: right;\">\n",
       "      <th></th>\n",
       "      <th>Line</th>\n",
       "      <th>Bus_Id</th>\n",
       "      <th>Direction</th>\n",
       "      <th>Departure_Hour</th>\n",
       "      <th>Arrive_Hour</th>\n",
       "      <th>Travel_Time</th>\n",
       "    </tr>\n",
       "  </thead>\n",
       "  <tbody>\n",
       "    <tr>\n",
       "      <th>0</th>\n",
       "      <td>317</td>\n",
       "      <td>C41237</td>\n",
       "      <td>Central_to_Alborada</td>\n",
       "      <td>2015-07-27 08:06:36</td>\n",
       "      <td>2015-07-27 09:48:59</td>\n",
       "      <td>1:42</td>\n",
       "    </tr>\n",
       "    <tr>\n",
       "      <th>1</th>\n",
       "      <td>317</td>\n",
       "      <td>C41237</td>\n",
       "      <td>Alborada_to_Central</td>\n",
       "      <td>2015-07-27 10:01:49</td>\n",
       "      <td>2015-07-27 11:35:05</td>\n",
       "      <td>1:33</td>\n",
       "    </tr>\n",
       "    <tr>\n",
       "      <th>2</th>\n",
       "      <td>317</td>\n",
       "      <td>C41237</td>\n",
       "      <td>Central_to_Alborada</td>\n",
       "      <td>2015-07-27 12:07:50</td>\n",
       "      <td>2015-07-27 13:21:53</td>\n",
       "      <td>1:14</td>\n",
       "    </tr>\n",
       "    <tr>\n",
       "      <th>3</th>\n",
       "      <td>317</td>\n",
       "      <td>C41237</td>\n",
       "      <td>Alborada_to_Central</td>\n",
       "      <td>2015-07-27 13:38:48</td>\n",
       "      <td>2015-07-27 14:51:58</td>\n",
       "      <td>1:13</td>\n",
       "    </tr>\n",
       "    <tr>\n",
       "      <th>4</th>\n",
       "      <td>317</td>\n",
       "      <td>C41237</td>\n",
       "      <td>Central_to_Alborada</td>\n",
       "      <td>2015-07-27 15:10:03</td>\n",
       "      <td>2015-07-27 16:38:51</td>\n",
       "      <td>1:28</td>\n",
       "    </tr>\n",
       "  </tbody>\n",
       "</table>\n",
       "</div>"
      ],
      "text/plain": [
       "  Line  Bus_Id            Direction      Departure_Hour         Arrive_Hour  \\\n",
       "0  317  C41237  Central_to_Alborada 2015-07-27 08:06:36 2015-07-27 09:48:59   \n",
       "1  317  C41237  Alborada_to_Central 2015-07-27 10:01:49 2015-07-27 11:35:05   \n",
       "2  317  C41237  Central_to_Alborada 2015-07-27 12:07:50 2015-07-27 13:21:53   \n",
       "3  317  C41237  Alborada_to_Central 2015-07-27 13:38:48 2015-07-27 14:51:58   \n",
       "4  317  C41237  Central_to_Alborada 2015-07-27 15:10:03 2015-07-27 16:38:51   \n",
       "\n",
       "  Travel_Time  \n",
       "0        1:42  \n",
       "1        1:33  \n",
       "2        1:14  \n",
       "3        1:13  \n",
       "4        1:28  "
      ]
     },
     "execution_count": 137,
     "metadata": {},
     "output_type": "execute_result"
    }
   ],
   "source": [
    "sorted_near_initial_points_C41237 = near_points_to_origin ('C41237', inverted_initial_point)\n",
    "sorted_near_final_points_C41237 = near_points_to_origin ('C41237', inverted_final_point)\n",
    "\n",
    "initial_points_timestamp_C41237 = sorted_near_initial_points_C41237['timestamp']\n",
    "final_points_timestamp_C41237 = sorted_near_final_points_C41237['timestamp']\n",
    "\n",
    "initial_departure_hours_C41237 = bus_departure_hour(initial_points_timestamp_C41237)\n",
    "final_departure_hours_C41237 = bus_departure_hour(final_points_timestamp_C41237)\n",
    "\n",
    "arrive_hour_to_initialpoint_C41237 = bus_arrive_hour(initial_points_timestamp_C41237)\n",
    "arrive_hour_to_finalpoint_C41237 = bus_arrive_hour(final_points_timestamp_C41237)\n",
    "\n",
    "travel_table_C41237 = create_travel_table(\"Central\", arrive_hour_to_initialpoint_C41237, initial_departure_hours_C41237, \"Alborada\", arrive_hour_to_finalpoint_C41237, final_departure_hours_C41237, 'C41237', '317' )\n",
    "travel_table_C41237\n"
   ]
  },
  {
   "cell_type": "code",
   "execution_count": 136,
   "metadata": {
    "collapsed": false,
    "scrolled": false
   },
   "outputs": [
    {
     "data": {
      "text/html": [
       "<iframe src=\"files/map.html\" style=\"width: 100%; height: 510px; border: none\"></iframe>"
      ],
      "text/plain": [
       "<IPython.core.display.HTML object>"
      ]
     },
     "execution_count": 136,
     "metadata": {},
     "output_type": "execute_result"
    }
   ],
   "source": [
    "fmap317_C41237=folium.Map(location=[-22.923714, -43.258999], zoom_start=11)\n",
    "locations317 = []\n",
    "for row in onibus317_shapes.iterrows():\n",
    "    #The 'latitude' and 'longitude' names correspond to column names in the original cceats dataframe\n",
    "    locations317.insert(len(locations317), [ row[1]['latitude'], row[1]['longitude'] ])\n",
    "    \n",
    "#Pintando Circulos de radio de 50m alrededor de los puntos incial y final \n",
    "fmap317_C41237.simple_marker(initial_point, popup='Central')\n",
    "fmap317_C41237.simple_marker(final_point, popup='Alborada')\n",
    "fmap317_C41237.simple_marker((-22.992551 , -43.249098), popup='Morte Motoqueiro')\n",
    "\n",
    "#Punto inicial\n",
    "fmap317_C41237.circle_marker(location=final_point, radius=250,line_color='green',\n",
    "                 fill_color='#3186cc', fill_opacity=0.2)\n",
    "\n",
    "#Punto inicial\n",
    "fmap317_C41237.circle_marker(location=initial_point, radius=250,line_color='red',\n",
    "                 fill_color='#3186cc', fill_opacity=0.2)\n",
    "\n",
    "for row in df_20150727_line_317_C41237.iterrows():\n",
    "    #The 'latitude' and 'longitude' names correspond to column names in the original cceats dataframe\n",
    "    latlon = [ row[1]['latitude'], row[1]['longitude'] ]\n",
    "    fmap317_C41102_.polygon_marker( latlon, fill_color='white', num_sides=4, radius=6)\n",
    "\n",
    "for row in sorted_near_initial_points_C41237.iterrows():\n",
    "    #The 'latitude' and 'longitude' names correspond to column names in the original cceats dataframe\n",
    "    latlon = [ row[1]['latitude'], row[1]['longitude'] ]\n",
    "    fmap317_C41237.polygon_marker( latlon, fill_color='red', num_sides=4, radius=6)\n",
    "\n",
    "for row in sorted_near_final_points_C41237.iterrows():\n",
    "    #The 'latitude' and 'longitude' names correspond to column names in the original cceats dataframe\n",
    "    latlon = [ row[1]['latitude'], row[1]['longitude'] ]\n",
    "    fmap317_C41237.polygon_marker( latlon, fill_color='red', num_sides=4, radius=6)\n",
    "    \n",
    "fmap317_C41237.line(locations317)\n",
    "embed_map(fmap317_C41237)"
   ]
  },
  {
   "cell_type": "code",
   "execution_count": 139,
   "metadata": {
    "collapsed": false
   },
   "outputs": [
    {
     "data": {
      "text/html": [
       "<iframe id=\"igraph\" scrolling=\"no\" style=\"border:none;\"seamless=\"seamless\" src=\"https://plot.ly/~kllanes/7.embed\" height=\"525px\" width=\"100%\"></iframe>"
      ],
      "text/plain": [
       "<plotly.tools.PlotlyDisplay object>"
      ]
     },
     "execution_count": 139,
     "metadata": {},
     "output_type": "execute_result"
    }
   ],
   "source": [
    "#para el bus_id C41093\n",
    "df_20150727_line_317_C41093 = df_20150727_line_317[(df_20150727_line_317['bus_id']=='C41093')]\n",
    "#para seleccionar solo algunas columnas del dataframe, en este caso la columna 1(timestamp), la 4(latitude) y la 5(longitude)\n",
    "important_columns_C41093 = df_20150727_line_317_C41093.iloc[:,[0,3,4]]\n",
    "vector_C41093 = important_columns_C41093.values.tolist()\n",
    "\n",
    "vector_dist_to_ini_point_C41093 = vector_distancia(vector_C41093, initial_point)\n",
    "sorted_vector_dist_to_ini_point_C41093 = vector_dist_to_ini_point_C41093.sort([\"timestamp\"])\n",
    "\n",
    "vector_dist_to_final_point_C41093  = vector_distancia(vector_C41093, final_point)\n",
    "sorted_vector_dist_to_final_point_C41093 = vector_dist_to_final_point_C41093.sort([\"timestamp\"])\n",
    "\n",
    "#hacer una grafica interactiva con la libreria de python (plotly.plotly). Se instala por consola asi: sudo pip install plotly\n",
    "#distancia del punto final (central)\n",
    "\n",
    "trace_C41093 = Scatter(x = sorted_vector_dist_to_ini_point_C41093['timestamp'], y = sorted_vector_dist_to_ini_point_C41093['distance'])\n",
    "data = Data([trace_C41093])\n",
    "py.iplot(data, filename='pandas-time-series')"
   ]
  },
  {
   "cell_type": "code",
   "execution_count": 142,
   "metadata": {
    "collapsed": false
   },
   "outputs": [
    {
     "data": {
      "text/html": [
       "<iframe id=\"igraph\" scrolling=\"no\" style=\"border:none;\"seamless=\"seamless\" src=\"https://plot.ly/~kllanes/7.embed\" height=\"525px\" width=\"100%\"></iframe>"
      ],
      "text/plain": [
       "<plotly.tools.PlotlyDisplay object>"
      ]
     },
     "execution_count": 142,
     "metadata": {},
     "output_type": "execute_result"
    }
   ],
   "source": [
    "trace_C41093 = Scatter(\n",
    "    x = sorted_vector_dist_to_final_point_C41093['timestamp'], \n",
    "    y = sorted_vector_dist_to_final_point_C41093['distance'])\n",
    "data = Data([trace_C41093])\n",
    "py.iplot(data, filename='pandas-time-series')"
   ]
  },
  {
   "cell_type": "code",
   "execution_count": 141,
   "metadata": {
    "collapsed": false
   },
   "outputs": [
    {
     "data": {
      "text/html": [
       "<div>\n",
       "<table border=\"1\" class=\"dataframe\">\n",
       "  <thead>\n",
       "    <tr style=\"text-align: right;\">\n",
       "      <th></th>\n",
       "      <th>Line</th>\n",
       "      <th>Bus_Id</th>\n",
       "      <th>Direction</th>\n",
       "      <th>Departure_Hour</th>\n",
       "      <th>Arrive_Hour</th>\n",
       "      <th>Travel_Time</th>\n",
       "    </tr>\n",
       "  </thead>\n",
       "  <tbody>\n",
       "    <tr>\n",
       "      <th>0</th>\n",
       "      <td>317</td>\n",
       "      <td>C41093</td>\n",
       "      <td>Central_to_Alborada</td>\n",
       "      <td>2015-07-27 04:51:50</td>\n",
       "      <td>2015-07-27 05:41:40</td>\n",
       "      <td>0:49</td>\n",
       "    </tr>\n",
       "  </tbody>\n",
       "</table>\n",
       "</div>"
      ],
      "text/plain": [
       "  Line  Bus_Id            Direction      Departure_Hour         Arrive_Hour  \\\n",
       "0  317  C41093  Central_to_Alborada 2015-07-27 04:51:50 2015-07-27 05:41:40   \n",
       "\n",
       "  Travel_Time  \n",
       "0        0:49  "
      ]
     },
     "execution_count": 141,
     "metadata": {},
     "output_type": "execute_result"
    }
   ],
   "source": [
    "sorted_near_initial_points_C41093 = near_points_to_origin ('C41093', inverted_initial_point)\n",
    "sorted_near_final_points_C41093 = near_points_to_origin ('C41093', inverted_final_point)\n",
    "\n",
    "initial_points_timestamp_C41093 = sorted_near_initial_points_C41093['timestamp']\n",
    "final_points_timestamp_C41093 = sorted_near_final_points_C41093['timestamp']\n",
    "\n",
    "initial_departure_hours_C41093 = bus_departure_hour(initial_points_timestamp_C41093)\n",
    "final_departure_hours_C41093 = bus_departure_hour(final_points_timestamp_C41093)\n",
    "\n",
    "arrive_hour_to_initialpoint_C41093 = bus_arrive_hour(initial_points_timestamp_C41093)\n",
    "arrive_hour_to_finalpoint_C41093 = bus_arrive_hour(final_points_timestamp_C41093)\n",
    "\n",
    "travel_table_C41093 = create_travel_table(\"Central\", arrive_hour_to_initialpoint_C41093, initial_departure_hours_C41093, \"Alborada\", arrive_hour_to_finalpoint_C41093, final_departure_hours_C41093, 'C41093', '317' )\n",
    "travel_table_C41093\n"
   ]
  },
  {
   "cell_type": "code",
   "execution_count": 144,
   "metadata": {
    "collapsed": false,
    "scrolled": true
   },
   "outputs": [
    {
     "data": {
      "text/html": [
       "<iframe src=\"files/map.html\" style=\"width: 100%; height: 510px; border: none\"></iframe>"
      ],
      "text/plain": [
       "<IPython.core.display.HTML object>"
      ]
     },
     "execution_count": 144,
     "metadata": {},
     "output_type": "execute_result"
    }
   ],
   "source": [
    "fmap317_C41093=folium.Map(location=[-22.923714, -43.258999], zoom_start=11)\n",
    "locations317 = []\n",
    "for row in onibus317_shapes.iterrows():\n",
    "    #The 'latitude' and 'longitude' names correspond to column names in the original cceats dataframe\n",
    "    locations317.insert(len(locations317), [ row[1]['latitude'], row[1]['longitude'] ])\n",
    "    \n",
    "#Pintando Circulos de radio de 50m alrededor de los puntos incial y final \n",
    "fmap317_C41093.simple_marker(initial_point, popup='Central')\n",
    "fmap317_C41093.simple_marker(final_point, popup='Alborada')\n",
    "fmap317_C41093.simple_marker((-22.992551 , -43.249098), popup='Morte Motoqueiro')\n",
    "\n",
    "#Punto inicial\n",
    "fmap317_C41093.circle_marker(location=final_point, radius=250,line_color='green',\n",
    "                 fill_color='#3186cc', fill_opacity=0.2)\n",
    "\n",
    "#Punto inicial\n",
    "fmap317_C41093.circle_marker(location=initial_point, radius=250,line_color='red',\n",
    "                 fill_color='#3186cc', fill_opacity=0.2)\n",
    "\n",
    "for row in df_20150727_line_317_C41093.iterrows():\n",
    "    #The 'latitude' and 'longitude' names correspond to column names in the original cceats dataframe\n",
    "    latlon = [ row[1]['latitude'], row[1]['longitude'] ]\n",
    "    fmap317_C41093.polygon_marker( latlon, fill_color='white', num_sides=4, radius=6)\n",
    "\n",
    "for row in sorted_near_initial_points_C41093.iterrows():\n",
    "    #The 'latitude' and 'longitude' names correspond to column names in the original cceats dataframe\n",
    "    latlon = [ row[1]['latitude'], row[1]['longitude'] ]\n",
    "    fmap317_C41093.polygon_marker( latlon, fill_color='red', num_sides=4, radius=6)\n",
    "\n",
    "for row in sorted_near_final_points_C41093.iterrows():\n",
    "    #The 'latitude' and 'longitude' names correspond to column names in the original cceats dataframe\n",
    "    latlon = [ row[1]['latitude'], row[1]['longitude'] ]\n",
    "    fmap317_C41093.polygon_marker( latlon, fill_color='red', num_sides=4, radius=6)\n",
    "    \n",
    "fmap317_C41093.line(locations317)\n",
    "embed_map(fmap317_C41093)"
   ]
  },
  {
   "cell_type": "code",
   "execution_count": 145,
   "metadata": {
    "collapsed": false
   },
   "outputs": [
    {
     "data": {
      "text/html": [
       "<iframe id=\"igraph\" scrolling=\"no\" style=\"border:none;\"seamless=\"seamless\" src=\"https://plot.ly/~kllanes/7.embed\" height=\"525px\" width=\"100%\"></iframe>"
      ],
      "text/plain": [
       "<plotly.tools.PlotlyDisplay object>"
      ]
     },
     "execution_count": 145,
     "metadata": {},
     "output_type": "execute_result"
    }
   ],
   "source": [
    "#para el bus_id C41420\n",
    "df_20150727_line_317_C41420 = df_20150727_line_317[(df_20150727_line_317['bus_id']=='C41420')]\n",
    "#para seleccionar solo algunas columnas del dataframe, en este caso la columna 1(timestamp), la 4(latitude) y la 5(longitude)\n",
    "important_columns_C41420 = df_20150727_line_317_C41420.iloc[:,[0,3,4]]\n",
    "vector_C41420 = important_columns_C41420.values.tolist()\n",
    "\n",
    "vector_dist_to_ini_point_C41420 = vector_distancia(vector_C41420, initial_point)\n",
    "sorted_vector_dist_to_ini_point_C41420 = vector_dist_to_ini_point_C41420.sort([\"timestamp\"])\n",
    "\n",
    "vector_dist_to_final_point_C41420  = vector_distancia(vector_C41420, final_point)\n",
    "sorted_vector_dist_to_final_point_C41420 = vector_dist_to_final_point_C41420.sort([\"timestamp\"])\n",
    "\n",
    "#hacer una grafica interactiva con la libreria de python (plotly.plotly). Se instala por consola asi: sudo pip install plotly\n",
    "#distancia del punto final (central)\n",
    "\n",
    "trace_C41420 = Scatter(x = sorted_vector_dist_to_ini_point_C41420['timestamp'], y = sorted_vector_dist_to_ini_point_C41420['distance'])\n",
    "data = Data([trace_C41420])\n",
    "py.iplot(data, filename='pandas-time-series')"
   ]
  },
  {
   "cell_type": "code",
   "execution_count": 146,
   "metadata": {
    "collapsed": false
   },
   "outputs": [
    {
     "data": {
      "text/html": [
       "<iframe id=\"igraph\" scrolling=\"no\" style=\"border:none;\"seamless=\"seamless\" src=\"https://plot.ly/~kllanes/7.embed\" height=\"525px\" width=\"100%\"></iframe>"
      ],
      "text/plain": [
       "<plotly.tools.PlotlyDisplay object>"
      ]
     },
     "execution_count": 146,
     "metadata": {},
     "output_type": "execute_result"
    }
   ],
   "source": [
    "trace_C41420 = Scatter(\n",
    "    x = sorted_vector_dist_to_final_point_C41420['timestamp'], \n",
    "    y = sorted_vector_dist_to_final_point_C41420['distance'])\n",
    "data = Data([trace_C41420])\n",
    "py.iplot(data, filename='pandas-time-series')"
   ]
  },
  {
   "cell_type": "code",
   "execution_count": 147,
   "metadata": {
    "collapsed": false
   },
   "outputs": [
    {
     "data": {
      "text/html": [
       "<div>\n",
       "<table border=\"1\" class=\"dataframe\">\n",
       "  <thead>\n",
       "    <tr style=\"text-align: right;\">\n",
       "      <th></th>\n",
       "      <th>Line</th>\n",
       "      <th>Bus_Id</th>\n",
       "      <th>Direction</th>\n",
       "      <th>Departure_Hour</th>\n",
       "      <th>Arrive_Hour</th>\n",
       "      <th>Travel_Time</th>\n",
       "    </tr>\n",
       "  </thead>\n",
       "  <tbody>\n",
       "  </tbody>\n",
       "</table>\n",
       "</div>"
      ],
      "text/plain": [
       "Empty DataFrame\n",
       "Columns: [Line, Bus_Id, Direction, Departure_Hour, Arrive_Hour, Travel_Time]\n",
       "Index: []"
      ]
     },
     "execution_count": 147,
     "metadata": {},
     "output_type": "execute_result"
    }
   ],
   "source": [
    "sorted_near_initial_points_C41420 = near_points_to_origin ('C41420', inverted_initial_point)\n",
    "sorted_near_final_points_C41420 = near_points_to_origin ('C41420', inverted_final_point)\n",
    "\n",
    "initial_points_timestamp_C41420 = sorted_near_initial_points_C41420['timestamp']\n",
    "final_points_timestamp_C41420 = sorted_near_final_points_C41420['timestamp']\n",
    "\n",
    "initial_departure_hours_C41420 = bus_departure_hour(initial_points_timestamp_C41420)\n",
    "final_departure_hours_C41420 = bus_departure_hour(final_points_timestamp_C41420)\n",
    "\n",
    "arrive_hour_to_initialpoint_C41420 = bus_arrive_hour(initial_points_timestamp_C41420)\n",
    "arrive_hour_to_finalpoint_C41420 = bus_arrive_hour(final_points_timestamp_C41420)\n",
    "\n",
    "travel_table_C41420 = create_travel_table(\"Central\", arrive_hour_to_initialpoint_C41420, initial_departure_hours_C41420, \"Alborada\", arrive_hour_to_finalpoint_C41420, final_departure_hours_C41420, 'C41420', '317' )\n",
    "travel_table_C41420\n"
   ]
  },
  {
   "cell_type": "code",
   "execution_count": 148,
   "metadata": {
    "collapsed": false,
    "scrolled": true
   },
   "outputs": [
    {
     "data": {
      "text/html": [
       "<iframe src=\"files/map.html\" style=\"width: 100%; height: 510px; border: none\"></iframe>"
      ],
      "text/plain": [
       "<IPython.core.display.HTML object>"
      ]
     },
     "execution_count": 148,
     "metadata": {},
     "output_type": "execute_result"
    }
   ],
   "source": [
    "fmap317_C41420=folium.Map(location=[-22.923714, -43.258999], zoom_start=11)\n",
    "locations317 = []\n",
    "for row in onibus317_shapes.iterrows():\n",
    "    #The 'latitude' and 'longitude' names correspond to column names in the original cceats dataframe\n",
    "    locations317.insert(len(locations317), [ row[1]['latitude'], row[1]['longitude'] ])\n",
    "    \n",
    "#Pintando Circulos de radio de 50m alrededor de los puntos incial y final \n",
    "fmap317_C41420.simple_marker(initial_point, popup='Central')\n",
    "fmap317_C41420.simple_marker(final_point, popup='Alborada')\n",
    "fmap317_C41420.simple_marker((-22.992551 , -43.249098), popup='Morte Motoqueiro')\n",
    "\n",
    "#Punto inicial\n",
    "fmap317_C41420.circle_marker(location=final_point, radius=250,line_color='green',\n",
    "                 fill_color='#3186cc', fill_opacity=0.2)\n",
    "\n",
    "#Punto inicial\n",
    "fmap317_C41420.circle_marker(location=initial_point, radius=250,line_color='red',\n",
    "                 fill_color='#3186cc', fill_opacity=0.2)\n",
    "\n",
    "for row in df_20150727_line_317_C41420.iterrows():\n",
    "    #The 'latitude' and 'longitude' names correspond to column names in the original cceats dataframe\n",
    "    latlon = [ row[1]['latitude'], row[1]['longitude'] ]\n",
    "    fmap317_C41420.polygon_marker( latlon, fill_color='white', num_sides=4, radius=6)\n",
    "\n",
    "for row in sorted_near_initial_points_C41420.iterrows():\n",
    "    #The 'latitude' and 'longitude' names correspond to column names in the original cceats dataframe\n",
    "    latlon = [ row[1]['latitude'], row[1]['longitude'] ]\n",
    "    fmap317_C41420.polygon_marker( latlon, fill_color='red', num_sides=4, radius=6)\n",
    "\n",
    "for row in sorted_near_final_points_C41420.iterrows():\n",
    "    #The 'latitude' and 'longitude' names correspond to column names in the original cceats dataframe\n",
    "    latlon = [ row[1]['latitude'], row[1]['longitude'] ]\n",
    "    fmap317_C41420.polygon_marker( latlon, fill_color='red', num_sides=4, radius=6)\n",
    "    \n",
    "fmap317_C41420.line(locations317)\n",
    "embed_map(fmap317_C41420)"
   ]
  },
  {
   "cell_type": "code",
   "execution_count": 149,
   "metadata": {
    "collapsed": false,
    "scrolled": false
   },
   "outputs": [
    {
     "data": {
      "text/html": [
       "<iframe id=\"igraph\" scrolling=\"no\" style=\"border:none;\"seamless=\"seamless\" src=\"https://plot.ly/~kllanes/7.embed\" height=\"525px\" width=\"100%\"></iframe>"
      ],
      "text/plain": [
       "<plotly.tools.PlotlyDisplay object>"
      ]
     },
     "execution_count": 149,
     "metadata": {},
     "output_type": "execute_result"
    }
   ],
   "source": [
    "#para el bus_id C41130\n",
    "df_20150727_line_317_C41130 = df_20150727_line_317[(df_20150727_line_317['bus_id']=='C41130')]\n",
    "#para seleccionar solo algunas columnas del dataframe, en este caso la columna 1(timestamp), la 4(latitude) y la 5(longitude)\n",
    "important_columns_C41130 = df_20150727_line_317_C41130.iloc[:,[0,3,4]]\n",
    "vector_C41130 = important_columns_C41130.values.tolist()\n",
    "\n",
    "vector_dist_to_ini_point_C41130 = vector_distancia(vector_C41130, initial_point)\n",
    "sorted_vector_dist_to_ini_point_C41130 = vector_dist_to_ini_point_C41130.sort([\"timestamp\"])\n",
    "\n",
    "vector_dist_to_final_point_C41130  = vector_distancia(vector_C41130, final_point)\n",
    "sorted_vector_dist_to_final_point_C41130 = vector_dist_to_final_point_C41130.sort([\"timestamp\"])\n",
    "\n",
    "#hacer una grafica interactiva con la libreria de python (plotly.plotly). Se instala por consola asi: sudo pip install plotly\n",
    "#distancia del punto final (central)\n",
    "\n",
    "trace_C41130 = Scatter(x = sorted_vector_dist_to_ini_point_C41130['timestamp'], y = sorted_vector_dist_to_ini_point_C41130['distance'])\n",
    "data = Data([trace_C41130])\n",
    "py.iplot(data, filename='pandas-time-series')"
   ]
  },
  {
   "cell_type": "code",
   "execution_count": 150,
   "metadata": {
    "collapsed": false
   },
   "outputs": [
    {
     "data": {
      "text/html": [
       "<div>\n",
       "<table border=\"1\" class=\"dataframe\">\n",
       "  <thead>\n",
       "    <tr style=\"text-align: right;\">\n",
       "      <th></th>\n",
       "      <th>Line</th>\n",
       "      <th>Bus_Id</th>\n",
       "      <th>Direction</th>\n",
       "      <th>Departure_Hour</th>\n",
       "      <th>Arrive_Hour</th>\n",
       "      <th>Travel_Time</th>\n",
       "    </tr>\n",
       "  </thead>\n",
       "  <tbody>\n",
       "  </tbody>\n",
       "</table>\n",
       "</div>"
      ],
      "text/plain": [
       "Empty DataFrame\n",
       "Columns: [Line, Bus_Id, Direction, Departure_Hour, Arrive_Hour, Travel_Time]\n",
       "Index: []"
      ]
     },
     "execution_count": 150,
     "metadata": {},
     "output_type": "execute_result"
    }
   ],
   "source": [
    "sorted_near_initial_points_C41130 = near_points_to_origin ('C41130', inverted_initial_point)\n",
    "sorted_near_final_points_C41130 = near_points_to_origin ('C41130', inverted_final_point)\n",
    "\n",
    "initial_points_timestamp_C41130 = sorted_near_initial_points_C41130['timestamp']\n",
    "final_points_timestamp_C41130 = sorted_near_final_points_C41130['timestamp']\n",
    "\n",
    "initial_departure_hours_C41130 = bus_departure_hour(initial_points_timestamp_C41130)\n",
    "final_departure_hours_C41130 = bus_departure_hour(final_points_timestamp_C41130)\n",
    "\n",
    "arrive_hour_to_initialpoint_C41130 = bus_arrive_hour(initial_points_timestamp_C41130)\n",
    "arrive_hour_to_finalpoint_C41130 = bus_arrive_hour(final_points_timestamp_C41130)\n",
    "\n",
    "travel_table_C41130 = create_travel_table(\"Central\", arrive_hour_to_initialpoint_C41130, initial_departure_hours_C41130, \"Alborada\", arrive_hour_to_finalpoint_C41130, final_departure_hours_C41130, 'C41130', '317' )\n",
    "travel_table_C41130\n"
   ]
  },
  {
   "cell_type": "code",
   "execution_count": 151,
   "metadata": {
    "collapsed": false,
    "scrolled": true
   },
   "outputs": [
    {
     "data": {
      "text/html": [
       "<iframe src=\"files/map.html\" style=\"width: 100%; height: 510px; border: none\"></iframe>"
      ],
      "text/plain": [
       "<IPython.core.display.HTML object>"
      ]
     },
     "execution_count": 151,
     "metadata": {},
     "output_type": "execute_result"
    }
   ],
   "source": [
    "fmap317_C41130=folium.Map(location=[-22.923714, -43.258999], zoom_start=11)\n",
    "locations317 = []\n",
    "for row in onibus317_shapes.iterrows():\n",
    "    #The 'latitude' and 'longitude' names correspond to column names in the original cceats dataframe\n",
    "    locations317.insert(len(locations317), [ row[1]['latitude'], row[1]['longitude'] ])\n",
    "    \n",
    "#Pintando Circulos de radio de 50m alrededor de los puntos incial y final \n",
    "fmap317_C41130.simple_marker(initial_point, popup='Central')\n",
    "fmap317_C41130.simple_marker(final_point, popup='Alborada')\n",
    "fmap317_C41130.simple_marker((-22.992551 , -43.249098), popup='Morte Motoqueiro')\n",
    "\n",
    "#Punto inicial\n",
    "fmap317_C41130.circle_marker(location=final_point, radius=250,line_color='green',\n",
    "                 fill_color='#3186cc', fill_opacity=0.2)\n",
    "\n",
    "#Punto inicial\n",
    "fmap317_C41130.circle_marker(location=initial_point, radius=250,line_color='red',\n",
    "                 fill_color='#3186cc', fill_opacity=0.2)\n",
    "\n",
    "for row in df_20150727_line_317_C41130.iterrows():\n",
    "    #The 'latitude' and 'longitude' names correspond to column names in the original cceats dataframe\n",
    "    latlon = [ row[1]['latitude'], row[1]['longitude'] ]\n",
    "    fmap317_C41130.polygon_marker( latlon, fill_color='white', num_sides=4, radius=6)\n",
    "\n",
    "for row in sorted_near_initial_points_C41130.iterrows():\n",
    "    #The 'latitude' and 'longitude' names correspond to column names in the original cceats dataframe\n",
    "    latlon = [ row[1]['latitude'], row[1]['longitude'] ]\n",
    "    fmap317_C41420.polygon_marker( latlon, fill_color='red', num_sides=4, radius=6)\n",
    "\n",
    "for row in sorted_near_final_points_C41130.iterrows():\n",
    "    #The 'latitude' and 'longitude' names correspond to column names in the original cceats dataframe\n",
    "    latlon = [ row[1]['latitude'], row[1]['longitude'] ]\n",
    "    fmap317_C41130.polygon_marker( latlon, fill_color='red', num_sides=4, radius=6)\n",
    "    \n",
    "fmap317_C41130.line(locations317)\n",
    "embed_map(fmap317_C41130)"
   ]
  },
  {
   "cell_type": "code",
   "execution_count": 152,
   "metadata": {
    "collapsed": false
   },
   "outputs": [
    {
     "data": {
      "text/html": [
       "<iframe id=\"igraph\" scrolling=\"no\" style=\"border:none;\"seamless=\"seamless\" src=\"https://plot.ly/~kllanes/7.embed\" height=\"525px\" width=\"100%\"></iframe>"
      ],
      "text/plain": [
       "<plotly.tools.PlotlyDisplay object>"
      ]
     },
     "execution_count": 152,
     "metadata": {},
     "output_type": "execute_result"
    }
   ],
   "source": [
    "#para el bus_id C41413\n",
    "df_20150727_line_317_C41413 = df_20150727_line_317[(df_20150727_line_317['bus_id']=='C41413')]\n",
    "#para seleccionar solo algunas columnas del dataframe, en este caso la columna 1(timestamp), la 4(latitude) y la 5(longitude)\n",
    "important_columns_C41413 = df_20150727_line_317_C41413.iloc[:,[0,3,4]]\n",
    "vector_C41413 = important_columns_C41413.values.tolist()\n",
    "\n",
    "vector_dist_to_ini_point_C41413 = vector_distancia(vector_C41413, initial_point)\n",
    "sorted_vector_dist_to_ini_point_C41413 = vector_dist_to_ini_point_C41413.sort([\"timestamp\"])\n",
    "\n",
    "vector_dist_to_final_point_C41413  = vector_distancia(vector_C41413, final_point)\n",
    "sorted_vector_dist_to_final_point_C41413 = vector_dist_to_final_point_C41413.sort([\"timestamp\"])\n",
    "\n",
    "#hacer una grafica interactiva con la libreria de python (plotly.plotly). Se instala por consola asi: sudo pip install plotly\n",
    "#distancia del punto final (central)\n",
    "\n",
    "trace_C41413 = Scatter(x = sorted_vector_dist_to_ini_point_C41413['timestamp'], y = sorted_vector_dist_to_ini_point_C41413['distance'])\n",
    "data = Data([trace_C41413])\n",
    "py.iplot(data, filename='pandas-time-series')"
   ]
  },
  {
   "cell_type": "code",
   "execution_count": 155,
   "metadata": {
    "collapsed": false
   },
   "outputs": [
    {
     "data": {
      "text/html": [
       "<iframe id=\"igraph\" scrolling=\"no\" style=\"border:none;\"seamless=\"seamless\" src=\"https://plot.ly/~kllanes/7.embed\" height=\"525px\" width=\"100%\"></iframe>"
      ],
      "text/plain": [
       "<plotly.tools.PlotlyDisplay object>"
      ]
     },
     "execution_count": 155,
     "metadata": {},
     "output_type": "execute_result"
    }
   ],
   "source": [
    "\n",
    "trace_C41413 = Scatter(\n",
    "    x = sorted_vector_dist_to_final_point_C41413['timestamp'], \n",
    "    y = sorted_vector_dist_to_final_point_C41413['distance'])\n",
    "data = Data([trace_C41413])\n",
    "py.iplot(data, filename='pandas-time-series')"
   ]
  },
  {
   "cell_type": "code",
   "execution_count": 153,
   "metadata": {
    "collapsed": false
   },
   "outputs": [
    {
     "data": {
      "text/html": [
       "<div>\n",
       "<table border=\"1\" class=\"dataframe\">\n",
       "  <thead>\n",
       "    <tr style=\"text-align: right;\">\n",
       "      <th></th>\n",
       "      <th>Line</th>\n",
       "      <th>Bus_Id</th>\n",
       "      <th>Direction</th>\n",
       "      <th>Departure_Hour</th>\n",
       "      <th>Arrive_Hour</th>\n",
       "      <th>Travel_Time</th>\n",
       "    </tr>\n",
       "  </thead>\n",
       "  <tbody>\n",
       "    <tr>\n",
       "      <th>0</th>\n",
       "      <td>317</td>\n",
       "      <td>C41413</td>\n",
       "      <td>Alborada_to_Central</td>\n",
       "      <td>2015-07-27 09:16:39</td>\n",
       "      <td>2015-07-27 14:27:58</td>\n",
       "      <td>5:11</td>\n",
       "    </tr>\n",
       "    <tr>\n",
       "      <th>1</th>\n",
       "      <td>317</td>\n",
       "      <td>C41413</td>\n",
       "      <td>Central_to_Alborada</td>\n",
       "      <td>2015-07-27 14:30:53</td>\n",
       "      <td>2015-07-27 15:54:41</td>\n",
       "      <td>1:23</td>\n",
       "    </tr>\n",
       "  </tbody>\n",
       "</table>\n",
       "</div>"
      ],
      "text/plain": [
       "  Line  Bus_Id            Direction      Departure_Hour         Arrive_Hour  \\\n",
       "0  317  C41413  Alborada_to_Central 2015-07-27 09:16:39 2015-07-27 14:27:58   \n",
       "1  317  C41413  Central_to_Alborada 2015-07-27 14:30:53 2015-07-27 15:54:41   \n",
       "\n",
       "  Travel_Time  \n",
       "0        5:11  \n",
       "1        1:23  "
      ]
     },
     "execution_count": 153,
     "metadata": {},
     "output_type": "execute_result"
    }
   ],
   "source": [
    "sorted_near_initial_points_C41413 = near_points_to_origin ('C41413', inverted_initial_point)\n",
    "sorted_near_final_points_C41413 = near_points_to_origin ('C41413', inverted_final_point)\n",
    "\n",
    "initial_points_timestamp_C41413 = sorted_near_initial_points_C41413['timestamp']\n",
    "final_points_timestamp_C41413 = sorted_near_final_points_C41413['timestamp']\n",
    "\n",
    "initial_departure_hours_C41413 = bus_departure_hour(initial_points_timestamp_C41413)\n",
    "final_departure_hours_C41413 = bus_departure_hour(final_points_timestamp_C41413)\n",
    "\n",
    "arrive_hour_to_initialpoint_C41413 = bus_arrive_hour(initial_points_timestamp_C41413)\n",
    "arrive_hour_to_finalpoint_C41413 = bus_arrive_hour(final_points_timestamp_C41413)\n",
    "\n",
    "travel_table_C41413 = create_travel_table(\"Central\", arrive_hour_to_initialpoint_C41413, initial_departure_hours_C41413, \"Alborada\", arrive_hour_to_finalpoint_C41413, final_departure_hours_C41413, 'C41413', '317' )\n",
    "travel_table_C41413"
   ]
  },
  {
   "cell_type": "code",
   "execution_count": 154,
   "metadata": {
    "collapsed": false,
    "scrolled": true
   },
   "outputs": [
    {
     "data": {
      "text/html": [
       "<iframe src=\"files/map.html\" style=\"width: 100%; height: 510px; border: none\"></iframe>"
      ],
      "text/plain": [
       "<IPython.core.display.HTML object>"
      ]
     },
     "execution_count": 154,
     "metadata": {},
     "output_type": "execute_result"
    }
   ],
   "source": [
    "fmap317_C41413=folium.Map(location=[-22.923714, -43.258999], zoom_start=11)\n",
    "locations317 = []\n",
    "for row in onibus317_shapes.iterrows():\n",
    "    #The 'latitude' and 'longitude' names correspond to column names in the original cceats dataframe\n",
    "    locations317.insert(len(locations317), [ row[1]['latitude'], row[1]['longitude'] ])\n",
    "    \n",
    "#Pintando Circulos de radio de 50m alrededor de los puntos incial y final \n",
    "fmap317_C41413.simple_marker(initial_point, popup='Central')\n",
    "fmap317_C41413.simple_marker(final_point, popup='Alborada')\n",
    "fmap317_C41413.simple_marker((-22.992551 , -43.249098), popup='Morte Motoqueiro')\n",
    "\n",
    "#Punto inicial\n",
    "fmap317_C41413.circle_marker(location=final_point, radius=250,line_color='green',\n",
    "                 fill_color='#3186cc', fill_opacity=0.2)\n",
    "\n",
    "#Punto inicial\n",
    "fmap317_C41413.circle_marker(location=initial_point, radius=250,line_color='red',\n",
    "                 fill_color='#3186cc', fill_opacity=0.2)\n",
    "\n",
    "for row in df_20150727_line_317_C41413.iterrows():\n",
    "    #The 'latitude' and 'longitude' names correspond to column names in the original cceats dataframe\n",
    "    latlon = [ row[1]['latitude'], row[1]['longitude'] ]\n",
    "    fmap317_C41413.polygon_marker( latlon, fill_color='white', num_sides=4, radius=6)\n",
    "\n",
    "for row in sorted_near_initial_points_C41413.iterrows():\n",
    "    #The 'latitude' and 'longitude' names correspond to column names in the original cceats dataframe\n",
    "    latlon = [ row[1]['latitude'], row[1]['longitude'] ]\n",
    "    fmap317_C41413.polygon_marker( latlon, fill_color='red', num_sides=4, radius=6)\n",
    "\n",
    "for row in sorted_near_final_points_C41413.iterrows():\n",
    "    #The 'latitude' and 'longitude' names correspond to column names in the original cceats dataframe\n",
    "    latlon = [ row[1]['latitude'], row[1]['longitude'] ]\n",
    "    fmap317_C41413.polygon_marker( latlon, fill_color='red', num_sides=4, radius=6)\n",
    "    \n",
    "fmap317_C41413.line(locations317)\n",
    "embed_map(fmap317_C41413)"
   ]
  },
  {
   "cell_type": "code",
   "execution_count": 156,
   "metadata": {
    "collapsed": false
   },
   "outputs": [
    {
     "data": {
      "text/html": [
       "<iframe id=\"igraph\" scrolling=\"no\" style=\"border:none;\"seamless=\"seamless\" src=\"https://plot.ly/~kllanes/7.embed\" height=\"525px\" width=\"100%\"></iframe>"
      ],
      "text/plain": [
       "<plotly.tools.PlotlyDisplay object>"
      ]
     },
     "execution_count": 156,
     "metadata": {},
     "output_type": "execute_result"
    }
   ],
   "source": [
    "#para el bus_id C41415\n",
    "df_20150727_line_317_C41415 = df_20150727_line_317[(df_20150727_line_317['bus_id']=='C41415')]\n",
    "#para seleccionar solo algunas columnas del dataframe, en este caso la columna 1(timestamp), la 4(latitude) y la 5(longitude)\n",
    "important_columns_C41415 = df_20150727_line_317_C41415.iloc[:,[0,3,4]]\n",
    "vector_C41415 = important_columns_C41415.values.tolist()\n",
    "\n",
    "vector_dist_to_ini_point_C41415 = vector_distancia(vector_C41415, initial_point)\n",
    "sorted_vector_dist_to_ini_point_C41415 = vector_dist_to_ini_point_C41415.sort([\"timestamp\"])\n",
    "\n",
    "vector_dist_to_final_point_C41415  = vector_distancia(vector_C41415, final_point)\n",
    "sorted_vector_dist_to_final_point_C41415 = vector_dist_to_final_point_C41415.sort([\"timestamp\"])\n",
    "\n",
    "#hacer una grafica interactiva con la libreria de python (plotly.plotly). Se instala por consola asi: sudo pip install plotly\n",
    "#distancia del punto final (central)\n",
    "\n",
    "trace_C41415 = Scatter(x = sorted_vector_dist_to_ini_point_C41415['timestamp'], y = sorted_vector_dist_to_ini_point_C41415['distance'])\n",
    "data = Data([trace_C41415])\n",
    "py.iplot(data, filename='pandas-time-series')"
   ]
  },
  {
   "cell_type": "code",
   "execution_count": 157,
   "metadata": {
    "collapsed": false,
    "scrolled": true
   },
   "outputs": [
    {
     "data": {
      "text/html": [
       "<div>\n",
       "<table border=\"1\" class=\"dataframe\">\n",
       "  <thead>\n",
       "    <tr style=\"text-align: right;\">\n",
       "      <th></th>\n",
       "      <th>Line</th>\n",
       "      <th>Bus_Id</th>\n",
       "      <th>Direction</th>\n",
       "      <th>Departure_Hour</th>\n",
       "      <th>Arrive_Hour</th>\n",
       "      <th>Travel_Time</th>\n",
       "    </tr>\n",
       "  </thead>\n",
       "  <tbody>\n",
       "    <tr>\n",
       "      <th>0</th>\n",
       "      <td>317</td>\n",
       "      <td>C41415</td>\n",
       "      <td>Alborada_to_Central</td>\n",
       "      <td>2015-07-27 10:30:51</td>\n",
       "      <td>2015-07-27 12:14:45</td>\n",
       "      <td>1:43</td>\n",
       "    </tr>\n",
       "    <tr>\n",
       "      <th>1</th>\n",
       "      <td>317</td>\n",
       "      <td>C41415</td>\n",
       "      <td>Central_to_Alborada</td>\n",
       "      <td>2015-07-27 12:32:01</td>\n",
       "      <td>2015-07-27 13:43:54</td>\n",
       "      <td>1:11</td>\n",
       "    </tr>\n",
       "    <tr>\n",
       "      <th>2</th>\n",
       "      <td>317</td>\n",
       "      <td>C41415</td>\n",
       "      <td>Alborada_to_Central</td>\n",
       "      <td>2015-07-27 14:03:02</td>\n",
       "      <td>2015-07-27 15:23:59</td>\n",
       "      <td>1:20</td>\n",
       "    </tr>\n",
       "    <tr>\n",
       "      <th>3</th>\n",
       "      <td>317</td>\n",
       "      <td>C41415</td>\n",
       "      <td>Central_to_Alborada</td>\n",
       "      <td>2015-07-27 15:37:41</td>\n",
       "      <td>2015-07-27 17:04:00</td>\n",
       "      <td>1:26</td>\n",
       "    </tr>\n",
       "    <tr>\n",
       "      <th>4</th>\n",
       "      <td>317</td>\n",
       "      <td>C41415</td>\n",
       "      <td>Alborada_to_Central</td>\n",
       "      <td>2015-07-27 17:21:01</td>\n",
       "      <td>2015-07-27 19:00:57</td>\n",
       "      <td>1:39</td>\n",
       "    </tr>\n",
       "  </tbody>\n",
       "</table>\n",
       "</div>"
      ],
      "text/plain": [
       "  Line  Bus_Id            Direction      Departure_Hour         Arrive_Hour  \\\n",
       "0  317  C41415  Alborada_to_Central 2015-07-27 10:30:51 2015-07-27 12:14:45   \n",
       "1  317  C41415  Central_to_Alborada 2015-07-27 12:32:01 2015-07-27 13:43:54   \n",
       "2  317  C41415  Alborada_to_Central 2015-07-27 14:03:02 2015-07-27 15:23:59   \n",
       "3  317  C41415  Central_to_Alborada 2015-07-27 15:37:41 2015-07-27 17:04:00   \n",
       "4  317  C41415  Alborada_to_Central 2015-07-27 17:21:01 2015-07-27 19:00:57   \n",
       "\n",
       "  Travel_Time  \n",
       "0        1:43  \n",
       "1        1:11  \n",
       "2        1:20  \n",
       "3        1:26  \n",
       "4        1:39  "
      ]
     },
     "execution_count": 157,
     "metadata": {},
     "output_type": "execute_result"
    }
   ],
   "source": [
    "sorted_near_initial_points_C41415 = near_points_to_origin ('C41415', inverted_initial_point)\n",
    "sorted_near_final_points_C41415 = near_points_to_origin ('C41415', inverted_final_point)\n",
    "\n",
    "initial_points_timestamp_C41415 = sorted_near_initial_points_C41415['timestamp']\n",
    "final_points_timestamp_C41415 = sorted_near_final_points_C41415['timestamp']\n",
    "\n",
    "initial_departure_hours_C41415 = bus_departure_hour(initial_points_timestamp_C41415)\n",
    "final_departure_hours_C41415 = bus_departure_hour(final_points_timestamp_C41415)\n",
    "\n",
    "arrive_hour_to_initialpoint_C41415 = bus_arrive_hour(initial_points_timestamp_C41415)\n",
    "arrive_hour_to_finalpoint_C41415 = bus_arrive_hour(final_points_timestamp_C41415)\n",
    "\n",
    "travel_table_C41415 = create_travel_table(\"Central\", arrive_hour_to_initialpoint_C41415, initial_departure_hours_C41415, \"Alborada\", arrive_hour_to_finalpoint_C41415, final_departure_hours_C41415, 'C41415', '317' )\n",
    "travel_table_C41415"
   ]
  },
  {
   "cell_type": "code",
   "execution_count": 158,
   "metadata": {
    "collapsed": false,
    "scrolled": true
   },
   "outputs": [
    {
     "data": {
      "text/html": [
       "<iframe src=\"files/map.html\" style=\"width: 100%; height: 510px; border: none\"></iframe>"
      ],
      "text/plain": [
       "<IPython.core.display.HTML object>"
      ]
     },
     "execution_count": 158,
     "metadata": {},
     "output_type": "execute_result"
    }
   ],
   "source": [
    "fmap317_C41415 =folium.Map(location=[-22.923714, -43.258999], zoom_start=11)\n",
    "locations317 = []\n",
    "for row in onibus317_shapes.iterrows():\n",
    "    #The 'latitude' and 'longitude' names correspond to column names in the original cceats dataframe\n",
    "    locations317.insert(len(locations317), [ row[1]['latitude'], row[1]['longitude'] ])\n",
    "    \n",
    "#Pintando Circulos de radio de 50m alrededor de los puntos incial y final \n",
    "fmap317_C41415.simple_marker(initial_point, popup='Central')\n",
    "fmap317_C41415.simple_marker(final_point, popup='Alborada')\n",
    "fmap317_C41415.simple_marker((-22.992551 , -43.249098), popup='Morte Motoqueiro')\n",
    "\n",
    "#Punto inicial\n",
    "fmap317_C41415.circle_marker(location=final_point, radius=250,line_color='green',\n",
    "                 fill_color='#3186cc', fill_opacity=0.2)\n",
    "\n",
    "#Punto inicial\n",
    "fmap317_C41415.circle_marker(location=initial_point, radius=250,line_color='red',\n",
    "                 fill_color='#3186cc', fill_opacity=0.2)\n",
    "\n",
    "for row in df_20150727_line_317_C41415.iterrows():\n",
    "    #The 'latitude' and 'longitude' names correspond to column names in the original cceats dataframe\n",
    "    latlon = [ row[1]['latitude'], row[1]['longitude'] ]\n",
    "    fmap317_C41415.polygon_marker( latlon, fill_color='white', num_sides=4, radius=6)\n",
    "\n",
    "for row in sorted_near_initial_points_C41415.iterrows():\n",
    "    #The 'latitude' and 'longitude' names correspond to column names in the original cceats dataframe\n",
    "    latlon = [ row[1]['latitude'], row[1]['longitude'] ]\n",
    "    fmap317_C41415.polygon_marker( latlon, fill_color='red', num_sides=4, radius=6)\n",
    "\n",
    "for row in sorted_near_final_points_C41415.iterrows():\n",
    "    #The 'latitude' and 'longitude' names correspond to column names in the original cceats dataframe\n",
    "    latlon = [ row[1]['latitude'], row[1]['longitude'] ]\n",
    "    fmap317_C41415.polygon_marker( latlon, fill_color='red', num_sides=4, radius=6)\n",
    "    \n",
    "fmap317_C41415.line(locations317)\n",
    "embed_map(fmap317_C41415)"
   ]
  },
  {
   "cell_type": "code",
   "execution_count": 159,
   "metadata": {
    "collapsed": false,
    "scrolled": false
   },
   "outputs": [
    {
     "data": {
      "text/html": [
       "<iframe id=\"igraph\" scrolling=\"no\" style=\"border:none;\"seamless=\"seamless\" src=\"https://plot.ly/~kllanes/7.embed\" height=\"525px\" width=\"100%\"></iframe>"
      ],
      "text/plain": [
       "<plotly.tools.PlotlyDisplay object>"
      ]
     },
     "execution_count": 159,
     "metadata": {},
     "output_type": "execute_result"
    }
   ],
   "source": [
    "#para el bus_id C41412\n",
    "df_20150727_line_317_C41412 = df_20150727_line_317[(df_20150727_line_317['bus_id']=='C41412')]\n",
    "#para seleccionar solo algunas columnas del dataframe, en este caso la columna 1(timestamp), la 4(latitude) y la 5(longitude)\n",
    "important_columns_C41412 = df_20150727_line_317_C41412.iloc[:,[0,3,4]]\n",
    "vector_C41412 = important_columns_C41412.values.tolist()\n",
    "\n",
    "vector_dist_to_ini_point_C41412 = vector_distancia(vector_C41412, initial_point)\n",
    "sorted_vector_dist_to_ini_point_C41412 = vector_dist_to_ini_point_C41412.sort([\"timestamp\"])\n",
    "\n",
    "vector_dist_to_final_point_C41412  = vector_distancia(vector_C41412, final_point)\n",
    "sorted_vector_dist_to_final_point_C41412 = vector_dist_to_final_point_C41412.sort([\"timestamp\"])\n",
    "\n",
    "#hacer una grafica interactiva con la libreria de python (plotly.plotly). Se instala por consola asi: sudo pip install plotly\n",
    "#distancia del punto final (central)\n",
    "\n",
    "trace_C41412 = Scatter(x = sorted_vector_dist_to_ini_point_C41412['timestamp'], y = sorted_vector_dist_to_ini_point_C41412['distance'])\n",
    "data = Data([trace_C41412])\n",
    "py.iplot(data, filename='pandas-time-series')"
   ]
  },
  {
   "cell_type": "code",
   "execution_count": 161,
   "metadata": {
    "collapsed": false
   },
   "outputs": [
    {
     "data": {
      "text/html": [
       "<iframe id=\"igraph\" scrolling=\"no\" style=\"border:none;\"seamless=\"seamless\" src=\"https://plot.ly/~kllanes/7.embed\" height=\"525px\" width=\"100%\"></iframe>"
      ],
      "text/plain": [
       "<plotly.tools.PlotlyDisplay object>"
      ]
     },
     "execution_count": 161,
     "metadata": {},
     "output_type": "execute_result"
    }
   ],
   "source": [
    "trace_C41412 = Scatter(x = sorted_vector_dist_to_final_point_C41412['timestamp'], y = sorted_vector_dist_to_final_point_C41412['distance'])\n",
    "data = Data([trace_C41412])\n",
    "py.iplot(data, filename='pandas-time-series')"
   ]
  },
  {
   "cell_type": "code",
   "execution_count": 160,
   "metadata": {
    "collapsed": false
   },
   "outputs": [
    {
     "data": {
      "text/html": [
       "<div>\n",
       "<table border=\"1\" class=\"dataframe\">\n",
       "  <thead>\n",
       "    <tr style=\"text-align: right;\">\n",
       "      <th></th>\n",
       "      <th>Line</th>\n",
       "      <th>Bus_Id</th>\n",
       "      <th>Direction</th>\n",
       "      <th>Departure_Hour</th>\n",
       "      <th>Arrive_Hour</th>\n",
       "      <th>Travel_Time</th>\n",
       "    </tr>\n",
       "  </thead>\n",
       "  <tbody>\n",
       "  </tbody>\n",
       "</table>\n",
       "</div>"
      ],
      "text/plain": [
       "Empty DataFrame\n",
       "Columns: [Line, Bus_Id, Direction, Departure_Hour, Arrive_Hour, Travel_Time]\n",
       "Index: []"
      ]
     },
     "execution_count": 160,
     "metadata": {},
     "output_type": "execute_result"
    }
   ],
   "source": [
    "sorted_near_initial_points_C41412 = near_points_to_origin ('C41412', inverted_initial_point)\n",
    "sorted_near_final_points_C41412 = near_points_to_origin ('C41412', inverted_final_point)\n",
    "\n",
    "initial_points_timestamp_C41412 = sorted_near_initial_points_C41412['timestamp']\n",
    "final_points_timestamp_C41412 = sorted_near_final_points_C41412['timestamp']\n",
    "\n",
    "initial_departure_hours_C41412 = bus_departure_hour(initial_points_timestamp_C41412)\n",
    "final_departure_hours_C41412 = bus_departure_hour(final_points_timestamp_C41412)\n",
    "\n",
    "arrive_hour_to_initialpoint_C41412 = bus_arrive_hour(initial_points_timestamp_C41412)\n",
    "arrive_hour_to_finalpoint_C41412= bus_arrive_hour(final_points_timestamp_C41412)\n",
    "\n",
    "travel_table_C41412 = create_travel_table(\"Central\", arrive_hour_to_initialpoint_C41412, initial_departure_hours_C41412, \"Alborada\", arrive_hour_to_finalpoint_C41412, final_departure_hours_C41412, 'C41412', '317' )\n",
    "travel_table_C41412"
   ]
  },
  {
   "cell_type": "code",
   "execution_count": 163,
   "metadata": {
    "collapsed": false,
    "scrolled": true
   },
   "outputs": [
    {
     "data": {
      "text/html": [
       "<iframe src=\"files/map.html\" style=\"width: 100%; height: 510px; border: none\"></iframe>"
      ],
      "text/plain": [
       "<IPython.core.display.HTML object>"
      ]
     },
     "execution_count": 163,
     "metadata": {},
     "output_type": "execute_result"
    }
   ],
   "source": [
    "fmap317_C41412 =folium.Map(location=[-22.923714, -43.258999], zoom_start=11)\n",
    "locations317 = []\n",
    "for row in onibus317_shapes.iterrows():\n",
    "    #The 'latitude' and 'longitude' names correspond to column names in the original cceats dataframe\n",
    "    locations317.insert(len(locations317), [ row[1]['latitude'], row[1]['longitude'] ])\n",
    "    \n",
    "#Pintando Circulos de radio de 50m alrededor de los puntos incial y final \n",
    "fmap317_C41412.simple_marker(initial_point, popup='Central')\n",
    "fmap317_C41412.simple_marker(final_point, popup='Alborada')\n",
    "fmap317_C41412.simple_marker((-22.992551 , -43.249098), popup='Morte Motoqueiro')\n",
    "\n",
    "#Punto inicial\n",
    "fmap317_C41412.circle_marker(location=final_point, radius=250,line_color='green',\n",
    "                 fill_color='#3186cc', fill_opacity=0.2)\n",
    "\n",
    "#Punto inicial\n",
    "fmap317_C41412.circle_marker(location=initial_point, radius=250,line_color='red',\n",
    "                 fill_color='#3186cc', fill_opacity=0.2)\n",
    "\n",
    "for row in df_20150727_line_317_C41412.iterrows():\n",
    "    #The 'latitude' and 'longitude' names correspond to column names in the original cceats dataframe\n",
    "    latlon = [ row[1]['latitude'], row[1]['longitude'] ]\n",
    "    fmap317_C41412.polygon_marker( latlon, fill_color='white', num_sides=4, radius=6)\n",
    "\n",
    "for row in sorted_near_initial_points_C41412.iterrows():\n",
    "    #The 'latitude' and 'longitude' names correspond to column names in the original cceats dataframe\n",
    "    latlon = [ row[1]['latitude'], row[1]['longitude'] ]\n",
    "    fmap317_C41412.polygon_marker( latlon, fill_color='red', num_sides=4, radius=6)\n",
    "\n",
    "for row in sorted_near_final_points_C41412.iterrows():\n",
    "    #The 'latitude' and 'longitude' names correspond to column names in the original cceats dataframe\n",
    "    latlon = [ row[1]['latitude'], row[1]['longitude'] ]\n",
    "    fmap317_C41412.polygon_marker( latlon, fill_color='red', num_sides=4, radius=6)\n",
    "    \n",
    "fmap317_C41412.line(locations317)\n",
    "embed_map(fmap317_C41412)"
   ]
  },
  {
   "cell_type": "code",
   "execution_count": 165,
   "metadata": {
    "collapsed": false
   },
   "outputs": [
    {
     "data": {
      "text/html": [
       "<iframe id=\"igraph\" scrolling=\"no\" style=\"border:none;\"seamless=\"seamless\" src=\"https://plot.ly/~kllanes/7.embed\" height=\"525px\" width=\"100%\"></iframe>"
      ],
      "text/plain": [
       "<plotly.tools.PlotlyDisplay object>"
      ]
     },
     "execution_count": 165,
     "metadata": {},
     "output_type": "execute_result"
    }
   ],
   "source": [
    "#para el bus_id C41406\n",
    "df_20150727_line_317_C41406 = df_20150727_line_317[(df_20150727_line_317['bus_id']=='C41406')]\n",
    "#para seleccionar solo algunas columnas del dataframe, en este caso la columna 1(timestamp), la 4(latitude) y la 5(longitude)\n",
    "important_columns_C41406 = df_20150727_line_317_C41406.iloc[:,[0,3,4]]\n",
    "vector_C41406 = important_columns_C41406.values.tolist()\n",
    "\n",
    "vector_dist_to_ini_point_C41406 = vector_distancia(vector_C41406, initial_point)\n",
    "sorted_vector_dist_to_ini_point_C41406 = vector_dist_to_ini_point_C41406.sort([\"timestamp\"])\n",
    "\n",
    "vector_dist_to_final_point_C41406  = vector_distancia(vector_C41406, final_point)\n",
    "sorted_vector_dist_to_final_point_C41406 = vector_dist_to_final_point_C41406.sort([\"timestamp\"])\n",
    "\n",
    "#hacer una grafica interactiva con la libreria de python (plotly.plotly). Se instala por consola asi: sudo pip install plotly\n",
    "#distancia del punto final (central)\n",
    "\n",
    "trace_C41406 = Scatter(x = sorted_vector_dist_to_ini_point_C41406['timestamp'], y = sorted_vector_dist_to_ini_point_C41406['distance'])\n",
    "data = Data([trace_C41406])\n",
    "py.iplot(data, filename='pandas-time-series')"
   ]
  },
  {
   "cell_type": "code",
   "execution_count": 166,
   "metadata": {
    "collapsed": false
   },
   "outputs": [
    {
     "data": {
      "text/html": [
       "<div>\n",
       "<table border=\"1\" class=\"dataframe\">\n",
       "  <thead>\n",
       "    <tr style=\"text-align: right;\">\n",
       "      <th></th>\n",
       "      <th>Line</th>\n",
       "      <th>Bus_Id</th>\n",
       "      <th>Direction</th>\n",
       "      <th>Departure_Hour</th>\n",
       "      <th>Arrive_Hour</th>\n",
       "      <th>Travel_Time</th>\n",
       "    </tr>\n",
       "  </thead>\n",
       "  <tbody>\n",
       "  </tbody>\n",
       "</table>\n",
       "</div>"
      ],
      "text/plain": [
       "Empty DataFrame\n",
       "Columns: [Line, Bus_Id, Direction, Departure_Hour, Arrive_Hour, Travel_Time]\n",
       "Index: []"
      ]
     },
     "execution_count": 166,
     "metadata": {},
     "output_type": "execute_result"
    }
   ],
   "source": [
    "sorted_near_initial_points_C41406 = near_points_to_origin ('C41406', inverted_initial_point)\n",
    "sorted_near_final_points_C41406 = near_points_to_origin ('C41406', inverted_final_point)\n",
    "\n",
    "initial_points_timestamp_C41406 = sorted_near_initial_points_C41406['timestamp']\n",
    "final_points_timestamp_C41406 = sorted_near_final_points_C41406['timestamp']\n",
    "\n",
    "initial_departure_hours_C41406 = bus_departure_hour(initial_points_timestamp_C41406)\n",
    "final_departure_hours_C41406 = bus_departure_hour(final_points_timestamp_C41406)\n",
    "\n",
    "arrive_hour_to_initialpoint_C41406 = bus_arrive_hour(initial_points_timestamp_C41406)\n",
    "arrive_hour_to_finalpoint_C41406 = bus_arrive_hour(final_points_timestamp_C41406)\n",
    "\n",
    "travel_table_C41406 = create_travel_table(\"Central\", arrive_hour_to_initialpoint_C41406, initial_departure_hours_C41406, \"Alborada\", arrive_hour_to_finalpoint_C41406, final_departure_hours_C41406, 'C41406', '317' )\n",
    "travel_table_C41406"
   ]
  },
  {
   "cell_type": "code",
   "execution_count": 168,
   "metadata": {
    "collapsed": false,
    "scrolled": true
   },
   "outputs": [
    {
     "data": {
      "text/html": [
       "<iframe src=\"files/map.html\" style=\"width: 100%; height: 510px; border: none\"></iframe>"
      ],
      "text/plain": [
       "<IPython.core.display.HTML object>"
      ]
     },
     "execution_count": 168,
     "metadata": {},
     "output_type": "execute_result"
    }
   ],
   "source": [
    "fmap317_C41406 =folium.Map(location=[-22.923714, -43.258999], zoom_start=11)\n",
    "locations317 = []\n",
    "for row in onibus317_shapes.iterrows():\n",
    "    #The 'latitude' and 'longitude' names correspond to column names in the original cceats dataframe\n",
    "    locations317.insert(len(locations317), [ row[1]['latitude'], row[1]['longitude'] ])\n",
    "    \n",
    "#Pintando Circulos de radio de 50m alrededor de los puntos incial y final \n",
    "fmap317_C41406.simple_marker(initial_point, popup='Central')\n",
    "fmap317_C41406.simple_marker(final_point, popup='Alborada')\n",
    "fmap317_C41406.simple_marker((-22.992551 , -43.249098), popup='Morte Motoqueiro')\n",
    "\n",
    "#Punto inicial\n",
    "fmap317_C41406.circle_marker(location=final_point, radius=250,line_color='green',\n",
    "                 fill_color='#3186cc', fill_opacity=0.2)\n",
    "\n",
    "#Punto inicial\n",
    "fmap317_C41406.circle_marker(location=initial_point, radius=250,line_color='red',\n",
    "                 fill_color='#3186cc', fill_opacity=0.2)\n",
    "\n",
    "for row in df_20150727_line_317_C41406.iterrows():\n",
    "    #The 'latitude' and 'longitude' names correspond to column names in the original cceats dataframe\n",
    "    latlon = [ row[1]['latitude'], row[1]['longitude'] ]\n",
    "    fmap317_C41406.polygon_marker( latlon, fill_color='white', num_sides=4, radius=6)\n",
    "\n",
    "for row in sorted_near_initial_points_C41406.iterrows():\n",
    "    #The 'latitude' and 'longitude' names correspond to column names in the original cceats dataframe\n",
    "    latlon = [ row[1]['latitude'], row[1]['longitude'] ]\n",
    "    fmap317_C41406.polygon_marker( latlon, fill_color='red', num_sides=4, radius=6)\n",
    "\n",
    "for row in sorted_near_final_points_C41406.iterrows():\n",
    "    #The 'latitude' and 'longitude' names correspond to column names in the original cceats dataframe\n",
    "    latlon = [ row[1]['latitude'], row[1]['longitude'] ]\n",
    "    fmap317_C41406.polygon_marker( latlon, fill_color='red', num_sides=4, radius=6)\n",
    "    \n",
    "fmap317_C41406.line(locations317)\n",
    "embed_map(fmap317_C41406)"
   ]
  },
  {
   "cell_type": "code",
   "execution_count": 169,
   "metadata": {
    "collapsed": false,
    "scrolled": false
   },
   "outputs": [
    {
     "data": {
      "text/html": [
       "<iframe id=\"igraph\" scrolling=\"no\" style=\"border:none;\"seamless=\"seamless\" src=\"https://plot.ly/~kllanes/7.embed\" height=\"525px\" width=\"100%\"></iframe>"
      ],
      "text/plain": [
       "<plotly.tools.PlotlyDisplay object>"
      ]
     },
     "execution_count": 169,
     "metadata": {},
     "output_type": "execute_result"
    }
   ],
   "source": [
    "#para el bus_id C41417\n",
    "df_20150727_line_317_C41417 = df_20150727_line_317[(df_20150727_line_317['bus_id']=='C41417')]\n",
    "#para seleccionar solo algunas columnas del dataframe, en este caso la columna 1(timestamp), la 4(latitude) y la 5(longitude)\n",
    "important_columns_C41417 = df_20150727_line_317_C41417.iloc[:,[0,3,4]]\n",
    "vector_C41417 = important_columns_C41417.values.tolist()\n",
    "\n",
    "vector_dist_to_ini_point_C41417 = vector_distancia(vector_C41417, initial_point)\n",
    "sorted_vector_dist_to_ini_point_C41417 = vector_dist_to_ini_point_C41417.sort([\"timestamp\"])\n",
    "\n",
    "vector_dist_to_final_point_C41417  = vector_distancia(vector_C41417, final_point)\n",
    "sorted_vector_dist_to_final_point_C41417 = vector_dist_to_final_point_C41417.sort([\"timestamp\"])\n",
    "\n",
    "#hacer una grafica interactiva con la libreria de python (plotly.plotly). Se instala por consola asi: sudo pip install plotly\n",
    "#distancia del punto final (central)\n",
    "\n",
    "trace_C41417 = Scatter(x = sorted_vector_dist_to_ini_point_C41417['timestamp'], y = sorted_vector_dist_to_ini_point_C41417['distance'])\n",
    "data = Data([trace_C41417])\n",
    "py.iplot(data, filename='pandas-time-series')"
   ]
  },
  {
   "cell_type": "code",
   "execution_count": 170,
   "metadata": {
    "collapsed": false
   },
   "outputs": [
    {
     "data": {
      "text/html": [
       "<div>\n",
       "<table border=\"1\" class=\"dataframe\">\n",
       "  <thead>\n",
       "    <tr style=\"text-align: right;\">\n",
       "      <th></th>\n",
       "      <th>Line</th>\n",
       "      <th>Bus_Id</th>\n",
       "      <th>Direction</th>\n",
       "      <th>Departure_Hour</th>\n",
       "      <th>Arrive_Hour</th>\n",
       "      <th>Travel_Time</th>\n",
       "    </tr>\n",
       "  </thead>\n",
       "  <tbody>\n",
       "  </tbody>\n",
       "</table>\n",
       "</div>"
      ],
      "text/plain": [
       "Empty DataFrame\n",
       "Columns: [Line, Bus_Id, Direction, Departure_Hour, Arrive_Hour, Travel_Time]\n",
       "Index: []"
      ]
     },
     "execution_count": 170,
     "metadata": {},
     "output_type": "execute_result"
    }
   ],
   "source": [
    "sorted_near_initial_points_C41417 = near_points_to_origin ('C41417', inverted_initial_point)\n",
    "sorted_near_final_points_C41417 = near_points_to_origin ('C41417', inverted_final_point)\n",
    "\n",
    "initial_points_timestamp_C41417 = sorted_near_initial_points_C41417['timestamp']\n",
    "final_points_timestamp_C41417 = sorted_near_final_points_C41417['timestamp']\n",
    "\n",
    "initial_departure_hours_C41417 = bus_departure_hour(initial_points_timestamp_C41417)\n",
    "final_departure_hours_C41417 = bus_departure_hour(final_points_timestamp_C41417)\n",
    "\n",
    "arrive_hour_to_initialpoint_C41417 = bus_arrive_hour(initial_points_timestamp_C41417)\n",
    "arrive_hour_to_finalpoint_C41417 = bus_arrive_hour(final_points_timestamp_C41417)\n",
    "\n",
    "travel_table_C41417 = create_travel_table(\"Central\", arrive_hour_to_initialpoint_C41417, initial_departure_hours_C41417, \"Alborada\", arrive_hour_to_finalpoint_C41417, final_departure_hours_C41417, 'C41417', '317' )\n",
    "travel_table_C41417"
   ]
  },
  {
   "cell_type": "code",
   "execution_count": 173,
   "metadata": {
    "collapsed": false,
    "scrolled": true
   },
   "outputs": [
    {
     "data": {
      "text/html": [
       "<iframe src=\"files/map.html\" style=\"width: 100%; height: 510px; border: none\"></iframe>"
      ],
      "text/plain": [
       "<IPython.core.display.HTML object>"
      ]
     },
     "execution_count": 173,
     "metadata": {},
     "output_type": "execute_result"
    }
   ],
   "source": [
    "fmap317_C41417 =folium.Map(location=[-22.923714, -43.258999], zoom_start=11)\n",
    "locations317 = []\n",
    "for row in onibus317_shapes.iterrows():\n",
    "    #The 'latitude' and 'longitude' names correspond to column names in the original cceats dataframe\n",
    "    locations317.insert(len(locations317), [ row[1]['latitude'], row[1]['longitude'] ])\n",
    "    \n",
    "#Pintando Circulos de radio de 50m alrededor de los puntos incial y final \n",
    "fmap317_C41417.simple_marker(initial_point, popup='Central')\n",
    "fmap317_C41417.simple_marker(final_point, popup='Alborada')\n",
    "fmap317_C41417.simple_marker((-22.992551 , -43.249098), popup='Morte Motoqueiro')\n",
    "\n",
    "#Punto inicial\n",
    "fmap317_C41417.circle_marker(location=final_point, radius=250,line_color='green',\n",
    "                 fill_color='#3186cc', fill_opacity=0.2)\n",
    "\n",
    "#Punto inicial\n",
    "fmap317_C41417.circle_marker(location=initial_point, radius=250,line_color='red',\n",
    "                 fill_color='#3186cc', fill_opacity=0.2)\n",
    "\n",
    "for row in df_20150727_line_317_C41417.iterrows():\n",
    "    #The 'latitude' and 'longitude' names correspond to column names in the original cceats dataframe\n",
    "    latlon = [ row[1]['latitude'], row[1]['longitude'] ]\n",
    "    fmap317_C41417.polygon_marker( latlon, fill_color='white', num_sides=4, radius=6)\n",
    "\n",
    "for row in sorted_near_initial_points_C41417.iterrows():\n",
    "    #The 'latitude' and 'longitude' names correspond to column names in the original cceats dataframe\n",
    "    latlon = [ row[1]['latitude'], row[1]['longitude'] ]\n",
    "    fmap317_C41417.polygon_marker( latlon, fill_color='red', num_sides=4, radius=6)\n",
    "\n",
    "for row in sorted_near_final_points_C41417.iterrows():\n",
    "    #The 'latitude' and 'longitude' names correspond to column names in the original cceats dataframe\n",
    "    latlon = [ row[1]['latitude'], row[1]['longitude'] ]\n",
    "    fmap317_C41417.polygon_marker( latlon, fill_color='red', num_sides=4, radius=6)\n",
    "    \n",
    "fmap317_C41417.line(locations317)\n",
    "embed_map(fmap317_C41417)"
   ]
  },
  {
   "cell_type": "code",
   "execution_count": 174,
   "metadata": {
    "collapsed": false
   },
   "outputs": [
    {
     "data": {
      "text/html": [
       "<iframe id=\"igraph\" scrolling=\"no\" style=\"border:none;\"seamless=\"seamless\" src=\"https://plot.ly/~kllanes/7.embed\" height=\"525px\" width=\"100%\"></iframe>"
      ],
      "text/plain": [
       "<plotly.tools.PlotlyDisplay object>"
      ]
     },
     "execution_count": 174,
     "metadata": {},
     "output_type": "execute_result"
    }
   ],
   "source": [
    "#para el bus_id C41410\n",
    "df_20150727_line_317_C41410 = df_20150727_line_317[(df_20150727_line_317['bus_id']=='C41410')]\n",
    "#para seleccionar solo algunas columnas del dataframe, en este caso la columna 1(timestamp), la 4(latitude) y la 5(longitude)\n",
    "important_columns_C41410 = df_20150727_line_317_C41410.iloc[:,[0,3,4]]\n",
    "vector_C41410 = important_columns_C41410.values.tolist()\n",
    "\n",
    "vector_dist_to_ini_point_C41410 = vector_distancia(vector_C41410, initial_point)\n",
    "sorted_vector_dist_to_ini_point_C41410 = vector_dist_to_ini_point_C41410.sort([\"timestamp\"])\n",
    "\n",
    "vector_dist_to_final_point_C41410  = vector_distancia(vector_C41410, final_point)\n",
    "sorted_vector_dist_to_final_point_C41410 = vector_dist_to_final_point_C41410.sort([\"timestamp\"])\n",
    "\n",
    "#hacer una grafica interactiva con la libreria de python (plotly.plotly). Se instala por consola asi: sudo pip install plotly\n",
    "#distancia del punto final (central)\n",
    "\n",
    "trace_C41410 = Scatter(x = sorted_vector_dist_to_ini_point_C41410['timestamp'], y = sorted_vector_dist_to_ini_point_C41410['distance'])\n",
    "data = Data([trace_C41410])\n",
    "py.iplot(data, filename='pandas-time-series')"
   ]
  },
  {
   "cell_type": "code",
   "execution_count": 175,
   "metadata": {
    "collapsed": false
   },
   "outputs": [
    {
     "data": {
      "text/html": [
       "<div>\n",
       "<table border=\"1\" class=\"dataframe\">\n",
       "  <thead>\n",
       "    <tr style=\"text-align: right;\">\n",
       "      <th></th>\n",
       "      <th>Line</th>\n",
       "      <th>Bus_Id</th>\n",
       "      <th>Direction</th>\n",
       "      <th>Departure_Hour</th>\n",
       "      <th>Arrive_Hour</th>\n",
       "      <th>Travel_Time</th>\n",
       "    </tr>\n",
       "  </thead>\n",
       "  <tbody>\n",
       "  </tbody>\n",
       "</table>\n",
       "</div>"
      ],
      "text/plain": [
       "Empty DataFrame\n",
       "Columns: [Line, Bus_Id, Direction, Departure_Hour, Arrive_Hour, Travel_Time]\n",
       "Index: []"
      ]
     },
     "execution_count": 175,
     "metadata": {},
     "output_type": "execute_result"
    }
   ],
   "source": [
    "sorted_near_initial_points_C41410 = near_points_to_origin ('C41410', inverted_initial_point)\n",
    "sorted_near_final_points_C41410 = near_points_to_origin ('C41410', inverted_final_point)\n",
    "\n",
    "initial_points_timestamp_C41410 = sorted_near_initial_points_C41410['timestamp']\n",
    "final_points_timestamp_C41410 = sorted_near_final_points_C41410['timestamp']\n",
    "\n",
    "initial_departure_hours_C41410 = bus_departure_hour(initial_points_timestamp_C41410)\n",
    "final_departure_hours_C41410 = bus_departure_hour(final_points_timestamp_C41410)\n",
    "\n",
    "arrive_hour_to_initialpoint_C41410 = bus_arrive_hour(initial_points_timestamp_C41410)\n",
    "arrive_hour_to_finalpoint_C41410 = bus_arrive_hour(final_points_timestamp_C41410)\n",
    "\n",
    "travel_table_C41410 = create_travel_table(\"Central\", arrive_hour_to_initialpoint_C41410, initial_departure_hours_C41410, \"Alborada\", arrive_hour_to_finalpoint_C41410, final_departure_hours_C41410, 'C41410', '317' )\n",
    "travel_table_C41410"
   ]
  },
  {
   "cell_type": "code",
   "execution_count": 176,
   "metadata": {
    "collapsed": false
   },
   "outputs": [
    {
     "data": {
      "text/html": [
       "<iframe src=\"files/map.html\" style=\"width: 100%; height: 510px; border: none\"></iframe>"
      ],
      "text/plain": [
       "<IPython.core.display.HTML object>"
      ]
     },
     "execution_count": 176,
     "metadata": {},
     "output_type": "execute_result"
    }
   ],
   "source": [
    "fmap317_C41410 =folium.Map(location=[-22.923714, -43.258999], zoom_start=11)\n",
    "locations317 = []\n",
    "for row in onibus317_shapes.iterrows():\n",
    "    #The 'latitude' and 'longitude' names correspond to column names in the original cceats dataframe\n",
    "    locations317.insert(len(locations317), [ row[1]['latitude'], row[1]['longitude'] ])\n",
    "    \n",
    "#Pintando Circulos de radio de 50m alrededor de los puntos incial y final \n",
    "fmap317_C41410.simple_marker(initial_point, popup='Central')\n",
    "fmap317_C41410.simple_marker(final_point, popup='Alborada')\n",
    "fmap317_C41410.simple_marker((-22.992551 , -43.249098), popup='Morte Motoqueiro')\n",
    "\n",
    "#Punto inicial\n",
    "fmap317_C41410.circle_marker(location=final_point, radius=250,line_color='green',\n",
    "                 fill_color='#3186cc', fill_opacity=0.2)\n",
    "\n",
    "#Punto inicial\n",
    "fmap317_C41410.circle_marker(location=initial_point, radius=250,line_color='red',\n",
    "                 fill_color='#3186cc', fill_opacity=0.2)\n",
    "\n",
    "for row in df_20150727_line_317_C41410.iterrows():\n",
    "    #The 'latitude' and 'longitude' names correspond to column names in the original cceats dataframe\n",
    "    latlon = [ row[1]['latitude'], row[1]['longitude'] ]\n",
    "    fmap317_C41410.polygon_marker( latlon, fill_color='white', num_sides=4, radius=6)\n",
    "\n",
    "for row in sorted_near_initial_points_C41410.iterrows():\n",
    "    #The 'latitude' and 'longitude' names correspond to column names in the original cceats dataframe\n",
    "    latlon = [ row[1]['latitude'], row[1]['longitude'] ]\n",
    "    fmap317_C41410.polygon_marker( latlon, fill_color='red', num_sides=4, radius=6)\n",
    "\n",
    "for row in sorted_near_final_points_C41410.iterrows():\n",
    "    #The 'latitude' and 'longitude' names correspond to column names in the original cceats dataframe\n",
    "    latlon = [ row[1]['latitude'], row[1]['longitude'] ]\n",
    "    fmap317_C41410.polygon_marker( latlon, fill_color='red', num_sides=4, radius=6)\n",
    "    \n",
    "fmap317_C41410.line(locations317)\n",
    "embed_map(fmap317_C41410)"
   ]
  },
  {
   "cell_type": "code",
   "execution_count": 177,
   "metadata": {
    "collapsed": false
   },
   "outputs": [
    {
     "data": {
      "text/html": [
       "<iframe id=\"igraph\" scrolling=\"no\" style=\"border:none;\"seamless=\"seamless\" src=\"https://plot.ly/~kllanes/7.embed\" height=\"525px\" width=\"100%\"></iframe>"
      ],
      "text/plain": [
       "<plotly.tools.PlotlyDisplay object>"
      ]
     },
     "execution_count": 177,
     "metadata": {},
     "output_type": "execute_result"
    }
   ],
   "source": [
    "#para el bus_id C41390\n",
    "df_20150727_line_317_C41390 = df_20150727_line_317[(df_20150727_line_317['bus_id']=='C41390')]\n",
    "#para seleccionar solo algunas columnas del dataframe, en este caso la columna 1(timestamp), la 4(latitude) y la 5(longitude)\n",
    "important_columns_C41390 = df_20150727_line_317_C41390.iloc[:,[0,3,4]]\n",
    "vector_C41390 = important_columns_C41390.values.tolist()\n",
    "\n",
    "vector_dist_to_ini_point_C41390 = vector_distancia(vector_C41390, initial_point)\n",
    "sorted_vector_dist_to_ini_point_C41390 = vector_dist_to_ini_point_C41390.sort([\"timestamp\"])\n",
    "\n",
    "vector_dist_to_final_point_C41390  = vector_distancia(vector_C41390, final_point)\n",
    "sorted_vector_dist_to_final_point_C41390 = vector_dist_to_final_point_C41390.sort([\"timestamp\"])\n",
    "\n",
    "#hacer una grafica interactiva con la libreria de python (plotly.plotly). Se instala por consola asi: sudo pip install plotly\n",
    "#distancia del punto final (central)\n",
    "\n",
    "trace_C41390 = Scatter(x = sorted_vector_dist_to_ini_point_C41390['timestamp'], y = sorted_vector_dist_to_ini_point_C41390['distance'])\n",
    "data = Data([trace_C41390])\n",
    "py.iplot(data, filename='pandas-time-series')"
   ]
  },
  {
   "cell_type": "code",
   "execution_count": 178,
   "metadata": {
    "collapsed": false,
    "scrolled": true
   },
   "outputs": [
    {
     "data": {
      "text/html": [
       "<div>\n",
       "<table border=\"1\" class=\"dataframe\">\n",
       "  <thead>\n",
       "    <tr style=\"text-align: right;\">\n",
       "      <th></th>\n",
       "      <th>Line</th>\n",
       "      <th>Bus_Id</th>\n",
       "      <th>Direction</th>\n",
       "      <th>Departure_Hour</th>\n",
       "      <th>Arrive_Hour</th>\n",
       "      <th>Travel_Time</th>\n",
       "    </tr>\n",
       "  </thead>\n",
       "  <tbody>\n",
       "    <tr>\n",
       "      <th>0</th>\n",
       "      <td>317</td>\n",
       "      <td>C41390</td>\n",
       "      <td>Central_to_Alborada</td>\n",
       "      <td>2015-07-27 14:35:06</td>\n",
       "      <td>2015-07-27 15:20:36</td>\n",
       "      <td>0:45</td>\n",
       "    </tr>\n",
       "    <tr>\n",
       "      <th>1</th>\n",
       "      <td>317</td>\n",
       "      <td>C41390</td>\n",
       "      <td>Alborada_to_Central</td>\n",
       "      <td>2015-07-27 17:15:31</td>\n",
       "      <td>2015-07-27 18:26:01</td>\n",
       "      <td>1:10</td>\n",
       "    </tr>\n",
       "    <tr>\n",
       "      <th>2</th>\n",
       "      <td>317</td>\n",
       "      <td>C41390</td>\n",
       "      <td>Central_to_Alborada</td>\n",
       "      <td>2015-07-27 19:13:14</td>\n",
       "      <td>2015-07-27 21:54:36</td>\n",
       "      <td>2:41</td>\n",
       "    </tr>\n",
       "    <tr>\n",
       "      <th>3</th>\n",
       "      <td>317</td>\n",
       "      <td>C41390</td>\n",
       "      <td>Alborada_to_Central</td>\n",
       "      <td>2015-07-27 21:56:06</td>\n",
       "      <td>2015-07-27 22:48:36</td>\n",
       "      <td>0:52</td>\n",
       "    </tr>\n",
       "  </tbody>\n",
       "</table>\n",
       "</div>"
      ],
      "text/plain": [
       "  Line  Bus_Id            Direction      Departure_Hour         Arrive_Hour  \\\n",
       "0  317  C41390  Central_to_Alborada 2015-07-27 14:35:06 2015-07-27 15:20:36   \n",
       "1  317  C41390  Alborada_to_Central 2015-07-27 17:15:31 2015-07-27 18:26:01   \n",
       "2  317  C41390  Central_to_Alborada 2015-07-27 19:13:14 2015-07-27 21:54:36   \n",
       "3  317  C41390  Alborada_to_Central 2015-07-27 21:56:06 2015-07-27 22:48:36   \n",
       "\n",
       "  Travel_Time  \n",
       "0        0:45  \n",
       "1        1:10  \n",
       "2        2:41  \n",
       "3        0:52  "
      ]
     },
     "execution_count": 178,
     "metadata": {},
     "output_type": "execute_result"
    }
   ],
   "source": [
    "sorted_near_initial_points_C41390 = near_points_to_origin ('C41390', inverted_initial_point)\n",
    "sorted_near_final_points_C41390 = near_points_to_origin ('C41390', inverted_final_point)\n",
    "\n",
    "initial_points_timestamp_C41390 = sorted_near_initial_points_C41390['timestamp']\n",
    "final_points_timestamp_C41390 = sorted_near_final_points_C41390['timestamp']\n",
    "\n",
    "initial_departure_hours_C41390 = bus_departure_hour(initial_points_timestamp_C41390)\n",
    "final_departure_hours_C41390 = bus_departure_hour(final_points_timestamp_C41390)\n",
    "\n",
    "arrive_hour_to_initialpoint_C41390 = bus_arrive_hour(initial_points_timestamp_C41390)\n",
    "arrive_hour_to_finalpoint_C41390 = bus_arrive_hour(final_points_timestamp_C41390)\n",
    "\n",
    "travel_table_C41390 = create_travel_table(\"Central\", arrive_hour_to_initialpoint_C41390, initial_departure_hours_C41390, \"Alborada\", arrive_hour_to_finalpoint_C41390, final_departure_hours_C41390, 'C41390', '317' )\n",
    "travel_table_C41390"
   ]
  },
  {
   "cell_type": "code",
   "execution_count": 179,
   "metadata": {
    "collapsed": false,
    "scrolled": true
   },
   "outputs": [
    {
     "data": {
      "text/html": [
       "<iframe src=\"files/map.html\" style=\"width: 100%; height: 510px; border: none\"></iframe>"
      ],
      "text/plain": [
       "<IPython.core.display.HTML object>"
      ]
     },
     "execution_count": 179,
     "metadata": {},
     "output_type": "execute_result"
    }
   ],
   "source": [
    "fmap317_C41390 =folium.Map(location=[-22.923714, -43.258999], zoom_start=11)\n",
    "locations317 = []\n",
    "for row in onibus317_shapes.iterrows():\n",
    "    #The 'latitude' and 'longitude' names correspond to column names in the original cceats dataframe\n",
    "    locations317.insert(len(locations317), [ row[1]['latitude'], row[1]['longitude'] ])\n",
    "    \n",
    "#Pintando Circulos de radio de 50m alrededor de los puntos incial y final \n",
    "fmap317_C41390.simple_marker(initial_point, popup='Central')\n",
    "fmap317_C41390.simple_marker(final_point, popup='Alborada')\n",
    "fmap317_C41390.simple_marker((-22.992551 , -43.249098), popup='Morte Motoqueiro')\n",
    "\n",
    "#Punto inicial\n",
    "fmap317_C41390.circle_marker(location=final_point, radius=250,line_color='green',\n",
    "                 fill_color='#3186cc', fill_opacity=0.2)\n",
    "\n",
    "#Punto inicial\n",
    "fmap317_C41390.circle_marker(location=initial_point, radius=250,line_color='red',\n",
    "                 fill_color='#3186cc', fill_opacity=0.2)\n",
    "\n",
    "for row in df_20150727_line_317_C41390.iterrows():\n",
    "    #The 'latitude' and 'longitude' names correspond to column names in the original cceats dataframe\n",
    "    latlon = [ row[1]['latitude'], row[1]['longitude'] ]\n",
    "    fmap317_C41390.polygon_marker( latlon, fill_color='white', num_sides=4, radius=6)\n",
    "\n",
    "for row in sorted_near_initial_points_C41390.iterrows():\n",
    "    #The 'latitude' and 'longitude' names correspond to column names in the original cceats dataframe\n",
    "    latlon = [ row[1]['latitude'], row[1]['longitude'] ]\n",
    "    fmap317_C41390.polygon_marker( latlon, fill_color='red', num_sides=4, radius=6)\n",
    "\n",
    "for row in sorted_near_final_points_C41390.iterrows():\n",
    "    #The 'latitude' and 'longitude' names correspond to column names in the original cceats dataframe\n",
    "    latlon = [ row[1]['latitude'], row[1]['longitude'] ]\n",
    "    fmap317_C41390.polygon_marker( latlon, fill_color='red', num_sides=4, radius=6)\n",
    "    \n",
    "fmap317_C41390.line(locations317)\n",
    "embed_map(fmap317_C41390)"
   ]
  },
  {
   "cell_type": "code",
   "execution_count": 180,
   "metadata": {
    "collapsed": false,
    "scrolled": false
   },
   "outputs": [
    {
     "data": {
      "text/html": [
       "<iframe id=\"igraph\" scrolling=\"no\" style=\"border:none;\"seamless=\"seamless\" src=\"https://plot.ly/~kllanes/7.embed\" height=\"525px\" width=\"100%\"></iframe>"
      ],
      "text/plain": [
       "<plotly.tools.PlotlyDisplay object>"
      ]
     },
     "execution_count": 180,
     "metadata": {},
     "output_type": "execute_result"
    }
   ],
   "source": [
    "#para el bus_id C41411\n",
    "df_20150727_line_317_C41411 = df_20150727_line_317[(df_20150727_line_317['bus_id']=='C41411')]\n",
    "#para seleccionar solo algunas columnas del dataframe, en este caso la columna 1(timestamp), la 4(latitude) y la 5(longitude)\n",
    "important_columns_C41411 = df_20150727_line_317_C41411.iloc[:,[0,3,4]]\n",
    "vector_C41411 = important_columns_C41411.values.tolist()\n",
    "\n",
    "vector_dist_to_ini_point_C41411 = vector_distancia(vector_C41411, initial_point)\n",
    "sorted_vector_dist_to_ini_point_C41411 = vector_dist_to_ini_point_C41411.sort([\"timestamp\"])\n",
    "\n",
    "vector_dist_to_final_point_C41411  = vector_distancia(vector_C41411, final_point)\n",
    "sorted_vector_dist_to_final_point_C41411 = vector_dist_to_final_point_C41411.sort([\"timestamp\"])\n",
    "\n",
    "#hacer una grafica interactiva con la libreria de python (plotly.plotly). Se instala por consola asi: sudo pip install plotly\n",
    "#distancia del punto final (central)\n",
    "\n",
    "trace_C41411 = Scatter(x = sorted_vector_dist_to_ini_point_C41411['timestamp'], y = sorted_vector_dist_to_ini_point_C41411['distance'])\n",
    "data = Data([trace_C41411])\n",
    "py.iplot(data, filename='pandas-time-series')"
   ]
  },
  {
   "cell_type": "code",
   "execution_count": 184,
   "metadata": {
    "collapsed": false
   },
   "outputs": [
    {
     "data": {
      "text/html": [
       "<iframe id=\"igraph\" scrolling=\"no\" style=\"border:none;\"seamless=\"seamless\" src=\"https://plot.ly/~kllanes/7.embed\" height=\"525px\" width=\"100%\"></iframe>"
      ],
      "text/plain": [
       "<plotly.tools.PlotlyDisplay object>"
      ]
     },
     "execution_count": 184,
     "metadata": {},
     "output_type": "execute_result"
    }
   ],
   "source": [
    "trace_C41411 = Scatter(x = sorted_vector_dist_to_final_point_C41411['timestamp'], y = sorted_vector_dist_to_final_point_C41411['distance'])\n",
    "data = Data([trace_C41411])\n",
    "py.iplot(data, filename='pandas-time-series')"
   ]
  },
  {
   "cell_type": "code",
   "execution_count": 182,
   "metadata": {
    "collapsed": false
   },
   "outputs": [
    {
     "data": {
      "text/html": [
       "<div>\n",
       "<table border=\"1\" class=\"dataframe\">\n",
       "  <thead>\n",
       "    <tr style=\"text-align: right;\">\n",
       "      <th></th>\n",
       "      <th>Line</th>\n",
       "      <th>Bus_Id</th>\n",
       "      <th>Direction</th>\n",
       "      <th>Departure_Hour</th>\n",
       "      <th>Arrive_Hour</th>\n",
       "      <th>Travel_Time</th>\n",
       "    </tr>\n",
       "  </thead>\n",
       "  <tbody>\n",
       "  </tbody>\n",
       "</table>\n",
       "</div>"
      ],
      "text/plain": [
       "Empty DataFrame\n",
       "Columns: [Line, Bus_Id, Direction, Departure_Hour, Arrive_Hour, Travel_Time]\n",
       "Index: []"
      ]
     },
     "execution_count": 182,
     "metadata": {},
     "output_type": "execute_result"
    }
   ],
   "source": [
    "sorted_near_initial_points_C41411 = near_points_to_origin ('C41411', inverted_initial_point)\n",
    "sorted_near_final_points_C41411 = near_points_to_origin ('C41411', inverted_final_point)\n",
    "\n",
    "initial_points_timestamp_C41411 = sorted_near_initial_points_C41411['timestamp']\n",
    "final_points_timestamp_C41411 = sorted_near_final_points_C41411['timestamp']\n",
    "\n",
    "initial_departure_hours_C41411 = bus_departure_hour(initial_points_timestamp_C41411)\n",
    "final_departure_hours_C41411 = bus_departure_hour(final_points_timestamp_C41411)\n",
    "\n",
    "arrive_hour_to_initialpoint_C41411 = bus_arrive_hour(initial_points_timestamp_C41411)\n",
    "arrive_hour_to_finalpoint_C41411 = bus_arrive_hour(final_points_timestamp_C41390)\n",
    "\n",
    "travel_table_C41411 = create_travel_table(\"Central\", arrive_hour_to_initialpoint_C41411, initial_departure_hours_C41411, \"Alborada\", arrive_hour_to_finalpoint_C41411, final_departure_hours_C41411, 'C41411', '317' )\n",
    "travel_table_C41411"
   ]
  },
  {
   "cell_type": "code",
   "execution_count": 183,
   "metadata": {
    "collapsed": false,
    "scrolled": true
   },
   "outputs": [
    {
     "data": {
      "text/html": [
       "<iframe src=\"files/map.html\" style=\"width: 100%; height: 510px; border: none\"></iframe>"
      ],
      "text/plain": [
       "<IPython.core.display.HTML object>"
      ]
     },
     "execution_count": 183,
     "metadata": {},
     "output_type": "execute_result"
    }
   ],
   "source": [
    "fmap317_C41411 =folium.Map(location=[-22.923714, -43.258999], zoom_start=11)\n",
    "locations317 = []\n",
    "for row in onibus317_shapes.iterrows():\n",
    "    #The 'latitude' and 'longitude' names correspond to column names in the original cceats dataframe\n",
    "    locations317.insert(len(locations317), [ row[1]['latitude'], row[1]['longitude'] ])\n",
    "    \n",
    "#Pintando Circulos de radio de 50m alrededor de los puntos incial y final \n",
    "fmap317_C41411.simple_marker(initial_point, popup='Central')\n",
    "fmap317_C41411.simple_marker(final_point, popup='Alborada')\n",
    "fmap317_C41411.simple_marker((-22.992551 , -43.249098), popup='Morte Motoqueiro')\n",
    "\n",
    "#Punto inicial\n",
    "fmap317_C41411.circle_marker(location=final_point, radius=250,line_color='green',\n",
    "                 fill_color='#3186cc', fill_opacity=0.2)\n",
    "\n",
    "#Punto inicial\n",
    "fmap317_C41411.circle_marker(location=initial_point, radius=250,line_color='red',\n",
    "                 fill_color='#3186cc', fill_opacity=0.2)\n",
    "\n",
    "for row in df_20150727_line_317_C41411.iterrows():\n",
    "    #The 'latitude' and 'longitude' names correspond to column names in the original cceats dataframe\n",
    "    latlon = [ row[1]['latitude'], row[1]['longitude'] ]\n",
    "    fmap317_C41411.polygon_marker( latlon, fill_color='white', num_sides=4, radius=6)\n",
    "\n",
    "for row in sorted_near_initial_points_C41411.iterrows():\n",
    "    #The 'latitude' and 'longitude' names correspond to column names in the original cceats dataframe\n",
    "    latlon = [ row[1]['latitude'], row[1]['longitude'] ]\n",
    "    fmap317_C41411.polygon_marker( latlon, fill_color='red', num_sides=4, radius=6)\n",
    "\n",
    "for row in sorted_near_final_points_C41411.iterrows():\n",
    "    #The 'latitude' and 'longitude' names correspond to column names in the original cceats dataframe\n",
    "    latlon = [ row[1]['latitude'], row[1]['longitude'] ]\n",
    "    fmap317_C41411.polygon_marker( latlon, fill_color='red', num_sides=4, radius=6)\n",
    "    \n",
    "fmap317_C41411.line(locations317)\n",
    "embed_map(fmap317_C41411)"
   ]
  },
  {
   "cell_type": "code",
   "execution_count": 185,
   "metadata": {
    "collapsed": false
   },
   "outputs": [
    {
     "data": {
      "text/html": [
       "<iframe id=\"igraph\" scrolling=\"no\" style=\"border:none;\"seamless=\"seamless\" src=\"https://plot.ly/~kllanes/7.embed\" height=\"525px\" width=\"100%\"></iframe>"
      ],
      "text/plain": [
       "<plotly.tools.PlotlyDisplay object>"
      ]
     },
     "execution_count": 185,
     "metadata": {},
     "output_type": "execute_result"
    }
   ],
   "source": [
    "#para el bus_id C41427\n",
    "df_20150727_line_317_C41427 = df_20150727_line_317[(df_20150727_line_317['bus_id']=='C41427')]\n",
    "#para seleccionar solo algunas columnas del dataframe, en este caso la columna 1(timestamp), la 4(latitude) y la 5(longitude)\n",
    "important_columns_C41427 = df_20150727_line_317_C41427.iloc[:,[0,3,4]]\n",
    "vector_C41427 = important_columns_C41427.values.tolist()\n",
    "\n",
    "vector_dist_to_ini_point_C41427 = vector_distancia(vector_C41427, initial_point)\n",
    "sorted_vector_dist_to_ini_point_C41427 = vector_dist_to_ini_point_C41427.sort([\"timestamp\"])\n",
    "\n",
    "vector_dist_to_final_point_C41427  = vector_distancia(vector_C41427, final_point)\n",
    "sorted_vector_dist_to_final_point_C41427 = vector_dist_to_final_point_C41427.sort([\"timestamp\"])\n",
    "\n",
    "#hacer una grafica interactiva con la libreria de python (plotly.plotly). Se instala por consola asi: sudo pip install plotly\n",
    "#distancia del punto final (central)\n",
    "\n",
    "trace_C41427 = Scatter(x = sorted_vector_dist_to_ini_point_C41427['timestamp'], y = sorted_vector_dist_to_ini_point_C41427['distance'])\n",
    "data = Data([trace_C41427])\n",
    "py.iplot(data, filename='pandas-time-series')"
   ]
  },
  {
   "cell_type": "code",
   "execution_count": 186,
   "metadata": {
    "collapsed": false
   },
   "outputs": [
    {
     "data": {
      "text/html": [
       "<div>\n",
       "<table border=\"1\" class=\"dataframe\">\n",
       "  <thead>\n",
       "    <tr style=\"text-align: right;\">\n",
       "      <th></th>\n",
       "      <th>Line</th>\n",
       "      <th>Bus_Id</th>\n",
       "      <th>Direction</th>\n",
       "      <th>Departure_Hour</th>\n",
       "      <th>Arrive_Hour</th>\n",
       "      <th>Travel_Time</th>\n",
       "    </tr>\n",
       "  </thead>\n",
       "  <tbody>\n",
       "  </tbody>\n",
       "</table>\n",
       "</div>"
      ],
      "text/plain": [
       "Empty DataFrame\n",
       "Columns: [Line, Bus_Id, Direction, Departure_Hour, Arrive_Hour, Travel_Time]\n",
       "Index: []"
      ]
     },
     "execution_count": 186,
     "metadata": {},
     "output_type": "execute_result"
    }
   ],
   "source": [
    "sorted_near_initial_points_C41427 = near_points_to_origin ('C41427', inverted_initial_point)\n",
    "sorted_near_final_points_C41427 = near_points_to_origin ('C41427', inverted_final_point)\n",
    "\n",
    "initial_points_timestamp_C41427 = sorted_near_initial_points_C41427['timestamp']\n",
    "final_points_timestamp_C41427 = sorted_near_final_points_C41427['timestamp']\n",
    "\n",
    "initial_departure_hours_C41427 = bus_departure_hour(initial_points_timestamp_C41427)\n",
    "final_departure_hours_C41427 = bus_departure_hour(final_points_timestamp_C41427)\n",
    "\n",
    "arrive_hour_to_initialpoint_C41427 = bus_arrive_hour(initial_points_timestamp_C41427)\n",
    "arrive_hour_to_finalpoint_C41427 = bus_arrive_hour(final_points_timestamp_C41427)\n",
    "\n",
    "travel_table_C41427 = create_travel_table(\"Central\", arrive_hour_to_initialpoint_C41427, initial_departure_hours_C41427, \"Alborada\", arrive_hour_to_finalpoint_C41427, final_departure_hours_C41427, 'C41427', '317' )\n",
    "travel_table_C41427"
   ]
  },
  {
   "cell_type": "code",
   "execution_count": 187,
   "metadata": {
    "collapsed": false,
    "scrolled": true
   },
   "outputs": [
    {
     "data": {
      "text/html": [
       "<iframe src=\"files/map.html\" style=\"width: 100%; height: 510px; border: none\"></iframe>"
      ],
      "text/plain": [
       "<IPython.core.display.HTML object>"
      ]
     },
     "execution_count": 187,
     "metadata": {},
     "output_type": "execute_result"
    }
   ],
   "source": [
    "fmap317_C41427 =folium.Map(location=[-22.923714, -43.258999], zoom_start=11)\n",
    "locations317 = []\n",
    "for row in onibus317_shapes.iterrows():\n",
    "    #The 'latitude' and 'longitude' names correspond to column names in the original cceats dataframe\n",
    "    locations317.insert(len(locations317), [ row[1]['latitude'], row[1]['longitude'] ])\n",
    "    \n",
    "#Pintando Circulos de radio de 50m alrededor de los puntos incial y final \n",
    "fmap317_C41427.simple_marker(initial_point, popup='Central')\n",
    "fmap317_C41427.simple_marker(final_point, popup='Alborada')\n",
    "fmap317_C41427.simple_marker((-22.992551 , -43.249098), popup='Morte Motoqueiro')\n",
    "\n",
    "#Punto inicial\n",
    "fmap317_C41427.circle_marker(location=final_point, radius=250,line_color='green',\n",
    "                 fill_color='#3186cc', fill_opacity=0.2)\n",
    "\n",
    "#Punto inicial\n",
    "fmap317_C41427.circle_marker(location=initial_point, radius=250,line_color='red',\n",
    "                 fill_color='#3186cc', fill_opacity=0.2)\n",
    "\n",
    "for row in df_20150727_line_317_C41427.iterrows():\n",
    "    #The 'latitude' and 'longitude' names correspond to column names in the original cceats dataframe\n",
    "    latlon = [ row[1]['latitude'], row[1]['longitude'] ]\n",
    "    fmap317_C41427.polygon_marker( latlon, fill_color='white', num_sides=4, radius=6)\n",
    "\n",
    "for row in sorted_near_initial_points_C41427.iterrows():\n",
    "    #The 'latitude' and 'longitude' names correspond to column names in the original cceats dataframe\n",
    "    latlon = [ row[1]['latitude'], row[1]['longitude'] ]\n",
    "    fmap317_C41427.polygon_marker( latlon, fill_color='red', num_sides=4, radius=6)\n",
    "\n",
    "for row in sorted_near_final_points_C41427.iterrows():\n",
    "    #The 'latitude' and 'longitude' names correspond to column names in the original cceats dataframe\n",
    "    latlon = [ row[1]['latitude'], row[1]['longitude'] ]\n",
    "    fmap317_C41427.polygon_marker( latlon, fill_color='red', num_sides=4, radius=6)\n",
    "    \n",
    "fmap317_C41427.line(locations317)\n",
    "embed_map(fmap317_C41427)"
   ]
  },
  {
   "cell_type": "code",
   "execution_count": 188,
   "metadata": {
    "collapsed": false
   },
   "outputs": [
    {
     "data": {
      "text/html": [
       "<iframe id=\"igraph\" scrolling=\"no\" style=\"border:none;\"seamless=\"seamless\" src=\"https://plot.ly/~kllanes/7.embed\" height=\"525px\" width=\"100%\"></iframe>"
      ],
      "text/plain": [
       "<plotly.tools.PlotlyDisplay object>"
      ]
     },
     "execution_count": 188,
     "metadata": {},
     "output_type": "execute_result"
    }
   ],
   "source": [
    "#para el bus_id C41402\n",
    "df_20150727_line_317_C41402 = df_20150727_line_317[(df_20150727_line_317['bus_id']=='C41402')]\n",
    "#para seleccionar solo algunas columnas del dataframe, en este caso la columna 1(timestamp), la 4(latitude) y la 5(longitude)\n",
    "important_columns_C41402 = df_20150727_line_317_C41402.iloc[:,[0,3,4]]\n",
    "vector_C41402 = important_columns_C41402.values.tolist()\n",
    "\n",
    "vector_dist_to_ini_point_C41402 = vector_distancia(vector_C41402, initial_point)\n",
    "sorted_vector_dist_to_ini_point_C41402 = vector_dist_to_ini_point_C41402.sort([\"timestamp\"])\n",
    "\n",
    "vector_dist_to_final_point_C41402  = vector_distancia(vector_C41402, final_point)\n",
    "sorted_vector_dist_to_final_point_C41402 = vector_dist_to_final_point_C41402.sort([\"timestamp\"])\n",
    "\n",
    "#hacer una grafica interactiva con la libreria de python (plotly.plotly). Se instala por consola asi: sudo pip install plotly\n",
    "#distancia del punto final (central)\n",
    "\n",
    "trace_C41402 = Scatter(x = sorted_vector_dist_to_ini_point_C41402['timestamp'], y = sorted_vector_dist_to_ini_point_C41402['distance'])\n",
    "data = Data([trace_C41402])\n",
    "py.iplot(data, filename='pandas-time-series')"
   ]
  },
  {
   "cell_type": "code",
   "execution_count": 189,
   "metadata": {
    "collapsed": false
   },
   "outputs": [
    {
     "data": {
      "text/html": [
       "<div>\n",
       "<table border=\"1\" class=\"dataframe\">\n",
       "  <thead>\n",
       "    <tr style=\"text-align: right;\">\n",
       "      <th></th>\n",
       "      <th>Line</th>\n",
       "      <th>Bus_Id</th>\n",
       "      <th>Direction</th>\n",
       "      <th>Departure_Hour</th>\n",
       "      <th>Arrive_Hour</th>\n",
       "      <th>Travel_Time</th>\n",
       "    </tr>\n",
       "  </thead>\n",
       "  <tbody>\n",
       "  </tbody>\n",
       "</table>\n",
       "</div>"
      ],
      "text/plain": [
       "Empty DataFrame\n",
       "Columns: [Line, Bus_Id, Direction, Departure_Hour, Arrive_Hour, Travel_Time]\n",
       "Index: []"
      ]
     },
     "execution_count": 189,
     "metadata": {},
     "output_type": "execute_result"
    }
   ],
   "source": [
    "sorted_near_initial_points_C41402 = near_points_to_origin ('C41402', inverted_initial_point)\n",
    "sorted_near_final_points_C41402 = near_points_to_origin ('C41402', inverted_final_point)\n",
    "\n",
    "initial_points_timestamp_C41402 = sorted_near_initial_points_C41402['timestamp']\n",
    "final_points_timestamp_C41402 = sorted_near_final_points_C41402['timestamp']\n",
    "\n",
    "initial_departure_hours_C41402 = bus_departure_hour(initial_points_timestamp_C41402)\n",
    "final_departure_hours_C41402 = bus_departure_hour(final_points_timestamp_C41402)\n",
    "\n",
    "arrive_hour_to_initialpoint_C41402 = bus_arrive_hour(initial_points_timestamp_C41402)\n",
    "arrive_hour_to_finalpoint_C41402 = bus_arrive_hour(final_points_timestamp_C41402)\n",
    "\n",
    "travel_table_C41402 = create_travel_table(\"Central\", arrive_hour_to_initialpoint_C41402, initial_departure_hours_C41402, \"Alborada\", arrive_hour_to_finalpoint_C41402, final_departure_hours_C41402, 'C41402', '317' )\n",
    "travel_table_C41402"
   ]
  },
  {
   "cell_type": "code",
   "execution_count": 190,
   "metadata": {
    "collapsed": false
   },
   "outputs": [
    {
     "data": {
      "text/html": [
       "<iframe src=\"files/map.html\" style=\"width: 100%; height: 510px; border: none\"></iframe>"
      ],
      "text/plain": [
       "<IPython.core.display.HTML object>"
      ]
     },
     "execution_count": 190,
     "metadata": {},
     "output_type": "execute_result"
    }
   ],
   "source": [
    "fmap317_C41402 =folium.Map(location=[-22.923714, -43.258999], zoom_start=11)\n",
    "locations317 = []\n",
    "for row in onibus317_shapes.iterrows():\n",
    "    #The 'latitude' and 'longitude' names correspond to column names in the original cceats dataframe\n",
    "    locations317.insert(len(locations317), [ row[1]['latitude'], row[1]['longitude'] ])\n",
    "    \n",
    "#Pintando Circulos de radio de 50m alrededor de los puntos incial y final \n",
    "fmap317_C41402.simple_marker(initial_point, popup='Central')\n",
    "fmap317_C41402.simple_marker(final_point, popup='Alborada')\n",
    "fmap317_C41402.simple_marker((-22.992551 , -43.249098), popup='Morte Motoqueiro')\n",
    "\n",
    "#Punto inicial\n",
    "fmap317_C41402.circle_marker(location=final_point, radius=250,line_color='green',\n",
    "                 fill_color='#3186cc', fill_opacity=0.2)\n",
    "\n",
    "#Punto inicial\n",
    "fmap317_C41402.circle_marker(location=initial_point, radius=250,line_color='red',\n",
    "                 fill_color='#3186cc', fill_opacity=0.2)\n",
    "\n",
    "for row in df_20150727_line_317_C41402.iterrows():\n",
    "    #The 'latitude' and 'longitude' names correspond to column names in the original cceats dataframe\n",
    "    latlon = [ row[1]['latitude'], row[1]['longitude'] ]\n",
    "    fmap317_C41402.polygon_marker( latlon, fill_color='white', num_sides=4, radius=6)\n",
    "\n",
    "for row in sorted_near_initial_points_C41402.iterrows():\n",
    "    #The 'latitude' and 'longitude' names correspond to column names in the original cceats dataframe\n",
    "    latlon = [ row[1]['latitude'], row[1]['longitude'] ]\n",
    "    fmap317_C41402.polygon_marker( latlon, fill_color='red', num_sides=4, radius=6)\n",
    "\n",
    "for row in sorted_near_final_points_C41402.iterrows():\n",
    "    #The 'latitude' and 'longitude' names correspond to column names in the original cceats dataframe\n",
    "    latlon = [ row[1]['latitude'], row[1]['longitude'] ]\n",
    "    fmap317_C41402.polygon_marker( latlon, fill_color='red', num_sides=4, radius=6)\n",
    "    \n",
    "fmap317_C41402.line(locations317)\n",
    "embed_map(fmap317_C41402)"
   ]
  },
  {
   "cell_type": "code",
   "execution_count": 138,
   "metadata": {
    "collapsed": false
   },
   "outputs": [
    {
     "data": {
      "text/html": [
       "<div>\n",
       "<table border=\"1\" class=\"dataframe\">\n",
       "  <thead>\n",
       "    <tr style=\"text-align: right;\">\n",
       "      <th></th>\n",
       "      <th>Line</th>\n",
       "      <th>Bus_Id</th>\n",
       "      <th>Direction</th>\n",
       "      <th>Departure_Hour</th>\n",
       "      <th>Arrive_Hour</th>\n",
       "      <th>Travel_Time</th>\n",
       "    </tr>\n",
       "  </thead>\n",
       "  <tbody>\n",
       "    <tr>\n",
       "      <th>0</th>\n",
       "      <td>317</td>\n",
       "      <td>C41102</td>\n",
       "      <td>Alborada_to_Central</td>\n",
       "      <td>2015-07-27 04:25:57</td>\n",
       "      <td>2015-07-27 05:12:59</td>\n",
       "      <td>0:47</td>\n",
       "    </tr>\n",
       "    <tr>\n",
       "      <th>1</th>\n",
       "      <td>317</td>\n",
       "      <td>C41102</td>\n",
       "      <td>Central_to_Alborada</td>\n",
       "      <td>2015-07-27 05:22:38</td>\n",
       "      <td>2015-07-27 06:42:34</td>\n",
       "      <td>1:19</td>\n",
       "    </tr>\n",
       "    <tr>\n",
       "      <th>2</th>\n",
       "      <td>317</td>\n",
       "      <td>C41102</td>\n",
       "      <td>Alborada_to_Central</td>\n",
       "      <td>2015-07-27 06:50:44</td>\n",
       "      <td>2015-07-27 08:30:42</td>\n",
       "      <td>1:39</td>\n",
       "    </tr>\n",
       "    <tr>\n",
       "      <th>3</th>\n",
       "      <td>317</td>\n",
       "      <td>C41102</td>\n",
       "      <td>Central_to_Alborada</td>\n",
       "      <td>2015-07-27 08:36:32</td>\n",
       "      <td>2015-07-27 10:14:53</td>\n",
       "      <td>1:38</td>\n",
       "    </tr>\n",
       "    <tr>\n",
       "      <th>4</th>\n",
       "      <td>317</td>\n",
       "      <td>C41237</td>\n",
       "      <td>Alborada_to_Central</td>\n",
       "      <td>2015-07-27 08:06:36</td>\n",
       "      <td>2015-07-27 09:48:59</td>\n",
       "      <td>1:42</td>\n",
       "    </tr>\n",
       "    <tr>\n",
       "      <th>5</th>\n",
       "      <td>317</td>\n",
       "      <td>C41237</td>\n",
       "      <td>Central_to_Alborada</td>\n",
       "      <td>2015-07-27 10:01:49</td>\n",
       "      <td>2015-07-27 11:35:05</td>\n",
       "      <td>1:33</td>\n",
       "    </tr>\n",
       "    <tr>\n",
       "      <th>6</th>\n",
       "      <td>317</td>\n",
       "      <td>C41237</td>\n",
       "      <td>Alborada_to_Central</td>\n",
       "      <td>2015-07-27 12:07:50</td>\n",
       "      <td>2015-07-27 13:21:53</td>\n",
       "      <td>1:14</td>\n",
       "    </tr>\n",
       "    <tr>\n",
       "      <th>7</th>\n",
       "      <td>317</td>\n",
       "      <td>C41237</td>\n",
       "      <td>Central_to_Alborada</td>\n",
       "      <td>2015-07-27 13:38:48</td>\n",
       "      <td>2015-07-27 14:51:58</td>\n",
       "      <td>1:13</td>\n",
       "    </tr>\n",
       "    <tr>\n",
       "      <th>8</th>\n",
       "      <td>317</td>\n",
       "      <td>C41237</td>\n",
       "      <td>Alborada_to_Central</td>\n",
       "      <td>2015-07-27 15:10:03</td>\n",
       "      <td>2015-07-27 16:38:51</td>\n",
       "      <td>1:28</td>\n",
       "    </tr>\n",
       "    <tr>\n",
       "      <th>9</th>\n",
       "      <td>317</td>\n",
       "      <td>C41093</td>\n",
       "      <td>Alborada_to_Central</td>\n",
       "      <td>2015-07-27 04:51:50</td>\n",
       "      <td>2015-07-27 05:41:40</td>\n",
       "      <td>0:49</td>\n",
       "    </tr>\n",
       "    <tr>\n",
       "      <th>10</th>\n",
       "      <td>317</td>\n",
       "      <td>C41413</td>\n",
       "      <td>Central_to_Alborada</td>\n",
       "      <td>2015-07-27 09:16:39</td>\n",
       "      <td>2015-07-27 14:27:58</td>\n",
       "      <td>5:11</td>\n",
       "    </tr>\n",
       "    <tr>\n",
       "      <th>11</th>\n",
       "      <td>317</td>\n",
       "      <td>C41413</td>\n",
       "      <td>Alborada_to_Central</td>\n",
       "      <td>2015-07-27 14:30:53</td>\n",
       "      <td>2015-07-27 15:54:41</td>\n",
       "      <td>1:23</td>\n",
       "    </tr>\n",
       "    <tr>\n",
       "      <th>12</th>\n",
       "      <td>317</td>\n",
       "      <td>C41415</td>\n",
       "      <td>Central_to_Alborada</td>\n",
       "      <td>2015-07-27 10:30:51</td>\n",
       "      <td>2015-07-27 12:14:45</td>\n",
       "      <td>1:43</td>\n",
       "    </tr>\n",
       "    <tr>\n",
       "      <th>13</th>\n",
       "      <td>317</td>\n",
       "      <td>C41415</td>\n",
       "      <td>Alborada_to_Central</td>\n",
       "      <td>2015-07-27 12:32:01</td>\n",
       "      <td>2015-07-27 13:43:54</td>\n",
       "      <td>1:11</td>\n",
       "    </tr>\n",
       "    <tr>\n",
       "      <th>14</th>\n",
       "      <td>317</td>\n",
       "      <td>C41415</td>\n",
       "      <td>Central_to_Alborada</td>\n",
       "      <td>2015-07-27 14:03:02</td>\n",
       "      <td>2015-07-27 15:23:59</td>\n",
       "      <td>1:20</td>\n",
       "    </tr>\n",
       "    <tr>\n",
       "      <th>15</th>\n",
       "      <td>317</td>\n",
       "      <td>C41415</td>\n",
       "      <td>Alborada_to_Central</td>\n",
       "      <td>2015-07-27 15:37:41</td>\n",
       "      <td>2015-07-27 17:04:00</td>\n",
       "      <td>1:26</td>\n",
       "    </tr>\n",
       "    <tr>\n",
       "      <th>16</th>\n",
       "      <td>317</td>\n",
       "      <td>C41415</td>\n",
       "      <td>Central_to_Alborada</td>\n",
       "      <td>2015-07-27 17:21:01</td>\n",
       "      <td>2015-07-27 19:00:57</td>\n",
       "      <td>1:39</td>\n",
       "    </tr>\n",
       "    <tr>\n",
       "      <th>17</th>\n",
       "      <td>317</td>\n",
       "      <td>C41390</td>\n",
       "      <td>Alborada_to_Central</td>\n",
       "      <td>2015-07-27 14:35:06</td>\n",
       "      <td>2015-07-27 15:20:36</td>\n",
       "      <td>0:45</td>\n",
       "    </tr>\n",
       "    <tr>\n",
       "      <th>18</th>\n",
       "      <td>317</td>\n",
       "      <td>C41390</td>\n",
       "      <td>Central_to_Alborada</td>\n",
       "      <td>2015-07-27 17:15:31</td>\n",
       "      <td>2015-07-27 18:26:01</td>\n",
       "      <td>1:10</td>\n",
       "    </tr>\n",
       "    <tr>\n",
       "      <th>19</th>\n",
       "      <td>317</td>\n",
       "      <td>C41390</td>\n",
       "      <td>Alborada_to_Central</td>\n",
       "      <td>2015-07-27 19:13:14</td>\n",
       "      <td>2015-07-27 21:54:36</td>\n",
       "      <td>2:41</td>\n",
       "    </tr>\n",
       "    <tr>\n",
       "      <th>20</th>\n",
       "      <td>317</td>\n",
       "      <td>C41390</td>\n",
       "      <td>Central_to_Alborada</td>\n",
       "      <td>2015-07-27 21:56:06</td>\n",
       "      <td>2015-07-27 22:48:36</td>\n",
       "      <td>0:52</td>\n",
       "    </tr>\n",
       "  </tbody>\n",
       "</table>\n",
       "</div>"
      ],
      "text/plain": [
       "   Line  Bus_Id            Direction      Departure_Hour         Arrive_Hour  \\\n",
       "0   317  C41102  Alborada_to_Central 2015-07-27 04:25:57 2015-07-27 05:12:59   \n",
       "1   317  C41102  Central_to_Alborada 2015-07-27 05:22:38 2015-07-27 06:42:34   \n",
       "2   317  C41102  Alborada_to_Central 2015-07-27 06:50:44 2015-07-27 08:30:42   \n",
       "3   317  C41102  Central_to_Alborada 2015-07-27 08:36:32 2015-07-27 10:14:53   \n",
       "4   317  C41237  Alborada_to_Central 2015-07-27 08:06:36 2015-07-27 09:48:59   \n",
       "5   317  C41237  Central_to_Alborada 2015-07-27 10:01:49 2015-07-27 11:35:05   \n",
       "6   317  C41237  Alborada_to_Central 2015-07-27 12:07:50 2015-07-27 13:21:53   \n",
       "7   317  C41237  Central_to_Alborada 2015-07-27 13:38:48 2015-07-27 14:51:58   \n",
       "8   317  C41237  Alborada_to_Central 2015-07-27 15:10:03 2015-07-27 16:38:51   \n",
       "9   317  C41093  Alborada_to_Central 2015-07-27 04:51:50 2015-07-27 05:41:40   \n",
       "10  317  C41413  Central_to_Alborada 2015-07-27 09:16:39 2015-07-27 14:27:58   \n",
       "11  317  C41413  Alborada_to_Central 2015-07-27 14:30:53 2015-07-27 15:54:41   \n",
       "12  317  C41415  Central_to_Alborada 2015-07-27 10:30:51 2015-07-27 12:14:45   \n",
       "13  317  C41415  Alborada_to_Central 2015-07-27 12:32:01 2015-07-27 13:43:54   \n",
       "14  317  C41415  Central_to_Alborada 2015-07-27 14:03:02 2015-07-27 15:23:59   \n",
       "15  317  C41415  Alborada_to_Central 2015-07-27 15:37:41 2015-07-27 17:04:00   \n",
       "16  317  C41415  Central_to_Alborada 2015-07-27 17:21:01 2015-07-27 19:00:57   \n",
       "17  317  C41390  Alborada_to_Central 2015-07-27 14:35:06 2015-07-27 15:20:36   \n",
       "18  317  C41390  Central_to_Alborada 2015-07-27 17:15:31 2015-07-27 18:26:01   \n",
       "19  317  C41390  Alborada_to_Central 2015-07-27 19:13:14 2015-07-27 21:54:36   \n",
       "20  317  C41390  Central_to_Alborada 2015-07-27 21:56:06 2015-07-27 22:48:36   \n",
       "\n",
       "   Travel_Time  \n",
       "0         0:47  \n",
       "1         1:19  \n",
       "2         1:39  \n",
       "3         1:38  \n",
       "4         1:42  \n",
       "5         1:33  \n",
       "6         1:14  \n",
       "7         1:13  \n",
       "8         1:28  \n",
       "9         0:49  \n",
       "10        5:11  \n",
       "11        1:23  \n",
       "12        1:43  \n",
       "13        1:11  \n",
       "14        1:20  \n",
       "15        1:26  \n",
       "16        1:39  \n",
       "17        0:45  \n",
       "18        1:10  \n",
       "19        2:41  \n",
       "20        0:52  "
      ]
     },
     "execution_count": 138,
     "metadata": {},
     "output_type": "execute_result"
    }
   ],
   "source": [
    "travel_table_20150727_317 = all_travel_table ('317', inverted_initial_point, 'Alborada', inverted_final_point, 'Central', array_busId)\n",
    "travel_table_20150727_317"
   ]
  }
 ],
 "metadata": {
  "kernelspec": {
   "display_name": "Python 2",
   "language": "python",
   "name": "python2"
  },
  "language_info": {
   "codemirror_mode": {
    "name": "ipython",
    "version": 2
   },
   "file_extension": ".py",
   "mimetype": "text/x-python",
   "name": "python",
   "nbconvert_exporter": "python",
   "pygments_lexer": "ipython2",
   "version": "2.7.6"
  }
 },
 "nbformat": 4,
 "nbformat_minor": 0
}
