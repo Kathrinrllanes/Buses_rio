{
 "cells": [
  {
   "cell_type": "code",
   "execution_count": 1,
   "metadata": {
    "collapsed": false
   },
   "outputs": [],
   "source": [
    "import pandas as pd\n",
    "from pymongo import MongoClient, GEO2D\n",
    "import pymongo\n",
    "import json\n",
    "import datetime\n",
    "from bson.son import SON\n",
    "import folium \n",
    "import math\n",
    "import numpy as np\n",
    "from IPython.display import display"
   ]
  },
  {
   "cell_type": "code",
   "execution_count": 2,
   "metadata": {
    "collapsed": false
   },
   "outputs": [],
   "source": [
    "#Estableciendo la conexion con la base de datos aniv_cidade_event en MongoDB\n",
    "db = MongoClient().aniv_cidade_event"
   ]
  },
  {
   "cell_type": "code",
   "execution_count": 3,
   "metadata": {
    "collapsed": false
   },
   "outputs": [],
   "source": [
    "#Punto inicial del omnibus 410 Praça Saens Pena\n",
    "initial_point = (-22.923736, -43.235721)\n"
   ]
  },
  {
   "cell_type": "code",
   "execution_count": 4,
   "metadata": {
    "collapsed": false
   },
   "outputs": [],
   "source": [
    "#Punto final del omnibus 410 Terminal PUC\n",
    "final_point = (-22.979408, -43.231352)"
   ]
  },
  {
   "cell_type": "code",
   "execution_count": 5,
   "metadata": {
    "collapsed": false
   },
   "outputs": [],
   "source": [
    "inverted_initial_point = (-43.235721, -22.923736)"
   ]
  },
  {
   "cell_type": "code",
   "execution_count": 6,
   "metadata": {
    "collapsed": false
   },
   "outputs": [],
   "source": [
    "inverted_final_point = (-43.231352, -22.979408)"
   ]
  },
  {
   "cell_type": "code",
   "execution_count": 7,
   "metadata": {
    "collapsed": false
   },
   "outputs": [],
   "source": [
    "#Function to compute the bus_ids circulating during a day 20150208 of bus line 438\n",
    "def bus_id_list ():\n",
    "    bus_id_20150301_410 = db.dados20150301_line_410.distinct(\"bus_id\")\n",
    "    return bus_id_20150301_410\n",
    "    "
   ]
  },
  {
   "cell_type": "code",
   "execution_count": 8,
   "metadata": {
    "collapsed": false
   },
   "outputs": [
    {
     "data": {
      "text/plain": [
       "[u'A72152',\n",
       " u'A72127',\n",
       " u'A72126',\n",
       " u'A72023',\n",
       " u'A72038',\n",
       " u'A72053',\n",
       " u'A72026',\n",
       " u'A72122',\n",
       " u'A72018',\n",
       " u'A72065',\n",
       " u'A72040',\n",
       " u'A72071',\n",
       " u'A72095',\n",
       " u'A72009',\n",
       " u'A72020']"
      ]
     },
     "execution_count": 8,
     "metadata": {},
     "output_type": "execute_result"
    }
   ],
   "source": [
    "#llamada a la funcion bus_id_list\n",
    "busId_list = bus_id_list()\n",
    "busId_list"
   ]
  },
  {
   "cell_type": "code",
   "execution_count": 9,
   "metadata": {
    "collapsed": false
   },
   "outputs": [
    {
     "data": {
      "text/plain": [
       "15"
      ]
     },
     "execution_count": 9,
     "metadata": {},
     "output_type": "execute_result"
    }
   ],
   "source": [
    "len(busId_list)"
   ]
  },
  {
   "cell_type": "code",
   "execution_count": 10,
   "metadata": {
    "collapsed": false
   },
   "outputs": [],
   "source": [
    "#Funcion para meter los bus_Id del dataframe para un array\n",
    "def get_busId_list():\n",
    "    array_busId = []\n",
    "    for bus in busId_list:\n",
    "        strbus = str(bus)\n",
    "        array_busId.insert(len(array_busId), strbus)\n",
    "    return array_busId       \n",
    "    "
   ]
  },
  {
   "cell_type": "code",
   "execution_count": 11,
   "metadata": {
    "collapsed": false
   },
   "outputs": [
    {
     "data": {
      "text/plain": [
       "['A72152',\n",
       " 'A72127',\n",
       " 'A72126',\n",
       " 'A72023',\n",
       " 'A72038',\n",
       " 'A72053',\n",
       " 'A72026',\n",
       " 'A72122',\n",
       " 'A72018',\n",
       " 'A72065',\n",
       " 'A72040',\n",
       " 'A72071',\n",
       " 'A72095',\n",
       " 'A72009',\n",
       " 'A72020']"
      ]
     },
     "execution_count": 11,
     "metadata": {},
     "output_type": "execute_result"
    }
   ],
   "source": [
    "array_busId = get_busId_list()\n",
    "array_busId"
   ]
  },
  {
   "cell_type": "code",
   "execution_count": 12,
   "metadata": {
    "collapsed": false
   },
   "outputs": [],
   "source": [
    "#funcion que dado un el bus_id de un omnibus y un punto inicial/final devuelve los puntos mas cercanos a ese punto. \n",
    "# A esa función se le debería pasar también la BD, pero ahora no se va a hacer asi\n",
    "def near_points_to_origin (bus_id, inverted_origin_point):\n",
    "    near_initial_points_array = []\n",
    "    #la funcion $within recibe las coordenadas en orden inverso (primero longitud y después latitud)\n",
    "    for row in db.dados20150301_line_410.find({\"latlon\": {\"$within\": {\"$center\": [inverted_origin_point, 0.00052543]}}, \"bus_id\": bus_id}).sort(\"timestamp\",pymongo.DESCENDING):\n",
    "        near_initial_points_array.insert(0, [row[u'timestamp'], row[u'latitude'], row[u'longitude'], row[u'speed']])\n",
    "    #convert the array in panda dataframe \n",
    "    sorted_near_initial_points = pd.DataFrame(near_initial_points_array, columns=['timestamp', 'latitude', 'longitude', 'speed'])\n",
    "    return sorted_near_initial_points"
   ]
  },
  {
   "cell_type": "code",
   "execution_count": 13,
   "metadata": {
    "collapsed": false
   },
   "outputs": [
    {
     "data": {
      "text/html": [
       "<div>\n",
       "<table border=\"1\" class=\"dataframe\">\n",
       "  <thead>\n",
       "    <tr style=\"text-align: right;\">\n",
       "      <th></th>\n",
       "      <th>timestamp</th>\n",
       "      <th>latitude</th>\n",
       "      <th>longitude</th>\n",
       "      <th>speed</th>\n",
       "    </tr>\n",
       "  </thead>\n",
       "  <tbody>\n",
       "  </tbody>\n",
       "</table>\n",
       "</div>"
      ],
      "text/plain": [
       "Empty DataFrame\n",
       "Columns: [timestamp, latitude, longitude, speed]\n",
       "Index: []"
      ]
     },
     "execution_count": 13,
     "metadata": {},
     "output_type": "execute_result"
    }
   ],
   "source": [
    "#LLamada a la funcion near_points_to_origin para encontrar los puntos más cercanos al \n",
    "#punto initial_point(-22.988199999999999, -43.228299999999997) aqui se pasan a la inversa\n",
    "sorted_near_initial_points = near_points_to_origin (\"A72152\", inverted_initial_point)\n",
    "sorted_near_initial_points"
   ]
  },
  {
   "cell_type": "code",
   "execution_count": 14,
   "metadata": {
    "collapsed": false
   },
   "outputs": [
    {
     "data": {
      "text/html": [
       "<div>\n",
       "<table border=\"1\" class=\"dataframe\">\n",
       "  <thead>\n",
       "    <tr style=\"text-align: right;\">\n",
       "      <th></th>\n",
       "      <th>timestamp</th>\n",
       "      <th>latitude</th>\n",
       "      <th>longitude</th>\n",
       "      <th>speed</th>\n",
       "    </tr>\n",
       "  </thead>\n",
       "  <tbody>\n",
       "  </tbody>\n",
       "</table>\n",
       "</div>"
      ],
      "text/plain": [
       "Empty DataFrame\n",
       "Columns: [timestamp, latitude, longitude, speed]\n",
       "Index: []"
      ]
     },
     "execution_count": 14,
     "metadata": {},
     "output_type": "execute_result"
    }
   ],
   "source": [
    "#LLamada a la funcion near_points_to_origin para encontrar los puntos más cercanos a PUC\n",
    "#Recordar que aqui las coordenadas del punto se pasan a la inversa(long, lat)\n",
    "sorted_near_final_points = near_points_to_origin (\"A72152\", inverted_final_point)\n",
    "sorted_near_final_points"
   ]
  },
  {
   "cell_type": "code",
   "execution_count": 15,
   "metadata": {
    "collapsed": true
   },
   "outputs": [],
   "source": [
    "\"\"\"Funciones para renderizar el mapa en el html\"\"\"\n",
    "from IPython.display import HTML\n",
    " \n",
    "def inline_map(map):\n",
    "    \"\"\"\n",
    "    Embeds the HTML source of the map directly into the IPython notebook.\n",
    "    \n",
    "    This method will not work if the map depends on any files (json data). Also this uses\n",
    "    the HTML5 srcdoc attribute, which may not be supported in all browsers.\n",
    "    \"\"\"\n",
    "    map._build_map()\n",
    "    return HTML('<iframe srcdoc=\"{srcdoc}\" style=\"width: 100%; height: 510px; border: none\"></iframe>'.format(srcdoc=map.HTML.replace('\"', '&quot;')))\n",
    " \n",
    "def embed_map(map, path=\"map.html\"):\n",
    "    \"\"\"\n",
    "    Embeds a linked iframe to the map into the IPython notebook.\n",
    "    \n",
    "    Note: this method will not capture the source of the map into the notebook.\n",
    "    This method should work for all maps (as long as they use relative urls).\n",
    "    \"\"\"\n",
    "    map.create_map(path=path)\n",
    "    return HTML('<iframe src=\"files/{path}\" style=\"width: 100%; height: 510px; border: none\"></iframe>'.format(path=path))"
   ]
  },
  {
   "cell_type": "code",
   "execution_count": 16,
   "metadata": {
    "collapsed": false
   },
   "outputs": [
    {
     "data": {
      "text/html": [
       "<iframe src=\"files/map.html\" style=\"width: 100%; height: 510px; border: none\"></iframe>"
      ],
      "text/plain": [
       "<IPython.core.display.HTML object>"
      ]
     },
     "execution_count": 16,
     "metadata": {},
     "output_type": "execute_result"
    }
   ],
   "source": [
    "#pintando los puntos más cerca del punto inicial\n",
    "fmap=folium.Map(location=[-22.950635, -43.210436], zoom_start=12)\n",
    "\n",
    "for row in sorted_near_initial_points.iterrows():\n",
    "    #The 'latitude' and 'longitude' names correspond to column names in the original cceats dataframe\n",
    "    latlon = [ row[1]['latitude'], row[1]['longitude'] ]\n",
    "    fmap.polygon_marker( latlon, fill_color='violet', num_sides=4, radius=6)\n",
    "\n",
    "embed_map(fmap)"
   ]
  },
  {
   "cell_type": "code",
   "execution_count": 18,
   "metadata": {
    "collapsed": false
   },
   "outputs": [
    {
     "data": {
      "text/html": [
       "<iframe src=\"files/map.html\" style=\"width: 100%; height: 510px; border: none\"></iframe>"
      ],
      "text/plain": [
       "<IPython.core.display.HTML object>"
      ]
     },
     "execution_count": 18,
     "metadata": {},
     "output_type": "execute_result"
    }
   ],
   "source": [
    "#pintando los puntos más cerca del punto final (Vila Isabel)\n",
    "for row in sorted_near_final_points.iterrows():\n",
    "    #The 'latitude' and 'longitude' names correspond to column names in the original cceats dataframe\n",
    "    latlon = [ row[1]['latitude'], row[1]['longitude'] ]\n",
    "    fmap.polygon_marker( latlon, fill_color='red', num_sides=4, radius=6)\n",
    "\n",
    "embed_map(fmap)"
   ]
  },
  {
   "cell_type": "code",
   "execution_count": 19,
   "metadata": {
    "collapsed": false
   },
   "outputs": [
    {
     "data": {
      "text/html": [
       "<iframe src=\"files/map.html\" style=\"width: 100%; height: 510px; border: none\"></iframe>"
      ],
      "text/plain": [
       "<IPython.core.display.HTML object>"
      ]
     },
     "execution_count": 19,
     "metadata": {},
     "output_type": "execute_result"
    }
   ],
   "source": [
    "#Pintando Circulos de radio de 1km alrededor de los puntos incial y final \n",
    "fmap.simple_marker(final_point, popup='Parada de Vila Isabel')\n",
    "fmap.simple_marker(initial_point, popup='Parada Leblon')\n",
    "\n",
    "#Punto inicial\n",
    "fmap.circle_marker(location=final_point, radius=50,line_color='green',\n",
    "                 fill_color='#3186cc', fill_opacity=0.2)\n",
    "\n",
    "#Punto inicial\n",
    "fmap.circle_marker(location=initial_point, radius=50,line_color='blue',\n",
    "                 fill_color='#3186cc', fill_opacity=0.2)\n",
    "\n",
    "embed_map(fmap)"
   ]
  },
  {
   "cell_type": "code",
   "execution_count": 40,
   "metadata": {
    "collapsed": false
   },
   "outputs": [
    {
     "data": {
      "text/plain": [
       "Series([], Name: timestamp, dtype: object)"
      ]
     },
     "execution_count": 40,
     "metadata": {},
     "output_type": "execute_result"
    }
   ],
   "source": [
    "#Array de timestamp puntos near punto incial (Leblon)\n",
    "initial_points_timestamp = sorted_near_initial_points['timestamp']\n",
    "initial_points_timestamp"
   ]
  },
  {
   "cell_type": "code",
   "execution_count": 41,
   "metadata": {
    "collapsed": false
   },
   "outputs": [
    {
     "data": {
      "text/plain": [
       "Series([], Name: timestamp, dtype: object)"
      ]
     },
     "execution_count": 41,
     "metadata": {},
     "output_type": "execute_result"
    }
   ],
   "source": [
    "final_points_timestamp = sorted_near_final_points['timestamp']\n",
    "final_points_timestamp"
   ]
  },
  {
   "cell_type": "code",
   "execution_count": 42,
   "metadata": {
    "collapsed": false
   },
   "outputs": [],
   "source": [
    "#Funcion que retorna el arreglo con las horas de salida del omnibus al punto inicial/final del trayecto\n",
    "def bus_departure_hour (initial_points_timestamp_list):\n",
    "    list_departure_hours = []\n",
    "    i = 0\n",
    "    if len(initial_points_timestamp_list) >1:\n",
    "        for i in range(0, len(initial_points_timestamp_list)-1):\n",
    "            resto = datetime.datetime.strptime(initial_points_timestamp_list[i+1], \"%d-%m-%Y %H:%M:%S\")-datetime.datetime.strptime(initial_points_timestamp_list[i], \"%d-%m-%Y %H:%M:%S\")\n",
    "            resto_total = resto.total_seconds()/60\n",
    "            #si la diferencia entre los timestamp del omnibus en el putno supera los 40 minutos es q dio un viaje y regreso, sino lo supera es que se mantuvo ese tiempo esperando en el punto\n",
    "            if (resto_total > 40):\n",
    "                 list_departure_hours.insert(len( list_departure_hours),datetime.datetime.strptime(initial_points_timestamp_list[i], \"%d-%m-%Y %H:%M:%S\"))\n",
    "        #siempre es necesario insertar el ultimo valor de la lista de \"initial_points_timestamp\" en la lista de  list_departure_hours \n",
    "        list_departure_hours.insert(len( list_departure_hours),datetime.datetime.strptime(initial_points_timestamp_list[i+1], \"%d-%m-%Y %H:%M:%S\"))\n",
    "    else:\n",
    "        list_departure_hours.insert(len( list_departure_hours),datetime.datetime.strptime(initial_points_timestamp_list[0], \"%d-%m-%Y %H:%M:%S\"))\n",
    "    return list_departure_hours"
   ]
  },
  {
   "cell_type": "code",
   "execution_count": 43,
   "metadata": {
    "collapsed": false
   },
   "outputs": [
    {
     "ename": "IndexError",
     "evalue": "index out of bounds",
     "output_type": "error",
     "traceback": [
      "\u001b[1;31m---------------------------------------------------------------------------\u001b[0m",
      "\u001b[1;31mIndexError\u001b[0m                                Traceback (most recent call last)",
      "\u001b[1;32m<ipython-input-43-08a3ba354f1e>\u001b[0m in \u001b[0;36m<module>\u001b[1;34m()\u001b[0m\n\u001b[0;32m      1\u001b[0m \u001b[1;31m#Llamada a la funcion bus_departure_hour para el punto Leblon (devuelve todas las horas en que salio el omnibus de Leblon)\u001b[0m\u001b[1;33m\u001b[0m\u001b[1;33m\u001b[0m\u001b[0m\n\u001b[1;32m----> 2\u001b[1;33m \u001b[0mleblon_departure_hours\u001b[0m \u001b[1;33m=\u001b[0m \u001b[0mbus_departure_hour\u001b[0m\u001b[1;33m(\u001b[0m\u001b[0minitial_points_timestamp\u001b[0m\u001b[1;33m)\u001b[0m\u001b[1;33m\u001b[0m\u001b[0m\n\u001b[0m\u001b[0;32m      3\u001b[0m \u001b[0mleblon_departure_hours\u001b[0m\u001b[1;33m\u001b[0m\u001b[0m\n",
      "\u001b[1;32m<ipython-input-42-f61a61bd35cb>\u001b[0m in \u001b[0;36mbus_departure_hour\u001b[1;34m(initial_points_timestamp_list)\u001b[0m\n\u001b[0;32m     13\u001b[0m         \u001b[0mlist_departure_hours\u001b[0m\u001b[1;33m.\u001b[0m\u001b[0minsert\u001b[0m\u001b[1;33m(\u001b[0m\u001b[0mlen\u001b[0m\u001b[1;33m(\u001b[0m \u001b[0mlist_departure_hours\u001b[0m\u001b[1;33m)\u001b[0m\u001b[1;33m,\u001b[0m\u001b[0mdatetime\u001b[0m\u001b[1;33m.\u001b[0m\u001b[0mdatetime\u001b[0m\u001b[1;33m.\u001b[0m\u001b[0mstrptime\u001b[0m\u001b[1;33m(\u001b[0m\u001b[0minitial_points_timestamp_list\u001b[0m\u001b[1;33m[\u001b[0m\u001b[0mi\u001b[0m\u001b[1;33m+\u001b[0m\u001b[1;36m1\u001b[0m\u001b[1;33m]\u001b[0m\u001b[1;33m,\u001b[0m \u001b[1;34m\"%d-%m-%Y %H:%M:%S\"\u001b[0m\u001b[1;33m)\u001b[0m\u001b[1;33m)\u001b[0m\u001b[1;33m\u001b[0m\u001b[0m\n\u001b[0;32m     14\u001b[0m     \u001b[1;32melse\u001b[0m\u001b[1;33m:\u001b[0m\u001b[1;33m\u001b[0m\u001b[0m\n\u001b[1;32m---> 15\u001b[1;33m         \u001b[0mlist_departure_hours\u001b[0m\u001b[1;33m.\u001b[0m\u001b[0minsert\u001b[0m\u001b[1;33m(\u001b[0m\u001b[0mlen\u001b[0m\u001b[1;33m(\u001b[0m \u001b[0mlist_departure_hours\u001b[0m\u001b[1;33m)\u001b[0m\u001b[1;33m,\u001b[0m\u001b[0mdatetime\u001b[0m\u001b[1;33m.\u001b[0m\u001b[0mdatetime\u001b[0m\u001b[1;33m.\u001b[0m\u001b[0mstrptime\u001b[0m\u001b[1;33m(\u001b[0m\u001b[0minitial_points_timestamp_list\u001b[0m\u001b[1;33m[\u001b[0m\u001b[1;36m0\u001b[0m\u001b[1;33m]\u001b[0m\u001b[1;33m,\u001b[0m \u001b[1;34m\"%d-%m-%Y %H:%M:%S\"\u001b[0m\u001b[1;33m)\u001b[0m\u001b[1;33m)\u001b[0m\u001b[1;33m\u001b[0m\u001b[0m\n\u001b[0m\u001b[0;32m     16\u001b[0m     \u001b[1;32mreturn\u001b[0m \u001b[0mlist_departure_hours\u001b[0m\u001b[1;33m\u001b[0m\u001b[0m\n",
      "\u001b[1;32m/usr/local/lib/python2.7/dist-packages/pandas/core/series.pyc\u001b[0m in \u001b[0;36m__getitem__\u001b[1;34m(self, key)\u001b[0m\n\u001b[0;32m    519\u001b[0m     \u001b[1;32mdef\u001b[0m \u001b[0m__getitem__\u001b[0m\u001b[1;33m(\u001b[0m\u001b[0mself\u001b[0m\u001b[1;33m,\u001b[0m \u001b[0mkey\u001b[0m\u001b[1;33m)\u001b[0m\u001b[1;33m:\u001b[0m\u001b[1;33m\u001b[0m\u001b[0m\n\u001b[0;32m    520\u001b[0m         \u001b[1;32mtry\u001b[0m\u001b[1;33m:\u001b[0m\u001b[1;33m\u001b[0m\u001b[0m\n\u001b[1;32m--> 521\u001b[1;33m             \u001b[0mresult\u001b[0m \u001b[1;33m=\u001b[0m \u001b[0mself\u001b[0m\u001b[1;33m.\u001b[0m\u001b[0mindex\u001b[0m\u001b[1;33m.\u001b[0m\u001b[0mget_value\u001b[0m\u001b[1;33m(\u001b[0m\u001b[0mself\u001b[0m\u001b[1;33m,\u001b[0m \u001b[0mkey\u001b[0m\u001b[1;33m)\u001b[0m\u001b[1;33m\u001b[0m\u001b[0m\n\u001b[0m\u001b[0;32m    522\u001b[0m \u001b[1;33m\u001b[0m\u001b[0m\n\u001b[0;32m    523\u001b[0m             \u001b[1;32mif\u001b[0m \u001b[1;32mnot\u001b[0m \u001b[0mnp\u001b[0m\u001b[1;33m.\u001b[0m\u001b[0misscalar\u001b[0m\u001b[1;33m(\u001b[0m\u001b[0mresult\u001b[0m\u001b[1;33m)\u001b[0m\u001b[1;33m:\u001b[0m\u001b[1;33m\u001b[0m\u001b[0m\n",
      "\u001b[1;32m/usr/local/lib/python2.7/dist-packages/pandas/core/index.pyc\u001b[0m in \u001b[0;36mget_value\u001b[1;34m(self, series, key)\u001b[0m\n\u001b[0;32m   1599\u001b[0m \u001b[1;33m\u001b[0m\u001b[0m\n\u001b[0;32m   1600\u001b[0m             \u001b[1;32mtry\u001b[0m\u001b[1;33m:\u001b[0m\u001b[1;33m\u001b[0m\u001b[0m\n\u001b[1;32m-> 1601\u001b[1;33m                 \u001b[1;32mreturn\u001b[0m \u001b[0mtslib\u001b[0m\u001b[1;33m.\u001b[0m\u001b[0mget_value_box\u001b[0m\u001b[1;33m(\u001b[0m\u001b[0ms\u001b[0m\u001b[1;33m,\u001b[0m \u001b[0mkey\u001b[0m\u001b[1;33m)\u001b[0m\u001b[1;33m\u001b[0m\u001b[0m\n\u001b[0m\u001b[0;32m   1602\u001b[0m             \u001b[1;32mexcept\u001b[0m \u001b[0mIndexError\u001b[0m\u001b[1;33m:\u001b[0m\u001b[1;33m\u001b[0m\u001b[0m\n\u001b[0;32m   1603\u001b[0m                 \u001b[1;32mraise\u001b[0m\u001b[1;33m\u001b[0m\u001b[0m\n",
      "\u001b[1;32mpandas/tslib.pyx\u001b[0m in \u001b[0;36mpandas.tslib.get_value_box (pandas/tslib.c:14153)\u001b[1;34m()\u001b[0m\n",
      "\u001b[1;32mpandas/tslib.pyx\u001b[0m in \u001b[0;36mpandas.tslib.get_value_box (pandas/tslib.c:13920)\u001b[1;34m()\u001b[0m\n",
      "\u001b[1;31mIndexError\u001b[0m: index out of bounds"
     ]
    }
   ],
   "source": [
    "#Llamada a la funcion bus_departure_hour para el punto Leblon (devuelve todas las horas en que salio el omnibus de Leblon)\n",
    "leblon_departure_hours = bus_departure_hour(initial_points_timestamp)\n",
    "leblon_departure_hours"
   ]
  },
  {
   "cell_type": "code",
   "execution_count": 44,
   "metadata": {
    "collapsed": false
   },
   "outputs": [
    {
     "ename": "IndexError",
     "evalue": "index out of bounds",
     "output_type": "error",
     "traceback": [
      "\u001b[1;31m---------------------------------------------------------------------------\u001b[0m",
      "\u001b[1;31mIndexError\u001b[0m                                Traceback (most recent call last)",
      "\u001b[1;32m<ipython-input-44-9c195337f75f>\u001b[0m in \u001b[0;36m<module>\u001b[1;34m()\u001b[0m\n\u001b[0;32m      1\u001b[0m \u001b[1;31m#Llamada a la funcion bus_departure_hour para el punto Vila Isabel  (devuelve todas las horas en que salio el omnibus de Vila Isabel)\u001b[0m\u001b[1;33m\u001b[0m\u001b[1;33m\u001b[0m\u001b[0m\n\u001b[1;32m----> 2\u001b[1;33m \u001b[0mvilaIsabel_departure_hours\u001b[0m \u001b[1;33m=\u001b[0m \u001b[0mbus_departure_hour\u001b[0m\u001b[1;33m(\u001b[0m\u001b[0mfinal_points_timestamp\u001b[0m\u001b[1;33m)\u001b[0m\u001b[1;33m\u001b[0m\u001b[0m\n\u001b[0m\u001b[0;32m      3\u001b[0m \u001b[0mvilaIsabel_departure_hours\u001b[0m\u001b[1;33m\u001b[0m\u001b[0m\n",
      "\u001b[1;32m<ipython-input-42-f61a61bd35cb>\u001b[0m in \u001b[0;36mbus_departure_hour\u001b[1;34m(initial_points_timestamp_list)\u001b[0m\n\u001b[0;32m     13\u001b[0m         \u001b[0mlist_departure_hours\u001b[0m\u001b[1;33m.\u001b[0m\u001b[0minsert\u001b[0m\u001b[1;33m(\u001b[0m\u001b[0mlen\u001b[0m\u001b[1;33m(\u001b[0m \u001b[0mlist_departure_hours\u001b[0m\u001b[1;33m)\u001b[0m\u001b[1;33m,\u001b[0m\u001b[0mdatetime\u001b[0m\u001b[1;33m.\u001b[0m\u001b[0mdatetime\u001b[0m\u001b[1;33m.\u001b[0m\u001b[0mstrptime\u001b[0m\u001b[1;33m(\u001b[0m\u001b[0minitial_points_timestamp_list\u001b[0m\u001b[1;33m[\u001b[0m\u001b[0mi\u001b[0m\u001b[1;33m+\u001b[0m\u001b[1;36m1\u001b[0m\u001b[1;33m]\u001b[0m\u001b[1;33m,\u001b[0m \u001b[1;34m\"%d-%m-%Y %H:%M:%S\"\u001b[0m\u001b[1;33m)\u001b[0m\u001b[1;33m)\u001b[0m\u001b[1;33m\u001b[0m\u001b[0m\n\u001b[0;32m     14\u001b[0m     \u001b[1;32melse\u001b[0m\u001b[1;33m:\u001b[0m\u001b[1;33m\u001b[0m\u001b[0m\n\u001b[1;32m---> 15\u001b[1;33m         \u001b[0mlist_departure_hours\u001b[0m\u001b[1;33m.\u001b[0m\u001b[0minsert\u001b[0m\u001b[1;33m(\u001b[0m\u001b[0mlen\u001b[0m\u001b[1;33m(\u001b[0m \u001b[0mlist_departure_hours\u001b[0m\u001b[1;33m)\u001b[0m\u001b[1;33m,\u001b[0m\u001b[0mdatetime\u001b[0m\u001b[1;33m.\u001b[0m\u001b[0mdatetime\u001b[0m\u001b[1;33m.\u001b[0m\u001b[0mstrptime\u001b[0m\u001b[1;33m(\u001b[0m\u001b[0minitial_points_timestamp_list\u001b[0m\u001b[1;33m[\u001b[0m\u001b[1;36m0\u001b[0m\u001b[1;33m]\u001b[0m\u001b[1;33m,\u001b[0m \u001b[1;34m\"%d-%m-%Y %H:%M:%S\"\u001b[0m\u001b[1;33m)\u001b[0m\u001b[1;33m)\u001b[0m\u001b[1;33m\u001b[0m\u001b[0m\n\u001b[0m\u001b[0;32m     16\u001b[0m     \u001b[1;32mreturn\u001b[0m \u001b[0mlist_departure_hours\u001b[0m\u001b[1;33m\u001b[0m\u001b[0m\n",
      "\u001b[1;32m/usr/local/lib/python2.7/dist-packages/pandas/core/series.pyc\u001b[0m in \u001b[0;36m__getitem__\u001b[1;34m(self, key)\u001b[0m\n\u001b[0;32m    519\u001b[0m     \u001b[1;32mdef\u001b[0m \u001b[0m__getitem__\u001b[0m\u001b[1;33m(\u001b[0m\u001b[0mself\u001b[0m\u001b[1;33m,\u001b[0m \u001b[0mkey\u001b[0m\u001b[1;33m)\u001b[0m\u001b[1;33m:\u001b[0m\u001b[1;33m\u001b[0m\u001b[0m\n\u001b[0;32m    520\u001b[0m         \u001b[1;32mtry\u001b[0m\u001b[1;33m:\u001b[0m\u001b[1;33m\u001b[0m\u001b[0m\n\u001b[1;32m--> 521\u001b[1;33m             \u001b[0mresult\u001b[0m \u001b[1;33m=\u001b[0m \u001b[0mself\u001b[0m\u001b[1;33m.\u001b[0m\u001b[0mindex\u001b[0m\u001b[1;33m.\u001b[0m\u001b[0mget_value\u001b[0m\u001b[1;33m(\u001b[0m\u001b[0mself\u001b[0m\u001b[1;33m,\u001b[0m \u001b[0mkey\u001b[0m\u001b[1;33m)\u001b[0m\u001b[1;33m\u001b[0m\u001b[0m\n\u001b[0m\u001b[0;32m    522\u001b[0m \u001b[1;33m\u001b[0m\u001b[0m\n\u001b[0;32m    523\u001b[0m             \u001b[1;32mif\u001b[0m \u001b[1;32mnot\u001b[0m \u001b[0mnp\u001b[0m\u001b[1;33m.\u001b[0m\u001b[0misscalar\u001b[0m\u001b[1;33m(\u001b[0m\u001b[0mresult\u001b[0m\u001b[1;33m)\u001b[0m\u001b[1;33m:\u001b[0m\u001b[1;33m\u001b[0m\u001b[0m\n",
      "\u001b[1;32m/usr/local/lib/python2.7/dist-packages/pandas/core/index.pyc\u001b[0m in \u001b[0;36mget_value\u001b[1;34m(self, series, key)\u001b[0m\n\u001b[0;32m   1599\u001b[0m \u001b[1;33m\u001b[0m\u001b[0m\n\u001b[0;32m   1600\u001b[0m             \u001b[1;32mtry\u001b[0m\u001b[1;33m:\u001b[0m\u001b[1;33m\u001b[0m\u001b[0m\n\u001b[1;32m-> 1601\u001b[1;33m                 \u001b[1;32mreturn\u001b[0m \u001b[0mtslib\u001b[0m\u001b[1;33m.\u001b[0m\u001b[0mget_value_box\u001b[0m\u001b[1;33m(\u001b[0m\u001b[0ms\u001b[0m\u001b[1;33m,\u001b[0m \u001b[0mkey\u001b[0m\u001b[1;33m)\u001b[0m\u001b[1;33m\u001b[0m\u001b[0m\n\u001b[0m\u001b[0;32m   1602\u001b[0m             \u001b[1;32mexcept\u001b[0m \u001b[0mIndexError\u001b[0m\u001b[1;33m:\u001b[0m\u001b[1;33m\u001b[0m\u001b[0m\n\u001b[0;32m   1603\u001b[0m                 \u001b[1;32mraise\u001b[0m\u001b[1;33m\u001b[0m\u001b[0m\n",
      "\u001b[1;32mpandas/tslib.pyx\u001b[0m in \u001b[0;36mpandas.tslib.get_value_box (pandas/tslib.c:14153)\u001b[1;34m()\u001b[0m\n",
      "\u001b[1;32mpandas/tslib.pyx\u001b[0m in \u001b[0;36mpandas.tslib.get_value_box (pandas/tslib.c:13920)\u001b[1;34m()\u001b[0m\n",
      "\u001b[1;31mIndexError\u001b[0m: index out of bounds"
     ]
    }
   ],
   "source": [
    "#Llamada a la funcion bus_departure_hour para el punto Vila Isabel  (devuelve todas las horas en que salio el omnibus de Vila Isabel)\n",
    "vilaIsabel_departure_hours = bus_departure_hour(final_points_timestamp)\n",
    "vilaIsabel_departure_hours"
   ]
  },
  {
   "cell_type": "code",
   "execution_count": 45,
   "metadata": {
    "collapsed": false
   },
   "outputs": [],
   "source": [
    "#Funcion que retorna el arreglo con las horas de llegada del omnibus al punto inicial/final del trayecto\n",
    "def bus_arrive_hour (initial_points_timestamp_list):\n",
    "    list_arrive_hours = []\n",
    "    #siempre es necesario insertar el ultimo valor de la lista de \"initial_points_timestamp\" en la lista de leblon_departure_hours \n",
    "    list_arrive_hours.insert(len(list_arrive_hours),datetime.datetime.strptime(initial_points_timestamp_list[0], \"%d-%m-%Y %H:%M:%S\"))\n",
    "    if len(initial_points_timestamp_list) >1:\n",
    "        for i in range(0,  len(initial_points_timestamp_list)-1):\n",
    "            resto = datetime.datetime.strptime(initial_points_timestamp_list[i+1], \"%d-%m-%Y %H:%M:%S\")-datetime.datetime.strptime(initial_points_timestamp_list[i], \"%d-%m-%Y %H:%M:%S\")\n",
    "            resto_total = resto.total_seconds()/60\n",
    "            if (resto_total > 40):\n",
    "                list_arrive_hours.insert(len(list_arrive_hours),datetime.datetime.strptime(initial_points_timestamp_list[i+1], \"%d-%m-%Y %H:%M:%S\"))\n",
    "    return list_arrive_hours"
   ]
  },
  {
   "cell_type": "code",
   "execution_count": 46,
   "metadata": {
    "collapsed": false
   },
   "outputs": [
    {
     "ename": "IndexError",
     "evalue": "index out of bounds",
     "output_type": "error",
     "traceback": [
      "\u001b[1;31m---------------------------------------------------------------------------\u001b[0m",
      "\u001b[1;31mIndexError\u001b[0m                                Traceback (most recent call last)",
      "\u001b[1;32m<ipython-input-46-51fb6e5d1a4b>\u001b[0m in \u001b[0;36m<module>\u001b[1;34m()\u001b[0m\n\u001b[0;32m      1\u001b[0m \u001b[1;31m#Llamada a la funcion bus_arrive_hour para el punto Leblon  (devuelve todas las horas en que llegó el omnibus a Leblon)\u001b[0m\u001b[1;33m\u001b[0m\u001b[1;33m\u001b[0m\u001b[0m\n\u001b[1;32m----> 2\u001b[1;33m \u001b[0marrive_hour_to_initialpoint\u001b[0m \u001b[1;33m=\u001b[0m \u001b[0mbus_arrive_hour\u001b[0m\u001b[1;33m(\u001b[0m\u001b[0minitial_points_timestamp\u001b[0m\u001b[1;33m)\u001b[0m\u001b[1;33m\u001b[0m\u001b[0m\n\u001b[0m\u001b[0;32m      3\u001b[0m \u001b[0marrive_hour_to_initialpoint\u001b[0m\u001b[1;33m\u001b[0m\u001b[0m\n",
      "\u001b[1;32m<ipython-input-45-f4babfe758be>\u001b[0m in \u001b[0;36mbus_arrive_hour\u001b[1;34m(initial_points_timestamp_list)\u001b[0m\n\u001b[0;32m      3\u001b[0m     \u001b[0mlist_arrive_hours\u001b[0m \u001b[1;33m=\u001b[0m \u001b[1;33m[\u001b[0m\u001b[1;33m]\u001b[0m\u001b[1;33m\u001b[0m\u001b[0m\n\u001b[0;32m      4\u001b[0m     \u001b[1;31m#siempre es necesario insertar el ultimo valor de la lista de \"initial_points_timestamp\" en la lista de leblon_departure_hours\u001b[0m\u001b[1;33m\u001b[0m\u001b[1;33m\u001b[0m\u001b[0m\n\u001b[1;32m----> 5\u001b[1;33m     \u001b[0mlist_arrive_hours\u001b[0m\u001b[1;33m.\u001b[0m\u001b[0minsert\u001b[0m\u001b[1;33m(\u001b[0m\u001b[0mlen\u001b[0m\u001b[1;33m(\u001b[0m\u001b[0mlist_arrive_hours\u001b[0m\u001b[1;33m)\u001b[0m\u001b[1;33m,\u001b[0m\u001b[0mdatetime\u001b[0m\u001b[1;33m.\u001b[0m\u001b[0mdatetime\u001b[0m\u001b[1;33m.\u001b[0m\u001b[0mstrptime\u001b[0m\u001b[1;33m(\u001b[0m\u001b[0minitial_points_timestamp_list\u001b[0m\u001b[1;33m[\u001b[0m\u001b[1;36m0\u001b[0m\u001b[1;33m]\u001b[0m\u001b[1;33m,\u001b[0m \u001b[1;34m\"%d-%m-%Y %H:%M:%S\"\u001b[0m\u001b[1;33m)\u001b[0m\u001b[1;33m)\u001b[0m\u001b[1;33m\u001b[0m\u001b[0m\n\u001b[0m\u001b[0;32m      6\u001b[0m     \u001b[1;32mif\u001b[0m \u001b[0mlen\u001b[0m\u001b[1;33m(\u001b[0m\u001b[0minitial_points_timestamp_list\u001b[0m\u001b[1;33m)\u001b[0m \u001b[1;33m>\u001b[0m\u001b[1;36m1\u001b[0m\u001b[1;33m:\u001b[0m\u001b[1;33m\u001b[0m\u001b[0m\n\u001b[0;32m      7\u001b[0m         \u001b[1;32mfor\u001b[0m \u001b[0mi\u001b[0m \u001b[1;32min\u001b[0m \u001b[0mrange\u001b[0m\u001b[1;33m(\u001b[0m\u001b[1;36m0\u001b[0m\u001b[1;33m,\u001b[0m  \u001b[0mlen\u001b[0m\u001b[1;33m(\u001b[0m\u001b[0minitial_points_timestamp_list\u001b[0m\u001b[1;33m)\u001b[0m\u001b[1;33m-\u001b[0m\u001b[1;36m1\u001b[0m\u001b[1;33m)\u001b[0m\u001b[1;33m:\u001b[0m\u001b[1;33m\u001b[0m\u001b[0m\n",
      "\u001b[1;32m/usr/local/lib/python2.7/dist-packages/pandas/core/series.pyc\u001b[0m in \u001b[0;36m__getitem__\u001b[1;34m(self, key)\u001b[0m\n\u001b[0;32m    519\u001b[0m     \u001b[1;32mdef\u001b[0m \u001b[0m__getitem__\u001b[0m\u001b[1;33m(\u001b[0m\u001b[0mself\u001b[0m\u001b[1;33m,\u001b[0m \u001b[0mkey\u001b[0m\u001b[1;33m)\u001b[0m\u001b[1;33m:\u001b[0m\u001b[1;33m\u001b[0m\u001b[0m\n\u001b[0;32m    520\u001b[0m         \u001b[1;32mtry\u001b[0m\u001b[1;33m:\u001b[0m\u001b[1;33m\u001b[0m\u001b[0m\n\u001b[1;32m--> 521\u001b[1;33m             \u001b[0mresult\u001b[0m \u001b[1;33m=\u001b[0m \u001b[0mself\u001b[0m\u001b[1;33m.\u001b[0m\u001b[0mindex\u001b[0m\u001b[1;33m.\u001b[0m\u001b[0mget_value\u001b[0m\u001b[1;33m(\u001b[0m\u001b[0mself\u001b[0m\u001b[1;33m,\u001b[0m \u001b[0mkey\u001b[0m\u001b[1;33m)\u001b[0m\u001b[1;33m\u001b[0m\u001b[0m\n\u001b[0m\u001b[0;32m    522\u001b[0m \u001b[1;33m\u001b[0m\u001b[0m\n\u001b[0;32m    523\u001b[0m             \u001b[1;32mif\u001b[0m \u001b[1;32mnot\u001b[0m \u001b[0mnp\u001b[0m\u001b[1;33m.\u001b[0m\u001b[0misscalar\u001b[0m\u001b[1;33m(\u001b[0m\u001b[0mresult\u001b[0m\u001b[1;33m)\u001b[0m\u001b[1;33m:\u001b[0m\u001b[1;33m\u001b[0m\u001b[0m\n",
      "\u001b[1;32m/usr/local/lib/python2.7/dist-packages/pandas/core/index.pyc\u001b[0m in \u001b[0;36mget_value\u001b[1;34m(self, series, key)\u001b[0m\n\u001b[0;32m   1599\u001b[0m \u001b[1;33m\u001b[0m\u001b[0m\n\u001b[0;32m   1600\u001b[0m             \u001b[1;32mtry\u001b[0m\u001b[1;33m:\u001b[0m\u001b[1;33m\u001b[0m\u001b[0m\n\u001b[1;32m-> 1601\u001b[1;33m                 \u001b[1;32mreturn\u001b[0m \u001b[0mtslib\u001b[0m\u001b[1;33m.\u001b[0m\u001b[0mget_value_box\u001b[0m\u001b[1;33m(\u001b[0m\u001b[0ms\u001b[0m\u001b[1;33m,\u001b[0m \u001b[0mkey\u001b[0m\u001b[1;33m)\u001b[0m\u001b[1;33m\u001b[0m\u001b[0m\n\u001b[0m\u001b[0;32m   1602\u001b[0m             \u001b[1;32mexcept\u001b[0m \u001b[0mIndexError\u001b[0m\u001b[1;33m:\u001b[0m\u001b[1;33m\u001b[0m\u001b[0m\n\u001b[0;32m   1603\u001b[0m                 \u001b[1;32mraise\u001b[0m\u001b[1;33m\u001b[0m\u001b[0m\n",
      "\u001b[1;32mpandas/tslib.pyx\u001b[0m in \u001b[0;36mpandas.tslib.get_value_box (pandas/tslib.c:14153)\u001b[1;34m()\u001b[0m\n",
      "\u001b[1;32mpandas/tslib.pyx\u001b[0m in \u001b[0;36mpandas.tslib.get_value_box (pandas/tslib.c:13920)\u001b[1;34m()\u001b[0m\n",
      "\u001b[1;31mIndexError\u001b[0m: index out of bounds"
     ]
    }
   ],
   "source": [
    "#Llamada a la funcion bus_arrive_hour para el punto Leblon  (devuelve todas las horas en que llegó el omnibus a Leblon)\n",
    "arrive_hour_to_initialpoint = bus_arrive_hour(initial_points_timestamp)\n",
    "arrive_hour_to_initialpoint"
   ]
  },
  {
   "cell_type": "code",
   "execution_count": 47,
   "metadata": {
    "collapsed": false
   },
   "outputs": [
    {
     "ename": "IndexError",
     "evalue": "index out of bounds",
     "output_type": "error",
     "traceback": [
      "\u001b[1;31m---------------------------------------------------------------------------\u001b[0m",
      "\u001b[1;31mIndexError\u001b[0m                                Traceback (most recent call last)",
      "\u001b[1;32m<ipython-input-47-94916e52e0de>\u001b[0m in \u001b[0;36m<module>\u001b[1;34m()\u001b[0m\n\u001b[0;32m      1\u001b[0m \u001b[1;31m#Llamada a la funcion bus_arrive_hour para el punto Vila Isabel  (devuelve todas las horas en que llegó el omnibus a Vila Isabel)\u001b[0m\u001b[1;33m\u001b[0m\u001b[1;33m\u001b[0m\u001b[0m\n\u001b[1;32m----> 2\u001b[1;33m \u001b[0marrive_hour_to_finalpoint\u001b[0m \u001b[1;33m=\u001b[0m \u001b[0mbus_arrive_hour\u001b[0m\u001b[1;33m(\u001b[0m\u001b[0mfinal_points_timestamp\u001b[0m\u001b[1;33m)\u001b[0m\u001b[1;33m\u001b[0m\u001b[0m\n\u001b[0m\u001b[0;32m      3\u001b[0m \u001b[0marrive_hour_to_finalpoint\u001b[0m\u001b[1;33m\u001b[0m\u001b[0m\n",
      "\u001b[1;32m<ipython-input-45-f4babfe758be>\u001b[0m in \u001b[0;36mbus_arrive_hour\u001b[1;34m(initial_points_timestamp_list)\u001b[0m\n\u001b[0;32m      3\u001b[0m     \u001b[0mlist_arrive_hours\u001b[0m \u001b[1;33m=\u001b[0m \u001b[1;33m[\u001b[0m\u001b[1;33m]\u001b[0m\u001b[1;33m\u001b[0m\u001b[0m\n\u001b[0;32m      4\u001b[0m     \u001b[1;31m#siempre es necesario insertar el ultimo valor de la lista de \"initial_points_timestamp\" en la lista de leblon_departure_hours\u001b[0m\u001b[1;33m\u001b[0m\u001b[1;33m\u001b[0m\u001b[0m\n\u001b[1;32m----> 5\u001b[1;33m     \u001b[0mlist_arrive_hours\u001b[0m\u001b[1;33m.\u001b[0m\u001b[0minsert\u001b[0m\u001b[1;33m(\u001b[0m\u001b[0mlen\u001b[0m\u001b[1;33m(\u001b[0m\u001b[0mlist_arrive_hours\u001b[0m\u001b[1;33m)\u001b[0m\u001b[1;33m,\u001b[0m\u001b[0mdatetime\u001b[0m\u001b[1;33m.\u001b[0m\u001b[0mdatetime\u001b[0m\u001b[1;33m.\u001b[0m\u001b[0mstrptime\u001b[0m\u001b[1;33m(\u001b[0m\u001b[0minitial_points_timestamp_list\u001b[0m\u001b[1;33m[\u001b[0m\u001b[1;36m0\u001b[0m\u001b[1;33m]\u001b[0m\u001b[1;33m,\u001b[0m \u001b[1;34m\"%d-%m-%Y %H:%M:%S\"\u001b[0m\u001b[1;33m)\u001b[0m\u001b[1;33m)\u001b[0m\u001b[1;33m\u001b[0m\u001b[0m\n\u001b[0m\u001b[0;32m      6\u001b[0m     \u001b[1;32mif\u001b[0m \u001b[0mlen\u001b[0m\u001b[1;33m(\u001b[0m\u001b[0minitial_points_timestamp_list\u001b[0m\u001b[1;33m)\u001b[0m \u001b[1;33m>\u001b[0m\u001b[1;36m1\u001b[0m\u001b[1;33m:\u001b[0m\u001b[1;33m\u001b[0m\u001b[0m\n\u001b[0;32m      7\u001b[0m         \u001b[1;32mfor\u001b[0m \u001b[0mi\u001b[0m \u001b[1;32min\u001b[0m \u001b[0mrange\u001b[0m\u001b[1;33m(\u001b[0m\u001b[1;36m0\u001b[0m\u001b[1;33m,\u001b[0m  \u001b[0mlen\u001b[0m\u001b[1;33m(\u001b[0m\u001b[0minitial_points_timestamp_list\u001b[0m\u001b[1;33m)\u001b[0m\u001b[1;33m-\u001b[0m\u001b[1;36m1\u001b[0m\u001b[1;33m)\u001b[0m\u001b[1;33m:\u001b[0m\u001b[1;33m\u001b[0m\u001b[0m\n",
      "\u001b[1;32m/usr/local/lib/python2.7/dist-packages/pandas/core/series.pyc\u001b[0m in \u001b[0;36m__getitem__\u001b[1;34m(self, key)\u001b[0m\n\u001b[0;32m    519\u001b[0m     \u001b[1;32mdef\u001b[0m \u001b[0m__getitem__\u001b[0m\u001b[1;33m(\u001b[0m\u001b[0mself\u001b[0m\u001b[1;33m,\u001b[0m \u001b[0mkey\u001b[0m\u001b[1;33m)\u001b[0m\u001b[1;33m:\u001b[0m\u001b[1;33m\u001b[0m\u001b[0m\n\u001b[0;32m    520\u001b[0m         \u001b[1;32mtry\u001b[0m\u001b[1;33m:\u001b[0m\u001b[1;33m\u001b[0m\u001b[0m\n\u001b[1;32m--> 521\u001b[1;33m             \u001b[0mresult\u001b[0m \u001b[1;33m=\u001b[0m \u001b[0mself\u001b[0m\u001b[1;33m.\u001b[0m\u001b[0mindex\u001b[0m\u001b[1;33m.\u001b[0m\u001b[0mget_value\u001b[0m\u001b[1;33m(\u001b[0m\u001b[0mself\u001b[0m\u001b[1;33m,\u001b[0m \u001b[0mkey\u001b[0m\u001b[1;33m)\u001b[0m\u001b[1;33m\u001b[0m\u001b[0m\n\u001b[0m\u001b[0;32m    522\u001b[0m \u001b[1;33m\u001b[0m\u001b[0m\n\u001b[0;32m    523\u001b[0m             \u001b[1;32mif\u001b[0m \u001b[1;32mnot\u001b[0m \u001b[0mnp\u001b[0m\u001b[1;33m.\u001b[0m\u001b[0misscalar\u001b[0m\u001b[1;33m(\u001b[0m\u001b[0mresult\u001b[0m\u001b[1;33m)\u001b[0m\u001b[1;33m:\u001b[0m\u001b[1;33m\u001b[0m\u001b[0m\n",
      "\u001b[1;32m/usr/local/lib/python2.7/dist-packages/pandas/core/index.pyc\u001b[0m in \u001b[0;36mget_value\u001b[1;34m(self, series, key)\u001b[0m\n\u001b[0;32m   1599\u001b[0m \u001b[1;33m\u001b[0m\u001b[0m\n\u001b[0;32m   1600\u001b[0m             \u001b[1;32mtry\u001b[0m\u001b[1;33m:\u001b[0m\u001b[1;33m\u001b[0m\u001b[0m\n\u001b[1;32m-> 1601\u001b[1;33m                 \u001b[1;32mreturn\u001b[0m \u001b[0mtslib\u001b[0m\u001b[1;33m.\u001b[0m\u001b[0mget_value_box\u001b[0m\u001b[1;33m(\u001b[0m\u001b[0ms\u001b[0m\u001b[1;33m,\u001b[0m \u001b[0mkey\u001b[0m\u001b[1;33m)\u001b[0m\u001b[1;33m\u001b[0m\u001b[0m\n\u001b[0m\u001b[0;32m   1602\u001b[0m             \u001b[1;32mexcept\u001b[0m \u001b[0mIndexError\u001b[0m\u001b[1;33m:\u001b[0m\u001b[1;33m\u001b[0m\u001b[0m\n\u001b[0;32m   1603\u001b[0m                 \u001b[1;32mraise\u001b[0m\u001b[1;33m\u001b[0m\u001b[0m\n",
      "\u001b[1;32mpandas/tslib.pyx\u001b[0m in \u001b[0;36mpandas.tslib.get_value_box (pandas/tslib.c:14153)\u001b[1;34m()\u001b[0m\n",
      "\u001b[1;32mpandas/tslib.pyx\u001b[0m in \u001b[0;36mpandas.tslib.get_value_box (pandas/tslib.c:13920)\u001b[1;34m()\u001b[0m\n",
      "\u001b[1;31mIndexError\u001b[0m: index out of bounds"
     ]
    }
   ],
   "source": [
    "#Llamada a la funcion bus_arrive_hour para el punto Vila Isabel  (devuelve todas las horas en que llegó el omnibus a Vila Isabel)\n",
    "arrive_hour_to_finalpoint = bus_arrive_hour(final_points_timestamp)\n",
    "arrive_hour_to_finalpoint"
   ]
  },
  {
   "cell_type": "code",
   "execution_count": 48,
   "metadata": {
    "collapsed": false
   },
   "outputs": [],
   "source": [
    "#Para convertir de formato timedelta para horas y minutos\n",
    "def days_hours_minutes(travel_time):\n",
    "    hours = travel_time.seconds//3600 \n",
    "    minutes = (travel_time.seconds//60)%60\n",
    "    #print '%d hours, %d minutes' % (hours,minutes)\n",
    "    if minutes < 10:\n",
    "        minutes = str(0)+str(minutes)\n",
    "    return str(hours) + \":\"+ str(minutes)"
   ]
  },
  {
   "cell_type": "code",
   "execution_count": 49,
   "metadata": {
    "collapsed": false
   },
   "outputs": [],
   "source": [
    "#Funcion que crea la tabla de viajes con los tiempos de viaje\n",
    "def create_travel_table (name_A, arrive_array_A, departure_array_A, name_B, arrive_array_B, departure_array_B, bus_Id, bus_line):\n",
    "    \n",
    "    my_time_table = []   \n",
    "    num_travel = 0    \n",
    "    i = 0 #Cursor para moverme por el departure_array_A(arreglo q contiene las horas de salida del punto incial)   \n",
    "    j = 0 #Cursor para moverme por el departure_array_B (arreglo q contiene las horas de salida del punto final)\n",
    "   \n",
    "    while (i<len(departure_array_A) and j< len(departure_array_B)):\n",
    "        if (departure_array_A[i] < departure_array_B[j]):\n",
    "            direction = name_A + \"_to_\" + name_B\n",
    "            departure_hour = departure_array_A[i]\n",
    "            i = i +1\n",
    "            arrive_hour = arrive_array_B[j]\n",
    "            num_travel = num_travel +1\n",
    "            travel_time = days_hours_minutes(arrive_hour - departure_hour)          \n",
    "            my_time_table.insert(len(my_time_table), [bus_line, bus_Id, direction, departure_hour,arrive_hour, travel_time])\n",
    "                        \n",
    "        elif(departure_array_B[j] < departure_array_A[i]):\n",
    "            direction = name_B + \"_to_\" + name_A\n",
    "            departure_hour = departure_array_B[j]\n",
    "            j = j +1\n",
    "            arrive_hour = arrive_array_A[i]\n",
    "            num_travel = num_travel +1\n",
    "            travel_time = days_hours_minutes(arrive_hour - departure_hour)          \n",
    "            my_time_table.insert(len(my_time_table), [bus_line, bus_Id, direction, departure_hour,arrive_hour, travel_time])\n",
    "            \n",
    "    #Construir el dataframe pasandole el array con todos los datos de los viajes   \n",
    "    mydf = pd.DataFrame(my_time_table, columns=['Line', 'Bus_Id','Direction','Departure_Hour', 'Arrive_Hour', 'Travel_Time'])       \n",
    "    return mydf  \n"
   ]
  },
  {
   "cell_type": "code",
   "execution_count": 50,
   "metadata": {
    "collapsed": false
   },
   "outputs": [
    {
     "ename": "NameError",
     "evalue": "name 'arrive_hour_to_leblon' is not defined",
     "output_type": "error",
     "traceback": [
      "\u001b[1;31m---------------------------------------------------------------------------\u001b[0m",
      "\u001b[1;31mNameError\u001b[0m                                 Traceback (most recent call last)",
      "\u001b[1;32m<ipython-input-50-668ba4a913f7>\u001b[0m in \u001b[0;36m<module>\u001b[1;34m()\u001b[0m\n\u001b[0;32m      1\u001b[0m \u001b[1;31m#dados para llamar a la funcion\u001b[0m\u001b[1;33m\u001b[0m\u001b[1;33m\u001b[0m\u001b[0m\n\u001b[0;32m      2\u001b[0m \u001b[1;33m\u001b[0m\u001b[0m\n\u001b[1;32m----> 3\u001b[1;33m \u001b[0mmytabla\u001b[0m \u001b[1;33m=\u001b[0m \u001b[0mcreate_travel_table\u001b[0m\u001b[1;33m(\u001b[0m\u001b[1;34m\"Saens Pena\"\u001b[0m\u001b[1;33m,\u001b[0m \u001b[0marrive_hour_to_leblon\u001b[0m\u001b[1;33m,\u001b[0m \u001b[0mleblon_departure_hours\u001b[0m\u001b[1;33m,\u001b[0m \u001b[1;34m\"PUC\"\u001b[0m\u001b[1;33m,\u001b[0m \u001b[0marrive_hour_to_vilaisabel\u001b[0m\u001b[1;33m,\u001b[0m \u001b[0mvilaIsabel_departure_hours\u001b[0m\u001b[1;33m,\u001b[0m \u001b[1;34m'A72065'\u001b[0m\u001b[1;33m,\u001b[0m \u001b[1;34m'410'\u001b[0m \u001b[1;33m)\u001b[0m\u001b[1;33m\u001b[0m\u001b[0m\n\u001b[0m\u001b[0;32m      4\u001b[0m \u001b[0mmytabla\u001b[0m\u001b[1;33m\u001b[0m\u001b[0m\n",
      "\u001b[1;31mNameError\u001b[0m: name 'arrive_hour_to_leblon' is not defined"
     ]
    }
   ],
   "source": [
    "#dados para llamar a la funcion\n",
    "\n",
    "mytabla = create_travel_table(\"Saens Pena\", arrive_hour_to_initialpoint, leblon_departure_hours, \"PUC\", arrive_hour_to_vilaisabel, vilaIsabel_departure_hours, 'A72065', '410' )\n",
    "mytabla"
   ]
  },
  {
   "cell_type": "code",
   "execution_count": 54,
   "metadata": {
    "collapsed": false
   },
   "outputs": [],
   "source": [
    "#Funcion que crea la tabla de tiempo de viaje para cada bus_id de los que transitaron el el dia\n",
    "def all_travel_table (line, punto_ini_coord_invertidas, name_punto_inicio, punto_fin_coord_invertidas, name_punto_final, array_busId):\n",
    "    new_df = pd.DataFrame(columns=['Line', 'Bus_Id','Direction','Departure_Hour', 'Arrive_Hour', 'Travel_Time'])  \n",
    "    for busId in array_busId:\n",
    "        sorted_near_initial_points1 = near_points_to_origin(busId, punto_ini_coord_invertidas)\n",
    "        sorted_near_final_points1 = near_points_to_origin(busId, punto_fin_coord_invertidas)\n",
    "        initial_points_timestamp1 = sorted_near_initial_points1 ['timestamp']\n",
    "        final_points_timestamp1 = sorted_near_final_points1 ['timestamp']\n",
    "        #chequear si la lista initial_points_timestamp es diferente de vacio\n",
    "        if len(initial_points_timestamp1) and len(final_points_timestamp1):\n",
    "            vilaIsabel_departure_hours1 = bus_departure_hour(initial_points_timestamp1)\n",
    "            first_point_departure_hour = bus_departure_hour (initial_points_timestamp1)\n",
    "            last_point_departure_hour = bus_departure_hour (final_points_timestamp1)\n",
    "            first_point_arrive_hour = bus_arrive_hour(initial_points_timestamp1)\n",
    "            last_point_arrive_hour = bus_arrive_hour(final_points_timestamp1)\n",
    "            my_time_table = create_travel_table(name_punto_inicio, first_point_arrive_hour, first_point_departure_hour, name_punto_final, last_point_arrive_hour, last_point_departure_hour, busId, line)\n",
    "            new_df = new_df.append(my_time_table, ignore_index=True)\n",
    "    return new_df\n",
    "        \n",
    "\n",
    "        #el problema está en sorted_near_initial_points cuando devuelve vacio para algunos bus_id"
   ]
  },
  {
   "cell_type": "code",
   "execution_count": 55,
   "metadata": {
    "collapsed": false,
    "scrolled": true
   },
   "outputs": [
    {
     "data": {
      "text/html": [
       "<div>\n",
       "<table border=\"1\" class=\"dataframe\">\n",
       "  <thead>\n",
       "    <tr style=\"text-align: right;\">\n",
       "      <th></th>\n",
       "      <th>Line</th>\n",
       "      <th>Bus_Id</th>\n",
       "      <th>Direction</th>\n",
       "      <th>Departure_Hour</th>\n",
       "      <th>Arrive_Hour</th>\n",
       "      <th>Travel_Time</th>\n",
       "    </tr>\n",
       "  </thead>\n",
       "  <tbody>\n",
       "    <tr>\n",
       "      <th>0</th>\n",
       "      <td>410</td>\n",
       "      <td>A72053</td>\n",
       "      <td>Saens Pena_to_PUC</td>\n",
       "      <td>2015-03-01 05:53:37</td>\n",
       "      <td>2015-03-01 06:45:02</td>\n",
       "      <td>0:51</td>\n",
       "    </tr>\n",
       "    <tr>\n",
       "      <th>1</th>\n",
       "      <td>410</td>\n",
       "      <td>A72053</td>\n",
       "      <td>PUC_to_Saens Pena</td>\n",
       "      <td>2015-03-01 06:53:02</td>\n",
       "      <td>2015-03-01 07:51:46</td>\n",
       "      <td>0:58</td>\n",
       "    </tr>\n",
       "    <tr>\n",
       "      <th>2</th>\n",
       "      <td>410</td>\n",
       "      <td>A72053</td>\n",
       "      <td>Saens Pena_to_PUC</td>\n",
       "      <td>2015-03-01 08:00:35</td>\n",
       "      <td>2015-03-01 09:00:48</td>\n",
       "      <td>1:00</td>\n",
       "    </tr>\n",
       "    <tr>\n",
       "      <th>3</th>\n",
       "      <td>410</td>\n",
       "      <td>A72053</td>\n",
       "      <td>PUC_to_Saens Pena</td>\n",
       "      <td>2015-03-01 09:03:43</td>\n",
       "      <td>2015-03-01 10:08:42</td>\n",
       "      <td>1:04</td>\n",
       "    </tr>\n",
       "    <tr>\n",
       "      <th>4</th>\n",
       "      <td>410</td>\n",
       "      <td>A72053</td>\n",
       "      <td>Saens Pena_to_PUC</td>\n",
       "      <td>2015-03-01 10:12:57</td>\n",
       "      <td>2015-03-01 11:13:58</td>\n",
       "      <td>1:01</td>\n",
       "    </tr>\n",
       "    <tr>\n",
       "      <th>5</th>\n",
       "      <td>410</td>\n",
       "      <td>A72053</td>\n",
       "      <td>PUC_to_Saens Pena</td>\n",
       "      <td>2015-03-01 11:16:53</td>\n",
       "      <td>2015-03-01 12:25:44</td>\n",
       "      <td>1:08</td>\n",
       "    </tr>\n",
       "    <tr>\n",
       "      <th>6</th>\n",
       "      <td>410</td>\n",
       "      <td>A72053</td>\n",
       "      <td>Saens Pena_to_PUC</td>\n",
       "      <td>2015-03-01 12:35:49</td>\n",
       "      <td>2015-03-01 13:46:38</td>\n",
       "      <td>1:10</td>\n",
       "    </tr>\n",
       "    <tr>\n",
       "      <th>7</th>\n",
       "      <td>410</td>\n",
       "      <td>A72053</td>\n",
       "      <td>PUC_to_Saens Pena</td>\n",
       "      <td>2015-03-01 13:49:05</td>\n",
       "      <td>2015-03-01 14:51:40</td>\n",
       "      <td>1:02</td>\n",
       "    </tr>\n",
       "    <tr>\n",
       "      <th>8</th>\n",
       "      <td>410</td>\n",
       "      <td>A72053</td>\n",
       "      <td>Saens Pena_to_PUC</td>\n",
       "      <td>2015-03-01 15:10:29</td>\n",
       "      <td>2015-03-01 16:36:00</td>\n",
       "      <td>1:25</td>\n",
       "    </tr>\n",
       "    <tr>\n",
       "      <th>9</th>\n",
       "      <td>410</td>\n",
       "      <td>A72053</td>\n",
       "      <td>PUC_to_Saens Pena</td>\n",
       "      <td>2015-03-01 16:43:08</td>\n",
       "      <td>2015-03-01 17:49:49</td>\n",
       "      <td>1:06</td>\n",
       "    </tr>\n",
       "    <tr>\n",
       "      <th>10</th>\n",
       "      <td>410</td>\n",
       "      <td>A72053</td>\n",
       "      <td>Saens Pena_to_PUC</td>\n",
       "      <td>2015-03-01 17:52:09</td>\n",
       "      <td>2015-03-01 19:24:09</td>\n",
       "      <td>1:32</td>\n",
       "    </tr>\n",
       "    <tr>\n",
       "      <th>11</th>\n",
       "      <td>410</td>\n",
       "      <td>A72053</td>\n",
       "      <td>PUC_to_Saens Pena</td>\n",
       "      <td>2015-03-01 19:30:46</td>\n",
       "      <td>2015-03-01 20:52:07</td>\n",
       "      <td>1:21</td>\n",
       "    </tr>\n",
       "    <tr>\n",
       "      <th>12</th>\n",
       "      <td>410</td>\n",
       "      <td>A72018</td>\n",
       "      <td>Saens Pena_to_PUC</td>\n",
       "      <td>2015-03-01 05:22:03</td>\n",
       "      <td>2015-03-01 06:24:48</td>\n",
       "      <td>1:02</td>\n",
       "    </tr>\n",
       "    <tr>\n",
       "      <th>13</th>\n",
       "      <td>410</td>\n",
       "      <td>A72018</td>\n",
       "      <td>PUC_to_Saens Pena</td>\n",
       "      <td>2015-03-01 06:26:34</td>\n",
       "      <td>2015-03-01 07:24:45</td>\n",
       "      <td>0:58</td>\n",
       "    </tr>\n",
       "    <tr>\n",
       "      <th>14</th>\n",
       "      <td>410</td>\n",
       "      <td>A72018</td>\n",
       "      <td>Saens Pena_to_PUC</td>\n",
       "      <td>2015-03-01 07:30:29</td>\n",
       "      <td>2015-03-01 08:28:58</td>\n",
       "      <td>0:58</td>\n",
       "    </tr>\n",
       "    <tr>\n",
       "      <th>15</th>\n",
       "      <td>410</td>\n",
       "      <td>A72018</td>\n",
       "      <td>PUC_to_Saens Pena</td>\n",
       "      <td>2015-03-01 08:32:24</td>\n",
       "      <td>2015-03-01 11:59:57</td>\n",
       "      <td>3:27</td>\n",
       "    </tr>\n",
       "    <tr>\n",
       "      <th>16</th>\n",
       "      <td>410</td>\n",
       "      <td>A72018</td>\n",
       "      <td>PUC_to_Saens Pena</td>\n",
       "      <td>2015-03-01 10:55:06</td>\n",
       "      <td>2015-03-01 11:59:57</td>\n",
       "      <td>1:04</td>\n",
       "    </tr>\n",
       "    <tr>\n",
       "      <th>17</th>\n",
       "      <td>410</td>\n",
       "      <td>A72018</td>\n",
       "      <td>Saens Pena_to_PUC</td>\n",
       "      <td>2015-03-01 12:17:25</td>\n",
       "      <td>2015-03-01 13:06:58</td>\n",
       "      <td>0:49</td>\n",
       "    </tr>\n",
       "    <tr>\n",
       "      <th>18</th>\n",
       "      <td>410</td>\n",
       "      <td>A72018</td>\n",
       "      <td>PUC_to_Saens Pena</td>\n",
       "      <td>2015-03-01 13:09:53</td>\n",
       "      <td>2015-03-01 14:18:09</td>\n",
       "      <td>1:08</td>\n",
       "    </tr>\n",
       "    <tr>\n",
       "      <th>19</th>\n",
       "      <td>410</td>\n",
       "      <td>A72018</td>\n",
       "      <td>Saens Pena_to_PUC</td>\n",
       "      <td>2015-03-01 14:40:28</td>\n",
       "      <td>2015-03-01 16:01:57</td>\n",
       "      <td>1:21</td>\n",
       "    </tr>\n",
       "    <tr>\n",
       "      <th>20</th>\n",
       "      <td>410</td>\n",
       "      <td>A72018</td>\n",
       "      <td>PUC_to_Saens Pena</td>\n",
       "      <td>2015-03-01 16:07:35</td>\n",
       "      <td>2015-03-01 17:16:07</td>\n",
       "      <td>1:08</td>\n",
       "    </tr>\n",
       "    <tr>\n",
       "      <th>21</th>\n",
       "      <td>410</td>\n",
       "      <td>A72018</td>\n",
       "      <td>Saens Pena_to_PUC</td>\n",
       "      <td>2015-03-01 17:17:54</td>\n",
       "      <td>2015-03-01 18:34:55</td>\n",
       "      <td>1:17</td>\n",
       "    </tr>\n",
       "    <tr>\n",
       "      <th>22</th>\n",
       "      <td>410</td>\n",
       "      <td>A72018</td>\n",
       "      <td>PUC_to_Saens Pena</td>\n",
       "      <td>2015-03-01 18:41:10</td>\n",
       "      <td>2015-03-01 19:50:02</td>\n",
       "      <td>1:08</td>\n",
       "    </tr>\n",
       "    <tr>\n",
       "      <th>23</th>\n",
       "      <td>410</td>\n",
       "      <td>A72040</td>\n",
       "      <td>Saens Pena_to_PUC</td>\n",
       "      <td>2015-03-01 06:36:13</td>\n",
       "      <td>2015-03-01 07:37:51</td>\n",
       "      <td>1:01</td>\n",
       "    </tr>\n",
       "    <tr>\n",
       "      <th>24</th>\n",
       "      <td>410</td>\n",
       "      <td>A72040</td>\n",
       "      <td>PUC_to_Saens Pena</td>\n",
       "      <td>2015-03-01 07:44:03</td>\n",
       "      <td>2015-03-01 08:48:49</td>\n",
       "      <td>1:04</td>\n",
       "    </tr>\n",
       "    <tr>\n",
       "      <th>25</th>\n",
       "      <td>410</td>\n",
       "      <td>A72040</td>\n",
       "      <td>Saens Pena_to_PUC</td>\n",
       "      <td>2015-03-01 08:50:36</td>\n",
       "      <td>2015-03-01 09:52:01</td>\n",
       "      <td>1:01</td>\n",
       "    </tr>\n",
       "    <tr>\n",
       "      <th>26</th>\n",
       "      <td>410</td>\n",
       "      <td>A72040</td>\n",
       "      <td>PUC_to_Saens Pena</td>\n",
       "      <td>2015-03-01 09:57:58</td>\n",
       "      <td>2015-03-01 11:03:05</td>\n",
       "      <td>1:05</td>\n",
       "    </tr>\n",
       "    <tr>\n",
       "      <th>27</th>\n",
       "      <td>410</td>\n",
       "      <td>A72040</td>\n",
       "      <td>Saens Pena_to_PUC</td>\n",
       "      <td>2015-03-01 11:05:07</td>\n",
       "      <td>2015-03-01 12:06:39</td>\n",
       "      <td>1:01</td>\n",
       "    </tr>\n",
       "    <tr>\n",
       "      <th>28</th>\n",
       "      <td>410</td>\n",
       "      <td>A72040</td>\n",
       "      <td>PUC_to_Saens Pena</td>\n",
       "      <td>2015-03-01 12:12:23</td>\n",
       "      <td>2015-03-01 13:24:03</td>\n",
       "      <td>1:11</td>\n",
       "    </tr>\n",
       "    <tr>\n",
       "      <th>29</th>\n",
       "      <td>410</td>\n",
       "      <td>A72040</td>\n",
       "      <td>Saens Pena_to_PUC</td>\n",
       "      <td>2015-03-01 13:24:03</td>\n",
       "      <td>2015-03-01 17:10:47</td>\n",
       "      <td>3:46</td>\n",
       "    </tr>\n",
       "    <tr>\n",
       "      <th>30</th>\n",
       "      <td>410</td>\n",
       "      <td>A72040</td>\n",
       "      <td>Saens Pena_to_PUC</td>\n",
       "      <td>2015-03-01 16:06:32</td>\n",
       "      <td>2015-03-01 17:10:47</td>\n",
       "      <td>1:04</td>\n",
       "    </tr>\n",
       "    <tr>\n",
       "      <th>31</th>\n",
       "      <td>410</td>\n",
       "      <td>A72040</td>\n",
       "      <td>PUC_to_Saens Pena</td>\n",
       "      <td>2015-03-01 17:18:57</td>\n",
       "      <td>2015-03-01 18:36:44</td>\n",
       "      <td>1:17</td>\n",
       "    </tr>\n",
       "    <tr>\n",
       "      <th>32</th>\n",
       "      <td>410</td>\n",
       "      <td>A72040</td>\n",
       "      <td>Saens Pena_to_PUC</td>\n",
       "      <td>2015-03-01 18:40:43</td>\n",
       "      <td>2015-03-01 20:03:07</td>\n",
       "      <td>1:22</td>\n",
       "    </tr>\n",
       "    <tr>\n",
       "      <th>33</th>\n",
       "      <td>410</td>\n",
       "      <td>A72040</td>\n",
       "      <td>PUC_to_Saens Pena</td>\n",
       "      <td>2015-03-01 20:10:42</td>\n",
       "      <td>2015-03-01 21:13:45</td>\n",
       "      <td>1:03</td>\n",
       "    </tr>\n",
       "    <tr>\n",
       "      <th>34</th>\n",
       "      <td>410</td>\n",
       "      <td>A72071</td>\n",
       "      <td>Saens Pena_to_PUC</td>\n",
       "      <td>2015-03-01 08:20:36</td>\n",
       "      <td>2015-03-01 09:33:42</td>\n",
       "      <td>1:13</td>\n",
       "    </tr>\n",
       "    <tr>\n",
       "      <th>35</th>\n",
       "      <td>410</td>\n",
       "      <td>A72071</td>\n",
       "      <td>PUC_to_Saens Pena</td>\n",
       "      <td>2015-03-01 09:34:52</td>\n",
       "      <td>2015-03-01 10:36:01</td>\n",
       "      <td>1:01</td>\n",
       "    </tr>\n",
       "    <tr>\n",
       "      <th>36</th>\n",
       "      <td>410</td>\n",
       "      <td>A72071</td>\n",
       "      <td>Saens Pena_to_PUC</td>\n",
       "      <td>2015-03-01 10:42:50</td>\n",
       "      <td>2015-03-01 11:39:48</td>\n",
       "      <td>0:56</td>\n",
       "    </tr>\n",
       "    <tr>\n",
       "      <th>37</th>\n",
       "      <td>410</td>\n",
       "      <td>A72071</td>\n",
       "      <td>PUC_to_Saens Pena</td>\n",
       "      <td>2015-03-01 11:40:43</td>\n",
       "      <td>2015-03-01 12:51:52</td>\n",
       "      <td>1:11</td>\n",
       "    </tr>\n",
       "    <tr>\n",
       "      <th>38</th>\n",
       "      <td>410</td>\n",
       "      <td>A72071</td>\n",
       "      <td>Saens Pena_to_PUC</td>\n",
       "      <td>2015-03-01 12:53:43</td>\n",
       "      <td>2015-03-01 14:11:50</td>\n",
       "      <td>1:18</td>\n",
       "    </tr>\n",
       "    <tr>\n",
       "      <th>39</th>\n",
       "      <td>410</td>\n",
       "      <td>A72071</td>\n",
       "      <td>PUC_to_Saens Pena</td>\n",
       "      <td>2015-03-01 14:14:05</td>\n",
       "      <td>2015-03-01 15:31:49</td>\n",
       "      <td>1:17</td>\n",
       "    </tr>\n",
       "    <tr>\n",
       "      <th>40</th>\n",
       "      <td>410</td>\n",
       "      <td>A72009</td>\n",
       "      <td>Saens Pena_to_PUC</td>\n",
       "      <td>2015-03-01 07:21:56</td>\n",
       "      <td>2015-03-01 08:19:54</td>\n",
       "      <td>0:57</td>\n",
       "    </tr>\n",
       "    <tr>\n",
       "      <th>41</th>\n",
       "      <td>410</td>\n",
       "      <td>A72009</td>\n",
       "      <td>PUC_to_Saens Pena</td>\n",
       "      <td>2015-03-01 08:23:49</td>\n",
       "      <td>2015-03-01 09:32:04</td>\n",
       "      <td>1:08</td>\n",
       "    </tr>\n",
       "    <tr>\n",
       "      <th>42</th>\n",
       "      <td>410</td>\n",
       "      <td>A72009</td>\n",
       "      <td>Saens Pena_to_PUC</td>\n",
       "      <td>2015-03-01 09:34:43</td>\n",
       "      <td>2015-03-01 10:34:46</td>\n",
       "      <td>1:00</td>\n",
       "    </tr>\n",
       "    <tr>\n",
       "      <th>43</th>\n",
       "      <td>410</td>\n",
       "      <td>A72009</td>\n",
       "      <td>PUC_to_Saens Pena</td>\n",
       "      <td>2015-03-01 10:35:58</td>\n",
       "      <td>2015-03-01 11:45:47</td>\n",
       "      <td>1:09</td>\n",
       "    </tr>\n",
       "    <tr>\n",
       "      <th>44</th>\n",
       "      <td>410</td>\n",
       "      <td>A72009</td>\n",
       "      <td>Saens Pena_to_PUC</td>\n",
       "      <td>2015-03-01 11:50:07</td>\n",
       "      <td>2015-03-01 12:49:07</td>\n",
       "      <td>0:59</td>\n",
       "    </tr>\n",
       "    <tr>\n",
       "      <th>45</th>\n",
       "      <td>410</td>\n",
       "      <td>A72009</td>\n",
       "      <td>PUC_to_Saens Pena</td>\n",
       "      <td>2015-03-01 12:57:57</td>\n",
       "      <td>2015-03-01 14:04:50</td>\n",
       "      <td>1:06</td>\n",
       "    </tr>\n",
       "    <tr>\n",
       "      <th>46</th>\n",
       "      <td>410</td>\n",
       "      <td>A72009</td>\n",
       "      <td>Saens Pena_to_PUC</td>\n",
       "      <td>2015-03-01 14:17:37</td>\n",
       "      <td>2015-03-01 15:26:44</td>\n",
       "      <td>1:09</td>\n",
       "    </tr>\n",
       "    <tr>\n",
       "      <th>47</th>\n",
       "      <td>410</td>\n",
       "      <td>A72009</td>\n",
       "      <td>PUC_to_Saens Pena</td>\n",
       "      <td>2015-03-01 15:27:54</td>\n",
       "      <td>2015-03-01 16:37:01</td>\n",
       "      <td>1:09</td>\n",
       "    </tr>\n",
       "    <tr>\n",
       "      <th>48</th>\n",
       "      <td>410</td>\n",
       "      <td>A72009</td>\n",
       "      <td>Saens Pena_to_PUC</td>\n",
       "      <td>2015-03-01 16:46:17</td>\n",
       "      <td>2015-03-01 18:18:00</td>\n",
       "      <td>1:31</td>\n",
       "    </tr>\n",
       "    <tr>\n",
       "      <th>49</th>\n",
       "      <td>410</td>\n",
       "      <td>A72009</td>\n",
       "      <td>PUC_to_Saens Pena</td>\n",
       "      <td>2015-03-01 18:19:42</td>\n",
       "      <td>2015-03-01 19:30:06</td>\n",
       "      <td>1:10</td>\n",
       "    </tr>\n",
       "    <tr>\n",
       "      <th>50</th>\n",
       "      <td>410</td>\n",
       "      <td>A72009</td>\n",
       "      <td>Saens Pena_to_PUC</td>\n",
       "      <td>2015-03-01 19:31:43</td>\n",
       "      <td>2015-03-01 20:37:40</td>\n",
       "      <td>1:05</td>\n",
       "    </tr>\n",
       "    <tr>\n",
       "      <th>51</th>\n",
       "      <td>410</td>\n",
       "      <td>A72009</td>\n",
       "      <td>PUC_to_Saens Pena</td>\n",
       "      <td>2015-03-01 20:44:40</td>\n",
       "      <td>2015-03-01 21:45:52</td>\n",
       "      <td>1:01</td>\n",
       "    </tr>\n",
       "    <tr>\n",
       "      <th>52</th>\n",
       "      <td>410</td>\n",
       "      <td>A72020</td>\n",
       "      <td>Saens Pena_to_PUC</td>\n",
       "      <td>2015-03-01 14:21:56</td>\n",
       "      <td>2015-03-01 15:59:49</td>\n",
       "      <td>1:37</td>\n",
       "    </tr>\n",
       "    <tr>\n",
       "      <th>53</th>\n",
       "      <td>410</td>\n",
       "      <td>A72020</td>\n",
       "      <td>PUC_to_Saens Pena</td>\n",
       "      <td>2015-03-01 16:01:56</td>\n",
       "      <td>2015-03-01 17:16:52</td>\n",
       "      <td>1:14</td>\n",
       "    </tr>\n",
       "    <tr>\n",
       "      <th>54</th>\n",
       "      <td>410</td>\n",
       "      <td>A72020</td>\n",
       "      <td>Saens Pena_to_PUC</td>\n",
       "      <td>2015-03-01 17:26:06</td>\n",
       "      <td>2015-03-01 19:07:10</td>\n",
       "      <td>1:41</td>\n",
       "    </tr>\n",
       "    <tr>\n",
       "      <th>55</th>\n",
       "      <td>410</td>\n",
       "      <td>A72020</td>\n",
       "      <td>PUC_to_Saens Pena</td>\n",
       "      <td>2015-03-01 19:10:04</td>\n",
       "      <td>2015-03-01 20:34:05</td>\n",
       "      <td>1:24</td>\n",
       "    </tr>\n",
       "    <tr>\n",
       "      <th>56</th>\n",
       "      <td>410</td>\n",
       "      <td>A72020</td>\n",
       "      <td>Saens Pena_to_PUC</td>\n",
       "      <td>2015-03-01 20:44:59</td>\n",
       "      <td>2015-03-01 21:55:47</td>\n",
       "      <td>1:10</td>\n",
       "    </tr>\n",
       "    <tr>\n",
       "      <th>57</th>\n",
       "      <td>410</td>\n",
       "      <td>A72020</td>\n",
       "      <td>PUC_to_Saens Pena</td>\n",
       "      <td>2015-03-01 21:55:47</td>\n",
       "      <td>2015-03-01 23:00:59</td>\n",
       "      <td>1:05</td>\n",
       "    </tr>\n",
       "  </tbody>\n",
       "</table>\n",
       "</div>"
      ],
      "text/plain": [
       "   Line  Bus_Id          Direction      Departure_Hour         Arrive_Hour  \\\n",
       "0   410  A72053  Saens Pena_to_PUC 2015-03-01 05:53:37 2015-03-01 06:45:02   \n",
       "1   410  A72053  PUC_to_Saens Pena 2015-03-01 06:53:02 2015-03-01 07:51:46   \n",
       "2   410  A72053  Saens Pena_to_PUC 2015-03-01 08:00:35 2015-03-01 09:00:48   \n",
       "3   410  A72053  PUC_to_Saens Pena 2015-03-01 09:03:43 2015-03-01 10:08:42   \n",
       "4   410  A72053  Saens Pena_to_PUC 2015-03-01 10:12:57 2015-03-01 11:13:58   \n",
       "5   410  A72053  PUC_to_Saens Pena 2015-03-01 11:16:53 2015-03-01 12:25:44   \n",
       "6   410  A72053  Saens Pena_to_PUC 2015-03-01 12:35:49 2015-03-01 13:46:38   \n",
       "7   410  A72053  PUC_to_Saens Pena 2015-03-01 13:49:05 2015-03-01 14:51:40   \n",
       "8   410  A72053  Saens Pena_to_PUC 2015-03-01 15:10:29 2015-03-01 16:36:00   \n",
       "9   410  A72053  PUC_to_Saens Pena 2015-03-01 16:43:08 2015-03-01 17:49:49   \n",
       "10  410  A72053  Saens Pena_to_PUC 2015-03-01 17:52:09 2015-03-01 19:24:09   \n",
       "11  410  A72053  PUC_to_Saens Pena 2015-03-01 19:30:46 2015-03-01 20:52:07   \n",
       "12  410  A72018  Saens Pena_to_PUC 2015-03-01 05:22:03 2015-03-01 06:24:48   \n",
       "13  410  A72018  PUC_to_Saens Pena 2015-03-01 06:26:34 2015-03-01 07:24:45   \n",
       "14  410  A72018  Saens Pena_to_PUC 2015-03-01 07:30:29 2015-03-01 08:28:58   \n",
       "15  410  A72018  PUC_to_Saens Pena 2015-03-01 08:32:24 2015-03-01 11:59:57   \n",
       "16  410  A72018  PUC_to_Saens Pena 2015-03-01 10:55:06 2015-03-01 11:59:57   \n",
       "17  410  A72018  Saens Pena_to_PUC 2015-03-01 12:17:25 2015-03-01 13:06:58   \n",
       "18  410  A72018  PUC_to_Saens Pena 2015-03-01 13:09:53 2015-03-01 14:18:09   \n",
       "19  410  A72018  Saens Pena_to_PUC 2015-03-01 14:40:28 2015-03-01 16:01:57   \n",
       "20  410  A72018  PUC_to_Saens Pena 2015-03-01 16:07:35 2015-03-01 17:16:07   \n",
       "21  410  A72018  Saens Pena_to_PUC 2015-03-01 17:17:54 2015-03-01 18:34:55   \n",
       "22  410  A72018  PUC_to_Saens Pena 2015-03-01 18:41:10 2015-03-01 19:50:02   \n",
       "23  410  A72040  Saens Pena_to_PUC 2015-03-01 06:36:13 2015-03-01 07:37:51   \n",
       "24  410  A72040  PUC_to_Saens Pena 2015-03-01 07:44:03 2015-03-01 08:48:49   \n",
       "25  410  A72040  Saens Pena_to_PUC 2015-03-01 08:50:36 2015-03-01 09:52:01   \n",
       "26  410  A72040  PUC_to_Saens Pena 2015-03-01 09:57:58 2015-03-01 11:03:05   \n",
       "27  410  A72040  Saens Pena_to_PUC 2015-03-01 11:05:07 2015-03-01 12:06:39   \n",
       "28  410  A72040  PUC_to_Saens Pena 2015-03-01 12:12:23 2015-03-01 13:24:03   \n",
       "29  410  A72040  Saens Pena_to_PUC 2015-03-01 13:24:03 2015-03-01 17:10:47   \n",
       "30  410  A72040  Saens Pena_to_PUC 2015-03-01 16:06:32 2015-03-01 17:10:47   \n",
       "31  410  A72040  PUC_to_Saens Pena 2015-03-01 17:18:57 2015-03-01 18:36:44   \n",
       "32  410  A72040  Saens Pena_to_PUC 2015-03-01 18:40:43 2015-03-01 20:03:07   \n",
       "33  410  A72040  PUC_to_Saens Pena 2015-03-01 20:10:42 2015-03-01 21:13:45   \n",
       "34  410  A72071  Saens Pena_to_PUC 2015-03-01 08:20:36 2015-03-01 09:33:42   \n",
       "35  410  A72071  PUC_to_Saens Pena 2015-03-01 09:34:52 2015-03-01 10:36:01   \n",
       "36  410  A72071  Saens Pena_to_PUC 2015-03-01 10:42:50 2015-03-01 11:39:48   \n",
       "37  410  A72071  PUC_to_Saens Pena 2015-03-01 11:40:43 2015-03-01 12:51:52   \n",
       "38  410  A72071  Saens Pena_to_PUC 2015-03-01 12:53:43 2015-03-01 14:11:50   \n",
       "39  410  A72071  PUC_to_Saens Pena 2015-03-01 14:14:05 2015-03-01 15:31:49   \n",
       "40  410  A72009  Saens Pena_to_PUC 2015-03-01 07:21:56 2015-03-01 08:19:54   \n",
       "41  410  A72009  PUC_to_Saens Pena 2015-03-01 08:23:49 2015-03-01 09:32:04   \n",
       "42  410  A72009  Saens Pena_to_PUC 2015-03-01 09:34:43 2015-03-01 10:34:46   \n",
       "43  410  A72009  PUC_to_Saens Pena 2015-03-01 10:35:58 2015-03-01 11:45:47   \n",
       "44  410  A72009  Saens Pena_to_PUC 2015-03-01 11:50:07 2015-03-01 12:49:07   \n",
       "45  410  A72009  PUC_to_Saens Pena 2015-03-01 12:57:57 2015-03-01 14:04:50   \n",
       "46  410  A72009  Saens Pena_to_PUC 2015-03-01 14:17:37 2015-03-01 15:26:44   \n",
       "47  410  A72009  PUC_to_Saens Pena 2015-03-01 15:27:54 2015-03-01 16:37:01   \n",
       "48  410  A72009  Saens Pena_to_PUC 2015-03-01 16:46:17 2015-03-01 18:18:00   \n",
       "49  410  A72009  PUC_to_Saens Pena 2015-03-01 18:19:42 2015-03-01 19:30:06   \n",
       "50  410  A72009  Saens Pena_to_PUC 2015-03-01 19:31:43 2015-03-01 20:37:40   \n",
       "51  410  A72009  PUC_to_Saens Pena 2015-03-01 20:44:40 2015-03-01 21:45:52   \n",
       "52  410  A72020  Saens Pena_to_PUC 2015-03-01 14:21:56 2015-03-01 15:59:49   \n",
       "53  410  A72020  PUC_to_Saens Pena 2015-03-01 16:01:56 2015-03-01 17:16:52   \n",
       "54  410  A72020  Saens Pena_to_PUC 2015-03-01 17:26:06 2015-03-01 19:07:10   \n",
       "55  410  A72020  PUC_to_Saens Pena 2015-03-01 19:10:04 2015-03-01 20:34:05   \n",
       "56  410  A72020  Saens Pena_to_PUC 2015-03-01 20:44:59 2015-03-01 21:55:47   \n",
       "57  410  A72020  PUC_to_Saens Pena 2015-03-01 21:55:47 2015-03-01 23:00:59   \n",
       "\n",
       "   Travel_Time  \n",
       "0         0:51  \n",
       "1         0:58  \n",
       "2         1:00  \n",
       "3         1:04  \n",
       "4         1:01  \n",
       "5         1:08  \n",
       "6         1:10  \n",
       "7         1:02  \n",
       "8         1:25  \n",
       "9         1:06  \n",
       "10        1:32  \n",
       "11        1:21  \n",
       "12        1:02  \n",
       "13        0:58  \n",
       "14        0:58  \n",
       "15        3:27  \n",
       "16        1:04  \n",
       "17        0:49  \n",
       "18        1:08  \n",
       "19        1:21  \n",
       "20        1:08  \n",
       "21        1:17  \n",
       "22        1:08  \n",
       "23        1:01  \n",
       "24        1:04  \n",
       "25        1:01  \n",
       "26        1:05  \n",
       "27        1:01  \n",
       "28        1:11  \n",
       "29        3:46  \n",
       "30        1:04  \n",
       "31        1:17  \n",
       "32        1:22  \n",
       "33        1:03  \n",
       "34        1:13  \n",
       "35        1:01  \n",
       "36        0:56  \n",
       "37        1:11  \n",
       "38        1:18  \n",
       "39        1:17  \n",
       "40        0:57  \n",
       "41        1:08  \n",
       "42        1:00  \n",
       "43        1:09  \n",
       "44        0:59  \n",
       "45        1:06  \n",
       "46        1:09  \n",
       "47        1:09  \n",
       "48        1:31  \n",
       "49        1:10  \n",
       "50        1:05  \n",
       "51        1:01  \n",
       "52        1:37  \n",
       "53        1:14  \n",
       "54        1:41  \n",
       "55        1:24  \n",
       "56        1:10  \n",
       "57        1:05  "
      ]
     },
     "execution_count": 55,
     "metadata": {},
     "output_type": "execute_result"
    }
   ],
   "source": [
    "query = all_travel_table ('410', inverted_initial_point, 'Saens Pena', inverted_final_point, 'PUC', array_busId)\n",
    "query"
   ]
  }
 ],
 "metadata": {
  "kernelspec": {
   "display_name": "Python 2",
   "language": "python",
   "name": "python2"
  },
  "language_info": {
   "codemirror_mode": {
    "name": "ipython",
    "version": 2
   },
   "file_extension": ".py",
   "mimetype": "text/x-python",
   "name": "python",
   "nbconvert_exporter": "python",
   "pygments_lexer": "ipython2",
   "version": "2.7.6"
  }
 },
 "nbformat": 4,
 "nbformat_minor": 0
}
