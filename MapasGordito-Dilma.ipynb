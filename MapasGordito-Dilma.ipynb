{
 "cells": [
  {
   "cell_type": "code",
   "execution_count": 1,
   "metadata": {
    "collapsed": true
   },
   "outputs": [],
   "source": [
    "import pandas as pd\n",
    "from pymongo import MongoClient, GEO2D\n",
    "import pymongo\n",
    "import json\n",
    "import datetime\n",
    "from bson.son import SON\n",
    "import folium \n",
    "import math\n",
    "import numpy as np\n",
    "from IPython.display import display\n",
    "import bus "
   ]
  },
  {
   "cell_type": "code",
   "execution_count": 3,
   "metadata": {
    "collapsed": true
   },
   "outputs": [],
   "source": [
    "#Estableciendo la conexion con la base de datos morte_motoquiro en MongoDB\n",
    "db = MongoClient(\"10.0.0.107\", 27017).aniv_cidade_event"
   ]
  },
  {
   "cell_type": "code",
   "execution_count": 4,
   "metadata": {
    "collapsed": true
   },
   "outputs": [],
   "source": [
    "#Important: In geoWithin function, if you use longitude and latitude, specify longitude first.\n",
    "#funcion que recibe un poligono y una coleccion de Mongo y te devuelve todos los puntos de la linea que aquel dia pasaron por aquel poligono\n",
    "def points_inside_polygon(mongo_collection, inverted_polygon):\n",
    "    points_inside_polygon = []\n",
    "    for row in mongo_collection.find ({\"latlon\": {\"$geoWithin\": { \"$polygon\": inverted_polygon }}}).sort(\"timestamp\",pymongo.ASCENDING):\n",
    "        points_inside_polygon.insert(len(points_inside_polygon), [row[u'timestamp'], row[u'latitude'], row[u'longitude'], row[u'line'], row[u'bus_id']]) \n",
    "    df_points_inside_polygon = pd.DataFrame(points_inside_polygon, columns=['timestamp', 'latitude', 'longitude', 'line', 'bus_id'])\n",
    "    return df_points_inside_polygon"
   ]
  },
  {
   "cell_type": "code",
   "execution_count": 4,
   "metadata": {
    "collapsed": true
   },
   "outputs": [],
   "source": [
    "#Poligono tramo 2-5\n",
    "Punto2 = (-22.960298,-43.204346)\n",
    "Punto5 = (-22.974325,-43.22625)\n",
    "#inverted_polygon_2_5\n",
    "T = (-22.974577,-43.226631)\n",
    "inverted_T = (-43.226631,-22.974577)\n",
    "V = (-22.974654,-43.225901)\n",
    "inverted_V = (-43.225901,-22.974654)\n",
    "W = (-22.961393,-43.215076)\n",
    "inverted_W = (-43.215076,-22.961393)\n",
    "X = (-22.961897,-43.214658)\n",
    "inverted_X = (-43.214658,-22.961897)\n",
    "Y = (-22.960128,-43.2041)\n",
    "inverted_Y = (-43.2041,-22.960128)\n",
    "Z = (-22.960484,-43.204015)\n",
    "inverted_Z = (-43.204015,-22.960484)\n",
    "inverted_polygon_2_5 = [inverted_V,inverted_T,inverted_W,inverted_Y,inverted_Z,inverted_X]"
   ]
  },
  {
   "cell_type": "code",
   "execution_count": 5,
   "metadata": {
    "collapsed": true
   },
   "outputs": [],
   "source": [
    "\"\"\"Funciones para renderizar el mapa en el html\"\"\"\n",
    "from IPython.display import HTML\n",
    " \n",
    "def inline_map(map):\n",
    "    \"\"\"\n",
    "    Embeds the HTML source of the map directly into the IPython notebook.\n",
    "    \n",
    "    This method will not work if the map depends on any files (json data). Also this uses\n",
    "    the HTML5 srcdoc attribute, which may not be supported in all browsers.\n",
    "    \"\"\"\n",
    "    map._build_map()\n",
    "    return HTML('<iframe srcdoc=\"{srcdoc}\" style=\"width: 100%; height: 510px; border: none\"></iframe>'.format(srcdoc=map.HTML.replace('\"', '&quot;')))\n",
    " \n",
    "def embed_map(map, path=\"map.html\"):\n",
    "    \"\"\"\n",
    "    Embeds a linked iframe to the map into the IPython notebook.\n",
    "    \n",
    "    Note: this method will not capture the source of the map into the notebook.\n",
    "    This method should work for all maps (as long as they use relative urls).\n",
    "    \"\"\"\n",
    "    map.create_map(path=path)\n",
    "    return HTML('<iframe src=\"files/{path}\" style=\"width: 100%; height: 510px; border: none\"></iframe>'.format(path=path))"
   ]
  },
  {
   "cell_type": "code",
   "execution_count": 6,
   "metadata": {
    "collapsed": false,
    "scrolled": false
   },
   "outputs": [
    {
     "data": {
      "text/html": [
       "<iframe src=\"files/map.html\" style=\"width: 100%; height: 510px; border: none\"></iframe>"
      ],
      "text/plain": [
       "<IPython.core.display.HTML object>"
      ]
     },
     "execution_count": 6,
     "metadata": {},
     "output_type": "execute_result"
    }
   ],
   "source": [
    "Polygon1 = [\n",
    "    (-22.949205547938437, -43.1891655921936),\n",
    "    (-22.950055195875997, -43.18897247314453),\n",
    "    (-22.949857603808475, -43.18519592285156),\n",
    "    (-22.949541455900263, -43.1823205947876),\n",
    "    (-22.94871156412683, -43.182406425476074),\n",
    "    (-22.949007954630193, -43.1856894493103),\n",
    "    (-22.949205547938437, -43.1891655921936)\n",
    "    ]\n",
    "\n",
    "\n",
    "Polygon2 = [(-22.949699529946695, -43.19008827209473),\n",
    "            (-22.949541455900263, -43.18950891494751),\n",
    "            (-22.956615088692956, -43.186891078948975),\n",
    "            (-22.956832429095073, -43.187384605407715),\n",
    "           (-22.949699529946695, -43.19008827209473)]\n",
    "\n",
    "Polygon3=[\n",
    "            (-22.954639250838014, -43.18783521652222),\n",
    "            (-22.955152971456624, -43.18755626678467),\n",
    "            (-22.9570892854837, -43.19199800491333),\n",
    "            (-22.958314286165276, -43.1956672668457),\n",
    "            (-22.95890702444755, -43.19856405258179),\n",
    "            (-22.958314286165276, -43.19882154464722),\n",
    "            (-22.957682029134354, -43.19592475891113),\n",
    "            (-22.956615088692956, -43.19227695465088),\n",
    "            (-22.954639250838014, -43.18783521652222)]\n",
    "\n",
    "Polygon4=[(-22.95772154528538, -43.1997013092041),\n",
    "          (-22.958393318086337, -43.19897174835205),\n",
    "          (-22.959697338116392, -43.20000171661377),\n",
    "          (-22.96096183038056, -43.20300579071045),\n",
    "          (-22.960922315176255, -43.20523738861084),\n",
    "          (-22.961475526985673, -43.209614753723145),\n",
    "          (-22.961910191819754, -43.21369171142578),\n",
    "          (-22.96238437004533, -43.21480751037598),\n",
    "          (-22.96716557423875, -43.21914196014404),\n",
    "          (-22.966454331427162, -43.22017192840576),\n",
    "          (-22.96171261706837, -43.215622901916504),\n",
    "          (-22.960803769494103, -43.21420669555664),\n",
    "          (-22.960290070337315, -43.21017265319824),\n",
    "          (-22.959934431316487, -43.205881118774414),\n",
    "          (-22.95957879136047, -43.20352077484131),\n",
    "          (-22.95855138178991, -43.20068836212158),\n",
    "         (-22.95772154528538, -43.1997013092041)]\n",
    "\n",
    "\n",
    "\n",
    "\n",
    "# Create the map and add the line\n",
    "m=folium.Map(location=[-22.95772154528538, -43.1997013092041], zoom_start=14)\n",
    "m.line(Polygon1, line_color='#FF0000', line_weight=5)\n",
    "m.line(Polygon2, line_color='blue', line_weight=5)\n",
    "m.line(Polygon3, line_color='green', line_weight=5)\n",
    "m.line(Polygon4, line_color='brown', line_weight=5)\n",
    "\n",
    "embed_map(m)\n"
   ]
  },
  {
   "cell_type": "code",
   "execution_count": 7,
   "metadata": {
    "collapsed": false
   },
   "outputs": [],
   "source": [
    "def invert_polygon(polygon):\n",
    "    polygon_inverted = []\n",
    "    for points in polygon:\n",
    "        polygon_inverted.insert(1, (points[1],points[0]))\n",
    "    return polygon_inverted"
   ]
  },
  {
   "cell_type": "code",
   "execution_count": 8,
   "metadata": {
    "collapsed": false
   },
   "outputs": [],
   "source": [
    "Polygon1_inverted = invert_polygon(Polygon1)\n",
    "Polygon2_inverted = invert_polygon(Polygon2)\n",
    "Polygon3_inverted = invert_polygon(Polygon3)\n",
    "Polygon4_inverted = invert_polygon(Polygon4)"
   ]
  },
  {
   "cell_type": "code",
   "execution_count": 15,
   "metadata": {
    "collapsed": false
   },
   "outputs": [],
   "source": [
    "points_inside_polygon1 = points_inside_polygon(db.dados20150301_line_410, Polygon1_inverted)\n",
    "points_inside_polygon2 = points_inside_polygon(db.dados20150301_line_410, Polygon2_inverted)\n",
    "points_inside_polygon3 = points_inside_polygon(db.dados20150301_line_410, Polygon3_inverted)\n",
    "points_inside_polygon4 = points_inside_polygon(db.dados20150301_line_410, Polygon4_inverted)"
   ]
  },
  {
   "cell_type": "code",
   "execution_count": 19,
   "metadata": {
    "collapsed": false
   },
   "outputs": [
    {
     "data": {
      "text/html": [
       "<iframe src=\"files/map.html\" style=\"width: 100%; height: 510px; border: none\"></iframe>"
      ],
      "text/plain": [
       "<IPython.core.display.HTML object>"
      ]
     },
     "execution_count": 19,
     "metadata": {},
     "output_type": "execute_result"
    }
   ],
   "source": [
    "for doc in points_inside_polygon4.iterrows():\n",
    "    m.polygon_marker( [ doc[1]['latitude'], doc[1]['longitude'] ], fill_color='brown', num_sides=4, radius=6)\n",
    "embed_map(m)"
   ]
  },
  {
   "cell_type": "code",
   "execution_count": 128,
   "metadata": {
    "collapsed": false
   },
   "outputs": [
    {
     "data": {
      "text/plain": [
       "array([u'315', u'352', u'360', u'382', u'613', u'2335', u'525', u'2329',\n",
       "       u'LECD10', u'368', u'348', u'361', u'880', u'2333', u'2803',\n",
       "       u'2338', u'332', u'2804', u'306', u'2334', u'614', u'887', u'2330',\n",
       "       u'2115', u'863', u'612', u'692'], dtype=object)"
      ]
     },
     "execution_count": 128,
     "metadata": {},
     "output_type": "execute_result"
    }
   ],
   "source": [
    "points_inside_polygon6['line'].unique()"
   ]
  }
 ],
 "metadata": {
  "kernelspec": {
   "display_name": "Python 2",
   "language": "python",
   "name": "python2"
  },
  "language_info": {
   "codemirror_mode": {
    "name": "ipython",
    "version": 2
   },
   "file_extension": ".py",
   "mimetype": "text/x-python",
   "name": "python",
   "nbconvert_exporter": "python",
   "pygments_lexer": "ipython2",
   "version": "2.7.6"
  }
 },
 "nbformat": 4,
 "nbformat_minor": 0
}
