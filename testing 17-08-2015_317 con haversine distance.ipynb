{
 "cells": [
  {
   "cell_type": "code",
   "execution_count": 1,
   "metadata": {
    "collapsed": false,
    "scrolled": true
   },
   "outputs": [],
   "source": [
    "import pandas as pd\n",
    "from pymongo import MongoClient, GEO2D\n",
    "import pymongo\n",
    "import json\n",
    "import datetime\n",
    "from bson.son import SON\n",
    "import folium \n",
    "from math import *\n",
    "import numpy as np\n",
    "from IPython.display import display\n",
    "import matplotlib.pyplot as plt\n",
    "import plotly.plotly as py\n",
    "from plotly.graph_objs import *\n"
   ]
  },
  {
   "cell_type": "code",
   "execution_count": 2,
   "metadata": {
    "collapsed": true
   },
   "outputs": [],
   "source": [
    "df_20150817 = pd.read_csv('/home/kathrin/Doctorado/bus_rio/Datos_Omnibus/morte_motoqueiro_20150817/20150817.txt', delimiter = ('\\t'))"
   ]
  },
  {
   "cell_type": "code",
   "execution_count": 3,
   "metadata": {
    "collapsed": false
   },
   "outputs": [],
   "source": [
    "df_20150817_line_317 = df_20150817[(df_20150817['line']=='317')]"
   ]
  },
  {
   "cell_type": "code",
   "execution_count": 4,
   "metadata": {
    "collapsed": true
   },
   "outputs": [],
   "source": [
    "#Estableciendo la conexion con la base de datos morte_motoquiro en MongoDB\n",
    "db = MongoClient().morte_motoquiro_event"
   ]
  },
  {
   "cell_type": "code",
   "execution_count": 5,
   "metadata": {
    "collapsed": true
   },
   "outputs": [],
   "source": [
    "onibus317_shapes = pd.read_csv('/home/kathrin/Doctorado/bus_rio/Datos_Omnibus/Onibus/Shapes/gtfs_linha317-shapes.csv')"
   ]
  },
  {
   "cell_type": "code",
   "execution_count": 6,
   "metadata": {
    "collapsed": false
   },
   "outputs": [
    {
     "data": {
      "text/html": [
       "<div>\n",
       "<table border=\"1\" class=\"dataframe\">\n",
       "  <thead>\n",
       "    <tr style=\"text-align: right;\">\n",
       "      <th></th>\n",
       "      <th>linha</th>\n",
       "      <th>descricao</th>\n",
       "      <th>agencia</th>\n",
       "      <th>sequencia</th>\n",
       "      <th>shape_id</th>\n",
       "      <th>latitude</th>\n",
       "      <th>longitude</th>\n",
       "    </tr>\n",
       "  </thead>\n",
       "  <tbody>\n",
       "    <tr>\n",
       "      <th>0</th>\n",
       "      <td>317</td>\n",
       "      <td>317-CENTRAL X ALVORADA (VIA TUNEL SANTA BARBAR...</td>\n",
       "      <td>Fetranspor</td>\n",
       "      <td>0</td>\n",
       "      <td>17424059</td>\n",
       "      <td>-22.9049</td>\n",
       "      <td>-43.1917</td>\n",
       "    </tr>\n",
       "    <tr>\n",
       "      <th>1041</th>\n",
       "      <td>317</td>\n",
       "      <td>317-CENTRAL X ALVORADA (VIA TUNEL SANTA BARBAR...</td>\n",
       "      <td>Fetranspor</td>\n",
       "      <td>0</td>\n",
       "      <td>17589381</td>\n",
       "      <td>-23.0012</td>\n",
       "      <td>-43.3649</td>\n",
       "    </tr>\n",
       "  </tbody>\n",
       "</table>\n",
       "</div>"
      ],
      "text/plain": [
       "      linha                                          descricao     agencia  \\\n",
       "0       317  317-CENTRAL X ALVORADA (VIA TUNEL SANTA BARBAR...  Fetranspor   \n",
       "1041    317  317-CENTRAL X ALVORADA (VIA TUNEL SANTA BARBAR...  Fetranspor   \n",
       "\n",
       "      sequencia  shape_id  latitude  longitude  \n",
       "0             0  17424059  -22.9049   -43.1917  \n",
       "1041          0  17589381  -23.0012   -43.3649  "
      ]
     },
     "execution_count": 6,
     "metadata": {},
     "output_type": "execute_result"
    }
   ],
   "source": [
    "df_initial_point = onibus317_shapes[(onibus317_shapes['sequencia']==0)]\n",
    "df_initial_point"
   ]
  },
  {
   "cell_type": "code",
   "execution_count": 7,
   "metadata": {
    "collapsed": true
   },
   "outputs": [],
   "source": [
    "#Punto inicial del omnibus 317 Central do Brasil\n",
    "initial_point = (-22.9049,-43.1917)\n",
    "#Punto inicial del omnibus invertido\n",
    "inverted_initial_point = (-43.1917, -22.9049)\n",
    "#Punto final del omnibus 317 Centro\n",
    "final_point = (-23.0012, -43.3649)\n",
    "#Punto final del omnibus invertido\n",
    "inverted_final_point = (-43.3649, -23.0012)"
   ]
  },
  {
   "cell_type": "code",
   "execution_count": 8,
   "metadata": {
    "collapsed": true
   },
   "outputs": [],
   "source": [
    "\"\"\"Funciones para renderizar el mapa en el html\"\"\"\n",
    "from IPython.display import HTML\n",
    " \n",
    "def inline_map(map):\n",
    "    \"\"\"\n",
    "    Embeds the HTML source of the map directly into the IPython notebook.\n",
    "    \n",
    "    This method will not work if the map depends on any files (json data). Also this uses\n",
    "    the HTML5 srcdoc attribute, which may not be supported in all browsers.\n",
    "    \"\"\"\n",
    "    map._build_map()\n",
    "    return HTML('<iframe srcdoc=\"{srcdoc}\" style=\"width: 100%; height: 510px; border: none\"></iframe>'.format(srcdoc=map.HTML.replace('\"', '&quot;')))\n",
    " \n",
    "def embed_map(map, path=\"map.html\"):\n",
    "    \"\"\"\n",
    "    Embeds a linked iframe to the map into the IPython notebook.\n",
    "    \n",
    "    Note: this method will not capture the source of the map into the notebook.\n",
    "    This method should work for all maps (as long as they use relative urls).\n",
    "    \"\"\"\n",
    "    map.create_map(path=path)\n",
    "    return HTML('<iframe src=\"files/{path}\" style=\"width: 100%; height: 510px; border: none\"></iframe>'.format(path=path))"
   ]
  },
  {
   "cell_type": "code",
   "execution_count": 9,
   "metadata": {
    "collapsed": false,
    "scrolled": false
   },
   "outputs": [
    {
     "data": {
      "text/html": [
       "<iframe src=\"files/map.html\" style=\"width: 100%; height: 510px; border: none\"></iframe>"
      ],
      "text/plain": [
       "<IPython.core.display.HTML object>"
      ]
     },
     "execution_count": 9,
     "metadata": {},
     "output_type": "execute_result"
    }
   ],
   "source": [
    "fmap317=folium.Map(location=[-22.923714, -43.258999], zoom_start=11)\n",
    "locations317 = []\n",
    "for row in onibus317_shapes.iterrows():\n",
    "    #The 'latitude' and 'longitude' names correspond to column names in the original cceats dataframe\n",
    "    locations317.insert(len(locations317), [ row[1]['latitude'], row[1]['longitude'] ])\n",
    "    \n",
    "#Pintando Circulos de radio de 50m alrededor de los puntos incial y final \n",
    "fmap317.simple_marker(initial_point, popup='Central')\n",
    "fmap317.simple_marker(final_point, popup='Alborada')\n",
    "fmap317.simple_marker((-22.992551 , -43.249098), popup='Morte Motoqueiro')\n",
    "\n",
    "#Punto inicial\n",
    "fmap317.circle_marker(location=final_point, radius=50,line_color='green',\n",
    "                 fill_color='#3186cc', fill_opacity=0.2)\n",
    "\n",
    "#Punto inicial\n",
    "fmap317.circle_marker(location=initial_point, radius=50,line_color='red',\n",
    "                 fill_color='#3186cc', fill_opacity=0.2)\n",
    "\n",
    "fmap317.line(locations317)\n",
    "embed_map(fmap317)"
   ]
  },
  {
   "cell_type": "code",
   "execution_count": 10,
   "metadata": {
    "collapsed": false,
    "scrolled": true
   },
   "outputs": [
    {
     "data": {
      "text/html": [
       "<iframe src=\"files/map.html\" style=\"width: 100%; height: 510px; border: none\"></iframe>"
      ],
      "text/plain": [
       "<IPython.core.display.HTML object>"
      ]
     },
     "execution_count": 10,
     "metadata": {},
     "output_type": "execute_result"
    }
   ],
   "source": [
    "#esto es para graficar todos los puntos de todos los omnibus 317 que cirsularon ese dia\n",
    "for row in df_20150817_line_317.iterrows():\n",
    "    #The 'latitude' and 'longitude' names correspond to column names in the original cceats dataframe\n",
    "    latlon = [ row[1]['latitude'], row[1]['longitude'] ]\n",
    "    fmap317.polygon_marker( latlon, fill_color='green', num_sides=4, radius=6)\n",
    "    \n",
    "\n",
    "embed_map(fmap317)"
   ]
  },
  {
   "cell_type": "code",
   "execution_count": 11,
   "metadata": {
    "collapsed": false
   },
   "outputs": [
    {
     "data": {
      "text/plain": [
       "[u'C41405', u'C41406', u'C41401', u'C41408']"
      ]
     },
     "execution_count": 11,
     "metadata": {},
     "output_type": "execute_result"
    }
   ],
   "source": [
    "#Function to compute the bus_ids circulating during a day  \n",
    "bus_id_20150817_317 = db.dados20150817_line_317.distinct(\"bus_id\")\n",
    "bus_id_20150817_317"
   ]
  },
  {
   "cell_type": "code",
   "execution_count": 12,
   "metadata": {
    "collapsed": false
   },
   "outputs": [],
   "source": [
    "#meter en una lista todos los bus_id\n",
    "def get_busId_list(busId_list):\n",
    "    array_busId = []\n",
    "    for bus in busId_list:\n",
    "        strbus = str(bus)\n",
    "        array_busId.insert(len(array_busId), strbus)\n",
    "    return array_busId"
   ]
  },
  {
   "cell_type": "code",
   "execution_count": 13,
   "metadata": {
    "collapsed": false
   },
   "outputs": [
    {
     "data": {
      "text/plain": [
       "['C41405', 'C41406', 'C41401', 'C41408']"
      ]
     },
     "execution_count": 13,
     "metadata": {},
     "output_type": "execute_result"
    }
   ],
   "source": [
    "array_busId = get_busId_list(bus_id_20150817_317)\n",
    "array_busId"
   ]
  },
  {
   "cell_type": "code",
   "execution_count": 26,
   "metadata": {
    "collapsed": true
   },
   "outputs": [],
   "source": [
    "#funcion que dado un el bus_id de un omnibus y un punto inicial/final devuelve los puntos mas cercanos a ese punto. \n",
    "# A esa función se le debería pasar también la BD, pero ahora no se va a hacer asi\n",
    "def near_points_to_origin (bus_id, inverted_origin_point):\n",
    "    near_initial_points_array = []\n",
    "    #la funcion $within recibe las coordenadas en orden inverso (primero longitud y después latitud)\n",
    "    for row in db.dados20150727_line_317.find({\"latlon\": {\"$within\": {\"$center\": [inverted_origin_point, 0.0035499543]}}, \"bus_id\": bus_id}).sort(\"timestamp\",pymongo.DESCENDING):\n",
    "    #for row in db.dados20150817_line_317.find({\"latlon\": {\"$within\": {\"$center\": [inverted_origin_point, 0.0115499543]}}, \"bus_id\": bus_id}).sort(\"timestamp\",pymongo.DESCENDING):   \n",
    "        near_initial_points_array.insert(0, [row[u'timestamp'], row[u'latitude'], row[u'longitude'], row[u'speed']])\n",
    "    #convert the array in panda dataframe \n",
    "    sorted_near_initial_points = pd.DataFrame(near_initial_points_array, columns=['timestamp', 'latitude', 'longitude', 'speed'])\n",
    "    return sorted_near_initial_points"
   ]
  },
  {
   "cell_type": "code",
   "execution_count": 15,
   "metadata": {
    "collapsed": true
   },
   "outputs": [],
   "source": [
    "def bus_departure_hour (initial_points_timestamp_list):\n",
    "    list_departure_hours = []\n",
    "    i = 0\n",
    "    if len(initial_points_timestamp_list) >1:\n",
    "        for i in range(0, len(initial_points_timestamp_list)-1):\n",
    "            resto = datetime.datetime.strptime(initial_points_timestamp_list[i+1], \"%d-%m-%Y %H:%M:%S\")-datetime.datetime.strptime(initial_points_timestamp_list[i], \"%d-%m-%Y %H:%M:%S\")\n",
    "            resto_total = resto.total_seconds()/60\n",
    "            #si la diferencia entre los timestamp del omnibus en el putno supera los 40 minutos es q dio un viaje y regreso, sino lo supera es que se mantuvo ese tiempo esperando en el punto\n",
    "            if (resto_total > 40):\n",
    "                 list_departure_hours.insert(len( list_departure_hours),datetime.datetime.strptime(initial_points_timestamp_list[i], \"%d-%m-%Y %H:%M:%S\"))\n",
    "        #siempre es necesario insertar el ultimo valor de la lista de \"initial_points_timestamp\" en la lista de  list_departure_hours \n",
    "        list_departure_hours.insert(len( list_departure_hours),datetime.datetime.strptime(initial_points_timestamp_list[i+1], \"%d-%m-%Y %H:%M:%S\"))\n",
    "    elif len(initial_points_timestamp_list) == 1:\n",
    "        list_departure_hours.insert(len( list_departure_hours),datetime.datetime.strptime(initial_points_timestamp_list[0], \"%d-%m-%Y %H:%M:%S\"))\n",
    "    else:\n",
    "        list_departure_hours = []\n",
    "    return list_departure_hours"
   ]
  },
  {
   "cell_type": "code",
   "execution_count": 16,
   "metadata": {
    "collapsed": true
   },
   "outputs": [],
   "source": [
    "#Funcion que retorna el arreglo con las horas de llegada del omnibus al punto inicial/final del trayecto\n",
    "def bus_arrive_hour (initial_points_timestamp_list):\n",
    "    list_arrive_hours = []\n",
    "    #siempre es necesario insertar el ultimo valor de la lista de \"initial_points_timestamp\" en la lista de leblon_departure_hours \n",
    "    if len(initial_points_timestamp_list) >1:\n",
    "        list_arrive_hours.insert(len(list_arrive_hours),datetime.datetime.strptime(initial_points_timestamp_list[0], \"%d-%m-%Y %H:%M:%S\"))\n",
    "        for i in range(0,  len(initial_points_timestamp_list)-1):\n",
    "            resto = datetime.datetime.strptime(initial_points_timestamp_list[i+1], \"%d-%m-%Y %H:%M:%S\")-datetime.datetime.strptime(initial_points_timestamp_list[i], \"%d-%m-%Y %H:%M:%S\")\n",
    "            resto_total = resto.total_seconds()/60\n",
    "            if (resto_total > 40):\n",
    "                list_arrive_hours.insert(len(list_arrive_hours),datetime.datetime.strptime(initial_points_timestamp_list[i+1], \"%d-%m-%Y %H:%M:%S\"))\n",
    "    elif (len(initial_points_timestamp_list) == 1):\n",
    "        list_arrive_hours.insert(len(list_arrive_hours),datetime.datetime.strptime(initial_points_timestamp_list[0], \"%d-%m-%Y %H:%M:%S\"))\n",
    "    else:\n",
    "        list_arrive_hours = []        \n",
    "    return list_arrive_hours"
   ]
  },
  {
   "cell_type": "code",
   "execution_count": 17,
   "metadata": {
    "collapsed": true
   },
   "outputs": [],
   "source": [
    "#Para convertir de formato timedelta para horas y minutos\n",
    "def days_hours_minutes(travel_time):\n",
    "    hours = travel_time.seconds//3600 \n",
    "    minutes = (travel_time.seconds//60)%60\n",
    "    #print '%d hours, %d minutes' % (hours,minutes)\n",
    "    if minutes < 10:\n",
    "        minutes = str(0)+str(minutes)\n",
    "    return str(hours) + \":\"+ str(minutes)"
   ]
  },
  {
   "cell_type": "code",
   "execution_count": 18,
   "metadata": {
    "collapsed": true
   },
   "outputs": [],
   "source": [
    "#Funcion que crea la tabla de viajes con los tiempos de viaje\n",
    "def create_travel_table (name_A, arrive_array_A, departure_array_A, name_B, arrive_array_B, departure_array_B, bus_Id, bus_line):\n",
    "    \n",
    "    my_time_table = []   \n",
    "    num_travel = 0    \n",
    "    i = 0 #Cursor para moverme por el departure_array_A(arreglo q contiene las horas de salida del punto incial)   \n",
    "    j = 0 #Cursor para moverme por el departure_array_B (arreglo q contiene las horas de salida del punto final)\n",
    "   \n",
    "    while (i<len(departure_array_A) and j< len(departure_array_B)):\n",
    "        if (departure_array_A[i] < departure_array_B[j]):\n",
    "            if(i+1 == len(departure_array_A)):\n",
    "                direction = name_A + \"_to_\" + name_B\n",
    "                departure_hour = departure_array_A[i]\n",
    "                i = i +1\n",
    "                arrive_hour = arrive_array_B[j]\n",
    "                num_travel = num_travel +1\n",
    "                travel_time = days_hours_minutes(arrive_hour - departure_hour)          \n",
    "                my_time_table.insert(len(my_time_table), [bus_line, bus_Id, direction, departure_hour,arrive_hour, travel_time])\n",
    "         \n",
    "            elif ((i+1 < len(departure_array_A)) and (departure_array_B[j] < departure_array_A[i+1])):\n",
    "                direction = name_A + \"_to_\" + name_B\n",
    "                departure_hour = departure_array_A[i]\n",
    "                i = i +1\n",
    "                arrive_hour = arrive_array_B[j]\n",
    "                num_travel = num_travel +1\n",
    "                travel_time = days_hours_minutes(arrive_hour - departure_hour)          \n",
    "                my_time_table.insert(len(my_time_table), [bus_line, bus_Id, direction, departure_hour,arrive_hour, travel_time])\n",
    "            else: \n",
    "                i = i +1\n",
    "            \n",
    "        elif(departure_array_B[j] < departure_array_A[i]):\n",
    "            if (j+1 == len(departure_array_B)):\n",
    "                direction = name_B + \"_to_\" + name_A\n",
    "                departure_hour = departure_array_B[j]\n",
    "                j = j +1\n",
    "                arrive_hour = arrive_array_A[i]\n",
    "                num_travel = num_travel +1\n",
    "                travel_time = days_hours_minutes(arrive_hour - departure_hour)          \n",
    "                my_time_table.insert(len(my_time_table), [bus_line, bus_Id, direction, departure_hour,arrive_hour, travel_time])\n",
    "            \n",
    "            elif ((j+1 < len(departure_array_B)) and (departure_array_A[i] < departure_array_B[j+1])):\n",
    "                direction = name_B + \"_to_\" + name_A\n",
    "                departure_hour = departure_array_B[j]\n",
    "                j = j +1\n",
    "                arrive_hour = arrive_array_A[i]\n",
    "                num_travel = num_travel +1\n",
    "                travel_time = days_hours_minutes(arrive_hour - departure_hour)          \n",
    "                my_time_table.insert(len(my_time_table), [bus_line, bus_Id, direction, departure_hour,arrive_hour, travel_time])\n",
    "            else:\n",
    "                j = j +1                \n",
    "            \n",
    "    #Construir el dataframe pasandole el array con todos los datos de los viajes   \n",
    "    mydf = pd.DataFrame(my_time_table, columns=['Line', 'Bus_Id','Direction','Departure_Hour', 'Arrive_Hour', 'Travel_Time'])       \n",
    "    return mydf  "
   ]
  },
  {
   "cell_type": "code",
   "execution_count": 19,
   "metadata": {
    "collapsed": true
   },
   "outputs": [],
   "source": [
    "#Funcion que crea la tabla de tiempo de viaje para cada bus_id de los que transitaron el el dia\n",
    "def all_travel_table (line, punto_ini_coord_invertidas, name_punto_inicio, punto_fin_coord_invertidas, name_punto_final, array_busId):\n",
    "    new_df = pd.DataFrame(columns=['Line', 'Bus_Id','Direction','Departure_Hour', 'Arrive_Hour', 'Travel_Time'])  \n",
    "    for busId in array_busId:\n",
    "        sorted_near_initial_points1 = near_points_to_origin(busId, punto_ini_coord_invertidas)\n",
    "        sorted_near_final_points1 = near_points_to_origin(busId, punto_fin_coord_invertidas)\n",
    "        initial_points_timestamp1 = sorted_near_initial_points1 ['timestamp']\n",
    "        final_points_timestamp1 = sorted_near_final_points1 ['timestamp']\n",
    "        #chequear si la lista initial_points_timestamp es diferente de vacio\n",
    "        if len(initial_points_timestamp1) and len(final_points_timestamp1):\n",
    "            vilaIsabel_departure_hours1 = bus_departure_hour(initial_points_timestamp1)\n",
    "            first_point_departure_hour = bus_departure_hour (initial_points_timestamp1)\n",
    "            last_point_departure_hour = bus_departure_hour (final_points_timestamp1)\n",
    "            first_point_arrive_hour = bus_arrive_hour(initial_points_timestamp1)\n",
    "            last_point_arrive_hour = bus_arrive_hour(final_points_timestamp1)\n",
    "            my_time_table = create_travel_table(name_punto_inicio, first_point_arrive_hour, first_point_departure_hour, name_punto_final, last_point_arrive_hour, last_point_departure_hour, busId, line)\n",
    "            new_df = new_df.append(my_time_table, ignore_index=True)\n",
    "    return new_df"
   ]
  },
  {
   "cell_type": "code",
   "execution_count": 20,
   "metadata": {
    "collapsed": false
   },
   "outputs": [
    {
     "data": {
      "text/html": [
       "<div>\n",
       "<table border=\"1\" class=\"dataframe\">\n",
       "  <thead>\n",
       "    <tr style=\"text-align: right;\">\n",
       "      <th></th>\n",
       "      <th>Line</th>\n",
       "      <th>Bus_Id</th>\n",
       "      <th>Direction</th>\n",
       "      <th>Departure_Hour</th>\n",
       "      <th>Arrive_Hour</th>\n",
       "      <th>Travel_Time</th>\n",
       "    </tr>\n",
       "  </thead>\n",
       "  <tbody>\n",
       "    <tr>\n",
       "      <th>0</th>\n",
       "      <td>317</td>\n",
       "      <td>C41405</td>\n",
       "      <td>Alborada_to_Central</td>\n",
       "      <td>2015-08-17 08:49:48</td>\n",
       "      <td>2015-08-17 10:45:56</td>\n",
       "      <td>1:56</td>\n",
       "    </tr>\n",
       "    <tr>\n",
       "      <th>1</th>\n",
       "      <td>317</td>\n",
       "      <td>C41405</td>\n",
       "      <td>Central_to_Alborada</td>\n",
       "      <td>2015-08-17 13:12:03</td>\n",
       "      <td>2015-08-17 14:20:17</td>\n",
       "      <td>1:08</td>\n",
       "    </tr>\n",
       "    <tr>\n",
       "      <th>2</th>\n",
       "      <td>317</td>\n",
       "      <td>C41406</td>\n",
       "      <td>Central_to_Alborada</td>\n",
       "      <td>2015-08-17 07:59:03</td>\n",
       "      <td>2015-08-17 09:27:51</td>\n",
       "      <td>1:28</td>\n",
       "    </tr>\n",
       "    <tr>\n",
       "      <th>3</th>\n",
       "      <td>317</td>\n",
       "      <td>C41406</td>\n",
       "      <td>Alborada_to_Central</td>\n",
       "      <td>2015-08-17 09:52:02</td>\n",
       "      <td>2015-08-17 11:15:19</td>\n",
       "      <td>1:23</td>\n",
       "    </tr>\n",
       "    <tr>\n",
       "      <th>4</th>\n",
       "      <td>317</td>\n",
       "      <td>C41406</td>\n",
       "      <td>Central_to_Alborada</td>\n",
       "      <td>2015-08-17 14:52:22</td>\n",
       "      <td>2015-08-17 16:37:11</td>\n",
       "      <td>1:44</td>\n",
       "    </tr>\n",
       "    <tr>\n",
       "      <th>5</th>\n",
       "      <td>317</td>\n",
       "      <td>C41406</td>\n",
       "      <td>Alborada_to_Central</td>\n",
       "      <td>2015-08-17 17:16:56</td>\n",
       "      <td>2015-08-17 19:02:22</td>\n",
       "      <td>1:45</td>\n",
       "    </tr>\n",
       "    <tr>\n",
       "      <th>6</th>\n",
       "      <td>317</td>\n",
       "      <td>C41406</td>\n",
       "      <td>Central_to_Alborada</td>\n",
       "      <td>2015-08-17 19:15:48</td>\n",
       "      <td>2015-08-17 20:59:13</td>\n",
       "      <td>1:43</td>\n",
       "    </tr>\n",
       "    <tr>\n",
       "      <th>7</th>\n",
       "      <td>317</td>\n",
       "      <td>C41406</td>\n",
       "      <td>Alborada_to_Central</td>\n",
       "      <td>2015-08-17 21:17:56</td>\n",
       "      <td>2015-08-17 22:27:21</td>\n",
       "      <td>1:09</td>\n",
       "    </tr>\n",
       "    <tr>\n",
       "      <th>8</th>\n",
       "      <td>317</td>\n",
       "      <td>C41401</td>\n",
       "      <td>Central_to_Alborada</td>\n",
       "      <td>2015-08-17 08:56:56</td>\n",
       "      <td>2015-08-17 10:30:07</td>\n",
       "      <td>1:33</td>\n",
       "    </tr>\n",
       "    <tr>\n",
       "      <th>9</th>\n",
       "      <td>317</td>\n",
       "      <td>C41401</td>\n",
       "      <td>Alborada_to_Central</td>\n",
       "      <td>2015-08-17 11:10:03</td>\n",
       "      <td>2015-08-17 12:49:06</td>\n",
       "      <td>1:39</td>\n",
       "    </tr>\n",
       "    <tr>\n",
       "      <th>10</th>\n",
       "      <td>317</td>\n",
       "      <td>C41401</td>\n",
       "      <td>Central_to_Alborada</td>\n",
       "      <td>2015-08-17 13:17:58</td>\n",
       "      <td>2015-08-17 14:43:21</td>\n",
       "      <td>1:25</td>\n",
       "    </tr>\n",
       "    <tr>\n",
       "      <th>11</th>\n",
       "      <td>317</td>\n",
       "      <td>C41401</td>\n",
       "      <td>Alborada_to_Central</td>\n",
       "      <td>2015-08-17 15:04:24</td>\n",
       "      <td>2015-08-17 16:22:15</td>\n",
       "      <td>1:17</td>\n",
       "    </tr>\n",
       "    <tr>\n",
       "      <th>12</th>\n",
       "      <td>317</td>\n",
       "      <td>C41401</td>\n",
       "      <td>Central_to_Alborada</td>\n",
       "      <td>2015-08-17 17:30:18</td>\n",
       "      <td>2015-08-17 19:32:13</td>\n",
       "      <td>2:01</td>\n",
       "    </tr>\n",
       "    <tr>\n",
       "      <th>13</th>\n",
       "      <td>317</td>\n",
       "      <td>C41401</td>\n",
       "      <td>Alborada_to_Central</td>\n",
       "      <td>2015-08-17 19:56:55</td>\n",
       "      <td>2015-08-17 21:10:58</td>\n",
       "      <td>1:14</td>\n",
       "    </tr>\n",
       "    <tr>\n",
       "      <th>14</th>\n",
       "      <td>317</td>\n",
       "      <td>C41408</td>\n",
       "      <td>Central_to_Alborada</td>\n",
       "      <td>2015-08-17 08:17:38</td>\n",
       "      <td>2015-08-17 09:53:20</td>\n",
       "      <td>1:35</td>\n",
       "    </tr>\n",
       "    <tr>\n",
       "      <th>15</th>\n",
       "      <td>317</td>\n",
       "      <td>C41408</td>\n",
       "      <td>Alborada_to_Central</td>\n",
       "      <td>2015-08-17 10:27:57</td>\n",
       "      <td>2015-08-17 11:50:11</td>\n",
       "      <td>1:22</td>\n",
       "    </tr>\n",
       "    <tr>\n",
       "      <th>16</th>\n",
       "      <td>317</td>\n",
       "      <td>C41408</td>\n",
       "      <td>Central_to_Alborada</td>\n",
       "      <td>2015-08-17 12:23:04</td>\n",
       "      <td>2015-08-17 13:41:06</td>\n",
       "      <td>1:18</td>\n",
       "    </tr>\n",
       "    <tr>\n",
       "      <th>17</th>\n",
       "      <td>317</td>\n",
       "      <td>C41408</td>\n",
       "      <td>Alborada_to_Central</td>\n",
       "      <td>2015-08-17 14:06:52</td>\n",
       "      <td>2015-08-17 15:20:53</td>\n",
       "      <td>1:14</td>\n",
       "    </tr>\n",
       "    <tr>\n",
       "      <th>18</th>\n",
       "      <td>317</td>\n",
       "      <td>C41408</td>\n",
       "      <td>Central_to_Alborada</td>\n",
       "      <td>2015-08-17 15:50:11</td>\n",
       "      <td>2015-08-17 17:38:19</td>\n",
       "      <td>1:48</td>\n",
       "    </tr>\n",
       "    <tr>\n",
       "      <th>19</th>\n",
       "      <td>317</td>\n",
       "      <td>C41408</td>\n",
       "      <td>Alborada_to_Central</td>\n",
       "      <td>2015-08-17 18:00:04</td>\n",
       "      <td>2015-08-17 19:28:48</td>\n",
       "      <td>1:28</td>\n",
       "    </tr>\n",
       "  </tbody>\n",
       "</table>\n",
       "</div>"
      ],
      "text/plain": [
       "   Line  Bus_Id            Direction      Departure_Hour         Arrive_Hour  \\\n",
       "0   317  C41405  Alborada_to_Central 2015-08-17 08:49:48 2015-08-17 10:45:56   \n",
       "1   317  C41405  Central_to_Alborada 2015-08-17 13:12:03 2015-08-17 14:20:17   \n",
       "2   317  C41406  Central_to_Alborada 2015-08-17 07:59:03 2015-08-17 09:27:51   \n",
       "3   317  C41406  Alborada_to_Central 2015-08-17 09:52:02 2015-08-17 11:15:19   \n",
       "4   317  C41406  Central_to_Alborada 2015-08-17 14:52:22 2015-08-17 16:37:11   \n",
       "5   317  C41406  Alborada_to_Central 2015-08-17 17:16:56 2015-08-17 19:02:22   \n",
       "6   317  C41406  Central_to_Alborada 2015-08-17 19:15:48 2015-08-17 20:59:13   \n",
       "7   317  C41406  Alborada_to_Central 2015-08-17 21:17:56 2015-08-17 22:27:21   \n",
       "8   317  C41401  Central_to_Alborada 2015-08-17 08:56:56 2015-08-17 10:30:07   \n",
       "9   317  C41401  Alborada_to_Central 2015-08-17 11:10:03 2015-08-17 12:49:06   \n",
       "10  317  C41401  Central_to_Alborada 2015-08-17 13:17:58 2015-08-17 14:43:21   \n",
       "11  317  C41401  Alborada_to_Central 2015-08-17 15:04:24 2015-08-17 16:22:15   \n",
       "12  317  C41401  Central_to_Alborada 2015-08-17 17:30:18 2015-08-17 19:32:13   \n",
       "13  317  C41401  Alborada_to_Central 2015-08-17 19:56:55 2015-08-17 21:10:58   \n",
       "14  317  C41408  Central_to_Alborada 2015-08-17 08:17:38 2015-08-17 09:53:20   \n",
       "15  317  C41408  Alborada_to_Central 2015-08-17 10:27:57 2015-08-17 11:50:11   \n",
       "16  317  C41408  Central_to_Alborada 2015-08-17 12:23:04 2015-08-17 13:41:06   \n",
       "17  317  C41408  Alborada_to_Central 2015-08-17 14:06:52 2015-08-17 15:20:53   \n",
       "18  317  C41408  Central_to_Alborada 2015-08-17 15:50:11 2015-08-17 17:38:19   \n",
       "19  317  C41408  Alborada_to_Central 2015-08-17 18:00:04 2015-08-17 19:28:48   \n",
       "\n",
       "   Travel_Time  \n",
       "0         1:56  \n",
       "1         1:08  \n",
       "2         1:28  \n",
       "3         1:23  \n",
       "4         1:44  \n",
       "5         1:45  \n",
       "6         1:43  \n",
       "7         1:09  \n",
       "8         1:33  \n",
       "9         1:39  \n",
       "10        1:25  \n",
       "11        1:17  \n",
       "12        2:01  \n",
       "13        1:14  \n",
       "14        1:35  \n",
       "15        1:22  \n",
       "16        1:18  \n",
       "17        1:14  \n",
       "18        1:48  \n",
       "19        1:28  "
      ]
     },
     "execution_count": 20,
     "metadata": {},
     "output_type": "execute_result"
    }
   ],
   "source": [
    "travel_table_20150817 = all_travel_table ('317', inverted_initial_point, 'Central', inverted_final_point, 'Alborada', array_busId)\n",
    "travel_table_20150817"
   ]
  },
  {
   "cell_type": "code",
   "execution_count": 27,
   "metadata": {
    "collapsed": false
   },
   "outputs": [
    {
     "data": {
      "text/html": [
       "<div>\n",
       "<table border=\"1\" class=\"dataframe\">\n",
       "  <thead>\n",
       "    <tr style=\"text-align: right;\">\n",
       "      <th></th>\n",
       "      <th>Line</th>\n",
       "      <th>Bus_Id</th>\n",
       "      <th>Direction</th>\n",
       "      <th>Departure_Hour</th>\n",
       "      <th>Arrive_Hour</th>\n",
       "      <th>Travel_Time</th>\n",
       "    </tr>\n",
       "  </thead>\n",
       "  <tbody>\n",
       "    <tr>\n",
       "      <th>0</th>\n",
       "      <td>317</td>\n",
       "      <td>C41102</td>\n",
       "      <td>Alborada_to_Central</td>\n",
       "      <td>2015-07-27 04:25:57</td>\n",
       "      <td>2015-07-27 05:12:59</td>\n",
       "      <td>0:47</td>\n",
       "    </tr>\n",
       "    <tr>\n",
       "      <th>1</th>\n",
       "      <td>317</td>\n",
       "      <td>C41102</td>\n",
       "      <td>Central_to_Alborada</td>\n",
       "      <td>2015-07-27 05:22:38</td>\n",
       "      <td>2015-07-27 06:42:34</td>\n",
       "      <td>1:19</td>\n",
       "    </tr>\n",
       "    <tr>\n",
       "      <th>2</th>\n",
       "      <td>317</td>\n",
       "      <td>C41102</td>\n",
       "      <td>Alborada_to_Central</td>\n",
       "      <td>2015-07-27 06:50:44</td>\n",
       "      <td>2015-07-27 08:30:42</td>\n",
       "      <td>1:39</td>\n",
       "    </tr>\n",
       "    <tr>\n",
       "      <th>3</th>\n",
       "      <td>317</td>\n",
       "      <td>C41102</td>\n",
       "      <td>Central_to_Alborada</td>\n",
       "      <td>2015-07-27 08:36:32</td>\n",
       "      <td>2015-07-27 10:14:53</td>\n",
       "      <td>1:38</td>\n",
       "    </tr>\n",
       "    <tr>\n",
       "      <th>4</th>\n",
       "      <td>317</td>\n",
       "      <td>C41237</td>\n",
       "      <td>Alborada_to_Central</td>\n",
       "      <td>2015-07-27 08:06:36</td>\n",
       "      <td>2015-07-27 09:48:59</td>\n",
       "      <td>1:42</td>\n",
       "    </tr>\n",
       "    <tr>\n",
       "      <th>5</th>\n",
       "      <td>317</td>\n",
       "      <td>C41237</td>\n",
       "      <td>Central_to_Alborada</td>\n",
       "      <td>2015-07-27 10:01:49</td>\n",
       "      <td>2015-07-27 11:35:05</td>\n",
       "      <td>1:33</td>\n",
       "    </tr>\n",
       "    <tr>\n",
       "      <th>6</th>\n",
       "      <td>317</td>\n",
       "      <td>C41237</td>\n",
       "      <td>Alborada_to_Central</td>\n",
       "      <td>2015-07-27 12:07:50</td>\n",
       "      <td>2015-07-27 13:21:53</td>\n",
       "      <td>1:14</td>\n",
       "    </tr>\n",
       "    <tr>\n",
       "      <th>7</th>\n",
       "      <td>317</td>\n",
       "      <td>C41237</td>\n",
       "      <td>Central_to_Alborada</td>\n",
       "      <td>2015-07-27 13:38:48</td>\n",
       "      <td>2015-07-27 14:51:58</td>\n",
       "      <td>1:13</td>\n",
       "    </tr>\n",
       "    <tr>\n",
       "      <th>8</th>\n",
       "      <td>317</td>\n",
       "      <td>C41237</td>\n",
       "      <td>Alborada_to_Central</td>\n",
       "      <td>2015-07-27 15:10:03</td>\n",
       "      <td>2015-07-27 16:38:51</td>\n",
       "      <td>1:28</td>\n",
       "    </tr>\n",
       "    <tr>\n",
       "      <th>9</th>\n",
       "      <td>317</td>\n",
       "      <td>C41093</td>\n",
       "      <td>Alborada_to_Central</td>\n",
       "      <td>2015-07-27 04:51:50</td>\n",
       "      <td>2015-07-27 05:41:40</td>\n",
       "      <td>0:49</td>\n",
       "    </tr>\n",
       "    <tr>\n",
       "      <th>10</th>\n",
       "      <td>317</td>\n",
       "      <td>C41413</td>\n",
       "      <td>Central_to_Alborada</td>\n",
       "      <td>2015-07-27 09:16:39</td>\n",
       "      <td>2015-07-27 14:27:58</td>\n",
       "      <td>5:11</td>\n",
       "    </tr>\n",
       "    <tr>\n",
       "      <th>11</th>\n",
       "      <td>317</td>\n",
       "      <td>C41413</td>\n",
       "      <td>Alborada_to_Central</td>\n",
       "      <td>2015-07-27 14:30:53</td>\n",
       "      <td>2015-07-27 15:54:41</td>\n",
       "      <td>1:23</td>\n",
       "    </tr>\n",
       "    <tr>\n",
       "      <th>12</th>\n",
       "      <td>317</td>\n",
       "      <td>C41415</td>\n",
       "      <td>Central_to_Alborada</td>\n",
       "      <td>2015-07-27 10:30:51</td>\n",
       "      <td>2015-07-27 12:14:45</td>\n",
       "      <td>1:43</td>\n",
       "    </tr>\n",
       "    <tr>\n",
       "      <th>13</th>\n",
       "      <td>317</td>\n",
       "      <td>C41415</td>\n",
       "      <td>Alborada_to_Central</td>\n",
       "      <td>2015-07-27 12:32:01</td>\n",
       "      <td>2015-07-27 13:43:54</td>\n",
       "      <td>1:11</td>\n",
       "    </tr>\n",
       "    <tr>\n",
       "      <th>14</th>\n",
       "      <td>317</td>\n",
       "      <td>C41415</td>\n",
       "      <td>Central_to_Alborada</td>\n",
       "      <td>2015-07-27 14:03:02</td>\n",
       "      <td>2015-07-27 15:23:59</td>\n",
       "      <td>1:20</td>\n",
       "    </tr>\n",
       "    <tr>\n",
       "      <th>15</th>\n",
       "      <td>317</td>\n",
       "      <td>C41415</td>\n",
       "      <td>Alborada_to_Central</td>\n",
       "      <td>2015-07-27 15:37:41</td>\n",
       "      <td>2015-07-27 17:04:00</td>\n",
       "      <td>1:26</td>\n",
       "    </tr>\n",
       "    <tr>\n",
       "      <th>16</th>\n",
       "      <td>317</td>\n",
       "      <td>C41415</td>\n",
       "      <td>Central_to_Alborada</td>\n",
       "      <td>2015-07-27 17:21:01</td>\n",
       "      <td>2015-07-27 19:00:57</td>\n",
       "      <td>1:39</td>\n",
       "    </tr>\n",
       "    <tr>\n",
       "      <th>17</th>\n",
       "      <td>317</td>\n",
       "      <td>C41390</td>\n",
       "      <td>Alborada_to_Central</td>\n",
       "      <td>2015-07-27 14:35:06</td>\n",
       "      <td>2015-07-27 15:20:36</td>\n",
       "      <td>0:45</td>\n",
       "    </tr>\n",
       "    <tr>\n",
       "      <th>18</th>\n",
       "      <td>317</td>\n",
       "      <td>C41390</td>\n",
       "      <td>Central_to_Alborada</td>\n",
       "      <td>2015-07-27 17:15:31</td>\n",
       "      <td>2015-07-27 18:26:01</td>\n",
       "      <td>1:10</td>\n",
       "    </tr>\n",
       "    <tr>\n",
       "      <th>19</th>\n",
       "      <td>317</td>\n",
       "      <td>C41390</td>\n",
       "      <td>Alborada_to_Central</td>\n",
       "      <td>2015-07-27 19:13:14</td>\n",
       "      <td>2015-07-27 21:54:36</td>\n",
       "      <td>2:41</td>\n",
       "    </tr>\n",
       "    <tr>\n",
       "      <th>20</th>\n",
       "      <td>317</td>\n",
       "      <td>C41390</td>\n",
       "      <td>Central_to_Alborada</td>\n",
       "      <td>2015-07-27 21:56:06</td>\n",
       "      <td>2015-07-27 22:48:36</td>\n",
       "      <td>0:52</td>\n",
       "    </tr>\n",
       "  </tbody>\n",
       "</table>\n",
       "</div>"
      ],
      "text/plain": [
       "   Line  Bus_Id            Direction      Departure_Hour         Arrive_Hour  \\\n",
       "0   317  C41102  Alborada_to_Central 2015-07-27 04:25:57 2015-07-27 05:12:59   \n",
       "1   317  C41102  Central_to_Alborada 2015-07-27 05:22:38 2015-07-27 06:42:34   \n",
       "2   317  C41102  Alborada_to_Central 2015-07-27 06:50:44 2015-07-27 08:30:42   \n",
       "3   317  C41102  Central_to_Alborada 2015-07-27 08:36:32 2015-07-27 10:14:53   \n",
       "4   317  C41237  Alborada_to_Central 2015-07-27 08:06:36 2015-07-27 09:48:59   \n",
       "5   317  C41237  Central_to_Alborada 2015-07-27 10:01:49 2015-07-27 11:35:05   \n",
       "6   317  C41237  Alborada_to_Central 2015-07-27 12:07:50 2015-07-27 13:21:53   \n",
       "7   317  C41237  Central_to_Alborada 2015-07-27 13:38:48 2015-07-27 14:51:58   \n",
       "8   317  C41237  Alborada_to_Central 2015-07-27 15:10:03 2015-07-27 16:38:51   \n",
       "9   317  C41093  Alborada_to_Central 2015-07-27 04:51:50 2015-07-27 05:41:40   \n",
       "10  317  C41413  Central_to_Alborada 2015-07-27 09:16:39 2015-07-27 14:27:58   \n",
       "11  317  C41413  Alborada_to_Central 2015-07-27 14:30:53 2015-07-27 15:54:41   \n",
       "12  317  C41415  Central_to_Alborada 2015-07-27 10:30:51 2015-07-27 12:14:45   \n",
       "13  317  C41415  Alborada_to_Central 2015-07-27 12:32:01 2015-07-27 13:43:54   \n",
       "14  317  C41415  Central_to_Alborada 2015-07-27 14:03:02 2015-07-27 15:23:59   \n",
       "15  317  C41415  Alborada_to_Central 2015-07-27 15:37:41 2015-07-27 17:04:00   \n",
       "16  317  C41415  Central_to_Alborada 2015-07-27 17:21:01 2015-07-27 19:00:57   \n",
       "17  317  C41390  Alborada_to_Central 2015-07-27 14:35:06 2015-07-27 15:20:36   \n",
       "18  317  C41390  Central_to_Alborada 2015-07-27 17:15:31 2015-07-27 18:26:01   \n",
       "19  317  C41390  Alborada_to_Central 2015-07-27 19:13:14 2015-07-27 21:54:36   \n",
       "20  317  C41390  Central_to_Alborada 2015-07-27 21:56:06 2015-07-27 22:48:36   \n",
       "\n",
       "   Travel_Time  \n",
       "0         0:47  \n",
       "1         1:19  \n",
       "2         1:39  \n",
       "3         1:38  \n",
       "4         1:42  \n",
       "5         1:33  \n",
       "6         1:14  \n",
       "7         1:13  \n",
       "8         1:28  \n",
       "9         0:49  \n",
       "10        5:11  \n",
       "11        1:23  \n",
       "12        1:43  \n",
       "13        1:11  \n",
       "14        1:20  \n",
       "15        1:26  \n",
       "16        1:39  \n",
       "17        0:45  \n",
       "18        1:10  \n",
       "19        2:41  \n",
       "20        0:52  "
      ]
     },
     "execution_count": 27,
     "metadata": {},
     "output_type": "execute_result"
    }
   ],
   "source": [
    "#dados relacionados con el mismo omnibus 317 pero el dia 27/07/2015 \n",
    "df_20150727 = pd.read_csv('/home/kathrin/Doctorado/bus_rio/Datos_Omnibus/morte_motoqueiro_20150817/20150727.txt', delimiter = ('\\t'))\n",
    "bus_id_20150727_317 = db.dados20150727_line_317.distinct(\"bus_id\")\n",
    "\n",
    "array_busId_20150727 = get_busId_list(bus_id_20150727_317)\n",
    "travel_table_20150727 = all_travel_table ('317', inverted_initial_point, 'Alborada', inverted_final_point, 'Central', array_busId_20150727)\n",
    "travel_table_20150727\n"
   ]
  },
  {
   "cell_type": "code",
   "execution_count": 28,
   "metadata": {
    "collapsed": false
   },
   "outputs": [],
   "source": [
    "df_20150817_line_317_C41405 = df_20150817_line_317[(df_20150817_line_317['bus_id']=='C41405')]\n",
    "#para seleccionar solo algunas columnas del dataframe, en este caso la columna 1(timestamp), la 4(latitude) y la 5(longitude)\n",
    "important_columns_C41405 = df_20150817_line_317_C41405 .iloc[:,[0,3,4]]\n",
    "vector_C41405 = important_columns_C41405.values.tolist()"
   ]
  },
  {
   "cell_type": "code",
   "execution_count": 22,
   "metadata": {
    "collapsed": true
   },
   "outputs": [],
   "source": [
    "#Funcion para calcular la distancia entre 2 puntos, teniendo en cuenta el radio de la tierra\n",
    "from math import radians, cos, sin, asin, sqrt\n",
    "\n",
    "def haversine(lon1, lat1, lon2, lat2):\n",
    "    \"\"\"\n",
    "    Calculate the great circle distance between two points \n",
    "    on the earth (specified in decimal degrees)\n",
    "    \"\"\"\n",
    "    # convert decimal degrees to radians \n",
    "    lon1, lat1, lon2, lat2 = map(radians, [lon1, lat1, lon2, lat2])\n",
    "\n",
    "    # haversine formula \n",
    "    dlon = lon2 - lon1 \n",
    "    dlat = lat2 - lat1 \n",
    "    a = sin(dlat/2)**2 + cos(lat1) * cos(lat2) * sin(dlon/2)**2\n",
    "    c = 2 * asin(sqrt(a)) \n",
    "    r = 6371 # Radius of earth in kilometers. Use 3956 for miles\n",
    "    return (c * r)*1000 # return the distance in m"
   ]
  },
  {
   "cell_type": "code",
   "execution_count": 23,
   "metadata": {
    "collapsed": true
   },
   "outputs": [],
   "source": [
    "\"\"\"\n",
    "funcion que dado un vector de lat, long y un punto A(lat,long), me devuelve un vector con\n",
    "la distancia de cada par al punto A\n",
    " \"\"\"\n",
    "def vector_distancia(vector, point):\n",
    "    vector_distance = []\n",
    "    lat2 = point[0]\n",
    "    long2 = point[1]\n",
    "    for item in vector:\n",
    "        lat1 = item[1]\n",
    "        long1 = item[2]\n",
    "        distance = haversine(long2, lat2, long1, lat1)\n",
    "        latlon = (item[1], item[2])\n",
    "        vector_distance.insert(len(vector_distance), [item[0],latlon, distance])\n",
    "    df_vector_distance = pd.DataFrame(vector_distance, columns=['timestamp', 'latlon', 'distance'])\n",
    "    return df_vector_distance   "
   ]
  },
  {
   "cell_type": "code",
   "execution_count": 24,
   "metadata": {
    "collapsed": false
   },
   "outputs": [],
   "source": [
    "vector_dist_to_ini_point_C41405 = vector_distancia(vector_C41405, initial_point)\n",
    "sorted_vector_dist_to_ini_point_C41405 = vector_dist_to_ini_point_C41405.sort([\"timestamp\"])\n",
    "\n",
    "vector_dist_to_final_point_C41405  = vector_distancia(vector_C41405, final_point)\n",
    "sorted_vector_dist_to_final_point_C41405 = vector_dist_to_final_point_C41405.sort([\"timestamp\"])"
   ]
  },
  {
   "cell_type": "code",
   "execution_count": 25,
   "metadata": {
    "collapsed": false
   },
   "outputs": [
    {
     "data": {
      "image/png": "[encoded data removed]",
      "text/plain": [
       "<matplotlib.figure.Figure at 0x7f7b99a35790>"
      ]
     },
     "metadata": {},
     "output_type": "display_data"
    }
   ],
   "source": [
    "#ploteando el vector distancia entre cada uno de los puntos del recorrido y el punto inicial Barra\n",
    "%matplotlib inline\n",
    "plt.plot(sorted_vector_dist_to_ini_point_C41405['distance'], color = 'b')\n",
    "plt.show()"
   ]
  },
  {
   "cell_type": "code",
   "execution_count": 38,
   "metadata": {
    "collapsed": false,
    "scrolled": false
   },
   "outputs": [
    {
     "data": {
      "image/png": "[encoded data removed]",
      "text/plain": [
       "<matplotlib.figure.Figure at 0x7f9c59d4ac90>"
      ]
     },
     "metadata": {},
     "output_type": "display_data"
    }
   ],
   "source": [
    "#ploteando el vector distancia entre cada uno de los puntos del recorrido y el punto final Central\n",
    "%matplotlib inline\n",
    "plt.plot(sorted_vector_dist_to_final_point_C41405['distance'], color = 'g')\n",
    "\n",
    "plt.show()"
   ]
  },
  {
   "cell_type": "code",
   "execution_count": 29,
   "metadata": {
    "collapsed": false
   },
   "outputs": [
    {
     "data": {
      "text/html": [
       "<iframe id=\"igraph\" scrolling=\"no\" style=\"border:none;\"seamless=\"seamless\" src=\"https://plot.ly/~kllanes/7.embed\" height=\"525px\" width=\"100%\"></iframe>"
      ],
      "text/plain": [
       "<plotly.tools.PlotlyDisplay object>"
      ]
     },
     "execution_count": 29,
     "metadata": {},
     "output_type": "execute_result"
    }
   ],
   "source": [
    "#hacer una grafica interactiva con la libreria de python (plotly.plotly). Se instala por consola asi: sudo pip install plotly\n",
    "#distancia del punto final (central)\n",
    "\n",
    "trace_C41405 = Scatter(x = sorted_vector_dist_to_ini_point_C41405['timestamp'], y = sorted_vector_dist_to_ini_point_C41405['distance'])\n",
    "data = Data([trace_C41405])\n",
    "py.iplot(data, filename='pandas-time-series')"
   ]
  },
  {
   "cell_type": "code",
   "execution_count": 51,
   "metadata": {
    "collapsed": false
   },
   "outputs": [
    {
     "data": {
      "text/html": [
       "<iframe id=\"igraph\" scrolling=\"no\" style=\"border:none;\"seamless=\"seamless\" src=\"https://plot.ly/~kllanes/7.embed\" height=\"525px\" width=\"100%\"></iframe>"
      ],
      "text/plain": [
       "<plotly.tools.PlotlyDisplay object>"
      ]
     },
     "execution_count": 51,
     "metadata": {},
     "output_type": "execute_result"
    }
   ],
   "source": [
    "#hacer una grafica interactiva con la libreria de python (plotly.plotly). Se instala por consola asi: sudo pip install plotly\n",
    "#distancia del punto final (central)\n",
    "\n",
    "trace_C41405 = Scatter(x = sorted_vector_dist_to_final_point_C41405['timestamp'], y = sorted_vector_dist_to_final_point_C41405['distance'])\n",
    "data = Data([trace_C41405])\n",
    "py.iplot(data, filename='pandas-time-series')"
   ]
  },
  {
   "cell_type": "code",
   "execution_count": 64,
   "metadata": {
    "collapsed": false
   },
   "outputs": [],
   "source": [
    "sorted_near_initial_points_C41405 = near_points_to_origin ('C41405', inverted_initial_point)\n",
    "sorted_near_final_points_C41405 = near_points_to_origin ('C41405', inverted_final_point)\n",
    "\n",
    "initial_points_timestamp = sorted_near_initial_points_C41405['timestamp']\n",
    "final_points_timestamp = sorted_near_final_points_C41405['timestamp']\n",
    "\n",
    "initial_departure_hours = bus_departure_hour(initial_points_timestamp)\n",
    "final_departure_hours = bus_departure_hour(final_points_timestamp)\n",
    "\n",
    "arrive_hour_to_initialpoint = bus_arrive_hour(initial_points_timestamp)\n",
    "arrive_hour_to_finalpoint = bus_arrive_hour(final_points_timestamp)\n",
    "\n"
   ]
  },
  {
   "cell_type": "code",
   "execution_count": 54,
   "metadata": {
    "collapsed": false,
    "scrolled": true
   },
   "outputs": [
    {
     "data": {
      "text/html": [
       "<div>\n",
       "<table border=\"1\" class=\"dataframe\">\n",
       "  <thead>\n",
       "    <tr style=\"text-align: right;\">\n",
       "      <th></th>\n",
       "      <th>Line</th>\n",
       "      <th>Bus_Id</th>\n",
       "      <th>Direction</th>\n",
       "      <th>Departure_Hour</th>\n",
       "      <th>Arrive_Hour</th>\n",
       "      <th>Travel_Time</th>\n",
       "    </tr>\n",
       "  </thead>\n",
       "  <tbody>\n",
       "    <tr>\n",
       "      <th>0</th>\n",
       "      <td>317</td>\n",
       "      <td>C41405</td>\n",
       "      <td>Alborada_to_Central</td>\n",
       "      <td>2015-08-17 08:49:48</td>\n",
       "      <td>2015-08-17 10:45:56</td>\n",
       "      <td>1:56</td>\n",
       "    </tr>\n",
       "    <tr>\n",
       "      <th>1</th>\n",
       "      <td>317</td>\n",
       "      <td>C41405</td>\n",
       "      <td>Central_to_Alborada</td>\n",
       "      <td>2015-08-17 13:12:03</td>\n",
       "      <td>2015-08-17 14:20:17</td>\n",
       "      <td>1:08</td>\n",
       "    </tr>\n",
       "  </tbody>\n",
       "</table>\n",
       "</div>"
      ],
      "text/plain": [
       "  Line  Bus_Id            Direction      Departure_Hour         Arrive_Hour  \\\n",
       "0  317  C41405  Alborada_to_Central 2015-08-17 08:49:48 2015-08-17 10:45:56   \n",
       "1  317  C41405  Central_to_Alborada 2015-08-17 13:12:03 2015-08-17 14:20:17   \n",
       "\n",
       "  Travel_Time  \n",
       "0        1:56  \n",
       "1        1:08  "
      ]
     },
     "execution_count": 54,
     "metadata": {},
     "output_type": "execute_result"
    }
   ],
   "source": [
    "travel_table_C41405 = create_travel_table(\"Central\", arrive_hour_to_initialpoint, initial_departure_hours, \"Alborada\", arrive_hour_to_finalpoint, final_departure_hours, 'C41405', '317' )\n",
    "travel_table_C41405"
   ]
  },
  {
   "cell_type": "code",
   "execution_count": 55,
   "metadata": {
    "collapsed": false
   },
   "outputs": [],
   "source": [
    "#lo mismo para el bus_id C41406\n",
    "df_20150817_line_317_C41406 = df_20150817_line_317[(df_20150817_line_317['bus_id']=='C41406')]\n",
    "#para seleccionar solo algunas columnas del dataframe, en este caso la columna 1(timestamp), la 4(latitude) y la 5(longitude)\n",
    "important_columns_C41406 = df_20150817_line_317_C41406.iloc[:,[0,3,4]]\n",
    "vector_C41406 = important_columns_C41406.values.tolist()\n",
    "\n",
    "vector_dist_to_ini_point_C41406 = vector_distancia(vector_C41406, initial_point)\n",
    "sorted_vector_dist_to_ini_point_C41406 = vector_dist_to_ini_point_C41406.sort([\"timestamp\"])\n",
    "\n",
    "vector_dist_to_final_point_C41406  = vector_distancia(vector_C41406, final_point)\n",
    "sorted_vector_dist_to_final_point_C41406 = vector_dist_to_final_point_C41406.sort([\"timestamp\"])"
   ]
  },
  {
   "cell_type": "code",
   "execution_count": 56,
   "metadata": {
    "collapsed": false,
    "scrolled": false
   },
   "outputs": [
    {
     "data": {
      "text/html": [
       "<iframe id=\"igraph\" scrolling=\"no\" style=\"border:none;\"seamless=\"seamless\" src=\"https://plot.ly/~kllanes/7.embed\" height=\"525px\" width=\"100%\"></iframe>"
      ],
      "text/plain": [
       "<plotly.tools.PlotlyDisplay object>"
      ]
     },
     "execution_count": 56,
     "metadata": {},
     "output_type": "execute_result"
    }
   ],
   "source": [
    "#hacer una grafica interactiva con la libreria de python (plotly.plotly). Se instala por consola asi: sudo pip install plotly\n",
    "#distancia del punto final (central)\n",
    "\n",
    "trace_C41406 = Scatter(x = sorted_vector_dist_to_ini_point_C41406['timestamp'], y = sorted_vector_dist_to_ini_point_C41406['distance'])\n",
    "data = Data([trace_C41406])\n",
    "py.iplot(data, filename='pandas-time-series')"
   ]
  },
  {
   "cell_type": "code",
   "execution_count": 58,
   "metadata": {
    "collapsed": false,
    "scrolled": true
   },
   "outputs": [
    {
     "data": {
      "text/html": [
       "<div>\n",
       "<table border=\"1\" class=\"dataframe\">\n",
       "  <thead>\n",
       "    <tr style=\"text-align: right;\">\n",
       "      <th></th>\n",
       "      <th>Line</th>\n",
       "      <th>Bus_Id</th>\n",
       "      <th>Direction</th>\n",
       "      <th>Departure_Hour</th>\n",
       "      <th>Arrive_Hour</th>\n",
       "      <th>Travel_Time</th>\n",
       "    </tr>\n",
       "  </thead>\n",
       "  <tbody>\n",
       "    <tr>\n",
       "      <th>0</th>\n",
       "      <td>317</td>\n",
       "      <td>C41406</td>\n",
       "      <td>Central_to_Alborada</td>\n",
       "      <td>2015-08-17 07:59:03</td>\n",
       "      <td>2015-08-17 09:27:51</td>\n",
       "      <td>1:28</td>\n",
       "    </tr>\n",
       "    <tr>\n",
       "      <th>1</th>\n",
       "      <td>317</td>\n",
       "      <td>C41406</td>\n",
       "      <td>Alborada_to_Central</td>\n",
       "      <td>2015-08-17 09:52:02</td>\n",
       "      <td>2015-08-17 11:15:19</td>\n",
       "      <td>1:23</td>\n",
       "    </tr>\n",
       "    <tr>\n",
       "      <th>2</th>\n",
       "      <td>317</td>\n",
       "      <td>C41406</td>\n",
       "      <td>Central_to_Alborada</td>\n",
       "      <td>2015-08-17 14:52:22</td>\n",
       "      <td>2015-08-17 16:37:11</td>\n",
       "      <td>1:44</td>\n",
       "    </tr>\n",
       "    <tr>\n",
       "      <th>3</th>\n",
       "      <td>317</td>\n",
       "      <td>C41406</td>\n",
       "      <td>Alborada_to_Central</td>\n",
       "      <td>2015-08-17 17:16:56</td>\n",
       "      <td>2015-08-17 19:02:22</td>\n",
       "      <td>1:45</td>\n",
       "    </tr>\n",
       "    <tr>\n",
       "      <th>4</th>\n",
       "      <td>317</td>\n",
       "      <td>C41406</td>\n",
       "      <td>Central_to_Alborada</td>\n",
       "      <td>2015-08-17 19:15:48</td>\n",
       "      <td>2015-08-17 20:59:13</td>\n",
       "      <td>1:43</td>\n",
       "    </tr>\n",
       "    <tr>\n",
       "      <th>5</th>\n",
       "      <td>317</td>\n",
       "      <td>C41406</td>\n",
       "      <td>Alborada_to_Central</td>\n",
       "      <td>2015-08-17 21:17:56</td>\n",
       "      <td>2015-08-17 22:27:21</td>\n",
       "      <td>1:09</td>\n",
       "    </tr>\n",
       "  </tbody>\n",
       "</table>\n",
       "</div>"
      ],
      "text/plain": [
       "  Line  Bus_Id            Direction      Departure_Hour         Arrive_Hour  \\\n",
       "0  317  C41406  Central_to_Alborada 2015-08-17 07:59:03 2015-08-17 09:27:51   \n",
       "1  317  C41406  Alborada_to_Central 2015-08-17 09:52:02 2015-08-17 11:15:19   \n",
       "2  317  C41406  Central_to_Alborada 2015-08-17 14:52:22 2015-08-17 16:37:11   \n",
       "3  317  C41406  Alborada_to_Central 2015-08-17 17:16:56 2015-08-17 19:02:22   \n",
       "4  317  C41406  Central_to_Alborada 2015-08-17 19:15:48 2015-08-17 20:59:13   \n",
       "5  317  C41406  Alborada_to_Central 2015-08-17 21:17:56 2015-08-17 22:27:21   \n",
       "\n",
       "  Travel_Time  \n",
       "0        1:28  \n",
       "1        1:23  \n",
       "2        1:44  \n",
       "3        1:45  \n",
       "4        1:43  \n",
       "5        1:09  "
      ]
     },
     "execution_count": 58,
     "metadata": {},
     "output_type": "execute_result"
    }
   ],
   "source": [
    "sorted_near_initial_points_C41406 = near_points_to_origin ('C41406', inverted_initial_point)\n",
    "sorted_near_final_points_C41406 = near_points_to_origin ('C41406', inverted_final_point)\n",
    "\n",
    "initial_points_timestamp_C41406 = sorted_near_initial_points_C41406['timestamp']\n",
    "final_points_timestamp_C41406 = sorted_near_final_points_C41406['timestamp']\n",
    "\n",
    "initial_departure_hours_C41406 = bus_departure_hour(initial_points_timestamp_C41406)\n",
    "final_departure_hours_C41406 = bus_departure_hour(final_points_timestamp_C41406)\n",
    "\n",
    "arrive_hour_to_initialpoint_C41406 = bus_arrive_hour(initial_points_timestamp_C41406)\n",
    "arrive_hour_to_finalpoint_C41406 = bus_arrive_hour(final_points_timestamp_C41406)\n",
    "\n",
    "travel_table_C41406 = create_travel_table(\"Central\", arrive_hour_to_initialpoint_C41406, initial_departure_hours_C41406, \"Alborada\", arrive_hour_to_finalpoint_C41406, final_departure_hours_C41406, 'C41406', '317' )\n",
    "travel_table_C41406"
   ]
  },
  {
   "cell_type": "code",
   "execution_count": 59,
   "metadata": {
    "collapsed": true
   },
   "outputs": [],
   "source": [
    "#lo mismo para el bus_id C41408\n",
    "df_20150817_line_317_C41408 = df_20150817_line_317[(df_20150817_line_317['bus_id']=='C41408')]\n",
    "#para seleccionar solo algunas columnas del dataframe, en este caso la columna 1(timestamp), la 4(latitude) y la 5(longitude)\n",
    "important_columns_C41408 = df_20150817_line_317_C41408.iloc[:,[0,3,4]]\n",
    "vector_C41408 = important_columns_C41408.values.tolist()\n",
    "\n",
    "vector_dist_to_ini_point_C41408 = vector_distancia(vector_C41408, initial_point)\n",
    "sorted_vector_dist_to_ini_point_C41408 = vector_dist_to_ini_point_C41408.sort([\"timestamp\"])\n",
    "\n",
    "vector_dist_to_final_point_C41408  = vector_distancia(vector_C41408, final_point)\n",
    "sorted_vector_dist_to_final_point_C41408 = vector_dist_to_final_point_C41408.sort([\"timestamp\"])"
   ]
  },
  {
   "cell_type": "code",
   "execution_count": 37,
   "metadata": {
    "collapsed": false
   },
   "outputs": [
    {
     "data": {
      "text/html": [
       "<iframe id=\"igraph\" scrolling=\"no\" style=\"border:none;\"seamless=\"seamless\" src=\"https://plot.ly/~kllanes/7.embed\" height=\"525px\" width=\"100%\"></iframe>"
      ],
      "text/plain": [
       "<plotly.tools.PlotlyDisplay object>"
      ]
     },
     "execution_count": 37,
     "metadata": {},
     "output_type": "execute_result"
    }
   ],
   "source": [
    "#hacer una grafica interactiva con la libreria de python (plotly.plotly). Se instala por consola asi: sudo pip install plotly\n",
    "#distancia del punto final (central)\n",
    "\n",
    "trace_C41408 = Scatter(x = sorted_vector_dist_to_ini_point_C41408['timestamp'], y = sorted_vector_dist_to_ini_point_C41408['distance'])\n",
    "data = Data([trace_C41408])\n",
    "py.iplot(data, filename='pandas-time-series')"
   ]
  },
  {
   "cell_type": "code",
   "execution_count": 60,
   "metadata": {
    "collapsed": false,
    "scrolled": true
   },
   "outputs": [
    {
     "data": {
      "text/html": [
       "<div>\n",
       "<table border=\"1\" class=\"dataframe\">\n",
       "  <thead>\n",
       "    <tr style=\"text-align: right;\">\n",
       "      <th></th>\n",
       "      <th>Line</th>\n",
       "      <th>Bus_Id</th>\n",
       "      <th>Direction</th>\n",
       "      <th>Departure_Hour</th>\n",
       "      <th>Arrive_Hour</th>\n",
       "      <th>Travel_Time</th>\n",
       "    </tr>\n",
       "  </thead>\n",
       "  <tbody>\n",
       "    <tr>\n",
       "      <th>0</th>\n",
       "      <td>317</td>\n",
       "      <td>C41408</td>\n",
       "      <td>Central_to_Alborada</td>\n",
       "      <td>2015-08-17 08:17:38</td>\n",
       "      <td>2015-08-17 09:53:20</td>\n",
       "      <td>1:35</td>\n",
       "    </tr>\n",
       "    <tr>\n",
       "      <th>1</th>\n",
       "      <td>317</td>\n",
       "      <td>C41408</td>\n",
       "      <td>Alborada_to_Central</td>\n",
       "      <td>2015-08-17 10:27:57</td>\n",
       "      <td>2015-08-17 11:50:11</td>\n",
       "      <td>1:22</td>\n",
       "    </tr>\n",
       "    <tr>\n",
       "      <th>2</th>\n",
       "      <td>317</td>\n",
       "      <td>C41408</td>\n",
       "      <td>Central_to_Alborada</td>\n",
       "      <td>2015-08-17 12:23:04</td>\n",
       "      <td>2015-08-17 13:41:06</td>\n",
       "      <td>1:18</td>\n",
       "    </tr>\n",
       "    <tr>\n",
       "      <th>3</th>\n",
       "      <td>317</td>\n",
       "      <td>C41408</td>\n",
       "      <td>Alborada_to_Central</td>\n",
       "      <td>2015-08-17 14:06:52</td>\n",
       "      <td>2015-08-17 15:20:53</td>\n",
       "      <td>1:14</td>\n",
       "    </tr>\n",
       "    <tr>\n",
       "      <th>4</th>\n",
       "      <td>317</td>\n",
       "      <td>C41408</td>\n",
       "      <td>Central_to_Alborada</td>\n",
       "      <td>2015-08-17 15:50:11</td>\n",
       "      <td>2015-08-17 17:38:19</td>\n",
       "      <td>1:48</td>\n",
       "    </tr>\n",
       "    <tr>\n",
       "      <th>5</th>\n",
       "      <td>317</td>\n",
       "      <td>C41408</td>\n",
       "      <td>Alborada_to_Central</td>\n",
       "      <td>2015-08-17 18:00:04</td>\n",
       "      <td>2015-08-17 19:28:48</td>\n",
       "      <td>1:28</td>\n",
       "    </tr>\n",
       "  </tbody>\n",
       "</table>\n",
       "</div>"
      ],
      "text/plain": [
       "  Line  Bus_Id            Direction      Departure_Hour         Arrive_Hour  \\\n",
       "0  317  C41408  Central_to_Alborada 2015-08-17 08:17:38 2015-08-17 09:53:20   \n",
       "1  317  C41408  Alborada_to_Central 2015-08-17 10:27:57 2015-08-17 11:50:11   \n",
       "2  317  C41408  Central_to_Alborada 2015-08-17 12:23:04 2015-08-17 13:41:06   \n",
       "3  317  C41408  Alborada_to_Central 2015-08-17 14:06:52 2015-08-17 15:20:53   \n",
       "4  317  C41408  Central_to_Alborada 2015-08-17 15:50:11 2015-08-17 17:38:19   \n",
       "5  317  C41408  Alborada_to_Central 2015-08-17 18:00:04 2015-08-17 19:28:48   \n",
       "\n",
       "  Travel_Time  \n",
       "0        1:35  \n",
       "1        1:22  \n",
       "2        1:18  \n",
       "3        1:14  \n",
       "4        1:48  \n",
       "5        1:28  "
      ]
     },
     "execution_count": 60,
     "metadata": {},
     "output_type": "execute_result"
    }
   ],
   "source": [
    "sorted_near_initial_points_C41408 = near_points_to_origin ('C41408', inverted_initial_point)\n",
    "sorted_near_final_points_C41408 = near_points_to_origin ('C41408', inverted_final_point)\n",
    "\n",
    "initial_points_timestamp_C41408 = sorted_near_initial_points_C41408['timestamp']\n",
    "final_points_timestamp_C41408 = sorted_near_final_points_C41408['timestamp']\n",
    "\n",
    "initial_departure_hours_C41408 = bus_departure_hour(initial_points_timestamp_C41408)\n",
    "final_departure_hours_C41408 = bus_departure_hour(final_points_timestamp_C41408)\n",
    "\n",
    "arrive_hour_to_initialpoint_C41408 = bus_arrive_hour(initial_points_timestamp_C41408)\n",
    "arrive_hour_to_finalpoint_C41408 = bus_arrive_hour(final_points_timestamp_C41408)\n",
    "\n",
    "travel_table_C41408 = create_travel_table(\"Central\", arrive_hour_to_initialpoint_C41408, initial_departure_hours_C41408, \"Alborada\", arrive_hour_to_finalpoint_C41408, final_departure_hours_C41408, 'C41408', '317' )\n",
    "travel_table_C41408"
   ]
  },
  {
   "cell_type": "code",
   "execution_count": 61,
   "metadata": {
    "collapsed": true
   },
   "outputs": [],
   "source": [
    "#lo mismo para el bus_id C41401\n",
    "df_20150817_line_317_C41401 = df_20150817_line_317[(df_20150817_line_317['bus_id']=='C41401')]\n",
    "#para seleccionar solo algunas columnas del dataframe, en este caso la columna 1(timestamp), la 4(latitude) y la 5(longitude)\n",
    "important_columns_C41401 = df_20150817_line_317_C41401.iloc[:,[0,3,4]]\n",
    "vector_C41401 = important_columns_C41401.values.tolist()\n",
    "\n",
    "vector_dist_to_ini_point_C41401 = vector_distancia(vector_C41401, initial_point)\n",
    "sorted_vector_dist_to_ini_point_C41401 = vector_dist_to_ini_point_C41401.sort([\"timestamp\"])\n",
    "\n",
    "vector_dist_to_final_point_C41401  = vector_distancia(vector_C41401, final_point)\n",
    "sorted_vector_dist_to_final_point_C41401 = vector_dist_to_final_point_C41401.sort([\"timestamp\"])"
   ]
  },
  {
   "cell_type": "code",
   "execution_count": 39,
   "metadata": {
    "collapsed": false,
    "scrolled": true
   },
   "outputs": [
    {
     "data": {
      "text/html": [
       "<iframe id=\"igraph\" scrolling=\"no\" style=\"border:none;\"seamless=\"seamless\" src=\"https://plot.ly/~kllanes/7.embed\" height=\"525px\" width=\"100%\"></iframe>"
      ],
      "text/plain": [
       "<plotly.tools.PlotlyDisplay object>"
      ]
     },
     "execution_count": 39,
     "metadata": {},
     "output_type": "execute_result"
    }
   ],
   "source": [
    "#hacer una grafica interactiva con la libreria de python (plotly.plotly). Se instala por consola asi: sudo pip install plotly\n",
    "#distancia del punto final (central)\n",
    "\n",
    "trace_C41401 = Scatter(x = sorted_vector_dist_to_ini_point_C41401['timestamp'], y = sorted_vector_dist_to_ini_point_C41401['distance'])\n",
    "data = Data([trace_C41401])\n",
    "py.iplot(data, filename='pandas-time-series')"
   ]
  },
  {
   "cell_type": "code",
   "execution_count": 62,
   "metadata": {
    "collapsed": false,
    "scrolled": true
   },
   "outputs": [
    {
     "data": {
      "text/html": [
       "<div>\n",
       "<table border=\"1\" class=\"dataframe\">\n",
       "  <thead>\n",
       "    <tr style=\"text-align: right;\">\n",
       "      <th></th>\n",
       "      <th>Line</th>\n",
       "      <th>Bus_Id</th>\n",
       "      <th>Direction</th>\n",
       "      <th>Departure_Hour</th>\n",
       "      <th>Arrive_Hour</th>\n",
       "      <th>Travel_Time</th>\n",
       "    </tr>\n",
       "  </thead>\n",
       "  <tbody>\n",
       "    <tr>\n",
       "      <th>0</th>\n",
       "      <td>317</td>\n",
       "      <td>C41401</td>\n",
       "      <td>Central_to_Alborada</td>\n",
       "      <td>2015-08-17 08:56:56</td>\n",
       "      <td>2015-08-17 10:30:07</td>\n",
       "      <td>1:33</td>\n",
       "    </tr>\n",
       "    <tr>\n",
       "      <th>1</th>\n",
       "      <td>317</td>\n",
       "      <td>C41401</td>\n",
       "      <td>Alborada_to_Central</td>\n",
       "      <td>2015-08-17 11:10:03</td>\n",
       "      <td>2015-08-17 12:49:06</td>\n",
       "      <td>1:39</td>\n",
       "    </tr>\n",
       "    <tr>\n",
       "      <th>2</th>\n",
       "      <td>317</td>\n",
       "      <td>C41401</td>\n",
       "      <td>Central_to_Alborada</td>\n",
       "      <td>2015-08-17 13:17:58</td>\n",
       "      <td>2015-08-17 14:43:21</td>\n",
       "      <td>1:25</td>\n",
       "    </tr>\n",
       "    <tr>\n",
       "      <th>3</th>\n",
       "      <td>317</td>\n",
       "      <td>C41401</td>\n",
       "      <td>Alborada_to_Central</td>\n",
       "      <td>2015-08-17 15:04:24</td>\n",
       "      <td>2015-08-17 16:22:15</td>\n",
       "      <td>1:17</td>\n",
       "    </tr>\n",
       "    <tr>\n",
       "      <th>4</th>\n",
       "      <td>317</td>\n",
       "      <td>C41401</td>\n",
       "      <td>Central_to_Alborada</td>\n",
       "      <td>2015-08-17 17:30:18</td>\n",
       "      <td>2015-08-17 19:32:13</td>\n",
       "      <td>2:01</td>\n",
       "    </tr>\n",
       "    <tr>\n",
       "      <th>5</th>\n",
       "      <td>317</td>\n",
       "      <td>C41401</td>\n",
       "      <td>Alborada_to_Central</td>\n",
       "      <td>2015-08-17 19:56:55</td>\n",
       "      <td>2015-08-17 21:10:58</td>\n",
       "      <td>1:14</td>\n",
       "    </tr>\n",
       "  </tbody>\n",
       "</table>\n",
       "</div>"
      ],
      "text/plain": [
       "  Line  Bus_Id            Direction      Departure_Hour         Arrive_Hour  \\\n",
       "0  317  C41401  Central_to_Alborada 2015-08-17 08:56:56 2015-08-17 10:30:07   \n",
       "1  317  C41401  Alborada_to_Central 2015-08-17 11:10:03 2015-08-17 12:49:06   \n",
       "2  317  C41401  Central_to_Alborada 2015-08-17 13:17:58 2015-08-17 14:43:21   \n",
       "3  317  C41401  Alborada_to_Central 2015-08-17 15:04:24 2015-08-17 16:22:15   \n",
       "4  317  C41401  Central_to_Alborada 2015-08-17 17:30:18 2015-08-17 19:32:13   \n",
       "5  317  C41401  Alborada_to_Central 2015-08-17 19:56:55 2015-08-17 21:10:58   \n",
       "\n",
       "  Travel_Time  \n",
       "0        1:33  \n",
       "1        1:39  \n",
       "2        1:25  \n",
       "3        1:17  \n",
       "4        2:01  \n",
       "5        1:14  "
      ]
     },
     "execution_count": 62,
     "metadata": {},
     "output_type": "execute_result"
    }
   ],
   "source": [
    "sorted_near_initial_points_C41401 = near_points_to_origin ('C41401', inverted_initial_point)\n",
    "sorted_near_final_points_C41401 = near_points_to_origin ('C41401', inverted_final_point)\n",
    "\n",
    "initial_points_timestamp_C41401 = sorted_near_initial_points_C41401['timestamp']\n",
    "final_points_timestamp_C41401 = sorted_near_final_points_C41401['timestamp']\n",
    "\n",
    "initial_departure_hours_C41401 = bus_departure_hour(initial_points_timestamp_C41401)\n",
    "final_departure_hours_C41401 = bus_departure_hour(final_points_timestamp_C41401)\n",
    "\n",
    "arrive_hour_to_initialpoint_C41401 = bus_arrive_hour(initial_points_timestamp_C41401)\n",
    "arrive_hour_to_finalpoint_C41401 = bus_arrive_hour(final_points_timestamp_C41401)\n",
    "\n",
    "travel_table_C41401 = create_travel_table(\"Central\", arrive_hour_to_initialpoint_C41401, initial_departure_hours_C41401, \"Alborada\", arrive_hour_to_finalpoint_C41401, final_departure_hours_C41401, 'C41401', '317' )\n",
    "travel_table_C41401"
   ]
  },
  {
   "cell_type": "code",
   "execution_count": 43,
   "metadata": {
    "collapsed": false,
    "scrolled": true
   },
   "outputs": [
    {
     "data": {
      "text/html": [
       "<iframe id=\"igraph\" scrolling=\"no\" style=\"border:none;\"seamless=\"seamless\" src=\"https://plot.ly/~kllanes/5.embed\" height=\"525px\" width=\"100%\"></iframe>"
      ],
      "text/plain": [
       "<plotly.tools.PlotlyDisplay object>"
      ]
     },
     "execution_count": 43,
     "metadata": {},
     "output_type": "execute_result"
    }
   ],
   "source": [
    "import plotly.plotly as py\n",
    "from plotly.graph_objs import *\n",
    "\n",
    "trace0 = Scatter(\n",
    "  x=[1, 2, 3, 4],\n",
    "  y=[10, 15, 13, 17]\n",
    ")\n",
    "trace1 = Scatter(\n",
    "  x=[1, 2, 3, 4],\n",
    "  y=[16, 5, 11, 9]\n",
    ")\n",
    "data = Data([trace0, trace1])\n",
    "\n",
    "py.iplot(data, filename = 'basic-line')"
   ]
  },
  {
   "cell_type": "code",
   "execution_count": 30,
   "metadata": {
    "collapsed": false
   },
   "outputs": [
    {
     "data": {
      "text/html": [
       "<div>\n",
       "<table border=\"1\" class=\"dataframe\">\n",
       "  <thead>\n",
       "    <tr style=\"text-align: right;\">\n",
       "      <th></th>\n",
       "      <th>Line</th>\n",
       "      <th>Bus_Id</th>\n",
       "      <th>Direction</th>\n",
       "      <th>Departure_Hour</th>\n",
       "      <th>Arrive_Hour</th>\n",
       "      <th>Travel_Time</th>\n",
       "    </tr>\n",
       "  </thead>\n",
       "  <tbody>\n",
       "    <tr>\n",
       "      <th>1</th>\n",
       "      <td>317</td>\n",
       "      <td>C41102</td>\n",
       "      <td>Central_to_Alborada</td>\n",
       "      <td>2015-07-27 05:22:38</td>\n",
       "      <td>2015-07-27 06:42:34</td>\n",
       "      <td>1:19</td>\n",
       "    </tr>\n",
       "    <tr>\n",
       "      <th>3</th>\n",
       "      <td>317</td>\n",
       "      <td>C41102</td>\n",
       "      <td>Central_to_Alborada</td>\n",
       "      <td>2015-07-27 08:36:32</td>\n",
       "      <td>2015-07-27 10:14:53</td>\n",
       "      <td>1:38</td>\n",
       "    </tr>\n",
       "    <tr>\n",
       "      <th>10</th>\n",
       "      <td>317</td>\n",
       "      <td>C41413</td>\n",
       "      <td>Central_to_Alborada</td>\n",
       "      <td>2015-07-27 09:16:39</td>\n",
       "      <td>2015-07-27 14:27:58</td>\n",
       "      <td>5:11</td>\n",
       "    </tr>\n",
       "    <tr>\n",
       "      <th>5</th>\n",
       "      <td>317</td>\n",
       "      <td>C41237</td>\n",
       "      <td>Central_to_Alborada</td>\n",
       "      <td>2015-07-27 10:01:49</td>\n",
       "      <td>2015-07-27 11:35:05</td>\n",
       "      <td>1:33</td>\n",
       "    </tr>\n",
       "    <tr>\n",
       "      <th>12</th>\n",
       "      <td>317</td>\n",
       "      <td>C41415</td>\n",
       "      <td>Central_to_Alborada</td>\n",
       "      <td>2015-07-27 10:30:51</td>\n",
       "      <td>2015-07-27 12:14:45</td>\n",
       "      <td>1:43</td>\n",
       "    </tr>\n",
       "    <tr>\n",
       "      <th>7</th>\n",
       "      <td>317</td>\n",
       "      <td>C41237</td>\n",
       "      <td>Central_to_Alborada</td>\n",
       "      <td>2015-07-27 13:38:48</td>\n",
       "      <td>2015-07-27 14:51:58</td>\n",
       "      <td>1:13</td>\n",
       "    </tr>\n",
       "    <tr>\n",
       "      <th>14</th>\n",
       "      <td>317</td>\n",
       "      <td>C41415</td>\n",
       "      <td>Central_to_Alborada</td>\n",
       "      <td>2015-07-27 14:03:02</td>\n",
       "      <td>2015-07-27 15:23:59</td>\n",
       "      <td>1:20</td>\n",
       "    </tr>\n",
       "    <tr>\n",
       "      <th>18</th>\n",
       "      <td>317</td>\n",
       "      <td>C41390</td>\n",
       "      <td>Central_to_Alborada</td>\n",
       "      <td>2015-07-27 17:15:31</td>\n",
       "      <td>2015-07-27 18:26:01</td>\n",
       "      <td>1:10</td>\n",
       "    </tr>\n",
       "    <tr>\n",
       "      <th>16</th>\n",
       "      <td>317</td>\n",
       "      <td>C41415</td>\n",
       "      <td>Central_to_Alborada</td>\n",
       "      <td>2015-07-27 17:21:01</td>\n",
       "      <td>2015-07-27 19:00:57</td>\n",
       "      <td>1:39</td>\n",
       "    </tr>\n",
       "    <tr>\n",
       "      <th>20</th>\n",
       "      <td>317</td>\n",
       "      <td>C41390</td>\n",
       "      <td>Central_to_Alborada</td>\n",
       "      <td>2015-07-27 21:56:06</td>\n",
       "      <td>2015-07-27 22:48:36</td>\n",
       "      <td>0:52</td>\n",
       "    </tr>\n",
       "  </tbody>\n",
       "</table>\n",
       "</div>"
      ],
      "text/plain": [
       "   Line  Bus_Id            Direction      Departure_Hour         Arrive_Hour  \\\n",
       "1   317  C41102  Central_to_Alborada 2015-07-27 05:22:38 2015-07-27 06:42:34   \n",
       "3   317  C41102  Central_to_Alborada 2015-07-27 08:36:32 2015-07-27 10:14:53   \n",
       "10  317  C41413  Central_to_Alborada 2015-07-27 09:16:39 2015-07-27 14:27:58   \n",
       "5   317  C41237  Central_to_Alborada 2015-07-27 10:01:49 2015-07-27 11:35:05   \n",
       "12  317  C41415  Central_to_Alborada 2015-07-27 10:30:51 2015-07-27 12:14:45   \n",
       "7   317  C41237  Central_to_Alborada 2015-07-27 13:38:48 2015-07-27 14:51:58   \n",
       "14  317  C41415  Central_to_Alborada 2015-07-27 14:03:02 2015-07-27 15:23:59   \n",
       "18  317  C41390  Central_to_Alborada 2015-07-27 17:15:31 2015-07-27 18:26:01   \n",
       "16  317  C41415  Central_to_Alborada 2015-07-27 17:21:01 2015-07-27 19:00:57   \n",
       "20  317  C41390  Central_to_Alborada 2015-07-27 21:56:06 2015-07-27 22:48:36   \n",
       "\n",
       "   Travel_Time  \n",
       "1         1:19  \n",
       "3         1:38  \n",
       "10        5:11  \n",
       "5         1:33  \n",
       "12        1:43  \n",
       "7         1:13  \n",
       "14        1:20  \n",
       "18        1:10  \n",
       "16        1:39  \n",
       "20        0:52  "
      ]
     },
     "execution_count": 30,
     "metadata": {},
     "output_type": "execute_result"
    }
   ],
   "source": [
    "central_Alborada_20150727 = travel_table_20150727[(travel_table_20150727['Direction'] == 'Central_to_Alborada')]\n",
    "central_Alborada_20150727_sorted = central_Alborada_20150727.sort([\"Departure_Hour\"])\n",
    "central_Alborada_20150727_sorted\n"
   ]
  },
  {
   "cell_type": "code",
   "execution_count": 33,
   "metadata": {
    "collapsed": false
   },
   "outputs": [
    {
     "data": {
      "text/html": [
       "<div>\n",
       "<table border=\"1\" class=\"dataframe\">\n",
       "  <thead>\n",
       "    <tr style=\"text-align: right;\">\n",
       "      <th></th>\n",
       "      <th>Line</th>\n",
       "      <th>Bus_Id</th>\n",
       "      <th>Direction</th>\n",
       "      <th>Departure_Hour</th>\n",
       "      <th>Arrive_Hour</th>\n",
       "      <th>Travel_Time</th>\n",
       "    </tr>\n",
       "  </thead>\n",
       "  <tbody>\n",
       "    <tr>\n",
       "      <th>2</th>\n",
       "      <td>317</td>\n",
       "      <td>C41406</td>\n",
       "      <td>Central_to_Alborada</td>\n",
       "      <td>2015-08-17 07:59:03</td>\n",
       "      <td>2015-08-17 09:27:51</td>\n",
       "      <td>1:28</td>\n",
       "    </tr>\n",
       "    <tr>\n",
       "      <th>14</th>\n",
       "      <td>317</td>\n",
       "      <td>C41408</td>\n",
       "      <td>Central_to_Alborada</td>\n",
       "      <td>2015-08-17 08:17:38</td>\n",
       "      <td>2015-08-17 09:53:20</td>\n",
       "      <td>1:35</td>\n",
       "    </tr>\n",
       "    <tr>\n",
       "      <th>8</th>\n",
       "      <td>317</td>\n",
       "      <td>C41401</td>\n",
       "      <td>Central_to_Alborada</td>\n",
       "      <td>2015-08-17 08:56:56</td>\n",
       "      <td>2015-08-17 10:30:07</td>\n",
       "      <td>1:33</td>\n",
       "    </tr>\n",
       "    <tr>\n",
       "      <th>16</th>\n",
       "      <td>317</td>\n",
       "      <td>C41408</td>\n",
       "      <td>Central_to_Alborada</td>\n",
       "      <td>2015-08-17 12:23:04</td>\n",
       "      <td>2015-08-17 13:41:06</td>\n",
       "      <td>1:18</td>\n",
       "    </tr>\n",
       "    <tr>\n",
       "      <th>1</th>\n",
       "      <td>317</td>\n",
       "      <td>C41405</td>\n",
       "      <td>Central_to_Alborada</td>\n",
       "      <td>2015-08-17 13:12:03</td>\n",
       "      <td>2015-08-17 14:20:17</td>\n",
       "      <td>1:08</td>\n",
       "    </tr>\n",
       "    <tr>\n",
       "      <th>10</th>\n",
       "      <td>317</td>\n",
       "      <td>C41401</td>\n",
       "      <td>Central_to_Alborada</td>\n",
       "      <td>2015-08-17 13:17:58</td>\n",
       "      <td>2015-08-17 14:43:21</td>\n",
       "      <td>1:25</td>\n",
       "    </tr>\n",
       "    <tr>\n",
       "      <th>4</th>\n",
       "      <td>317</td>\n",
       "      <td>C41406</td>\n",
       "      <td>Central_to_Alborada</td>\n",
       "      <td>2015-08-17 14:52:22</td>\n",
       "      <td>2015-08-17 16:37:11</td>\n",
       "      <td>1:44</td>\n",
       "    </tr>\n",
       "    <tr>\n",
       "      <th>18</th>\n",
       "      <td>317</td>\n",
       "      <td>C41408</td>\n",
       "      <td>Central_to_Alborada</td>\n",
       "      <td>2015-08-17 15:50:11</td>\n",
       "      <td>2015-08-17 17:38:19</td>\n",
       "      <td>1:48</td>\n",
       "    </tr>\n",
       "    <tr>\n",
       "      <th>12</th>\n",
       "      <td>317</td>\n",
       "      <td>C41401</td>\n",
       "      <td>Central_to_Alborada</td>\n",
       "      <td>2015-08-17 17:30:18</td>\n",
       "      <td>2015-08-17 19:32:13</td>\n",
       "      <td>2:01</td>\n",
       "    </tr>\n",
       "    <tr>\n",
       "      <th>6</th>\n",
       "      <td>317</td>\n",
       "      <td>C41406</td>\n",
       "      <td>Central_to_Alborada</td>\n",
       "      <td>2015-08-17 19:15:48</td>\n",
       "      <td>2015-08-17 20:59:13</td>\n",
       "      <td>1:43</td>\n",
       "    </tr>\n",
       "  </tbody>\n",
       "</table>\n",
       "</div>"
      ],
      "text/plain": [
       "   Line  Bus_Id            Direction      Departure_Hour         Arrive_Hour  \\\n",
       "2   317  C41406  Central_to_Alborada 2015-08-17 07:59:03 2015-08-17 09:27:51   \n",
       "14  317  C41408  Central_to_Alborada 2015-08-17 08:17:38 2015-08-17 09:53:20   \n",
       "8   317  C41401  Central_to_Alborada 2015-08-17 08:56:56 2015-08-17 10:30:07   \n",
       "16  317  C41408  Central_to_Alborada 2015-08-17 12:23:04 2015-08-17 13:41:06   \n",
       "1   317  C41405  Central_to_Alborada 2015-08-17 13:12:03 2015-08-17 14:20:17   \n",
       "10  317  C41401  Central_to_Alborada 2015-08-17 13:17:58 2015-08-17 14:43:21   \n",
       "4   317  C41406  Central_to_Alborada 2015-08-17 14:52:22 2015-08-17 16:37:11   \n",
       "18  317  C41408  Central_to_Alborada 2015-08-17 15:50:11 2015-08-17 17:38:19   \n",
       "12  317  C41401  Central_to_Alborada 2015-08-17 17:30:18 2015-08-17 19:32:13   \n",
       "6   317  C41406  Central_to_Alborada 2015-08-17 19:15:48 2015-08-17 20:59:13   \n",
       "\n",
       "   Travel_Time  \n",
       "2         1:28  \n",
       "14        1:35  \n",
       "8         1:33  \n",
       "16        1:18  \n",
       "1         1:08  \n",
       "10        1:25  \n",
       "4         1:44  \n",
       "18        1:48  \n",
       "12        2:01  \n",
       "6         1:43  "
      ]
     },
     "execution_count": 33,
     "metadata": {},
     "output_type": "execute_result"
    }
   ],
   "source": [
    "travel_table_20150817\n",
    "central_Alborada_20150817 = travel_table_20150817[(travel_table_20150817['Direction'] == 'Central_to_Alborada')]\n",
    "central_Alborada_20150817_sorted = central_Alborada_20150817.sort([\"Departure_Hour\"])\n",
    "central_Alborada_20150817_sorted"
   ]
  },
  {
   "cell_type": "code",
   "execution_count": 100,
   "metadata": {
    "collapsed": false
   },
   "outputs": [
    {
     "data": {
      "text/plain": [
       "{dtype('<M8[ns]'): ['Departure_Hour', 'Arrive_Hour'],\n",
       " dtype('O'): ['Line', 'Bus_Id', 'Direction', 'Travel_Time']}"
      ]
     },
     "execution_count": 100,
     "metadata": {},
     "output_type": "execute_result"
    }
   ],
   "source": [
    "#para saber el tipo de la columna 'Travel_Time'\n",
    "g = central_Alborada_20150727_sorted.columns.to_series().groupby(central_Alborada_20150727_sorted.dtypes).groups\n",
    "g"
   ]
  },
  {
   "cell_type": "code",
   "execution_count": 35,
   "metadata": {
    "collapsed": false
   },
   "outputs": [],
   "source": [
    "#para convertir la columna del travel_time en tipo int y poderlo graficar\n",
    "def create_df_int_traveltime(df):\n",
    "    array = []\n",
    "    for row in df.iterrows():\n",
    "        time_string = row[1]['Travel_Time']\n",
    "        split_array = time_string.split(':')\n",
    "        hour = int(split_array[0]) \n",
    "        minutes = int(split_array[1]) \n",
    "        seconds = int(\"00\")\n",
    "        #travel_time = datetime.time(hour, minutes, seconds)\n",
    "        travel_time = 60* hour + minutes\n",
    "        array.insert(len(array), [ row[1]['Line'], row[1]['Bus_Id'], row[1]['Departure_Hour'], travel_time ])\n",
    "    df_result = pd.DataFrame(array, columns=['Line', 'Bus_Id', 'Departure_Hour', 'Travel_Time'] )    \n",
    "    return df_result    \n",
    "        "
   ]
  },
  {
   "cell_type": "code",
   "execution_count": 36,
   "metadata": {
    "collapsed": false
   },
   "outputs": [
    {
     "data": {
      "text/html": [
       "<div>\n",
       "<table border=\"1\" class=\"dataframe\">\n",
       "  <thead>\n",
       "    <tr style=\"text-align: right;\">\n",
       "      <th></th>\n",
       "      <th>Line</th>\n",
       "      <th>Bus_Id</th>\n",
       "      <th>Departure_Hour</th>\n",
       "      <th>Travel_Time</th>\n",
       "    </tr>\n",
       "  </thead>\n",
       "  <tbody>\n",
       "    <tr>\n",
       "      <th>0</th>\n",
       "      <td>317</td>\n",
       "      <td>C41102</td>\n",
       "      <td>2015-07-27 05:22:38</td>\n",
       "      <td>79</td>\n",
       "    </tr>\n",
       "    <tr>\n",
       "      <th>1</th>\n",
       "      <td>317</td>\n",
       "      <td>C41102</td>\n",
       "      <td>2015-07-27 08:36:32</td>\n",
       "      <td>98</td>\n",
       "    </tr>\n",
       "    <tr>\n",
       "      <th>2</th>\n",
       "      <td>317</td>\n",
       "      <td>C41413</td>\n",
       "      <td>2015-07-27 09:16:39</td>\n",
       "      <td>311</td>\n",
       "    </tr>\n",
       "    <tr>\n",
       "      <th>3</th>\n",
       "      <td>317</td>\n",
       "      <td>C41237</td>\n",
       "      <td>2015-07-27 10:01:49</td>\n",
       "      <td>93</td>\n",
       "    </tr>\n",
       "    <tr>\n",
       "      <th>4</th>\n",
       "      <td>317</td>\n",
       "      <td>C41415</td>\n",
       "      <td>2015-07-27 10:30:51</td>\n",
       "      <td>103</td>\n",
       "    </tr>\n",
       "    <tr>\n",
       "      <th>5</th>\n",
       "      <td>317</td>\n",
       "      <td>C41237</td>\n",
       "      <td>2015-07-27 13:38:48</td>\n",
       "      <td>73</td>\n",
       "    </tr>\n",
       "    <tr>\n",
       "      <th>6</th>\n",
       "      <td>317</td>\n",
       "      <td>C41415</td>\n",
       "      <td>2015-07-27 14:03:02</td>\n",
       "      <td>80</td>\n",
       "    </tr>\n",
       "    <tr>\n",
       "      <th>7</th>\n",
       "      <td>317</td>\n",
       "      <td>C41390</td>\n",
       "      <td>2015-07-27 17:15:31</td>\n",
       "      <td>70</td>\n",
       "    </tr>\n",
       "    <tr>\n",
       "      <th>8</th>\n",
       "      <td>317</td>\n",
       "      <td>C41415</td>\n",
       "      <td>2015-07-27 17:21:01</td>\n",
       "      <td>99</td>\n",
       "    </tr>\n",
       "    <tr>\n",
       "      <th>9</th>\n",
       "      <td>317</td>\n",
       "      <td>C41390</td>\n",
       "      <td>2015-07-27 21:56:06</td>\n",
       "      <td>52</td>\n",
       "    </tr>\n",
       "  </tbody>\n",
       "</table>\n",
       "</div>"
      ],
      "text/plain": [
       "  Line  Bus_Id      Departure_Hour  Travel_Time\n",
       "0  317  C41102 2015-07-27 05:22:38           79\n",
       "1  317  C41102 2015-07-27 08:36:32           98\n",
       "2  317  C41413 2015-07-27 09:16:39          311\n",
       "3  317  C41237 2015-07-27 10:01:49           93\n",
       "4  317  C41415 2015-07-27 10:30:51          103\n",
       "5  317  C41237 2015-07-27 13:38:48           73\n",
       "6  317  C41415 2015-07-27 14:03:02           80\n",
       "7  317  C41390 2015-07-27 17:15:31           70\n",
       "8  317  C41415 2015-07-27 17:21:01           99\n",
       "9  317  C41390 2015-07-27 21:56:06           52"
      ]
     },
     "execution_count": 36,
     "metadata": {},
     "output_type": "execute_result"
    }
   ],
   "source": [
    "df_cent_Albo_20150727 = create_df_int_traveltime(central_Alborada_20150727_sorted)\n",
    "df_cent_Albo_20150727"
   ]
  },
  {
   "cell_type": "code",
   "execution_count": 37,
   "metadata": {
    "collapsed": false
   },
   "outputs": [
    {
     "data": {
      "text/html": [
       "<div>\n",
       "<table border=\"1\" class=\"dataframe\">\n",
       "  <thead>\n",
       "    <tr style=\"text-align: right;\">\n",
       "      <th></th>\n",
       "      <th>Line</th>\n",
       "      <th>Bus_Id</th>\n",
       "      <th>Departure_Hour</th>\n",
       "      <th>Travel_Time</th>\n",
       "    </tr>\n",
       "  </thead>\n",
       "  <tbody>\n",
       "    <tr>\n",
       "      <th>0</th>\n",
       "      <td>317</td>\n",
       "      <td>C41406</td>\n",
       "      <td>2015-08-17 07:59:03</td>\n",
       "      <td>88</td>\n",
       "    </tr>\n",
       "    <tr>\n",
       "      <th>1</th>\n",
       "      <td>317</td>\n",
       "      <td>C41408</td>\n",
       "      <td>2015-08-17 08:17:38</td>\n",
       "      <td>95</td>\n",
       "    </tr>\n",
       "    <tr>\n",
       "      <th>2</th>\n",
       "      <td>317</td>\n",
       "      <td>C41401</td>\n",
       "      <td>2015-08-17 08:56:56</td>\n",
       "      <td>93</td>\n",
       "    </tr>\n",
       "    <tr>\n",
       "      <th>3</th>\n",
       "      <td>317</td>\n",
       "      <td>C41408</td>\n",
       "      <td>2015-08-17 12:23:04</td>\n",
       "      <td>78</td>\n",
       "    </tr>\n",
       "    <tr>\n",
       "      <th>4</th>\n",
       "      <td>317</td>\n",
       "      <td>C41405</td>\n",
       "      <td>2015-08-17 13:12:03</td>\n",
       "      <td>68</td>\n",
       "    </tr>\n",
       "    <tr>\n",
       "      <th>5</th>\n",
       "      <td>317</td>\n",
       "      <td>C41401</td>\n",
       "      <td>2015-08-17 13:17:58</td>\n",
       "      <td>85</td>\n",
       "    </tr>\n",
       "    <tr>\n",
       "      <th>6</th>\n",
       "      <td>317</td>\n",
       "      <td>C41406</td>\n",
       "      <td>2015-08-17 14:52:22</td>\n",
       "      <td>104</td>\n",
       "    </tr>\n",
       "    <tr>\n",
       "      <th>7</th>\n",
       "      <td>317</td>\n",
       "      <td>C41408</td>\n",
       "      <td>2015-08-17 15:50:11</td>\n",
       "      <td>108</td>\n",
       "    </tr>\n",
       "    <tr>\n",
       "      <th>8</th>\n",
       "      <td>317</td>\n",
       "      <td>C41401</td>\n",
       "      <td>2015-08-17 17:30:18</td>\n",
       "      <td>121</td>\n",
       "    </tr>\n",
       "    <tr>\n",
       "      <th>9</th>\n",
       "      <td>317</td>\n",
       "      <td>C41406</td>\n",
       "      <td>2015-08-17 19:15:48</td>\n",
       "      <td>103</td>\n",
       "    </tr>\n",
       "  </tbody>\n",
       "</table>\n",
       "</div>"
      ],
      "text/plain": [
       "  Line  Bus_Id      Departure_Hour  Travel_Time\n",
       "0  317  C41406 2015-08-17 07:59:03           88\n",
       "1  317  C41408 2015-08-17 08:17:38           95\n",
       "2  317  C41401 2015-08-17 08:56:56           93\n",
       "3  317  C41408 2015-08-17 12:23:04           78\n",
       "4  317  C41405 2015-08-17 13:12:03           68\n",
       "5  317  C41401 2015-08-17 13:17:58           85\n",
       "6  317  C41406 2015-08-17 14:52:22          104\n",
       "7  317  C41408 2015-08-17 15:50:11          108\n",
       "8  317  C41401 2015-08-17 17:30:18          121\n",
       "9  317  C41406 2015-08-17 19:15:48          103"
      ]
     },
     "execution_count": 37,
     "metadata": {},
     "output_type": "execute_result"
    }
   ],
   "source": [
    "df_cent_Albo_20150817 = create_df_int_traveltime(central_Alborada_20150817_sorted)\n",
    "df_cent_Albo_20150817\n"
   ]
  },
  {
   "cell_type": "code",
   "execution_count": 42,
   "metadata": {
    "collapsed": false
   },
   "outputs": [
    {
     "data": {
      "text/html": [
       "<iframe id=\"igraph\" scrolling=\"no\" style=\"border:none;\"seamless=\"seamless\" src=\"https://plot.ly/~kllanes/7.embed\" height=\"525px\" width=\"100%\"></iframe>"
      ],
      "text/plain": [
       "<plotly.tools.PlotlyDisplay object>"
      ]
     },
     "execution_count": 42,
     "metadata": {},
     "output_type": "execute_result"
    }
   ],
   "source": [
    "#graficando hora de salida y tiempo de viaje para cada viaje del dia 27/07/2015 y 17/08/2015\n",
    "# Line, Bus_Id, Direction, Departure_Hour, Arrive_Hour, Travel_Time\n",
    "#travel_table_20150727\n",
    "#travel_table_20150817\n",
    "\n",
    "#eje_x_20150727 = central_Alborada_20150727_sorted['Departure_Hour']#.values.tolist()\n",
    "#eje_y_20150727 = df_cent_Albo_20150727['Travel_Time']#.values.tolist()\n",
    "\n",
    "\n",
    "#trace_20150727_317 = Scatter(x = eje_x_20150727, \n",
    "                             #y = eje_y_20150727)\n",
    "#data = Data([trace_20150727_317])\n",
    "#py.iplot(data, filename='pandas-time-series')\n",
    "\n",
    "\n",
    "\n",
    "eje_x_20150817 = central_Alborada_20150817_sorted['Departure_Hour']#.values.tolist()\n",
    "eje_y_20150817 = df_cent_Albo_20150817['Travel_Time']#.values.tolist()\n",
    "\n",
    "\n",
    "trace_20150817_317 = Scatter(x = eje_x_20150817, \n",
    "                             y = eje_y_20150817)\n",
    "data1 = Data([trace_20150817_317])\n",
    "py.iplot(data1, filename='pandas-time-series')\n",
    "\n",
    "\n",
    "\n",
    "#ploteando el vector distancia entre cada uno de los puntos del recorrido y el punto final Central\n",
    "#%matplotlib inline\n",
    "#plt.plot(sorted_vector_dist_to_final_point_C41405['distance'], color = 'g')\n",
    "\n",
    "#plt.show()"
   ]
  },
  {
   "cell_type": "code",
   "execution_count": 44,
   "metadata": {
    "collapsed": false
   },
   "outputs": [
    {
     "data": {
      "image/png": "[encoded data removed]",
      "text/plain": [
       "<matplotlib.figure.Figure at 0x7f5d79b45350>"
      ]
     },
     "metadata": {},
     "output_type": "display_data"
    }
   ],
   "source": [
    "#ploteando el vector distancia entre cada uno de los puntos del recorrido y el punto final Central\n",
    "%matplotlib inline\n",
    "eje_y_20150817 = df_cent_Albo_20150817['Travel_Time']\n",
    "eje_y_20150727 = df_cent_Albo_20150727['Travel_Time']\n",
    "plt.plot(eje_y_20150817, color = 'g')\n",
    "plt.plot(eje_y_20150727, color = 'r')\n",
    "\n",
    "plt.show()"
   ]
  },
  {
   "cell_type": "code",
   "execution_count": 67,
   "metadata": {
    "collapsed": false
   },
   "outputs": [],
   "source": [
    "#convirtiendo la columna timestamp en tipo datetime\n",
    "#set_of_times = sorted_dist_to_final_317_C41405['timestamp']\n",
    "set_of_times = sorted_vector_dist_to_final_point_C41405['timestamp']\n",
    "\n",
    "mytimestamp_list = []\n",
    "for i in range(0, len(sorted_vector_dist_to_final_point_C41405)-1):\n",
    "    #ddist = set_of_points[i+1]-set_of_points[i]\n",
    "\n",
    "    #time1 = datetime.datetime.strptime(set_of_times[i+1], \"%d-%m-%Y %H:%M:%S\")\n",
    "    time0 = datetime.datetime.strptime(set_of_times[i], \"%d-%m-%Y %H:%M:%S\")\n",
    "    #dtime = (time1-time0).total_seconds()/60\n",
    "    #gradient = ddist/dtime\n",
    "    mytimestamp_list.insert (len(mytimestamp_list), time0)\n",
    "#convertir la lista \"mytimestamp_list\" a dataframe\n",
    "df_mytimestamp_list = pd.DataFrame(mytimestamp_list, columns=['timestamp'])\n"
   ]
  },
  {
   "cell_type": "code",
   "execution_count": 69,
   "metadata": {
    "collapsed": false,
    "scrolled": true
   },
   "outputs": [
    {
     "data": {
      "image/png": "[encoded data removed]",
      "text/plain": [
       "<matplotlib.figure.Figure at 0x7f9c58d0c250>"
      ]
     },
     "metadata": {},
     "output_type": "display_data"
    }
   ],
   "source": [
    "\n",
    "#calcular el gradiente(pendiente) = 0 para saber los conjuntos de maximos y minimos\n",
    "set_of_points = sorted_vector_dist_to_final_point_C41405['distance']\n",
    "set_of_times = sorted_vector_dist_to_final_point_C41405['timestamp']\n",
    "\n",
    "gradient_list = []\n",
    "gradient_matrix = [] #matriz que tiene 4 columnas tiempo1, tiempo2,distancia1, distancia2, pendiente \n",
    "#con los que se calcula la pendiente\n",
    "for i in range(0, len(sorted_vector_dist_to_final_point_C41405)-2):\n",
    "    ddist = set_of_points[i+1]-set_of_points[i]\n",
    "\n",
    "    time1 = datetime.datetime.strptime(set_of_times[i+1], \"%d-%m-%Y %H:%M:%S\")\n",
    "    time0 = datetime.datetime.strptime(set_of_times[i], \"%d-%m-%Y %H:%M:%S\")\n",
    "    dtime = (time1-time0).total_seconds()/60\n",
    "    gradient = ddist/dtime\n",
    "    gradient_list.insert (len(gradient_list), gradient)\n",
    "    gradient_matrix.insert (len(gradient_matrix), [set_of_points[i], set_of_points[i+1],time0, time1, gradient ]) \n",
    "    df_gradient_matrix = pd.DataFrame(gradient_matrix, columns=['d1','d2','t1', 't2', 'pendiente'])\n",
    "\n",
    "%matplotlib inline\n",
    "\n",
    "plt.plot(gradient_list, color = 'r')\n",
    "\n",
    "plt.show()    \n"
   ]
  },
  {
   "cell_type": "code",
   "execution_count": 83,
   "metadata": {
    "collapsed": false
   },
   "outputs": [],
   "source": [
    "stop_df_gradient_matrix = df_gradient_matrix[(df_gradient_matrix[\"pendiente\"]==0)]\n",
    "stop_df_gradient_matrix\n",
    "df_gradient_matrix\n",
    "\n",
    "import xlsxwriter\n",
    "# Create a Pandas Excel writer using XlsxWriter as the engine.\n",
    "writer = pd.ExcelWriter('20150817_317_C41405.xlsx', engine='xlsxwriter')\n",
    "\n",
    "# Convert the dataframe to an XlsxWriter Excel object.\n",
    "df_gradient_matrix.to_excel(writer, sheet_name='Sheet1')\n",
    "\n",
    "# Close the Pandas Excel writer and output the Excel file.\n",
    "writer.save()\n",
    "\n",
    "\n",
    "\n"
   ]
  },
  {
   "cell_type": "code",
   "execution_count": 32,
   "metadata": {
    "collapsed": true
   },
   "outputs": [],
   "source": [
    "df_mytimestamp_list\n",
    "set_of_points = sorted_dist_to_final_317_C41405['distance']"
   ]
  },
  {
   "cell_type": "code",
   "execution_count": 30,
   "metadata": {
    "collapsed": false
   },
   "outputs": [
    {
     "data": {
      "text/html": [
       "\n",
       "        <iframe\n",
       "            width=\"425px\"\n",
       "            height=\"350px\"\n",
       "            src=\"http://maps.google.com/maps?q={0}+{1}&ie=UTF8&t=h&z=14&-22.9049,-43.1917&output=embed\"\n",
       "            frameborder=\"0\"\n",
       "            allowfullscreen\n",
       "        ></iframe>\n",
       "        "
      ],
      "text/plain": [
       "<IPython.lib.display.IFrame at 0x7f1804087350>"
      ]
     },
     "metadata": {},
     "output_type": "display_data"
    }
   ],
   "source": [
    "from IPython.display import IFrame\n",
    "from IPython.core.display import display\n",
    "# Google Maps URL template for an iframe\n",
    "google_maps_url = \"http://maps.google.com/maps?q={0}+{1}&\" + \\\n",
    "\"ie=UTF8&t=h&z={2}&{0},{1}&output=embed\".format(-22.9049,-43.1917,14)\n",
    "display(IFrame(google_maps_url, '425px', '350px'))\n"
   ]
  },
  {
   "cell_type": "code",
   "execution_count": null,
   "metadata": {
    "collapsed": true
   },
   "outputs": [],
   "source": []
  }
 ],
 "metadata": {
  "kernelspec": {
   "display_name": "Python 2",
   "language": "python",
   "name": "python2"
  },
  "language_info": {
   "codemirror_mode": {
    "name": "ipython",
    "version": 2
   },
   "file_extension": ".py",
   "mimetype": "text/x-python",
   "name": "python",
   "nbconvert_exporter": "python",
   "pygments_lexer": "ipython2",
   "version": "2.7.6"
  }
 },
 "nbformat": 4,
 "nbformat_minor": 0
}
